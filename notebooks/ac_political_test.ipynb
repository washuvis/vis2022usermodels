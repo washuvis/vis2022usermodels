{
 "cells": [
  {
   "cell_type": "code",
   "execution_count": null,
   "id": "3007e701",
   "metadata": {},
   "outputs": [],
   "source": [
    "import sys\n",
    "sys.path.append('../implementation/')\n",
    "from gotz_adaptive_contextualization import AC\n",
    "import pandas as pd\n",
    "import ast\n",
    "from tqdm import tqdm\n",
    "import matplotlib.pyplot as plt\n",
    "import numpy as np\n",
    "import warnings\n",
    "warnings.filterwarnings('ignore')"
   ]
  },
  {
   "cell_type": "code",
   "execution_count": null,
   "id": "0d052f2a",
   "metadata": {},
   "outputs": [],
   "source": [
    "underlying_data = pd.read_csv('../data/political/final/political.csv')\n",
    "clean_id = [s.replace(\"p\", \"\") for s in underlying_data['id']]\n",
    "clean_id = [int(s.lstrip('0')) - 1 for s in clean_id]\n",
    "underlying_data['id'] = clean_id\n",
    "underlying_data = underlying_data.set_index('id')\n",
    "underlying_data = underlying_data.sort_index()\n",
    "output_path = '../output/political/political_ac_mouse.pkl'\n",
    "\n",
    "interaction_data = pd.read_csv('../data/political/final/wall_political_interactions_mouse.csv')\n",
    "interaction_data['interaction_session'] = interaction_data.apply(lambda row: ast.literal_eval(row.interaction_session), axis=1)\n",
    "interaction_data['interaction_type'] = interaction_data.apply(lambda row: ast.literal_eval(row.interaction_type), axis=1)\n",
    "c_attrs = ['age', 'political_experience', 'policy_strength_ban_abortion_after_6_weeks', \n",
    "           'policy_strength_legalize_medical_marijuana', 'policy_strength_increase_medicare_funding',\n",
    "          'policy_strength_ban_alcohol_sales_sundays']\n",
    "d_attrs = ['party', 'gender', 'occupation']"
   ]
  },
  {
   "cell_type": "code",
   "execution_count": null,
   "id": "ffa5fdd2",
   "metadata": {},
   "outputs": [],
   "source": [
    "ac_results = pd.DataFrame()\n",
    "for participant_index, row in interaction_data.iterrows():\n",
    "    print(f'Processing user {row.user}')\n",
    "    results = {'participant_id': row.user}\n",
    "    ac_model = AC(underlying_data, c_attrs, d_attrs)\n",
    "    for i in tqdm(range(len(interaction_data.iloc[participant_index].interaction_session))):\n",
    "        interaction = interaction_data.iloc[participant_index].interaction_session[i]\n",
    "        ac_model.update(interaction)\n",
    "\n",
    "    bias = ac_model.get_attribute_bias()\n",
    "    for col in bias.columns:\n",
    "        results[f'bias-{col}'] = bias[col].to_numpy()\n",
    "    \n",
    "    ac_results = ac_results.append(results, ignore_index=True)\n",
    "    \n",
    "ac_results.to_pickle(output_path)"
   ]
  },
  {
   "cell_type": "code",
   "execution_count": null,
   "id": "df79aa02",
   "metadata": {},
   "outputs": [],
   "source": [
    "fig, axs = plt.subplots(6, 2, sharey=True, figsize=(20, 15))\n",
    "fig.tight_layout(pad=4)\n",
    "fig.suptitle('AC Bias Detection for Political Data', fontsize=20)\n",
    "fig.text(0.5, 0.03, 'Interactions Observed', ha='center')\n",
    "fig.text(0.03, 0.5, 'Bias', va='center', rotation='vertical')\n",
    "plt.rcParams.update({'axes.titlesize': 15, 'axes.labelsize': 15,\n",
    "                     'xtick.labelsize':12, 'xtick.labelsize':12})\n",
    "for (m,n), ax in np.ndenumerate(axs):\n",
    "    ax.set_ylim((0, 1.05))\n",
    "#     ax.set(xlabel='Interactions Observed', ylabel= 'Bias')\n",
    "#     ax.set_xlim(left=1)\n",
    "    ax.spines['right'].set_visible(False)\n",
    "    ax.spines['top'].set_visible(False)\n",
    "    ax.spines['left'].set_color('black')\n",
    "    ax.spines['bottom'].set_color('black')\n",
    "\n",
    "bias_metric_per_task = {'party': 'bias-party', 'gender': 'bias-gender', 'occupation':'bias-occupation',\n",
    "                       'age': 'bias-age_disc', 'political_experience': 'bias-political_experience_disc',\n",
    "                       'policy_strength_ban_abortion_after_6_weeks': 'bias-policy_strength_ban_abortion_after_6_weeks_disc',\n",
    "                       'policy_strength_legalize_medical_marijuana':'bias-policy_strength_legalize_medical_marijuana_disc',\n",
    "                        'policy_strength_increase_medicare_funding': 'bias-policy_strength_increase_medicare_funding_disc',\n",
    "                       'policy_strength_ban_alcohol_sales_sundays': 'bias-policy_strength_ban_alcohol_sales_sundays_disc'}\n",
    "\n",
    "columns = ['party', 'gender', 'occupation', 'age', 'political_experience', 'policy_strength_ban_abortion_after_6_weeks',\n",
    "                       'policy_strength_legalize_medical_marijuana', 'policy_strength_increase_medicare_funding',\n",
    "                       'policy_strength_ban_alcohol_sales_sundays']\n",
    "index_1 = 0\n",
    "index_2 = 0\n",
    "for index, row in ac_results.iterrows():\n",
    "    bias_over_time= pd.DataFrame()\n",
    "    for ai, attr in enumerate(columns):\n",
    "        temp_df = pd.DataFrame()\n",
    "        temp_df[row['participant_id']] = row[bias_metric_per_task[attr]]\n",
    "        bias_over_time = pd.concat([bias_over_time, temp_df], axis=1, ignore_index=True)\n",
    "    bias_over_time.columns = columns\n",
    "    bias_over_time.plot(ax=axs[index_1, index_2], title=f'Bias Detection for {row[\"participant_id\"]}', legend = 0)\n",
    "    if index != 11:\n",
    "        if (index_2 == 1):\n",
    "            index_2 = 0\n",
    "            index_1 += 1\n",
    "        else:\n",
    "            index_2 += 1\n",
    "    else:\n",
    "        handles, labels = axs[index_1, index_2].get_legend_handles_labels()\n",
    "        n_cols = round(len(columns)/2)\n",
    "        fig.legend(handles, labels, loc='lower center', ncol=n_cols, bbox_to_anchor=(0.5, -0.07))"
   ]
  },
  {
   "cell_type": "code",
   "execution_count": null,
   "id": "2b01d409",
   "metadata": {},
   "outputs": [],
   "source": []
  },
  {
   "cell_type": "code",
   "execution_count": null,
   "id": "217373f3",
   "metadata": {},
   "outputs": [],
   "source": []
  }
 ],
 "metadata": {
  "kernelspec": {
   "display_name": "Python 3",
   "language": "python",
   "name": "python3"
  },
  "language_info": {
   "codemirror_mode": {
    "name": "ipython",
    "version": 3
   },
   "file_extension": ".py",
   "mimetype": "text/x-python",
   "name": "python",
   "nbconvert_exporter": "python",
   "pygments_lexer": "ipython3",
   "version": "3.8.8"
  }
 },
 "nbformat": 4,
 "nbformat_minor": 5
}

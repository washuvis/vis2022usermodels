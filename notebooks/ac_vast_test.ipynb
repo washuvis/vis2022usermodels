{
 "cells": [
  {
   "cell_type": "code",
   "execution_count": null,
   "id": "770812e4",
   "metadata": {},
   "outputs": [],
   "source": [
    "import sys\n",
    "sys.path.append('../implementation/')\n",
    "from gotz_adaptive_contextualization import AC\n",
    "import pandas as pd\n",
    "import ast\n",
    "from tqdm import tqdm\n",
    "import matplotlib.pyplot as plt\n",
    "import numpy as np\n",
    "from util import flatten_list\n",
    "import warnings\n",
    "warnings.filterwarnings('ignore')"
   ]
  },
  {
   "cell_type": "code",
   "execution_count": null,
   "id": "137c5b7f",
   "metadata": {},
   "outputs": [],
   "source": [
    "# Loading the underlying data and user interaction data\n",
    "data_path = '../data/vast_2011_challenge/vast_data_sample_reduced.pkl'\n",
    "bookmarks_ui_data_path = '../data/vast_2011_challenge/bookmark_interactions_clean.pkl'\n",
    "hovers_ui_data_path = '../data/vast_2011_challenge/hover_interactions.pkl'\n",
    "hovers = False\n",
    "if hovers:\n",
    "    output_file_path = '../output/vast/vast_11_hovers_ac.pkl'\n",
    "    interaction_data = pd.read_pickle(hovers_ui_data_path)\n",
    "else:\n",
    "    output_file_path = '../output/vast/vast_11_ac.pkl'\n",
    "    interaction_data = pd.read_pickle(bookmarks_ui_data_path)\n",
    "    interaction_data = interaction_data[interaction_data['experimental_group'] == 'control']\n",
    "    interaction_data = interaction_data.reset_index(drop=True)\n",
    "\n",
    "underlying_data = pd.read_pickle(data_path)\n",
    "\n",
    "ks = [1, 5, 10, 20, 50, 100]\n",
    "d_attributes = ['topic']\n",
    "c_attributes = [['latitude', 'longitude']]"
   ]
  },
  {
   "cell_type": "code",
   "execution_count": null,
   "id": "fd082fdf",
   "metadata": {},
   "outputs": [],
   "source": [
    "ac_results = pd.DataFrame()\n",
    "for participant_index, row in interaction_data.iterrows():\n",
    "    print(f'Processing user {row.user} task {row.experimental_group}')\n",
    "    results = {'participant_id': row.user, 'task': row.experimental_group}\n",
    "    ac_model = AC(underlying_data, c_attributes, d_attributes)\n",
    "    for i in tqdm(range(len(interaction_data.iloc[participant_index].interaction_session))):\n",
    "        interaction = interaction_data.iloc[participant_index].interaction_session[i]\n",
    "        ac_model.update(interaction)\n",
    "\n",
    "    bias = ac_model.get_attribute_bias()\n",
    "    for col in bias.columns:\n",
    "        results[f'bias-{col}'] = bias[col].to_numpy()\n",
    "    if 'latitude_disc' in bias.columns:\n",
    "        results['bias-latitude___longitude'] = results['bias-latitude_disc'] * results['bias-longitude_disc']\n",
    "    \n",
    "    ac_results = ac_results.append(results, ignore_index=True)\n",
    "    \n",
    "ac_results.to_pickle(output_file_path)"
   ]
  }
 ],
 "metadata": {
  "kernelspec": {
   "display_name": "Python 3",
   "language": "python",
   "name": "python3"
  },
  "language_info": {
   "codemirror_mode": {
    "name": "ipython",
    "version": 3
   },
   "file_extension": ".py",
   "mimetype": "text/x-python",
   "name": "python",
   "nbconvert_exporter": "python",
   "pygments_lexer": "ipython3",
   "version": "3.8.8"
  }
 },
 "nbformat": 4,
 "nbformat_minor": 5
}

{
 "cells": [
  {
   "cell_type": "code",
   "execution_count": null,
   "id": "fba48467",
   "metadata": {},
   "outputs": [],
   "source": [
    "import sys\n",
    "sys.path.append('../implementation')\n",
    "import numpy as np\n",
    "import pandas as pd\n",
    "import ast\n",
    "from tqdm import tqdm\n",
    "import pandas as pd\n",
    "import numpy as np\n",
    "import matplotlib.pyplot as plt\n",
    "import scipy.special as sp\n",
    "import time\n",
    "from util import flatten_list\n",
    "from ottley_hidden_markov_model import HMM\n",
    "import warnings\n",
    "warnings.filterwarnings('ignore')"
   ]
  },
  {
   "cell_type": "markdown",
   "id": "32caed04",
   "metadata": {},
   "source": [
    "# STL"
   ]
  },
  {
   "cell_type": "code",
   "execution_count": null,
   "id": "1d1dbd3e",
   "metadata": {},
   "outputs": [],
   "source": [
    "data_path = '../output/ensembles/'\n",
    "interaction_data = pd.read_csv('../data/stl_crimes/stl_combined_interactions.csv')\n",
    "interaction_data['interaction_session'] = interaction_data.apply(lambda row: ast.literal_eval(row.interaction_session), axis=1)\n",
    "output_file_path = '../output/stl/stl_map_results_ensemble_bias.pkl'"
   ]
  },
  {
   "cell_type": "code",
   "execution_count": null,
   "id": "1659b93c",
   "metadata": {},
   "outputs": [],
   "source": [
    "ensemble_bias_results = pd.DataFrame()\n",
    "for participant_index, row in interaction_data.iterrows():\n",
    "    current_data_path = data_path + 'stl_bias/' + str(participant_index) + '.pkl'\n",
    "    print(current_data_path)\n",
    "    print(f'Processing user {row.user} task {row.task}')\n",
    "    results = {'participant_id': row.user, 'task': row.task}\n",
    "    user_data = pd.read_pickle(current_data_path)\n",
    "    attr_columns = user_data.columns\n",
    "    for col in attr_columns:\n",
    "        results[col] = user_data[col].values\n",
    "    ensemble_bias_results = ensemble_bias_results.append(results, ignore_index=True)\n",
    "ensemble_bias_results.to_pickle(output_file_path)"
   ]
  },
  {
   "cell_type": "code",
   "execution_count": null,
   "id": "98116ff5",
   "metadata": {},
   "outputs": [],
   "source": [
    "ensemble_bias_results"
   ]
  },
  {
   "cell_type": "markdown",
   "id": "88417caf",
   "metadata": {},
   "source": [
    "# Political Committee"
   ]
  },
  {
   "cell_type": "code",
   "execution_count": null,
   "id": "ebb1f6a1",
   "metadata": {},
   "outputs": [],
   "source": [
    "data_path = '../output/ensembles/'\n",
    "ui_data_path = '../data/political/final/wall_political_interactions.csv'\n",
    "interaction_data = pd.read_csv(ui_data_path)\n",
    "interaction_data['interaction_session'] = interaction_data.apply(lambda row: ast.literal_eval(row.interaction_session), axis=1)\n",
    "output_file_path = '../output/political/political_ensemble_bias.pkl'"
   ]
  },
  {
   "cell_type": "code",
   "execution_count": null,
   "id": "57284fec",
   "metadata": {},
   "outputs": [],
   "source": [
    "ensemble_bias_results = pd.DataFrame()\n",
    "for participant_index, row in interaction_data.iterrows():\n",
    "    current_data_path = data_path + 'political_bias/' + str(participant_index) + '.pkl'\n",
    "    print(f'Processing user {row.user}')\n",
    "    results = {'participant_id': row.user}\n",
    "    user_data = pd.read_pickle(current_data_path)\n",
    "    attr_columns = user_data.columns\n",
    "    for col in attr_columns:\n",
    "        results[col] = user_data[col].values\n",
    "    ensemble_bias_results = ensemble_bias_results.append(results, ignore_index=True)\n",
    "ensemble_bias_results.to_pickle(output_file_path)"
   ]
  },
  {
   "cell_type": "code",
   "execution_count": null,
   "id": "c8c7da60",
   "metadata": {},
   "outputs": [],
   "source": [
    "ensemble_bias_results"
   ]
  },
  {
   "cell_type": "code",
   "execution_count": null,
   "id": "536b4f93",
   "metadata": {},
   "outputs": [],
   "source": []
  }
 ],
 "metadata": {
  "kernelspec": {
   "display_name": "Python 3",
   "language": "python",
   "name": "python3"
  },
  "language_info": {
   "codemirror_mode": {
    "name": "ipython",
    "version": 3
   },
   "file_extension": ".py",
   "mimetype": "text/x-python",
   "name": "python",
   "nbconvert_exporter": "python",
   "pygments_lexer": "ipython3",
   "version": "3.8.8"
  }
 },
 "nbformat": 4,
 "nbformat_minor": 5
}

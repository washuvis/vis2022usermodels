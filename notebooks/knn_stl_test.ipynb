{
 "cells": [
  {
   "cell_type": "code",
   "execution_count": 1,
   "id": "5ac5809d",
   "metadata": {},
   "outputs": [],
   "source": [
    "import sys\n",
    "sys.path.append('../implementation/')\n",
    "import ast\n",
    "import numpy as np\n",
    "import pandas as pd\n",
    "import matplotlib.pyplot as plt\n",
    "import scipy.special as sp\n",
    "from tqdm import tqdm\n",
    "import time\n",
    "from weighted_k_nearest_neighbors import WeightedKNN\n",
    "import warnings\n",
    "warnings.filterwarnings('ignore')"
   ]
  },
  {
   "cell_type": "code",
   "execution_count": 2,
   "id": "2ab2c430",
   "metadata": {},
   "outputs": [],
   "source": [
    "# Loading the STL Crimes underlying data and user interaction data\n",
    "underlying_data = pd.read_csv('../data/stl_crimes/dots.csv')\n",
    "underlying_data.set_index('id', drop=True, inplace=True)\n",
    "output_file_path = '../output/stl/stl_map_results_knn_uniform_weight.pkl'\n",
    "\n",
    "ks = [1, 5, 10, 20, 50, 100]\n",
    "interaction_data = pd.read_csv('../data/stl_crimes/stl_combined_interactions.csv')\n",
    "interaction_data['interaction_session'] = interaction_data.apply(lambda row: ast.literal_eval(row.interaction_session), axis=1)\n",
    "interaction_data['interaction_type_session'] = interaction_data.apply(lambda row: ast.literal_eval(row.interaction_type_session), axis=1)"
   ]
  },
  {
   "cell_type": "code",
   "execution_count": 7,
   "id": "d8bf0646",
   "metadata": {},
   "outputs": [
    {
     "name": "stdout",
     "output_type": "stream",
     "text": [
      "Computing neighborhood matrix for x___y\n",
      "Computing neighborhood matrix for type\n"
     ]
    },
    {
     "name": "stderr",
     "output_type": "stream",
     "text": [
      "100%|██████████| 96/96 [00:01<00:00, 69.28it/s]"
     ]
    },
    {
     "name": "stdout",
     "output_type": "stream",
     "text": [
      "1      0.000000\n",
      "5      0.042105\n",
      "10     0.073684\n",
      "20     0.178947\n",
      "50     0.610526\n",
      "100    0.905263\n",
      "dtype: float64\n",
      "    x___y  type\n",
      "0     1.0   1.0\n",
      "1     1.0   1.0\n",
      "2     1.0   1.0\n",
      "3     1.0   1.0\n",
      "4     1.0   1.0\n",
      "..    ...   ...\n",
      "91    1.0   1.0\n",
      "92    1.0   1.0\n",
      "93    1.0   1.0\n",
      "94    1.0   1.0\n",
      "95    1.0   1.0\n",
      "\n",
      "[96 rows x 2 columns]\n"
     ]
    },
    {
     "name": "stderr",
     "output_type": "stream",
     "text": [
      "\n"
     ]
    }
   ],
   "source": [
    "# run for a single session\n",
    "interaction_index = 35\n",
    "\n",
    "model = WeightedKNN(underlying_data, [['x','y']], ['type'], k=20)\n",
    "predicted = pd.DataFrame()\n",
    "for i in tqdm(range(len(interaction_data.iloc[interaction_index].interaction_session))):\n",
    "    interaction = interaction_data.iloc[interaction_index].interaction_session[i]\n",
    "    model.update(interaction)\n",
    "    \n",
    "    if i < len(interaction_data.iloc[interaction_index].interaction_session) - 1:\n",
    "        probability_of_next_point = model.predict()\n",
    "        next_point = interaction_data.iloc[interaction_index].interaction_session[i+1]\n",
    "        predicted_next_dict = {}\n",
    "        for k in ks:\n",
    "            predicted_next_dict[k] = (next_point in probability_of_next_point.nlargest(k).index.values)\n",
    "        predicted = predicted.append(predicted_next_dict, ignore_index=True)\n",
    "\n",
    "# success rate for predicting next click in the top-k\n",
    "ncp = predicted.sum()/len(predicted)\n",
    "print(ncp)\n",
    "\n",
    "print(model.get_attribute_bias())"
   ]
  },
  {
   "cell_type": "code",
   "execution_count": null,
   "id": "7b0a1f78",
   "metadata": {},
   "outputs": [],
   "source": [
    "model.get_attribute_bias().plot()"
   ]
  },
  {
   "cell_type": "code",
   "execution_count": 3,
   "id": "320aee3f",
   "metadata": {},
   "outputs": [
    {
     "name": "stdout",
     "output_type": "stream",
     "text": [
      "Processing user 15 task geo-based\n",
      "Computing neighborhood matrix for x___y\n",
      "Computing neighborhood matrix for type\n"
     ]
    },
    {
     "name": "stderr",
     "output_type": "stream",
     "text": [
      "100%|██████████| 54/54 [00:01<00:00, 35.43it/s]\n"
     ]
    },
    {
     "name": "stdout",
     "output_type": "stream",
     "text": [
      "Processing user 14 task geo-based\n",
      "Computing neighborhood matrix for x___y\n",
      "Computing neighborhood matrix for type\n"
     ]
    },
    {
     "name": "stderr",
     "output_type": "stream",
     "text": [
      "100%|██████████| 46/46 [00:00<00:00, 46.86it/s]\n"
     ]
    },
    {
     "name": "stdout",
     "output_type": "stream",
     "text": [
      "Processing user 28 task geo-based\n",
      "Computing neighborhood matrix for x___y\n",
      "Computing neighborhood matrix for type\n"
     ]
    },
    {
     "name": "stderr",
     "output_type": "stream",
     "text": [
      "100%|██████████| 47/47 [00:00<00:00, 48.01it/s]\n"
     ]
    },
    {
     "name": "stdout",
     "output_type": "stream",
     "text": [
      "Processing user 16 task geo-based\n",
      "Computing neighborhood matrix for x___y\n",
      "Computing neighborhood matrix for type\n"
     ]
    },
    {
     "name": "stderr",
     "output_type": "stream",
     "text": [
      "100%|██████████| 44/44 [00:01<00:00, 41.19it/s]\n"
     ]
    },
    {
     "name": "stdout",
     "output_type": "stream",
     "text": [
      "Processing user 17 task geo-based\n",
      "Computing neighborhood matrix for x___y\n",
      "Computing neighborhood matrix for type\n"
     ]
    },
    {
     "name": "stderr",
     "output_type": "stream",
     "text": [
      "100%|██████████| 50/50 [00:01<00:00, 44.66it/s]\n"
     ]
    },
    {
     "name": "stdout",
     "output_type": "stream",
     "text": [
      "Processing user 13 task geo-based\n",
      "Computing neighborhood matrix for x___y\n",
      "Computing neighborhood matrix for type\n"
     ]
    },
    {
     "name": "stderr",
     "output_type": "stream",
     "text": [
      "100%|██████████| 31/31 [00:00<00:00, 43.85it/s]\n"
     ]
    },
    {
     "name": "stdout",
     "output_type": "stream",
     "text": [
      "Processing user 12 task geo-based\n",
      "Computing neighborhood matrix for x___y\n",
      "Computing neighborhood matrix for type\n"
     ]
    },
    {
     "name": "stderr",
     "output_type": "stream",
     "text": [
      "100%|██████████| 34/34 [00:00<00:00, 53.38it/s]\n"
     ]
    },
    {
     "name": "stdout",
     "output_type": "stream",
     "text": [
      "Processing user 10 task geo-based\n",
      "Computing neighborhood matrix for x___y\n",
      "Computing neighborhood matrix for type\n"
     ]
    },
    {
     "name": "stderr",
     "output_type": "stream",
     "text": [
      "100%|██████████| 34/34 [00:00<00:00, 41.15it/s]\n"
     ]
    },
    {
     "name": "stdout",
     "output_type": "stream",
     "text": [
      "Processing user 11 task geo-based\n",
      "Computing neighborhood matrix for x___y\n",
      "Computing neighborhood matrix for type\n"
     ]
    },
    {
     "name": "stderr",
     "output_type": "stream",
     "text": [
      "100%|██████████| 28/28 [00:00<00:00, 52.24it/s]\n"
     ]
    },
    {
     "name": "stdout",
     "output_type": "stream",
     "text": [
      "Processing user 9 task geo-based\n",
      "Computing neighborhood matrix for x___y\n",
      "Computing neighborhood matrix for type\n"
     ]
    },
    {
     "name": "stderr",
     "output_type": "stream",
     "text": [
      "100%|██████████| 29/29 [00:00<00:00, 41.40it/s]\n"
     ]
    },
    {
     "name": "stdout",
     "output_type": "stream",
     "text": [
      "Processing user 8 task geo-based\n",
      "Computing neighborhood matrix for x___y\n",
      "Computing neighborhood matrix for type\n"
     ]
    },
    {
     "name": "stderr",
     "output_type": "stream",
     "text": [
      "100%|██████████| 41/41 [00:00<00:00, 53.86it/s]\n"
     ]
    },
    {
     "name": "stdout",
     "output_type": "stream",
     "text": [
      "Processing user 5 task geo-based\n",
      "Computing neighborhood matrix for x___y\n",
      "Computing neighborhood matrix for type\n"
     ]
    },
    {
     "name": "stderr",
     "output_type": "stream",
     "text": [
      "100%|██████████| 22/22 [00:00<00:00, 56.06it/s]\n"
     ]
    },
    {
     "name": "stdout",
     "output_type": "stream",
     "text": [
      "Processing user 4 task geo-based\n",
      "Computing neighborhood matrix for x___y\n",
      "Computing neighborhood matrix for type\n"
     ]
    },
    {
     "name": "stderr",
     "output_type": "stream",
     "text": [
      "100%|██████████| 32/32 [00:00<00:00, 56.34it/s]\n"
     ]
    },
    {
     "name": "stdout",
     "output_type": "stream",
     "text": [
      "Processing user 6 task geo-based\n",
      "Computing neighborhood matrix for x___y\n",
      "Computing neighborhood matrix for type\n"
     ]
    },
    {
     "name": "stderr",
     "output_type": "stream",
     "text": [
      "100%|██████████| 31/31 [00:00<00:00, 47.37it/s]\n"
     ]
    },
    {
     "name": "stdout",
     "output_type": "stream",
     "text": [
      "Processing user 7 task geo-based\n",
      "Computing neighborhood matrix for x___y\n",
      "Computing neighborhood matrix for type\n"
     ]
    },
    {
     "name": "stderr",
     "output_type": "stream",
     "text": [
      "100%|██████████| 35/35 [00:00<00:00, 54.30it/s]\n"
     ]
    },
    {
     "name": "stdout",
     "output_type": "stream",
     "text": [
      "Processing user 3 task geo-based\n",
      "Computing neighborhood matrix for x___y\n",
      "Computing neighborhood matrix for type\n"
     ]
    },
    {
     "name": "stderr",
     "output_type": "stream",
     "text": [
      "100%|██████████| 32/32 [00:00<00:00, 49.55it/s]\n"
     ]
    },
    {
     "name": "stdout",
     "output_type": "stream",
     "text": [
      "Processing user 2 task geo-based\n",
      "Computing neighborhood matrix for x___y\n",
      "Computing neighborhood matrix for type\n"
     ]
    },
    {
     "name": "stderr",
     "output_type": "stream",
     "text": [
      "100%|██████████| 33/33 [00:00<00:00, 46.19it/s]\n"
     ]
    },
    {
     "name": "stdout",
     "output_type": "stream",
     "text": [
      "Processing user 1 task geo-based\n",
      "Computing neighborhood matrix for x___y\n",
      "Computing neighborhood matrix for type\n"
     ]
    },
    {
     "name": "stderr",
     "output_type": "stream",
     "text": [
      "100%|██████████| 28/28 [00:00<00:00, 47.30it/s]\n"
     ]
    },
    {
     "name": "stdout",
     "output_type": "stream",
     "text": [
      "Processing user 20 task geo-based\n",
      "Computing neighborhood matrix for x___y\n",
      "Computing neighborhood matrix for type\n"
     ]
    },
    {
     "name": "stderr",
     "output_type": "stream",
     "text": [
      "100%|██████████| 46/46 [00:01<00:00, 45.07it/s]\n"
     ]
    },
    {
     "name": "stdout",
     "output_type": "stream",
     "text": [
      "Processing user 21 task geo-based\n",
      "Computing neighborhood matrix for x___y\n",
      "Computing neighborhood matrix for type\n"
     ]
    },
    {
     "name": "stderr",
     "output_type": "stream",
     "text": [
      "100%|██████████| 50/50 [00:01<00:00, 42.65it/s]\n"
     ]
    },
    {
     "name": "stdout",
     "output_type": "stream",
     "text": [
      "Processing user 23 task geo-based\n",
      "Computing neighborhood matrix for x___y\n",
      "Computing neighborhood matrix for type\n"
     ]
    },
    {
     "name": "stderr",
     "output_type": "stream",
     "text": [
      "100%|██████████| 47/47 [00:01<00:00, 44.70it/s]\n"
     ]
    },
    {
     "name": "stdout",
     "output_type": "stream",
     "text": [
      "Processing user 22 task geo-based\n",
      "Computing neighborhood matrix for x___y\n",
      "Computing neighborhood matrix for type\n"
     ]
    },
    {
     "name": "stderr",
     "output_type": "stream",
     "text": [
      "100%|██████████| 49/49 [00:01<00:00, 43.11it/s]\n"
     ]
    },
    {
     "name": "stdout",
     "output_type": "stream",
     "text": [
      "Processing user 26 task geo-based\n",
      "Computing neighborhood matrix for x___y\n",
      "Computing neighborhood matrix for type\n"
     ]
    },
    {
     "name": "stderr",
     "output_type": "stream",
     "text": [
      "100%|██████████| 46/46 [00:01<00:00, 44.96it/s]\n"
     ]
    },
    {
     "name": "stdout",
     "output_type": "stream",
     "text": [
      "Processing user 27 task geo-based\n",
      "Computing neighborhood matrix for x___y\n",
      "Computing neighborhood matrix for type\n"
     ]
    },
    {
     "name": "stderr",
     "output_type": "stream",
     "text": [
      "100%|██████████| 46/46 [00:01<00:00, 34.41it/s]\n"
     ]
    },
    {
     "name": "stdout",
     "output_type": "stream",
     "text": [
      "Processing user 25 task geo-based\n",
      "Computing neighborhood matrix for x___y\n",
      "Computing neighborhood matrix for type\n"
     ]
    },
    {
     "name": "stderr",
     "output_type": "stream",
     "text": [
      "100%|██████████| 57/57 [00:01<00:00, 39.58it/s]\n"
     ]
    },
    {
     "name": "stdout",
     "output_type": "stream",
     "text": [
      "Processing user 19 task geo-based\n",
      "Computing neighborhood matrix for x___y\n",
      "Computing neighborhood matrix for type\n"
     ]
    },
    {
     "name": "stderr",
     "output_type": "stream",
     "text": [
      "100%|██████████| 47/47 [00:01<00:00, 39.00it/s]\n"
     ]
    },
    {
     "name": "stdout",
     "output_type": "stream",
     "text": [
      "Processing user 18 task geo-based\n",
      "Computing neighborhood matrix for x___y\n",
      "Computing neighborhood matrix for type\n"
     ]
    },
    {
     "name": "stderr",
     "output_type": "stream",
     "text": [
      "100%|██████████| 50/50 [00:01<00:00, 39.88it/s]\n"
     ]
    },
    {
     "name": "stdout",
     "output_type": "stream",
     "text": [
      "Processing user 24 task geo-based\n",
      "Computing neighborhood matrix for x___y\n",
      "Computing neighborhood matrix for type\n"
     ]
    },
    {
     "name": "stderr",
     "output_type": "stream",
     "text": [
      "100%|██████████| 48/48 [00:01<00:00, 39.82it/s]\n"
     ]
    },
    {
     "name": "stdout",
     "output_type": "stream",
     "text": [
      "Processing user 15 task mixed\n",
      "Computing neighborhood matrix for x___y\n",
      "Computing neighborhood matrix for type\n"
     ]
    },
    {
     "name": "stderr",
     "output_type": "stream",
     "text": [
      "100%|██████████| 34/34 [00:00<00:00, 39.30it/s]\n"
     ]
    },
    {
     "name": "stdout",
     "output_type": "stream",
     "text": [
      "Processing user 14 task mixed\n",
      "Computing neighborhood matrix for x___y\n",
      "Computing neighborhood matrix for type\n"
     ]
    },
    {
     "name": "stderr",
     "output_type": "stream",
     "text": [
      "100%|██████████| 39/39 [00:00<00:00, 57.28it/s]\n"
     ]
    },
    {
     "name": "stdout",
     "output_type": "stream",
     "text": [
      "Processing user 16 task mixed\n",
      "Computing neighborhood matrix for x___y\n",
      "Computing neighborhood matrix for type\n"
     ]
    },
    {
     "name": "stderr",
     "output_type": "stream",
     "text": [
      "100%|██████████| 38/38 [00:00<00:00, 45.29it/s]\n"
     ]
    },
    {
     "name": "stdout",
     "output_type": "stream",
     "text": [
      "Processing user 17 task mixed\n",
      "Computing neighborhood matrix for x___y\n",
      "Computing neighborhood matrix for type\n"
     ]
    },
    {
     "name": "stderr",
     "output_type": "stream",
     "text": [
      "100%|██████████| 35/35 [00:00<00:00, 58.65it/s]\n"
     ]
    },
    {
     "name": "stdout",
     "output_type": "stream",
     "text": [
      "Processing user 13 task mixed\n",
      "Computing neighborhood matrix for x___y\n",
      "Computing neighborhood matrix for type\n"
     ]
    },
    {
     "name": "stderr",
     "output_type": "stream",
     "text": [
      "100%|██████████| 57/57 [00:00<00:00, 62.84it/s]\n"
     ]
    },
    {
     "name": "stdout",
     "output_type": "stream",
     "text": [
      "Processing user 12 task mixed\n",
      "Computing neighborhood matrix for x___y\n",
      "Computing neighborhood matrix for type\n"
     ]
    },
    {
     "name": "stderr",
     "output_type": "stream",
     "text": [
      "100%|██████████| 121/121 [00:02<00:00, 60.26it/s]\n"
     ]
    },
    {
     "name": "stdout",
     "output_type": "stream",
     "text": [
      "Processing user 10 task mixed\n",
      "Computing neighborhood matrix for x___y\n",
      "Computing neighborhood matrix for type\n"
     ]
    },
    {
     "name": "stderr",
     "output_type": "stream",
     "text": [
      "100%|██████████| 99/99 [00:01<00:00, 57.79it/s]\n"
     ]
    },
    {
     "name": "stdout",
     "output_type": "stream",
     "text": [
      "Processing user 11 task mixed\n",
      "Computing neighborhood matrix for x___y\n",
      "Computing neighborhood matrix for type\n"
     ]
    },
    {
     "name": "stderr",
     "output_type": "stream",
     "text": [
      "100%|██████████| 96/96 [00:01<00:00, 62.51it/s]\n"
     ]
    },
    {
     "name": "stdout",
     "output_type": "stream",
     "text": [
      "Processing user 9 task mixed\n",
      "Computing neighborhood matrix for x___y\n",
      "Computing neighborhood matrix for type\n"
     ]
    },
    {
     "name": "stderr",
     "output_type": "stream",
     "text": [
      "100%|██████████| 89/89 [00:01<00:00, 55.59it/s]\n"
     ]
    },
    {
     "name": "stdout",
     "output_type": "stream",
     "text": [
      "Processing user 8 task mixed\n",
      "Computing neighborhood matrix for x___y\n",
      "Computing neighborhood matrix for type\n"
     ]
    },
    {
     "name": "stderr",
     "output_type": "stream",
     "text": [
      "100%|██████████| 94/94 [00:01<00:00, 61.73it/s]\n"
     ]
    },
    {
     "name": "stdout",
     "output_type": "stream",
     "text": [
      "Processing user 5 task mixed\n",
      "Computing neighborhood matrix for x___y\n",
      "Computing neighborhood matrix for type\n"
     ]
    },
    {
     "name": "stderr",
     "output_type": "stream",
     "text": [
      "100%|██████████| 101/101 [00:01<00:00, 55.03it/s]\n"
     ]
    },
    {
     "name": "stdout",
     "output_type": "stream",
     "text": [
      "Processing user 4 task mixed\n",
      "Computing neighborhood matrix for x___y\n",
      "Computing neighborhood matrix for type\n"
     ]
    },
    {
     "name": "stderr",
     "output_type": "stream",
     "text": [
      "100%|██████████| 118/118 [00:01<00:00, 62.11it/s]\n"
     ]
    },
    {
     "name": "stdout",
     "output_type": "stream",
     "text": [
      "Processing user 6 task mixed\n",
      "Computing neighborhood matrix for x___y\n",
      "Computing neighborhood matrix for type\n"
     ]
    },
    {
     "name": "stderr",
     "output_type": "stream",
     "text": [
      "100%|██████████| 99/99 [00:01<00:00, 56.36it/s]\n"
     ]
    },
    {
     "name": "stdout",
     "output_type": "stream",
     "text": [
      "Processing user 7 task mixed\n",
      "Computing neighborhood matrix for x___y\n",
      "Computing neighborhood matrix for type\n"
     ]
    },
    {
     "name": "stderr",
     "output_type": "stream",
     "text": [
      "100%|██████████| 108/108 [00:01<00:00, 61.64it/s]\n"
     ]
    },
    {
     "name": "stdout",
     "output_type": "stream",
     "text": [
      "Processing user 3 task mixed\n",
      "Computing neighborhood matrix for x___y\n",
      "Computing neighborhood matrix for type\n"
     ]
    },
    {
     "name": "stderr",
     "output_type": "stream",
     "text": [
      "100%|██████████| 87/87 [00:01<00:00, 61.88it/s]\n"
     ]
    },
    {
     "name": "stdout",
     "output_type": "stream",
     "text": [
      "Processing user 2 task mixed\n",
      "Computing neighborhood matrix for x___y\n",
      "Computing neighborhood matrix for type\n"
     ]
    },
    {
     "name": "stderr",
     "output_type": "stream",
     "text": [
      "100%|██████████| 90/90 [00:01<00:00, 61.55it/s]\n"
     ]
    },
    {
     "name": "stdout",
     "output_type": "stream",
     "text": [
      "Processing user 1 task mixed\n",
      "Computing neighborhood matrix for x___y\n",
      "Computing neighborhood matrix for type\n"
     ]
    },
    {
     "name": "stderr",
     "output_type": "stream",
     "text": [
      "100%|██████████| 75/75 [00:01<00:00, 61.90it/s]\n"
     ]
    },
    {
     "name": "stdout",
     "output_type": "stream",
     "text": [
      "Processing user 20 task mixed\n",
      "Computing neighborhood matrix for x___y\n",
      "Computing neighborhood matrix for type\n"
     ]
    },
    {
     "name": "stderr",
     "output_type": "stream",
     "text": [
      "100%|██████████| 47/47 [00:00<00:00, 62.31it/s]\n"
     ]
    },
    {
     "name": "stdout",
     "output_type": "stream",
     "text": [
      "Processing user 21 task mixed\n",
      "Computing neighborhood matrix for x___y\n",
      "Computing neighborhood matrix for type\n"
     ]
    },
    {
     "name": "stderr",
     "output_type": "stream",
     "text": [
      "100%|██████████| 43/43 [00:00<00:00, 51.01it/s]\n"
     ]
    },
    {
     "name": "stdout",
     "output_type": "stream",
     "text": [
      "Processing user 23 task mixed\n",
      "Computing neighborhood matrix for x___y\n",
      "Computing neighborhood matrix for type\n"
     ]
    },
    {
     "name": "stderr",
     "output_type": "stream",
     "text": [
      "100%|██████████| 17/17 [00:00<00:00, 62.62it/s]\n"
     ]
    },
    {
     "name": "stdout",
     "output_type": "stream",
     "text": [
      "Processing user 22 task mixed\n",
      "Computing neighborhood matrix for x___y\n",
      "Computing neighborhood matrix for type\n"
     ]
    },
    {
     "name": "stderr",
     "output_type": "stream",
     "text": [
      "100%|██████████| 37/37 [00:00<00:00, 60.40it/s]\n"
     ]
    },
    {
     "name": "stdout",
     "output_type": "stream",
     "text": [
      "Processing user 26 task mixed\n",
      "Computing neighborhood matrix for x___y\n",
      "Computing neighborhood matrix for type\n"
     ]
    },
    {
     "name": "stderr",
     "output_type": "stream",
     "text": [
      "100%|██████████| 38/38 [00:00<00:00, 62.33it/s]\n"
     ]
    },
    {
     "name": "stdout",
     "output_type": "stream",
     "text": [
      "Processing user 27 task mixed\n",
      "Computing neighborhood matrix for x___y\n",
      "Computing neighborhood matrix for type\n"
     ]
    },
    {
     "name": "stderr",
     "output_type": "stream",
     "text": [
      "100%|██████████| 43/43 [00:00<00:00, 62.04it/s]\n"
     ]
    },
    {
     "name": "stdout",
     "output_type": "stream",
     "text": [
      "Processing user 25 task mixed\n",
      "Computing neighborhood matrix for x___y\n",
      "Computing neighborhood matrix for type\n"
     ]
    },
    {
     "name": "stderr",
     "output_type": "stream",
     "text": [
      "100%|██████████| 39/39 [00:00<00:00, 59.97it/s]\n"
     ]
    },
    {
     "name": "stdout",
     "output_type": "stream",
     "text": [
      "Processing user 19 task mixed\n",
      "Computing neighborhood matrix for x___y\n",
      "Computing neighborhood matrix for type\n"
     ]
    },
    {
     "name": "stderr",
     "output_type": "stream",
     "text": [
      "100%|██████████| 38/38 [00:00<00:00, 62.43it/s]\n"
     ]
    },
    {
     "name": "stdout",
     "output_type": "stream",
     "text": [
      "Processing user 18 task mixed\n",
      "Computing neighborhood matrix for x___y\n",
      "Computing neighborhood matrix for type\n"
     ]
    },
    {
     "name": "stderr",
     "output_type": "stream",
     "text": [
      "100%|██████████| 40/40 [00:00<00:00, 42.80it/s]\n"
     ]
    },
    {
     "name": "stdout",
     "output_type": "stream",
     "text": [
      "Processing user 24 task mixed\n",
      "Computing neighborhood matrix for x___y\n",
      "Computing neighborhood matrix for type\n"
     ]
    },
    {
     "name": "stderr",
     "output_type": "stream",
     "text": [
      "100%|██████████| 48/48 [00:00<00:00, 57.29it/s]\n"
     ]
    },
    {
     "name": "stdout",
     "output_type": "stream",
     "text": [
      "Processing user 15 task type-based\n",
      "Computing neighborhood matrix for x___y\n",
      "Computing neighborhood matrix for type\n"
     ]
    },
    {
     "name": "stderr",
     "output_type": "stream",
     "text": [
      "100%|██████████| 10/10 [00:00<00:00, 49.59it/s]\n"
     ]
    },
    {
     "name": "stdout",
     "output_type": "stream",
     "text": [
      "Processing user 14 task type-based\n",
      "Computing neighborhood matrix for x___y\n",
      "Computing neighborhood matrix for type\n"
     ]
    },
    {
     "name": "stderr",
     "output_type": "stream",
     "text": [
      "100%|██████████| 6/6 [00:00<00:00, 61.25it/s]\n"
     ]
    },
    {
     "name": "stdout",
     "output_type": "stream",
     "text": [
      "Processing user 16 task type-based\n",
      "Computing neighborhood matrix for x___y\n",
      "Computing neighborhood matrix for type\n"
     ]
    },
    {
     "name": "stderr",
     "output_type": "stream",
     "text": [
      "100%|██████████| 19/19 [00:00<00:00, 56.90it/s]\n"
     ]
    },
    {
     "name": "stdout",
     "output_type": "stream",
     "text": [
      "Processing user 17 task type-based\n",
      "Computing neighborhood matrix for x___y\n",
      "Computing neighborhood matrix for type\n"
     ]
    },
    {
     "name": "stderr",
     "output_type": "stream",
     "text": [
      "100%|██████████| 11/11 [00:00<00:00, 63.85it/s]\n"
     ]
    },
    {
     "name": "stdout",
     "output_type": "stream",
     "text": [
      "Processing user 13 task type-based\n",
      "Computing neighborhood matrix for x___y\n",
      "Computing neighborhood matrix for type\n"
     ]
    },
    {
     "name": "stderr",
     "output_type": "stream",
     "text": [
      "100%|██████████| 14/14 [00:00<00:00, 64.17it/s]\n"
     ]
    },
    {
     "name": "stdout",
     "output_type": "stream",
     "text": [
      "Processing user 12 task type-based\n",
      "Computing neighborhood matrix for x___y\n",
      "Computing neighborhood matrix for type\n"
     ]
    },
    {
     "name": "stderr",
     "output_type": "stream",
     "text": [
      "100%|██████████| 11/11 [00:00<00:00, 62.29it/s]\n"
     ]
    },
    {
     "name": "stdout",
     "output_type": "stream",
     "text": [
      "Processing user 10 task type-based\n",
      "Computing neighborhood matrix for x___y\n",
      "Computing neighborhood matrix for type\n"
     ]
    },
    {
     "name": "stderr",
     "output_type": "stream",
     "text": [
      "100%|██████████| 11/11 [00:00<00:00, 63.46it/s]\n"
     ]
    },
    {
     "name": "stdout",
     "output_type": "stream",
     "text": [
      "Processing user 11 task type-based\n",
      "Computing neighborhood matrix for x___y\n",
      "Computing neighborhood matrix for type\n"
     ]
    },
    {
     "name": "stderr",
     "output_type": "stream",
     "text": [
      "100%|██████████| 5/5 [00:00<00:00, 66.09it/s]\n"
     ]
    },
    {
     "name": "stdout",
     "output_type": "stream",
     "text": [
      "Processing user 9 task type-based\n",
      "Computing neighborhood matrix for x___y\n",
      "Computing neighborhood matrix for type\n"
     ]
    },
    {
     "name": "stderr",
     "output_type": "stream",
     "text": [
      "100%|██████████| 8/8 [00:00<00:00, 64.47it/s]\n"
     ]
    },
    {
     "name": "stdout",
     "output_type": "stream",
     "text": [
      "Processing user 8 task type-based\n",
      "Computing neighborhood matrix for x___y\n",
      "Computing neighborhood matrix for type\n"
     ]
    },
    {
     "name": "stderr",
     "output_type": "stream",
     "text": [
      "100%|██████████| 8/8 [00:00<00:00, 67.45it/s]\n"
     ]
    },
    {
     "name": "stdout",
     "output_type": "stream",
     "text": [
      "Processing user 5 task type-based\n",
      "Computing neighborhood matrix for x___y\n",
      "Computing neighborhood matrix for type\n"
     ]
    },
    {
     "name": "stderr",
     "output_type": "stream",
     "text": [
      "100%|██████████| 8/8 [00:00<00:00, 67.21it/s]\n"
     ]
    },
    {
     "name": "stdout",
     "output_type": "stream",
     "text": [
      "Processing user 4 task type-based\n",
      "Computing neighborhood matrix for x___y\n",
      "Computing neighborhood matrix for type\n"
     ]
    },
    {
     "name": "stderr",
     "output_type": "stream",
     "text": [
      "100%|██████████| 6/6 [00:00<00:00, 66.48it/s]\n"
     ]
    },
    {
     "name": "stdout",
     "output_type": "stream",
     "text": [
      "Processing user 6 task type-based\n",
      "Computing neighborhood matrix for x___y\n",
      "Computing neighborhood matrix for type\n"
     ]
    },
    {
     "name": "stderr",
     "output_type": "stream",
     "text": [
      "100%|██████████| 12/12 [00:00<00:00, 65.34it/s]\n"
     ]
    },
    {
     "name": "stdout",
     "output_type": "stream",
     "text": [
      "Processing user 7 task type-based\n",
      "Computing neighborhood matrix for x___y\n",
      "Computing neighborhood matrix for type\n"
     ]
    },
    {
     "name": "stderr",
     "output_type": "stream",
     "text": [
      "100%|██████████| 6/6 [00:00<00:00, 66.23it/s]\n"
     ]
    },
    {
     "name": "stdout",
     "output_type": "stream",
     "text": [
      "Processing user 3 task type-based\n",
      "Computing neighborhood matrix for x___y\n",
      "Computing neighborhood matrix for type\n"
     ]
    },
    {
     "name": "stderr",
     "output_type": "stream",
     "text": [
      "100%|██████████| 8/8 [00:00<00:00, 51.97it/s]\n"
     ]
    },
    {
     "name": "stdout",
     "output_type": "stream",
     "text": [
      "Processing user 2 task type-based\n",
      "Computing neighborhood matrix for x___y\n",
      "Computing neighborhood matrix for type\n"
     ]
    },
    {
     "name": "stderr",
     "output_type": "stream",
     "text": [
      "100%|██████████| 12/12 [00:00<00:00, 62.03it/s]\n"
     ]
    },
    {
     "name": "stdout",
     "output_type": "stream",
     "text": [
      "Processing user 1 task type-based\n",
      "Computing neighborhood matrix for x___y\n",
      "Computing neighborhood matrix for type\n"
     ]
    },
    {
     "name": "stderr",
     "output_type": "stream",
     "text": [
      "100%|██████████| 6/6 [00:00<00:00, 66.81it/s]\n"
     ]
    },
    {
     "name": "stdout",
     "output_type": "stream",
     "text": [
      "Processing user 20 task type-based\n",
      "Computing neighborhood matrix for x___y\n",
      "Computing neighborhood matrix for type\n"
     ]
    },
    {
     "name": "stderr",
     "output_type": "stream",
     "text": [
      "100%|██████████| 13/13 [00:00<00:00, 63.78it/s]\n"
     ]
    },
    {
     "name": "stdout",
     "output_type": "stream",
     "text": [
      "Processing user 21 task type-based\n",
      "Computing neighborhood matrix for x___y\n",
      "Computing neighborhood matrix for type\n"
     ]
    },
    {
     "name": "stderr",
     "output_type": "stream",
     "text": [
      "100%|██████████| 13/13 [00:00<00:00, 63.85it/s]\n"
     ]
    },
    {
     "name": "stdout",
     "output_type": "stream",
     "text": [
      "Processing user 23 task type-based\n",
      "Computing neighborhood matrix for x___y\n",
      "Computing neighborhood matrix for type\n"
     ]
    },
    {
     "name": "stderr",
     "output_type": "stream",
     "text": [
      "100%|██████████| 16/16 [00:00<00:00, 61.18it/s]\n"
     ]
    },
    {
     "name": "stdout",
     "output_type": "stream",
     "text": [
      "Processing user 22 task type-based\n",
      "Computing neighborhood matrix for x___y\n",
      "Computing neighborhood matrix for type\n"
     ]
    },
    {
     "name": "stderr",
     "output_type": "stream",
     "text": [
      "100%|██████████| 21/21 [00:00<00:00, 59.37it/s]\n"
     ]
    },
    {
     "name": "stdout",
     "output_type": "stream",
     "text": [
      "Processing user 19 task type-based\n",
      "Computing neighborhood matrix for x___y\n",
      "Computing neighborhood matrix for type\n"
     ]
    },
    {
     "name": "stderr",
     "output_type": "stream",
     "text": [
      "100%|██████████| 11/11 [00:00<00:00, 61.23it/s]\n"
     ]
    },
    {
     "name": "stdout",
     "output_type": "stream",
     "text": [
      "Processing user 18 task type-based\n",
      "Computing neighborhood matrix for x___y\n",
      "Computing neighborhood matrix for type\n"
     ]
    },
    {
     "name": "stderr",
     "output_type": "stream",
     "text": [
      "100%|██████████| 12/12 [00:00<00:00, 54.40it/s]\n"
     ]
    }
   ],
   "source": [
    "stl_map_results = pd.DataFrame()\n",
    "\n",
    "for participant_index, row in interaction_data.iterrows():\n",
    "    print(f'Processing user {row.user} task {row.task}')\n",
    "    results = {'participant_id': row.user, 'task': row.task}\n",
    "    knn_model = WeightedKNN(underlying_data, [['x', 'y']], ['type'])\n",
    "    predicted = pd.DataFrame()\n",
    "    rank_predicted = []\n",
    "\n",
    "    for i in tqdm(range(len(interaction_data.iloc[participant_index].interaction_session))):\n",
    "        interaction = interaction_data.iloc[participant_index].interaction_session[i]\n",
    "        knn_model.update(interaction)\n",
    "\n",
    "        if i < len(interaction_data.iloc[participant_index].interaction_session) - 1:\n",
    "            probability_of_next_point = knn_model.predict()\n",
    "            next_point = interaction_data.iloc[participant_index].interaction_session[i+1]\n",
    "            predicted_next_dict = {}\n",
    "            for k in ks:\n",
    "                predicted_next_dict[k] = (next_point in probability_of_next_point.nlargest(k).index.values)\n",
    "            predicted = predicted.append(predicted_next_dict, ignore_index=True)\n",
    "            sorted_prob = probability_of_next_point.sort_values(ascending=False)\n",
    "            rank, = np.where(sorted_prob.index.values == next_point)\n",
    "            rank_predicted.append(rank[0] + 1)\n",
    "            \n",
    "    ncp = predicted.sum()/len(predicted)\n",
    "    \n",
    "    results['rank'] = rank_predicted\n",
    "    \n",
    "    for col in ncp.index:\n",
    "        results[f'ncp-{col}'] = ncp[col]\n",
    "        \n",
    "    bias = knn_model.get_attribute_bias()\n",
    "    for col in bias.columns:\n",
    "        results[f'bias-{col}'] = bias[col].to_numpy()\n",
    "    results['bias-mixed'] = results['bias-x___y'] * results['bias-type']\n",
    "        \n",
    "    stl_map_results = stl_map_results.append(results, ignore_index=True)\n",
    "    \n",
    "stl_map_results.to_pickle(output_file_path)"
   ]
  },
  {
   "cell_type": "code",
   "execution_count": 15,
   "id": "f2cee373",
   "metadata": {},
   "outputs": [
    {
     "data": {
      "text/html": [
       "<div>\n",
       "<style scoped>\n",
       "    .dataframe tbody tr th:only-of-type {\n",
       "        vertical-align: middle;\n",
       "    }\n",
       "\n",
       "    .dataframe tbody tr th {\n",
       "        vertical-align: top;\n",
       "    }\n",
       "\n",
       "    .dataframe thead th {\n",
       "        text-align: right;\n",
       "    }\n",
       "</style>\n",
       "<table border=\"1\" class=\"dataframe\">\n",
       "  <thead>\n",
       "    <tr style=\"text-align: right;\">\n",
       "      <th></th>\n",
       "      <th>participant_id</th>\n",
       "      <th>task</th>\n",
       "      <th>rank</th>\n",
       "      <th>ncp-1</th>\n",
       "      <th>ncp-5</th>\n",
       "      <th>ncp-10</th>\n",
       "      <th>ncp-20</th>\n",
       "      <th>ncp-50</th>\n",
       "      <th>ncp-100</th>\n",
       "      <th>bias-x___y</th>\n",
       "      <th>bias-type</th>\n",
       "      <th>bias-mixed</th>\n",
       "    </tr>\n",
       "  </thead>\n",
       "  <tbody>\n",
       "    <tr>\n",
       "      <th>0</th>\n",
       "      <td>15</td>\n",
       "      <td>geo-based</td>\n",
       "      <td>[32, 0, 2, 30, 7, 15, 17, 16, 15, 14, 15, 19, ...</td>\n",
       "      <td>0.037736</td>\n",
       "      <td>0.075472</td>\n",
       "      <td>0.113208</td>\n",
       "      <td>0.264151</td>\n",
       "      <td>0.584906</td>\n",
       "      <td>0.735849</td>\n",
       "      <td>[1.0, 1.0, 1.0, 1.0, 1.0, 1.0, 1.0, 1.0, 1.0, ...</td>\n",
       "      <td>[1.0, 1.0, 1.0, 1.0, 1.0, 1.0, 1.0, 1.0, 1.0, ...</td>\n",
       "      <td>[1.0, 1.0, 1.0, 1.0, 1.0, 1.0, 1.0, 1.0, 1.0, ...</td>\n",
       "    </tr>\n",
       "    <tr>\n",
       "      <th>1</th>\n",
       "      <td>14</td>\n",
       "      <td>geo-based</td>\n",
       "      <td>[1736, 1839, 40, 4, 1, 1, 55, 58, 64, 29, 33, ...</td>\n",
       "      <td>0.066667</td>\n",
       "      <td>0.066667</td>\n",
       "      <td>0.133333</td>\n",
       "      <td>0.266667</td>\n",
       "      <td>0.577778</td>\n",
       "      <td>0.755556</td>\n",
       "      <td>[1.0, 1.0, 1.0, 1.0, 1.0, 1.0, 1.0, 1.0, 1.0, ...</td>\n",
       "      <td>[1.0, 1.0, 1.0, 1.0, 1.0, 1.0, 1.0, 1.0, 1.0, ...</td>\n",
       "      <td>[1.0, 1.0, 1.0, 1.0, 1.0, 1.0, 1.0, 1.0, 1.0, ...</td>\n",
       "    </tr>\n",
       "    <tr>\n",
       "      <th>2</th>\n",
       "      <td>28</td>\n",
       "      <td>geo-based</td>\n",
       "      <td>[32, 0, 2, 22, 1, 7, 19, 24, 42, 45, 26, 29, 3...</td>\n",
       "      <td>0.021739</td>\n",
       "      <td>0.086957</td>\n",
       "      <td>0.130435</td>\n",
       "      <td>0.282609</td>\n",
       "      <td>0.717391</td>\n",
       "      <td>0.847826</td>\n",
       "      <td>[1.0, 1.0, 1.0, 1.0, 1.0, 1.0, 1.0, 1.0, 1.0, ...</td>\n",
       "      <td>[1.0, 1.0, 1.0, 1.0, 1.0, 1.0, 1.0, 1.0, 1.0, ...</td>\n",
       "      <td>[1.0, 1.0, 1.0, 1.0, 1.0, 1.0, 1.0, 1.0, 1.0, ...</td>\n",
       "    </tr>\n",
       "    <tr>\n",
       "      <th>3</th>\n",
       "      <td>16</td>\n",
       "      <td>geo-based</td>\n",
       "      <td>[9, 47, 10, 2, 16, 13, 23, 30, 25, 35, 50, 37,...</td>\n",
       "      <td>0.000000</td>\n",
       "      <td>0.046512</td>\n",
       "      <td>0.093023</td>\n",
       "      <td>0.139535</td>\n",
       "      <td>0.627907</td>\n",
       "      <td>0.790698</td>\n",
       "      <td>[1.0, 1.0, 1.0, 1.0, 1.0, 1.0, 1.0, 1.0, 1.0, ...</td>\n",
       "      <td>[1.0, 1.0, 1.0, 1.0, 1.0, 1.0, 1.0, 1.0, 1.0, ...</td>\n",
       "      <td>[1.0, 1.0, 1.0, 1.0, 1.0, 1.0, 1.0, 1.0, 1.0, ...</td>\n",
       "    </tr>\n",
       "    <tr>\n",
       "      <th>4</th>\n",
       "      <td>17</td>\n",
       "      <td>geo-based</td>\n",
       "      <td>[32, 0, 34, 2, 4, 12, 25, 49, 57, 63, 62, 17, ...</td>\n",
       "      <td>0.020408</td>\n",
       "      <td>0.081633</td>\n",
       "      <td>0.204082</td>\n",
       "      <td>0.346939</td>\n",
       "      <td>0.551020</td>\n",
       "      <td>0.795918</td>\n",
       "      <td>[1.0, 1.0, 1.0, 1.0, 1.0, 1.0, 1.0, 1.0, 1.0, ...</td>\n",
       "      <td>[1.0, 1.0, 1.0, 1.0, 1.0, 1.0, 1.0, 1.0, 1.0, ...</td>\n",
       "      <td>[1.0, 1.0, 1.0, 1.0, 1.0, 1.0, 1.0, 1.0, 1.0, ...</td>\n",
       "    </tr>\n",
       "    <tr>\n",
       "      <th>...</th>\n",
       "      <td>...</td>\n",
       "      <td>...</td>\n",
       "      <td>...</td>\n",
       "      <td>...</td>\n",
       "      <td>...</td>\n",
       "      <td>...</td>\n",
       "      <td>...</td>\n",
       "      <td>...</td>\n",
       "      <td>...</td>\n",
       "      <td>...</td>\n",
       "      <td>...</td>\n",
       "      <td>...</td>\n",
       "    </tr>\n",
       "    <tr>\n",
       "      <th>73</th>\n",
       "      <td>21</td>\n",
       "      <td>type-based</td>\n",
       "      <td>[7, 5, 4, 8, 0, 0, 3, 4, 6, 3, 8, 6]</td>\n",
       "      <td>0.083333</td>\n",
       "      <td>0.500000</td>\n",
       "      <td>0.916667</td>\n",
       "      <td>0.916667</td>\n",
       "      <td>1.000000</td>\n",
       "      <td>1.000000</td>\n",
       "      <td>[1.0, 1.0, 1.0, 1.0, 1.0, 1.0, 1.0, 1.0, 1.0, ...</td>\n",
       "      <td>[1.0, 1.0, 1.0, 1.0, 1.0, 1.0, 1.0, 1.0, 1.0, ...</td>\n",
       "      <td>[1.0, 1.0, 1.0, 1.0, 1.0, 1.0, 1.0, 1.0, 1.0, ...</td>\n",
       "    </tr>\n",
       "    <tr>\n",
       "      <th>74</th>\n",
       "      <td>23</td>\n",
       "      <td>type-based</td>\n",
       "      <td>[7, 8, 3, 8, 0, 0, 1, 3, 2, 4, 7, 4, 6, 19, 20]</td>\n",
       "      <td>0.133333</td>\n",
       "      <td>0.533333</td>\n",
       "      <td>0.733333</td>\n",
       "      <td>0.866667</td>\n",
       "      <td>1.000000</td>\n",
       "      <td>1.000000</td>\n",
       "      <td>[1.0, 1.0, 1.0, 1.0, 1.0, 1.0, 1.0, 1.0, 1.0, ...</td>\n",
       "      <td>[1.0, 1.0, 1.0, 1.0, 1.0, 1.0, 1.0, 1.0, 1.0, ...</td>\n",
       "      <td>[1.0, 1.0, 1.0, 1.0, 1.0, 1.0, 1.0, 1.0, 1.0, ...</td>\n",
       "    </tr>\n",
       "    <tr>\n",
       "      <th>75</th>\n",
       "      <td>22</td>\n",
       "      <td>type-based</td>\n",
       "      <td>[0, 17, 12, 0, 1, 0, 6, 8, 7, 8, 5, 1, 10, 5, ...</td>\n",
       "      <td>0.250000</td>\n",
       "      <td>0.450000</td>\n",
       "      <td>0.650000</td>\n",
       "      <td>0.950000</td>\n",
       "      <td>1.000000</td>\n",
       "      <td>1.000000</td>\n",
       "      <td>[1.0, 1.0, 1.0, 1.0, 1.0, 1.0, 1.0, 1.0, 1.0, ...</td>\n",
       "      <td>[1.0, 1.0, 1.0, 1.0, 1.0, 1.0, 1.0, 1.0, 1.0, ...</td>\n",
       "      <td>[1.0, 1.0, 1.0, 1.0, 1.0, 1.0, 1.0, 1.0, 1.0, ...</td>\n",
       "    </tr>\n",
       "    <tr>\n",
       "      <th>76</th>\n",
       "      <td>19</td>\n",
       "      <td>type-based</td>\n",
       "      <td>[1, 0, 3, 8, 11, 5, 10, 8, 6, 3]</td>\n",
       "      <td>0.100000</td>\n",
       "      <td>0.500000</td>\n",
       "      <td>0.900000</td>\n",
       "      <td>1.000000</td>\n",
       "      <td>1.000000</td>\n",
       "      <td>1.000000</td>\n",
       "      <td>[1.0, 1.0, 1.0, 1.0, 1.0, 1.0, 1.0, 1.0, 1.0, ...</td>\n",
       "      <td>[1.0, 1.0, 1.0, 1.0, 1.0, 1.0, 1.0, 1.0, 1.0, ...</td>\n",
       "      <td>[1.0, 1.0, 1.0, 1.0, 1.0, 1.0, 1.0, 1.0, 1.0, ...</td>\n",
       "    </tr>\n",
       "    <tr>\n",
       "      <th>77</th>\n",
       "      <td>18</td>\n",
       "      <td>type-based</td>\n",
       "      <td>[58, 3, 1, 8, 6, 2, 0, 0, 1, 3, 7]</td>\n",
       "      <td>0.181818</td>\n",
       "      <td>0.636364</td>\n",
       "      <td>0.818182</td>\n",
       "      <td>0.909091</td>\n",
       "      <td>1.000000</td>\n",
       "      <td>1.000000</td>\n",
       "      <td>[1.0, 1.0, 1.0, 1.0, 1.0, 1.0, 1.0, 1.0, 1.0, ...</td>\n",
       "      <td>[1.0, 1.0, 1.0, 1.0, 1.0, 1.0, 1.0, 1.0, 1.0, ...</td>\n",
       "      <td>[1.0, 1.0, 1.0, 1.0, 1.0, 1.0, 1.0, 1.0, 1.0, ...</td>\n",
       "    </tr>\n",
       "  </tbody>\n",
       "</table>\n",
       "<p>78 rows × 12 columns</p>\n",
       "</div>"
      ],
      "text/plain": [
       "    participant_id        task  \\\n",
       "0               15   geo-based   \n",
       "1               14   geo-based   \n",
       "2               28   geo-based   \n",
       "3               16   geo-based   \n",
       "4               17   geo-based   \n",
       "..             ...         ...   \n",
       "73              21  type-based   \n",
       "74              23  type-based   \n",
       "75              22  type-based   \n",
       "76              19  type-based   \n",
       "77              18  type-based   \n",
       "\n",
       "                                                 rank     ncp-1     ncp-5  \\\n",
       "0   [32, 0, 2, 30, 7, 15, 17, 16, 15, 14, 15, 19, ...  0.037736  0.075472   \n",
       "1   [1736, 1839, 40, 4, 1, 1, 55, 58, 64, 29, 33, ...  0.066667  0.066667   \n",
       "2   [32, 0, 2, 22, 1, 7, 19, 24, 42, 45, 26, 29, 3...  0.021739  0.086957   \n",
       "3   [9, 47, 10, 2, 16, 13, 23, 30, 25, 35, 50, 37,...  0.000000  0.046512   \n",
       "4   [32, 0, 34, 2, 4, 12, 25, 49, 57, 63, 62, 17, ...  0.020408  0.081633   \n",
       "..                                                ...       ...       ...   \n",
       "73               [7, 5, 4, 8, 0, 0, 3, 4, 6, 3, 8, 6]  0.083333  0.500000   \n",
       "74    [7, 8, 3, 8, 0, 0, 1, 3, 2, 4, 7, 4, 6, 19, 20]  0.133333  0.533333   \n",
       "75  [0, 17, 12, 0, 1, 0, 6, 8, 7, 8, 5, 1, 10, 5, ...  0.250000  0.450000   \n",
       "76                   [1, 0, 3, 8, 11, 5, 10, 8, 6, 3]  0.100000  0.500000   \n",
       "77                 [58, 3, 1, 8, 6, 2, 0, 0, 1, 3, 7]  0.181818  0.636364   \n",
       "\n",
       "      ncp-10    ncp-20    ncp-50   ncp-100  \\\n",
       "0   0.113208  0.264151  0.584906  0.735849   \n",
       "1   0.133333  0.266667  0.577778  0.755556   \n",
       "2   0.130435  0.282609  0.717391  0.847826   \n",
       "3   0.093023  0.139535  0.627907  0.790698   \n",
       "4   0.204082  0.346939  0.551020  0.795918   \n",
       "..       ...       ...       ...       ...   \n",
       "73  0.916667  0.916667  1.000000  1.000000   \n",
       "74  0.733333  0.866667  1.000000  1.000000   \n",
       "75  0.650000  0.950000  1.000000  1.000000   \n",
       "76  0.900000  1.000000  1.000000  1.000000   \n",
       "77  0.818182  0.909091  1.000000  1.000000   \n",
       "\n",
       "                                           bias-x___y  \\\n",
       "0   [1.0, 1.0, 1.0, 1.0, 1.0, 1.0, 1.0, 1.0, 1.0, ...   \n",
       "1   [1.0, 1.0, 1.0, 1.0, 1.0, 1.0, 1.0, 1.0, 1.0, ...   \n",
       "2   [1.0, 1.0, 1.0, 1.0, 1.0, 1.0, 1.0, 1.0, 1.0, ...   \n",
       "3   [1.0, 1.0, 1.0, 1.0, 1.0, 1.0, 1.0, 1.0, 1.0, ...   \n",
       "4   [1.0, 1.0, 1.0, 1.0, 1.0, 1.0, 1.0, 1.0, 1.0, ...   \n",
       "..                                                ...   \n",
       "73  [1.0, 1.0, 1.0, 1.0, 1.0, 1.0, 1.0, 1.0, 1.0, ...   \n",
       "74  [1.0, 1.0, 1.0, 1.0, 1.0, 1.0, 1.0, 1.0, 1.0, ...   \n",
       "75  [1.0, 1.0, 1.0, 1.0, 1.0, 1.0, 1.0, 1.0, 1.0, ...   \n",
       "76  [1.0, 1.0, 1.0, 1.0, 1.0, 1.0, 1.0, 1.0, 1.0, ...   \n",
       "77  [1.0, 1.0, 1.0, 1.0, 1.0, 1.0, 1.0, 1.0, 1.0, ...   \n",
       "\n",
       "                                            bias-type  \\\n",
       "0   [1.0, 1.0, 1.0, 1.0, 1.0, 1.0, 1.0, 1.0, 1.0, ...   \n",
       "1   [1.0, 1.0, 1.0, 1.0, 1.0, 1.0, 1.0, 1.0, 1.0, ...   \n",
       "2   [1.0, 1.0, 1.0, 1.0, 1.0, 1.0, 1.0, 1.0, 1.0, ...   \n",
       "3   [1.0, 1.0, 1.0, 1.0, 1.0, 1.0, 1.0, 1.0, 1.0, ...   \n",
       "4   [1.0, 1.0, 1.0, 1.0, 1.0, 1.0, 1.0, 1.0, 1.0, ...   \n",
       "..                                                ...   \n",
       "73  [1.0, 1.0, 1.0, 1.0, 1.0, 1.0, 1.0, 1.0, 1.0, ...   \n",
       "74  [1.0, 1.0, 1.0, 1.0, 1.0, 1.0, 1.0, 1.0, 1.0, ...   \n",
       "75  [1.0, 1.0, 1.0, 1.0, 1.0, 1.0, 1.0, 1.0, 1.0, ...   \n",
       "76  [1.0, 1.0, 1.0, 1.0, 1.0, 1.0, 1.0, 1.0, 1.0, ...   \n",
       "77  [1.0, 1.0, 1.0, 1.0, 1.0, 1.0, 1.0, 1.0, 1.0, ...   \n",
       "\n",
       "                                           bias-mixed  \n",
       "0   [1.0, 1.0, 1.0, 1.0, 1.0, 1.0, 1.0, 1.0, 1.0, ...  \n",
       "1   [1.0, 1.0, 1.0, 1.0, 1.0, 1.0, 1.0, 1.0, 1.0, ...  \n",
       "2   [1.0, 1.0, 1.0, 1.0, 1.0, 1.0, 1.0, 1.0, 1.0, ...  \n",
       "3   [1.0, 1.0, 1.0, 1.0, 1.0, 1.0, 1.0, 1.0, 1.0, ...  \n",
       "4   [1.0, 1.0, 1.0, 1.0, 1.0, 1.0, 1.0, 1.0, 1.0, ...  \n",
       "..                                                ...  \n",
       "73  [1.0, 1.0, 1.0, 1.0, 1.0, 1.0, 1.0, 1.0, 1.0, ...  \n",
       "74  [1.0, 1.0, 1.0, 1.0, 1.0, 1.0, 1.0, 1.0, 1.0, ...  \n",
       "75  [1.0, 1.0, 1.0, 1.0, 1.0, 1.0, 1.0, 1.0, 1.0, ...  \n",
       "76  [1.0, 1.0, 1.0, 1.0, 1.0, 1.0, 1.0, 1.0, 1.0, ...  \n",
       "77  [1.0, 1.0, 1.0, 1.0, 1.0, 1.0, 1.0, 1.0, 1.0, ...  \n",
       "\n",
       "[78 rows x 12 columns]"
      ]
     },
     "execution_count": 15,
     "metadata": {},
     "output_type": "execute_result"
    }
   ],
   "source": [
    "stl_map_results"
   ]
  },
  {
   "cell_type": "code",
   "execution_count": null,
   "id": "0a149d83",
   "metadata": {},
   "outputs": [],
   "source": [
    "fig, axs = plt.subplots(1, 3, sharey=True, figsize=(4*6.4, 4.8))\n",
    "plt.rcParams.update({'axes.titlesize': 15, 'axes.labelsize': 15, 'xtick.labelsize':12, 'xtick.labelsize':12})\n",
    "for ax in axs:\n",
    "    ax.spines['right'].set_visible(False)\n",
    "    ax.spines['top'].set_visible(False)\n",
    "    ax.spines['left'].set_color('black')\n",
    "    ax.spines['bottom'].set_color('black')\n",
    "    ax.set(xlabel='Interactions Observed', ylabel='Avg. Bias')\n",
    "    ax.set_ylim((0, 1.05))\n",
    "#    ax.set_xlim((2, 15))\n",
    "\n",
    "bias_metric_per_task_knn = {'geo-based': 'bias-x___y', 'type-based': 'bias-type', 'mixed': 'bias-mixed'}\n",
    "for ai, t in enumerate(['geo-based', 'type-based', 'mixed']):\n",
    "    bias_over_time_knn = pd.DataFrame()\n",
    "    for i, row in stl_map_results[stl_map_results.task == t].iterrows():\n",
    "        temp_df = pd.DataFrame()\n",
    "        temp_df[row['participant_id']] = row[bias_metric_per_task_knn[t]]\n",
    "        bias_over_time_knn = pd.concat([bias_over_time_knn, temp_df], axis=1, ignore_index=True)\n",
    "    sems_knn = bias_over_time_knn.std(axis=1) / np.sqrt(bias_over_time_knn.count(axis=1))\n",
    "    mean_knn = bias_over_time_knn.mean(axis=1)\n",
    "    mean_knn.plot(ax=axs[ai], title=f'Aggregate Bias Detection for {t} Task', label='KNN', color='#1F77B4')\n",
    "    axs[ai].fill_between(list(range(len(mean_knn))), mean_knn-2*sems_knn,mean_knn+2*sems_knn, color='#1F77B4', alpha=0.3, zorder=100)\n",
    "    axs[0].legend()"
   ]
  },
  {
   "cell_type": "code",
   "execution_count": null,
   "id": "1a1bc023",
   "metadata": {},
   "outputs": [],
   "source": []
  }
 ],
 "metadata": {
  "kernelspec": {
   "display_name": "Python 3",
   "language": "python",
   "name": "python3"
  },
  "language_info": {
   "codemirror_mode": {
    "name": "ipython",
    "version": 3
   },
   "file_extension": ".py",
   "mimetype": "text/x-python",
   "name": "python",
   "nbconvert_exporter": "python",
   "pygments_lexer": "ipython3",
   "version": "3.8.8"
  }
 },
 "nbformat": 4,
 "nbformat_minor": 5
}

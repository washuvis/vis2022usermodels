{
 "cells": [
  {
   "cell_type": "code",
   "execution_count": null,
   "id": "40253c7b",
   "metadata": {},
   "outputs": [],
   "source": [
    "import sys\n",
    "sys.path.append('../implementation/')\n",
    "import ast\n",
    "import pandas as pd\n",
    "import matplotlib.pyplot as plt\n",
    "import scipy.special as sp\n",
    "from tqdm import tqdm\n",
    "import time\n",
    "from monadjemi_competing_models import CompetingModels\n",
    "import numpy as np\n",
    "import warnings\n",
    "warnings.filterwarnings('ignore')"
   ]
  },
  {
   "cell_type": "code",
   "execution_count": null,
   "id": "3d18ee1d",
   "metadata": {},
   "outputs": [],
   "source": [
    "underlying_data = pd.read_csv('../data/political/final/political.csv')\n",
    "clean_id = [s.replace(\"p\", \"\") for s in underlying_data['id']]\n",
    "clean_id = [int(s.lstrip('0')) - 1 for s in clean_id]\n",
    "underlying_data['id'] = clean_id\n",
    "underlying_data = underlying_data.set_index('id')\n",
    "underlying_data = underlying_data.sort_index()\n",
    "output_file_path = '../output/political/political_cm.pkl'\n",
    "\n",
    "interaction_data = pd.read_csv('../data/political/final/wall_political_interactions.csv')\n",
    "interaction_data['interaction_session'] = interaction_data.apply(lambda row: ast.literal_eval(row.interaction_session), axis=1)\n",
    "interaction_data['interaction_type'] = interaction_data.apply(lambda row: ast.literal_eval(row.interaction_type), axis=1)\n",
    "c_attrs = ['age', 'political_experience', 'policy_strength_ban_abortion_after_6_weeks', \n",
    "           'policy_strength_legalize_medical_marijuana', 'policy_strength_increase_medicare_funding',\n",
    "          'policy_strength_ban_alcohol_sales_sundays']\n",
    "d_attrs = ['party', 'gender', 'occupation']\n",
    "ks = [1, 5, 10, 20, 50, 100]"
   ]
  },
  {
   "cell_type": "code",
   "execution_count": null,
   "id": "c254aee6",
   "metadata": {},
   "outputs": [],
   "source": [
    "cm_results = pd.DataFrame()\n",
    "for participant_index, row in interaction_data.iterrows():\n",
    "    print(f'Processing user {row.user}')\n",
    "    results = {'participant_id': row.user}\n",
    "    competing_models = CompetingModels(underlying_data, ['age', 'political_experience', 'policy_strength_ban_abortion_after_6_weeks', \n",
    "           'policy_strength_legalize_medical_marijuana', 'policy_strength_increase_medicare_funding',\n",
    "          'policy_strength_ban_alcohol_sales_sundays'], ['party', 'gender', 'occupation'])\n",
    "    predicted = pd.DataFrame()\n",
    "    rank_predicted = []\n",
    "\n",
    "    for i in tqdm(range(len(interaction_data.iloc[participant_index].interaction_session))):\n",
    "        interaction = interaction_data.iloc[participant_index].interaction_session[i]\n",
    "        competing_models.update(interaction)\n",
    "\n",
    "        if i < len(interaction_data.iloc[participant_index].interaction_session) - 1:\n",
    "            probability_of_next_point = competing_models.predict()\n",
    "            next_point = interaction_data.iloc[participant_index].interaction_session[i+1]\n",
    "            predicted_next_dict = {}\n",
    "            for k in ks:\n",
    "                predicted_next_dict[k] = (next_point in probability_of_next_point.nlargest(k).index.values)\n",
    "            predicted = predicted.append(predicted_next_dict, ignore_index=True)\n",
    "            sorted_prob = probability_of_next_point.sort_values(ascending=False)\n",
    "            rank, = numpy.where(sorted_prob.index.values == next_point)\n",
    "            rank_predicted.append(rank[0] + 1)\n",
    "            \n",
    "    ncp = predicted.sum()/len(predicted)\n",
    "    results['rank'] = rank_predicted\n",
    "\n",
    "    for col in ncp.index:\n",
    "        results[f'ncp-{col}'] = ncp[col]\n",
    "        \n",
    "    bias = competing_models.get_attribute_bias()\n",
    "    for col in bias.columns:\n",
    "        results[f'bias-{col}'] = bias[col].to_numpy()\n",
    "        \n",
    "    posterior = competing_models.get_model_posterior()\n",
    "    for col in posterior.columns:\n",
    "        results[f'posterior-{col}'] = posterior[col].to_numpy()\n",
    "    \n",
    "    cm_results = cm_results.append(results, ignore_index=True)\n",
    "    \n",
    "cm_results.to_pickle(output_file_path)"
   ]
  },
  {
   "cell_type": "code",
   "execution_count": null,
   "id": "a144f59a",
   "metadata": {},
   "outputs": [],
   "source": [
    "results = pd.read_pickle(output_file_path)\n",
    "\n",
    "fig, axs = plt.subplots(6, 2, sharey=True, figsize=(20, 15))\n",
    "fig.tight_layout(pad=4)\n",
    "fig.suptitle('CM Bias Detection for Political Data', fontsize=20)\n",
    "fig.text(0.5, 0.03, 'Interactions Observed', ha='center')\n",
    "fig.text(0.03, 0.5, 'Bias', va='center', rotation='vertical')\n",
    "plt.rcParams.update({'axes.titlesize': 15, 'axes.labelsize': 15,\n",
    "                     'xtick.labelsize':12, 'xtick.labelsize':12})\n",
    "for (m,n), ax in np.ndenumerate(axs):\n",
    "    ax.set_ylim((0, 1.05))\n",
    "    ax.spines['right'].set_visible(False)\n",
    "    ax.spines['top'].set_visible(False)\n",
    "    ax.spines['left'].set_color('black')\n",
    "    ax.spines['bottom'].set_color('black')\n",
    "\n",
    "bias_metric_per_task = {'party': 'bias-party', 'gender': 'bias-gender', 'occupation':'bias-occupation',\n",
    "                       'age': 'bias-age', 'political_experience': 'bias-political_experience',\n",
    "                       'policy_strength_ban_abortion_after_6_weeks': 'bias-policy_strength_ban_abortion_after_6_weeks',\n",
    "                       'policy_strength_legalize_medical_marijuana':'bias-policy_strength_legalize_medical_marijuana',\n",
    "                        'policy_strength_increase_medicare_funding': 'bias-policy_strength_increase_medicare_funding',\n",
    "                       'policy_strength_ban_alcohol_sales_sundays': 'bias-policy_strength_ban_alcohol_sales_sundays'}\n",
    "\n",
    "columns = ['party', 'gender', 'occupation', 'age', 'political_experience', 'policy_strength_ban_abortion_after_6_weeks',\n",
    "                       'policy_strength_legalize_medical_marijuana', 'policy_strength_increase_medicare_funding',\n",
    "                       'policy_strength_ban_alcohol_sales_sundays']\n",
    "index_1 = 0\n",
    "index_2 = 0\n",
    "for index, row in results.iterrows():\n",
    "    bias_over_time= pd.DataFrame()\n",
    "    for ai, attr in enumerate(columns):\n",
    "        temp_df = pd.DataFrame()\n",
    "        temp_df[row['participant_id']] = row[bias_metric_per_task[attr]]\n",
    "        bias_over_time = pd.concat([bias_over_time, temp_df], axis=1, ignore_index=True)\n",
    "    bias_over_time.columns = columns\n",
    "    bias_over_time.plot(ax=axs[index_1, index_2], title=f'Bias Detection for {row[\"participant_id\"]}', legend = 0)\n",
    "    if index != 11:\n",
    "        if (index_2 == 1):\n",
    "            index_2 = 0\n",
    "            index_1 += 1\n",
    "        else:\n",
    "            index_2 += 1\n",
    "    else:\n",
    "        handles, labels = axs[index_1, index_2].get_legend_handles_labels()\n",
    "        n_cols = round(len(columns)/2)\n",
    "        fig.legend(handles, labels, loc='lower center', ncol=n_cols, bbox_to_anchor=(0.5, -0.07))"
   ]
  },
  {
   "cell_type": "code",
   "execution_count": null,
   "id": "c235553a",
   "metadata": {},
   "outputs": [],
   "source": [
    "results[results['participant_id'] == 'ZY1tfYLxtiya']['bias-occupation'].values[0]"
   ]
  },
  {
   "cell_type": "code",
   "execution_count": null,
   "id": "b55935a9",
   "metadata": {},
   "outputs": [],
   "source": [
    "results[results['participant_id'] == 'ZY1tfYLxtiya']['bias-gender'].values[0]"
   ]
  },
  {
   "cell_type": "code",
   "execution_count": null,
   "id": "7a166734",
   "metadata": {},
   "outputs": [],
   "source": [
    "results[results['participant_id'] == 'ZY1tfYLxtiya']['bias-party'].values[0]"
   ]
  },
  {
   "cell_type": "code",
   "execution_count": null,
   "id": "8f19cc52",
   "metadata": {},
   "outputs": [],
   "source": []
  }
 ],
 "metadata": {
  "kernelspec": {
   "display_name": "Python 3",
   "language": "python",
   "name": "python3"
  },
  "language_info": {
   "codemirror_mode": {
    "name": "ipython",
    "version": 3
   },
   "file_extension": ".py",
   "mimetype": "text/x-python",
   "name": "python",
   "nbconvert_exporter": "python",
   "pygments_lexer": "ipython3",
   "version": "3.8.8"
  }
 },
 "nbformat": 4,
 "nbformat_minor": 5
}

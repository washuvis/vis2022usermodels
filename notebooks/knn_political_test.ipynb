{
 "cells": [
  {
   "cell_type": "code",
   "execution_count": null,
   "id": "faf40664",
   "metadata": {},
   "outputs": [],
   "source": [
    "import sys\n",
    "sys.path.append('../implementation/')\n",
    "import ast\n",
    "import numpy as np\n",
    "import pandas as pd\n",
    "import matplotlib.pyplot as plt\n",
    "import scipy.special as sp\n",
    "from tqdm import tqdm\n",
    "import time\n",
    "from weighted_k_nearest_neighbors import WeightedKNN\n",
    "from util import flatten_list\n",
    "import warnings\n",
    "warnings.filterwarnings('ignore')"
   ]
  },
  {
   "cell_type": "code",
   "execution_count": null,
   "id": "e2d4a41f",
   "metadata": {},
   "outputs": [],
   "source": [
    "underlying_data = pd.read_csv('../data/political/final/political.csv')\n",
    "clean_id = [s.replace(\"p\", \"\") for s in underlying_data['id']]\n",
    "clean_id = [int(s.lstrip('0')) - 1 for s in clean_id]\n",
    "underlying_data['id'] = clean_id\n",
    "underlying_data = underlying_data.set_index('id')\n",
    "output_file_path = '../output/political/political_knn_mouse.pkl'\n",
    "\n",
    "interaction_data = pd.read_csv('../data/political/final/wall_political_interactions_mouse.csv')\n",
    "interaction_data['interaction_session'] = interaction_data.apply(lambda row: ast.literal_eval(row.interaction_session), axis=1)\n",
    "interaction_data['interaction_type'] = interaction_data.apply(lambda row: ast.literal_eval(row.interaction_type), axis=1)\n",
    "c_attrs = ['age', 'political_experience', 'policy_strength_ban_abortion_after_6_weeks', \n",
    "           'policy_strength_legalize_medical_marijuana', 'policy_strength_increase_medicare_funding',\n",
    "          'policy_strength_ban_alcohol_sales_sundays']\n",
    "d_attrs = ['party', 'gender', 'occupation']\n",
    "ks = [1, 5, 10, 20, 50, 100]"
   ]
  },
  {
   "cell_type": "code",
   "execution_count": null,
   "id": "6d33f4ce",
   "metadata": {},
   "outputs": [],
   "source": [
    "knn_results = pd.DataFrame()\n",
    "\n",
    "for participant_index, row in interaction_data.iterrows():\n",
    "    print(f'Processing user {row.user}')\n",
    "    results = {'participant_id': row.user}\n",
    "    knn_model = WeightedKNN(underlying_data, \n",
    "                            ['age', 'political_experience', 'policy_strength_ban_abortion_after_6_weeks', \n",
    "           'policy_strength_legalize_medical_marijuana', 'policy_strength_increase_medicare_funding',\n",
    "          'policy_strength_ban_alcohol_sales_sundays'], \n",
    "                            ['party', 'gender', 'occupation'])\n",
    "    predicted = pd.DataFrame()\n",
    "    rank_predicted = []\n",
    "    for i in tqdm(range(len(interaction_data.iloc[participant_index].interaction_session))):\n",
    "        interaction = interaction_data.iloc[participant_index].interaction_session[i]\n",
    "        knn_model.update(interaction)\n",
    "\n",
    "        if i < len(interaction_data.iloc[participant_index].interaction_session) - 1:\n",
    "            probability_of_next_point = knn_model.predict()\n",
    "            next_point = interaction_data.iloc[participant_index].interaction_session[i+1]\n",
    "            predicted_next_dict = {}\n",
    "            for k in ks:\n",
    "                predicted_next_dict[k] = (next_point in probability_of_next_point.nlargest(k).index.values)\n",
    "            predicted = predicted.append(predicted_next_dict, ignore_index=True)\n",
    "            sorted_prob = probability_of_next_point.sort_values(ascending=False)\n",
    "            rank, = np.where(sorted_prob.index.values == next_point)\n",
    "            rank_predicted.append(rank[0] + 1)\n",
    "            \n",
    "    ncp = predicted.sum()/len(predicted)\n",
    "    for col in ncp.index:\n",
    "        results[f'ncp-{col}'] = ncp[col]\n",
    "        \n",
    "    bias = knn_model.get_attribute_bias()\n",
    "    for col in bias.columns:\n",
    "        results[f'bias-{col}'] = bias[col].to_numpy()\n",
    "        \n",
    "    results['rank'] = rank_predicted    \n",
    "    knn_results = knn_results.append(results, ignore_index=True)\n",
    "    \n",
    "knn_results.to_pickle(output_file_path)"
   ]
  },
  {
   "cell_type": "code",
   "execution_count": null,
   "id": "9f6e2ac5",
   "metadata": {},
   "outputs": [],
   "source": [
    "ks = [1, 5, 10, 20, 50, 100]\n",
    "\n",
    "df_temp = knn_results[[f'ncp-{k}' for k in ks]]\n",
    "err = df_temp.std() / np.sqrt(len(df_temp))\n",
    "df_temp.mean().plot.bar(yerr=err, color='#d95f02', alpha=0.5, title=f'Aggregate Next Click Prediction for Political Data')"
   ]
  },
  {
   "cell_type": "code",
   "execution_count": null,
   "id": "3b6b71e0",
   "metadata": {},
   "outputs": [],
   "source": []
  }
 ],
 "metadata": {
  "kernelspec": {
   "display_name": "Python 3",
   "language": "python",
   "name": "python3"
  },
  "language_info": {
   "codemirror_mode": {
    "name": "ipython",
    "version": 3
   },
   "file_extension": ".py",
   "mimetype": "text/x-python",
   "name": "python",
   "nbconvert_exporter": "python",
   "pygments_lexer": "ipython3",
   "version": "3.8.8"
  }
 },
 "nbformat": 4,
 "nbformat_minor": 5
}

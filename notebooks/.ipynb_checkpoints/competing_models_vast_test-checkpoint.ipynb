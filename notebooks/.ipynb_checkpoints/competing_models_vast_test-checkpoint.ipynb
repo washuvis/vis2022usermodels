{
 "cells": [
  {
   "cell_type": "code",
   "execution_count": 1,
   "id": "10261592",
   "metadata": {},
   "outputs": [],
   "source": [
    "import sys\n",
    "sys.path.append('../implementation/')\n",
    "import ast\n",
    "import numpy as np\n",
    "import pandas as pd\n",
    "import matplotlib.pyplot as plt\n",
    "import scipy.special as sp\n",
    "from tqdm import tqdm\n",
    "import time\n",
    "from monadjemi_competing_models import CompetingModels"
   ]
  },
  {
   "cell_type": "code",
   "execution_count": 3,
   "id": "a21219fb",
   "metadata": {},
   "outputs": [
    {
     "data": {
      "text/plain": [
       "'1.22.2'"
      ]
     },
     "execution_count": 3,
     "metadata": {},
     "output_type": "execute_result"
    }
   ],
   "source": [
    "np.version.version"
   ]
  },
  {
   "cell_type": "code",
   "execution_count": 4,
   "id": "5b35adc4",
   "metadata": {},
   "outputs": [],
   "source": [
    "# Loading the underlying data and user interaction data\n",
    "data_path = '../data/vast_2011_challenge/vast_data_sample_reduced.pkl'\n",
    "bookmarks_ui_data_path = '../data/vast_2011_challenge/bookmark_interactions.pkl'\n",
    "hovers_ui_data_path = '../data/vast_2011_challenge/hover_interactions.pkl'\n",
    "hovers = False\n",
    "if hovers:\n",
    "    output_file_path = '../output/vast/vast_11_hovers_ac.pkl'\n",
    "    interaction_data = pd.read_pickle(hovers_ui_data_path)\n",
    "else:\n",
    "    output_file_path = '../output/vast/vast_11_ac.pkl'\n",
    "    interaction_data = pd.read_pickle(bookmarks_ui_data_path)\n",
    "\n",
    "underlying_data = pd.read_pickle(data_path)\n",
    "# interaction_data['interaction_session'] = interaction_data.apply(lambda row: ast.literal_eval(row.interaction_session), axis=1)\n",
    "\n",
    "ks = [1, 5, 10, 20, 50, 100]\n",
    "d_attributes = ['topic']\n",
    "c_attributes = [['latitude', 'longitude']]"
   ]
  },
  {
   "cell_type": "code",
   "execution_count": 6,
   "id": "aec8d208",
   "metadata": {},
   "outputs": [
    {
     "name": "stdout",
     "output_type": "stream",
     "text": [
      "Processing user ottNn7b8Wt1EL-I0bfFbOA task control\n",
      "4 competing models enumerated.\n"
     ]
    },
    {
     "name": "stderr",
     "output_type": "stream",
     "text": [
      "100%|███████████████████████████████████████████████████████████████████████████████████████████████████████████████████████████████████████████████████████████████████████████████████████████████████| 45/45 [02:58<00:00,  3.97s/it]\n"
     ]
    },
    {
     "name": "stdout",
     "output_type": "stream",
     "text": [
      "Processing user Tn8m4yLs6E0GDO6sggwYTw task control\n",
      "4 competing models enumerated.\n"
     ]
    },
    {
     "name": "stderr",
     "output_type": "stream",
     "text": [
      "100%|█████████████████████████████████████████████████████████████████████████████████████████████████████████████████████████████████████████████████████████████████████████████████████████████████| 147/147 [10:03<00:00,  4.11s/it]\n"
     ]
    },
    {
     "name": "stdout",
     "output_type": "stream",
     "text": [
      "Processing user SW8GwZ1tt4Z5DiK3J4rw2g task control\n",
      "4 competing models enumerated.\n"
     ]
    },
    {
     "name": "stderr",
     "output_type": "stream",
     "text": [
      "100%|█████████████████████████████████████████████████████████████████████████████████████████████████████████████████████████████████████████████████████████████████████████████████████████████████| 145/145 [09:52<00:00,  4.09s/it]\n"
     ]
    },
    {
     "name": "stdout",
     "output_type": "stream",
     "text": [
      "Processing user POzOiTeXMSdTEbmSmI4wpg task control\n",
      "4 competing models enumerated.\n"
     ]
    },
    {
     "name": "stderr",
     "output_type": "stream",
     "text": [
      "100%|███████████████████████████████████████████████████████████████████████████████████████████████████████████████████████████████████████████████████████████████████████████████████████████████████| 52/52 [03:35<00:00,  4.14s/it]\n"
     ]
    },
    {
     "name": "stdout",
     "output_type": "stream",
     "text": [
      "Processing user n-Oq8YP_DhsByGZyxuGroQ task control\n",
      "4 competing models enumerated.\n"
     ]
    },
    {
     "name": "stderr",
     "output_type": "stream",
     "text": [
      "100%|███████████████████████████████████████████████████████████████████████████████████████████████████████████████████████████████████████████████████████████████████████████████████████████████████| 20/20 [01:20<00:00,  4.00s/it]\n"
     ]
    },
    {
     "name": "stdout",
     "output_type": "stream",
     "text": [
      "Processing user FDTHXrnlGNeILsLH5AZ4yw task greedy\n",
      "4 competing models enumerated.\n"
     ]
    },
    {
     "name": "stderr",
     "output_type": "stream",
     "text": [
      "100%|███████████████████████████████████████████████████████████████████████████████████████████████████████████████████████████████████████████████████████████████████████████████████████████████████| 72/72 [04:50<00:00,  4.04s/it]\n",
      "  0%|                                                                                                                                                                                                            | 0/45 [00:00<?, ?it/s]"
     ]
    },
    {
     "name": "stdout",
     "output_type": "stream",
     "text": [
      "Processing user UNaSIzwWzwgmGLZsEyvgsQ task control\n",
      "4 competing models enumerated.\n"
     ]
    },
    {
     "name": "stderr",
     "output_type": "stream",
     "text": [
      "100%|███████████████████████████████████████████████████████████████████████████████████████████████████████████████████████████████████████████████████████████████████████████████████████████████████| 45/45 [02:58<00:00,  3.97s/it]\n"
     ]
    },
    {
     "name": "stdout",
     "output_type": "stream",
     "text": [
      "Processing user kj0RX7BOAfL51pdO4hRNWw task greedy\n",
      "4 competing models enumerated.\n"
     ]
    },
    {
     "name": "stderr",
     "output_type": "stream",
     "text": [
      "100%|███████████████████████████████████████████████████████████████████████████████████████████████████████████████████████████████████████████████████████████████████████████████████████████████████| 35/35 [02:16<00:00,  3.91s/it]\n"
     ]
    },
    {
     "name": "stdout",
     "output_type": "stream",
     "text": [
      "Processing user 0R7Oc16T5OzW-_YNs9rkkg task control\n",
      "4 competing models enumerated.\n"
     ]
    },
    {
     "name": "stderr",
     "output_type": "stream",
     "text": [
      "100%|███████████████████████████████████████████████████████████████████████████████████████████████████████████████████████████████████████████████████████████████████████████████████████████████████| 85/85 [05:34<00:00,  3.93s/it]\n"
     ]
    },
    {
     "name": "stdout",
     "output_type": "stream",
     "text": [
      "Processing user u0glJ2wPe_IXmfOYFd_w0w task greedy\n",
      "4 competing models enumerated.\n"
     ]
    },
    {
     "name": "stderr",
     "output_type": "stream",
     "text": [
      "100%|█████████████████████████████████████████████████████████████████████████████████████████████████████████████████████████████████████████████████████████████████████████████████████████████████| 109/109 [07:24<00:00,  4.08s/it]\n"
     ]
    },
    {
     "name": "stdout",
     "output_type": "stream",
     "text": [
      "Processing user 3yqIkE86DBDCTnJi3aFcgg task greedy\n",
      "4 competing models enumerated.\n"
     ]
    },
    {
     "name": "stderr",
     "output_type": "stream",
     "text": [
      "100%|███████████████████████████████████████████████████████████████████████████████████████████████████████████████████████████████████████████████████████████████████████████████████████████████████| 50/50 [03:23<00:00,  4.06s/it]\n"
     ]
    },
    {
     "name": "stdout",
     "output_type": "stream",
     "text": [
      "Processing user k0XtDgVMlnH0N1ivlez7hw task control\n",
      "4 competing models enumerated.\n"
     ]
    },
    {
     "name": "stderr",
     "output_type": "stream",
     "text": [
      "100%|███████████████████████████████████████████████████████████████████████████████████████████████████████████████████████████████████████████████████████████████████████████████████████████████████| 22/22 [01:25<00:00,  3.88s/it]\n"
     ]
    },
    {
     "name": "stdout",
     "output_type": "stream",
     "text": [
      "Processing user 0kLgVuwpx7Bo-dfk-aUDgQ task greedy\n",
      "4 competing models enumerated.\n"
     ]
    },
    {
     "name": "stderr",
     "output_type": "stream",
     "text": [
      "100%|███████████████████████████████████████████████████████████████████████████████████████████████████████████████████████████████████████████████████████████████████████████████████████████████████| 22/22 [01:23<00:00,  3.81s/it]\n"
     ]
    },
    {
     "name": "stdout",
     "output_type": "stream",
     "text": [
      "Processing user bifsEtKMXIJ88523WNgtnw task control\n",
      "4 competing models enumerated.\n"
     ]
    },
    {
     "name": "stderr",
     "output_type": "stream",
     "text": [
      "100%|███████████████████████████████████████████████████████████████████████████████████████████████████████████████████████████████████████████████████████████████████████████████████████████████████| 15/15 [00:54<00:00,  3.67s/it]\n",
      "  0%|                                                                                                                                                                                                            | 0/56 [00:00<?, ?it/s]"
     ]
    },
    {
     "name": "stdout",
     "output_type": "stream",
     "text": [
      "Processing user q-1VAayPIoWBjTCQi_DoVQ task control\n",
      "4 competing models enumerated.\n"
     ]
    },
    {
     "name": "stderr",
     "output_type": "stream",
     "text": [
      "100%|███████████████████████████████████████████████████████████████████████████████████████████████████████████████████████████████████████████████████████████████████████████████████████████████████| 56/56 [03:35<00:00,  3.85s/it]\n"
     ]
    },
    {
     "name": "stdout",
     "output_type": "stream",
     "text": [
      "Processing user dHTodoyMJCwZZ0rlBoDBgg task greedy\n",
      "4 competing models enumerated.\n"
     ]
    },
    {
     "name": "stderr",
     "output_type": "stream",
     "text": [
      "100%|███████████████████████████████████████████████████████████████████████████████████████████████████████████████████████████████████████████████████████████████████████████████████████████████████| 68/68 [04:17<00:00,  3.78s/it]\n"
     ]
    },
    {
     "name": "stdout",
     "output_type": "stream",
     "text": [
      "Processing user 0FomFSRLtGmolWmt6v-BzQ task control\n",
      "4 competing models enumerated.\n"
     ]
    },
    {
     "name": "stderr",
     "output_type": "stream",
     "text": [
      "100%|███████████████████████████████████████████████████████████████████████████████████████████████████████████████████████████████████████████████████████████████████████████████████████████████████| 23/23 [01:25<00:00,  3.70s/it]\n"
     ]
    },
    {
     "name": "stdout",
     "output_type": "stream",
     "text": [
      "Processing user s_Iy02wt_jLcFG3_vAw1ig task control\n",
      "4 competing models enumerated.\n"
     ]
    },
    {
     "name": "stderr",
     "output_type": "stream",
     "text": [
      "100%|███████████████████████████████████████████████████████████████████████████████████████████████████████████████████████████████████████████████████████████████████████████████████████████████████| 76/76 [04:48<00:00,  3.79s/it]\n"
     ]
    },
    {
     "name": "stdout",
     "output_type": "stream",
     "text": [
      "Processing user Rr-Am9XWLG_j9RzUhfpI6Q task control\n",
      "4 competing models enumerated.\n"
     ]
    },
    {
     "name": "stderr",
     "output_type": "stream",
     "text": [
      "100%|███████████████████████████████████████████████████████████████████████████████████████████████████████████████████████████████████████████████████████████████████████████████████████████████████| 41/41 [02:34<00:00,  3.76s/it]\n"
     ]
    },
    {
     "name": "stdout",
     "output_type": "stream",
     "text": [
      "Processing user diIEYYtFfdAwwLsRtdW0wg task control\n",
      "4 competing models enumerated.\n"
     ]
    },
    {
     "name": "stderr",
     "output_type": "stream",
     "text": [
      "100%|███████████████████████████████████████████████████████████████████████████████████████████████████████████████████████████████████████████████████████████████████████████████████████████████████| 62/62 [03:54<00:00,  3.78s/it]\n"
     ]
    },
    {
     "name": "stdout",
     "output_type": "stream",
     "text": [
      "Processing user SG09OWw6EdZOVvZlTjM-FQ task control\n",
      "4 competing models enumerated.\n"
     ]
    },
    {
     "name": "stderr",
     "output_type": "stream",
     "text": [
      "100%|███████████████████████████████████████████████████████████████████████████████████████████████████████████████████████████████████████████████████████████████████████████████████████████████████| 55/55 [03:27<00:00,  3.78s/it]\n"
     ]
    },
    {
     "name": "stdout",
     "output_type": "stream",
     "text": [
      "Processing user K3BMWHJwzKB8gWq58g7XRA task greedy\n",
      "4 competing models enumerated.\n"
     ]
    },
    {
     "name": "stderr",
     "output_type": "stream",
     "text": [
      "100%|███████████████████████████████████████████████████████████████████████████████████████████████████████████████████████████████████████████████████████████████████████████████████████████████████| 46/46 [02:53<00:00,  3.77s/it]\n"
     ]
    },
    {
     "name": "stdout",
     "output_type": "stream",
     "text": [
      "Processing user sHdVgbUcMwvCWwxfJxVrnw task greedy\n",
      "4 competing models enumerated.\n"
     ]
    },
    {
     "name": "stderr",
     "output_type": "stream",
     "text": [
      "100%|█████████████████████████████████████████████████████████████████████████████████████████████████████████████████████████████████████████████████████████████████████████████████████████████████| 131/131 [08:19<00:00,  3.81s/it]\n"
     ]
    },
    {
     "name": "stdout",
     "output_type": "stream",
     "text": [
      "Processing user oKdTjzjtwGFS0iiz-MpQrA task greedy\n",
      "4 competing models enumerated.\n"
     ]
    },
    {
     "name": "stderr",
     "output_type": "stream",
     "text": [
      "100%|█████████████████████████████████████████████████████████████████████████████████████████████████████████████████████████████████████████████████████████████████████████████████████████████████| 100/100 [06:19<00:00,  3.80s/it]\n",
      "  0%|                                                                                                                                                                                                            | 0/75 [00:00<?, ?it/s]"
     ]
    },
    {
     "name": "stdout",
     "output_type": "stream",
     "text": [
      "Processing user 0aJkmv1hnmWrVGAwLE6RIg task control\n",
      "4 competing models enumerated.\n"
     ]
    },
    {
     "name": "stderr",
     "output_type": "stream",
     "text": [
      "100%|███████████████████████████████████████████████████████████████████████████████████████████████████████████████████████████████████████████████████████████████████████████████████████████████████| 75/75 [04:44<00:00,  3.79s/it]\n",
      "  0%|                                                                                                                                                                                                            | 0/18 [00:00<?, ?it/s]"
     ]
    },
    {
     "name": "stdout",
     "output_type": "stream",
     "text": [
      "Processing user MRpphVjkDCll9QbNTPnoRQ task greedy\n",
      "4 competing models enumerated.\n"
     ]
    },
    {
     "name": "stderr",
     "output_type": "stream",
     "text": [
      "100%|███████████████████████████████████████████████████████████████████████████████████████████████████████████████████████████████████████████████████████████████████████████████████████████████████| 18/18 [01:05<00:00,  3.67s/it]\n"
     ]
    },
    {
     "name": "stdout",
     "output_type": "stream",
     "text": [
      "Processing user wMWdKtkmZiTUIW_s_XSiKw task control\n",
      "4 competing models enumerated.\n"
     ]
    },
    {
     "name": "stderr",
     "output_type": "stream",
     "text": [
      "100%|███████████████████████████████████████████████████████████████████████████████████████████████████████████████████████████████████████████████████████████████████████████████████████████████████| 54/54 [03:24<00:00,  3.78s/it]\n"
     ]
    },
    {
     "name": "stdout",
     "output_type": "stream",
     "text": [
      "Processing user 8-oRuOqv44CkXM1rq3WgDw task greedy\n",
      "4 competing models enumerated.\n"
     ]
    },
    {
     "name": "stderr",
     "output_type": "stream",
     "text": [
      "100%|█████████████████████████████████████████████████████████████████████████████████████████████████████████████████████████████████████████████████████████████████████████████████████████████████| 109/109 [06:55<00:00,  3.81s/it]\n"
     ]
    },
    {
     "name": "stdout",
     "output_type": "stream",
     "text": [
      "Processing user 3RJkTqsdzektLw8VmK3d1A task control\n",
      "4 competing models enumerated.\n"
     ]
    },
    {
     "name": "stderr",
     "output_type": "stream",
     "text": [
      "100%|███████████████████████████████████████████████████████████████████████████████████████████████████████████████████████████████████████████████████████████████████████████████████████████████████| 60/60 [03:46<00:00,  3.78s/it]\n"
     ]
    },
    {
     "name": "stdout",
     "output_type": "stream",
     "text": [
      "Processing user BP3u6-yQVD6JFzi3tKLamA task greedy\n",
      "4 competing models enumerated.\n"
     ]
    },
    {
     "name": "stderr",
     "output_type": "stream",
     "text": [
      "100%|█████████████████████████████████████████████████████████████████████████████████████████████████████████████████████████████████████████████████████████████████████████████████████████████████| 102/102 [06:28<00:00,  3.81s/it]\n",
      "  0%|                                                                                                                                                                                                            | 0/97 [00:00<?, ?it/s]"
     ]
    },
    {
     "name": "stdout",
     "output_type": "stream",
     "text": [
      "Processing user K4oiwhn0PHkER7IOBzp3tA task control\n",
      "4 competing models enumerated.\n"
     ]
    },
    {
     "name": "stderr",
     "output_type": "stream",
     "text": [
      "100%|███████████████████████████████████████████████████████████████████████████████████████████████████████████████████████████████████████████████████████████████████████████████████████████████████| 97/97 [06:09<00:00,  3.81s/it]\n"
     ]
    },
    {
     "name": "stdout",
     "output_type": "stream",
     "text": [
      "Processing user 9cgrSAf3_zRo509cVXexBw task control\n",
      "4 competing models enumerated.\n"
     ]
    },
    {
     "name": "stderr",
     "output_type": "stream",
     "text": [
      "100%|███████████████████████████████████████████████████████████████████████████████████████████████████████████████████████████████████████████████████████████████████████████████████████████████████| 69/69 [04:21<00:00,  3.79s/it]\n"
     ]
    },
    {
     "name": "stdout",
     "output_type": "stream",
     "text": [
      "Processing user 705Te_LAeladSVRFI5Sp9w task control\n",
      "4 competing models enumerated.\n"
     ]
    },
    {
     "name": "stderr",
     "output_type": "stream",
     "text": [
      "100%|███████████████████████████████████████████████████████████████████████████████████████████████████████████████████████████████████████████████████████████████████████████████████████████████████| 55/55 [03:27<00:00,  3.77s/it]\n"
     ]
    },
    {
     "name": "stdout",
     "output_type": "stream",
     "text": [
      "Processing user dBcHhu9iTi_x-gDCawjcyA task control\n",
      "4 competing models enumerated.\n"
     ]
    },
    {
     "name": "stderr",
     "output_type": "stream",
     "text": [
      "100%|███████████████████████████████████████████████████████████████████████████████████████████████████████████████████████████████████████████████████████████████████████████████████████████████████| 42/42 [02:38<00:00,  3.77s/it]\n"
     ]
    },
    {
     "name": "stdout",
     "output_type": "stream",
     "text": [
      "Processing user hjZTImgTbnU-JHo2t0hNeg task greedy\n",
      "4 competing models enumerated.\n"
     ]
    },
    {
     "name": "stderr",
     "output_type": "stream",
     "text": [
      "100%|███████████████████████████████████████████████████████████████████████████████████████████████████████████████████████████████████████████████████████████████████████████████████████████████████| 64/64 [04:03<00:00,  3.80s/it]\n",
      "0it [00:00, ?it/s]\n"
     ]
    },
    {
     "name": "stdout",
     "output_type": "stream",
     "text": [
      "Processing user _zMmoKjDxTLi3l1X3RrZAw task control\n",
      "4 competing models enumerated.\n",
      "Processing user MfpBNUsm4pD3Kg5wjiKP_Q task greedy\n",
      "4 competing models enumerated.\n"
     ]
    },
    {
     "name": "stderr",
     "output_type": "stream",
     "text": [
      "100%|███████████████████████████████████████████████████████████████████████████████████████████████████████████████████████████████████████████████████████████████████████████████████████████████████| 91/91 [05:45<00:00,  3.80s/it]\n",
      "  0%|                                                                                                                                                                                                            | 0/33 [00:00<?, ?it/s]"
     ]
    },
    {
     "name": "stdout",
     "output_type": "stream",
     "text": [
      "Processing user NRyzJB-AeSx5AOWhloLZ8g task control\n",
      "4 competing models enumerated.\n"
     ]
    },
    {
     "name": "stderr",
     "output_type": "stream",
     "text": [
      "100%|███████████████████████████████████████████████████████████████████████████████████████████████████████████████████████████████████████████████████████████████████████████████████████████████████| 33/33 [02:03<00:00,  3.74s/it]\n",
      "  0%|                                                                                                                                                                                                            | 0/47 [00:00<?, ?it/s]"
     ]
    },
    {
     "name": "stdout",
     "output_type": "stream",
     "text": [
      "Processing user yvXWJOqkIJex-23s_sTROg task greedy\n",
      "4 competing models enumerated.\n"
     ]
    },
    {
     "name": "stderr",
     "output_type": "stream",
     "text": [
      "100%|███████████████████████████████████████████████████████████████████████████████████████████████████████████████████████████████████████████████████████████████████████████████████████████████████| 47/47 [02:57<00:00,  3.77s/it]\n"
     ]
    },
    {
     "name": "stdout",
     "output_type": "stream",
     "text": [
      "Processing user 5Jl5_kX_Tg6LjTwri7lSUA task greedy\n",
      "4 competing models enumerated.\n"
     ]
    },
    {
     "name": "stderr",
     "output_type": "stream",
     "text": [
      "100%|███████████████████████████████████████████████████████████████████████████████████████████████████████████████████████████████████████████████████████████████████████████████████████████████████| 82/82 [05:10<00:00,  3.79s/it]\n"
     ]
    },
    {
     "name": "stdout",
     "output_type": "stream",
     "text": [
      "Processing user anfa5Zq4bjh-81ZE-RYzzA task control\n",
      "4 competing models enumerated.\n"
     ]
    },
    {
     "name": "stderr",
     "output_type": "stream",
     "text": [
      "100%|███████████████████████████████████████████████████████████████████████████████████████████████████████████████████████████████████████████████████████████████████████████████████████████████████| 23/23 [01:25<00:00,  3.71s/it]\n"
     ]
    },
    {
     "name": "stdout",
     "output_type": "stream",
     "text": [
      "Processing user Iz1RVMn8Gj1oed8-QZMqXA task greedy\n",
      "4 competing models enumerated.\n"
     ]
    },
    {
     "name": "stderr",
     "output_type": "stream",
     "text": [
      "100%|███████████████████████████████████████████████████████████████████████████████████████████████████████████████████████████████████████████████████████████████████████████████████████████████████| 79/79 [04:59<00:00,  3.80s/it]\n"
     ]
    },
    {
     "name": "stdout",
     "output_type": "stream",
     "text": [
      "Processing user N0VtS5g31siXqoUhQnAAPQ task control\n",
      "4 competing models enumerated.\n"
     ]
    },
    {
     "name": "stderr",
     "output_type": "stream",
     "text": [
      "100%|█████████████████████████████████████████████████████████████████████████████████████████████████████████████████████████████████████████████████████████████████████████████████████████████████| 153/153 [09:43<00:00,  3.82s/it]\n"
     ]
    },
    {
     "name": "stdout",
     "output_type": "stream",
     "text": [
      "Processing user -qgyUblFjzGauFx_Qt1xxQ task control\n",
      "4 competing models enumerated.\n"
     ]
    },
    {
     "name": "stderr",
     "output_type": "stream",
     "text": [
      "100%|███████████████████████████████████████████████████████████████████████████████████████████████████████████████████████████████████████████████████████████████████████████████████████████████████| 82/82 [05:11<00:00,  3.80s/it]\n"
     ]
    },
    {
     "name": "stdout",
     "output_type": "stream",
     "text": [
      "Processing user rQCaKZQ2F25eBST_bWyKFA task control\n",
      "4 competing models enumerated.\n"
     ]
    },
    {
     "name": "stderr",
     "output_type": "stream",
     "text": [
      "100%|███████████████████████████████████████████████████████████████████████████████████████████████████████████████████████████████████████████████████████████████████████████████████████████████████| 13/13 [00:46<00:00,  3.61s/it]\n"
     ]
    },
    {
     "name": "stdout",
     "output_type": "stream",
     "text": [
      "Processing user t3dx1A8gxcC7T0GkYvk4rQ task control\n",
      "4 competing models enumerated.\n"
     ]
    },
    {
     "name": "stderr",
     "output_type": "stream",
     "text": [
      "100%|███████████████████████████████████████████████████████████████████████████████████████████████████████████████████████████████████████████████████████████████████████████████████████████████████| 66/66 [04:09<00:00,  3.79s/it]\n"
     ]
    },
    {
     "name": "stdout",
     "output_type": "stream",
     "text": [
      "Processing user pM3lshrmqr3py5jVQkCGog task control\n",
      "4 competing models enumerated.\n"
     ]
    },
    {
     "name": "stderr",
     "output_type": "stream",
     "text": [
      "100%|█████████████████████████████████████████████████████████████████████████████████████████████████████████████████████████████████████████████████████████████████████████████████████████████████| 149/149 [09:27<00:00,  3.81s/it]\n"
     ]
    },
    {
     "name": "stdout",
     "output_type": "stream",
     "text": [
      "Processing user 8uws47dV4-x6_2L7dWretA task greedy\n",
      "4 competing models enumerated.\n"
     ]
    },
    {
     "name": "stderr",
     "output_type": "stream",
     "text": [
      "100%|█████████████████████████████████████████████████████████████████████████████████████████████████████████████████████████████████████████████████████████████████████████████████████████████████| 107/107 [06:47<00:00,  3.81s/it]\n"
     ]
    },
    {
     "name": "stdout",
     "output_type": "stream",
     "text": [
      "Processing user 7FRoXRjqfsGRrIJD87-H1w task greedy\n",
      "4 competing models enumerated.\n"
     ]
    },
    {
     "name": "stderr",
     "output_type": "stream",
     "text": [
      "100%|███████████████████████████████████████████████████████████████████████████████████████████████████████████████████████████████████████████████████████████████████████████████████████████████████| 48/48 [03:01<00:00,  3.79s/it]\n"
     ]
    },
    {
     "name": "stdout",
     "output_type": "stream",
     "text": [
      "Processing user ieozcwSTOaL5xar-tDFIMw task greedy\n",
      "4 competing models enumerated.\n"
     ]
    },
    {
     "name": "stderr",
     "output_type": "stream",
     "text": [
      "100%|███████████████████████████████████████████████████████████████████████████████████████████████████████████████████████████████████████████████████████████████████████████████████████████████████| 16/16 [00:58<00:00,  3.65s/it]\n"
     ]
    },
    {
     "name": "stdout",
     "output_type": "stream",
     "text": [
      "Processing user R_ubSTGYnz-reM6XMYvuGA task greedy\n",
      "4 competing models enumerated.\n"
     ]
    },
    {
     "name": "stderr",
     "output_type": "stream",
     "text": [
      "100%|███████████████████████████████████████████████████████████████████████████████████████████████████████████████████████████████████████████████████████████████████████████████████████████████████| 43/43 [02:42<00:00,  3.77s/it]\n"
     ]
    },
    {
     "name": "stdout",
     "output_type": "stream",
     "text": [
      "Processing user RLIDb-SlMuUNc5o1Ex2LGA task greedy\n",
      "4 competing models enumerated.\n"
     ]
    },
    {
     "name": "stderr",
     "output_type": "stream",
     "text": [
      "100%|███████████████████████████████████████████████████████████████████████████████████████████████████████████████████████████████████████████████████████████████████████████████████████████████████| 85/85 [05:23<00:00,  3.80s/it]\n"
     ]
    },
    {
     "name": "stdout",
     "output_type": "stream",
     "text": [
      "Processing user PtJP0V71F8Ud9kyU_molEw task control\n",
      "4 competing models enumerated.\n"
     ]
    },
    {
     "name": "stderr",
     "output_type": "stream",
     "text": [
      "100%|███████████████████████████████████████████████████████████████████████████████████████████████████████████████████████████████████████████████████████████████████████████████████████████████████| 70/70 [04:25<00:00,  3.79s/it]\n",
      "  0%|                                                                                                                                                                                                            | 0/26 [00:00<?, ?it/s]"
     ]
    },
    {
     "name": "stdout",
     "output_type": "stream",
     "text": [
      "Processing user fgTmANyUtAen0exuGrzVzQ task control\n",
      "4 competing models enumerated.\n"
     ]
    },
    {
     "name": "stderr",
     "output_type": "stream",
     "text": [
      "100%|███████████████████████████████████████████████████████████████████████████████████████████████████████████████████████████████████████████████████████████████████████████████████████████████████| 26/26 [01:36<00:00,  3.73s/it]\n",
      "  0%|                                                                                                                                                                                                            | 0/75 [00:00<?, ?it/s]"
     ]
    },
    {
     "name": "stdout",
     "output_type": "stream",
     "text": [
      "Processing user mwbxr6aVEv5oB14fas9y7Q task greedy\n",
      "4 competing models enumerated.\n"
     ]
    },
    {
     "name": "stderr",
     "output_type": "stream",
     "text": [
      "100%|███████████████████████████████████████████████████████████████████████████████████████████████████████████████████████████████████████████████████████████████████████████████████████████████████| 75/75 [04:44<00:00,  3.80s/it]\n"
     ]
    },
    {
     "name": "stdout",
     "output_type": "stream",
     "text": [
      "Processing user nHFRA1QAG9pg93oF4T1L2Q task control\n",
      "4 competing models enumerated.\n"
     ]
    },
    {
     "name": "stderr",
     "output_type": "stream",
     "text": [
      "100%|███████████████████████████████████████████████████████████████████████████████████████████████████████████████████████████████████████████████████████████████████████████████████████████████████| 34/34 [02:07<00:00,  3.76s/it]\n"
     ]
    },
    {
     "name": "stdout",
     "output_type": "stream",
     "text": [
      "Processing user Q00_bx5Pq4Yn1_3XcqEp2g task control\n",
      "4 competing models enumerated.\n"
     ]
    },
    {
     "name": "stderr",
     "output_type": "stream",
     "text": [
      "100%|███████████████████████████████████████████████████████████████████████████████████████████████████████████████████████████████████████████████████████████████████████████████████████████████████| 72/72 [04:32<00:00,  3.79s/it]\n",
      "  0%|                                                                                                                                                                                                            | 0/98 [00:00<?, ?it/s]"
     ]
    },
    {
     "name": "stdout",
     "output_type": "stream",
     "text": [
      "Processing user Y3r-Fnt1-qWQS7_mmHI5jw task control\n",
      "4 competing models enumerated.\n"
     ]
    },
    {
     "name": "stderr",
     "output_type": "stream",
     "text": [
      "100%|███████████████████████████████████████████████████████████████████████████████████████████████████████████████████████████████████████████████████████████████████████████████████████████████████| 98/98 [06:12<00:00,  3.80s/it]\n",
      "  0%|                                                                                                                                                                                                            | 0/90 [00:00<?, ?it/s]"
     ]
    },
    {
     "name": "stdout",
     "output_type": "stream",
     "text": [
      "Processing user BUoAXX6AcppIfwqn6ooehQ task greedy\n",
      "4 competing models enumerated.\n"
     ]
    },
    {
     "name": "stderr",
     "output_type": "stream",
     "text": [
      "100%|███████████████████████████████████████████████████████████████████████████████████████████████████████████████████████████████████████████████████████████████████████████████████████████████████| 90/90 [05:42<00:00,  3.80s/it]\n"
     ]
    },
    {
     "name": "stdout",
     "output_type": "stream",
     "text": [
      "Processing user 4rqOCG0RKXayyrLxm691UA task greedy\n",
      "4 competing models enumerated.\n"
     ]
    },
    {
     "name": "stderr",
     "output_type": "stream",
     "text": [
      "100%|███████████████████████████████████████████████████████████████████████████████████████████████████████████████████████████████████████████████████████████████████████████████████████████████████| 21/21 [01:17<00:00,  3.69s/it]\n",
      "  0%|                                                                                                                                                                                                            | 0/55 [00:00<?, ?it/s]"
     ]
    },
    {
     "name": "stdout",
     "output_type": "stream",
     "text": [
      "Processing user 1XKUPtNbjKqOPNw7YmeUAA task greedy\n",
      "4 competing models enumerated.\n"
     ]
    },
    {
     "name": "stderr",
     "output_type": "stream",
     "text": [
      "100%|███████████████████████████████████████████████████████████████████████████████████████████████████████████████████████████████████████████████████████████████████████████████████████████████████| 55/55 [03:27<00:00,  3.78s/it]\n",
      "  0%|                                                                                                                                                                                                            | 0/27 [00:00<?, ?it/s]"
     ]
    },
    {
     "name": "stdout",
     "output_type": "stream",
     "text": [
      "Processing user _hA9RSZ7OTFvgTyyuBVd7w task greedy\n",
      "4 competing models enumerated.\n"
     ]
    },
    {
     "name": "stderr",
     "output_type": "stream",
     "text": [
      "100%|███████████████████████████████████████████████████████████████████████████████████████████████████████████████████████████████████████████████████████████████████████████████████████████████████| 27/27 [01:40<00:00,  3.71s/it]\n",
      "  0%|                                                                                                                                                                                                            | 0/81 [00:00<?, ?it/s]"
     ]
    },
    {
     "name": "stdout",
     "output_type": "stream",
     "text": [
      "Processing user 5ECfx4KIAg6Yzyjhr4WnWg task control\n",
      "4 competing models enumerated.\n"
     ]
    },
    {
     "name": "stderr",
     "output_type": "stream",
     "text": [
      "100%|███████████████████████████████████████████████████████████████████████████████████████████████████████████████████████████████████████████████████████████████████████████████████████████████████| 81/81 [05:07<00:00,  3.80s/it]\n"
     ]
    },
    {
     "name": "stdout",
     "output_type": "stream",
     "text": [
      "Processing user uq51tok4glK6YATXynq5EQ task control\n",
      "4 competing models enumerated.\n"
     ]
    },
    {
     "name": "stderr",
     "output_type": "stream",
     "text": [
      "100%|███████████████████████████████████████████████████████████████████████████████████████████████████████████████████████████████████████████████████████████████████████████████████████████████████| 48/48 [03:01<00:00,  3.78s/it]\n"
     ]
    },
    {
     "name": "stdout",
     "output_type": "stream",
     "text": [
      "Processing user ZIRBQFPgBo9Lt_kHHC3MiA task control\n",
      "4 competing models enumerated.\n"
     ]
    },
    {
     "name": "stderr",
     "output_type": "stream",
     "text": [
      "100%|███████████████████████████████████████████████████████████████████████████████████████████████████████████████████████████████████████████████████████████████████████████████████████████████████| 74/74 [04:40<00:00,  3.79s/it]\n"
     ]
    },
    {
     "name": "stdout",
     "output_type": "stream",
     "text": [
      "Processing user T2jkw-sDvoBLWJWDJ7zJTw task control\n",
      "4 competing models enumerated.\n"
     ]
    },
    {
     "name": "stderr",
     "output_type": "stream",
     "text": [
      "100%|███████████████████████████████████████████████████████████████████████████████████████████████████████████████████████████████████████████████████████████████████████████████████████████████████| 79/79 [04:59<00:00,  3.79s/it]\n"
     ]
    },
    {
     "name": "stdout",
     "output_type": "stream",
     "text": [
      "Processing user 9gpKpL2nWUcfz8mxAh0Xzw task control\n",
      "4 competing models enumerated.\n"
     ]
    },
    {
     "name": "stderr",
     "output_type": "stream",
     "text": [
      "100%|███████████████████████████████████████████████████████████████████████████████████████████████████████████████████████████████████████████████████████████████████████████████████████████████████| 93/93 [05:53<00:00,  3.80s/it]\n"
     ]
    },
    {
     "name": "stdout",
     "output_type": "stream",
     "text": [
      "Processing user UzXgncdrALjAjrxyveyLrA task greedy\n",
      "4 competing models enumerated.\n"
     ]
    },
    {
     "name": "stderr",
     "output_type": "stream",
     "text": [
      "100%|███████████████████████████████████████████████████████████████████████████████████████████████████████████████████████████████████████████████████████████████████████████████████████████████████| 93/93 [05:52<00:00,  3.79s/it]\n",
      "  0%|                                                                                                                                                                                                            | 0/77 [00:00<?, ?it/s]"
     ]
    },
    {
     "name": "stdout",
     "output_type": "stream",
     "text": [
      "Processing user 4ffSoA9uBjbb6IiECmA6bA task control\n",
      "4 competing models enumerated.\n"
     ]
    },
    {
     "name": "stderr",
     "output_type": "stream",
     "text": [
      "100%|███████████████████████████████████████████████████████████████████████████████████████████████████████████████████████████████████████████████████████████████████████████████████████████████████| 77/77 [04:51<00:00,  3.79s/it]\n",
      "  0%|                                                                                                                                                                                                            | 0/33 [00:00<?, ?it/s]"
     ]
    },
    {
     "name": "stdout",
     "output_type": "stream",
     "text": [
      "Processing user zuHD08T_ba4T2Gjp96aXhA task control\n",
      "4 competing models enumerated.\n"
     ]
    },
    {
     "name": "stderr",
     "output_type": "stream",
     "text": [
      "100%|███████████████████████████████████████████████████████████████████████████████████████████████████████████████████████████████████████████████████████████████████████████████████████████████████| 33/33 [02:03<00:00,  3.74s/it]\n"
     ]
    },
    {
     "name": "stdout",
     "output_type": "stream",
     "text": [
      "Processing user m35vlecXWMm32D157_1SFw task greedy\n",
      "4 competing models enumerated.\n"
     ]
    },
    {
     "name": "stderr",
     "output_type": "stream",
     "text": [
      "100%|█████████████████████████████████████████████████████████████████████████████████████████████████████████████████████████████████████████████████████████████████████████████████████████████████| 112/112 [07:06<00:00,  3.81s/it]\n",
      "  0%|                                                                                                                                                                                                           | 0/110 [00:00<?, ?it/s]"
     ]
    },
    {
     "name": "stdout",
     "output_type": "stream",
     "text": [
      "Processing user Nq4mKs5hJ8Dc063VT1f3qg task control\n",
      "4 competing models enumerated.\n"
     ]
    },
    {
     "name": "stderr",
     "output_type": "stream",
     "text": [
      "100%|█████████████████████████████████████████████████████████████████████████████████████████████████████████████████████████████████████████████████████████████████████████████████████████████████| 110/110 [06:58<00:00,  3.81s/it]\n",
      "  0%|                                                                                                                                                                                                            | 0/88 [00:00<?, ?it/s]"
     ]
    },
    {
     "name": "stdout",
     "output_type": "stream",
     "text": [
      "Processing user MmnvXyPd-cyyKRhtUwKqhQ task control\n",
      "4 competing models enumerated.\n"
     ]
    },
    {
     "name": "stderr",
     "output_type": "stream",
     "text": [
      "100%|███████████████████████████████████████████████████████████████████████████████████████████████████████████████████████████████████████████████████████████████████████████████████████████████████| 88/88 [05:34<00:00,  3.80s/it]\n",
      "  0%|                                                                                                                                                                                                           | 0/156 [00:00<?, ?it/s]"
     ]
    },
    {
     "name": "stdout",
     "output_type": "stream",
     "text": [
      "Processing user JjcI7g84OpS3dppwczTegw task control\n",
      "4 competing models enumerated.\n"
     ]
    },
    {
     "name": "stderr",
     "output_type": "stream",
     "text": [
      "100%|█████████████████████████████████████████████████████████████████████████████████████████████████████████████████████████████████████████████████████████████████████████████████████████████████| 156/156 [09:55<00:00,  3.82s/it]\n",
      "  0%|                                                                                                                                                                                                           | 0/134 [00:00<?, ?it/s]"
     ]
    },
    {
     "name": "stdout",
     "output_type": "stream",
     "text": [
      "Processing user mJPpcH_KAPivl65Hmq_R1Q task greedy\n",
      "4 competing models enumerated.\n"
     ]
    },
    {
     "name": "stderr",
     "output_type": "stream",
     "text": [
      "100%|█████████████████████████████████████████████████████████████████████████████████████████████████████████████████████████████████████████████████████████████████████████████████████████████████| 134/134 [08:31<00:00,  3.81s/it]\n",
      "  0%|                                                                                                                                                                                                            | 0/51 [00:00<?, ?it/s]"
     ]
    },
    {
     "name": "stdout",
     "output_type": "stream",
     "text": [
      "Processing user 3BgluksNw7LMIzSlCIQ03A task control\n",
      "4 competing models enumerated.\n"
     ]
    },
    {
     "name": "stderr",
     "output_type": "stream",
     "text": [
      "100%|███████████████████████████████████████████████████████████████████████████████████████████████████████████████████████████████████████████████████████████████████████████████████████████████████| 51/51 [03:13<00:00,  3.79s/it]\n"
     ]
    },
    {
     "name": "stdout",
     "output_type": "stream",
     "text": [
      "Processing user w3wvq5o6qqajfpLRsKR_-w task control\n",
      "4 competing models enumerated.\n"
     ]
    },
    {
     "name": "stderr",
     "output_type": "stream",
     "text": [
      "100%|█████████████████████████████████████████████████████████████████████████████████████████████████████████████████████████████████████████████████████████████████████████████████████████████████| 111/111 [07:02<00:00,  3.80s/it]\n"
     ]
    },
    {
     "name": "stdout",
     "output_type": "stream",
     "text": [
      "Processing user AT2Ml2hfcNEsk7sZy_QHqw task control\n",
      "4 competing models enumerated.\n"
     ]
    },
    {
     "name": "stderr",
     "output_type": "stream",
     "text": [
      "0it [00:00, ?it/s]\n"
     ]
    },
    {
     "name": "stdout",
     "output_type": "stream",
     "text": [
      "Processing user sy8HjGfNzVj1cjblJSY22Q task control\n",
      "4 competing models enumerated.\n"
     ]
    },
    {
     "name": "stderr",
     "output_type": "stream",
     "text": [
      "100%|███████████████████████████████████████████████████████████████████████████████████████████████████████████████████████████████████████████████████████████████████████████████████████████████████| 93/93 [05:53<00:00,  3.80s/it]\n",
      "  0%|                                                                                                                                                                                                            | 0/59 [00:00<?, ?it/s]"
     ]
    },
    {
     "name": "stdout",
     "output_type": "stream",
     "text": [
      "Processing user VhgZ5EbLfzE22Iw2tVfE9A task greedy\n",
      "4 competing models enumerated.\n"
     ]
    },
    {
     "name": "stderr",
     "output_type": "stream",
     "text": [
      "100%|███████████████████████████████████████████████████████████████████████████████████████████████████████████████████████████████████████████████████████████████████████████████████████████████████| 59/59 [03:43<00:00,  3.78s/it]\n"
     ]
    },
    {
     "name": "stdout",
     "output_type": "stream",
     "text": [
      "Processing user y8og7vrDFCRp4730ewy5og task control\n",
      "4 competing models enumerated.\n"
     ]
    },
    {
     "name": "stderr",
     "output_type": "stream",
     "text": [
      "100%|███████████████████████████████████████████████████████████████████████████████████████████████████████████████████████████████████████████████████████████████████████████████████████████████████| 41/41 [02:34<00:00,  3.76s/it]\n"
     ]
    },
    {
     "name": "stdout",
     "output_type": "stream",
     "text": [
      "Processing user pSEODcY6AnYvn02J9GGdcg task control\n",
      "4 competing models enumerated.\n"
     ]
    },
    {
     "name": "stderr",
     "output_type": "stream",
     "text": [
      "100%|███████████████████████████████████████████████████████████████████████████████████████████████████████████████████████████████████████████████████████████████████████████████████████████████████| 75/75 [04:44<00:00,  3.79s/it]\n"
     ]
    },
    {
     "name": "stdout",
     "output_type": "stream",
     "text": [
      "Processing user KC0H25pMHmZWuX8C6Sx-_g task greedy\n",
      "4 competing models enumerated.\n"
     ]
    },
    {
     "name": "stderr",
     "output_type": "stream",
     "text": [
      "100%|█████████████████████████████████████████████████████████████████████████████████████████████████████████████████████████████████████████████████████████████████████████████████████████████████| 114/114 [07:14<00:00,  3.81s/it]\n"
     ]
    },
    {
     "name": "stdout",
     "output_type": "stream",
     "text": [
      "Processing user EV9n2qVr2U2ES5bI-Cdyhg task greedy\n",
      "4 competing models enumerated.\n"
     ]
    },
    {
     "name": "stderr",
     "output_type": "stream",
     "text": [
      "100%|███████████████████████████████████████████████████████████████████████████████████████████████████████████████████████████████████████████████████████████████████████████████████████████████████| 81/81 [05:07<00:00,  3.80s/it]\n"
     ]
    },
    {
     "name": "stdout",
     "output_type": "stream",
     "text": [
      "Processing user U7Pma3fUpC72WNzsPyaY7Q task control\n",
      "4 competing models enumerated.\n"
     ]
    },
    {
     "name": "stderr",
     "output_type": "stream",
     "text": [
      "100%|███████████████████████████████████████████████████████████████████████████████████████████████████████████████████████████████████████████████████████████████████████████████████████████████████| 41/41 [02:34<00:00,  3.77s/it]\n",
      "  0%|                                                                                                                                                                                                           | 0/122 [00:00<?, ?it/s]"
     ]
    },
    {
     "name": "stdout",
     "output_type": "stream",
     "text": [
      "Processing user m93gPa6QBwovlafBAy7edQ task greedy\n",
      "4 competing models enumerated.\n"
     ]
    },
    {
     "name": "stderr",
     "output_type": "stream",
     "text": [
      "100%|█████████████████████████████████████████████████████████████████████████████████████████████████████████████████████████████████████████████████████████████████████████████████████████████████| 122/122 [07:44<00:00,  3.81s/it]\n",
      "  0%|                                                                                                                                                                                                            | 0/98 [00:00<?, ?it/s]"
     ]
    },
    {
     "name": "stdout",
     "output_type": "stream",
     "text": [
      "Processing user HrEpGdg2fgOR7zYhlElElw task control\n",
      "4 competing models enumerated.\n"
     ]
    },
    {
     "name": "stderr",
     "output_type": "stream",
     "text": [
      "100%|███████████████████████████████████████████████████████████████████████████████████████████████████████████████████████████████████████████████████████████████████████████████████████████████████| 98/98 [06:12<00:00,  3.81s/it]\n",
      "  0%|                                                                                                                                                                                                            | 0/86 [00:00<?, ?it/s]"
     ]
    },
    {
     "name": "stdout",
     "output_type": "stream",
     "text": [
      "Processing user ykgZOJHZlLka4fBLn89ZGg task control\n",
      "4 competing models enumerated.\n"
     ]
    },
    {
     "name": "stderr",
     "output_type": "stream",
     "text": [
      "100%|███████████████████████████████████████████████████████████████████████████████████████████████████████████████████████████████████████████████████████████████████████████████████████████████████| 86/86 [05:26<00:00,  3.79s/it]\n"
     ]
    },
    {
     "name": "stdout",
     "output_type": "stream",
     "text": [
      "Processing user QVknIlaxajN5eM1CrZB-JA task control\n",
      "4 competing models enumerated.\n"
     ]
    },
    {
     "name": "stderr",
     "output_type": "stream",
     "text": [
      "100%|███████████████████████████████████████████████████████████████████████████████████████████████████████████████████████████████████████████████████████████████████████████████████████████████████| 42/42 [02:38<00:00,  3.77s/it]\n"
     ]
    },
    {
     "name": "stdout",
     "output_type": "stream",
     "text": [
      "Processing user aDbzRAWuqzHLqD8l7uEwpg task control\n",
      "4 competing models enumerated.\n"
     ]
    },
    {
     "name": "stderr",
     "output_type": "stream",
     "text": [
      "100%|███████████████████████████████████████████████████████████████████████████████████████████████████████████████████████████████████████████████████████████████████████████████████████████████████| 78/78 [04:55<00:00,  3.79s/it]\n"
     ]
    },
    {
     "name": "stdout",
     "output_type": "stream",
     "text": [
      "Processing user jDiIqd5LZb87Inn7328GMg task greedy\n",
      "4 competing models enumerated.\n"
     ]
    },
    {
     "name": "stderr",
     "output_type": "stream",
     "text": [
      "100%|███████████████████████████████████████████████████████████████████████████████████████████████████████████████████████████████████████████████████████████████████████████████████████████████████| 95/95 [06:01<00:00,  3.80s/it]\n",
      "  0%|                                                                                                                                                                                                           | 0/116 [00:00<?, ?it/s]"
     ]
    },
    {
     "name": "stdout",
     "output_type": "stream",
     "text": [
      "Processing user oPycB65p8Uap3bmy1yGo0A task greedy\n",
      "4 competing models enumerated.\n"
     ]
    },
    {
     "name": "stderr",
     "output_type": "stream",
     "text": [
      "100%|█████████████████████████████████████████████████████████████████████████████████████████████████████████████████████████████████████████████████████████████████████████████████████████████████| 116/116 [07:22<00:00,  3.82s/it]\n"
     ]
    },
    {
     "name": "stdout",
     "output_type": "stream",
     "text": [
      "Processing user MLO9Pl5OPHDvCVW3LuO1sg task greedy\n",
      "4 competing models enumerated.\n"
     ]
    },
    {
     "name": "stderr",
     "output_type": "stream",
     "text": [
      "100%|█████████████████████████████████████████████████████████████████████████████████████████████████████████████████████████████████████████████████████████████████████████████████████████████████| 117/117 [07:25<00:00,  3.80s/it]\n"
     ]
    },
    {
     "name": "stdout",
     "output_type": "stream",
     "text": [
      "Processing user Xi8Tbn4gbexPQpZa5VGkUw task control\n",
      "4 competing models enumerated.\n"
     ]
    },
    {
     "name": "stderr",
     "output_type": "stream",
     "text": [
      "100%|███████████████████████████████████████████████████████████████████████████████████████████████████████████████████████████████████████████████████████████████████████████████████████████████████| 63/63 [03:58<00:00,  3.79s/it]\n",
      "  0%|                                                                                                                                                                                                            | 0/71 [00:00<?, ?it/s]"
     ]
    },
    {
     "name": "stdout",
     "output_type": "stream",
     "text": [
      "Processing user riPuXirdQKONUOzAK2ZVPQ task control\n",
      "4 competing models enumerated.\n"
     ]
    },
    {
     "name": "stderr",
     "output_type": "stream",
     "text": [
      "100%|███████████████████████████████████████████████████████████████████████████████████████████████████████████████████████████████████████████████████████████████████████████████████████████████████| 71/71 [04:29<00:00,  3.79s/it]\n"
     ]
    },
    {
     "name": "stdout",
     "output_type": "stream",
     "text": [
      "Processing user v2U_6Tu1C-lTvQJR9wHy2Q task greedy\n",
      "4 competing models enumerated.\n"
     ]
    },
    {
     "name": "stderr",
     "output_type": "stream",
     "text": [
      "100%|█████████████████████████████████████████████████████████████████████████████████████████████████████████████████████████████████████████████████████████████████████████████████████████████████| 133/133 [08:26<00:00,  3.81s/it]\n",
      "  0%|                                                                                                                                                                                                           | 0/138 [00:00<?, ?it/s]"
     ]
    },
    {
     "name": "stdout",
     "output_type": "stream",
     "text": [
      "Processing user ZZxf0JnuVuacQmLQPThEBg task greedy\n",
      "4 competing models enumerated.\n"
     ]
    },
    {
     "name": "stderr",
     "output_type": "stream",
     "text": [
      "100%|█████████████████████████████████████████████████████████████████████████████████████████████████████████████████████████████████████████████████████████████████████████████████████████████████| 138/138 [08:46<00:00,  3.82s/it]\n",
      "  0%|                                                                                                                                                                                                           | 0/155 [00:00<?, ?it/s]"
     ]
    },
    {
     "name": "stdout",
     "output_type": "stream",
     "text": [
      "Processing user _VBPpE2K2iPmIupvUdU-zg task greedy\n",
      "4 competing models enumerated.\n"
     ]
    },
    {
     "name": "stderr",
     "output_type": "stream",
     "text": [
      "100%|█████████████████████████████████████████████████████████████████████████████████████████████████████████████████████████████████████████████████████████████████████████████████████████████████| 155/155 [09:50<00:00,  3.81s/it]\n",
      "  0%|                                                                                                                                                                                                            | 0/99 [00:00<?, ?it/s]"
     ]
    },
    {
     "name": "stdout",
     "output_type": "stream",
     "text": [
      "Processing user JYYB5x6oqkd0ZvWMJEVlhg task greedy\n",
      "4 competing models enumerated.\n"
     ]
    },
    {
     "name": "stderr",
     "output_type": "stream",
     "text": [
      "100%|███████████████████████████████████████████████████████████████████████████████████████████████████████████████████████████████████████████████████████████████████████████████████████████████████| 99/99 [06:15<00:00,  3.80s/it]\n",
      "  0%|                                                                                                                                                                                                            | 0/89 [00:00<?, ?it/s]"
     ]
    },
    {
     "name": "stdout",
     "output_type": "stream",
     "text": [
      "Processing user 6FdkeNiQYrM_ol2yVmmxYA task control\n",
      "4 competing models enumerated.\n"
     ]
    },
    {
     "name": "stderr",
     "output_type": "stream",
     "text": [
      "100%|███████████████████████████████████████████████████████████████████████████████████████████████████████████████████████████████████████████████████████████████████████████████████████████████████| 89/89 [05:38<00:00,  3.80s/it]\n",
      "  0%|                                                                                                                                                                                                            | 0/71 [00:00<?, ?it/s]"
     ]
    },
    {
     "name": "stdout",
     "output_type": "stream",
     "text": [
      "Processing user GXaCM667o1nnMLifJ7MMMw task control\n",
      "4 competing models enumerated.\n"
     ]
    },
    {
     "name": "stderr",
     "output_type": "stream",
     "text": [
      "100%|███████████████████████████████████████████████████████████████████████████████████████████████████████████████████████████████████████████████████████████████████████████████████████████████████| 71/71 [04:28<00:00,  3.78s/it]\n"
     ]
    },
    {
     "name": "stdout",
     "output_type": "stream",
     "text": [
      "Processing user -kwivBWYQno0uVHMp4FPLA task control\n",
      "4 competing models enumerated.\n"
     ]
    },
    {
     "name": "stderr",
     "output_type": "stream",
     "text": [
      "100%|█████████████████████████████████████████████████████████████████████████████████████████████████████████████████████████████████████████████████████████████████████████████████████████████████████| 2/2 [00:04<00:00,  2.35s/it]\n"
     ]
    },
    {
     "name": "stdout",
     "output_type": "stream",
     "text": [
      "Processing user xMyJyQ1GbKEJTsQIggEuGA task greedy\n",
      "4 competing models enumerated.\n"
     ]
    },
    {
     "name": "stderr",
     "output_type": "stream",
     "text": [
      "100%|███████████████████████████████████████████████████████████████████████████████████████████████████████████████████████████████████████████████████████████████████████████████████████████████████| 59/59 [03:43<00:00,  3.79s/it]\n"
     ]
    },
    {
     "name": "stdout",
     "output_type": "stream",
     "text": [
      "Processing user 33ZLRYakyAgh7h2iFn1NOw task control\n",
      "4 competing models enumerated.\n"
     ]
    },
    {
     "name": "stderr",
     "output_type": "stream",
     "text": [
      "100%|█████████████████████████████████████████████████████████████████████████████████████████████████████████████████████████████████████████████████████████████████████████████████████████████████████| 4/4 [00:12<00:00,  3.10s/it]\n"
     ]
    },
    {
     "name": "stdout",
     "output_type": "stream",
     "text": [
      "Processing user OsR8tpHbiZDTgN_Fni1xvA task control\n",
      "4 competing models enumerated.\n"
     ]
    },
    {
     "name": "stderr",
     "output_type": "stream",
     "text": [
      "100%|███████████████████████████████████████████████████████████████████████████████████████████████████████████████████████████████████████████████████████████████████████████████████████████████████| 55/55 [03:27<00:00,  3.78s/it]\n",
      "  0%|                                                                                                                                                                                                            | 0/97 [00:00<?, ?it/s]"
     ]
    },
    {
     "name": "stdout",
     "output_type": "stream",
     "text": [
      "Processing user wSZ7_Au-lq0AvLyYHckErA task control\n",
      "4 competing models enumerated.\n"
     ]
    },
    {
     "name": "stderr",
     "output_type": "stream",
     "text": [
      "100%|███████████████████████████████████████████████████████████████████████████████████████████████████████████████████████████████████████████████████████████████████████████████████████████████████| 97/97 [06:09<00:00,  3.81s/it]\n",
      "  0%|                                                                                                                                                                                                            | 0/68 [00:00<?, ?it/s]"
     ]
    },
    {
     "name": "stdout",
     "output_type": "stream",
     "text": [
      "Processing user FyySgtJHe3bgGN1nAvmRlA task control\n",
      "4 competing models enumerated.\n"
     ]
    },
    {
     "name": "stderr",
     "output_type": "stream",
     "text": [
      "100%|███████████████████████████████████████████████████████████████████████████████████████████████████████████████████████████████████████████████████████████████████████████████████████████████████| 68/68 [04:18<00:00,  3.80s/it]\n",
      "  0%|                                                                                                                                                                                                            | 0/81 [00:00<?, ?it/s]"
     ]
    },
    {
     "name": "stdout",
     "output_type": "stream",
     "text": [
      "Processing user sIUlHrVUba449u2GUMASHA task control\n",
      "4 competing models enumerated.\n"
     ]
    },
    {
     "name": "stderr",
     "output_type": "stream",
     "text": [
      "100%|███████████████████████████████████████████████████████████████████████████████████████████████████████████████████████████████████████████████████████████████████████████████████████████████████| 81/81 [05:08<00:00,  3.81s/it]\n",
      "  0%|                                                                                                                                                                                                            | 0/28 [00:00<?, ?it/s]"
     ]
    },
    {
     "name": "stdout",
     "output_type": "stream",
     "text": [
      "Processing user LMM61OcS7fIJKjpp8PLRwA task control\n",
      "4 competing models enumerated.\n"
     ]
    },
    {
     "name": "stderr",
     "output_type": "stream",
     "text": [
      "100%|███████████████████████████████████████████████████████████████████████████████████████████████████████████████████████████████████████████████████████████████████████████████████████████████████| 28/28 [01:44<00:00,  3.73s/it]\n"
     ]
    },
    {
     "name": "stdout",
     "output_type": "stream",
     "text": [
      "Processing user twF3ibAy0Lt1-rqJShli2w task control\n",
      "4 competing models enumerated.\n"
     ]
    },
    {
     "name": "stderr",
     "output_type": "stream",
     "text": [
      "100%|█████████████████████████████████████████████████████████████████████████████████████████████████████████████████████████████████████████████████████████████████████████████████████████████████| 139/139 [08:50<00:00,  3.82s/it]\n",
      "  0%|                                                                                                                                                                                                           | 0/132 [00:00<?, ?it/s]"
     ]
    },
    {
     "name": "stdout",
     "output_type": "stream",
     "text": [
      "Processing user j59cGql1GzmBLGPE0kct3g task greedy\n",
      "4 competing models enumerated.\n"
     ]
    },
    {
     "name": "stderr",
     "output_type": "stream",
     "text": [
      "100%|█████████████████████████████████████████████████████████████████████████████████████████████████████████████████████████████████████████████████████████████████████████████████████████████████| 132/132 [08:23<00:00,  3.82s/it]\n"
     ]
    },
    {
     "name": "stdout",
     "output_type": "stream",
     "text": [
      "Processing user x2YPwqGiPma1PtdaR0pcsA task control\n",
      "4 competing models enumerated.\n"
     ]
    },
    {
     "name": "stderr",
     "output_type": "stream",
     "text": [
      "100%|███████████████████████████████████████████████████████████████████████████████████████████████████████████████████████████████████████████████████████████████████████████████████████████████████| 34/34 [02:07<00:00,  3.74s/it]\n"
     ]
    },
    {
     "name": "stdout",
     "output_type": "stream",
     "text": [
      "Processing user QNBeokFcfTDtlTtd_pt2fw task greedy\n",
      "4 competing models enumerated.\n"
     ]
    },
    {
     "name": "stderr",
     "output_type": "stream",
     "text": [
      "100%|███████████████████████████████████████████████████████████████████████████████████████████████████████████████████████████████████████████████████████████████████████████████████████████████████| 64/64 [04:02<00:00,  3.78s/it]\n",
      "  0%|                                                                                                                                                                                                            | 0/74 [00:00<?, ?it/s]"
     ]
    },
    {
     "name": "stdout",
     "output_type": "stream",
     "text": [
      "Processing user F0Wnn8mBVBKSysvLxzhJew task control\n",
      "4 competing models enumerated.\n"
     ]
    },
    {
     "name": "stderr",
     "output_type": "stream",
     "text": [
      "100%|███████████████████████████████████████████████████████████████████████████████████████████████████████████████████████████████████████████████████████████████████████████████████████████████████| 74/74 [04:40<00:00,  3.80s/it]\n"
     ]
    },
    {
     "name": "stdout",
     "output_type": "stream",
     "text": [
      "Processing user Vh_chN4sPjP99A8mc8q3tw task greedy\n",
      "4 competing models enumerated.\n"
     ]
    },
    {
     "name": "stderr",
     "output_type": "stream",
     "text": [
      "100%|█████████████████████████████████████████████████████████████████████████████████████████████████████████████████████████████████████████████████████████████████████████████████████████████████| 125/125 [07:56<00:00,  3.82s/it]\n"
     ]
    },
    {
     "name": "stdout",
     "output_type": "stream",
     "text": [
      "Processing user 4moLYRc59xNJAPagNVcy5A task greedy\n",
      "4 competing models enumerated.\n"
     ]
    },
    {
     "name": "stderr",
     "output_type": "stream",
     "text": [
      "100%|███████████████████████████████████████████████████████████████████████████████████████████████████████████████████████████████████████████████████████████████████████████████████████████████████| 59/59 [03:42<00:00,  3.78s/it]\n",
      "  0%|                                                                                                                                                                                                             | 0/4 [00:00<?, ?it/s]"
     ]
    },
    {
     "name": "stdout",
     "output_type": "stream",
     "text": [
      "Processing user B7ZaxlNNz11L0f6MLaOFeg task greedy\n",
      "4 competing models enumerated.\n"
     ]
    },
    {
     "name": "stderr",
     "output_type": "stream",
     "text": [
      "100%|█████████████████████████████████████████████████████████████████████████████████████████████████████████████████████████████████████████████████████████████████████████████████████████████████████| 4/4 [00:12<00:00,  3.08s/it]\n",
      "  0%|                                                                                                                                                                                                            | 0/58 [00:00<?, ?it/s]"
     ]
    },
    {
     "name": "stdout",
     "output_type": "stream",
     "text": [
      "Processing user FZl65iI0EoU-NFlIzal82Q task control\n",
      "4 competing models enumerated.\n"
     ]
    },
    {
     "name": "stderr",
     "output_type": "stream",
     "text": [
      "100%|███████████████████████████████████████████████████████████████████████████████████████████████████████████████████████████████████████████████████████████████████████████████████████████████████| 58/58 [03:38<00:00,  3.78s/it]\n"
     ]
    },
    {
     "name": "stdout",
     "output_type": "stream",
     "text": [
      "Processing user tYCAwT3T7WtrpGuuLWyeyw task control\n",
      "4 competing models enumerated.\n"
     ]
    },
    {
     "name": "stderr",
     "output_type": "stream",
     "text": [
      "100%|███████████████████████████████████████████████████████████████████████████████████████████████████████████████████████████████████████████████████████████████████████████████████████████████████| 44/44 [02:45<00:00,  3.77s/it]\n"
     ]
    },
    {
     "name": "stdout",
     "output_type": "stream",
     "text": [
      "Processing user vORWFrZw9Qf5YJnFImjhMg task control\n",
      "4 competing models enumerated.\n"
     ]
    },
    {
     "name": "stderr",
     "output_type": "stream",
     "text": [
      "100%|███████████████████████████████████████████████████████████████████████████████████████████████████████████████████████████████████████████████████████████████████████████████████████████████████| 53/53 [03:19<00:00,  3.77s/it]\n"
     ]
    },
    {
     "name": "stdout",
     "output_type": "stream",
     "text": [
      "Processing user kMeuem7X1gWTQAnPXzyXdw task greedy\n",
      "4 competing models enumerated.\n"
     ]
    },
    {
     "name": "stderr",
     "output_type": "stream",
     "text": [
      "100%|█████████████████████████████████████████████████████████████████████████████████████████████████████████████████████████████████████████████████████████████████████████████████████████████████| 129/129 [08:12<00:00,  3.82s/it]\n"
     ]
    },
    {
     "name": "stdout",
     "output_type": "stream",
     "text": [
      "Processing user 5bKBzTuSK8-yD97HTS1dZw task control\n",
      "4 competing models enumerated.\n"
     ]
    },
    {
     "name": "stderr",
     "output_type": "stream",
     "text": [
      "100%|███████████████████████████████████████████████████████████████████████████████████████████████████████████████████████████████████████████████████████████████████████████████████████████████████| 55/55 [03:27<00:00,  3.78s/it]\n"
     ]
    },
    {
     "name": "stdout",
     "output_type": "stream",
     "text": [
      "Processing user W_ll1tgFo2bkBT13i2jSIg task greedy\n",
      "4 competing models enumerated.\n"
     ]
    },
    {
     "name": "stderr",
     "output_type": "stream",
     "text": [
      "100%|█████████████████████████████████████████████████████████████████████████████████████████████████████████████████████████████████████████████████████████████████████████████████████████████████| 106/106 [06:43<00:00,  3.81s/it]\n",
      "  0%|                                                                                                                                                                                                            | 0/68 [00:00<?, ?it/s]"
     ]
    },
    {
     "name": "stdout",
     "output_type": "stream",
     "text": [
      "Processing user dHVuS9KdxqjsZ_rqnQS1jw task greedy\n",
      "4 competing models enumerated.\n"
     ]
    },
    {
     "name": "stderr",
     "output_type": "stream",
     "text": [
      "100%|███████████████████████████████████████████████████████████████████████████████████████████████████████████████████████████████████████████████████████████████████████████████████████████████████| 68/68 [04:18<00:00,  3.80s/it]\n",
      "  0%|                                                                                                                                                                                                            | 0/39 [00:00<?, ?it/s]"
     ]
    },
    {
     "name": "stdout",
     "output_type": "stream",
     "text": [
      "Processing user TNh4yciycOwATX7OZcMqAw task control\n",
      "4 competing models enumerated.\n"
     ]
    },
    {
     "name": "stderr",
     "output_type": "stream",
     "text": [
      "100%|███████████████████████████████████████████████████████████████████████████████████████████████████████████████████████████████████████████████████████████████████████████████████████████████████| 39/39 [02:26<00:00,  3.77s/it]\n",
      "  0%|                                                                                                                                                                                                            | 0/49 [00:00<?, ?it/s]"
     ]
    },
    {
     "name": "stdout",
     "output_type": "stream",
     "text": [
      "Processing user xFutzVnyUPJa1FdcHDBuOA task control\n",
      "4 competing models enumerated.\n"
     ]
    },
    {
     "name": "stderr",
     "output_type": "stream",
     "text": [
      "100%|███████████████████████████████████████████████████████████████████████████████████████████████████████████████████████████████████████████████████████████████████████████████████████████████████| 49/49 [03:05<00:00,  3.78s/it]\n",
      "  0%|                                                                                                                                                                                                            | 0/59 [00:00<?, ?it/s]"
     ]
    },
    {
     "name": "stdout",
     "output_type": "stream",
     "text": [
      "Processing user 5GV8_vl7CrnU1n_e3BYAyA task control\n",
      "4 competing models enumerated.\n"
     ]
    },
    {
     "name": "stderr",
     "output_type": "stream",
     "text": [
      "100%|███████████████████████████████████████████████████████████████████████████████████████████████████████████████████████████████████████████████████████████████████████████████████████████████████| 59/59 [03:43<00:00,  3.78s/it]\n"
     ]
    },
    {
     "name": "stdout",
     "output_type": "stream",
     "text": [
      "Processing user RZKgmh54IrTo2bVMpg0L9w task control\n",
      "4 competing models enumerated.\n"
     ]
    },
    {
     "name": "stderr",
     "output_type": "stream",
     "text": [
      "100%|███████████████████████████████████████████████████████████████████████████████████████████████████████████████████████████████████████████████████████████████████████████████████████████████████| 38/38 [02:22<00:00,  3.75s/it]\n"
     ]
    },
    {
     "name": "stdout",
     "output_type": "stream",
     "text": [
      "Processing user CxFmhMS5PYYF-f2YdntYMg task control\n",
      "4 competing models enumerated.\n"
     ]
    },
    {
     "name": "stderr",
     "output_type": "stream",
     "text": [
      "100%|███████████████████████████████████████████████████████████████████████████████████████████████████████████████████████████████████████████████████████████████████████████████████████████████████| 38/38 [02:22<00:00,  3.76s/it]\n"
     ]
    },
    {
     "name": "stdout",
     "output_type": "stream",
     "text": [
      "Processing user Z2yONYSDzxqhG_m_AZAnog task control\n",
      "4 competing models enumerated.\n"
     ]
    },
    {
     "name": "stderr",
     "output_type": "stream",
     "text": [
      "100%|█████████████████████████████████████████████████████████████████████████████████████████████████████████████████████████████████████████████████████████████████████████████████████████████████| 117/117 [07:25<00:00,  3.81s/it]\n"
     ]
    }
   ],
   "source": [
    "# This blocks runs competing models on all sessions and records the outputs\n",
    "# The results are saved to a file, so only need to run this block if you need new results\n",
    "\n",
    "vast_results = pd.DataFrame()\n",
    "ks = [1, 5, 10, 20, 50, 100]\n",
    "for participant_index, row in interaction_data.iterrows():\n",
    "    print(f'Processing user {row.user} task {row.experimental_group}')\n",
    "    results = {'participant_id': row.user, 'task': row.experimental_group}\n",
    "    competing_models = CompetingModels(underlying_data, [['latitude', 'longitude']], ['topic'])\n",
    "    predicted = pd.DataFrame()\n",
    "    rank_predicted = []\n",
    "    for i in tqdm(range(len(interaction_data.iloc[participant_index].interaction_session))):\n",
    "        interaction = interaction_data.iloc[participant_index].interaction_session[i]\n",
    "        # print(interaction)\n",
    "        competing_models.update(interaction)\n",
    "\n",
    "        if i < len(interaction_data.iloc[participant_index].interaction_session) - 1:\n",
    "            probability_of_next_point = competing_models.predict()\n",
    "            next_point = interaction_data.iloc[participant_index].interaction_session[i+1]\n",
    "            predicted_next_dict = {}\n",
    "            for k in ks:\n",
    "                predicted_next_dict[k] = (next_point in probability_of_next_point.nlargest(k).index.values)\n",
    "            predicted = predicted.append(predicted_next_dict, ignore_index=True)\n",
    "            sorted_prob = probability_of_next_point.sort_values(ascending=False)\n",
    "            rank, = np.where(sorted_prob.index.values == next_point)\n",
    "            rank_predicted.append(rank[0] + 1)\n",
    "            \n",
    "    ncp = predicted.sum()/len(predicted)\n",
    "    results['rank'] = rank_predicted \n",
    "    \n",
    "    for col in ncp.index:\n",
    "        results[f'ncp-{col}'] = ncp[col]\n",
    "        \n",
    "    bias = competing_models.get_attribute_bias()\n",
    "    for col in bias.columns:\n",
    "        results[f'bias-{col}'] = bias[col].to_numpy()\n",
    "        \n",
    "    posterior = competing_models.get_model_posterior()\n",
    "    for col in posterior.columns:\n",
    "        results[f'posterior-{col}'] = posterior[col].to_numpy()\n",
    "    \n",
    "    vast_results = vast_results.append(results, ignore_index=True)\n",
    "    \n",
    "vast_results.to_pickle(output_file_path)"
   ]
  },
  {
   "cell_type": "code",
   "execution_count": 7,
   "id": "c7581fde",
   "metadata": {},
   "outputs": [
    {
     "data": {
      "text/html": [
       "<div>\n",
       "<style scoped>\n",
       "    .dataframe tbody tr th:only-of-type {\n",
       "        vertical-align: middle;\n",
       "    }\n",
       "\n",
       "    .dataframe tbody tr th {\n",
       "        vertical-align: top;\n",
       "    }\n",
       "\n",
       "    .dataframe thead th {\n",
       "        text-align: right;\n",
       "    }\n",
       "</style>\n",
       "<table border=\"1\" class=\"dataframe\">\n",
       "  <thead>\n",
       "    <tr style=\"text-align: right;\">\n",
       "      <th></th>\n",
       "      <th>bias-latitude___longitude</th>\n",
       "      <th>bias-topic</th>\n",
       "      <th>ncp-1</th>\n",
       "      <th>ncp-10</th>\n",
       "      <th>ncp-100</th>\n",
       "      <th>ncp-20</th>\n",
       "      <th>ncp-5</th>\n",
       "      <th>ncp-50</th>\n",
       "      <th>participant_id</th>\n",
       "      <th>posterior-competing_model__</th>\n",
       "      <th>posterior-competing_model__latitude___longitude</th>\n",
       "      <th>posterior-competing_model__latitude___longitude___topic</th>\n",
       "      <th>posterior-competing_model__topic</th>\n",
       "      <th>task</th>\n",
       "    </tr>\n",
       "  </thead>\n",
       "  <tbody>\n",
       "    <tr>\n",
       "      <th>0</th>\n",
       "      <td>[0.5, 0.05576009518985921, 0.00940855911226514...</td>\n",
       "      <td>[0.5, 0.9198517360523307, 0.9685502616619076, ...</td>\n",
       "      <td>0.000000</td>\n",
       "      <td>0.045455</td>\n",
       "      <td>0.159091</td>\n",
       "      <td>0.068182</td>\n",
       "      <td>0.045455</td>\n",
       "      <td>0.090909</td>\n",
       "      <td>ottNn7b8Wt1EL-I0bfFbOA</td>\n",
       "      <td>[0.25, 0.053056598161336684, 0.024745036796714...</td>\n",
       "      <td>[0.25, 0.027091665786332642, 0.006704701541377...</td>\n",
       "      <td>[0.25, 0.02866842940352656, 0.0027038575708873...</td>\n",
       "      <td>[0.25, 0.8911833066488042, 0.9658464040910203,...</td>\n",
       "      <td>control</td>\n",
       "    </tr>\n",
       "    <tr>\n",
       "      <th>1</th>\n",
       "      <td>[0.5, 0.4542593226273206, 0.44683290977911616,...</td>\n",
       "      <td>[0.5, 0.5201481083016739, 0.5200500702429941, ...</td>\n",
       "      <td>0.020548</td>\n",
       "      <td>0.191781</td>\n",
       "      <td>0.684932</td>\n",
       "      <td>0.253425</td>\n",
       "      <td>0.109589</td>\n",
       "      <td>0.417808</td>\n",
       "      <td>Tn8m4yLs6E0GDO6sggwYTw</td>\n",
       "      <td>[0.25, 0.15688139063959539, 0.0901436001894285...</td>\n",
       "      <td>[0.25, 0.3229705010587307, 0.38980632956757744...</td>\n",
       "      <td>[0.25, 0.13128882156858993, 0.0570265802115387...</td>\n",
       "      <td>[0.25, 0.388859286733084, 0.4630234900314554, ...</td>\n",
       "      <td>control</td>\n",
       "    </tr>\n",
       "    <tr>\n",
       "      <th>2</th>\n",
       "      <td>[0.5, 0.43923540153229973, 0.4242659590836922,...</td>\n",
       "      <td>[0.5, 0.5265110029033394, 0.5360594480607752, ...</td>\n",
       "      <td>0.013889</td>\n",
       "      <td>0.125000</td>\n",
       "      <td>0.722222</td>\n",
       "      <td>0.256944</td>\n",
       "      <td>0.062500</td>\n",
       "      <td>0.520833</td>\n",
       "      <td>SW8GwZ1tt4Z5DiK3J4rw2g</td>\n",
       "      <td>[0.25, 0.16120024340606576, 0.0938210897164547...</td>\n",
       "      <td>[0.25, 0.3122887536905948, 0.37011946222277015...</td>\n",
       "      <td>[0.25, 0.12694664784170495, 0.0541464968609220...</td>\n",
       "      <td>[0.25, 0.39956435506163446, 0.4819129511998531...</td>\n",
       "      <td>control</td>\n",
       "    </tr>\n",
       "    <tr>\n",
       "      <th>3</th>\n",
       "      <td>[0.5, 0.0045612331074580134, 6.954209737387236...</td>\n",
       "      <td>[0.5, 0.970933066041456, 0.9879810253700101, 0...</td>\n",
       "      <td>0.000000</td>\n",
       "      <td>0.019608</td>\n",
       "      <td>0.215686</td>\n",
       "      <td>0.019608</td>\n",
       "      <td>0.000000</td>\n",
       "      <td>0.078431</td>\n",
       "      <td>POzOiTeXMSdTEbmSmI4wpg</td>\n",
       "      <td>[0.25, 0.02727008455257576, 0.0119751355550043...</td>\n",
       "      <td>[0.25, 0.0017968494059683083, 4.38390749855399...</td>\n",
       "      <td>[0.25, 0.002764383701489705, 2.570302238833245...</td>\n",
       "      <td>[0.25, 0.9681686823399663, 0.9879553223476217,...</td>\n",
       "      <td>control</td>\n",
       "    </tr>\n",
       "    <tr>\n",
       "      <th>4</th>\n",
       "      <td>[0.5, 0.45457169794455876, 0.00927761169944779...</td>\n",
       "      <td>[0.5, 0.5016302265898841, 0.8952304453566446, ...</td>\n",
       "      <td>0.000000</td>\n",
       "      <td>0.052632</td>\n",
       "      <td>0.052632</td>\n",
       "      <td>0.052632</td>\n",
       "      <td>0.000000</td>\n",
       "      <td>0.052632</td>\n",
       "      <td>n-Oq8YP_DhsByGZyxuGroQ</td>\n",
       "      <td>[0.25, 0.16989285991619751, 0.0975004259971796...</td>\n",
       "      <td>[0.25, 0.3284769134939185, 0.00726912864617585...</td>\n",
       "      <td>[0.25, 0.12609478445064023, 0.0020084830532719...</td>\n",
       "      <td>[0.25, 0.37553544213924384, 0.8932219623033727...</td>\n",
       "      <td>control</td>\n",
       "    </tr>\n",
       "    <tr>\n",
       "      <th>...</th>\n",
       "      <td>...</td>\n",
       "      <td>...</td>\n",
       "      <td>...</td>\n",
       "      <td>...</td>\n",
       "      <td>...</td>\n",
       "      <td>...</td>\n",
       "      <td>...</td>\n",
       "      <td>...</td>\n",
       "      <td>...</td>\n",
       "      <td>...</td>\n",
       "      <td>...</td>\n",
       "      <td>...</td>\n",
       "      <td>...</td>\n",
       "      <td>...</td>\n",
       "    </tr>\n",
       "    <tr>\n",
       "      <th>125</th>\n",
       "      <td>[0.5, 0.064153853360908, 0.04194656504404683, ...</td>\n",
       "      <td>[0.5, 0.9370529280396064, 0.9537693196308078, ...</td>\n",
       "      <td>0.000000</td>\n",
       "      <td>0.000000</td>\n",
       "      <td>0.125000</td>\n",
       "      <td>0.020833</td>\n",
       "      <td>0.000000</td>\n",
       "      <td>0.062500</td>\n",
       "      <td>xFutzVnyUPJa1FdcHDBuOA</td>\n",
       "      <td>[0.25, 0.03514101087195492, 0.0177040959514560...</td>\n",
       "      <td>[0.25, 0.02780606108843889, 0.0285265844177361...</td>\n",
       "      <td>[0.25, 0.0363477922724691, 0.01341998062631070...</td>\n",
       "      <td>[0.25, 0.9007051357671373, 0.9403493390044971,...</td>\n",
       "      <td>control</td>\n",
       "    </tr>\n",
       "    <tr>\n",
       "      <th>126</th>\n",
       "      <td>[0.5, 0.064153853360908, 0.0014021491744545716...</td>\n",
       "      <td>[0.5, 0.9370529280396064, 0.9805931151493272, ...</td>\n",
       "      <td>0.000000</td>\n",
       "      <td>0.017241</td>\n",
       "      <td>0.258621</td>\n",
       "      <td>0.034483</td>\n",
       "      <td>0.017241</td>\n",
       "      <td>0.155172</td>\n",
       "      <td>5GV8_vl7CrnU1n_e3BYAyA</td>\n",
       "      <td>[0.25, 0.03514101087195492, 0.0184533257988330...</td>\n",
       "      <td>[0.25, 0.02780606108843889, 0.0009535590518397...</td>\n",
       "      <td>[0.25, 0.0363477922724691, 0.00044859012261478...</td>\n",
       "      <td>[0.25, 0.9007051357671373, 0.9801445250267125,...</td>\n",
       "      <td>control</td>\n",
       "    </tr>\n",
       "    <tr>\n",
       "      <th>127</th>\n",
       "      <td>[0.5, 0.28076230215723236, 0.11122624360719886...</td>\n",
       "      <td>[0.5, 0.5730871381884072, 0.8253854933563238, ...</td>\n",
       "      <td>0.000000</td>\n",
       "      <td>0.162162</td>\n",
       "      <td>0.756757</td>\n",
       "      <td>0.324324</td>\n",
       "      <td>0.081081</td>\n",
       "      <td>0.540541</td>\n",
       "      <td>RZKgmh54IrTo2bVMpg0L9w</td>\n",
       "      <td>[0.25, 0.2240319194760618, 0.08746730757953074...</td>\n",
       "      <td>[0.25, 0.20288094233553122, 0.0871471990641455...</td>\n",
       "      <td>[0.25, 0.07788135982170115, 0.0240790445430532...</td>\n",
       "      <td>[0.25, 0.495205778366706, 0.8013064488132705, ...</td>\n",
       "      <td>control</td>\n",
       "    </tr>\n",
       "    <tr>\n",
       "      <th>128</th>\n",
       "      <td>[0.5, 0.025617245015267166, 0.0009826160740320...</td>\n",
       "      <td>[0.5, 0.8825926225183545, 0.9454366818249487, ...</td>\n",
       "      <td>0.000000</td>\n",
       "      <td>0.000000</td>\n",
       "      <td>0.270270</td>\n",
       "      <td>0.000000</td>\n",
       "      <td>0.000000</td>\n",
       "      <td>0.162162</td>\n",
       "      <td>CxFmhMS5PYYF-f2YdntYMg</td>\n",
       "      <td>[0.25, 0.10278465822400379, 0.0537899640683319...</td>\n",
       "      <td>[0.25, 0.01462271925764178, 0.0007733541067194...</td>\n",
       "      <td>[0.25, 0.010994525757625386, 0.000209261967312...</td>\n",
       "      <td>[0.25, 0.8715980967607291, 0.9452274198576361,...</td>\n",
       "      <td>control</td>\n",
       "    </tr>\n",
       "    <tr>\n",
       "      <th>129</th>\n",
       "      <td>[0.5, 0.4339137340699485, 0.11398162920297694,...</td>\n",
       "      <td>[0.5, 0.5287648225922139, 0.896641929703481, 0...</td>\n",
       "      <td>0.000000</td>\n",
       "      <td>0.086207</td>\n",
       "      <td>0.491379</td>\n",
       "      <td>0.181034</td>\n",
       "      <td>0.051724</td>\n",
       "      <td>0.379310</td>\n",
       "      <td>Z2yONYSDzxqhG_m_AZAnog</td>\n",
       "      <td>[0.25, 0.16273003699967217, 0.0221327948970459...</td>\n",
       "      <td>[0.25, 0.30850514040811383, 0.0812252753994729...</td>\n",
       "      <td>[0.25, 0.12540859366183466, 0.0327563538035039...</td>\n",
       "      <td>[0.25, 0.40335622893037926, 0.863885575899977,...</td>\n",
       "      <td>control</td>\n",
       "    </tr>\n",
       "  </tbody>\n",
       "</table>\n",
       "<p>130 rows × 14 columns</p>\n",
       "</div>"
      ],
      "text/plain": [
       "                             bias-latitude___longitude  \\\n",
       "0    [0.5, 0.05576009518985921, 0.00940855911226514...   \n",
       "1    [0.5, 0.4542593226273206, 0.44683290977911616,...   \n",
       "2    [0.5, 0.43923540153229973, 0.4242659590836922,...   \n",
       "3    [0.5, 0.0045612331074580134, 6.954209737387236...   \n",
       "4    [0.5, 0.45457169794455876, 0.00927761169944779...   \n",
       "..                                                 ...   \n",
       "125  [0.5, 0.064153853360908, 0.04194656504404683, ...   \n",
       "126  [0.5, 0.064153853360908, 0.0014021491744545716...   \n",
       "127  [0.5, 0.28076230215723236, 0.11122624360719886...   \n",
       "128  [0.5, 0.025617245015267166, 0.0009826160740320...   \n",
       "129  [0.5, 0.4339137340699485, 0.11398162920297694,...   \n",
       "\n",
       "                                            bias-topic     ncp-1    ncp-10  \\\n",
       "0    [0.5, 0.9198517360523307, 0.9685502616619076, ...  0.000000  0.045455   \n",
       "1    [0.5, 0.5201481083016739, 0.5200500702429941, ...  0.020548  0.191781   \n",
       "2    [0.5, 0.5265110029033394, 0.5360594480607752, ...  0.013889  0.125000   \n",
       "3    [0.5, 0.970933066041456, 0.9879810253700101, 0...  0.000000  0.019608   \n",
       "4    [0.5, 0.5016302265898841, 0.8952304453566446, ...  0.000000  0.052632   \n",
       "..                                                 ...       ...       ...   \n",
       "125  [0.5, 0.9370529280396064, 0.9537693196308078, ...  0.000000  0.000000   \n",
       "126  [0.5, 0.9370529280396064, 0.9805931151493272, ...  0.000000  0.017241   \n",
       "127  [0.5, 0.5730871381884072, 0.8253854933563238, ...  0.000000  0.162162   \n",
       "128  [0.5, 0.8825926225183545, 0.9454366818249487, ...  0.000000  0.000000   \n",
       "129  [0.5, 0.5287648225922139, 0.896641929703481, 0...  0.000000  0.086207   \n",
       "\n",
       "      ncp-100    ncp-20     ncp-5    ncp-50          participant_id  \\\n",
       "0    0.159091  0.068182  0.045455  0.090909  ottNn7b8Wt1EL-I0bfFbOA   \n",
       "1    0.684932  0.253425  0.109589  0.417808  Tn8m4yLs6E0GDO6sggwYTw   \n",
       "2    0.722222  0.256944  0.062500  0.520833  SW8GwZ1tt4Z5DiK3J4rw2g   \n",
       "3    0.215686  0.019608  0.000000  0.078431  POzOiTeXMSdTEbmSmI4wpg   \n",
       "4    0.052632  0.052632  0.000000  0.052632  n-Oq8YP_DhsByGZyxuGroQ   \n",
       "..        ...       ...       ...       ...                     ...   \n",
       "125  0.125000  0.020833  0.000000  0.062500  xFutzVnyUPJa1FdcHDBuOA   \n",
       "126  0.258621  0.034483  0.017241  0.155172  5GV8_vl7CrnU1n_e3BYAyA   \n",
       "127  0.756757  0.324324  0.081081  0.540541  RZKgmh54IrTo2bVMpg0L9w   \n",
       "128  0.270270  0.000000  0.000000  0.162162  CxFmhMS5PYYF-f2YdntYMg   \n",
       "129  0.491379  0.181034  0.051724  0.379310  Z2yONYSDzxqhG_m_AZAnog   \n",
       "\n",
       "                           posterior-competing_model__  \\\n",
       "0    [0.25, 0.053056598161336684, 0.024745036796714...   \n",
       "1    [0.25, 0.15688139063959539, 0.0901436001894285...   \n",
       "2    [0.25, 0.16120024340606576, 0.0938210897164547...   \n",
       "3    [0.25, 0.02727008455257576, 0.0119751355550043...   \n",
       "4    [0.25, 0.16989285991619751, 0.0975004259971796...   \n",
       "..                                                 ...   \n",
       "125  [0.25, 0.03514101087195492, 0.0177040959514560...   \n",
       "126  [0.25, 0.03514101087195492, 0.0184533257988330...   \n",
       "127  [0.25, 0.2240319194760618, 0.08746730757953074...   \n",
       "128  [0.25, 0.10278465822400379, 0.0537899640683319...   \n",
       "129  [0.25, 0.16273003699967217, 0.0221327948970459...   \n",
       "\n",
       "       posterior-competing_model__latitude___longitude  \\\n",
       "0    [0.25, 0.027091665786332642, 0.006704701541377...   \n",
       "1    [0.25, 0.3229705010587307, 0.38980632956757744...   \n",
       "2    [0.25, 0.3122887536905948, 0.37011946222277015...   \n",
       "3    [0.25, 0.0017968494059683083, 4.38390749855399...   \n",
       "4    [0.25, 0.3284769134939185, 0.00726912864617585...   \n",
       "..                                                 ...   \n",
       "125  [0.25, 0.02780606108843889, 0.0285265844177361...   \n",
       "126  [0.25, 0.02780606108843889, 0.0009535590518397...   \n",
       "127  [0.25, 0.20288094233553122, 0.0871471990641455...   \n",
       "128  [0.25, 0.01462271925764178, 0.0007733541067194...   \n",
       "129  [0.25, 0.30850514040811383, 0.0812252753994729...   \n",
       "\n",
       "    posterior-competing_model__latitude___longitude___topic  \\\n",
       "0    [0.25, 0.02866842940352656, 0.0027038575708873...        \n",
       "1    [0.25, 0.13128882156858993, 0.0570265802115387...        \n",
       "2    [0.25, 0.12694664784170495, 0.0541464968609220...        \n",
       "3    [0.25, 0.002764383701489705, 2.570302238833245...        \n",
       "4    [0.25, 0.12609478445064023, 0.0020084830532719...        \n",
       "..                                                 ...        \n",
       "125  [0.25, 0.0363477922724691, 0.01341998062631070...        \n",
       "126  [0.25, 0.0363477922724691, 0.00044859012261478...        \n",
       "127  [0.25, 0.07788135982170115, 0.0240790445430532...        \n",
       "128  [0.25, 0.010994525757625386, 0.000209261967312...        \n",
       "129  [0.25, 0.12540859366183466, 0.0327563538035039...        \n",
       "\n",
       "                      posterior-competing_model__topic     task  \n",
       "0    [0.25, 0.8911833066488042, 0.9658464040910203,...  control  \n",
       "1    [0.25, 0.388859286733084, 0.4630234900314554, ...  control  \n",
       "2    [0.25, 0.39956435506163446, 0.4819129511998531...  control  \n",
       "3    [0.25, 0.9681686823399663, 0.9879553223476217,...  control  \n",
       "4    [0.25, 0.37553544213924384, 0.8932219623033727...  control  \n",
       "..                                                 ...      ...  \n",
       "125  [0.25, 0.9007051357671373, 0.9403493390044971,...  control  \n",
       "126  [0.25, 0.9007051357671373, 0.9801445250267125,...  control  \n",
       "127  [0.25, 0.495205778366706, 0.8013064488132705, ...  control  \n",
       "128  [0.25, 0.8715980967607291, 0.9452274198576361,...  control  \n",
       "129  [0.25, 0.40335622893037926, 0.863885575899977,...  control  \n",
       "\n",
       "[130 rows x 14 columns]"
      ]
     },
     "execution_count": 7,
     "metadata": {},
     "output_type": "execute_result"
    }
   ],
   "source": [
    "vast_results"
   ]
  },
  {
   "cell_type": "code",
   "execution_count": null,
   "id": "297b67e1",
   "metadata": {},
   "outputs": [],
   "source": []
  }
 ],
 "metadata": {
  "kernelspec": {
   "display_name": "Python 3",
   "language": "python",
   "name": "python3"
  },
  "language_info": {
   "codemirror_mode": {
    "name": "ipython",
    "version": 3
   },
   "file_extension": ".py",
   "mimetype": "text/x-python",
   "name": "python",
   "nbconvert_exporter": "python",
   "pygments_lexer": "ipython3",
   "version": "3.8.8"
  }
 },
 "nbformat": 4,
 "nbformat_minor": 5
}

{
 "cells": [
  {
   "cell_type": "code",
   "execution_count": null,
   "id": "b5885944",
   "metadata": {},
   "outputs": [],
   "source": [
    "import sys\n",
    "sys.path.append('../implementation/')\n",
    "from gotz_adaptive_contextualization import AC\n",
    "import pandas as pd\n",
    "import ast\n",
    "from tqdm import tqdm\n",
    "import matplotlib.pyplot as plt\n",
    "import numpy as np"
   ]
  },
  {
   "cell_type": "code",
   "execution_count": null,
   "id": "481c4c80",
   "metadata": {},
   "outputs": [],
   "source": [
    "# Loading the STL Crimes underlying data and user interaction data\n",
    "underlying_data = pd.read_csv('../data/stl_crimes/dots.csv')\n",
    "underlying_data.set_index('id', drop=True, inplace=True)\n",
    "\n",
    "interaction_data = pd.read_csv('../data/stl_crimes/stl_combined_interactions.csv')\n",
    "interaction_data['interaction_session'] = interaction_data.apply(lambda row: ast.literal_eval(row.interaction_session), axis=1)\n",
    "interaction_data['interaction_type_session'] = interaction_data.apply(lambda row: ast.literal_eval(row.interaction_type_session), axis=1)"
   ]
  },
  {
   "cell_type": "code",
   "execution_count": null,
   "id": "0f571ac1",
   "metadata": {},
   "outputs": [],
   "source": [
    "stl_map_results = pd.DataFrame()\n",
    "for participant_index, row in interaction_data.iterrows():\n",
    "    print(f'Processing user {row.user} task {row.task}')\n",
    "    results = {'participant_id': row.user, 'task': row.task}\n",
    "    ac_model = AC(underlying_data, [['x', 'y']], ['type'])\n",
    "    for i in tqdm(range(len(interaction_data.iloc[participant_index].interaction_session))):\n",
    "        interaction = interaction_data.iloc[participant_index].interaction_session[i]\n",
    "        ac_model.update(interaction)\n",
    "\n",
    "    bias = ac_model.get_attribute_bias()\n",
    "    for col in bias.columns:\n",
    "        results[f'bias-{col}'] = bias[col].to_numpy()\n",
    "    results[f'bias-mixed'] = results['bias-x___y'] * results['bias-type']\n",
    "    \n",
    "    stl_map_results = stl_map_results.append(results, ignore_index=True)\n",
    "    \n",
    "stl_map_results.to_pickle('../output/stl_map_results_ac.pkl')"
   ]
  },
  {
   "cell_type": "code",
   "execution_count": null,
   "id": "32ae54f6",
   "metadata": {},
   "outputs": [],
   "source": [
    "fig, axs = plt.subplots(1, 3, sharey=True, figsize=(4*6.4, 4.8))\n",
    "plt.rcParams.update({'axes.titlesize': 15, 'axes.labelsize': 15, 'xtick.labelsize':12, 'xtick.labelsize':12})\n",
    "for ax in axs:\n",
    "    ax.spines['right'].set_visible(False)\n",
    "    ax.spines['top'].set_visible(False)\n",
    "    ax.spines['left'].set_color('black')\n",
    "    ax.spines['bottom'].set_color('black')\n",
    "    ax.set(xlabel='Interactions Observed', ylabel='Avg. Bias')\n",
    "    ax.set_ylim((0, 1.05))\n",
    "#    ax.set_xlim((2, 15))\n",
    "\n",
    "bias_metric_per_task_ac = {'geo-based': 'bias-x___y', 'type-based': 'bias-type', 'mixed': 'bias-mixed'}\n",
    "for ai, t in enumerate(['geo-based', 'type-based', 'mixed']):\n",
    "    bias_over_time_ac = pd.DataFrame()\n",
    "    for i, row in stl_map_results[stl_map_results.task == t].iterrows():\n",
    "        temp_df = pd.DataFrame()\n",
    "        temp_df[row['participant_id']] = row[bias_metric_per_task_ac[t]]\n",
    "        bias_over_time_ac = pd.concat([bias_over_time_ac, temp_df], axis=1, ignore_index=True)\n",
    "    sems_ac = bias_over_time_ac.std(axis=1) / np.sqrt(bias_over_time_ac.count(axis=1))\n",
    "    mean_ac = bias_over_time_ac.mean(axis=1)\n",
    "    mean_ac.plot(ax=axs[ai], title=f'Aggregate Bias Detection for {t} Task', label='AC', color='#1F77B4')\n",
    "    axs[ai].fill_between(list(range(len(mean_ac))), mean_ac-2*sems_ac,mean_ac+2*sems_ac, color='#1F77B4', alpha=0.3, zorder=100)\n",
    "    axs[0].legend()"
   ]
  },
  {
   "cell_type": "code",
   "execution_count": null,
   "id": "d2957336",
   "metadata": {},
   "outputs": [],
   "source": []
  }
 ],
 "metadata": {
  "kernelspec": {
   "display_name": "Python 3",
   "language": "python",
   "name": "python3"
  },
  "language_info": {
   "codemirror_mode": {
    "name": "ipython",
    "version": 3
   },
   "file_extension": ".py",
   "mimetype": "text/x-python",
   "name": "python",
   "nbconvert_exporter": "python",
   "pygments_lexer": "ipython3",
   "version": "3.8.8"
  }
 },
 "nbformat": 4,
 "nbformat_minor": 5
}

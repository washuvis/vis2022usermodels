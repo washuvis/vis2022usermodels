{
 "cells": [
  {
   "cell_type": "code",
   "execution_count": null,
   "id": "3805ccde",
   "metadata": {},
   "outputs": [],
   "source": [
    "import sys\n",
    "sys.path.append('../implementation')\n",
    "import numpy as np\n",
    "import pandas as pd\n",
    "import ast\n",
    "from tqdm import tqdm\n",
    "from ottley_hidden_markov_model import HMM\n",
    "from util import lognormpdf"
   ]
  },
  {
   "cell_type": "code",
   "execution_count": null,
   "id": "1a4bf983",
   "metadata": {},
   "outputs": [],
   "source": [
    "# Loading the STL Crimes underlying data and user interaction data\n",
    "underlying_data = pd.read_csv('../data/stl_crimes/dots.csv')\n",
    "underlying_data.set_index('id', drop=True, inplace=True)\n",
    "\n",
    "interaction_data = pd.read_csv('../data/stl_crimes/stl_combined_interactions.csv')\n",
    "interaction_data['interaction_session'] = interaction_data.apply(lambda row: ast.literal_eval(row.interaction_session), axis=1)\n",
    "interaction_data['interaction_type_session'] = interaction_data.apply(lambda row: ast.literal_eval(row.interaction_type_session), axis=1)"
   ]
  },
  {
   "cell_type": "code",
   "execution_count": null,
   "id": "71f71ed0",
   "metadata": {},
   "outputs": [],
   "source": [
    "interaction_index = 1\n",
    "ks = [1, 5, 10, 20, 50, 100]\n",
    "\n",
    "hmm = HMM(underlying_data, [['x', 'y']], ['type'], 1000)\n",
    "predicted = pd.DataFrame()\n",
    "for i in tqdm(range(len(interaction_data.iloc[interaction_index].interaction_session))):\n",
    "    interaction = interaction_data.iloc[interaction_index].interaction_session[i]\n",
    "    hmm.update(interaction)\n",
    "    \n",
    "    if i < len(interaction_data.iloc[interaction_index].interaction_session) - 1:\n",
    "        probability_of_next_point = hmm.predict()\n",
    "        next_point = interaction_data.iloc[interaction_index].interaction_session[i+1]\n",
    "        predicted_next_dict = {}\n",
    "        for k in ks:\n",
    "            predicted_next_dict[k] = (next_point in probability_of_next_point.nlargest(k).index.values)\n",
    "        predicted = predicted.append(predicted_next_dict, ignore_index=True)\n",
    "    "
   ]
  },
  {
   "cell_type": "code",
   "execution_count": null,
   "id": "c8efe2ac",
   "metadata": {},
   "outputs": [],
   "source": []
  },
  {
   "cell_type": "code",
   "execution_count": null,
   "id": "9c1448d3",
   "metadata": {},
   "outputs": [],
   "source": [
    "hmm.get_attribute_bias()"
   ]
  },
  {
   "cell_type": "code",
   "execution_count": null,
   "id": "1b2cd925",
   "metadata": {},
   "outputs": [],
   "source": [
    "# success rate for predicting next click in the top-k\n",
    "ncp = predicted.sum()/len(predicted)\n",
    "ncp"
   ]
  },
  {
   "cell_type": "code",
   "execution_count": null,
   "id": "bee6fabd",
   "metadata": {},
   "outputs": [],
   "source": []
  },
  {
   "cell_type": "code",
   "execution_count": null,
   "id": "f8302d78",
   "metadata": {},
   "outputs": [],
   "source": []
  }
 ],
 "metadata": {
  "kernelspec": {
   "display_name": "Python 3 (ipykernel)",
   "language": "python",
   "name": "python3"
  },
  "language_info": {
   "codemirror_mode": {
    "name": "ipython",
    "version": 3
   },
   "file_extension": ".py",
   "mimetype": "text/x-python",
   "name": "python",
   "nbconvert_exporter": "python",
   "pygments_lexer": "ipython3",
   "version": "3.8.9"
  }
 },
 "nbformat": 4,
 "nbformat_minor": 5
}

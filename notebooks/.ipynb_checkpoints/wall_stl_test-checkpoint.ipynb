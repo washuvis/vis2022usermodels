{
 "cells": [
  {
   "cell_type": "code",
   "execution_count": null,
   "id": "cf38435c",
   "metadata": {},
   "outputs": [],
   "source": [
    "import sys\n",
    "sys.path.append('../implementation')\n",
    "import numpy as np\n",
    "import pandas as pd\n",
    "import ast\n",
    "from tqdm import tqdm\n",
    "from util import lognormpdf\n",
    "import numpy as np\n",
    "import matplotlib.pyplot as plt\n",
    "import scipy.special as sp\n",
    "from wall_bias import Wall\n",
    "import warnings\n",
    "warnings.filterwarnings('ignore')"
   ]
  },
  {
   "cell_type": "code",
   "execution_count": null,
   "id": "23186154",
   "metadata": {},
   "outputs": [],
   "source": [
    "# Loading the STL Crimes underlying data and user interaction data\n",
    "underlying_data = pd.read_csv('../data/stl_crimes/dots.csv')\n",
    "underlying_data.set_index('id', drop=True, inplace=True)\n",
    "\n",
    "interaction_data = pd.read_csv('../data/stl_crimes/stl_combined_interactions.csv')\n",
    "interaction_data['interaction_session'] = interaction_data.apply(lambda row: ast.literal_eval(row.interaction_session), axis=1)\n",
    "interaction_data['interaction_type_session'] = interaction_data.apply(lambda row: ast.literal_eval(row.interaction_type_session), axis=1)"
   ]
  },
  {
   "cell_type": "code",
   "execution_count": null,
   "id": "540f9075",
   "metadata": {},
   "outputs": [],
   "source": [
    "interaction_index = 0\n",
    "\n",
    "user = interaction_data.iloc[interaction_index]\n",
    "print(f'Processing user {user.user} task {user.task}')\n",
    "wall = Wall(underlying_data, [['x', 'y']], ['type'])\n",
    "\n",
    "for i in tqdm(range(len(interaction_data.iloc[interaction_index].interaction_session))):\n",
    "    interaction = interaction_data.iloc[interaction_index].interaction_session[i]\n",
    "    interaction_d = pd.DataFrame(data=underlying_data.iloc[interaction].to_dict(), index=[i])\n",
    "    wall.update(interaction_d)\n",
    "\n",
    "bias = wall.get_attribute_bias()\n",
    "interact = wall.get_interaction_session()\n",
    "    "
   ]
  },
  {
   "cell_type": "code",
   "execution_count": null,
   "id": "2e02c102",
   "metadata": {},
   "outputs": [],
   "source": [
    "bias"
   ]
  },
  {
   "cell_type": "code",
   "execution_count": null,
   "id": "41e59c27",
   "metadata": {},
   "outputs": [],
   "source": [
    "pd.DataFrame(bias).plot(title=f'{interaction_data.iloc[interaction_index].task}', alpha=0.5, lw=4)"
   ]
  },
  {
   "cell_type": "code",
   "execution_count": null,
   "id": "41998c1c",
   "metadata": {},
   "outputs": [],
   "source": [
    "# Not necessary to run if we already have results file for Wall\n",
    "# Running Wall through all user interaction sessions and saving results in file\n",
    "stl_map_results = pd.DataFrame()\n",
    "\n",
    "for participant_index, row in interaction_data.iterrows():\n",
    "    print(f'Processing user {row.user} task {row.task}')\n",
    "    results = {'participant_id': row.user, 'task': row.task}\n",
    "    wall = Wall(underlying_data, ['x', 'y'], ['type'])\n",
    "    for i in tqdm(range(len(interaction_data.iloc[participant_index].interaction_session))):\n",
    "        interaction = interaction_data.iloc[participant_index].interaction_session[i]\n",
    "        interaction_d = pd.DataFrame(data=underlying_data.iloc[interaction].to_dict(), index=[i])\n",
    "        wall.update(interaction_d)\n",
    "\n",
    "    bias = wall.get_attribute_bias()\n",
    "    for col in bias.columns:\n",
    "        results[f'bias-{col}'] = bias[col].to_numpy()\n",
    "    results[f'bias-mixed'] = results['bias-x___y'] * results['bias-type']\n",
    "    \n",
    "    stl_map_results = stl_map_results.append(results, ignore_index=True)\n",
    "    \n",
    "stl_map_results.to_pickle('../output/stl_map_results_wall.pkl')"
   ]
  },
  {
   "cell_type": "code",
   "execution_count": null,
   "id": "f774432b",
   "metadata": {
    "scrolled": true
   },
   "outputs": [],
   "source": [
    "fig, axs = plt.subplots(1, 3, sharey=True, figsize=(4*6.4, 4.8))\n",
    "plt.rcParams.update({'axes.titlesize': 15, 'axes.labelsize': 15, 'xtick.labelsize':12, 'xtick.labelsize':12})\n",
    "for ax in axs:\n",
    "    ax.spines['right'].set_visible(False)\n",
    "    ax.spines['top'].set_visible(False)\n",
    "    ax.spines['left'].set_color('black')\n",
    "    ax.spines['bottom'].set_color('black')\n",
    "    ax.set(xlabel='Interactions Observed', ylabel='Avg. Bias')\n",
    "    ax.set_ylim((0, 1.05))\n",
    "#    ax.set_xlim((2, 15))\n",
    "\n",
    "bias_metric_per_task_wall = {'geo-based': 'bias-x___y', 'type-based': 'bias-type', 'mixed': 'bias-mixed'}\n",
    "for ai, t in enumerate(['geo-based', 'type-based', 'mixed']):\n",
    "    bias_over_time_wall = pd.DataFrame()\n",
    "    for i, row in stl_map_results[stl_map_results.task == t].iterrows():\n",
    "        temp_df = pd.DataFrame()\n",
    "        temp_df[row['participant_id']] = row[bias_metric_per_task_wall[t]]\n",
    "        bias_over_time_wall = pd.concat([bias_over_time_wall, temp_df], axis=1, ignore_index=True)\n",
    "    sems_wall = bias_over_time_wall.std(axis=1) / np.sqrt(bias_over_time_wall.count(axis=1))\n",
    "    mean_wall = bias_over_time_wall.mean(axis=1)\n",
    "    mean_wall.plot(ax=axs[ai], title=f'Aggregate Bias Detection for {t} Task', label='Wall', color='#1F77B4')\n",
    "    axs[ai].fill_between(list(range(len(mean_wall))), mean_wall-2*sems_wall,mean_wall+2*sems_wall, color='#d95f02', alpha=0.3, zorder=100)\n",
    "    axs[0].legend()"
   ]
  }
 ],
 "metadata": {
  "kernelspec": {
   "display_name": "Python 3",
   "language": "python",
   "name": "python3"
  },
  "language_info": {
   "codemirror_mode": {
    "name": "ipython",
    "version": 3
   },
   "file_extension": ".py",
   "mimetype": "text/x-python",
   "name": "python",
   "nbconvert_exporter": "python",
   "pygments_lexer": "ipython3",
   "version": "3.8.8"
  }
 },
 "nbformat": 4,
 "nbformat_minor": 5
}

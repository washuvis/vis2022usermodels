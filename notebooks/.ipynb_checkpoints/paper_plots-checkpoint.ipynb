{
 "cells": [
  {
   "cell_type": "code",
   "execution_count": 1,
   "id": "2f642572",
   "metadata": {},
   "outputs": [],
   "source": [
    "import sys\n",
    "sys.path.append('../implementation')\n",
    "import numpy as np\n",
    "import pandas as pd\n",
    "import ast\n",
    "from tqdm import tqdm\n",
    "from util import lognormpdf\n",
    "import numpy as np\n",
    "import matplotlib.pyplot as plt\n",
    "import scipy.special as sp\n",
    "import scipy.stats as stats\n",
    "import time\n",
    "from statistics import mean\n",
    "import warnings\n",
    "import seaborn as sns\n",
    "import scikit_posthocs as sci_post\n",
    "import plotly.express as px\n",
    "import plotly.colors\n",
    "import random\n",
    "#warnings.filterwarnings('ignore')"
   ]
  },
  {
   "cell_type": "markdown",
   "id": "fd644f95",
   "metadata": {},
   "source": [
    "# NCP Results"
   ]
  },
  {
   "cell_type": "code",
   "execution_count": 2,
   "id": "6bafb31a",
   "metadata": {},
   "outputs": [],
   "source": [
    "# Load results\n",
    "boardrooms_underlying_data = pd.read_csv('../data/boardrooms/boardrooms_data.csv')\n",
    "political_underlying_data = pd.read_csv('../data/wall/gender/political.csv')\n",
    "stl_underlying_data = pd.read_csv('../data/stl_crimes/dots.csv')\n",
    "vast_underlying_data = pd.read_pickle('../data/vast_2011_challenge/vast_data_sample_reduced.pkl')\n",
    "political_interaction_data = pd.read_csv('../data/wall/gender/wall_political_interactions.csv')\n",
    "\n",
    "boardrooms_count = len(boardrooms_underlying_data.index)\n",
    "political_count = len(political_underlying_data.index)\n",
    "stl_count = len(stl_underlying_data.index)\n",
    "vast_count = len(vast_underlying_data.index)\n",
    "\n",
    "stl_map_results_hmm = pd.read_pickle('../output/stl/stl_map_results_hmm.pkl')\n",
    "stl_map_results_cm = pd.read_pickle('../output/stl/stl_map_results_competing_models.pkl')\n",
    "stl_map_results_wall = pd.read_pickle('../output/stl/stl_map_results_wall.pkl')\n",
    "stl_map_results_knn = pd.read_pickle('../output/stl/stl_map_results_knn_uniform_weight.pkl')\n",
    "stl_map_results_ac = pd.read_pickle('../output/stl/stl_map_results_ac.pkl')\n",
    "stl_map_results_af = pd.read_pickle('../output/stl/stl_map_results_af.pkl')\n",
    "stl_map_results_ada = pd.read_pickle('../output/stl/stl_map_results_ada_nb.pkl')\n",
    "stl_map_results_ensemble = pd.read_pickle('../output/stl/stl_map_results_ensemble.pkl')\n",
    "stl_map_results_ensemble_bias = pd.read_pickle('../output/stl/stl_map_results_ensemble_bias.pkl')\n",
    "\n",
    "vast_results_hmm = pd.read_pickle('../output/vast/vast_11_hmm.pkl')\n",
    "vast_results_cm = pd.read_pickle('../output/vast/vast_11_cm.pkl')\n",
    "vast_results_wall = pd.read_pickle('../output/vast/vast_11_wall.pkl')\n",
    "vast_results_knn = pd.read_pickle('../output/vast/vast_11_knn.pkl')\n",
    "vast_results_ac = pd.read_pickle('../output/vast/vast_11_ac.pkl')\n",
    "vast_results_af = pd.read_pickle('../output/vast/vast_11_af.pkl')\n",
    "vast_results_ada = pd.read_pickle('../output/vast/vast_11_ada_nb.pkl')\n",
    "vast_results_ensemble = pd.read_pickle('../output/vast/vast_11_ensemble.pkl')\n",
    "\n",
    "boardrooms_results_hmm = pd.read_pickle('../output/boardrooms/boardrooms_hmm.pkl')\n",
    "boardrooms_results_cm = pd.read_pickle('../output/boardrooms/boardrooms_cm.pkl')\n",
    "boardrooms_results_wall = pd.read_pickle('../output/boardrooms/boardrooms_wall.pkl')\n",
    "boardrooms_results_knn = pd.read_pickle('../output/boardrooms/boardrooms_knn.pkl')\n",
    "boardrooms_results_ac = pd.read_pickle('../output/boardrooms/boardrooms_ac.pkl')\n",
    "boardrooms_results_af = pd.read_pickle('../output/boardrooms/boardrooms_af.pkl')\n",
    "boardrooms_results_ada = pd.read_pickle('../output/boardrooms/boardrooms_ada_nb.pkl')\n",
    "boardrooms_results_ensemble = pd.read_pickle('../output/boardrooms/boardrooms_ensemble.pkl')\n",
    "\n",
    "political_results_hmm = pd.read_pickle('../output/political/political_hmm.pkl')\n",
    "political_results_cm = pd.read_pickle('../output/political/political_cm.pkl')\n",
    "political_results_wall = pd.read_pickle('../output/political/political_wall.pkl')\n",
    "political_results_knn = pd.read_pickle('../output/political/political_knn.pkl')\n",
    "political_results_ac = pd.read_pickle('../output/political/political_ac.pkl')\n",
    "political_results_af = pd.read_pickle('../output/political/political_af.pkl')\n",
    "political_results_ada = pd.read_pickle('../output/political/political_ada_nb.pkl')\n",
    "political_results_ensemble = pd.read_pickle('../output/political/political_ensemble.pkl')\n",
    "political_results_ensemble_bias = pd.read_pickle('../output/political/political_ensemble_bias.pkl')\n",
    "\n",
    "ks = [1, 5, 10, 20, 50, 100]"
   ]
  },
  {
   "cell_type": "code",
   "execution_count": null,
   "id": "157d77b4",
   "metadata": {},
   "outputs": [],
   "source": [
    "# Comparing next click prediction with Competing Models and HMM\n",
    "num_rows = 2\n",
    "num_cols = 3\n",
    "\n",
    "fig, axs = plt.subplots(num_rows, num_cols, sharey=True, figsize=(num_cols*6.4, num_rows*4))\n",
    "axs = axs.ravel()\n",
    "fig.suptitle('Next Interaction Prediction Results', fontsize=15)\n",
    "plt.rcParams.update({'axes.titlesize': 15, 'axes.labelsize': 15, 'xtick.labelsize':15, 'ytick.labelsize':15})\n",
    "\n",
    "for i, ax in enumerate(axs):\n",
    "    ax.spines['right'].set_visible(False)\n",
    "    ax.spines['top'].set_visible(False)\n",
    "    ax.spines['left'].set_color('black')\n",
    "    ax.spines['bottom'].set_color('black')\n",
    "    ax.set_ylim((0, 1.05))\n",
    "    ax.set(xlabel='Size of Prediction Set')\n",
    "    ax.tick_params(axis='y', which='minor', labelsize=15)\n",
    "    if i%num_cols == 0:\n",
    "        ax.set(ylabel='Avg. Success Rate')\n",
    "    \n",
    "labels = ['ncp-1','ncp-5','ncp-10','ncp-20','ncp-50','ncp-100']\n",
    "# labels = ['ncp-1%','ncp-2%','ncp-3%','ncp-4%','ncp-5%']\n",
    "x = np.arange(len(labels))  # the label locations\n",
    "width = 0.13  # the width of the bars\n",
    "for ai, t in enumerate(['geo-based', 'type-based', 'mixed']):\n",
    "    df_temp_hmm = stl_map_results_hmm[stl_map_results_hmm.task == t][[f'ncp-{k}' for k in ks]]\n",
    "    err_hmm = df_temp_hmm.std() / np.sqrt(len(df_temp_hmm))\n",
    "    df_temp_cm = stl_map_results_cm[stl_map_results_cm.task == t][[f'ncp-{k}' for k in ks]]\n",
    "    err_cm = df_temp_cm.std() / np.sqrt(len(df_temp_cm))\n",
    "    df_temp_knn = stl_map_results_knn[stl_map_results_knn.task == t][[f'ncp-{k}' for k in ks]]\n",
    "    err_knn = df_temp_knn.std() / np.sqrt(len(df_temp_knn))\n",
    "    df_temp_af = stl_map_results_af[stl_map_results_af.task == t][[f'ncp-{k}' for k in ks]]\n",
    "    err_af = df_temp_af.std() / np.sqrt(len(df_temp_af))\n",
    "    df_temp_ada = stl_map_results_ada[stl_map_results_ada.task == t][[f'ncp-{k}' for k in ks]]\n",
    "    err_ada = df_temp_ada.std() / np.sqrt(len(df_temp_ada))\n",
    "    df_temp_ensemble = stl_map_results_ensemble[stl_map_results_ensemble.task == t][[f'ncp-{k}' for k in ks]]\n",
    "    err_ensemble = df_temp_ensemble.std() / np.sqrt(len(df_temp_ensemble))\n",
    "    \n",
    "    hmm_results = df_temp_hmm.mean().to_numpy()\n",
    "    cm_results = df_temp_cm.mean().to_numpy()\n",
    "    knn_results = df_temp_knn.mean().to_numpy()\n",
    "    af_results = df_temp_af.mean().to_numpy()\n",
    "    ada_results = df_temp_ada.mean().to_numpy()\n",
    "    ensemble_results = df_temp_ensemble.mean().to_numpy()\n",
    "    \n",
    "    print(ensemble_results[5])\n",
    "    hmm_bar = axs[ai].bar(x - width*2, hmm_results, width, label='HMM', yerr=err_hmm, color='#2077B4')\n",
    "    cm_bar = axs[ai].bar(x - width, cm_results, width, label='CM', yerr=err_cm, color='#d95f02', alpha=0.6)\n",
    "    knn_bar = axs[ai].bar(x, knn_results, width, label='$k$-NN', yerr=err_knn, color='#DC143C', alpha=0.6)\n",
    "    af_bar = axs[ai].bar(x + width, af_results, width, label='AF', yerr=err_af, color='#548B54', alpha=0.6)\n",
    "    ada_bar = axs[ai].bar(x + width*2, ada_results, width, label='B-NB', yerr=err_ada, color='#8A2BE2', alpha=0.6)\n",
    "    ensemble_bar = axs[ai].bar(x + width*3, ensemble_results, width, label='Ensemble', yerr=err_ensemble, color='#FFC400', alpha=0.6)\n",
    "    \n",
    "    \n",
    "    axs[ai].set_title(f'STL-{t.replace(\"geo\", \"location\")}')\n",
    "    axs[ai].set_xticklabels([None] + ks)\n",
    "    \n",
    "handles, labels = axs[0].get_legend_handles_labels()\n",
    "fig.legend(handles, labels, loc='lower center', bbox_to_anchor=(0.5, -0.1), ncol=6, fontsize=18, fancybox=False, frameon=False)"
   ]
  },
  {
   "cell_type": "code",
   "execution_count": null,
   "id": "0c23d366",
   "metadata": {},
   "outputs": [],
   "source": [
    "# Vast Barcharts added\n",
    "ax = axs[3]\n",
    "\n",
    "df_temp_hmm = vast_results_hmm[[f'ncp-{k}' for k in ks]]\n",
    "err_hmm = df_temp_hmm.std() / np.sqrt(len(df_temp_hmm))\n",
    "df_temp_cm = vast_results_cm[[f'ncp-{k}' for k in ks]]\n",
    "err_cm = df_temp_cm.std() / np.sqrt(len(df_temp_cm))\n",
    "df_temp_knn = vast_results_knn[[f'ncp-{k}' for k in ks]]\n",
    "err_knn = df_temp_knn.std() / np.sqrt(len(df_temp_knn))\n",
    "df_temp_af = vast_results_af[[f'ncp-{k}' for k in ks]]\n",
    "err_af = df_temp_af.std() / np.sqrt(len(df_temp_af))\n",
    "df_temp_ada = vast_results_ada[[f'ncp-{k}' for k in ks]]\n",
    "err_ada = df_temp_ada.std() / np.sqrt(len(df_temp_ada))\n",
    "df_temp_ensemble = vast_results_ensemble[[f'ncp-{k}' for k in ks]]\n",
    "err_ensemble = df_temp_ensemble.std() / np.sqrt(len(df_temp_ensemble))\n",
    "\n",
    "hmm_results = df_temp_hmm.mean()\n",
    "cm_results = df_temp_cm.mean()\n",
    "knn_results = df_temp_knn.mean()\n",
    "af_results = df_temp_af.mean()\n",
    "ada_results = df_temp_ada.mean()\n",
    "ensemble_results = df_temp_ensemble.mean()\n",
    "\n",
    "print(ensemble_results[5])\n",
    "\n",
    "hmm_bar = ax.bar(x - width*2, hmm_results, width, label='HMM', yerr=err_hmm, color='#2077B4')\n",
    "cm_bar = ax.bar(x - width, cm_results, width, label='Competing Models', yerr=err_cm, color='#d95f02', alpha=0.6)\n",
    "knn_bar = ax.bar(x, knn_results, width, label='$k$-NN', yerr=err_knn, color='#DC143C', alpha=0.6)\n",
    "af_bar = ax.bar(x + width, af_results, width, label='Analytic Focus', yerr=err_af, color='#548B54', alpha=0.6)\n",
    "ada_bar = ax.bar(x + width*2, ada_results, width, label='Boosted-NB', yerr=err_ada, color='#8A2BE2', alpha=0.6)\n",
    "ensemble_bar = ax.bar(x + width*3, ensemble_results, width, label='Ensemble', yerr=err_ensemble, color='#FFC400', alpha=0.6)\n",
    "\n",
    "ax.set_title('Vastopolis')\n",
    "ax.set_xticklabels([None] + ks)"
   ]
  },
  {
   "cell_type": "code",
   "execution_count": null,
   "id": "d49489a2",
   "metadata": {},
   "outputs": [],
   "source": [
    "# For boardrooms data\n",
    "ax = axs[4]\n",
    "width = 0.15  # the width of the bars\n",
    "t = 1\n",
    "df_temp_hmm = boardrooms_results_hmm[boardrooms_results_hmm.task == t][[f'ncp-{k}' for k in ks]]\n",
    "err_hmm = df_temp_hmm.std() / np.sqrt(len(df_temp_hmm))\n",
    "df_temp_cm = boardrooms_results_cm[boardrooms_results_cm.task == t][[f'ncp-{k}' for k in ks]]\n",
    "err_cm = df_temp_cm.std() / np.sqrt(len(df_temp_cm))\n",
    "df_temp_knn = boardrooms_results_knn[boardrooms_results_knn.task == t][[f'ncp-{k}' for k in ks]]\n",
    "err_knn = df_temp_knn.std() / np.sqrt(len(df_temp_knn))\n",
    "df_temp_af = boardrooms_results_af[boardrooms_results_af.task == t][[f'ncp-{k}' for k in ks]]\n",
    "err_af = df_temp_af.std() / np.sqrt(len(df_temp_af))\n",
    "df_temp_ada = boardrooms_results_ada[boardrooms_results_ada.task == t][[f'ncp-{k}' for k in ks]]\n",
    "err_ada = df_temp_ada.std() / np.sqrt(len(df_temp_ada))\n",
    "df_temp_ensemble = boardrooms_results_ensemble[boardrooms_results_ensemble.task == t][[f'ncp-{k}' for k in ks]]\n",
    "err_ensemble = df_temp_ensemble.std() / np.sqrt(len(df_temp_ensemble))\n",
    "\n",
    "hmm_results = df_temp_hmm.mean()\n",
    "cm_results = df_temp_cm.mean()\n",
    "knn_results = df_temp_knn.mean()\n",
    "af_results = df_temp_af.mean()\n",
    "ada_results = df_temp_ada.mean()\n",
    "ensemble_results = df_temp_ensemble.mean()\n",
    "\n",
    "print(ensemble_results[5])\n",
    "\n",
    "hmm_bar = ax.bar(x - width*2, hmm_results, width, label='HMM', yerr=err_hmm, color='#2077B4')\n",
    "cm_bar = ax.bar(x - width, cm_results, width, label='Competing Models', yerr=err_cm, color='#d95f02', alpha=0.6)\n",
    "knn_bar = ax.bar(x, knn_results, width, label='KNN', yerr=err_knn, color='#DC143C', alpha=0.6)\n",
    "af_bar = ax.bar(x + width, af_results, width, label='Analytic Focus', yerr=err_af, color='#548B54', alpha=0.6)\n",
    "ada_bar = ax.bar(x + width*2, ada_results, width, label='AdaBoost-NB', yerr=err_ada, color='#8A2BE2', alpha=0.6)\n",
    "ensemble_bar = ax.bar(x + width*3, ensemble_results, width, label='Ensemble', yerr=err_ensemble, color='#FFC400', alpha=0.6)\n",
    "\n",
    "ax.set_title('Boardrooms')\n",
    "ax.set_xticklabels([None] + ks)\n",
    "fig"
   ]
  },
  {
   "cell_type": "code",
   "execution_count": null,
   "id": "f847c197",
   "metadata": {},
   "outputs": [],
   "source": [
    "ax = axs[5]\n",
    "width = 0.15  # the width of the bars\n",
    "title = 'Political Committee'\n",
    "df_temp_hmm = political_results_hmm[[f'ncp-{k}' for k in ks]]\n",
    "err_hmm = df_temp_hmm.std() / np.sqrt(len(df_temp_hmm))\n",
    "df_temp_cm = political_results_cm[[f'ncp-{k}' for k in ks]]\n",
    "err_cm = df_temp_cm.std() / np.sqrt(len(df_temp_cm))\n",
    "df_temp_knn = political_results_knn[[f'ncp-{k}' for k in ks]]\n",
    "err_knn = df_temp_knn.std() / np.sqrt(len(df_temp_knn))\n",
    "df_temp_af = political_results_af[[f'ncp-{k}' for k in ks]]\n",
    "err_af = df_temp_af.std() / np.sqrt(len(df_temp_af))\n",
    "df_temp_ada = political_results_ada[[f'ncp-{k}' for k in ks]]\n",
    "err_ada = df_temp_ada.std() / np.sqrt(len(df_temp_ada))\n",
    "df_temp_ensemble = political_results_ensemble[[f'ncp-{k}' for k in ks]]\n",
    "err_ensemble = df_temp_ensemble.std() / np.sqrt(len(df_temp_ensemble))\n",
    "\n",
    "# df_temp_hmm = movies_results_hmm[[f'perc-ncp-{k}' for k in movies_ks]]\n",
    "# err_hmm = df_temp_hmm.std() / np.sqrt(len(df_temp_hmm))\n",
    "# df_temp_cm = movies_results_cm[[f'perc-ncp-{k}' for k in movies_ks]]\n",
    "# err_cm = df_temp_cm.std() / np.sqrt(len(df_temp_cm))\n",
    "# df_temp_knn = movies_results_knn[[f'perc-ncp-{k}' for k in movies_ks]]\n",
    "# err_knn = df_temp_knn.std() / np.sqrt(len(df_temp_knn))\n",
    "# df_temp_af = movies_results_af[[f'perc-ncp-{k}' for k in movies_ks]]\n",
    "# err_af = df_temp_af.std() / np.sqrt(len(df_temp_af))\n",
    "# df_temp_ada = movies_results_ada[[f'perc-ncp-{k}' for k in movies_ks]]\n",
    "# err_ada = df_temp_ada.std() / np.sqrt(len(df_temp_ada))\n",
    "\n",
    "hmm_results = df_temp_hmm.mean()\n",
    "cm_results = df_temp_cm.mean()\n",
    "knn_results = df_temp_knn.mean()\n",
    "af_results = df_temp_af.mean()\n",
    "ada_results = df_temp_ada.mean()\n",
    "ensemble_results = df_temp_ensemble.mean()\n",
    "\n",
    "print(ensemble_results[5])\n",
    "\n",
    "hmm_bar = ax.bar(x - width*2, hmm_results, width, label='HMM', yerr=err_hmm, color='#2077B4')\n",
    "cm_bar = ax.bar(x - width, cm_results, width, label='Competing Models', yerr=err_cm, color='#d95f02', alpha=0.6)\n",
    "knn_bar = ax.bar(x, knn_results, width, label='KNN', yerr=err_knn, color='#DC143C', alpha=0.6)\n",
    "af_bar = ax.bar(x + width, af_results, width, label='Analytic Focus', yerr=err_af, color='#548B54', alpha=0.6)\n",
    "ada_bar = ax.bar(x + width*2, ada_results, width, label='AdaBoost-NB', yerr=err_ada, color='#8A2BE2', alpha=0.6)\n",
    "ensemble_bar = ax.bar(x + width*3, ensemble_results, width, label='Ensemble', yerr=err_ensemble, color='#FFC400', alpha=0.6)\n",
    "\n",
    "ax.set_title(title)\n",
    "ax.set_xticklabels([None] + ks)\n",
    "fig"
   ]
  },
  {
   "cell_type": "code",
   "execution_count": null,
   "id": "0f5de488",
   "metadata": {},
   "outputs": [],
   "source": [
    "fig.tight_layout()\n",
    "fig.savefig('../output/figs/ncp_results.png', dpi=300, bbox_inches='tight')\n",
    "fig"
   ]
  },
  {
   "cell_type": "markdown",
   "id": "8debf570",
   "metadata": {},
   "source": [
    "# Next Interaction Ranking Plots"
   ]
  },
  {
   "cell_type": "code",
   "execution_count": null,
   "id": "c257ba45",
   "metadata": {},
   "outputs": [],
   "source": [
    "avg_rank = pd.DataFrame()\n",
    "\n",
    "for ai, t in enumerate(['geo-based', 'type-based', 'mixed']):\n",
    "    for i, row in stl_map_results_hmm[stl_map_results_hmm.task == t].iterrows():\n",
    "        average_rank = mean(row['rank'])\n",
    "        average_rank_perc = (average_rank/stl_count) * 100\n",
    "        temp_df = pd.DataFrame({'alg': ['hmm'], 'task': [t], 'average_rank': [average_rank], 'average_rank_perc': [average_rank_perc]})\n",
    "        avg_rank = pd.concat([avg_rank, temp_df], ignore_index=True)\n",
    "    for i, row in stl_map_results_cm[stl_map_results_cm.task == t].iterrows():\n",
    "        average_rank = mean(row['rank'])\n",
    "        average_rank_perc = (average_rank/stl_count) * 100\n",
    "        temp_df = pd.DataFrame({'alg': ['cm'], 'task': [t], 'average_rank': [average_rank], 'average_rank_perc': [average_rank_perc]})\n",
    "        avg_rank = pd.concat([avg_rank, temp_df], ignore_index=True)\n",
    "    for i, row in stl_map_results_af[stl_map_results_af.task == t].iterrows():\n",
    "        average_rank = mean(row['rank'])\n",
    "        average_rank_perc = (average_rank/stl_count) * 100\n",
    "        temp_df = pd.DataFrame({'alg': ['af'], 'task': [t], 'average_rank': [average_rank], 'average_rank_perc': [average_rank_perc]})\n",
    "        avg_rank = pd.concat([avg_rank, temp_df], ignore_index=True)\n",
    "    for i, row in stl_map_results_knn[stl_map_results_knn.task == t].iterrows():\n",
    "        average_rank = mean(row['rank'])\n",
    "        average_rank_perc = (average_rank/stl_count) * 100\n",
    "        temp_df = pd.DataFrame({'alg': ['knn'], 'task': [t], 'average_rank': [average_rank], 'average_rank_perc': [average_rank_perc]})\n",
    "        avg_rank = pd.concat([avg_rank, temp_df], ignore_index=True)\n",
    "    for i, row in stl_map_results_ada[stl_map_results_ada.task == t].iterrows():\n",
    "        average_rank = mean(row['rank'])\n",
    "        average_rank_perc = (average_rank/stl_count) * 100\n",
    "        temp_df = pd.DataFrame({'alg': ['ada_nb'], 'task': [t], 'average_rank': [average_rank], 'average_rank_perc': [average_rank_perc]})\n",
    "        avg_rank = pd.concat([avg_rank, temp_df], ignore_index=True)\n",
    "    for i, row in stl_map_results_ensemble[stl_map_results_ensemble.task == t].iterrows():\n",
    "        average_rank = mean(row['rank'])\n",
    "        average_rank_perc = (average_rank/stl_count) * 100\n",
    "        temp_df = pd.DataFrame({'alg': ['ensemble'], 'task': [t], 'average_rank': [average_rank], 'average_rank_perc': [average_rank_perc]})\n",
    "        avg_rank = pd.concat([avg_rank, temp_df], ignore_index=True)"
   ]
  },
  {
   "cell_type": "code",
   "execution_count": null,
   "id": "313a7b1d",
   "metadata": {},
   "outputs": [],
   "source": [
    "num_rows = 2\n",
    "num_cols = 3\n",
    "\n",
    "fig, axs = plt.subplots(num_rows, num_cols, sharey=True, figsize=(num_cols*6.4, num_rows*4))\n",
    "axs = axs.ravel()\n",
    "fig.suptitle('Next Interaction Ranking Results', fontsize=15)\n",
    "plt.rcParams.update({'axes.titlesize': 15, 'axes.labelsize': 15, 'xtick.labelsize':15})\n",
    "for i, ax in enumerate(axs):\n",
    "    ax.spines['right'].set_visible(False)\n",
    "    ax.spines['top'].set_visible(False)\n",
    "    ax.spines['left'].set_color('black')\n",
    "    ax.spines['bottom'].set_color('black')\n",
    "    ax.set(xlabel='Avg. Ranking')\n",
    "    #ax.set_ylim((0, 1.05))"
   ]
  },
  {
   "cell_type": "code",
   "execution_count": null,
   "id": "4c795c57",
   "metadata": {},
   "outputs": [],
   "source": [
    "techniques_colors = {\n",
    "    'hmm': ('#2077B4', 'HMM'), \n",
    "    'cm': ('#E89F67', 'CM'),\n",
    "    'ada_nb': ('#B880ED', 'B-NB'), \n",
    "    'af': ('#98B998', 'AF'),\n",
    "    'knn': ('#EA728A', '$k$-NN'),\n",
    "    'ensemble': ('#FFDB65','Ensemble')\n",
    "}\n",
    "\n",
    "medianprops = dict(linestyle='-', linewidth=2.5, color='black')"
   ]
  },
  {
   "cell_type": "code",
   "execution_count": null,
   "id": "693f29cd",
   "metadata": {},
   "outputs": [],
   "source": [
    "# STL geobased\n",
    "ax = axs[0]\n",
    "df_temp = avg_rank[avg_rank.task=='geo-based']\n",
    "ax.set_title('STL-location-based')\n",
    "ax.tick_params(axis='y', which='minor', labelsize=15)\n",
    "for i, alg in enumerate(techniques_colors):\n",
    "    bar = ax.boxplot(df_temp.loc[df_temp.alg==alg, 'average_rank'].to_numpy(), positions = [i], vert=False, patch_artist=True, labels=[techniques_colors[alg][1]], widths=[0.5], medianprops=medianprops)\n",
    "    bar['boxes'][0].set_facecolor(techniques_colors[alg][0])\n",
    "    \n",
    "    \n",
    "# STL typebased\n",
    "ax = axs[1]\n",
    "df_temp = avg_rank[avg_rank.task=='type-based']\n",
    "ax.set_title('STL-type-based')\n",
    "for i, alg in enumerate(techniques_colors):\n",
    "    bar = ax.boxplot(df_temp.loc[df_temp.alg==alg, 'average_rank'].to_numpy(), positions = [i], vert=False, patch_artist=True, labels=[techniques_colors[alg][1]], widths=[0.5], medianprops=medianprops)\n",
    "    bar['boxes'][0].set_facecolor(techniques_colors[alg][0])\n",
    "    \n",
    "\n",
    "# STL mixed\n",
    "ax = axs[2]\n",
    "df_temp = avg_rank[avg_rank.task=='mixed']\n",
    "ax.set_title('STL-mixed')\n",
    "for i, alg in enumerate(techniques_colors):\n",
    "    bar = ax.boxplot(df_temp.loc[df_temp.alg==alg, 'average_rank'].to_numpy(), positions = [i], vert=False, patch_artist=True, labels=[techniques_colors[alg][1]], widths=[0.5], medianprops=medianprops)\n",
    "    bar['boxes'][0].set_facecolor(techniques_colors[alg][0])\n",
    "fig"
   ]
  },
  {
   "cell_type": "code",
   "execution_count": null,
   "id": "b3487173",
   "metadata": {},
   "outputs": [],
   "source": [
    "# Vastopolis\n",
    "\n",
    "avg_rank = pd.DataFrame()\n",
    "\n",
    "t = 'control'\n",
    "for i, row in vast_results_hmm[vast_results_hmm.task == t].iterrows():\n",
    "    average_rank = mean(row['rank'])\n",
    "    average_rank_perc = (average_rank/vast_count) * 100\n",
    "    temp_df = pd.DataFrame({'alg': ['hmm'], 'task': [t], 'average_rank': [average_rank], 'average_rank_perc': [average_rank_perc]})\n",
    "    avg_rank = pd.concat([avg_rank, temp_df], ignore_index=True)\n",
    "for i, row in vast_results_cm[vast_results_cm.task == t].iterrows():\n",
    "    average_rank = mean(row['rank'])\n",
    "    average_rank_perc = (average_rank/vast_count) * 100\n",
    "    temp_df = pd.DataFrame({'alg': ['cm'], 'task': [t], 'average_rank': [average_rank], 'average_rank_perc': [average_rank_perc]})\n",
    "    avg_rank = pd.concat([avg_rank, temp_df], ignore_index=True)\n",
    "for i, row in vast_results_af[vast_results_af.task == t].iterrows():\n",
    "    average_rank = mean(row['rank'])\n",
    "    average_rank_perc = (average_rank/vast_count) * 100\n",
    "    temp_df = pd.DataFrame({'alg': ['af'], 'task': [t], 'average_rank': [average_rank], 'average_rank_perc': [average_rank_perc]})\n",
    "    avg_rank = pd.concat([avg_rank, temp_df], ignore_index=True)\n",
    "for i, row in vast_results_knn[vast_results_knn.task == t].iterrows():\n",
    "    average_rank = mean(row['rank'])\n",
    "    average_rank_perc = (average_rank/vast_count) * 100\n",
    "    temp_df = pd.DataFrame({'alg': ['knn'], 'task': [t], 'average_rank': [average_rank], 'average_rank_perc': [average_rank_perc]})\n",
    "    avg_rank = pd.concat([avg_rank, temp_df], ignore_index=True)\n",
    "for i, row in vast_results_ada[vast_results_ada.task == t].iterrows():\n",
    "    average_rank = mean(row['rank'])\n",
    "    average_rank_perc = (average_rank/vast_count) * 100\n",
    "    temp_df = pd.DataFrame({'alg': ['ada_nb'], 'task': [t], 'average_rank': [average_rank], 'average_rank_perc': [average_rank_perc]})\n",
    "    avg_rank = pd.concat([avg_rank, temp_df], ignore_index=True)\n",
    "for i, row in vast_results_ensemble[vast_results_ensemble.task == t].iterrows():\n",
    "    average_rank = mean(row['rank'])\n",
    "    average_rank_perc = (average_rank/vast_count) * 100\n",
    "    temp_df = pd.DataFrame({'alg': ['ensemble'], 'task': [t], 'average_rank': [average_rank], 'average_rank_perc': [average_rank_perc]})\n",
    "    avg_rank = pd.concat([avg_rank, temp_df], ignore_index=True)\n",
    "\n",
    "ax = axs[3]\n",
    "df_temp = avg_rank.dropna()\n",
    "ax.set_title('Vastopolis')\n",
    "for i, alg in enumerate(techniques_colors):\n",
    "    bar = ax.boxplot(df_temp.loc[df_temp.alg==alg, 'average_rank'].to_numpy(), positions = [i], vert=False, patch_artist=True, labels=[techniques_colors[alg][1]], widths=[0.5], medianprops=medianprops)\n",
    "    bar['boxes'][0].set_facecolor(techniques_colors[alg][0])"
   ]
  },
  {
   "cell_type": "code",
   "execution_count": null,
   "id": "2402d871",
   "metadata": {},
   "outputs": [],
   "source": [
    "# boardrooms \n",
    "\n",
    "avg_rank = pd.DataFrame()\n",
    "\n",
    "t = 1\n",
    "for i, row in boardrooms_results_hmm[boardrooms_results_hmm.task == t].iterrows():\n",
    "    average_rank = mean(row['rank'])\n",
    "    average_rank_perc = (average_rank/boardrooms_count) * 100\n",
    "    temp_df = pd.DataFrame({'alg': ['hmm'], 'task': [t], 'average_rank': [average_rank], 'average_rank_perc': [average_rank_perc]})\n",
    "    avg_rank = pd.concat([avg_rank, temp_df], ignore_index=True)\n",
    "for i, row in boardrooms_results_cm[boardrooms_results_cm.task == t].iterrows():\n",
    "    average_rank = mean(row['rank'])\n",
    "    average_rank_perc = (average_rank/boardrooms_count) * 100\n",
    "    temp_df = pd.DataFrame({'alg': ['cm'], 'task': [t], 'average_rank': [average_rank], 'average_rank_perc': [average_rank_perc]})\n",
    "    avg_rank = pd.concat([avg_rank, temp_df], ignore_index=True)\n",
    "for i, row in boardrooms_results_af[boardrooms_results_af.task == t].iterrows():\n",
    "    average_rank = mean(row['rank'])\n",
    "    average_rank_perc = (average_rank/boardrooms_count) * 100\n",
    "    temp_df = pd.DataFrame({'alg': ['af'], 'task': [t], 'average_rank': [average_rank], 'average_rank_perc': [average_rank_perc]})\n",
    "    avg_rank = pd.concat([avg_rank, temp_df], ignore_index=True)\n",
    "for i, row in boardrooms_results_knn[boardrooms_results_knn.task == t].iterrows():\n",
    "    average_rank = mean(row['rank'])\n",
    "    average_rank_perc = (average_rank/boardrooms_count) * 100\n",
    "    temp_df = pd.DataFrame({'alg': ['knn'], 'task': [t], 'average_rank': [average_rank], 'average_rank_perc': [average_rank_perc]})\n",
    "    avg_rank = pd.concat([avg_rank, temp_df], ignore_index=True)\n",
    "for i, row in boardrooms_results_ada[boardrooms_results_ada.task == t].iterrows():\n",
    "    average_rank = mean(row['rank'])\n",
    "    average_rank_perc = (average_rank/boardrooms_count) * 100\n",
    "    temp_df = pd.DataFrame({'alg': ['ada_nb'], 'task': [t], 'average_rank': [average_rank], 'average_rank_perc': [average_rank_perc]})\n",
    "    avg_rank = pd.concat([avg_rank, temp_df], ignore_index=True)\n",
    "for i, row in boardrooms_results_ensemble[boardrooms_results_ensemble.task == t].iterrows():\n",
    "    average_rank = mean(row['rank'])\n",
    "    average_rank_perc = (average_rank/boardrooms_count) * 100\n",
    "    temp_df = pd.DataFrame({'alg': ['ensemble'], 'task': [t], 'average_rank': [average_rank], 'average_rank_perc': [average_rank_perc]})\n",
    "    avg_rank = pd.concat([avg_rank, temp_df], ignore_index=True)\n",
    "    \n",
    "ax = axs[4]\n",
    "df_temp = avg_rank[avg_rank.task==1]\n",
    "ax.set_title('Boardrooms')\n",
    "for i, alg in enumerate(techniques_colors):\n",
    "    bar = ax.boxplot(df_temp.loc[df_temp.alg==alg, 'average_rank'].to_numpy(), positions = [i], vert=False, patch_artist=True, labels=[techniques_colors[alg][1]], widths=[0.5], medianprops=medianprops)\n",
    "    bar['boxes'][0].set_facecolor(techniques_colors[alg][0])"
   ]
  },
  {
   "cell_type": "code",
   "execution_count": null,
   "id": "76ee5fa0",
   "metadata": {},
   "outputs": [],
   "source": [
    "# political \n",
    "\n",
    "avg_rank = pd.DataFrame()\n",
    "title = 'Political Committee'\n",
    "for i, row in political_results_hmm.iterrows():\n",
    "    average_rank = mean(row['rank'])\n",
    "    average_rank_perc = (average_rank/political_count) * 100\n",
    "    temp_df = pd.DataFrame({'alg': ['hmm'], 'average_rank': [average_rank], 'average_rank_perc': [average_rank_perc]})\n",
    "    avg_rank = pd.concat([avg_rank, temp_df], ignore_index=True)\n",
    "for i, row in political_results_cm.iterrows():\n",
    "    average_rank = mean(row['rank'])\n",
    "    average_rank_perc = (average_rank/political_count) * 100\n",
    "    temp_df = pd.DataFrame({'alg': ['cm'], 'average_rank': [average_rank], 'average_rank_perc': [average_rank_perc]})\n",
    "    avg_rank = pd.concat([avg_rank, temp_df], ignore_index=True)\n",
    "for i, row in political_results_af.iterrows():\n",
    "    average_rank = mean(row['rank'])\n",
    "    average_rank_perc = (average_rank/political_count) * 100\n",
    "    temp_df = pd.DataFrame({'alg': ['af'], 'average_rank': [average_rank], 'average_rank_perc': [average_rank_perc]})\n",
    "    avg_rank = pd.concat([avg_rank, temp_df], ignore_index=True)\n",
    "for i, row in political_results_knn.iterrows():\n",
    "    average_rank = mean(row['rank'])\n",
    "    average_rank_perc = (average_rank/political_count) * 100\n",
    "    temp_df = pd.DataFrame({'alg': ['knn'], 'average_rank': [average_rank], 'average_rank_perc': [average_rank_perc]})\n",
    "    avg_rank = pd.concat([avg_rank, temp_df], ignore_index=True)\n",
    "for i, row in political_results_ada.iterrows():\n",
    "    average_rank = mean(row['rank'])\n",
    "    average_rank_perc = (average_rank/political_count) * 100\n",
    "    temp_df = pd.DataFrame({'alg': ['ada_nb'], 'average_rank': [average_rank], 'average_rank_perc': [average_rank_perc]})\n",
    "    avg_rank = pd.concat([avg_rank, temp_df], ignore_index=True)\n",
    "for i, row in political_results_ensemble.iterrows():\n",
    "    average_rank = mean(row['rank'])\n",
    "    average_rank_perc = (average_rank/political_count) * 100\n",
    "    temp_df = pd.DataFrame({'alg': ['ensemble'], 'average_rank': [average_rank], 'average_rank_perc': [average_rank_perc]})\n",
    "    avg_rank = pd.concat([avg_rank, temp_df], ignore_index=True)\n",
    "\n",
    "\n",
    "ax = axs[5]\n",
    "ax.set_title(title)\n",
    "for i, alg in enumerate(techniques_colors):\n",
    "    bar = ax.boxplot(avg_rank.loc[avg_rank.alg==alg, 'average_rank'].to_numpy(), positions = [i], vert=False, patch_artist=True, labels=[techniques_colors[alg][1]], widths=[0.5], medianprops=medianprops)\n",
    "    bar['boxes'][0].set_facecolor(techniques_colors[alg][0])"
   ]
  },
  {
   "cell_type": "code",
   "execution_count": null,
   "id": "9b4e962f",
   "metadata": {},
   "outputs": [],
   "source": [
    "fig.tight_layout()\n",
    "fig.savefig('../output/figs/ranking_results.png', dpi=300, bbox_inches='tight')\n",
    "fig"
   ]
  },
  {
   "cell_type": "code",
   "execution_count": null,
   "id": "d2527763",
   "metadata": {},
   "outputs": [],
   "source": []
  },
  {
   "cell_type": "markdown",
   "id": "47a31ab4",
   "metadata": {},
   "source": [
    "# Bias Agree/Disagree Maximum Difference"
   ]
  },
  {
   "cell_type": "code",
   "execution_count": null,
   "id": "d18c48fc",
   "metadata": {},
   "outputs": [],
   "source": [
    "def max_diff(l):\n",
    "    return np.max([x1 - x2 for x1 in l for x2 in l])\n",
    "\n",
    "stl_map_bias_diff = pd.DataFrame()\n",
    "for i, row in stl_map_results_hmm.iterrows():\n",
    "    biases_this_session = pd.DataFrame()\n",
    "    biases_this_session['hmm_x___y'] = stl_map_results_hmm.loc[i, 'bias-bias_x___y']\n",
    "    biases_this_session['wall_x___y'] = stl_map_results_wall.loc[i, 'bias-x___y']\n",
    "    #biases_this_session['ac_x___y'] = stl_map_results_ac.loc[i, 'bias-x___y']\n",
    "    biases_this_session['cm_x___y'] = stl_map_results_cm.loc[i, 'bias-x___y'][1:]\n",
    "    \n",
    "    biases_this_session['hmm_type'] = stl_map_results_hmm.loc[i, 'bias-bias_type']\n",
    "    biases_this_session['wall_type'] = stl_map_results_wall.loc[i, 'bias-type']\n",
    "    #biases_this_session['ac_type'] = stl_map_results_ac.loc[i, 'bias-type']\n",
    "    biases_this_session['cm_type'] = stl_map_results_cm.loc[i, 'bias-type'][1:]\n",
    "    \n",
    "    biases_this_session[f'max_diff_x___y'] = biases_this_session.apply(lambda row: max_diff(row[['hmm_x___y', 'wall_x___y', 'cm_x___y']]), axis=1)\n",
    "    loc_bias_max_differences = biases_this_session[f'max_diff_x___y'].to_list()\n",
    "    \n",
    "    biases_this_session[f'max_diff_type'] = biases_this_session.apply(lambda row: max_diff(row[['hmm_type', 'wall_type', 'cm_type']]), axis=1)\n",
    "    type_bias_max_differences = biases_this_session[f'max_diff_type'].to_list()  \n",
    "    \n",
    "    \n",
    "    stl_map_bias_diff = stl_map_bias_diff.append({'task': row.task, 'participant_id': row.participant_id, 'max_diff_x___y': loc_bias_max_differences, 'max_diff_type': type_bias_max_differences}, ignore_index=True)"
   ]
  },
  {
   "cell_type": "code",
   "execution_count": null,
   "id": "118a6f1b",
   "metadata": {},
   "outputs": [],
   "source": [
    "# biases_this_session['max_diff_x___y'] = biases_this_session.apply(lambda row: max_diff(row[['hmm_x___y', 'wall_x___y', 'ac_x___y', 'cm_x___y']]), axis=1)\n",
    "# biases_this_session['max_diff_type'] = biases_this_session.apply(lambda row: max_diff(row[['hmm_type', 'wall_type', 'ac_type', 'cm_type']]), axis=1)\n",
    "\n",
    "biases_this_session['max_diff_x___y'] = biases_this_session.apply(lambda row: max_diff(row[['hmm_x___y', 'wall_x___y', 'cm_x___y']]), axis=1)\n",
    "biases_this_session['max_diff_type'] = biases_this_session.apply(lambda row: max_diff(row[['hmm_type', 'wall_type', 'cm_type']]), axis=1)"
   ]
  },
  {
   "cell_type": "code",
   "execution_count": null,
   "id": "67bfc2c5",
   "metadata": {},
   "outputs": [],
   "source": [
    "# Comparing bias with Wall, Competing Models and HMM\n",
    "fig, axs = plt.subplots(1, 3, sharey=True, figsize=(4*6.4, 4.8))\n",
    "plt.rcParams.update({'font.size': 15, 'axes.titlesize': 15, 'axes.labelsize': 15, 'xtick.labelsize':12, 'xtick.labelsize':12})\n",
    "for ax in axs:\n",
    "    ax.spines['right'].set_visible(False)\n",
    "    ax.spines['top'].set_visible(False)\n",
    "    ax.spines['left'].set_color('black')\n",
    "    ax.spines['bottom'].set_color('black')\n",
    "    ax.set(xlabel='Interactions Observed', ylabel='Disagreement (Less is Better)')\n",
    "    ax.set_ylim((0, 1.05))\n",
    "#     ax.set_xlim((2, 12))\n",
    "\n",
    "for ai, t in enumerate(['geo-based', 'type-based', 'mixed']):\n",
    "    max_bias_diff_over_time_loc = pd.DataFrame()\n",
    "    max_bias_diff_over_time_type = pd.DataFrame()\n",
    "    for i, row in stl_map_bias_diff[stl_map_bias_diff.task == t].iterrows():\n",
    "        temp_df = pd.DataFrame()\n",
    "        temp_df[row['participant_id']] = row['max_diff_x___y']\n",
    "        max_bias_diff_over_time_loc = pd.concat([max_bias_diff_over_time_loc, temp_df], axis=1, ignore_index=True)\n",
    "        \n",
    "        temp_df = pd.DataFrame()\n",
    "        temp_df[row['participant_id']] = row['max_diff_type']\n",
    "        max_bias_diff_over_time_type = pd.concat([max_bias_diff_over_time_type, temp_df], axis=1, ignore_index=True)\n",
    "        \n",
    "        \n",
    "    sems_loc = max_bias_diff_over_time_loc.std(axis=1) / np.sqrt(max_bias_diff_over_time_loc.count(axis=1))\n",
    "    mean_loc = max_bias_diff_over_time_loc.mean(axis=1)\n",
    "    \n",
    "    sems_type = max_bias_diff_over_time_type.std(axis=1) / np.sqrt(max_bias_diff_over_time_type.count(axis=1))\n",
    "    mean_type = max_bias_diff_over_time_type.mean(axis=1)\n",
    "    \n",
    "    \n",
    "    mean_loc.plot(ax=axs[ai], title=f'Aggregate Bias Detection for {t} Task', label='Location', color='#1F77B4')\n",
    "    mean_type.plot(ax=axs[ai], title=f'Aggregate Bias Detection for {t} Task', label='Type', color='#d95f02')\n",
    "    \n",
    "    axs[ai].fill_between(list(range(len(mean_loc))), mean_loc-2*sems_loc,mean_loc+2*sems_loc, color='#1F77B4', alpha=0.3, zorder=100)\n",
    "    axs[ai].fill_between(list(range(len(mean_type))), mean_type-2*sems_type,mean_type+2*sems_type, color='#d95f02', alpha=0.3, zorder=100)\n",
    "\n",
    "    axs[0].legend()"
   ]
  },
  {
   "cell_type": "code",
   "execution_count": null,
   "id": "d76bcfe6",
   "metadata": {
    "scrolled": true
   },
   "outputs": [],
   "source": [
    "# Averaging user bias at each interaction STL\n",
    "fig, axs = plt.subplots(1, 3, sharey=True, figsize=(3*6.4, 4.8))\n",
    "sns.set_theme(style=\"white\")\n",
    "plt.rcParams.update({'font.size': 15, 'axes.titlesize': 15, 'axes.labelsize': 15, 'xtick.labelsize':12, 'xtick.labelsize':12})\n",
    "\n",
    "vmin = -1\n",
    "vmax = 1\n",
    "bias_metric_per_task_hmm = {'geo-based': 'bias-bias_x___y', 'type-based': 'bias-bias_type', 'mixed': 'bias-mixed'}\n",
    "bias_metric_per_task_cm = {'geo-based': 'bias-x___y', 'type-based': 'bias-type', 'mixed': 'posterior-competing_model__x___y___type'}\n",
    "bias_metric_per_task_wall = {'geo-based': 'bias-x___y', 'type-based': 'bias-type', 'mixed': 'bias-mixed'}\n",
    "bias_metric_per_task_ac = {'geo-based': 'bias-x___y', 'type-based': 'bias-type', 'mixed': 'bias-mixed'}\n",
    "\n",
    "for ai, t in enumerate(['geo-based', 'type-based', 'mixed']):\n",
    "    average_bias_over_time = pd.DataFrame()\n",
    "    bias_over_time_hmm = pd.DataFrame()\n",
    "    bias_over_time_cm = pd.DataFrame()\n",
    "    bias_over_time_wall = pd.DataFrame()\n",
    "    bias_over_time_ac = pd.DataFrame()\n",
    "    for i, row in stl_map_results_ac[stl_map_results_ac.task == t].iterrows():\n",
    "        temp_df = pd.DataFrame()\n",
    "        temp_df[row['participant_id']] = row[bias_metric_per_task_ac[t]]\n",
    "        bias_over_time_ac = pd.concat([bias_over_time_ac, temp_df], axis=1, ignore_index=True)\n",
    "    for i, row in stl_map_results_hmm[stl_map_results_hmm.task == t].iterrows():\n",
    "        temp_df = pd.DataFrame()\n",
    "        temp_df[row['participant_id']] = row[bias_metric_per_task_hmm[t]]\n",
    "        bias_over_time_hmm = pd.concat([bias_over_time_hmm, temp_df], axis=1, ignore_index=True)\n",
    "    for i, row in stl_map_results_cm[stl_map_results_cm.task == t].iterrows():\n",
    "        temp_df = pd.DataFrame()\n",
    "        temp_df[row['participant_id']] = row[bias_metric_per_task_cm[t]]\n",
    "        bias_over_time_cm = pd.concat([bias_over_time_cm, temp_df], axis=1, ignore_index=True)\n",
    "    for i, row in stl_map_results_wall[stl_map_results_wall.task == t].iterrows():\n",
    "        temp_df = pd.DataFrame()\n",
    "        temp_df[row['participant_id']] = row[bias_metric_per_task_wall[t]]\n",
    "        bias_over_time_wall = pd.concat([bias_over_time_wall, temp_df], axis=1, ignore_index=True)\n",
    "        \n",
    "    average_bias_over_time['Hidden Markov Model'] = bias_over_time_hmm.mean(axis=1)\n",
    "    average_bias_over_time['Competing Models'] = bias_over_time_cm.mean(axis=1)\n",
    "    average_bias_over_time['Wall'] = bias_over_time_wall.mean(axis=1)\n",
    "    average_bias_over_time['Adaptive Contextualization'] = bias_over_time_ac.mean(axis=1)\n",
    "    cormat = average_bias_over_time.corr()\n",
    "    mask = np.triu(np.ones_like(cormat, dtype=bool), k=1)\n",
    "    cmap = sns.diverging_palette(10, 230, as_cmap=True)\n",
    "    if ai == 2:\n",
    "        heat_map = sns.heatmap(ax=axs[ai], annot=True, data = cormat, vmin=vmin, vmax=vmax, mask=mask, cmap=cmap)\n",
    "    else:\n",
    "        heat_map = sns.heatmap(ax=axs[ai], annot=True, data = cormat, vmin=vmin, vmax=vmax, cbar=False, mask=mask, cmap=cmap)\n",
    "    heat_map.set_xticklabels(heat_map.get_xticklabels(), rotation=45)\n",
    "    axs[ai].set_title(f'Aggregate Bias Agreement for {t} task')\n",
    "fig.tight_layout()"
   ]
  },
  {
   "cell_type": "code",
   "execution_count": null,
   "id": "5af8b291",
   "metadata": {},
   "outputs": [],
   "source": [
    "# All interaction for each user over time STL\n",
    "fig, axs = plt.subplots(1, 3, sharey=True, figsize=(3*6.4, 4.8))\n",
    "plt.rcParams.update({'font.size': 15, 'axes.titlesize': 15, 'axes.labelsize': 15, 'xtick.labelsize':12, 'xtick.labelsize':12})\n",
    "sns.set_theme(style=\"white\")\n",
    "\n",
    "bias_metric_per_task_hmm = {'geo-based': 'bias-bias_x___y', 'type-based': 'bias-bias_type', 'mixed': 'bias-mixed'}\n",
    "bias_metric_per_task_cm = {'geo-based': 'bias-x___y', 'type-based': 'bias-type', 'mixed': 'posterior-competing_model__x___y___type'}\n",
    "bias_metric_per_task_wall = {'geo-based': 'bias-x___y', 'type-based': 'bias-type', 'mixed': 'bias-mixed'}\n",
    "bias_metric_per_task_ac = {'geo-based': 'bias-x___y', 'type-based': 'bias-type', 'mixed': 'bias-mixed'}\n",
    "\n",
    "vmin = -1\n",
    "vmax = 1\n",
    "for ai, t in enumerate(['geo-based', 'type-based', 'mixed']):\n",
    "    bias_over_time = pd.DataFrame()\n",
    "    bias_over_time_hmm = pd.DataFrame()\n",
    "    bias_over_time_cm = pd.DataFrame()\n",
    "    bias_over_time_wall = pd.DataFrame()\n",
    "    bias_over_time_ac = pd.DataFrame()\n",
    "    for i, row in stl_map_results_ac[stl_map_results_ac.task == t].iterrows():\n",
    "        temp_df = pd.DataFrame()\n",
    "        temp_df[row['participant_id']] = row[bias_metric_per_task_ac[t]]\n",
    "        bias_over_time_ac = pd.concat([bias_over_time_ac, temp_df], axis=1, ignore_index=True)\n",
    "    for i, row in stl_map_results_hmm[stl_map_results_hmm.task == t].iterrows():\n",
    "        temp_df = pd.DataFrame()\n",
    "        temp_df[row['participant_id']] = row[bias_metric_per_task_hmm[t]]\n",
    "        bias_over_time_hmm = pd.concat([bias_over_time_hmm, temp_df], axis=1, ignore_index=True)\n",
    "    for i, row in stl_map_results_cm[stl_map_results_cm.task == t].iterrows():\n",
    "        temp_df = pd.DataFrame()\n",
    "        temp_df[row['participant_id']] = row[bias_metric_per_task_cm[t]]\n",
    "        bias_over_time_cm = pd.concat([bias_over_time_cm, temp_df], axis=1, ignore_index=True)\n",
    "    for i, row in stl_map_results_wall[stl_map_results_wall.task == t].iterrows():\n",
    "        temp_df = pd.DataFrame()\n",
    "        temp_df[row['participant_id']] = row[bias_metric_per_task_wall[t]]\n",
    "        bias_over_time_wall = pd.concat([bias_over_time_wall, temp_df], axis=1, ignore_index=True)\n",
    "        \n",
    "    bias_over_time['Hidden Markov Model'] = bias_over_time_hmm.stack().reset_index()[0].astype(float)\n",
    "    bias_over_time['Competing Models'] = bias_over_time_cm.stack().reset_index()[0].astype(float)\n",
    "    bias_over_time['Wall'] = bias_over_time_wall.stack().reset_index()[0].astype(float)\n",
    "    bias_over_time['Adaptive Contextualization'] = bias_over_time_ac.stack().reset_index()[0].astype(float)\n",
    "    cormat = bias_over_time.corr()\n",
    "    mask = np.triu(np.ones_like(cormat, dtype=bool), k=1)\n",
    "    cmap = sns.diverging_palette(10, 230, as_cmap=True)\n",
    "    if ai == 2:\n",
    "        heat_map = sns.heatmap(ax=axs[ai], annot=True, data = cormat, vmin=vmin, vmax=vmax, mask=mask, cmap=cmap)\n",
    "    else:\n",
    "        heat_map = sns.heatmap(ax=axs[ai], annot=True, data = cormat, vmin=vmin, vmax=vmax, cbar=False, mask=mask, cmap=cmap)\n",
    "    heat_map.set_xticklabels(heat_map.get_xticklabels(), rotation=45)\n",
    "    axs[ai].set_title(f'Bias Agreement for {t} task')\n",
    "fig.tight_layout()"
   ]
  },
  {
   "cell_type": "code",
   "execution_count": null,
   "id": "c280cb43",
   "metadata": {},
   "outputs": [],
   "source": [
    "# Averaging user bias at each interaction VAST\n",
    "\n",
    "fig, axs = plt.subplots(1, 2, sharey=True, figsize=(1.5*6.4, 4.8))\n",
    "sns.set_theme(style=\"white\")\n",
    "plt.rcParams.update({'axes.titlesize': 15, 'axes.labelsize': 15, 'xtick.labelsize':12, 'xtick.labelsize':12})\n",
    "\n",
    "bias_metric_per_task_hmm = {'location-based': 'bias-bias_latitude___longitude', 'topic-based': 'bias-bias_topic'}\n",
    "bias_metric_per_task_cm = {'location-based': 'bias-latitude___longitude', 'topic-based': 'bias-topic'}\n",
    "bias_metric_per_task_wall = {'location-based': 'bias-latitude___longitude', 'topic-based': 'bias-topic'}\n",
    "bias_metric_per_task_ac = {'location-based': 'bias-latitude___longitude', 'topic-based': 'bias-topic'}\n",
    "\n",
    "vmin = -1\n",
    "vmax = 1\n",
    "t = 'control'\n",
    "for ai, attr in enumerate(['location-based', 'topic-based']):\n",
    "    average_bias_over_time = pd.DataFrame()\n",
    "    bias_over_time_cm = pd.DataFrame()\n",
    "    bias_over_time_wall = pd.DataFrame()\n",
    "    bias_over_time_hmm = pd.DataFrame()\n",
    "    bias_over_time_ac = pd.DataFrame()\n",
    "    for i, row in vast_results_ac[vast_results_ac.task == t].iterrows():\n",
    "        temp_df = pd.DataFrame()\n",
    "        temp_df[row['participant_id']] = row[bias_metric_per_task_ac[attr]]\n",
    "        bias_over_time_ac = pd.concat([bias_over_time_ac, temp_df], axis=1, ignore_index=True)\n",
    "    for i, row in vast_results_hmm[vast_results_hmm.task == t].iterrows():\n",
    "        temp_df = pd.DataFrame()\n",
    "        temp_df[row['participant_id']] = row[bias_metric_per_task_hmm[attr]]\n",
    "        bias_over_time_hmm = pd.concat([bias_over_time_hmm, temp_df], axis=1, ignore_index=True)\n",
    "    for i, row in vast_results_cm[vast_results_cm.task == t].iterrows():\n",
    "        temp_df = pd.DataFrame()\n",
    "        temp_df[row['participant_id']] = row[bias_metric_per_task_cm[attr]]\n",
    "        bias_over_time_cm = pd.concat([bias_over_time_cm, temp_df], axis=1, ignore_index=True)\n",
    "    for i, row in vast_results_wall[vast_results_wall.task == t].iterrows():\n",
    "        temp_df = pd.DataFrame()\n",
    "        temp_df[row['participant_id']] = row[bias_metric_per_task_wall[attr]]\n",
    "        bias_over_time_wall = pd.concat([bias_over_time_wall, temp_df], axis=1, ignore_index=True)\n",
    "\n",
    "    average_bias_over_time['Hidden Markov Model'] = bias_over_time_hmm.mean(axis=1)\n",
    "    average_bias_over_time['Competing Models'] = bias_over_time_cm.mean(axis=1)\n",
    "    average_bias_over_time['Wall'] = bias_over_time_wall.mean(axis=1)\n",
    "    average_bias_over_time['Adaptive Contextualization'] = bias_over_time_ac.mean(axis=1)\n",
    "    cormat = average_bias_over_time.corr()\n",
    "    mask = np.triu(np.ones_like(cormat, dtype=bool), k=1)\n",
    "    cmap = sns.diverging_palette(10, 230, as_cmap=True)\n",
    "    if ai == 1:\n",
    "        heat_map = sns.heatmap(ax=axs[ai], annot=True, data = cormat, vmin=vmin, vmax=vmax, mask=mask, cmap=cmap)\n",
    "    else:\n",
    "        heat_map = sns.heatmap(ax=axs[ai], annot=True, data = cormat, vmin=vmin, vmax=vmax, cbar=False, mask=mask, cmap=cmap)\n",
    "    heat_map.set_xticklabels(heat_map.get_xticklabels(), rotation=45)\n",
    "    axs[ai].set_title(f'Aggregate Bias Agreement for {attr}')\n",
    "fig.tight_layout()"
   ]
  },
  {
   "cell_type": "code",
   "execution_count": null,
   "id": "00375263",
   "metadata": {},
   "outputs": [],
   "source": [
    "# All interaction for each user over time VAST\n",
    "\n",
    "fig, axs = plt.subplots(1, 2, sharey=True, figsize=(1.5*6.4, 4.8))\n",
    "sns.set_theme(style=\"white\")\n",
    "plt.rcParams.update({'axes.titlesize': 15, 'axes.labelsize': 15, 'xtick.labelsize':12, 'xtick.labelsize':12})\n",
    "\n",
    "bias_metric_per_task_hmm = {'location-based': 'bias-bias_latitude___longitude', 'topic-based': 'bias-bias_topic'}\n",
    "bias_metric_per_task_cm = {'location-based': 'bias-latitude___longitude', 'topic-based': 'bias-topic'}\n",
    "bias_metric_per_task_wall = {'location-based': 'bias-latitude___longitude', 'topic-based': 'bias-topic'}\n",
    "bias_metric_per_task_ac = {'location-based': 'bias-latitude___longitude', 'topic-based': 'bias-topic'}\n",
    "\n",
    "vmin = -1\n",
    "vmax = 1\n",
    "t = 'control'\n",
    "for ai, attr_name in enumerate(['Location', 'Topic']):\n",
    "    attr = f'{attr_name.lower()}-based'\n",
    "    bias_over_time = pd.DataFrame()\n",
    "    bias_over_time_cm = pd.DataFrame()\n",
    "    bias_over_time_wall = pd.DataFrame()\n",
    "    bias_over_time_hmm = pd.DataFrame()\n",
    "    bias_over_time_ac = pd.DataFrame()\n",
    "    for i, row in vast_results_ac[vast_results_ac.task == t].iterrows():\n",
    "        temp_df = pd.DataFrame()\n",
    "        temp_df[row['participant_id']] = row[bias_metric_per_task_ac[attr]]\n",
    "        bias_over_time_ac = pd.concat([bias_over_time_ac, temp_df], axis=1, ignore_index=True)\n",
    "    for i, row in vast_results_hmm[vast_results_hmm.task == t].iterrows():\n",
    "        temp_df = pd.DataFrame()\n",
    "        temp_df[row['participant_id']] = row[bias_metric_per_task_hmm[attr]]\n",
    "        bias_over_time_hmm = pd.concat([bias_over_time_hmm, temp_df], axis=1, ignore_index=True)\n",
    "    for i, row in vast_results_cm[vast_results_cm.task == t].iterrows():\n",
    "        temp_df = pd.DataFrame()\n",
    "        temp_df[row['participant_id']] = row[bias_metric_per_task_cm[attr]]\n",
    "        bias_over_time_cm = pd.concat([bias_over_time_cm, temp_df], axis=1, ignore_index=True)\n",
    "    for i, row in vast_results_wall[vast_results_wall.task == t].iterrows():\n",
    "        temp_df = pd.DataFrame()\n",
    "        temp_df[row['participant_id']] = row[bias_metric_per_task_wall[attr]]\n",
    "        bias_over_time_wall = pd.concat([bias_over_time_wall, temp_df], axis=1, ignore_index=True)\n",
    "        \n",
    "    bias_over_time['HMM'] = bias_over_time_hmm.stack().reset_index()[0].astype(float)\n",
    "    bias_over_time['CM'] = bias_over_time_cm.stack().reset_index()[0].astype(float)\n",
    "    bias_over_time['AD'] = bias_over_time_wall.stack().reset_index()[0].astype(float)\n",
    "    bias_over_time['AC'] = bias_over_time_ac.stack().reset_index()[0].astype(float)\n",
    "    cormat = bias_over_time.corr()\n",
    "    mask = np.triu(np.ones_like(cormat, dtype=bool), k=1)\n",
    "    cmap = sns.diverging_palette(10, 230, as_cmap=True)\n",
    "    if ai == 1:\n",
    "        heat_map = sns.heatmap(ax=axs[ai], annot=True, data = cormat, vmin=vmin, vmax=vmax, mask=mask, cmap=cmap)\n",
    "    else:\n",
    "        heat_map = sns.heatmap(ax=axs[ai], annot=True, data = cormat, vmin=vmin, vmax=vmax, cbar=False, mask=mask, cmap=cmap)\n",
    "    heat_map.set_xticklabels(heat_map.get_xticklabels(), rotation=0)\n",
    "    axs[ai].set_title(f'{attr_name}')\n",
    "fig.suptitle('Vastopolis Bias Metric Correlation')\n",
    "fig.tight_layout()\n",
    "\n",
    "fig.savefig('../output/figs/vast_bias_corr.png', dpi=300, bbox_inches='tight')"
   ]
  },
  {
   "cell_type": "code",
   "execution_count": null,
   "id": "8a583d0d",
   "metadata": {},
   "outputs": [],
   "source": [
    "# All interaction for each user over time STL-1\n",
    "\n",
    "fig, axs = plt.subplots(1, 2, sharey=True, figsize=(1.5*6.4, 4.8))\n",
    "sns.set_theme(style=\"white\")\n",
    "plt.rcParams.update({'axes.titlesize': 15, 'axes.labelsize': 15, 'xtick.labelsize':12, 'xtick.labelsize':12})\n",
    "\n",
    "bias_metric_per_task_hmm = {'location-based': 'bias-bias_x___y', 'type-based': 'bias-bias_type'}\n",
    "bias_metric_per_task_cm = {'location-based': 'bias-x___y', 'type-based': 'bias-type'}\n",
    "bias_metric_per_task_wall = {'location-based': 'bias-x___y', 'type-based': 'bias-type'}\n",
    "bias_metric_per_task_ac = {'location-based': 'bias-x___y', 'type-based': 'bias-type'}\n",
    "\n",
    "vmin = -1\n",
    "vmax = 1\n",
    "t = 'geo-based'\n",
    "for ai, attr_name in enumerate(['Location', 'Type']):\n",
    "    attr = f'{attr_name.lower()}-based'\n",
    "    bias_over_time = pd.DataFrame()\n",
    "    bias_over_time_cm = pd.DataFrame()\n",
    "    bias_over_time_wall = pd.DataFrame()\n",
    "    bias_over_time_hmm = pd.DataFrame()\n",
    "    bias_over_time_ac = pd.DataFrame()\n",
    "    for i, row in stl_map_results_ac[stl_map_results_ac.task == t].iterrows():\n",
    "        temp_df = pd.DataFrame()\n",
    "        temp_df[row['participant_id']] = row[bias_metric_per_task_ac[attr]]\n",
    "        bias_over_time_ac = pd.concat([bias_over_time_ac, temp_df], axis=1, ignore_index=True)\n",
    "    for i, row in stl_map_results_hmm[stl_map_results_hmm.task == t].iterrows():\n",
    "        temp_df = pd.DataFrame()\n",
    "        temp_df[row['participant_id']] = row[bias_metric_per_task_hmm[attr]]\n",
    "        bias_over_time_hmm = pd.concat([bias_over_time_hmm, temp_df], axis=1, ignore_index=True)\n",
    "    for i, row in stl_map_results_cm[stl_map_results_cm.task == t].iterrows():\n",
    "        temp_df = pd.DataFrame()\n",
    "        temp_df[row['participant_id']] = row[bias_metric_per_task_cm[attr]]\n",
    "        bias_over_time_cm = pd.concat([bias_over_time_cm, temp_df], axis=1, ignore_index=True)\n",
    "    for i, row in stl_map_results_wall[stl_map_results_wall.task == t].iterrows():\n",
    "        temp_df = pd.DataFrame()\n",
    "        temp_df[row['participant_id']] = row[bias_metric_per_task_wall[attr]]\n",
    "        bias_over_time_wall = pd.concat([bias_over_time_wall, temp_df], axis=1, ignore_index=True)\n",
    "        \n",
    "    bias_over_time['HMM'] = bias_over_time_hmm.stack().reset_index()[0].astype(float)\n",
    "    bias_over_time['CM'] = bias_over_time_cm.stack().reset_index()[0].astype(float)\n",
    "    bias_over_time['AD'] = bias_over_time_wall.stack().reset_index()[0].astype(float)\n",
    "    bias_over_time['AC'] = bias_over_time_ac.stack().reset_index()[0].astype(float)\n",
    "    cormat = bias_over_time.corr()\n",
    "    mask = np.triu(np.ones_like(cormat, dtype=bool), k=1)\n",
    "    cmap = sns.diverging_palette(10, 230, as_cmap=True)\n",
    "    if ai == 1:\n",
    "        heat_map = sns.heatmap(ax=axs[ai], annot=True, data = cormat, vmin=vmin, vmax=vmax, mask=mask, cmap=cmap)\n",
    "    else:\n",
    "        heat_map = sns.heatmap(ax=axs[ai], annot=True, data = cormat, vmin=vmin, vmax=vmax, cbar=False, mask=mask, cmap=cmap)\n",
    "    heat_map.set_xticklabels(heat_map.get_xticklabels(), rotation=0)\n",
    "    axs[ai].set_title(f'{attr_name}')\n",
    "fig.suptitle('STL-location-based Bias Metric Correlation')\n",
    "fig.tight_layout()\n",
    "fig.savefig('../output/figs/stl_loc_bias_corr.png', dpi=300, bbox_inches='tight')"
   ]
  },
  {
   "cell_type": "code",
   "execution_count": null,
   "id": "abeaefde",
   "metadata": {},
   "outputs": [],
   "source": [
    "# All interaction for each user over time STL-1\n",
    "\n",
    "fig, axs = plt.subplots(1, 2, sharey=True, figsize=(1.5*6.4, 4.8))\n",
    "sns.set_theme(style=\"white\")\n",
    "plt.rcParams.update({'axes.titlesize': 15, 'axes.labelsize': 15, 'xtick.labelsize':12, 'xtick.labelsize':12})\n",
    "\n",
    "bias_metric_per_task_hmm = {'location-based': 'bias-bias_x___y', 'type-based': 'bias-bias_type'}\n",
    "bias_metric_per_task_cm = {'location-based': 'bias-x___y', 'type-based': 'bias-type'}\n",
    "bias_metric_per_task_wall = {'location-based': 'bias-x___y', 'type-based': 'bias-type'}\n",
    "bias_metric_per_task_ac = {'location-based': 'bias-x___y', 'type-based': 'bias-type'}\n",
    "\n",
    "vmin = -1\n",
    "vmax = 1\n",
    "t = 'type-based'\n",
    "for ai, attr_name in enumerate(['Location', 'Type']):\n",
    "    attr = f'{attr_name.lower()}-based'\n",
    "    bias_over_time = pd.DataFrame()\n",
    "    bias_over_time_cm = pd.DataFrame()\n",
    "    bias_over_time_wall = pd.DataFrame()\n",
    "    bias_over_time_hmm = pd.DataFrame()\n",
    "    bias_over_time_ac = pd.DataFrame()\n",
    "    for i, row in stl_map_results_ac[stl_map_results_ac.task == t].iterrows():\n",
    "        temp_df = pd.DataFrame()\n",
    "        temp_df[row['participant_id']] = row[bias_metric_per_task_ac[attr]]\n",
    "        bias_over_time_ac = pd.concat([bias_over_time_ac, temp_df], axis=1, ignore_index=True)\n",
    "    for i, row in stl_map_results_hmm[stl_map_results_hmm.task == t].iterrows():\n",
    "        temp_df = pd.DataFrame()\n",
    "        temp_df[row['participant_id']] = row[bias_metric_per_task_hmm[attr]]\n",
    "        bias_over_time_hmm = pd.concat([bias_over_time_hmm, temp_df], axis=1, ignore_index=True)\n",
    "    for i, row in stl_map_results_cm[stl_map_results_cm.task == t].iterrows():\n",
    "        temp_df = pd.DataFrame()\n",
    "        temp_df[row['participant_id']] = row[bias_metric_per_task_cm[attr]]\n",
    "        bias_over_time_cm = pd.concat([bias_over_time_cm, temp_df], axis=1, ignore_index=True)\n",
    "    for i, row in stl_map_results_wall[stl_map_results_wall.task == t].iterrows():\n",
    "        temp_df = pd.DataFrame()\n",
    "        temp_df[row['participant_id']] = row[bias_metric_per_task_wall[attr]]\n",
    "        bias_over_time_wall = pd.concat([bias_over_time_wall, temp_df], axis=1, ignore_index=True)\n",
    "        \n",
    "    bias_over_time['HMM'] = bias_over_time_hmm.stack().reset_index()[0].astype(float)\n",
    "    bias_over_time['CM'] = bias_over_time_cm.stack().reset_index()[0].astype(float)\n",
    "    bias_over_time['AD'] = bias_over_time_wall.stack().reset_index()[0].astype(float)\n",
    "    bias_over_time['AC'] = bias_over_time_ac.stack().reset_index()[0].astype(float)\n",
    "    cormat = bias_over_time.corr()\n",
    "    mask = np.triu(np.ones_like(cormat, dtype=bool), k=1)\n",
    "    cmap = sns.diverging_palette(10, 230, as_cmap=True)\n",
    "    if ai == 1:\n",
    "        heat_map = sns.heatmap(ax=axs[ai], annot=True, data = cormat, vmin=vmin, vmax=vmax, mask=mask, cmap=cmap)\n",
    "    else:\n",
    "        heat_map = sns.heatmap(ax=axs[ai], annot=True, data = cormat, vmin=vmin, vmax=vmax, cbar=False, mask=mask, cmap=cmap)\n",
    "    heat_map.set_xticklabels(heat_map.get_xticklabels(), rotation=0)\n",
    "    axs[ai].set_title(f'{attr_name}')\n",
    "fig.suptitle('STL-type-based Bias Metric Correlation')\n",
    "fig.tight_layout()\n",
    "fig.savefig('../output/figs/stl_type_bias_corr.png', dpi=300, bbox_inches='tight')"
   ]
  },
  {
   "cell_type": "code",
   "execution_count": null,
   "id": "b606c0f2",
   "metadata": {},
   "outputs": [],
   "source": [
    "# All interaction for each user over time STL-1\n",
    "\n",
    "fig, axs = plt.subplots(1, 2, sharey=True, figsize=(1.5*6.4, 4.8))\n",
    "sns.set_theme(style=\"white\")\n",
    "plt.rcParams.update({'axes.titlesize': 15, 'axes.labelsize': 15, 'xtick.labelsize':12, 'xtick.labelsize':12})\n",
    "\n",
    "bias_metric_per_task_hmm = {'location-based': 'bias-bias_x___y', 'type-based': 'bias-bias_type'}\n",
    "bias_metric_per_task_cm = {'location-based': 'bias-x___y', 'type-based': 'bias-type'}\n",
    "bias_metric_per_task_wall = {'location-based': 'bias-x___y', 'type-based': 'bias-type'}\n",
    "bias_metric_per_task_ac = {'location-based': 'bias-x___y', 'type-based': 'bias-type'}\n",
    "\n",
    "vmin = -1\n",
    "vmax = 1\n",
    "t = 'mixed'\n",
    "for ai, attr_name in enumerate(['Location', 'Type']):\n",
    "    attr = f'{attr_name.lower()}-based'\n",
    "    bias_over_time = pd.DataFrame()\n",
    "    bias_over_time_cm = pd.DataFrame()\n",
    "    bias_over_time_wall = pd.DataFrame()\n",
    "    bias_over_time_hmm = pd.DataFrame()\n",
    "    bias_over_time_ac = pd.DataFrame()\n",
    "    for i, row in stl_map_results_ac[stl_map_results_ac.task == t].iterrows():\n",
    "        temp_df = pd.DataFrame()\n",
    "        temp_df[row['participant_id']] = row[bias_metric_per_task_ac[attr]]\n",
    "        bias_over_time_ac = pd.concat([bias_over_time_ac, temp_df], axis=1, ignore_index=True)\n",
    "    for i, row in stl_map_results_hmm[stl_map_results_hmm.task == t].iterrows():\n",
    "        temp_df = pd.DataFrame()\n",
    "        temp_df[row['participant_id']] = row[bias_metric_per_task_hmm[attr]]\n",
    "        bias_over_time_hmm = pd.concat([bias_over_time_hmm, temp_df], axis=1, ignore_index=True)\n",
    "    for i, row in stl_map_results_cm[stl_map_results_cm.task == t].iterrows():\n",
    "        temp_df = pd.DataFrame()\n",
    "        temp_df[row['participant_id']] = row[bias_metric_per_task_cm[attr]]\n",
    "        bias_over_time_cm = pd.concat([bias_over_time_cm, temp_df], axis=1, ignore_index=True)\n",
    "    for i, row in stl_map_results_wall[stl_map_results_wall.task == t].iterrows():\n",
    "        temp_df = pd.DataFrame()\n",
    "        temp_df[row['participant_id']] = row[bias_metric_per_task_wall[attr]]\n",
    "        bias_over_time_wall = pd.concat([bias_over_time_wall, temp_df], axis=1, ignore_index=True)\n",
    "        \n",
    "    bias_over_time['HMM'] = bias_over_time_hmm.stack().reset_index()[0].astype(float)\n",
    "    bias_over_time['CM'] = bias_over_time_cm.stack().reset_index()[0].astype(float)\n",
    "    bias_over_time['AD'] = bias_over_time_wall.stack().reset_index()[0].astype(float)\n",
    "    bias_over_time['AC'] = bias_over_time_ac.stack().reset_index()[0].astype(float)\n",
    "    cormat = bias_over_time.corr()\n",
    "    mask = np.triu(np.ones_like(cormat, dtype=bool), k=1)\n",
    "    cmap = sns.diverging_palette(10, 230, as_cmap=True)\n",
    "    if ai == 1:\n",
    "        heat_map = sns.heatmap(ax=axs[ai], annot=True, data = cormat, vmin=vmin, vmax=vmax, mask=mask, cmap=cmap)\n",
    "    else:\n",
    "        heat_map = sns.heatmap(ax=axs[ai], annot=True, data = cormat, vmin=vmin, vmax=vmax, cbar=False, mask=mask, cmap=cmap)\n",
    "    heat_map.set_xticklabels(heat_map.get_xticklabels(), rotation=0)\n",
    "    axs[ai].set_title(f'{attr_name}')\n",
    "fig.suptitle('STL-mixed Bias Metric Correlation')\n",
    "fig.tight_layout()\n",
    "fig.savefig('../output/figs/stl_mixed_bias_corr.png', dpi=300, bbox_inches='tight')"
   ]
  },
  {
   "cell_type": "markdown",
   "id": "c526b466",
   "metadata": {},
   "source": [
    "# Top Ranking Bias Over Time"
   ]
  },
  {
   "cell_type": "code",
   "execution_count": 12,
   "id": "89a307b2",
   "metadata": {},
   "outputs": [
    {
     "data": {
      "application/vnd.plotly.v1+json": {
       "config": {
        "plotlyServerURL": "https://plot.ly"
       },
       "data": [
        {
         "alignmentgroup": "True",
         "base": [
          1,
          6,
          1,
          5,
          1,
          2,
          1
         ],
         "hovertemplate": "top_bias=age<br>user=Alfa<br>start=%{base}<br>stop=%{x}<br>=%{y}<br>bias_value=%{text}<extra></extra>",
         "legendgroup": "age",
         "marker": {
          "color": "#636efa",
          "opacity": [
           0.94,
           0.76,
           0.56,
           0.63,
           0.83,
           0.66,
           0.5
          ],
          "pattern": {
           "shape": ""
          }
         },
         "name": "age",
         "offsetgroup": "age",
         "orientation": "h",
         "showlegend": true,
         "text": "",
         "textangle": 0,
         "textfont": {
          "size": 4
         },
         "textposition": "auto",
         "type": "bar",
         "x": [
          1,
          1,
          1,
          1,
          1,
          1,
          1
         ],
         "xaxis": "x9",
         "y": [
          "AD    ",
          "AD    ",
          "HMM",
          "HMM",
          "AC",
          "AC",
          "ENS"
         ],
         "yaxis": "y9"
        },
        {
         "alignmentgroup": "True",
         "base": [
          1,
          2,
          3,
          13,
          14,
          1
         ],
         "hovertemplate": "top_bias=age<br>user=Bravo<br>start=%{base}<br>stop=%{x}<br>=%{y}<br>bias_value=%{text}<extra></extra>",
         "legendgroup": "age",
         "marker": {
          "color": "#636efa",
          "opacity": [
           0.6,
           0.58,
           0.6,
           0.23,
           0.23,
           0.4
          ],
          "pattern": {
           "shape": ""
          }
         },
         "name": "age",
         "offsetgroup": "age",
         "orientation": "h",
         "showlegend": false,
         "text": "",
         "textangle": 0,
         "textfont": {
          "size": 4
         },
         "textposition": "auto",
         "type": "bar",
         "x": [
          1,
          1,
          1,
          1,
          1,
          1
         ],
         "xaxis": "x10",
         "y": [
          "AD    ",
          "HMM",
          "HMM",
          "AC",
          "AC",
          "ENS"
         ],
         "yaxis": "y10"
        },
        {
         "alignmentgroup": "True",
         "base": [
          5,
          8,
          8,
          9,
          10
         ],
         "hovertemplate": "top_bias=age<br>user=Charlie<br>start=%{base}<br>stop=%{x}<br>=%{y}<br>bias_value=%{text}<extra></extra>",
         "legendgroup": "age",
         "marker": {
          "color": "#636efa",
          "opacity": [
           0.69,
           0.68,
           0.32,
           0.28,
           0.27
          ],
          "pattern": {
           "shape": ""
          }
         },
         "name": "age",
         "offsetgroup": "age",
         "orientation": "h",
         "showlegend": false,
         "text": "",
         "textangle": 0,
         "textfont": {
          "size": 4
         },
         "textposition": "auto",
         "type": "bar",
         "x": [
          1,
          1,
          1,
          1,
          1
         ],
         "xaxis": "x11",
         "y": [
          "AD    ",
          "AD    ",
          "AC",
          "AC",
          "AC"
         ],
         "yaxis": "y11"
        },
        {
         "alignmentgroup": "True",
         "base": [
          1,
          3
         ],
         "hovertemplate": "top_bias=age<br>user=Delta<br>start=%{base}<br>stop=%{x}<br>=%{y}<br>bias_value=%{text}<extra></extra>",
         "legendgroup": "age",
         "marker": {
          "color": "#636efa",
          "opacity": [
           0.47,
           0.65
          ],
          "pattern": {
           "shape": ""
          }
         },
         "name": "age",
         "offsetgroup": "age",
         "orientation": "h",
         "showlegend": false,
         "text": "",
         "textangle": 0,
         "textfont": {
          "size": 4
         },
         "textposition": "auto",
         "type": "bar",
         "x": [
          1,
          1
         ],
         "xaxis": "x12",
         "y": [
          "AD    ",
          "AC"
         ],
         "yaxis": "y12"
        },
        {
         "alignmentgroup": "True",
         "base": [
          2,
          3,
          4,
          6,
          2,
          2
         ],
         "hovertemplate": "top_bias=age<br>user=Echo<br>start=%{base}<br>stop=%{x}<br>=%{y}<br>bias_value=%{text}<extra></extra>",
         "legendgroup": "age",
         "marker": {
          "color": "#636efa",
          "opacity": [
           0.7,
           0.65,
           0.65,
           0.46,
           0.59,
           0.46
          ],
          "pattern": {
           "shape": ""
          }
         },
         "name": "age",
         "offsetgroup": "age",
         "orientation": "h",
         "showlegend": false,
         "text": "",
         "textangle": 0,
         "textfont": {
          "size": 4
         },
         "textposition": "auto",
         "type": "bar",
         "x": [
          1,
          1,
          1,
          1,
          1,
          1
         ],
         "xaxis": "x5",
         "y": [
          "AC",
          "AC",
          "AC",
          "AC",
          "CM",
          "ENS"
         ],
         "yaxis": "y5"
        },
        {
         "alignmentgroup": "True",
         "base": [
          3,
          11,
          8,
          11
         ],
         "hovertemplate": "top_bias=age<br>user=Foxtrot<br>start=%{base}<br>stop=%{x}<br>=%{y}<br>bias_value=%{text}<extra></extra>",
         "legendgroup": "age",
         "marker": {
          "color": "#636efa",
          "opacity": [
           0.7,
           0.68,
           0.45,
           0.3
          ],
          "pattern": {
           "shape": ""
          }
         },
         "name": "age",
         "offsetgroup": "age",
         "orientation": "h",
         "showlegend": false,
         "text": "",
         "textangle": 0,
         "textfont": {
          "size": 4
         },
         "textposition": "auto",
         "type": "bar",
         "x": [
          1,
          1,
          1,
          1
         ],
         "xaxis": "x6",
         "y": [
          "AD    ",
          "AD    ",
          "AC",
          "AC"
         ],
         "yaxis": "y6"
        },
        {
         "alignmentgroup": "True",
         "base": [
          1,
          5,
          7,
          1,
          2,
          1
         ],
         "hovertemplate": "top_bias=age<br>user=Golf<br>start=%{base}<br>stop=%{x}<br>=%{y}<br>bias_value=%{text}<extra></extra>",
         "legendgroup": "age",
         "marker": {
          "color": "#636efa",
          "opacity": [
           0.76,
           0.66,
           0.39,
           0.81,
           0.64,
           0.44
          ],
          "pattern": {
           "shape": ""
          }
         },
         "name": "age",
         "offsetgroup": "age",
         "orientation": "h",
         "showlegend": false,
         "text": "",
         "textangle": 0,
         "textfont": {
          "size": 4
         },
         "textposition": "auto",
         "type": "bar",
         "x": [
          1,
          1,
          1,
          1,
          1,
          1
         ],
         "xaxis": "x7",
         "y": [
          "AD    ",
          "AD    ",
          "AD    ",
          "AC",
          "AC",
          "ENS"
         ],
         "yaxis": "y7"
        },
        {
         "alignmentgroup": "True",
         "base": [
          3,
          4,
          6,
          7,
          8,
          4
         ],
         "hovertemplate": "top_bias=age<br>user=Hotel<br>start=%{base}<br>stop=%{x}<br>=%{y}<br>bias_value=%{text}<extra></extra>",
         "legendgroup": "age",
         "marker": {
          "color": "#636efa",
          "opacity": [
           0.85,
           0.89,
           0.76,
           0.87,
           0.65,
           0.46
          ],
          "pattern": {
           "shape": ""
          }
         },
         "name": "age",
         "offsetgroup": "age",
         "orientation": "h",
         "showlegend": false,
         "text": "",
         "textangle": 0,
         "textfont": {
          "size": 4
         },
         "textposition": "auto",
         "type": "bar",
         "x": [
          1,
          1,
          1,
          1,
          1,
          1
         ],
         "xaxis": "x8",
         "y": [
          "AD    ",
          "AD    ",
          "AD    ",
          "AD    ",
          "AD    ",
          "AC"
         ],
         "yaxis": "y8"
        },
        {
         "alignmentgroup": "True",
         "base": [
          1,
          1,
          3,
          4,
          5,
          1
         ],
         "hovertemplate": "top_bias=age<br>user=India<br>start=%{base}<br>stop=%{x}<br>=%{y}<br>bias_value=%{text}<extra></extra>",
         "legendgroup": "age",
         "marker": {
          "color": "#636efa",
          "opacity": [
           0.79,
           0.82,
           0.64,
           0.65,
           0.51,
           0.45
          ],
          "pattern": {
           "shape": ""
          }
         },
         "name": "age",
         "offsetgroup": "age",
         "orientation": "h",
         "showlegend": false,
         "text": "",
         "textangle": 0,
         "textfont": {
          "size": 4
         },
         "textposition": "auto",
         "type": "bar",
         "x": [
          1,
          1,
          1,
          1,
          1,
          1
         ],
         "xaxis": "x",
         "y": [
          "AD    ",
          "AC",
          "AC",
          "AC",
          "AC",
          "ENS"
         ],
         "yaxis": "y"
        },
        {
         "alignmentgroup": "True",
         "base": [
          1,
          10,
          4,
          1
         ],
         "hovertemplate": "top_bias=age<br>user=Juliett<br>start=%{base}<br>stop=%{x}<br>=%{y}<br>bias_value=%{text}<extra></extra>",
         "legendgroup": "age",
         "marker": {
          "color": "#636efa",
          "opacity": [
           0.6,
           0.96,
           0.59,
           0.4
          ],
          "pattern": {
           "shape": ""
          }
         },
         "name": "age",
         "offsetgroup": "age",
         "orientation": "h",
         "showlegend": false,
         "text": "",
         "textangle": 0,
         "textfont": {
          "size": 4
         },
         "textposition": "auto",
         "type": "bar",
         "x": [
          1,
          1,
          1,
          1
         ],
         "xaxis": "x2",
         "y": [
          "AD    ",
          "AD    ",
          "HMM",
          "ENS"
         ],
         "yaxis": "y2"
        },
        {
         "alignmentgroup": "True",
         "base": [
          6,
          7
         ],
         "hovertemplate": "top_bias=age<br>user=Kilo<br>start=%{base}<br>stop=%{x}<br>=%{y}<br>bias_value=%{text}<extra></extra>",
         "legendgroup": "age",
         "marker": {
          "color": "#636efa",
          "opacity": [
           0.46,
           0.45
          ],
          "pattern": {
           "shape": ""
          }
         },
         "name": "age",
         "offsetgroup": "age",
         "orientation": "h",
         "showlegend": false,
         "text": "",
         "textangle": 0,
         "textfont": {
          "size": 4
         },
         "textposition": "auto",
         "type": "bar",
         "x": [
          1,
          1
         ],
         "xaxis": "x3",
         "y": [
          "AC",
          "AC"
         ],
         "yaxis": "y3"
        },
        {
         "alignmentgroup": "True",
         "base": [
          1,
          2,
          3,
          4,
          2,
          3,
          4,
          2,
          3,
          1
         ],
         "hovertemplate": "top_bias=age<br>user=Lima<br>start=%{base}<br>stop=%{x}<br>=%{y}<br>bias_value=%{text}<extra></extra>",
         "legendgroup": "age",
         "marker": {
          "color": "#636efa",
          "opacity": [
           0.7,
           0.86,
           0.96,
           0.78,
           0.57,
           0.6,
           0.61,
           0.72,
           0.64,
           0.43
          ],
          "pattern": {
           "shape": ""
          }
         },
         "name": "age",
         "offsetgroup": "age",
         "orientation": "h",
         "showlegend": false,
         "text": "",
         "textangle": 0,
         "textfont": {
          "size": 4
         },
         "textposition": "auto",
         "type": "bar",
         "x": [
          1,
          1,
          1,
          1,
          1,
          1,
          1,
          1,
          1,
          1
         ],
         "xaxis": "x4",
         "y": [
          "AD    ",
          "AD    ",
          "AD    ",
          "AD    ",
          "HMM",
          "HMM",
          "HMM",
          "AC",
          "AC",
          "ENS"
         ],
         "yaxis": "y4"
        },
        {
         "alignmentgroup": "True",
         "base": [
          2,
          3,
          4,
          6,
          7,
          8,
          9
         ],
         "hovertemplate": "top_bias=alcohol<br>user=Alfa<br>start=%{base}<br>stop=%{x}<br>=%{y}<br>bias_value=%{text}<extra></extra>",
         "legendgroup": "alcohol",
         "marker": {
          "color": "#EF553B",
          "opacity": [
           0.78,
           0.58,
           0.61,
           0.66,
           0.71,
           0.71,
           0.71
          ],
          "pattern": {
           "shape": ""
          }
         },
         "name": "alcohol",
         "offsetgroup": "alcohol",
         "orientation": "h",
         "showlegend": true,
         "text": "",
         "textangle": 0,
         "textfont": {
          "size": 4
         },
         "textposition": "auto",
         "type": "bar",
         "x": [
          1,
          1,
          1,
          1,
          1,
          1,
          1
         ],
         "xaxis": "x9",
         "y": [
          "AD    ",
          "HMM",
          "HMM",
          "HMM",
          "HMM",
          "HMM",
          "HMM"
         ],
         "yaxis": "y9"
        },
        {
         "alignmentgroup": "True",
         "base": [
          7,
          8,
          10
         ],
         "hovertemplate": "top_bias=alcohol<br>user=Charlie<br>start=%{base}<br>stop=%{x}<br>=%{y}<br>bias_value=%{text}<extra></extra>",
         "legendgroup": "alcohol",
         "marker": {
          "color": "#EF553B",
          "opacity": [
           0.65,
           0.67,
           0.67
          ],
          "pattern": {
           "shape": ""
          }
         },
         "name": "alcohol",
         "offsetgroup": "alcohol",
         "orientation": "h",
         "showlegend": false,
         "text": "",
         "textangle": 0,
         "textfont": {
          "size": 4
         },
         "textposition": "auto",
         "type": "bar",
         "x": [
          1,
          1,
          1
         ],
         "xaxis": "x11",
         "y": [
          "HMM",
          "HMM",
          "HMM"
         ],
         "yaxis": "y11"
        },
        {
         "alignmentgroup": "True",
         "base": [
          6,
          7,
          8,
          9
         ],
         "hovertemplate": "top_bias=alcohol<br>user=Delta<br>start=%{base}<br>stop=%{x}<br>=%{y}<br>bias_value=%{text}<extra></extra>",
         "legendgroup": "alcohol",
         "marker": {
          "color": "#EF553B",
          "opacity": [
           0.74,
           0.67,
           0.68,
           0.67
          ],
          "pattern": {
           "shape": ""
          }
         },
         "name": "alcohol",
         "offsetgroup": "alcohol",
         "orientation": "h",
         "showlegend": false,
         "text": "",
         "textangle": 0,
         "textfont": {
          "size": 4
         },
         "textposition": "auto",
         "type": "bar",
         "x": [
          1,
          1,
          1,
          1
         ],
         "xaxis": "x12",
         "y": [
          "AD    ",
          "HMM",
          "HMM",
          "HMM"
         ],
         "yaxis": "y12"
        },
        {
         "alignmentgroup": "True",
         "base": [
          7,
          8,
          1,
          8
         ],
         "hovertemplate": "top_bias=alcohol<br>user=Echo<br>start=%{base}<br>stop=%{x}<br>=%{y}<br>bias_value=%{text}<extra></extra>",
         "legendgroup": "alcohol",
         "marker": {
          "color": "#EF553B",
          "opacity": [
           0.86,
           0.92,
           0.56,
           0.69
          ],
          "pattern": {
           "shape": ""
          }
         },
         "name": "alcohol",
         "offsetgroup": "alcohol",
         "orientation": "h",
         "showlegend": false,
         "text": "",
         "textangle": 0,
         "textfont": {
          "size": 4
         },
         "textposition": "auto",
         "type": "bar",
         "x": [
          1,
          1,
          1,
          1
         ],
         "xaxis": "x5",
         "y": [
          "AD    ",
          "AD    ",
          "HMM",
          "HMM"
         ],
         "yaxis": "y5"
        },
        {
         "alignmentgroup": "True",
         "base": [
          7,
          7,
          8,
          9,
          9,
          10,
          1
         ],
         "hovertemplate": "top_bias=alcohol<br>user=Foxtrot<br>start=%{base}<br>stop=%{x}<br>=%{y}<br>bias_value=%{text}<extra></extra>",
         "legendgroup": "alcohol",
         "marker": {
          "color": "#EF553B",
          "opacity": [
           0.63,
           0.66,
           0.72,
           0.73,
           0.37,
           0.3,
           0.4
          ],
          "pattern": {
           "shape": ""
          }
         },
         "name": "alcohol",
         "offsetgroup": "alcohol",
         "orientation": "h",
         "showlegend": false,
         "text": "",
         "textangle": 0,
         "textfont": {
          "size": 4
         },
         "textposition": "auto",
         "type": "bar",
         "x": [
          1,
          1,
          1,
          1,
          1,
          1,
          1
         ],
         "xaxis": "x6",
         "y": [
          "AD    ",
          "HMM",
          "HMM",
          "HMM",
          "AC",
          "AC",
          "ENS"
         ],
         "yaxis": "y6"
        },
        {
         "alignmentgroup": "True",
         "base": [
          2,
          2
         ],
         "hovertemplate": "top_bias=alcohol<br>user=Hotel<br>start=%{base}<br>stop=%{x}<br>=%{y}<br>bias_value=%{text}<extra></extra>",
         "legendgroup": "alcohol",
         "marker": {
          "color": "#EF553B",
          "opacity": [
           0.82,
           0.46
          ],
          "pattern": {
           "shape": ""
          }
         },
         "name": "alcohol",
         "offsetgroup": "alcohol",
         "orientation": "h",
         "showlegend": false,
         "text": "",
         "textangle": 0,
         "textfont": {
          "size": 4
         },
         "textposition": "auto",
         "type": "bar",
         "x": [
          1,
          1
         ],
         "xaxis": "x8",
         "y": [
          "AD    ",
          "ENS"
         ],
         "yaxis": "y8"
        },
        {
         "alignmentgroup": "True",
         "base": [
          4,
          1,
          2,
          3,
          4,
          5,
          6,
          7,
          8,
          9,
          10,
          11,
          12,
          13
         ],
         "hovertemplate": "top_bias=alcohol<br>user=India<br>start=%{base}<br>stop=%{x}<br>=%{y}<br>bias_value=%{text}<extra></extra>",
         "legendgroup": "alcohol",
         "marker": {
          "color": "#EF553B",
          "opacity": [
           0.66,
           0.55,
           0.58,
           0.59,
           0.59,
           0.62,
           0.63,
           0.64,
           0.67,
           0.68,
           0.69,
           0.71,
           0.7,
           0.7
          ],
          "pattern": {
           "shape": ""
          }
         },
         "name": "alcohol",
         "offsetgroup": "alcohol",
         "orientation": "h",
         "showlegend": false,
         "text": "",
         "textangle": 0,
         "textfont": {
          "size": 4
         },
         "textposition": "auto",
         "type": "bar",
         "x": [
          1,
          1,
          1,
          1,
          1,
          1,
          1,
          1,
          1,
          1,
          1,
          1,
          1,
          1
         ],
         "xaxis": "x",
         "y": [
          "AD    ",
          "HMM",
          "HMM",
          "HMM",
          "HMM",
          "HMM",
          "HMM",
          "HMM",
          "HMM",
          "HMM",
          "HMM",
          "HMM",
          "HMM",
          "HMM"
         ],
         "yaxis": "y"
        },
        {
         "alignmentgroup": "True",
         "base": [
          5,
          7,
          8,
          9,
          10,
          1
         ],
         "hovertemplate": "top_bias=alcohol<br>user=Juliett<br>start=%{base}<br>stop=%{x}<br>=%{y}<br>bias_value=%{text}<extra></extra>",
         "legendgroup": "alcohol",
         "marker": {
          "color": "#EF553B",
          "opacity": [
           0.63,
           0.67,
           0.69,
           0.72,
           0.7,
           0.74
          ],
          "pattern": {
           "shape": ""
          }
         },
         "name": "alcohol",
         "offsetgroup": "alcohol",
         "orientation": "h",
         "showlegend": false,
         "text": "",
         "textangle": 0,
         "textfont": {
          "size": 4
         },
         "textposition": "auto",
         "type": "bar",
         "x": [
          1,
          1,
          1,
          1,
          1,
          1
         ],
         "xaxis": "x2",
         "y": [
          "HMM",
          "HMM",
          "HMM",
          "HMM",
          "HMM",
          "AC"
         ],
         "yaxis": "y2"
        },
        {
         "alignmentgroup": "True",
         "base": [
          3
         ],
         "hovertemplate": "top_bias=political_experience<br>user=Alfa<br>start=%{base}<br>stop=%{x}<br>=%{y}<br>bias_value=%{text}<extra></extra>",
         "legendgroup": "political_experience",
         "marker": {
          "color": "#00cc96",
          "opacity": [
           0.6
          ],
          "pattern": {
           "shape": ""
          }
         },
         "name": "political_experience",
         "offsetgroup": "political_experience",
         "orientation": "h",
         "showlegend": true,
         "text": "",
         "textangle": 0,
         "textfont": {
          "size": 4
         },
         "textposition": "auto",
         "type": "bar",
         "x": [
          1
         ],
         "xaxis": "x9",
         "y": [
          "AD    "
         ],
         "yaxis": "y9"
        },
        {
         "alignmentgroup": "True",
         "base": [
          4
         ],
         "hovertemplate": "top_bias=political_experience<br>user=Bravo<br>start=%{base}<br>stop=%{x}<br>=%{y}<br>bias_value=%{text}<extra></extra>",
         "legendgroup": "political_experience",
         "marker": {
          "color": "#00cc96",
          "opacity": [
           0.51
          ],
          "pattern": {
           "shape": ""
          }
         },
         "name": "political_experience",
         "offsetgroup": "political_experience",
         "orientation": "h",
         "showlegend": false,
         "text": "",
         "textangle": 0,
         "textfont": {
          "size": 4
         },
         "textposition": "auto",
         "type": "bar",
         "x": [
          1
         ],
         "xaxis": "x10",
         "y": [
          "AD    "
         ],
         "yaxis": "y10"
        },
        {
         "alignmentgroup": "True",
         "base": [
          4,
          6,
          7,
          4,
          6,
          3,
          4,
          6,
          7
         ],
         "hovertemplate": "top_bias=political_experience<br>user=Charlie<br>start=%{base}<br>stop=%{x}<br>=%{y}<br>bias_value=%{text}<extra></extra>",
         "legendgroup": "political_experience",
         "marker": {
          "color": "#00cc96",
          "opacity": [
           0.51,
           0.73,
           0.8,
           0.6,
           0.64,
           0.59,
           0.59,
           0.4,
           0.36
          ],
          "pattern": {
           "shape": ""
          }
         },
         "name": "political_experience",
         "offsetgroup": "political_experience",
         "orientation": "h",
         "showlegend": false,
         "text": "",
         "textangle": 0,
         "textfont": {
          "size": 4
         },
         "textposition": "auto",
         "type": "bar",
         "x": [
          1,
          1,
          1,
          1,
          1,
          1,
          1,
          1,
          1
         ],
         "xaxis": "x11",
         "y": [
          "AD    ",
          "AD    ",
          "AD    ",
          "HMM",
          "HMM",
          "AC",
          "AC",
          "AC",
          "AC"
         ],
         "yaxis": "y11"
        },
        {
         "alignmentgroup": "True",
         "base": [
          3,
          4,
          5,
          2,
          4,
          5
         ],
         "hovertemplate": "top_bias=political_experience<br>user=Delta<br>start=%{base}<br>stop=%{x}<br>=%{y}<br>bias_value=%{text}<extra></extra>",
         "legendgroup": "political_experience",
         "marker": {
          "color": "#00cc96",
          "opacity": [
           0.6,
           0.76,
           0.84,
           0.66,
           0.53,
           0.53
          ],
          "pattern": {
           "shape": ""
          }
         },
         "name": "political_experience",
         "offsetgroup": "political_experience",
         "orientation": "h",
         "showlegend": false,
         "text": "",
         "textangle": 0,
         "textfont": {
          "size": 4
         },
         "textposition": "auto",
         "type": "bar",
         "x": [
          1,
          1,
          1,
          1,
          1,
          1
         ],
         "xaxis": "x12",
         "y": [
          "AD    ",
          "AD    ",
          "AD    ",
          "AC",
          "AC",
          "AC"
         ],
         "yaxis": "y12"
        },
        {
         "alignmentgroup": "True",
         "base": [
          2,
          9
         ],
         "hovertemplate": "top_bias=political_experience<br>user=Echo<br>start=%{base}<br>stop=%{x}<br>=%{y}<br>bias_value=%{text}<extra></extra>",
         "legendgroup": "political_experience",
         "marker": {
          "color": "#00cc96",
          "opacity": [
           0.76,
           0.95
          ],
          "pattern": {
           "shape": ""
          }
         },
         "name": "political_experience",
         "offsetgroup": "political_experience",
         "orientation": "h",
         "showlegend": false,
         "text": "",
         "textangle": 0,
         "textfont": {
          "size": 4
         },
         "textposition": "auto",
         "type": "bar",
         "x": [
          1,
          1
         ],
         "xaxis": "x5",
         "y": [
          "AD    ",
          "AD    "
         ],
         "yaxis": "y5"
        },
        {
         "alignmentgroup": "True",
         "base": [
          2,
          4,
          5,
          3,
          4,
          5
         ],
         "hovertemplate": "top_bias=political_experience<br>user=Foxtrot<br>start=%{base}<br>stop=%{x}<br>=%{y}<br>bias_value=%{text}<extra></extra>",
         "legendgroup": "political_experience",
         "marker": {
          "color": "#00cc96",
          "opacity": [
           0.54,
           0.84,
           0.9,
           0.63,
           0.56,
           0.57
          ],
          "pattern": {
           "shape": ""
          }
         },
         "name": "political_experience",
         "offsetgroup": "political_experience",
         "orientation": "h",
         "showlegend": false,
         "text": "",
         "textangle": 0,
         "textfont": {
          "size": 4
         },
         "textposition": "auto",
         "type": "bar",
         "x": [
          1,
          1,
          1,
          1,
          1,
          1
         ],
         "xaxis": "x6",
         "y": [
          "AD    ",
          "AD    ",
          "AD    ",
          "AC",
          "AC",
          "AC"
         ],
         "yaxis": "y6"
        },
        {
         "alignmentgroup": "True",
         "base": [
          2,
          2,
          2
         ],
         "hovertemplate": "top_bias=political_experience<br>user=Golf<br>start=%{base}<br>stop=%{x}<br>=%{y}<br>bias_value=%{text}<extra></extra>",
         "legendgroup": "political_experience",
         "marker": {
          "color": "#00cc96",
          "opacity": [
           0.54,
           0.61,
           0.42
          ],
          "pattern": {
           "shape": ""
          }
         },
         "name": "political_experience",
         "offsetgroup": "political_experience",
         "orientation": "h",
         "showlegend": false,
         "text": "",
         "textangle": 0,
         "textfont": {
          "size": 4
         },
         "textposition": "auto",
         "type": "bar",
         "x": [
          1,
          1,
          1
         ],
         "xaxis": "x7",
         "y": [
          "AD    ",
          "CM",
          "ENS"
         ],
         "yaxis": "y7"
        },
        {
         "alignmentgroup": "True",
         "base": [
          5,
          2,
          6,
          2,
          3
         ],
         "hovertemplate": "top_bias=political_experience<br>user=Hotel<br>start=%{base}<br>stop=%{x}<br>=%{y}<br>bias_value=%{text}<extra></extra>",
         "legendgroup": "political_experience",
         "marker": {
          "color": "#00cc96",
          "opacity": [
           0.64,
           0.66,
           0.37,
           0.63,
           0.61
          ],
          "pattern": {
           "shape": ""
          }
         },
         "name": "political_experience",
         "offsetgroup": "political_experience",
         "orientation": "h",
         "showlegend": false,
         "text": "",
         "textangle": 0,
         "textfont": {
          "size": 4
         },
         "textposition": "auto",
         "type": "bar",
         "x": [
          1,
          1,
          1,
          1,
          1
         ],
         "xaxis": "x8",
         "y": [
          "AD    ",
          "AC",
          "AC",
          "CM",
          "CM"
         ],
         "yaxis": "y8"
        },
        {
         "alignmentgroup": "True",
         "base": [
          2,
          3,
          7,
          8,
          9,
          10,
          11,
          12,
          13,
          2,
          2
         ],
         "hovertemplate": "top_bias=political_experience<br>user=India<br>start=%{base}<br>stop=%{x}<br>=%{y}<br>bias_value=%{text}<extra></extra>",
         "legendgroup": "political_experience",
         "marker": {
          "color": "#00cc96",
          "opacity": [
           0.91,
           0.56,
           0.74,
           0.56,
           0.8,
           0.67,
           0.53,
           0.76,
           0.66,
           0.74,
           0.42
          ],
          "pattern": {
           "shape": ""
          }
         },
         "name": "political_experience",
         "offsetgroup": "political_experience",
         "orientation": "h",
         "showlegend": false,
         "text": "",
         "textangle": 0,
         "textfont": {
          "size": 4
         },
         "textposition": "auto",
         "type": "bar",
         "x": [
          1,
          1,
          1,
          1,
          1,
          1,
          1,
          1,
          1,
          1,
          1
         ],
         "xaxis": "x",
         "y": [
          "AD    ",
          "AD    ",
          "AD    ",
          "AD    ",
          "AD    ",
          "AD    ",
          "AD    ",
          "AD    ",
          "AD    ",
          "AC",
          "ENS"
         ],
         "yaxis": "y"
        },
        {
         "alignmentgroup": "True",
         "base": [
          7,
          8,
          9
         ],
         "hovertemplate": "top_bias=political_experience<br>user=Juliett<br>start=%{base}<br>stop=%{x}<br>=%{y}<br>bias_value=%{text}<extra></extra>",
         "legendgroup": "political_experience",
         "marker": {
          "color": "#00cc96",
          "opacity": [
           0.45,
           0.45,
           0.46
          ],
          "pattern": {
           "shape": ""
          }
         },
         "name": "political_experience",
         "offsetgroup": "political_experience",
         "orientation": "h",
         "showlegend": false,
         "text": "",
         "textangle": 0,
         "textfont": {
          "size": 4
         },
         "textposition": "auto",
         "type": "bar",
         "x": [
          1,
          1,
          1
         ],
         "xaxis": "x2",
         "y": [
          "AC",
          "AC",
          "AC"
         ],
         "yaxis": "y2"
        },
        {
         "alignmentgroup": "True",
         "base": [
          1,
          2,
          3,
          4,
          5,
          6,
          7,
          8,
          9,
          10,
          4,
          8,
          9,
          10,
          1
         ],
         "hovertemplate": "top_bias=political_experience<br>user=Kilo<br>start=%{base}<br>stop=%{x}<br>=%{y}<br>bias_value=%{text}<extra></extra>",
         "legendgroup": "political_experience",
         "marker": {
          "color": "#00cc96",
          "opacity": [
           0.61,
           0.54,
           0.7,
           0.84,
           0.64,
           0.73,
           0.8,
           0.87,
           0.92,
           0.91,
           0.59,
           0.44,
           0.44,
           0.4,
           0.41
          ],
          "pattern": {
           "shape": ""
          }
         },
         "name": "political_experience",
         "offsetgroup": "political_experience",
         "orientation": "h",
         "showlegend": false,
         "text": "",
         "textangle": 0,
         "textfont": {
          "size": 4
         },
         "textposition": "auto",
         "type": "bar",
         "x": [
          1,
          1,
          1,
          1,
          1,
          1,
          1,
          1,
          1,
          1,
          1,
          1,
          1,
          1,
          1
         ],
         "xaxis": "x3",
         "y": [
          "AD    ",
          "AD    ",
          "AD    ",
          "AD    ",
          "AD    ",
          "AD    ",
          "AD    ",
          "AD    ",
          "AD    ",
          "AD    ",
          "AC",
          "AC",
          "AC",
          "AC",
          "ENS"
         ],
         "yaxis": "y3"
        },
        {
         "alignmentgroup": "True",
         "base": [
          4,
          5,
          7,
          8,
          10,
          4,
          5,
          4,
          5,
          10
         ],
         "hovertemplate": "top_bias=gender<br>user=Alfa<br>start=%{base}<br>stop=%{x}<br>=%{y}<br>bias_value=%{text}<extra></extra>",
         "legendgroup": "gender",
         "marker": {
          "color": "#ab63fa",
          "opacity": [
           0.69,
           0.68,
           0.54,
           0.53,
           0.44,
           0.42,
           0.42,
           0.52,
           0.52,
           0.52
          ],
          "pattern": {
           "shape": ""
          }
         },
         "name": "gender",
         "offsetgroup": "gender",
         "orientation": "h",
         "showlegend": true,
         "text": "",
         "textangle": 0,
         "textfont": {
          "size": 4
         },
         "textposition": "auto",
         "type": "bar",
         "x": [
          1,
          1,
          1,
          1,
          1,
          1,
          1,
          1,
          1,
          1
         ],
         "xaxis": "x9",
         "y": [
          "AD    ",
          "AD    ",
          "AD    ",
          "AD    ",
          "AD    ",
          "AC",
          "AC",
          "ENS",
          "ENS",
          "ENS"
         ],
         "yaxis": "y9"
        },
        {
         "alignmentgroup": "True",
         "base": [
          1,
          6,
          8,
          10,
          11,
          12,
          13,
          14
         ],
         "hovertemplate": "top_bias=gender<br>user=Bravo<br>start=%{base}<br>stop=%{x}<br>=%{y}<br>bias_value=%{text}<extra></extra>",
         "legendgroup": "gender",
         "marker": {
          "color": "#ab63fa",
          "opacity": [
           0.57,
           0.63,
           0.67,
           0.66,
           0.66,
           0.69,
           0.7,
           0.72
          ],
          "pattern": {
           "shape": ""
          }
         },
         "name": "gender",
         "offsetgroup": "gender",
         "orientation": "h",
         "showlegend": false,
         "text": "",
         "textangle": 0,
         "textfont": {
          "size": 4
         },
         "textposition": "auto",
         "type": "bar",
         "x": [
          1,
          1,
          1,
          1,
          1,
          1,
          1,
          1
         ],
         "xaxis": "x10",
         "y": [
          "HMM",
          "HMM",
          "HMM",
          "HMM",
          "HMM",
          "HMM",
          "HMM",
          "HMM"
         ],
         "yaxis": "y10"
        },
        {
         "alignmentgroup": "True",
         "base": [
          2,
          8
         ],
         "hovertemplate": "top_bias=gender<br>user=Charlie<br>start=%{base}<br>stop=%{x}<br>=%{y}<br>bias_value=%{text}<extra></extra>",
         "legendgroup": "gender",
         "marker": {
          "color": "#ab63fa",
          "opacity": [
           0.64,
           0.44
          ],
          "pattern": {
           "shape": ""
          }
         },
         "name": "gender",
         "offsetgroup": "gender",
         "orientation": "h",
         "showlegend": false,
         "text": "",
         "textangle": 0,
         "textfont": {
          "size": 4
         },
         "textposition": "auto",
         "type": "bar",
         "x": [
          1,
          1
         ],
         "xaxis": "x11",
         "y": [
          "CM",
          "ENS"
         ],
         "yaxis": "y11"
        },
        {
         "alignmentgroup": "True",
         "base": [
          2,
          1,
          2,
          3,
          4,
          5,
          6
         ],
         "hovertemplate": "top_bias=gender<br>user=Delta<br>start=%{base}<br>stop=%{x}<br>=%{y}<br>bias_value=%{text}<extra></extra>",
         "legendgroup": "gender",
         "marker": {
          "color": "#ab63fa",
          "opacity": [
           0.39,
           0.54,
           0.58,
           0.6,
           0.62,
           0.64,
           0.64
          ],
          "pattern": {
           "shape": ""
          }
         },
         "name": "gender",
         "offsetgroup": "gender",
         "orientation": "h",
         "showlegend": false,
         "text": "",
         "textangle": 0,
         "textfont": {
          "size": 4
         },
         "textposition": "auto",
         "type": "bar",
         "x": [
          1,
          1,
          1,
          1,
          1,
          1,
          1
         ],
         "xaxis": "x12",
         "y": [
          "AD    ",
          "HMM",
          "HMM",
          "HMM",
          "HMM",
          "HMM",
          "HMM"
         ],
         "yaxis": "y12"
        },
        {
         "alignmentgroup": "True",
         "base": [
          6,
          8,
          9,
          10,
          10,
          3,
          5,
          6,
          7,
          8,
          9,
          10,
          11
         ],
         "hovertemplate": "top_bias=gender<br>user=Foxtrot<br>start=%{base}<br>stop=%{x}<br>=%{y}<br>bias_value=%{text}<extra></extra>",
         "legendgroup": "gender",
         "marker": {
          "color": "#ab63fa",
          "opacity": [
           0.85,
           0.76,
           0.93,
           0.68,
           1,
           0.47,
           0.5,
           0.61,
           0.52,
           0.6,
           0.66,
           0.6,
           0.59
          ],
          "pattern": {
           "shape": ""
          }
         },
         "name": "gender",
         "offsetgroup": "gender",
         "orientation": "h",
         "showlegend": false,
         "text": "",
         "textangle": 0,
         "textfont": {
          "size": 4
         },
         "textposition": "auto",
         "type": "bar",
         "x": [
          1,
          1,
          1,
          1,
          1,
          1,
          1,
          1,
          1,
          1,
          1,
          1,
          1
         ],
         "xaxis": "x6",
         "y": [
          "AD    ",
          "AD    ",
          "AD    ",
          "AD    ",
          "CM",
          "ENS",
          "ENS",
          "ENS",
          "ENS",
          "ENS",
          "ENS",
          "ENS",
          "ENS"
         ],
         "yaxis": "y6"
        },
        {
         "alignmentgroup": "True",
         "base": [
          5,
          8,
          9
         ],
         "hovertemplate": "top_bias=gender<br>user=Golf<br>start=%{base}<br>stop=%{x}<br>=%{y}<br>bias_value=%{text}<extra></extra>",
         "legendgroup": "gender",
         "marker": {
          "color": "#ab63fa",
          "opacity": [
           0.6,
           0.69,
           0.7
          ],
          "pattern": {
           "shape": ""
          }
         },
         "name": "gender",
         "offsetgroup": "gender",
         "orientation": "h",
         "showlegend": false,
         "text": "",
         "textangle": 0,
         "textfont": {
          "size": 4
         },
         "textposition": "auto",
         "type": "bar",
         "x": [
          1,
          1,
          1
         ],
         "xaxis": "x7",
         "y": [
          "HMM",
          "HMM",
          "HMM"
         ],
         "yaxis": "y7"
        },
        {
         "alignmentgroup": "True",
         "base": [
          9,
          10,
          10,
          11,
          4,
          7,
          8,
          9,
          10,
          11
         ],
         "hovertemplate": "top_bias=gender<br>user=Hotel<br>start=%{base}<br>stop=%{x}<br>=%{y}<br>bias_value=%{text}<extra></extra>",
         "legendgroup": "gender",
         "marker": {
          "color": "#ab63fa",
          "opacity": [
           0.52,
           0.76,
           0.66,
           0.66,
           0.5,
           0.51,
           0.51,
           0.52,
           0.58,
           0.58
          ],
          "pattern": {
           "shape": ""
          }
         },
         "name": "gender",
         "offsetgroup": "gender",
         "orientation": "h",
         "showlegend": false,
         "text": "",
         "textangle": 0,
         "textfont": {
          "size": 4
         },
         "textposition": "auto",
         "type": "bar",
         "x": [
          1,
          1,
          1,
          1,
          1,
          1,
          1,
          1,
          1,
          1
         ],
         "xaxis": "x8",
         "y": [
          "AD    ",
          "AD    ",
          "HMM",
          "HMM",
          "ENS",
          "ENS",
          "ENS",
          "ENS",
          "ENS",
          "ENS"
         ],
         "yaxis": "y8"
        },
        {
         "alignmentgroup": "True",
         "base": [
          2
         ],
         "hovertemplate": "top_bias=gender<br>user=India<br>start=%{base}<br>stop=%{x}<br>=%{y}<br>bias_value=%{text}<extra></extra>",
         "legendgroup": "gender",
         "marker": {
          "color": "#ab63fa",
          "opacity": [
           0.68
          ],
          "pattern": {
           "shape": ""
          }
         },
         "name": "gender",
         "offsetgroup": "gender",
         "orientation": "h",
         "showlegend": false,
         "text": "",
         "textangle": 0,
         "textfont": {
          "size": 4
         },
         "textposition": "auto",
         "type": "bar",
         "x": [
          1
         ],
         "xaxis": "x",
         "y": [
          "CM"
         ],
         "yaxis": "y"
        },
        {
         "alignmentgroup": "True",
         "base": [
          3,
          3
         ],
         "hovertemplate": "top_bias=gender<br>user=Juliett<br>start=%{base}<br>stop=%{x}<br>=%{y}<br>bias_value=%{text}<extra></extra>",
         "legendgroup": "gender",
         "marker": {
          "color": "#ab63fa",
          "opacity": [
           0.69,
           0.51
          ],
          "pattern": {
           "shape": ""
          }
         },
         "name": "gender",
         "offsetgroup": "gender",
         "orientation": "h",
         "showlegend": false,
         "text": "",
         "textangle": 0,
         "textfont": {
          "size": 4
         },
         "textposition": "auto",
         "type": "bar",
         "x": [
          1,
          1
         ],
         "xaxis": "x2",
         "y": [
          "AD    ",
          "ENS"
         ],
         "yaxis": "y2"
        },
        {
         "alignmentgroup": "True",
         "base": [
          10
         ],
         "hovertemplate": "top_bias=gender<br>user=Kilo<br>start=%{base}<br>stop=%{x}<br>=%{y}<br>bias_value=%{text}<extra></extra>",
         "legendgroup": "gender",
         "marker": {
          "color": "#ab63fa",
          "opacity": [
           0.48
          ],
          "pattern": {
           "shape": ""
          }
         },
         "name": "gender",
         "offsetgroup": "gender",
         "orientation": "h",
         "showlegend": false,
         "text": "",
         "textangle": 0,
         "textfont": {
          "size": 4
         },
         "textposition": "auto",
         "type": "bar",
         "x": [
          1
         ],
         "xaxis": "x3",
         "y": [
          "ENS"
         ],
         "yaxis": "y3"
        },
        {
         "alignmentgroup": "True",
         "base": [
          12,
          2,
          3,
          2,
          3
         ],
         "hovertemplate": "top_bias=gender<br>user=Lima<br>start=%{base}<br>stop=%{x}<br>=%{y}<br>bias_value=%{text}<extra></extra>",
         "legendgroup": "gender",
         "marker": {
          "color": "#ab63fa",
          "opacity": [
           0.7,
           0.67,
           0.92,
           0.5,
           0.54
          ],
          "pattern": {
           "shape": ""
          }
         },
         "name": "gender",
         "offsetgroup": "gender",
         "orientation": "h",
         "showlegend": false,
         "text": "",
         "textangle": 0,
         "textfont": {
          "size": 4
         },
         "textposition": "auto",
         "type": "bar",
         "x": [
          1,
          1,
          1,
          1,
          1
         ],
         "xaxis": "x4",
         "y": [
          "HMM",
          "CM",
          "CM",
          "ENS",
          "ENS"
         ],
         "yaxis": "y4"
        },
        {
         "alignmentgroup": "True",
         "base": [
          9,
          6,
          7,
          8,
          9,
          10,
          5,
          6,
          7,
          8,
          10,
          6,
          9
         ],
         "hovertemplate": "top_bias=occupation<br>user=Alfa<br>start=%{base}<br>stop=%{x}<br>=%{y}<br>bias_value=%{text}<extra></extra>",
         "legendgroup": "occupation",
         "marker": {
          "color": "#FFA15A",
          "opacity": [
           0.53,
           0.35,
           0.36,
           0.38,
           0.35,
           0.35,
           0.93,
           0.98,
           0.99,
           1,
           1,
           0.45,
           0.54
          ],
          "pattern": {
           "shape": ""
          }
         },
         "name": "occupation",
         "offsetgroup": "occupation",
         "orientation": "h",
         "showlegend": true,
         "text": "",
         "textangle": 0,
         "textfont": {
          "size": 4
         },
         "textposition": "auto",
         "type": "bar",
         "x": [
          1,
          1,
          1,
          1,
          1,
          1,
          1,
          1,
          1,
          1,
          1,
          1,
          1
         ],
         "xaxis": "x9",
         "y": [
          "AD    ",
          "AC",
          "AC",
          "AC",
          "AC",
          "AC",
          "CM",
          "CM",
          "CM",
          "CM",
          "CM",
          "ENS",
          "ENS"
         ],
         "yaxis": "y9"
        },
        {
         "alignmentgroup": "True",
         "base": [
          2,
          3,
          5,
          6,
          1,
          2,
          3,
          4,
          5,
          2,
          3,
          4,
          5,
          6,
          7,
          8,
          9,
          10,
          11,
          14,
          2,
          3,
          4,
          5,
          6,
          7,
          14
         ],
         "hovertemplate": "top_bias=occupation<br>user=Bravo<br>start=%{base}<br>stop=%{x}<br>=%{y}<br>bias_value=%{text}<extra></extra>",
         "legendgroup": "occupation",
         "marker": {
          "color": "#FFA15A",
          "opacity": [
           0.32,
           0.58,
           0.32,
           0.17,
           0.85,
           0.68,
           0.66,
           0.47,
           0.44,
           0.72,
           0.93,
           0.98,
           1,
           1,
           1,
           1,
           1,
           1,
           1,
           1,
           0.39,
           0.52,
           0.49,
           0.47,
           0.44,
           0.43,
           0.48
          ],
          "pattern": {
           "shape": ""
          }
         },
         "name": "occupation",
         "offsetgroup": "occupation",
         "orientation": "h",
         "showlegend": false,
         "text": "",
         "textangle": 0,
         "textfont": {
          "size": 4
         },
         "textposition": "auto",
         "type": "bar",
         "x": [
          1,
          1,
          1,
          1,
          1,
          1,
          1,
          1,
          1,
          1,
          1,
          1,
          1,
          1,
          1,
          1,
          1,
          1,
          1,
          1,
          1,
          1,
          1,
          1,
          1,
          1,
          1
         ],
         "xaxis": "x10",
         "y": [
          "AD    ",
          "AD    ",
          "AD    ",
          "AD    ",
          "AC",
          "AC",
          "AC",
          "AC",
          "AC",
          "CM",
          "CM",
          "CM",
          "CM",
          "CM",
          "CM",
          "CM",
          "CM",
          "CM",
          "CM",
          "CM",
          "ENS",
          "ENS",
          "ENS",
          "ENS",
          "ENS",
          "ENS",
          "ENS"
         ],
         "yaxis": "y10"
        },
        {
         "alignmentgroup": "True",
         "base": [
          2,
          3,
          1,
          2,
          5,
          3,
          4,
          5,
          6,
          7,
          10,
          2,
          3,
          4,
          5,
          6
         ],
         "hovertemplate": "top_bias=occupation<br>user=Charlie<br>start=%{base}<br>stop=%{x}<br>=%{y}<br>bias_value=%{text}<extra></extra>",
         "legendgroup": "occupation",
         "marker": {
          "color": "#FFA15A",
          "opacity": [
           0.58,
           0.58,
           0.74,
           0.74,
           0.53,
           0.83,
           0.98,
           1,
           1,
           1,
           1,
           0.41,
           0.49,
           0.51,
           0.48,
           0.46
          ],
          "pattern": {
           "shape": ""
          }
         },
         "name": "occupation",
         "offsetgroup": "occupation",
         "orientation": "h",
         "showlegend": false,
         "text": "",
         "textangle": 0,
         "textfont": {
          "size": 4
         },
         "textposition": "auto",
         "type": "bar",
         "x": [
          1,
          1,
          1,
          1,
          1,
          1,
          1,
          1,
          1,
          1,
          1,
          1,
          1,
          1,
          1,
          1
         ],
         "xaxis": "x11",
         "y": [
          "AD    ",
          "AD    ",
          "AC",
          "AC",
          "AC",
          "CM",
          "CM",
          "CM",
          "CM",
          "CM",
          "CM",
          "ENS",
          "ENS",
          "ENS",
          "ENS",
          "ENS"
         ],
         "yaxis": "y11"
        },
        {
         "alignmentgroup": "True",
         "base": [
          1,
          2,
          3,
          4,
          5,
          6,
          7,
          8,
          1,
          2,
          3,
          5,
          9
         ],
         "hovertemplate": "top_bias=occupation<br>user=Delta<br>start=%{base}<br>stop=%{x}<br>=%{y}<br>bias_value=%{text}<extra></extra>",
         "legendgroup": "occupation",
         "marker": {
          "color": "#FFA15A",
          "opacity": [
           0.84,
           0.73,
           0.89,
           0.99,
           1,
           1,
           1,
           1,
           0.37,
           0.4,
           0.43,
           0.44,
           0.61
          ],
          "pattern": {
           "shape": ""
          }
         },
         "name": "occupation",
         "offsetgroup": "occupation",
         "orientation": "h",
         "showlegend": false,
         "text": "",
         "textangle": 0,
         "textfont": {
          "size": 4
         },
         "textposition": "auto",
         "type": "bar",
         "x": [
          1,
          1,
          1,
          1,
          1,
          1,
          1,
          1,
          1,
          1,
          1,
          1,
          1
         ],
         "xaxis": "x12",
         "y": [
          "AC",
          "CM",
          "CM",
          "CM",
          "CM",
          "CM",
          "CM",
          "CM",
          "ENS",
          "ENS",
          "ENS",
          "ENS",
          "ENS"
         ],
         "yaxis": "y12"
        },
        {
         "alignmentgroup": "True",
         "base": [
          1,
          7,
          8,
          9,
          3,
          4,
          5,
          7,
          8,
          9,
          1,
          3
         ],
         "hovertemplate": "top_bias=occupation<br>user=Echo<br>start=%{base}<br>stop=%{x}<br>=%{y}<br>bias_value=%{text}<extra></extra>",
         "legendgroup": "occupation",
         "marker": {
          "color": "#FFA15A",
          "opacity": [
           0.46,
           0.35,
           0.36,
           0.38,
           0.7,
           0.86,
           0.97,
           0.99,
           1,
           1,
           0.37,
           0.38
          ],
          "pattern": {
           "shape": ""
          }
         },
         "name": "occupation",
         "offsetgroup": "occupation",
         "orientation": "h",
         "showlegend": false,
         "text": "",
         "textangle": 0,
         "textfont": {
          "size": 4
         },
         "textposition": "auto",
         "type": "bar",
         "x": [
          1,
          1,
          1,
          1,
          1,
          1,
          1,
          1,
          1,
          1,
          1,
          1
         ],
         "xaxis": "x5",
         "y": [
          "AD    ",
          "AC",
          "AC",
          "AC",
          "CM",
          "CM",
          "CM",
          "CM",
          "CM",
          "CM",
          "ENS",
          "ENS"
         ],
         "yaxis": "y5"
        },
        {
         "alignmentgroup": "True",
         "base": [
          1,
          6,
          7,
          2,
          3,
          4,
          5,
          6,
          7,
          8,
          9,
          11,
          2,
          4
         ],
         "hovertemplate": "top_bias=occupation<br>user=Foxtrot<br>start=%{base}<br>stop=%{x}<br>=%{y}<br>bias_value=%{text}<extra></extra>",
         "legendgroup": "occupation",
         "marker": {
          "color": "#FFA15A",
          "opacity": [
           0.85,
           0.45,
           0.45,
           0.79,
           0.9,
           0.98,
           0.99,
           1,
           1,
           1,
           1,
           1,
           0.4,
           0.44
          ],
          "pattern": {
           "shape": ""
          }
         },
         "name": "occupation",
         "offsetgroup": "occupation",
         "orientation": "h",
         "showlegend": false,
         "text": "",
         "textangle": 0,
         "textfont": {
          "size": 4
         },
         "textposition": "auto",
         "type": "bar",
         "x": [
          1,
          1,
          1,
          1,
          1,
          1,
          1,
          1,
          1,
          1,
          1,
          1,
          1,
          1
         ],
         "xaxis": "x6",
         "y": [
          "AC",
          "AC",
          "AC",
          "CM",
          "CM",
          "CM",
          "CM",
          "CM",
          "CM",
          "CM",
          "CM",
          "CM",
          "ENS",
          "ENS"
         ],
         "yaxis": "y6"
        },
        {
         "alignmentgroup": "True",
         "base": [
          3,
          4,
          8,
          9,
          4,
          3,
          4,
          5,
          6,
          7,
          8,
          9,
          4,
          5,
          6,
          7,
          8,
          9,
          3,
          4,
          5,
          6,
          7,
          8,
          9
         ],
         "hovertemplate": "top_bias=occupation<br>user=Golf<br>start=%{base}<br>stop=%{x}<br>=%{y}<br>bias_value=%{text}<extra></extra>",
         "legendgroup": "occupation",
         "marker": {
          "color": "#FFA15A",
          "opacity": [
           0.52,
           0.8,
           0.58,
           0.53,
           0.59,
           0.51,
           0.53,
           0.5,
           0.49,
           0.43,
           0.44,
           0.44,
           0.81,
           0.97,
           0.98,
           0.99,
           1,
           1,
           0.38,
           0.55,
           0.53,
           0.53,
           0.51,
           0.55,
           0.55
          ],
          "pattern": {
           "shape": ""
          }
         },
         "name": "occupation",
         "offsetgroup": "occupation",
         "orientation": "h",
         "showlegend": false,
         "text": "",
         "textangle": 0,
         "textfont": {
          "size": 4
         },
         "textposition": "auto",
         "type": "bar",
         "x": [
          1,
          1,
          1,
          1,
          1,
          1,
          1,
          1,
          1,
          1,
          1,
          1,
          1,
          1,
          1,
          1,
          1,
          1,
          1,
          1,
          1,
          1,
          1,
          1,
          1
         ],
         "xaxis": "x7",
         "y": [
          "AD    ",
          "AD    ",
          "AD    ",
          "AD    ",
          "HMM",
          "AC",
          "AC",
          "AC",
          "AC",
          "AC",
          "AC",
          "AC",
          "CM",
          "CM",
          "CM",
          "CM",
          "CM",
          "CM",
          "ENS",
          "ENS",
          "ENS",
          "ENS",
          "ENS",
          "ENS",
          "ENS"
         ],
         "yaxis": "y7"
        },
        {
         "alignmentgroup": "True",
         "base": [
          1,
          3,
          5,
          7,
          8,
          9,
          4,
          5,
          6,
          7,
          8,
          9,
          10,
          11,
          1,
          3,
          5,
          6
         ],
         "hovertemplate": "top_bias=occupation<br>user=Hotel<br>start=%{base}<br>stop=%{x}<br>=%{y}<br>bias_value=%{text}<extra></extra>",
         "legendgroup": "occupation",
         "marker": {
          "color": "#FFA15A",
          "opacity": [
           0.72,
           0.58,
           0.39,
           0.35,
           0.33,
           0.34,
           0.97,
           0.97,
           0.99,
           1,
           1,
           1,
           1,
           1,
           0.37,
           0.4,
           0.49,
           0.5
          ],
          "pattern": {
           "shape": ""
          }
         },
         "name": "occupation",
         "offsetgroup": "occupation",
         "orientation": "h",
         "showlegend": false,
         "text": "",
         "textangle": 0,
         "textfont": {
          "size": 4
         },
         "textposition": "auto",
         "type": "bar",
         "x": [
          1,
          1,
          1,
          1,
          1,
          1,
          1,
          1,
          1,
          1,
          1,
          1,
          1,
          1,
          1,
          1,
          1,
          1
         ],
         "xaxis": "x8",
         "y": [
          "AC",
          "AC",
          "AC",
          "AC",
          "AC",
          "AC",
          "CM",
          "CM",
          "CM",
          "CM",
          "CM",
          "CM",
          "CM",
          "CM",
          "ENS",
          "ENS",
          "ENS",
          "ENS"
         ],
         "yaxis": "y8"
        },
        {
         "alignmentgroup": "True",
         "base": [
          5,
          6,
          14,
          15,
          14,
          15,
          6,
          7,
          8,
          9,
          10,
          11,
          12,
          13,
          14,
          15,
          3,
          4,
          5,
          6,
          7,
          8,
          9,
          10,
          11,
          12,
          13,
          14,
          15,
          3,
          4,
          5,
          6,
          7,
          8,
          9,
          10,
          11,
          12,
          13,
          14,
          15
         ],
         "hovertemplate": "top_bias=occupation<br>user=India<br>start=%{base}<br>stop=%{x}<br>=%{y}<br>bias_value=%{text}<extra></extra>",
         "legendgroup": "occupation",
         "marker": {
          "color": "#FFA15A",
          "opacity": [
           0.32,
           0.5,
           0.68,
           0.63,
           0.69,
           0.71,
           0.49,
           0.49,
           0.43,
           0.41,
           0.4,
           0.4,
           0.4,
           0.4,
           0.4,
           0.4,
           0.93,
           0.97,
           0.99,
           1,
           1,
           1,
           1,
           1,
           1,
           1,
           1,
           1,
           1,
           0.46,
           0.44,
           0.49,
           0.54,
           0.57,
           0.53,
           0.55,
           0.53,
           0.54,
           0.54,
           0.56,
           0.59,
           0.59
          ],
          "pattern": {
           "shape": ""
          }
         },
         "name": "occupation",
         "offsetgroup": "occupation",
         "orientation": "h",
         "showlegend": false,
         "text": "",
         "textangle": 0,
         "textfont": {
          "size": 4
         },
         "textposition": "auto",
         "type": "bar",
         "x": [
          1,
          1,
          1,
          1,
          1,
          1,
          1,
          1,
          1,
          1,
          1,
          1,
          1,
          1,
          1,
          1,
          1,
          1,
          1,
          1,
          1,
          1,
          1,
          1,
          1,
          1,
          1,
          1,
          1,
          1,
          1,
          1,
          1,
          1,
          1,
          1,
          1,
          1,
          1,
          1,
          1,
          1
         ],
         "xaxis": "x",
         "y": [
          "AD    ",
          "AD    ",
          "AD    ",
          "AD    ",
          "HMM",
          "HMM",
          "AC",
          "AC",
          "AC",
          "AC",
          "AC",
          "AC",
          "AC",
          "AC",
          "AC",
          "AC",
          "CM",
          "CM",
          "CM",
          "CM",
          "CM",
          "CM",
          "CM",
          "CM",
          "CM",
          "CM",
          "CM",
          "CM",
          "CM",
          "ENS",
          "ENS",
          "ENS",
          "ENS",
          "ENS",
          "ENS",
          "ENS",
          "ENS",
          "ENS",
          "ENS",
          "ENS",
          "ENS",
          "ENS"
         ],
         "yaxis": "y"
        },
        {
         "alignmentgroup": "True",
         "base": [
          1,
          2,
          3,
          6,
          3,
          4,
          5,
          6,
          10,
          4,
          5,
          6,
          10,
          4,
          6,
          8,
          10
         ],
         "hovertemplate": "top_bias=occupation<br>user=Juliett<br>start=%{base}<br>stop=%{x}<br>=%{y}<br>bias_value=%{text}<extra></extra>",
         "legendgroup": "occupation",
         "marker": {
          "color": "#FFA15A",
          "opacity": [
           0.54,
           0.55,
           0.59,
           0.65,
           0.58,
           0.58,
           0.58,
           0.58,
           0.38,
           0.96,
           0.99,
           1,
           1,
           0.56,
           0.6,
           0.62,
           0.54
          ],
          "pattern": {
           "shape": ""
          }
         },
         "name": "occupation",
         "offsetgroup": "occupation",
         "orientation": "h",
         "showlegend": false,
         "text": "",
         "textangle": 0,
         "textfont": {
          "size": 4
         },
         "textposition": "auto",
         "type": "bar",
         "x": [
          1,
          1,
          1,
          1,
          1,
          1,
          1,
          1,
          1,
          1,
          1,
          1,
          1,
          1,
          1,
          1,
          1
         ],
         "xaxis": "x2",
         "y": [
          "HMM",
          "HMM",
          "HMM",
          "HMM",
          "AC",
          "AC",
          "AC",
          "AC",
          "AC",
          "CM",
          "CM",
          "CM",
          "CM",
          "ENS",
          "ENS",
          "ENS",
          "ENS"
         ],
         "yaxis": "y2"
        },
        {
         "alignmentgroup": "True",
         "base": [
          1,
          2,
          3,
          5,
          2,
          3,
          4,
          5,
          6,
          7,
          8,
          9,
          10,
          2,
          3,
          4,
          5,
          6,
          7,
          8,
          9
         ],
         "hovertemplate": "top_bias=occupation<br>user=Kilo<br>start=%{base}<br>stop=%{x}<br>=%{y}<br>bias_value=%{text}<extra></extra>",
         "legendgroup": "occupation",
         "marker": {
          "color": "#FFA15A",
          "opacity": [
           0.84,
           0.67,
           0.69,
           0.49,
           0.75,
           0.86,
           1,
           1,
           1,
           1,
           1,
           1,
           1,
           0.4,
           0.51,
           0.5,
           0.53,
           0.51,
           0.53,
           0.5,
           0.49
          ],
          "pattern": {
           "shape": ""
          }
         },
         "name": "occupation",
         "offsetgroup": "occupation",
         "orientation": "h",
         "showlegend": false,
         "text": "",
         "textangle": 0,
         "textfont": {
          "size": 4
         },
         "textposition": "auto",
         "type": "bar",
         "x": [
          1,
          1,
          1,
          1,
          1,
          1,
          1,
          1,
          1,
          1,
          1,
          1,
          1,
          1,
          1,
          1,
          1,
          1,
          1,
          1,
          1
         ],
         "xaxis": "x3",
         "y": [
          "AC",
          "AC",
          "AC",
          "AC",
          "CM",
          "CM",
          "CM",
          "CM",
          "CM",
          "CM",
          "CM",
          "CM",
          "CM",
          "ENS",
          "ENS",
          "ENS",
          "ENS",
          "ENS",
          "ENS",
          "ENS",
          "ENS"
         ],
         "yaxis": "y3"
        },
        {
         "alignmentgroup": "True",
         "base": [
          6,
          7,
          8,
          9,
          10,
          11,
          12,
          13,
          5,
          6,
          7,
          8,
          9,
          10,
          11,
          13,
          1,
          4,
          5,
          6,
          7,
          8,
          9,
          10,
          11,
          12,
          13,
          4,
          5,
          6,
          7,
          8,
          9,
          10,
          12,
          4,
          5,
          6,
          7,
          8,
          9,
          10,
          11,
          12,
          13
         ],
         "hovertemplate": "top_bias=occupation<br>user=Lima<br>start=%{base}<br>stop=%{x}<br>=%{y}<br>bias_value=%{text}<extra></extra>",
         "legendgroup": "occupation",
         "marker": {
          "color": "#FFA15A",
          "opacity": [
           0.76,
           0.8,
           0.91,
           0.89,
           0.78,
           0.8,
           0.93,
           0.85,
           0.63,
           0.65,
           0.67,
           0.66,
           0.69,
           0.71,
           0.68,
           0.73,
           0.74,
           0.58,
           0.58,
           0.58,
           0.58,
           0.58,
           0.58,
           0.43,
           0.43,
           0.44,
           0.4,
           0.94,
           0.99,
           1,
           1,
           1,
           1,
           1,
           1,
           0.54,
           0.52,
           0.59,
           0.61,
           0.64,
           0.64,
           0.62,
           0.62,
           0.66,
           0.64
          ],
          "pattern": {
           "shape": ""
          }
         },
         "name": "occupation",
         "offsetgroup": "occupation",
         "orientation": "h",
         "showlegend": false,
         "text": "",
         "textangle": 0,
         "textfont": {
          "size": 4
         },
         "textposition": "auto",
         "type": "bar",
         "x": [
          1,
          1,
          1,
          1,
          1,
          1,
          1,
          1,
          1,
          1,
          1,
          1,
          1,
          1,
          1,
          1,
          1,
          1,
          1,
          1,
          1,
          1,
          1,
          1,
          1,
          1,
          1,
          1,
          1,
          1,
          1,
          1,
          1,
          1,
          1,
          1,
          1,
          1,
          1,
          1,
          1,
          1,
          1,
          1,
          1
         ],
         "xaxis": "x4",
         "y": [
          "AD    ",
          "AD    ",
          "AD    ",
          "AD    ",
          "AD    ",
          "AD    ",
          "AD    ",
          "AD    ",
          "HMM",
          "HMM",
          "HMM",
          "HMM",
          "HMM",
          "HMM",
          "HMM",
          "HMM",
          "AC",
          "AC",
          "AC",
          "AC",
          "AC",
          "AC",
          "AC",
          "AC",
          "AC",
          "AC",
          "AC",
          "CM",
          "CM",
          "CM",
          "CM",
          "CM",
          "CM",
          "CM",
          "CM",
          "ENS",
          "ENS",
          "ENS",
          "ENS",
          "ENS",
          "ENS",
          "ENS",
          "ENS",
          "ENS",
          "ENS"
         ],
         "yaxis": "y4"
        },
        {
         "alignmentgroup": "True",
         "base": [
          2
         ],
         "hovertemplate": "top_bias=medicare<br>user=Alfa<br>start=%{base}<br>stop=%{x}<br>=%{y}<br>bias_value=%{text}<extra></extra>",
         "legendgroup": "medicare",
         "marker": {
          "color": "#19d3f3",
          "opacity": [
           0.56
          ],
          "pattern": {
           "shape": ""
          }
         },
         "name": "medicare",
         "offsetgroup": "medicare",
         "orientation": "h",
         "showlegend": true,
         "text": "",
         "textangle": 0,
         "textfont": {
          "size": 4
         },
         "textposition": "auto",
         "type": "bar",
         "x": [
          1
         ],
         "xaxis": "x9",
         "y": [
          "HMM"
         ],
         "yaxis": "y9"
        },
        {
         "alignmentgroup": "True",
         "base": [
          8,
          9,
          10,
          11,
          13,
          14,
          4,
          5,
          6,
          7,
          8,
          9,
          10
         ],
         "hovertemplate": "top_bias=medicare<br>user=Bravo<br>start=%{base}<br>stop=%{x}<br>=%{y}<br>bias_value=%{text}<extra></extra>",
         "legendgroup": "medicare",
         "marker": {
          "color": "#19d3f3",
          "opacity": [
           0.7,
           0.85,
           0.71,
           0.54,
           0.39,
           0.43,
           0.63,
           0.64,
           0.33,
           0.34,
           0.34,
           0.35,
           0.33
          ],
          "pattern": {
           "shape": ""
          }
         },
         "name": "medicare",
         "offsetgroup": "medicare",
         "orientation": "h",
         "showlegend": false,
         "text": "",
         "textangle": 0,
         "textfont": {
          "size": 4
         },
         "textposition": "auto",
         "type": "bar",
         "x": [
          1,
          1,
          1,
          1,
          1,
          1,
          1,
          1,
          1,
          1,
          1,
          1,
          1
         ],
         "xaxis": "x10",
         "y": [
          "AD    ",
          "AD    ",
          "AD    ",
          "AD    ",
          "AD    ",
          "AD    ",
          "HMM",
          "HMM",
          "AC",
          "AC",
          "AC",
          "AC",
          "AC"
         ],
         "yaxis": "y10"
        },
        {
         "alignmentgroup": "True",
         "base": [
          3
         ],
         "hovertemplate": "top_bias=medicare<br>user=Charlie<br>start=%{base}<br>stop=%{x}<br>=%{y}<br>bias_value=%{text}<extra></extra>",
         "legendgroup": "medicare",
         "marker": {
          "color": "#19d3f3",
          "opacity": [
           0.57
          ],
          "pattern": {
           "shape": ""
          }
         },
         "name": "medicare",
         "offsetgroup": "medicare",
         "orientation": "h",
         "showlegend": false,
         "text": "",
         "textangle": 0,
         "textfont": {
          "size": 4
         },
         "textposition": "auto",
         "type": "bar",
         "x": [
          1
         ],
         "xaxis": "x11",
         "y": [
          "HMM"
         ],
         "yaxis": "y11"
        },
        {
         "alignmentgroup": "True",
         "base": [
          5,
          7,
          9
         ],
         "hovertemplate": "top_bias=medicare<br>user=Echo<br>start=%{base}<br>stop=%{x}<br>=%{y}<br>bias_value=%{text}<extra></extra>",
         "legendgroup": "medicare",
         "marker": {
          "color": "#19d3f3",
          "opacity": [
           0.63,
           0.68,
           0.67
          ],
          "pattern": {
           "shape": ""
          }
         },
         "name": "medicare",
         "offsetgroup": "medicare",
         "orientation": "h",
         "showlegend": false,
         "text": "",
         "textangle": 0,
         "textfont": {
          "size": 4
         },
         "textposition": "auto",
         "type": "bar",
         "x": [
          1,
          1,
          1
         ],
         "xaxis": "x5",
         "y": [
          "HMM",
          "HMM",
          "HMM"
         ],
         "yaxis": "y5"
        },
        {
         "alignmentgroup": "True",
         "base": [
          6
         ],
         "hovertemplate": "top_bias=medicare<br>user=Golf<br>start=%{base}<br>stop=%{x}<br>=%{y}<br>bias_value=%{text}<extra></extra>",
         "legendgroup": "medicare",
         "marker": {
          "color": "#19d3f3",
          "opacity": [
           0.65
          ],
          "pattern": {
           "shape": ""
          }
         },
         "name": "medicare",
         "offsetgroup": "medicare",
         "orientation": "h",
         "showlegend": false,
         "text": "",
         "textangle": 0,
         "textfont": {
          "size": 4
         },
         "textposition": "auto",
         "type": "bar",
         "x": [
          1
         ],
         "xaxis": "x7",
         "y": [
          "AD    "
         ],
         "yaxis": "y7"
        },
        {
         "alignmentgroup": "True",
         "base": [
          2,
          4,
          5,
          6,
          7,
          8,
          9,
          2
         ],
         "hovertemplate": "top_bias=medicare<br>user=Juliett<br>start=%{base}<br>stop=%{x}<br>=%{y}<br>bias_value=%{text}<extra></extra>",
         "legendgroup": "medicare",
         "marker": {
          "color": "#19d3f3",
          "opacity": [
           0.91,
           0.87,
           0.96,
           0.88,
           0.96,
           0.9,
           0.96,
           0.65
          ],
          "pattern": {
           "shape": ""
          }
         },
         "name": "medicare",
         "offsetgroup": "medicare",
         "orientation": "h",
         "showlegend": false,
         "text": "",
         "textangle": 0,
         "textfont": {
          "size": 4
         },
         "textposition": "auto",
         "type": "bar",
         "x": [
          1,
          1,
          1,
          1,
          1,
          1,
          1,
          1
         ],
         "xaxis": "x2",
         "y": [
          "AD    ",
          "AD    ",
          "AD    ",
          "AD    ",
          "AD    ",
          "AD    ",
          "AD    ",
          "AC"
         ],
         "yaxis": "y2"
        },
        {
         "alignmentgroup": "True",
         "base": [
          10
         ],
         "hovertemplate": "top_bias=marijuana<br>user=Alfa<br>start=%{base}<br>stop=%{x}<br>=%{y}<br>bias_value=%{text}<extra></extra>",
         "legendgroup": "marijuana",
         "marker": {
          "color": "#FF6692",
          "opacity": [
           0.67
          ],
          "pattern": {
           "shape": ""
          }
         },
         "name": "marijuana",
         "offsetgroup": "marijuana",
         "orientation": "h",
         "showlegend": true,
         "text": "",
         "textangle": 0,
         "textfont": {
          "size": 4
         },
         "textposition": "auto",
         "type": "bar",
         "x": [
          1
         ],
         "xaxis": "x9",
         "y": [
          "HMM"
         ],
         "yaxis": "y9"
        },
        {
         "alignmentgroup": "True",
         "base": [
          7
         ],
         "hovertemplate": "top_bias=marijuana<br>user=Bravo<br>start=%{base}<br>stop=%{x}<br>=%{y}<br>bias_value=%{text}<extra></extra>",
         "legendgroup": "marijuana",
         "marker": {
          "color": "#FF6692",
          "opacity": [
           0.53
          ],
          "pattern": {
           "shape": ""
          }
         },
         "name": "marijuana",
         "offsetgroup": "marijuana",
         "orientation": "h",
         "showlegend": false,
         "text": "",
         "textangle": 0,
         "textfont": {
          "size": 4
         },
         "textposition": "auto",
         "type": "bar",
         "x": [
          1
         ],
         "xaxis": "x10",
         "y": [
          "AD    "
         ],
         "yaxis": "y10"
        },
        {
         "alignmentgroup": "True",
         "base": [
          9,
          10,
          2,
          5
         ],
         "hovertemplate": "top_bias=marijuana<br>user=Charlie<br>start=%{base}<br>stop=%{x}<br>=%{y}<br>bias_value=%{text}<extra></extra>",
         "legendgroup": "marijuana",
         "marker": {
          "color": "#FF6692",
          "opacity": [
           0.6,
           0.8,
           0.56,
           0.62
          ],
          "pattern": {
           "shape": ""
          }
         },
         "name": "marijuana",
         "offsetgroup": "marijuana",
         "orientation": "h",
         "showlegend": false,
         "text": "",
         "textangle": 0,
         "textfont": {
          "size": 4
         },
         "textposition": "auto",
         "type": "bar",
         "x": [
          1,
          1,
          1,
          1
         ],
         "xaxis": "x11",
         "y": [
          "AD    ",
          "AD    ",
          "HMM",
          "HMM"
         ],
         "yaxis": "y11"
        },
        {
         "alignmentgroup": "True",
         "base": [
          7,
          8,
          9,
          6,
          7,
          8,
          9
         ],
         "hovertemplate": "top_bias=marijuana<br>user=Delta<br>start=%{base}<br>stop=%{x}<br>=%{y}<br>bias_value=%{text}<extra></extra>",
         "legendgroup": "marijuana",
         "marker": {
          "color": "#FF6692",
          "opacity": [
           0.8,
           0.9,
           0.8,
           0.38,
           0.4,
           0.41,
           0.38
          ],
          "pattern": {
           "shape": ""
          }
         },
         "name": "marijuana",
         "offsetgroup": "marijuana",
         "orientation": "h",
         "showlegend": false,
         "text": "",
         "textangle": 0,
         "textfont": {
          "size": 4
         },
         "textposition": "auto",
         "type": "bar",
         "x": [
          1,
          1,
          1,
          1,
          1,
          1,
          1
         ],
         "xaxis": "x12",
         "y": [
          "AD    ",
          "AD    ",
          "AD    ",
          "AC",
          "AC",
          "AC",
          "AC"
         ],
         "yaxis": "y12"
        },
        {
         "alignmentgroup": "True",
         "base": [
          3,
          4,
          5,
          6,
          1,
          5
         ],
         "hovertemplate": "top_bias=marijuana<br>user=Echo<br>start=%{base}<br>stop=%{x}<br>=%{y}<br>bias_value=%{text}<extra></extra>",
         "legendgroup": "marijuana",
         "marker": {
          "color": "#FF6692",
          "opacity": [
           0.56,
           0.87,
           0.96,
           0.88,
           0.72,
           0.52
          ],
          "pattern": {
           "shape": ""
          }
         },
         "name": "marijuana",
         "offsetgroup": "marijuana",
         "orientation": "h",
         "showlegend": false,
         "text": "",
         "textangle": 0,
         "textfont": {
          "size": 4
         },
         "textposition": "auto",
         "type": "bar",
         "x": [
          1,
          1,
          1,
          1,
          1,
          1
         ],
         "xaxis": "x5",
         "y": [
          "AD    ",
          "AD    ",
          "AD    ",
          "AD    ",
          "AC",
          "AC"
         ],
         "yaxis": "y5"
        },
        {
         "alignmentgroup": "True",
         "base": [
          1,
          2,
          3,
          4,
          2
         ],
         "hovertemplate": "top_bias=marijuana<br>user=Foxtrot<br>start=%{base}<br>stop=%{x}<br>=%{y}<br>bias_value=%{text}<extra></extra>",
         "legendgroup": "marijuana",
         "marker": {
          "color": "#FF6692",
          "opacity": [
           0.56,
           0.61,
           0.6,
           0.6,
           0.72
          ],
          "pattern": {
           "shape": ""
          }
         },
         "name": "marijuana",
         "offsetgroup": "marijuana",
         "orientation": "h",
         "showlegend": false,
         "text": "",
         "textangle": 0,
         "textfont": {
          "size": 4
         },
         "textposition": "auto",
         "type": "bar",
         "x": [
          1,
          1,
          1,
          1,
          1
         ],
         "xaxis": "x6",
         "y": [
          "HMM",
          "HMM",
          "HMM",
          "HMM",
          "AC"
         ],
         "yaxis": "y6"
        },
        {
         "alignmentgroup": "True",
         "base": [
          1
         ],
         "hovertemplate": "top_bias=marijuana<br>user=Hotel<br>start=%{base}<br>stop=%{x}<br>=%{y}<br>bias_value=%{text}<extra></extra>",
         "legendgroup": "marijuana",
         "marker": {
          "color": "#FF6692",
          "opacity": [
           0.46
          ],
          "pattern": {
           "shape": ""
          }
         },
         "name": "marijuana",
         "offsetgroup": "marijuana",
         "orientation": "h",
         "showlegend": false,
         "text": "",
         "textangle": 0,
         "textfont": {
          "size": 4
         },
         "textposition": "auto",
         "type": "bar",
         "x": [
          1
         ],
         "xaxis": "x8",
         "y": [
          "AD    "
         ],
         "yaxis": "y8"
        },
        {
         "alignmentgroup": "True",
         "base": [
          3
         ],
         "hovertemplate": "top_bias=abortion<br>user=Alfa<br>start=%{base}<br>stop=%{x}<br>=%{y}<br>bias_value=%{text}<extra></extra>",
         "legendgroup": "abortion",
         "marker": {
          "color": "#B6E880",
          "opacity": [
           0.58
          ],
          "pattern": {
           "shape": ""
          }
         },
         "name": "abortion",
         "offsetgroup": "abortion",
         "orientation": "h",
         "showlegend": true,
         "text": "",
         "textangle": 0,
         "textfont": {
          "size": 4
         },
         "textposition": "auto",
         "type": "bar",
         "x": [
          1
         ],
         "xaxis": "x9",
         "y": [
          "AC"
         ],
         "yaxis": "y9"
        },
        {
         "alignmentgroup": "True",
         "base": [
          12,
          7,
          9,
          11,
          12
         ],
         "hovertemplate": "top_bias=abortion<br>user=Bravo<br>start=%{base}<br>stop=%{x}<br>=%{y}<br>bias_value=%{text}<extra></extra>",
         "legendgroup": "abortion",
         "marker": {
          "color": "#B6E880",
          "opacity": [
           0.55,
           0.67,
           0.68,
           0.25,
           0.25
          ],
          "pattern": {
           "shape": ""
          }
         },
         "name": "abortion",
         "offsetgroup": "abortion",
         "orientation": "h",
         "showlegend": false,
         "text": "",
         "textangle": 0,
         "textfont": {
          "size": 4
         },
         "textposition": "auto",
         "type": "bar",
         "x": [
          1,
          1,
          1,
          1,
          1
         ],
         "xaxis": "x10",
         "y": [
          "AD    ",
          "HMM",
          "HMM",
          "AC",
          "AC"
         ],
         "yaxis": "y10"
        },
        {
         "alignmentgroup": "True",
         "base": [
          1,
          9,
          1
         ],
         "hovertemplate": "top_bias=abortion<br>user=Charlie<br>start=%{base}<br>stop=%{x}<br>=%{y}<br>bias_value=%{text}<extra></extra>",
         "legendgroup": "abortion",
         "marker": {
          "color": "#B6E880",
          "opacity": [
           0.58,
           0.65,
           0.4
          ],
          "pattern": {
           "shape": ""
          }
         },
         "name": "abortion",
         "offsetgroup": "abortion",
         "orientation": "h",
         "showlegend": false,
         "text": "",
         "textangle": 0,
         "textfont": {
          "size": 4
         },
         "textposition": "auto",
         "type": "bar",
         "x": [
          1,
          1,
          1
         ],
         "xaxis": "x11",
         "y": [
          "AD    ",
          "HMM",
          "ENS"
         ],
         "yaxis": "y11"
        },
        {
         "alignmentgroup": "True",
         "base": [
          1
         ],
         "hovertemplate": "top_bias=abortion<br>user=Foxtrot<br>start=%{base}<br>stop=%{x}<br>=%{y}<br>bias_value=%{text}<extra></extra>",
         "legendgroup": "abortion",
         "marker": {
          "color": "#B6E880",
          "opacity": [
           0.58
          ],
          "pattern": {
           "shape": ""
          }
         },
         "name": "abortion",
         "offsetgroup": "abortion",
         "orientation": "h",
         "showlegend": false,
         "text": "",
         "textangle": 0,
         "textfont": {
          "size": 4
         },
         "textposition": "auto",
         "type": "bar",
         "x": [
          1
         ],
         "xaxis": "x6",
         "y": [
          "AD    "
         ],
         "yaxis": "y6"
        },
        {
         "alignmentgroup": "True",
         "base": [
          6,
          7
         ],
         "hovertemplate": "top_bias=abortion<br>user=Golf<br>start=%{base}<br>stop=%{x}<br>=%{y}<br>bias_value=%{text}<extra></extra>",
         "legendgroup": "abortion",
         "marker": {
          "color": "#B6E880",
          "opacity": [
           0.63,
           0.67
          ],
          "pattern": {
           "shape": ""
          }
         },
         "name": "abortion",
         "offsetgroup": "abortion",
         "orientation": "h",
         "showlegend": false,
         "text": "",
         "textangle": 0,
         "textfont": {
          "size": 4
         },
         "textposition": "auto",
         "type": "bar",
         "x": [
          1,
          1
         ],
         "xaxis": "x7",
         "y": [
          "HMM",
          "HMM"
         ],
         "yaxis": "y7"
        },
        {
         "alignmentgroup": "True",
         "base": [
          11,
          10,
          11
         ],
         "hovertemplate": "top_bias=abortion<br>user=Hotel<br>start=%{base}<br>stop=%{x}<br>=%{y}<br>bias_value=%{text}<extra></extra>",
         "legendgroup": "abortion",
         "marker": {
          "color": "#B6E880",
          "opacity": [
           0.86,
           0.33,
           0.34
          ],
          "pattern": {
           "shape": ""
          }
         },
         "name": "abortion",
         "offsetgroup": "abortion",
         "orientation": "h",
         "showlegend": false,
         "text": "",
         "textangle": 0,
         "textfont": {
          "size": 4
         },
         "textposition": "auto",
         "type": "bar",
         "x": [
          1,
          1,
          1
         ],
         "xaxis": "x8",
         "y": [
          "AD    ",
          "AC",
          "AC"
         ],
         "yaxis": "y8"
        },
        {
         "alignmentgroup": "True",
         "base": [
          1,
          2,
          3,
          6,
          7,
          8,
          9,
          10
         ],
         "hovertemplate": "top_bias=abortion<br>user=Kilo<br>start=%{base}<br>stop=%{x}<br>=%{y}<br>bias_value=%{text}<extra></extra>",
         "legendgroup": "abortion",
         "marker": {
          "color": "#B6E880",
          "opacity": [
           0.57,
           0.57,
           0.6,
           0.63,
           0.65,
           0.66,
           0.66,
           0.67
          ],
          "pattern": {
           "shape": ""
          }
         },
         "name": "abortion",
         "offsetgroup": "abortion",
         "orientation": "h",
         "showlegend": false,
         "text": "",
         "textangle": 0,
         "textfont": {
          "size": 4
         },
         "textposition": "auto",
         "type": "bar",
         "x": [
          1,
          1,
          1,
          1,
          1,
          1,
          1,
          1
         ],
         "xaxis": "x3",
         "y": [
          "HMM",
          "HMM",
          "HMM",
          "HMM",
          "HMM",
          "HMM",
          "HMM",
          "HMM"
         ],
         "yaxis": "y3"
        },
        {
         "alignmentgroup": "True",
         "base": [
          1,
          2,
          3,
          4,
          9,
          2,
          3,
          7,
          8
         ],
         "hovertemplate": "top_bias=party<br>user=Alfa<br>start=%{base}<br>stop=%{x}<br>=%{y}<br>bias_value=%{text}<extra></extra>",
         "legendgroup": "party",
         "marker": {
          "color": "#FF97FF",
          "opacity": [
           0.5,
           0.59,
           0.94,
           0.93,
           1,
           0.48,
           0.44,
           0.52,
           0.53
          ],
          "pattern": {
           "shape": ""
          }
         },
         "name": "party",
         "offsetgroup": "party",
         "orientation": "h",
         "showlegend": true,
         "text": "",
         "textangle": 0,
         "textfont": {
          "size": 4
         },
         "textposition": "auto",
         "type": "bar",
         "x": [
          1,
          1,
          1,
          1,
          1,
          1,
          1,
          1,
          1
         ],
         "xaxis": "x9",
         "y": [
          "CM",
          "CM",
          "CM",
          "CM",
          "CM",
          "ENS",
          "ENS",
          "ENS",
          "ENS"
         ],
         "yaxis": "y9"
        },
        {
         "alignmentgroup": "True",
         "base": [
          1,
          12,
          13,
          8,
          9,
          10,
          11,
          12,
          13
         ],
         "hovertemplate": "top_bias=party<br>user=Bravo<br>start=%{base}<br>stop=%{x}<br>=%{y}<br>bias_value=%{text}<extra></extra>",
         "legendgroup": "party",
         "marker": {
          "color": "#FF97FF",
          "opacity": [
           0.5,
           0.99,
           0.99,
           0.5,
           0.5,
           0.49,
           0.49,
           0.49,
           0.49
          ],
          "pattern": {
           "shape": ""
          }
         },
         "name": "party",
         "offsetgroup": "party",
         "orientation": "h",
         "showlegend": false,
         "text": "",
         "textangle": 0,
         "textfont": {
          "size": 4
         },
         "textposition": "auto",
         "type": "bar",
         "x": [
          1,
          1,
          1,
          1,
          1,
          1,
          1,
          1,
          1
         ],
         "xaxis": "x10",
         "y": [
          "CM",
          "CM",
          "CM",
          "ENS",
          "ENS",
          "ENS",
          "ENS",
          "ENS",
          "ENS"
         ],
         "yaxis": "y10"
        },
        {
         "alignmentgroup": "True",
         "base": [
          1,
          1,
          8,
          9,
          7,
          9,
          10
         ],
         "hovertemplate": "top_bias=party<br>user=Charlie<br>start=%{base}<br>stop=%{x}<br>=%{y}<br>bias_value=%{text}<extra></extra>",
         "legendgroup": "party",
         "marker": {
          "color": "#FF97FF",
          "opacity": [
           0.53,
           0.5,
           0.99,
           0.99,
           0.42,
           0.45,
           0.52
          ],
          "pattern": {
           "shape": ""
          }
         },
         "name": "party",
         "offsetgroup": "party",
         "orientation": "h",
         "showlegend": false,
         "text": "",
         "textangle": 0,
         "textfont": {
          "size": 4
         },
         "textposition": "auto",
         "type": "bar",
         "x": [
          1,
          1,
          1,
          1,
          1,
          1,
          1
         ],
         "xaxis": "x11",
         "y": [
          "HMM",
          "CM",
          "CM",
          "CM",
          "ENS",
          "ENS",
          "ENS"
         ],
         "yaxis": "y11"
        },
        {
         "alignmentgroup": "True",
         "base": [
          1,
          9,
          4,
          6,
          7,
          8
         ],
         "hovertemplate": "top_bias=party<br>user=Delta<br>start=%{base}<br>stop=%{x}<br>=%{y}<br>bias_value=%{text}<extra></extra>",
         "legendgroup": "party",
         "marker": {
          "color": "#FF97FF",
          "opacity": [
           0.5,
           0.99,
           0.53,
           0.51,
           0.6,
           0.59
          ],
          "pattern": {
           "shape": ""
          }
         },
         "name": "party",
         "offsetgroup": "party",
         "orientation": "h",
         "showlegend": false,
         "text": "",
         "textangle": 0,
         "textfont": {
          "size": 4
         },
         "textposition": "auto",
         "type": "bar",
         "x": [
          1,
          1,
          1,
          1,
          1,
          1
         ],
         "xaxis": "x12",
         "y": [
          "CM",
          "CM",
          "ENS",
          "ENS",
          "ENS",
          "ENS"
         ],
         "yaxis": "y12"
        },
        {
         "alignmentgroup": "True",
         "base": [
          2,
          3,
          4,
          6,
          1,
          6,
          4,
          5,
          6,
          7,
          8,
          9
         ],
         "hovertemplate": "top_bias=party<br>user=Echo<br>start=%{base}<br>stop=%{x}<br>=%{y}<br>bias_value=%{text}<extra></extra>",
         "legendgroup": "party",
         "marker": {
          "color": "#FF97FF",
          "opacity": [
           0.57,
           0.61,
           0.62,
           0.66,
           0.5,
           0.98,
           0.5,
           0.53,
           0.52,
           0.6,
           0.6,
           0.59
          ],
          "pattern": {
           "shape": ""
          }
         },
         "name": "party",
         "offsetgroup": "party",
         "orientation": "h",
         "showlegend": false,
         "text": "",
         "textangle": 0,
         "textfont": {
          "size": 4
         },
         "textposition": "auto",
         "type": "bar",
         "x": [
          1,
          1,
          1,
          1,
          1,
          1,
          1,
          1,
          1,
          1,
          1,
          1
         ],
         "xaxis": "x5",
         "y": [
          "HMM",
          "HMM",
          "HMM",
          "HMM",
          "CM",
          "CM",
          "ENS",
          "ENS",
          "ENS",
          "ENS",
          "ENS",
          "ENS"
         ],
         "yaxis": "y5"
        },
        {
         "alignmentgroup": "True",
         "base": [
          5,
          6,
          10,
          11,
          1
         ],
         "hovertemplate": "top_bias=party<br>user=Foxtrot<br>start=%{base}<br>stop=%{x}<br>=%{y}<br>bias_value=%{text}<extra></extra>",
         "legendgroup": "party",
         "marker": {
          "color": "#FF97FF",
          "opacity": [
           0.61,
           0.64,
           0.68,
           0.7,
           0.5
          ],
          "pattern": {
           "shape": ""
          }
         },
         "name": "party",
         "offsetgroup": "party",
         "orientation": "h",
         "showlegend": false,
         "text": "",
         "textangle": 0,
         "textfont": {
          "size": 4
         },
         "textposition": "auto",
         "type": "bar",
         "x": [
          1,
          1,
          1,
          1,
          1
         ],
         "xaxis": "x6",
         "y": [
          "HMM",
          "HMM",
          "HMM",
          "HMM",
          "CM"
         ],
         "yaxis": "y6"
        },
        {
         "alignmentgroup": "True",
         "base": [
          1,
          2,
          3,
          1,
          3
         ],
         "hovertemplate": "top_bias=party<br>user=Golf<br>start=%{base}<br>stop=%{x}<br>=%{y}<br>bias_value=%{text}<extra></extra>",
         "legendgroup": "party",
         "marker": {
          "color": "#FF97FF",
          "opacity": [
           0.55,
           0.56,
           0.57,
           0.5,
           0.55
          ],
          "pattern": {
           "shape": ""
          }
         },
         "name": "party",
         "offsetgroup": "party",
         "orientation": "h",
         "showlegend": false,
         "text": "",
         "textangle": 0,
         "textfont": {
          "size": 4
         },
         "textposition": "auto",
         "type": "bar",
         "x": [
          1,
          1,
          1,
          1,
          1
         ],
         "xaxis": "x7",
         "y": [
          "HMM",
          "HMM",
          "HMM",
          "CM",
          "CM"
         ],
         "yaxis": "y7"
        },
        {
         "alignmentgroup": "True",
         "base": [
          1,
          2,
          3,
          4,
          5,
          6,
          7,
          8,
          9,
          1
         ],
         "hovertemplate": "top_bias=party<br>user=Hotel<br>start=%{base}<br>stop=%{x}<br>=%{y}<br>bias_value=%{text}<extra></extra>",
         "legendgroup": "party",
         "marker": {
          "color": "#FF97FF",
          "opacity": [
           0.56,
           0.61,
           0.61,
           0.63,
           0.62,
           0.62,
           0.65,
           0.66,
           0.66,
           0.5
          ],
          "pattern": {
           "shape": ""
          }
         },
         "name": "party",
         "offsetgroup": "party",
         "orientation": "h",
         "showlegend": false,
         "text": "",
         "textangle": 0,
         "textfont": {
          "size": 4
         },
         "textposition": "auto",
         "type": "bar",
         "x": [
          1,
          1,
          1,
          1,
          1,
          1,
          1,
          1,
          1,
          1
         ],
         "xaxis": "x8",
         "y": [
          "HMM",
          "HMM",
          "HMM",
          "HMM",
          "HMM",
          "HMM",
          "HMM",
          "HMM",
          "HMM",
          "CM"
         ],
         "yaxis": "y8"
        },
        {
         "alignmentgroup": "True",
         "base": [
          1
         ],
         "hovertemplate": "top_bias=party<br>user=India<br>start=%{base}<br>stop=%{x}<br>=%{y}<br>bias_value=%{text}<extra></extra>",
         "legendgroup": "party",
         "marker": {
          "color": "#FF97FF",
          "opacity": [
           0.5
          ],
          "pattern": {
           "shape": ""
          }
         },
         "name": "party",
         "offsetgroup": "party",
         "orientation": "h",
         "showlegend": false,
         "text": "",
         "textangle": 0,
         "textfont": {
          "size": 4
         },
         "textposition": "auto",
         "type": "bar",
         "x": [
          1
         ],
         "xaxis": "x",
         "y": [
          "CM"
         ],
         "yaxis": "y"
        },
        {
         "alignmentgroup": "True",
         "base": [
          1,
          2,
          3,
          7,
          8,
          9,
          2,
          5,
          7,
          9
         ],
         "hovertemplate": "top_bias=party<br>user=Juliett<br>start=%{base}<br>stop=%{x}<br>=%{y}<br>bias_value=%{text}<extra></extra>",
         "legendgroup": "party",
         "marker": {
          "color": "#FF97FF",
          "opacity": [
           0.5,
           0.58,
           0.89,
           0.99,
           1,
           1,
           0.48,
           0.53,
           0.6,
           0.58
          ],
          "pattern": {
           "shape": ""
          }
         },
         "name": "party",
         "offsetgroup": "party",
         "orientation": "h",
         "showlegend": false,
         "text": "",
         "textangle": 0,
         "textfont": {
          "size": 4
         },
         "textposition": "auto",
         "type": "bar",
         "x": [
          1,
          1,
          1,
          1,
          1,
          1,
          1,
          1,
          1,
          1
         ],
         "xaxis": "x2",
         "y": [
          "CM",
          "CM",
          "CM",
          "CM",
          "CM",
          "CM",
          "ENS",
          "ENS",
          "ENS",
          "ENS"
         ],
         "yaxis": "y2"
        },
        {
         "alignmentgroup": "True",
         "base": [
          4,
          5,
          1
         ],
         "hovertemplate": "top_bias=party<br>user=Kilo<br>start=%{base}<br>stop=%{x}<br>=%{y}<br>bias_value=%{text}<extra></extra>",
         "legendgroup": "party",
         "marker": {
          "color": "#FF97FF",
          "opacity": [
           0.61,
           0.61,
           0.5
          ],
          "pattern": {
           "shape": ""
          }
         },
         "name": "party",
         "offsetgroup": "party",
         "orientation": "h",
         "showlegend": false,
         "text": "",
         "textangle": 0,
         "textfont": {
          "size": 4
         },
         "textposition": "auto",
         "type": "bar",
         "x": [
          1,
          1,
          1
         ],
         "xaxis": "x3",
         "y": [
          "HMM",
          "HMM",
          "CM"
         ],
         "yaxis": "y3"
        },
        {
         "alignmentgroup": "True",
         "base": [
          5,
          1,
          1,
          11,
          13
         ],
         "hovertemplate": "top_bias=party<br>user=Lima<br>start=%{base}<br>stop=%{x}<br>=%{y}<br>bias_value=%{text}<extra></extra>",
         "legendgroup": "party",
         "marker": {
          "color": "#FF97FF",
          "opacity": [
           0.57,
           0.54,
           0.5,
           1,
           1
          ],
          "pattern": {
           "shape": ""
          }
         },
         "name": "party",
         "offsetgroup": "party",
         "orientation": "h",
         "showlegend": false,
         "text": "",
         "textangle": 0,
         "textfont": {
          "size": 4
         },
         "textposition": "auto",
         "type": "bar",
         "x": [
          1,
          1,
          1,
          1,
          1
         ],
         "xaxis": "x4",
         "y": [
          "AD    ",
          "HMM",
          "CM",
          "CM",
          "CM"
         ],
         "yaxis": "y4"
        }
       ],
       "layout": {
        "annotations": [
         {
          "font": {},
          "showarrow": false,
          "text": "user=India",
          "x": 0.1175,
          "xanchor": "center",
          "xref": "paper",
          "y": 0.2866666666666666,
          "yanchor": "bottom",
          "yref": "paper"
         },
         {
          "font": {},
          "showarrow": false,
          "text": "user=Juliett",
          "x": 0.3725,
          "xanchor": "center",
          "xref": "paper",
          "y": 0.2866666666666666,
          "yanchor": "bottom",
          "yref": "paper"
         },
         {
          "font": {},
          "showarrow": false,
          "text": "user=Kilo",
          "x": 0.6275,
          "xanchor": "center",
          "xref": "paper",
          "y": 0.2866666666666666,
          "yanchor": "bottom",
          "yref": "paper"
         },
         {
          "font": {},
          "showarrow": false,
          "text": "user=Lima",
          "x": 0.8824999999999998,
          "xanchor": "center",
          "xref": "paper",
          "y": 0.2866666666666666,
          "yanchor": "bottom",
          "yref": "paper"
         },
         {
          "font": {},
          "showarrow": false,
          "text": "user=Echo",
          "x": 0.1175,
          "xanchor": "center",
          "xref": "paper",
          "y": 0.6433333333333333,
          "yanchor": "bottom",
          "yref": "paper"
         },
         {
          "font": {},
          "showarrow": false,
          "text": "user=Foxtrot",
          "x": 0.3725,
          "xanchor": "center",
          "xref": "paper",
          "y": 0.6433333333333333,
          "yanchor": "bottom",
          "yref": "paper"
         },
         {
          "font": {},
          "showarrow": false,
          "text": "user=Golf",
          "x": 0.6275,
          "xanchor": "center",
          "xref": "paper",
          "y": 0.6433333333333333,
          "yanchor": "bottom",
          "yref": "paper"
         },
         {
          "font": {},
          "showarrow": false,
          "text": "user=Hotel",
          "x": 0.8824999999999998,
          "xanchor": "center",
          "xref": "paper",
          "y": 0.6433333333333333,
          "yanchor": "bottom",
          "yref": "paper"
         },
         {
          "font": {},
          "showarrow": false,
          "text": "user=Alfa",
          "x": 0.1175,
          "xanchor": "center",
          "xref": "paper",
          "y": 0.9999999999999999,
          "yanchor": "bottom",
          "yref": "paper"
         },
         {
          "font": {},
          "showarrow": false,
          "text": "user=Bravo",
          "x": 0.3725,
          "xanchor": "center",
          "xref": "paper",
          "y": 0.9999999999999999,
          "yanchor": "bottom",
          "yref": "paper"
         },
         {
          "font": {},
          "showarrow": false,
          "text": "user=Charlie",
          "x": 0.6275,
          "xanchor": "center",
          "xref": "paper",
          "y": 0.9999999999999999,
          "yanchor": "bottom",
          "yref": "paper"
         },
         {
          "font": {},
          "showarrow": false,
          "text": "user=Delta",
          "x": 0.8824999999999998,
          "xanchor": "center",
          "xref": "paper",
          "y": 0.9999999999999999,
          "yanchor": "bottom",
          "yref": "paper"
         }
        ],
        "barmode": "overlay",
        "font": {
         "color": "black",
         "size": 20
        },
        "height": 700,
        "legend": {
         "orientation": "h",
         "title": {
          "text": ""
         },
         "tracegroupgap": 0,
         "x": 0.5,
         "xanchor": "center",
         "y": -0.35,
         "yanchor": "bottom"
        },
        "template": {
         "data": {
          "bar": [
           {
            "error_x": {
             "color": "#2a3f5f"
            },
            "error_y": {
             "color": "#2a3f5f"
            },
            "marker": {
             "line": {
              "color": "#E5ECF6",
              "width": 0.5
             },
             "pattern": {
              "fillmode": "overlay",
              "size": 10,
              "solidity": 0.2
             }
            },
            "type": "bar"
           }
          ],
          "barpolar": [
           {
            "marker": {
             "line": {
              "color": "#E5ECF6",
              "width": 0.5
             },
             "pattern": {
              "fillmode": "overlay",
              "size": 10,
              "solidity": 0.2
             }
            },
            "type": "barpolar"
           }
          ],
          "carpet": [
           {
            "aaxis": {
             "endlinecolor": "#2a3f5f",
             "gridcolor": "white",
             "linecolor": "white",
             "minorgridcolor": "white",
             "startlinecolor": "#2a3f5f"
            },
            "baxis": {
             "endlinecolor": "#2a3f5f",
             "gridcolor": "white",
             "linecolor": "white",
             "minorgridcolor": "white",
             "startlinecolor": "#2a3f5f"
            },
            "type": "carpet"
           }
          ],
          "choropleth": [
           {
            "colorbar": {
             "outlinewidth": 0,
             "ticks": ""
            },
            "type": "choropleth"
           }
          ],
          "contour": [
           {
            "colorbar": {
             "outlinewidth": 0,
             "ticks": ""
            },
            "colorscale": [
             [
              0,
              "#0d0887"
             ],
             [
              0.1111111111111111,
              "#46039f"
             ],
             [
              0.2222222222222222,
              "#7201a8"
             ],
             [
              0.3333333333333333,
              "#9c179e"
             ],
             [
              0.4444444444444444,
              "#bd3786"
             ],
             [
              0.5555555555555556,
              "#d8576b"
             ],
             [
              0.6666666666666666,
              "#ed7953"
             ],
             [
              0.7777777777777778,
              "#fb9f3a"
             ],
             [
              0.8888888888888888,
              "#fdca26"
             ],
             [
              1,
              "#f0f921"
             ]
            ],
            "type": "contour"
           }
          ],
          "contourcarpet": [
           {
            "colorbar": {
             "outlinewidth": 0,
             "ticks": ""
            },
            "type": "contourcarpet"
           }
          ],
          "heatmap": [
           {
            "colorbar": {
             "outlinewidth": 0,
             "ticks": ""
            },
            "colorscale": [
             [
              0,
              "#0d0887"
             ],
             [
              0.1111111111111111,
              "#46039f"
             ],
             [
              0.2222222222222222,
              "#7201a8"
             ],
             [
              0.3333333333333333,
              "#9c179e"
             ],
             [
              0.4444444444444444,
              "#bd3786"
             ],
             [
              0.5555555555555556,
              "#d8576b"
             ],
             [
              0.6666666666666666,
              "#ed7953"
             ],
             [
              0.7777777777777778,
              "#fb9f3a"
             ],
             [
              0.8888888888888888,
              "#fdca26"
             ],
             [
              1,
              "#f0f921"
             ]
            ],
            "type": "heatmap"
           }
          ],
          "heatmapgl": [
           {
            "colorbar": {
             "outlinewidth": 0,
             "ticks": ""
            },
            "colorscale": [
             [
              0,
              "#0d0887"
             ],
             [
              0.1111111111111111,
              "#46039f"
             ],
             [
              0.2222222222222222,
              "#7201a8"
             ],
             [
              0.3333333333333333,
              "#9c179e"
             ],
             [
              0.4444444444444444,
              "#bd3786"
             ],
             [
              0.5555555555555556,
              "#d8576b"
             ],
             [
              0.6666666666666666,
              "#ed7953"
             ],
             [
              0.7777777777777778,
              "#fb9f3a"
             ],
             [
              0.8888888888888888,
              "#fdca26"
             ],
             [
              1,
              "#f0f921"
             ]
            ],
            "type": "heatmapgl"
           }
          ],
          "histogram": [
           {
            "marker": {
             "pattern": {
              "fillmode": "overlay",
              "size": 10,
              "solidity": 0.2
             }
            },
            "type": "histogram"
           }
          ],
          "histogram2d": [
           {
            "colorbar": {
             "outlinewidth": 0,
             "ticks": ""
            },
            "colorscale": [
             [
              0,
              "#0d0887"
             ],
             [
              0.1111111111111111,
              "#46039f"
             ],
             [
              0.2222222222222222,
              "#7201a8"
             ],
             [
              0.3333333333333333,
              "#9c179e"
             ],
             [
              0.4444444444444444,
              "#bd3786"
             ],
             [
              0.5555555555555556,
              "#d8576b"
             ],
             [
              0.6666666666666666,
              "#ed7953"
             ],
             [
              0.7777777777777778,
              "#fb9f3a"
             ],
             [
              0.8888888888888888,
              "#fdca26"
             ],
             [
              1,
              "#f0f921"
             ]
            ],
            "type": "histogram2d"
           }
          ],
          "histogram2dcontour": [
           {
            "colorbar": {
             "outlinewidth": 0,
             "ticks": ""
            },
            "colorscale": [
             [
              0,
              "#0d0887"
             ],
             [
              0.1111111111111111,
              "#46039f"
             ],
             [
              0.2222222222222222,
              "#7201a8"
             ],
             [
              0.3333333333333333,
              "#9c179e"
             ],
             [
              0.4444444444444444,
              "#bd3786"
             ],
             [
              0.5555555555555556,
              "#d8576b"
             ],
             [
              0.6666666666666666,
              "#ed7953"
             ],
             [
              0.7777777777777778,
              "#fb9f3a"
             ],
             [
              0.8888888888888888,
              "#fdca26"
             ],
             [
              1,
              "#f0f921"
             ]
            ],
            "type": "histogram2dcontour"
           }
          ],
          "mesh3d": [
           {
            "colorbar": {
             "outlinewidth": 0,
             "ticks": ""
            },
            "type": "mesh3d"
           }
          ],
          "parcoords": [
           {
            "line": {
             "colorbar": {
              "outlinewidth": 0,
              "ticks": ""
             }
            },
            "type": "parcoords"
           }
          ],
          "pie": [
           {
            "automargin": true,
            "type": "pie"
           }
          ],
          "scatter": [
           {
            "fillpattern": {
             "fillmode": "overlay",
             "size": 10,
             "solidity": 0.2
            },
            "type": "scatter"
           }
          ],
          "scatter3d": [
           {
            "line": {
             "colorbar": {
              "outlinewidth": 0,
              "ticks": ""
             }
            },
            "marker": {
             "colorbar": {
              "outlinewidth": 0,
              "ticks": ""
             }
            },
            "type": "scatter3d"
           }
          ],
          "scattercarpet": [
           {
            "marker": {
             "colorbar": {
              "outlinewidth": 0,
              "ticks": ""
             }
            },
            "type": "scattercarpet"
           }
          ],
          "scattergeo": [
           {
            "marker": {
             "colorbar": {
              "outlinewidth": 0,
              "ticks": ""
             }
            },
            "type": "scattergeo"
           }
          ],
          "scattergl": [
           {
            "marker": {
             "colorbar": {
              "outlinewidth": 0,
              "ticks": ""
             }
            },
            "type": "scattergl"
           }
          ],
          "scattermapbox": [
           {
            "marker": {
             "colorbar": {
              "outlinewidth": 0,
              "ticks": ""
             }
            },
            "type": "scattermapbox"
           }
          ],
          "scatterpolar": [
           {
            "marker": {
             "colorbar": {
              "outlinewidth": 0,
              "ticks": ""
             }
            },
            "type": "scatterpolar"
           }
          ],
          "scatterpolargl": [
           {
            "marker": {
             "colorbar": {
              "outlinewidth": 0,
              "ticks": ""
             }
            },
            "type": "scatterpolargl"
           }
          ],
          "scatterternary": [
           {
            "marker": {
             "colorbar": {
              "outlinewidth": 0,
              "ticks": ""
             }
            },
            "type": "scatterternary"
           }
          ],
          "surface": [
           {
            "colorbar": {
             "outlinewidth": 0,
             "ticks": ""
            },
            "colorscale": [
             [
              0,
              "#0d0887"
             ],
             [
              0.1111111111111111,
              "#46039f"
             ],
             [
              0.2222222222222222,
              "#7201a8"
             ],
             [
              0.3333333333333333,
              "#9c179e"
             ],
             [
              0.4444444444444444,
              "#bd3786"
             ],
             [
              0.5555555555555556,
              "#d8576b"
             ],
             [
              0.6666666666666666,
              "#ed7953"
             ],
             [
              0.7777777777777778,
              "#fb9f3a"
             ],
             [
              0.8888888888888888,
              "#fdca26"
             ],
             [
              1,
              "#f0f921"
             ]
            ],
            "type": "surface"
           }
          ],
          "table": [
           {
            "cells": {
             "fill": {
              "color": "#EBF0F8"
             },
             "line": {
              "color": "white"
             }
            },
            "header": {
             "fill": {
              "color": "#C8D4E3"
             },
             "line": {
              "color": "white"
             }
            },
            "type": "table"
           }
          ]
         },
         "layout": {
          "annotationdefaults": {
           "arrowcolor": "#2a3f5f",
           "arrowhead": 0,
           "arrowwidth": 1
          },
          "autotypenumbers": "strict",
          "coloraxis": {
           "colorbar": {
            "outlinewidth": 0,
            "ticks": ""
           }
          },
          "colorscale": {
           "diverging": [
            [
             0,
             "#8e0152"
            ],
            [
             0.1,
             "#c51b7d"
            ],
            [
             0.2,
             "#de77ae"
            ],
            [
             0.3,
             "#f1b6da"
            ],
            [
             0.4,
             "#fde0ef"
            ],
            [
             0.5,
             "#f7f7f7"
            ],
            [
             0.6,
             "#e6f5d0"
            ],
            [
             0.7,
             "#b8e186"
            ],
            [
             0.8,
             "#7fbc41"
            ],
            [
             0.9,
             "#4d9221"
            ],
            [
             1,
             "#276419"
            ]
           ],
           "sequential": [
            [
             0,
             "#0d0887"
            ],
            [
             0.1111111111111111,
             "#46039f"
            ],
            [
             0.2222222222222222,
             "#7201a8"
            ],
            [
             0.3333333333333333,
             "#9c179e"
            ],
            [
             0.4444444444444444,
             "#bd3786"
            ],
            [
             0.5555555555555556,
             "#d8576b"
            ],
            [
             0.6666666666666666,
             "#ed7953"
            ],
            [
             0.7777777777777778,
             "#fb9f3a"
            ],
            [
             0.8888888888888888,
             "#fdca26"
            ],
            [
             1,
             "#f0f921"
            ]
           ],
           "sequentialminus": [
            [
             0,
             "#0d0887"
            ],
            [
             0.1111111111111111,
             "#46039f"
            ],
            [
             0.2222222222222222,
             "#7201a8"
            ],
            [
             0.3333333333333333,
             "#9c179e"
            ],
            [
             0.4444444444444444,
             "#bd3786"
            ],
            [
             0.5555555555555556,
             "#d8576b"
            ],
            [
             0.6666666666666666,
             "#ed7953"
            ],
            [
             0.7777777777777778,
             "#fb9f3a"
            ],
            [
             0.8888888888888888,
             "#fdca26"
            ],
            [
             1,
             "#f0f921"
            ]
           ]
          },
          "colorway": [
           "#636efa",
           "#EF553B",
           "#00cc96",
           "#ab63fa",
           "#FFA15A",
           "#19d3f3",
           "#FF6692",
           "#B6E880",
           "#FF97FF",
           "#FECB52"
          ],
          "font": {
           "color": "#2a3f5f"
          },
          "geo": {
           "bgcolor": "white",
           "lakecolor": "white",
           "landcolor": "#E5ECF6",
           "showlakes": true,
           "showland": true,
           "subunitcolor": "white"
          },
          "hoverlabel": {
           "align": "left"
          },
          "hovermode": "closest",
          "mapbox": {
           "style": "light"
          },
          "paper_bgcolor": "white",
          "plot_bgcolor": "#E5ECF6",
          "polar": {
           "angularaxis": {
            "gridcolor": "white",
            "linecolor": "white",
            "ticks": ""
           },
           "bgcolor": "#E5ECF6",
           "radialaxis": {
            "gridcolor": "white",
            "linecolor": "white",
            "ticks": ""
           }
          },
          "scene": {
           "xaxis": {
            "backgroundcolor": "#E5ECF6",
            "gridcolor": "white",
            "gridwidth": 2,
            "linecolor": "white",
            "showbackground": true,
            "ticks": "",
            "zerolinecolor": "white"
           },
           "yaxis": {
            "backgroundcolor": "#E5ECF6",
            "gridcolor": "white",
            "gridwidth": 2,
            "linecolor": "white",
            "showbackground": true,
            "ticks": "",
            "zerolinecolor": "white"
           },
           "zaxis": {
            "backgroundcolor": "#E5ECF6",
            "gridcolor": "white",
            "gridwidth": 2,
            "linecolor": "white",
            "showbackground": true,
            "ticks": "",
            "zerolinecolor": "white"
           }
          },
          "shapedefaults": {
           "line": {
            "color": "#2a3f5f"
           }
          },
          "ternary": {
           "aaxis": {
            "gridcolor": "white",
            "linecolor": "white",
            "ticks": ""
           },
           "baxis": {
            "gridcolor": "white",
            "linecolor": "white",
            "ticks": ""
           },
           "bgcolor": "#E5ECF6",
           "caxis": {
            "gridcolor": "white",
            "linecolor": "white",
            "ticks": ""
           }
          },
          "title": {
           "x": 0.05
          },
          "xaxis": {
           "automargin": true,
           "gridcolor": "white",
           "linecolor": "white",
           "ticks": "",
           "title": {
            "standoff": 15
           },
           "zerolinecolor": "white",
           "zerolinewidth": 2
          },
          "yaxis": {
           "automargin": true,
           "gridcolor": "white",
           "linecolor": "white",
           "ticks": "",
           "title": {
            "standoff": 15
           },
           "zerolinecolor": "white",
           "zerolinewidth": 2
          }
         }
        },
        "title": {
         "font": {
          "size": 20
         },
         "text": "Top Ranking Bias During Exploration of Political Committee Data",
         "x": 0.5,
         "xanchor": "center",
         "yanchor": "top"
        },
        "width": 1500,
        "xaxis": {
         "anchor": "y",
         "domain": [
          0,
          0.235
         ],
         "nticks": 8,
         "range": [
          1,
          16
         ],
         "title": {
          "font": {
           "size": 20
          },
          "text": "Interactions Observed"
         },
         "type": "linear"
        },
        "xaxis10": {
         "anchor": "y10",
         "domain": [
          0.255,
          0.49
         ],
         "matches": "x",
         "nticks": 8,
         "range": [
          1,
          16
         ],
         "showticklabels": false,
         "title": {
          "font": {
           "size": 12
          }
         },
         "type": "linear"
        },
        "xaxis11": {
         "anchor": "y11",
         "domain": [
          0.51,
          0.745
         ],
         "matches": "x",
         "nticks": 8,
         "range": [
          1,
          16
         ],
         "showticklabels": false,
         "title": {
          "font": {
           "size": 12
          }
         },
         "type": "linear"
        },
        "xaxis12": {
         "anchor": "y12",
         "domain": [
          0.7649999999999999,
          0.9999999999999999
         ],
         "matches": "x",
         "nticks": 8,
         "range": [
          1,
          16
         ],
         "showticklabels": false,
         "title": {
          "font": {
           "size": 12
          }
         },
         "type": "linear"
        },
        "xaxis2": {
         "anchor": "y2",
         "domain": [
          0.255,
          0.49
         ],
         "matches": "x",
         "nticks": 8,
         "range": [
          1,
          16
         ],
         "title": {
          "font": {
           "size": 20
          },
          "text": "Interactions Observed"
         },
         "type": "linear"
        },
        "xaxis3": {
         "anchor": "y3",
         "domain": [
          0.51,
          0.745
         ],
         "matches": "x",
         "nticks": 8,
         "range": [
          1,
          16
         ],
         "title": {
          "font": {
           "size": 20
          },
          "text": "Interactions Observed"
         },
         "type": "linear"
        },
        "xaxis4": {
         "anchor": "y4",
         "domain": [
          0.7649999999999999,
          0.9999999999999999
         ],
         "matches": "x",
         "nticks": 8,
         "range": [
          1,
          16
         ],
         "title": {
          "font": {
           "size": 20
          },
          "text": "Interactions Observed"
         },
         "type": "linear"
        },
        "xaxis5": {
         "anchor": "y5",
         "domain": [
          0,
          0.235
         ],
         "matches": "x",
         "nticks": 8,
         "range": [
          1,
          16
         ],
         "showticklabels": false,
         "title": {
          "font": {
           "size": 12
          }
         },
         "type": "linear"
        },
        "xaxis6": {
         "anchor": "y6",
         "domain": [
          0.255,
          0.49
         ],
         "matches": "x",
         "nticks": 8,
         "range": [
          1,
          16
         ],
         "showticklabels": false,
         "title": {
          "font": {
           "size": 12
          }
         },
         "type": "linear"
        },
        "xaxis7": {
         "anchor": "y7",
         "domain": [
          0.51,
          0.745
         ],
         "matches": "x",
         "nticks": 8,
         "range": [
          1,
          16
         ],
         "showticklabels": false,
         "title": {
          "font": {
           "size": 12
          }
         },
         "type": "linear"
        },
        "xaxis8": {
         "anchor": "y8",
         "domain": [
          0.7649999999999999,
          0.9999999999999999
         ],
         "matches": "x",
         "nticks": 8,
         "range": [
          1,
          16
         ],
         "showticklabels": false,
         "title": {
          "font": {
           "size": 12
          }
         },
         "type": "linear"
        },
        "xaxis9": {
         "anchor": "y9",
         "domain": [
          0,
          0.235
         ],
         "matches": "x",
         "nticks": 8,
         "range": [
          1,
          16
         ],
         "showticklabels": false,
         "title": {
          "font": {
           "size": 12
          }
         },
         "type": "linear"
        },
        "yaxis": {
         "anchor": "x",
         "autorange": true,
         "categoryarray": [
          "AD    ",
          "HMM",
          "AC",
          "CM",
          "ENS"
         ],
         "categoryorder": "array",
         "domain": [
          0,
          0.2866666666666666
         ],
         "title": {
          "text": ""
         }
        },
        "yaxis10": {
         "anchor": "x10",
         "categoryarray": [
          "AD    ",
          "HMM",
          "AC",
          "CM",
          "ENS"
         ],
         "categoryorder": "array",
         "domain": [
          0.7133333333333333,
          0.9999999999999999
         ],
         "matches": "y",
         "showticklabels": false
        },
        "yaxis11": {
         "anchor": "x11",
         "categoryarray": [
          "AD    ",
          "HMM",
          "AC",
          "CM",
          "ENS"
         ],
         "categoryorder": "array",
         "domain": [
          0.7133333333333333,
          0.9999999999999999
         ],
         "matches": "y",
         "showticklabels": false
        },
        "yaxis12": {
         "anchor": "x12",
         "categoryarray": [
          "AD    ",
          "HMM",
          "AC",
          "CM",
          "ENS"
         ],
         "categoryorder": "array",
         "domain": [
          0.7133333333333333,
          0.9999999999999999
         ],
         "matches": "y",
         "showticklabels": false
        },
        "yaxis2": {
         "anchor": "x2",
         "categoryarray": [
          "AD    ",
          "HMM",
          "AC",
          "CM",
          "ENS"
         ],
         "categoryorder": "array",
         "domain": [
          0,
          0.2866666666666666
         ],
         "matches": "y",
         "showticklabels": false
        },
        "yaxis3": {
         "anchor": "x3",
         "categoryarray": [
          "AD    ",
          "HMM",
          "AC",
          "CM",
          "ENS"
         ],
         "categoryorder": "array",
         "domain": [
          0,
          0.2866666666666666
         ],
         "matches": "y",
         "showticklabels": false
        },
        "yaxis4": {
         "anchor": "x4",
         "categoryarray": [
          "AD    ",
          "HMM",
          "AC",
          "CM",
          "ENS"
         ],
         "categoryorder": "array",
         "domain": [
          0,
          0.2866666666666666
         ],
         "matches": "y",
         "showticklabels": false
        },
        "yaxis5": {
         "anchor": "x5",
         "categoryarray": [
          "AD    ",
          "HMM",
          "AC",
          "CM",
          "ENS"
         ],
         "categoryorder": "array",
         "domain": [
          0.35666666666666663,
          0.6433333333333333
         ],
         "matches": "y",
         "title": {
          "text": ""
         }
        },
        "yaxis6": {
         "anchor": "x6",
         "categoryarray": [
          "AD    ",
          "HMM",
          "AC",
          "CM",
          "ENS"
         ],
         "categoryorder": "array",
         "domain": [
          0.35666666666666663,
          0.6433333333333333
         ],
         "matches": "y",
         "showticklabels": false
        },
        "yaxis7": {
         "anchor": "x7",
         "categoryarray": [
          "AD    ",
          "HMM",
          "AC",
          "CM",
          "ENS"
         ],
         "categoryorder": "array",
         "domain": [
          0.35666666666666663,
          0.6433333333333333
         ],
         "matches": "y",
         "showticklabels": false
        },
        "yaxis8": {
         "anchor": "x8",
         "categoryarray": [
          "AD    ",
          "HMM",
          "AC",
          "CM",
          "ENS"
         ],
         "categoryorder": "array",
         "domain": [
          0.35666666666666663,
          0.6433333333333333
         ],
         "matches": "y",
         "showticklabels": false
        },
        "yaxis9": {
         "anchor": "x9",
         "categoryarray": [
          "AD    ",
          "HMM",
          "AC",
          "CM",
          "ENS"
         ],
         "categoryorder": "array",
         "domain": [
          0.7133333333333333,
          0.9999999999999999
         ],
         "matches": "y",
         "title": {
          "text": ""
         }
        }
       }
      },
      "text/html": [
       "<div>                            <div id=\"c74bd525-21f1-41a0-9f7a-3100a682a277\" class=\"plotly-graph-div\" style=\"height:700px; width:1500px;\"></div>            <script type=\"text/javascript\">                require([\"plotly\"], function(Plotly) {                    window.PLOTLYENV=window.PLOTLYENV || {};                                    if (document.getElementById(\"c74bd525-21f1-41a0-9f7a-3100a682a277\")) {                    Plotly.newPlot(                        \"c74bd525-21f1-41a0-9f7a-3100a682a277\",                        [{\"alignmentgroup\":\"True\",\"base\":[1,6,1,5,1,2,1],\"hovertemplate\":\"top_bias=age<br>user=Alfa<br>start=%{base}<br>stop=%{x}<br>=%{y}<br>bias_value=%{text}<extra></extra>\",\"legendgroup\":\"age\",\"marker\":{\"color\":\"#636efa\",\"pattern\":{\"shape\":\"\"},\"opacity\":[0.94,0.76,0.56,0.63,0.83,0.66,0.5]},\"name\":\"age\",\"offsetgroup\":\"age\",\"orientation\":\"h\",\"showlegend\":true,\"text\":\"\",\"textposition\":\"auto\",\"x\":[1,1,1,1,1,1,1],\"xaxis\":\"x9\",\"y\":[\"AD    \",\"AD    \",\"HMM\",\"HMM\",\"AC\",\"AC\",\"ENS\"],\"yaxis\":\"y9\",\"type\":\"bar\",\"textfont\":{\"size\":4},\"textangle\":0},{\"alignmentgroup\":\"True\",\"base\":[1,2,3,13,14,1],\"hovertemplate\":\"top_bias=age<br>user=Bravo<br>start=%{base}<br>stop=%{x}<br>=%{y}<br>bias_value=%{text}<extra></extra>\",\"legendgroup\":\"age\",\"marker\":{\"color\":\"#636efa\",\"pattern\":{\"shape\":\"\"},\"opacity\":[0.6,0.58,0.6,0.23,0.23,0.4]},\"name\":\"age\",\"offsetgroup\":\"age\",\"orientation\":\"h\",\"showlegend\":false,\"text\":\"\",\"textposition\":\"auto\",\"x\":[1,1,1,1,1,1],\"xaxis\":\"x10\",\"y\":[\"AD    \",\"HMM\",\"HMM\",\"AC\",\"AC\",\"ENS\"],\"yaxis\":\"y10\",\"type\":\"bar\",\"textfont\":{\"size\":4},\"textangle\":0},{\"alignmentgroup\":\"True\",\"base\":[5,8,8,9,10],\"hovertemplate\":\"top_bias=age<br>user=Charlie<br>start=%{base}<br>stop=%{x}<br>=%{y}<br>bias_value=%{text}<extra></extra>\",\"legendgroup\":\"age\",\"marker\":{\"color\":\"#636efa\",\"pattern\":{\"shape\":\"\"},\"opacity\":[0.69,0.68,0.32,0.28,0.27]},\"name\":\"age\",\"offsetgroup\":\"age\",\"orientation\":\"h\",\"showlegend\":false,\"text\":\"\",\"textposition\":\"auto\",\"x\":[1,1,1,1,1],\"xaxis\":\"x11\",\"y\":[\"AD    \",\"AD    \",\"AC\",\"AC\",\"AC\"],\"yaxis\":\"y11\",\"type\":\"bar\",\"textfont\":{\"size\":4},\"textangle\":0},{\"alignmentgroup\":\"True\",\"base\":[1,3],\"hovertemplate\":\"top_bias=age<br>user=Delta<br>start=%{base}<br>stop=%{x}<br>=%{y}<br>bias_value=%{text}<extra></extra>\",\"legendgroup\":\"age\",\"marker\":{\"color\":\"#636efa\",\"pattern\":{\"shape\":\"\"},\"opacity\":[0.47,0.65]},\"name\":\"age\",\"offsetgroup\":\"age\",\"orientation\":\"h\",\"showlegend\":false,\"text\":\"\",\"textposition\":\"auto\",\"x\":[1,1],\"xaxis\":\"x12\",\"y\":[\"AD    \",\"AC\"],\"yaxis\":\"y12\",\"type\":\"bar\",\"textfont\":{\"size\":4},\"textangle\":0},{\"alignmentgroup\":\"True\",\"base\":[2,3,4,6,2,2],\"hovertemplate\":\"top_bias=age<br>user=Echo<br>start=%{base}<br>stop=%{x}<br>=%{y}<br>bias_value=%{text}<extra></extra>\",\"legendgroup\":\"age\",\"marker\":{\"color\":\"#636efa\",\"pattern\":{\"shape\":\"\"},\"opacity\":[0.7,0.65,0.65,0.46,0.59,0.46]},\"name\":\"age\",\"offsetgroup\":\"age\",\"orientation\":\"h\",\"showlegend\":false,\"text\":\"\",\"textposition\":\"auto\",\"x\":[1,1,1,1,1,1],\"xaxis\":\"x5\",\"y\":[\"AC\",\"AC\",\"AC\",\"AC\",\"CM\",\"ENS\"],\"yaxis\":\"y5\",\"type\":\"bar\",\"textfont\":{\"size\":4},\"textangle\":0},{\"alignmentgroup\":\"True\",\"base\":[3,11,8,11],\"hovertemplate\":\"top_bias=age<br>user=Foxtrot<br>start=%{base}<br>stop=%{x}<br>=%{y}<br>bias_value=%{text}<extra></extra>\",\"legendgroup\":\"age\",\"marker\":{\"color\":\"#636efa\",\"pattern\":{\"shape\":\"\"},\"opacity\":[0.7,0.68,0.45,0.3]},\"name\":\"age\",\"offsetgroup\":\"age\",\"orientation\":\"h\",\"showlegend\":false,\"text\":\"\",\"textposition\":\"auto\",\"x\":[1,1,1,1],\"xaxis\":\"x6\",\"y\":[\"AD    \",\"AD    \",\"AC\",\"AC\"],\"yaxis\":\"y6\",\"type\":\"bar\",\"textfont\":{\"size\":4},\"textangle\":0},{\"alignmentgroup\":\"True\",\"base\":[1,5,7,1,2,1],\"hovertemplate\":\"top_bias=age<br>user=Golf<br>start=%{base}<br>stop=%{x}<br>=%{y}<br>bias_value=%{text}<extra></extra>\",\"legendgroup\":\"age\",\"marker\":{\"color\":\"#636efa\",\"pattern\":{\"shape\":\"\"},\"opacity\":[0.76,0.66,0.39,0.81,0.64,0.44]},\"name\":\"age\",\"offsetgroup\":\"age\",\"orientation\":\"h\",\"showlegend\":false,\"text\":\"\",\"textposition\":\"auto\",\"x\":[1,1,1,1,1,1],\"xaxis\":\"x7\",\"y\":[\"AD    \",\"AD    \",\"AD    \",\"AC\",\"AC\",\"ENS\"],\"yaxis\":\"y7\",\"type\":\"bar\",\"textfont\":{\"size\":4},\"textangle\":0},{\"alignmentgroup\":\"True\",\"base\":[3,4,6,7,8,4],\"hovertemplate\":\"top_bias=age<br>user=Hotel<br>start=%{base}<br>stop=%{x}<br>=%{y}<br>bias_value=%{text}<extra></extra>\",\"legendgroup\":\"age\",\"marker\":{\"color\":\"#636efa\",\"pattern\":{\"shape\":\"\"},\"opacity\":[0.85,0.89,0.76,0.87,0.65,0.46]},\"name\":\"age\",\"offsetgroup\":\"age\",\"orientation\":\"h\",\"showlegend\":false,\"text\":\"\",\"textposition\":\"auto\",\"x\":[1,1,1,1,1,1],\"xaxis\":\"x8\",\"y\":[\"AD    \",\"AD    \",\"AD    \",\"AD    \",\"AD    \",\"AC\"],\"yaxis\":\"y8\",\"type\":\"bar\",\"textfont\":{\"size\":4},\"textangle\":0},{\"alignmentgroup\":\"True\",\"base\":[1,1,3,4,5,1],\"hovertemplate\":\"top_bias=age<br>user=India<br>start=%{base}<br>stop=%{x}<br>=%{y}<br>bias_value=%{text}<extra></extra>\",\"legendgroup\":\"age\",\"marker\":{\"color\":\"#636efa\",\"pattern\":{\"shape\":\"\"},\"opacity\":[0.79,0.82,0.64,0.65,0.51,0.45]},\"name\":\"age\",\"offsetgroup\":\"age\",\"orientation\":\"h\",\"showlegend\":false,\"text\":\"\",\"textposition\":\"auto\",\"x\":[1,1,1,1,1,1],\"xaxis\":\"x\",\"y\":[\"AD    \",\"AC\",\"AC\",\"AC\",\"AC\",\"ENS\"],\"yaxis\":\"y\",\"type\":\"bar\",\"textfont\":{\"size\":4},\"textangle\":0},{\"alignmentgroup\":\"True\",\"base\":[1,10,4,1],\"hovertemplate\":\"top_bias=age<br>user=Juliett<br>start=%{base}<br>stop=%{x}<br>=%{y}<br>bias_value=%{text}<extra></extra>\",\"legendgroup\":\"age\",\"marker\":{\"color\":\"#636efa\",\"pattern\":{\"shape\":\"\"},\"opacity\":[0.6,0.96,0.59,0.4]},\"name\":\"age\",\"offsetgroup\":\"age\",\"orientation\":\"h\",\"showlegend\":false,\"text\":\"\",\"textposition\":\"auto\",\"x\":[1,1,1,1],\"xaxis\":\"x2\",\"y\":[\"AD    \",\"AD    \",\"HMM\",\"ENS\"],\"yaxis\":\"y2\",\"type\":\"bar\",\"textfont\":{\"size\":4},\"textangle\":0},{\"alignmentgroup\":\"True\",\"base\":[6,7],\"hovertemplate\":\"top_bias=age<br>user=Kilo<br>start=%{base}<br>stop=%{x}<br>=%{y}<br>bias_value=%{text}<extra></extra>\",\"legendgroup\":\"age\",\"marker\":{\"color\":\"#636efa\",\"pattern\":{\"shape\":\"\"},\"opacity\":[0.46,0.45]},\"name\":\"age\",\"offsetgroup\":\"age\",\"orientation\":\"h\",\"showlegend\":false,\"text\":\"\",\"textposition\":\"auto\",\"x\":[1,1],\"xaxis\":\"x3\",\"y\":[\"AC\",\"AC\"],\"yaxis\":\"y3\",\"type\":\"bar\",\"textfont\":{\"size\":4},\"textangle\":0},{\"alignmentgroup\":\"True\",\"base\":[1,2,3,4,2,3,4,2,3,1],\"hovertemplate\":\"top_bias=age<br>user=Lima<br>start=%{base}<br>stop=%{x}<br>=%{y}<br>bias_value=%{text}<extra></extra>\",\"legendgroup\":\"age\",\"marker\":{\"color\":\"#636efa\",\"pattern\":{\"shape\":\"\"},\"opacity\":[0.7,0.86,0.96,0.78,0.57,0.6,0.61,0.72,0.64,0.43]},\"name\":\"age\",\"offsetgroup\":\"age\",\"orientation\":\"h\",\"showlegend\":false,\"text\":\"\",\"textposition\":\"auto\",\"x\":[1,1,1,1,1,1,1,1,1,1],\"xaxis\":\"x4\",\"y\":[\"AD    \",\"AD    \",\"AD    \",\"AD    \",\"HMM\",\"HMM\",\"HMM\",\"AC\",\"AC\",\"ENS\"],\"yaxis\":\"y4\",\"type\":\"bar\",\"textfont\":{\"size\":4},\"textangle\":0},{\"alignmentgroup\":\"True\",\"base\":[2,3,4,6,7,8,9],\"hovertemplate\":\"top_bias=alcohol<br>user=Alfa<br>start=%{base}<br>stop=%{x}<br>=%{y}<br>bias_value=%{text}<extra></extra>\",\"legendgroup\":\"alcohol\",\"marker\":{\"color\":\"#EF553B\",\"pattern\":{\"shape\":\"\"},\"opacity\":[0.78,0.58,0.61,0.66,0.71,0.71,0.71]},\"name\":\"alcohol\",\"offsetgroup\":\"alcohol\",\"orientation\":\"h\",\"showlegend\":true,\"text\":\"\",\"textposition\":\"auto\",\"x\":[1,1,1,1,1,1,1],\"xaxis\":\"x9\",\"y\":[\"AD    \",\"HMM\",\"HMM\",\"HMM\",\"HMM\",\"HMM\",\"HMM\"],\"yaxis\":\"y9\",\"type\":\"bar\",\"textfont\":{\"size\":4},\"textangle\":0},{\"alignmentgroup\":\"True\",\"base\":[7,8,10],\"hovertemplate\":\"top_bias=alcohol<br>user=Charlie<br>start=%{base}<br>stop=%{x}<br>=%{y}<br>bias_value=%{text}<extra></extra>\",\"legendgroup\":\"alcohol\",\"marker\":{\"color\":\"#EF553B\",\"pattern\":{\"shape\":\"\"},\"opacity\":[0.65,0.67,0.67]},\"name\":\"alcohol\",\"offsetgroup\":\"alcohol\",\"orientation\":\"h\",\"showlegend\":false,\"text\":\"\",\"textposition\":\"auto\",\"x\":[1,1,1],\"xaxis\":\"x11\",\"y\":[\"HMM\",\"HMM\",\"HMM\"],\"yaxis\":\"y11\",\"type\":\"bar\",\"textfont\":{\"size\":4},\"textangle\":0},{\"alignmentgroup\":\"True\",\"base\":[6,7,8,9],\"hovertemplate\":\"top_bias=alcohol<br>user=Delta<br>start=%{base}<br>stop=%{x}<br>=%{y}<br>bias_value=%{text}<extra></extra>\",\"legendgroup\":\"alcohol\",\"marker\":{\"color\":\"#EF553B\",\"pattern\":{\"shape\":\"\"},\"opacity\":[0.74,0.67,0.68,0.67]},\"name\":\"alcohol\",\"offsetgroup\":\"alcohol\",\"orientation\":\"h\",\"showlegend\":false,\"text\":\"\",\"textposition\":\"auto\",\"x\":[1,1,1,1],\"xaxis\":\"x12\",\"y\":[\"AD    \",\"HMM\",\"HMM\",\"HMM\"],\"yaxis\":\"y12\",\"type\":\"bar\",\"textfont\":{\"size\":4},\"textangle\":0},{\"alignmentgroup\":\"True\",\"base\":[7,8,1,8],\"hovertemplate\":\"top_bias=alcohol<br>user=Echo<br>start=%{base}<br>stop=%{x}<br>=%{y}<br>bias_value=%{text}<extra></extra>\",\"legendgroup\":\"alcohol\",\"marker\":{\"color\":\"#EF553B\",\"pattern\":{\"shape\":\"\"},\"opacity\":[0.86,0.92,0.56,0.69]},\"name\":\"alcohol\",\"offsetgroup\":\"alcohol\",\"orientation\":\"h\",\"showlegend\":false,\"text\":\"\",\"textposition\":\"auto\",\"x\":[1,1,1,1],\"xaxis\":\"x5\",\"y\":[\"AD    \",\"AD    \",\"HMM\",\"HMM\"],\"yaxis\":\"y5\",\"type\":\"bar\",\"textfont\":{\"size\":4},\"textangle\":0},{\"alignmentgroup\":\"True\",\"base\":[7,7,8,9,9,10,1],\"hovertemplate\":\"top_bias=alcohol<br>user=Foxtrot<br>start=%{base}<br>stop=%{x}<br>=%{y}<br>bias_value=%{text}<extra></extra>\",\"legendgroup\":\"alcohol\",\"marker\":{\"color\":\"#EF553B\",\"pattern\":{\"shape\":\"\"},\"opacity\":[0.63,0.66,0.72,0.73,0.37,0.3,0.4]},\"name\":\"alcohol\",\"offsetgroup\":\"alcohol\",\"orientation\":\"h\",\"showlegend\":false,\"text\":\"\",\"textposition\":\"auto\",\"x\":[1,1,1,1,1,1,1],\"xaxis\":\"x6\",\"y\":[\"AD    \",\"HMM\",\"HMM\",\"HMM\",\"AC\",\"AC\",\"ENS\"],\"yaxis\":\"y6\",\"type\":\"bar\",\"textfont\":{\"size\":4},\"textangle\":0},{\"alignmentgroup\":\"True\",\"base\":[2,2],\"hovertemplate\":\"top_bias=alcohol<br>user=Hotel<br>start=%{base}<br>stop=%{x}<br>=%{y}<br>bias_value=%{text}<extra></extra>\",\"legendgroup\":\"alcohol\",\"marker\":{\"color\":\"#EF553B\",\"pattern\":{\"shape\":\"\"},\"opacity\":[0.82,0.46]},\"name\":\"alcohol\",\"offsetgroup\":\"alcohol\",\"orientation\":\"h\",\"showlegend\":false,\"text\":\"\",\"textposition\":\"auto\",\"x\":[1,1],\"xaxis\":\"x8\",\"y\":[\"AD    \",\"ENS\"],\"yaxis\":\"y8\",\"type\":\"bar\",\"textfont\":{\"size\":4},\"textangle\":0},{\"alignmentgroup\":\"True\",\"base\":[4,1,2,3,4,5,6,7,8,9,10,11,12,13],\"hovertemplate\":\"top_bias=alcohol<br>user=India<br>start=%{base}<br>stop=%{x}<br>=%{y}<br>bias_value=%{text}<extra></extra>\",\"legendgroup\":\"alcohol\",\"marker\":{\"color\":\"#EF553B\",\"pattern\":{\"shape\":\"\"},\"opacity\":[0.66,0.55,0.58,0.59,0.59,0.62,0.63,0.64,0.67,0.68,0.69,0.71,0.7,0.7]},\"name\":\"alcohol\",\"offsetgroup\":\"alcohol\",\"orientation\":\"h\",\"showlegend\":false,\"text\":\"\",\"textposition\":\"auto\",\"x\":[1,1,1,1,1,1,1,1,1,1,1,1,1,1],\"xaxis\":\"x\",\"y\":[\"AD    \",\"HMM\",\"HMM\",\"HMM\",\"HMM\",\"HMM\",\"HMM\",\"HMM\",\"HMM\",\"HMM\",\"HMM\",\"HMM\",\"HMM\",\"HMM\"],\"yaxis\":\"y\",\"type\":\"bar\",\"textfont\":{\"size\":4},\"textangle\":0},{\"alignmentgroup\":\"True\",\"base\":[5,7,8,9,10,1],\"hovertemplate\":\"top_bias=alcohol<br>user=Juliett<br>start=%{base}<br>stop=%{x}<br>=%{y}<br>bias_value=%{text}<extra></extra>\",\"legendgroup\":\"alcohol\",\"marker\":{\"color\":\"#EF553B\",\"pattern\":{\"shape\":\"\"},\"opacity\":[0.63,0.67,0.69,0.72,0.7,0.74]},\"name\":\"alcohol\",\"offsetgroup\":\"alcohol\",\"orientation\":\"h\",\"showlegend\":false,\"text\":\"\",\"textposition\":\"auto\",\"x\":[1,1,1,1,1,1],\"xaxis\":\"x2\",\"y\":[\"HMM\",\"HMM\",\"HMM\",\"HMM\",\"HMM\",\"AC\"],\"yaxis\":\"y2\",\"type\":\"bar\",\"textfont\":{\"size\":4},\"textangle\":0},{\"alignmentgroup\":\"True\",\"base\":[3],\"hovertemplate\":\"top_bias=political_experience<br>user=Alfa<br>start=%{base}<br>stop=%{x}<br>=%{y}<br>bias_value=%{text}<extra></extra>\",\"legendgroup\":\"political_experience\",\"marker\":{\"color\":\"#00cc96\",\"pattern\":{\"shape\":\"\"},\"opacity\":[0.6]},\"name\":\"political_experience\",\"offsetgroup\":\"political_experience\",\"orientation\":\"h\",\"showlegend\":true,\"text\":\"\",\"textposition\":\"auto\",\"x\":[1],\"xaxis\":\"x9\",\"y\":[\"AD    \"],\"yaxis\":\"y9\",\"type\":\"bar\",\"textfont\":{\"size\":4},\"textangle\":0},{\"alignmentgroup\":\"True\",\"base\":[4],\"hovertemplate\":\"top_bias=political_experience<br>user=Bravo<br>start=%{base}<br>stop=%{x}<br>=%{y}<br>bias_value=%{text}<extra></extra>\",\"legendgroup\":\"political_experience\",\"marker\":{\"color\":\"#00cc96\",\"pattern\":{\"shape\":\"\"},\"opacity\":[0.51]},\"name\":\"political_experience\",\"offsetgroup\":\"political_experience\",\"orientation\":\"h\",\"showlegend\":false,\"text\":\"\",\"textposition\":\"auto\",\"x\":[1],\"xaxis\":\"x10\",\"y\":[\"AD    \"],\"yaxis\":\"y10\",\"type\":\"bar\",\"textfont\":{\"size\":4},\"textangle\":0},{\"alignmentgroup\":\"True\",\"base\":[4,6,7,4,6,3,4,6,7],\"hovertemplate\":\"top_bias=political_experience<br>user=Charlie<br>start=%{base}<br>stop=%{x}<br>=%{y}<br>bias_value=%{text}<extra></extra>\",\"legendgroup\":\"political_experience\",\"marker\":{\"color\":\"#00cc96\",\"pattern\":{\"shape\":\"\"},\"opacity\":[0.51,0.73,0.8,0.6,0.64,0.59,0.59,0.4,0.36]},\"name\":\"political_experience\",\"offsetgroup\":\"political_experience\",\"orientation\":\"h\",\"showlegend\":false,\"text\":\"\",\"textposition\":\"auto\",\"x\":[1,1,1,1,1,1,1,1,1],\"xaxis\":\"x11\",\"y\":[\"AD    \",\"AD    \",\"AD    \",\"HMM\",\"HMM\",\"AC\",\"AC\",\"AC\",\"AC\"],\"yaxis\":\"y11\",\"type\":\"bar\",\"textfont\":{\"size\":4},\"textangle\":0},{\"alignmentgroup\":\"True\",\"base\":[3,4,5,2,4,5],\"hovertemplate\":\"top_bias=political_experience<br>user=Delta<br>start=%{base}<br>stop=%{x}<br>=%{y}<br>bias_value=%{text}<extra></extra>\",\"legendgroup\":\"political_experience\",\"marker\":{\"color\":\"#00cc96\",\"pattern\":{\"shape\":\"\"},\"opacity\":[0.6,0.76,0.84,0.66,0.53,0.53]},\"name\":\"political_experience\",\"offsetgroup\":\"political_experience\",\"orientation\":\"h\",\"showlegend\":false,\"text\":\"\",\"textposition\":\"auto\",\"x\":[1,1,1,1,1,1],\"xaxis\":\"x12\",\"y\":[\"AD    \",\"AD    \",\"AD    \",\"AC\",\"AC\",\"AC\"],\"yaxis\":\"y12\",\"type\":\"bar\",\"textfont\":{\"size\":4},\"textangle\":0},{\"alignmentgroup\":\"True\",\"base\":[2,9],\"hovertemplate\":\"top_bias=political_experience<br>user=Echo<br>start=%{base}<br>stop=%{x}<br>=%{y}<br>bias_value=%{text}<extra></extra>\",\"legendgroup\":\"political_experience\",\"marker\":{\"color\":\"#00cc96\",\"pattern\":{\"shape\":\"\"},\"opacity\":[0.76,0.95]},\"name\":\"political_experience\",\"offsetgroup\":\"political_experience\",\"orientation\":\"h\",\"showlegend\":false,\"text\":\"\",\"textposition\":\"auto\",\"x\":[1,1],\"xaxis\":\"x5\",\"y\":[\"AD    \",\"AD    \"],\"yaxis\":\"y5\",\"type\":\"bar\",\"textfont\":{\"size\":4},\"textangle\":0},{\"alignmentgroup\":\"True\",\"base\":[2,4,5,3,4,5],\"hovertemplate\":\"top_bias=political_experience<br>user=Foxtrot<br>start=%{base}<br>stop=%{x}<br>=%{y}<br>bias_value=%{text}<extra></extra>\",\"legendgroup\":\"political_experience\",\"marker\":{\"color\":\"#00cc96\",\"pattern\":{\"shape\":\"\"},\"opacity\":[0.54,0.84,0.9,0.63,0.56,0.57]},\"name\":\"political_experience\",\"offsetgroup\":\"political_experience\",\"orientation\":\"h\",\"showlegend\":false,\"text\":\"\",\"textposition\":\"auto\",\"x\":[1,1,1,1,1,1],\"xaxis\":\"x6\",\"y\":[\"AD    \",\"AD    \",\"AD    \",\"AC\",\"AC\",\"AC\"],\"yaxis\":\"y6\",\"type\":\"bar\",\"textfont\":{\"size\":4},\"textangle\":0},{\"alignmentgroup\":\"True\",\"base\":[2,2,2],\"hovertemplate\":\"top_bias=political_experience<br>user=Golf<br>start=%{base}<br>stop=%{x}<br>=%{y}<br>bias_value=%{text}<extra></extra>\",\"legendgroup\":\"political_experience\",\"marker\":{\"color\":\"#00cc96\",\"pattern\":{\"shape\":\"\"},\"opacity\":[0.54,0.61,0.42]},\"name\":\"political_experience\",\"offsetgroup\":\"political_experience\",\"orientation\":\"h\",\"showlegend\":false,\"text\":\"\",\"textposition\":\"auto\",\"x\":[1,1,1],\"xaxis\":\"x7\",\"y\":[\"AD    \",\"CM\",\"ENS\"],\"yaxis\":\"y7\",\"type\":\"bar\",\"textfont\":{\"size\":4},\"textangle\":0},{\"alignmentgroup\":\"True\",\"base\":[5,2,6,2,3],\"hovertemplate\":\"top_bias=political_experience<br>user=Hotel<br>start=%{base}<br>stop=%{x}<br>=%{y}<br>bias_value=%{text}<extra></extra>\",\"legendgroup\":\"political_experience\",\"marker\":{\"color\":\"#00cc96\",\"pattern\":{\"shape\":\"\"},\"opacity\":[0.64,0.66,0.37,0.63,0.61]},\"name\":\"political_experience\",\"offsetgroup\":\"political_experience\",\"orientation\":\"h\",\"showlegend\":false,\"text\":\"\",\"textposition\":\"auto\",\"x\":[1,1,1,1,1],\"xaxis\":\"x8\",\"y\":[\"AD    \",\"AC\",\"AC\",\"CM\",\"CM\"],\"yaxis\":\"y8\",\"type\":\"bar\",\"textfont\":{\"size\":4},\"textangle\":0},{\"alignmentgroup\":\"True\",\"base\":[2,3,7,8,9,10,11,12,13,2,2],\"hovertemplate\":\"top_bias=political_experience<br>user=India<br>start=%{base}<br>stop=%{x}<br>=%{y}<br>bias_value=%{text}<extra></extra>\",\"legendgroup\":\"political_experience\",\"marker\":{\"color\":\"#00cc96\",\"pattern\":{\"shape\":\"\"},\"opacity\":[0.91,0.56,0.74,0.56,0.8,0.67,0.53,0.76,0.66,0.74,0.42]},\"name\":\"political_experience\",\"offsetgroup\":\"political_experience\",\"orientation\":\"h\",\"showlegend\":false,\"text\":\"\",\"textposition\":\"auto\",\"x\":[1,1,1,1,1,1,1,1,1,1,1],\"xaxis\":\"x\",\"y\":[\"AD    \",\"AD    \",\"AD    \",\"AD    \",\"AD    \",\"AD    \",\"AD    \",\"AD    \",\"AD    \",\"AC\",\"ENS\"],\"yaxis\":\"y\",\"type\":\"bar\",\"textfont\":{\"size\":4},\"textangle\":0},{\"alignmentgroup\":\"True\",\"base\":[7,8,9],\"hovertemplate\":\"top_bias=political_experience<br>user=Juliett<br>start=%{base}<br>stop=%{x}<br>=%{y}<br>bias_value=%{text}<extra></extra>\",\"legendgroup\":\"political_experience\",\"marker\":{\"color\":\"#00cc96\",\"pattern\":{\"shape\":\"\"},\"opacity\":[0.45,0.45,0.46]},\"name\":\"political_experience\",\"offsetgroup\":\"political_experience\",\"orientation\":\"h\",\"showlegend\":false,\"text\":\"\",\"textposition\":\"auto\",\"x\":[1,1,1],\"xaxis\":\"x2\",\"y\":[\"AC\",\"AC\",\"AC\"],\"yaxis\":\"y2\",\"type\":\"bar\",\"textfont\":{\"size\":4},\"textangle\":0},{\"alignmentgroup\":\"True\",\"base\":[1,2,3,4,5,6,7,8,9,10,4,8,9,10,1],\"hovertemplate\":\"top_bias=political_experience<br>user=Kilo<br>start=%{base}<br>stop=%{x}<br>=%{y}<br>bias_value=%{text}<extra></extra>\",\"legendgroup\":\"political_experience\",\"marker\":{\"color\":\"#00cc96\",\"pattern\":{\"shape\":\"\"},\"opacity\":[0.61,0.54,0.7,0.84,0.64,0.73,0.8,0.87,0.92,0.91,0.59,0.44,0.44,0.4,0.41]},\"name\":\"political_experience\",\"offsetgroup\":\"political_experience\",\"orientation\":\"h\",\"showlegend\":false,\"text\":\"\",\"textposition\":\"auto\",\"x\":[1,1,1,1,1,1,1,1,1,1,1,1,1,1,1],\"xaxis\":\"x3\",\"y\":[\"AD    \",\"AD    \",\"AD    \",\"AD    \",\"AD    \",\"AD    \",\"AD    \",\"AD    \",\"AD    \",\"AD    \",\"AC\",\"AC\",\"AC\",\"AC\",\"ENS\"],\"yaxis\":\"y3\",\"type\":\"bar\",\"textfont\":{\"size\":4},\"textangle\":0},{\"alignmentgroup\":\"True\",\"base\":[4,5,7,8,10,4,5,4,5,10],\"hovertemplate\":\"top_bias=gender<br>user=Alfa<br>start=%{base}<br>stop=%{x}<br>=%{y}<br>bias_value=%{text}<extra></extra>\",\"legendgroup\":\"gender\",\"marker\":{\"color\":\"#ab63fa\",\"pattern\":{\"shape\":\"\"},\"opacity\":[0.69,0.68,0.54,0.53,0.44,0.42,0.42,0.52,0.52,0.52]},\"name\":\"gender\",\"offsetgroup\":\"gender\",\"orientation\":\"h\",\"showlegend\":true,\"text\":\"\",\"textposition\":\"auto\",\"x\":[1,1,1,1,1,1,1,1,1,1],\"xaxis\":\"x9\",\"y\":[\"AD    \",\"AD    \",\"AD    \",\"AD    \",\"AD    \",\"AC\",\"AC\",\"ENS\",\"ENS\",\"ENS\"],\"yaxis\":\"y9\",\"type\":\"bar\",\"textfont\":{\"size\":4},\"textangle\":0},{\"alignmentgroup\":\"True\",\"base\":[1,6,8,10,11,12,13,14],\"hovertemplate\":\"top_bias=gender<br>user=Bravo<br>start=%{base}<br>stop=%{x}<br>=%{y}<br>bias_value=%{text}<extra></extra>\",\"legendgroup\":\"gender\",\"marker\":{\"color\":\"#ab63fa\",\"pattern\":{\"shape\":\"\"},\"opacity\":[0.57,0.63,0.67,0.66,0.66,0.69,0.7,0.72]},\"name\":\"gender\",\"offsetgroup\":\"gender\",\"orientation\":\"h\",\"showlegend\":false,\"text\":\"\",\"textposition\":\"auto\",\"x\":[1,1,1,1,1,1,1,1],\"xaxis\":\"x10\",\"y\":[\"HMM\",\"HMM\",\"HMM\",\"HMM\",\"HMM\",\"HMM\",\"HMM\",\"HMM\"],\"yaxis\":\"y10\",\"type\":\"bar\",\"textfont\":{\"size\":4},\"textangle\":0},{\"alignmentgroup\":\"True\",\"base\":[2,8],\"hovertemplate\":\"top_bias=gender<br>user=Charlie<br>start=%{base}<br>stop=%{x}<br>=%{y}<br>bias_value=%{text}<extra></extra>\",\"legendgroup\":\"gender\",\"marker\":{\"color\":\"#ab63fa\",\"pattern\":{\"shape\":\"\"},\"opacity\":[0.64,0.44]},\"name\":\"gender\",\"offsetgroup\":\"gender\",\"orientation\":\"h\",\"showlegend\":false,\"text\":\"\",\"textposition\":\"auto\",\"x\":[1,1],\"xaxis\":\"x11\",\"y\":[\"CM\",\"ENS\"],\"yaxis\":\"y11\",\"type\":\"bar\",\"textfont\":{\"size\":4},\"textangle\":0},{\"alignmentgroup\":\"True\",\"base\":[2,1,2,3,4,5,6],\"hovertemplate\":\"top_bias=gender<br>user=Delta<br>start=%{base}<br>stop=%{x}<br>=%{y}<br>bias_value=%{text}<extra></extra>\",\"legendgroup\":\"gender\",\"marker\":{\"color\":\"#ab63fa\",\"pattern\":{\"shape\":\"\"},\"opacity\":[0.39,0.54,0.58,0.6,0.62,0.64,0.64]},\"name\":\"gender\",\"offsetgroup\":\"gender\",\"orientation\":\"h\",\"showlegend\":false,\"text\":\"\",\"textposition\":\"auto\",\"x\":[1,1,1,1,1,1,1],\"xaxis\":\"x12\",\"y\":[\"AD    \",\"HMM\",\"HMM\",\"HMM\",\"HMM\",\"HMM\",\"HMM\"],\"yaxis\":\"y12\",\"type\":\"bar\",\"textfont\":{\"size\":4},\"textangle\":0},{\"alignmentgroup\":\"True\",\"base\":[6,8,9,10,10,3,5,6,7,8,9,10,11],\"hovertemplate\":\"top_bias=gender<br>user=Foxtrot<br>start=%{base}<br>stop=%{x}<br>=%{y}<br>bias_value=%{text}<extra></extra>\",\"legendgroup\":\"gender\",\"marker\":{\"color\":\"#ab63fa\",\"pattern\":{\"shape\":\"\"},\"opacity\":[0.85,0.76,0.93,0.68,1.0,0.47,0.5,0.61,0.52,0.6,0.66,0.6,0.59]},\"name\":\"gender\",\"offsetgroup\":\"gender\",\"orientation\":\"h\",\"showlegend\":false,\"text\":\"\",\"textposition\":\"auto\",\"x\":[1,1,1,1,1,1,1,1,1,1,1,1,1],\"xaxis\":\"x6\",\"y\":[\"AD    \",\"AD    \",\"AD    \",\"AD    \",\"CM\",\"ENS\",\"ENS\",\"ENS\",\"ENS\",\"ENS\",\"ENS\",\"ENS\",\"ENS\"],\"yaxis\":\"y6\",\"type\":\"bar\",\"textfont\":{\"size\":4},\"textangle\":0},{\"alignmentgroup\":\"True\",\"base\":[5,8,9],\"hovertemplate\":\"top_bias=gender<br>user=Golf<br>start=%{base}<br>stop=%{x}<br>=%{y}<br>bias_value=%{text}<extra></extra>\",\"legendgroup\":\"gender\",\"marker\":{\"color\":\"#ab63fa\",\"pattern\":{\"shape\":\"\"},\"opacity\":[0.6,0.69,0.7]},\"name\":\"gender\",\"offsetgroup\":\"gender\",\"orientation\":\"h\",\"showlegend\":false,\"text\":\"\",\"textposition\":\"auto\",\"x\":[1,1,1],\"xaxis\":\"x7\",\"y\":[\"HMM\",\"HMM\",\"HMM\"],\"yaxis\":\"y7\",\"type\":\"bar\",\"textfont\":{\"size\":4},\"textangle\":0},{\"alignmentgroup\":\"True\",\"base\":[9,10,10,11,4,7,8,9,10,11],\"hovertemplate\":\"top_bias=gender<br>user=Hotel<br>start=%{base}<br>stop=%{x}<br>=%{y}<br>bias_value=%{text}<extra></extra>\",\"legendgroup\":\"gender\",\"marker\":{\"color\":\"#ab63fa\",\"pattern\":{\"shape\":\"\"},\"opacity\":[0.52,0.76,0.66,0.66,0.5,0.51,0.51,0.52,0.58,0.58]},\"name\":\"gender\",\"offsetgroup\":\"gender\",\"orientation\":\"h\",\"showlegend\":false,\"text\":\"\",\"textposition\":\"auto\",\"x\":[1,1,1,1,1,1,1,1,1,1],\"xaxis\":\"x8\",\"y\":[\"AD    \",\"AD    \",\"HMM\",\"HMM\",\"ENS\",\"ENS\",\"ENS\",\"ENS\",\"ENS\",\"ENS\"],\"yaxis\":\"y8\",\"type\":\"bar\",\"textfont\":{\"size\":4},\"textangle\":0},{\"alignmentgroup\":\"True\",\"base\":[2],\"hovertemplate\":\"top_bias=gender<br>user=India<br>start=%{base}<br>stop=%{x}<br>=%{y}<br>bias_value=%{text}<extra></extra>\",\"legendgroup\":\"gender\",\"marker\":{\"color\":\"#ab63fa\",\"pattern\":{\"shape\":\"\"},\"opacity\":[0.68]},\"name\":\"gender\",\"offsetgroup\":\"gender\",\"orientation\":\"h\",\"showlegend\":false,\"text\":\"\",\"textposition\":\"auto\",\"x\":[1],\"xaxis\":\"x\",\"y\":[\"CM\"],\"yaxis\":\"y\",\"type\":\"bar\",\"textfont\":{\"size\":4},\"textangle\":0},{\"alignmentgroup\":\"True\",\"base\":[3,3],\"hovertemplate\":\"top_bias=gender<br>user=Juliett<br>start=%{base}<br>stop=%{x}<br>=%{y}<br>bias_value=%{text}<extra></extra>\",\"legendgroup\":\"gender\",\"marker\":{\"color\":\"#ab63fa\",\"pattern\":{\"shape\":\"\"},\"opacity\":[0.69,0.51]},\"name\":\"gender\",\"offsetgroup\":\"gender\",\"orientation\":\"h\",\"showlegend\":false,\"text\":\"\",\"textposition\":\"auto\",\"x\":[1,1],\"xaxis\":\"x2\",\"y\":[\"AD    \",\"ENS\"],\"yaxis\":\"y2\",\"type\":\"bar\",\"textfont\":{\"size\":4},\"textangle\":0},{\"alignmentgroup\":\"True\",\"base\":[10],\"hovertemplate\":\"top_bias=gender<br>user=Kilo<br>start=%{base}<br>stop=%{x}<br>=%{y}<br>bias_value=%{text}<extra></extra>\",\"legendgroup\":\"gender\",\"marker\":{\"color\":\"#ab63fa\",\"pattern\":{\"shape\":\"\"},\"opacity\":[0.48]},\"name\":\"gender\",\"offsetgroup\":\"gender\",\"orientation\":\"h\",\"showlegend\":false,\"text\":\"\",\"textposition\":\"auto\",\"x\":[1],\"xaxis\":\"x3\",\"y\":[\"ENS\"],\"yaxis\":\"y3\",\"type\":\"bar\",\"textfont\":{\"size\":4},\"textangle\":0},{\"alignmentgroup\":\"True\",\"base\":[12,2,3,2,3],\"hovertemplate\":\"top_bias=gender<br>user=Lima<br>start=%{base}<br>stop=%{x}<br>=%{y}<br>bias_value=%{text}<extra></extra>\",\"legendgroup\":\"gender\",\"marker\":{\"color\":\"#ab63fa\",\"pattern\":{\"shape\":\"\"},\"opacity\":[0.7,0.67,0.92,0.5,0.54]},\"name\":\"gender\",\"offsetgroup\":\"gender\",\"orientation\":\"h\",\"showlegend\":false,\"text\":\"\",\"textposition\":\"auto\",\"x\":[1,1,1,1,1],\"xaxis\":\"x4\",\"y\":[\"HMM\",\"CM\",\"CM\",\"ENS\",\"ENS\"],\"yaxis\":\"y4\",\"type\":\"bar\",\"textfont\":{\"size\":4},\"textangle\":0},{\"alignmentgroup\":\"True\",\"base\":[9,6,7,8,9,10,5,6,7,8,10,6,9],\"hovertemplate\":\"top_bias=occupation<br>user=Alfa<br>start=%{base}<br>stop=%{x}<br>=%{y}<br>bias_value=%{text}<extra></extra>\",\"legendgroup\":\"occupation\",\"marker\":{\"color\":\"#FFA15A\",\"pattern\":{\"shape\":\"\"},\"opacity\":[0.53,0.35,0.36,0.38,0.35,0.35,0.93,0.98,0.99,1.0,1.0,0.45,0.54]},\"name\":\"occupation\",\"offsetgroup\":\"occupation\",\"orientation\":\"h\",\"showlegend\":true,\"text\":\"\",\"textposition\":\"auto\",\"x\":[1,1,1,1,1,1,1,1,1,1,1,1,1],\"xaxis\":\"x9\",\"y\":[\"AD    \",\"AC\",\"AC\",\"AC\",\"AC\",\"AC\",\"CM\",\"CM\",\"CM\",\"CM\",\"CM\",\"ENS\",\"ENS\"],\"yaxis\":\"y9\",\"type\":\"bar\",\"textfont\":{\"size\":4},\"textangle\":0},{\"alignmentgroup\":\"True\",\"base\":[2,3,5,6,1,2,3,4,5,2,3,4,5,6,7,8,9,10,11,14,2,3,4,5,6,7,14],\"hovertemplate\":\"top_bias=occupation<br>user=Bravo<br>start=%{base}<br>stop=%{x}<br>=%{y}<br>bias_value=%{text}<extra></extra>\",\"legendgroup\":\"occupation\",\"marker\":{\"color\":\"#FFA15A\",\"pattern\":{\"shape\":\"\"},\"opacity\":[0.32,0.58,0.32,0.17,0.85,0.68,0.66,0.47,0.44,0.72,0.93,0.98,1.0,1.0,1.0,1.0,1.0,1.0,1.0,1.0,0.39,0.52,0.49,0.47,0.44,0.43,0.48]},\"name\":\"occupation\",\"offsetgroup\":\"occupation\",\"orientation\":\"h\",\"showlegend\":false,\"text\":\"\",\"textposition\":\"auto\",\"x\":[1,1,1,1,1,1,1,1,1,1,1,1,1,1,1,1,1,1,1,1,1,1,1,1,1,1,1],\"xaxis\":\"x10\",\"y\":[\"AD    \",\"AD    \",\"AD    \",\"AD    \",\"AC\",\"AC\",\"AC\",\"AC\",\"AC\",\"CM\",\"CM\",\"CM\",\"CM\",\"CM\",\"CM\",\"CM\",\"CM\",\"CM\",\"CM\",\"CM\",\"ENS\",\"ENS\",\"ENS\",\"ENS\",\"ENS\",\"ENS\",\"ENS\"],\"yaxis\":\"y10\",\"type\":\"bar\",\"textfont\":{\"size\":4},\"textangle\":0},{\"alignmentgroup\":\"True\",\"base\":[2,3,1,2,5,3,4,5,6,7,10,2,3,4,5,6],\"hovertemplate\":\"top_bias=occupation<br>user=Charlie<br>start=%{base}<br>stop=%{x}<br>=%{y}<br>bias_value=%{text}<extra></extra>\",\"legendgroup\":\"occupation\",\"marker\":{\"color\":\"#FFA15A\",\"pattern\":{\"shape\":\"\"},\"opacity\":[0.58,0.58,0.74,0.74,0.53,0.83,0.98,1.0,1.0,1.0,1.0,0.41,0.49,0.51,0.48,0.46]},\"name\":\"occupation\",\"offsetgroup\":\"occupation\",\"orientation\":\"h\",\"showlegend\":false,\"text\":\"\",\"textposition\":\"auto\",\"x\":[1,1,1,1,1,1,1,1,1,1,1,1,1,1,1,1],\"xaxis\":\"x11\",\"y\":[\"AD    \",\"AD    \",\"AC\",\"AC\",\"AC\",\"CM\",\"CM\",\"CM\",\"CM\",\"CM\",\"CM\",\"ENS\",\"ENS\",\"ENS\",\"ENS\",\"ENS\"],\"yaxis\":\"y11\",\"type\":\"bar\",\"textfont\":{\"size\":4},\"textangle\":0},{\"alignmentgroup\":\"True\",\"base\":[1,2,3,4,5,6,7,8,1,2,3,5,9],\"hovertemplate\":\"top_bias=occupation<br>user=Delta<br>start=%{base}<br>stop=%{x}<br>=%{y}<br>bias_value=%{text}<extra></extra>\",\"legendgroup\":\"occupation\",\"marker\":{\"color\":\"#FFA15A\",\"pattern\":{\"shape\":\"\"},\"opacity\":[0.84,0.73,0.89,0.99,1.0,1.0,1.0,1.0,0.37,0.4,0.43,0.44,0.61]},\"name\":\"occupation\",\"offsetgroup\":\"occupation\",\"orientation\":\"h\",\"showlegend\":false,\"text\":\"\",\"textposition\":\"auto\",\"x\":[1,1,1,1,1,1,1,1,1,1,1,1,1],\"xaxis\":\"x12\",\"y\":[\"AC\",\"CM\",\"CM\",\"CM\",\"CM\",\"CM\",\"CM\",\"CM\",\"ENS\",\"ENS\",\"ENS\",\"ENS\",\"ENS\"],\"yaxis\":\"y12\",\"type\":\"bar\",\"textfont\":{\"size\":4},\"textangle\":0},{\"alignmentgroup\":\"True\",\"base\":[1,7,8,9,3,4,5,7,8,9,1,3],\"hovertemplate\":\"top_bias=occupation<br>user=Echo<br>start=%{base}<br>stop=%{x}<br>=%{y}<br>bias_value=%{text}<extra></extra>\",\"legendgroup\":\"occupation\",\"marker\":{\"color\":\"#FFA15A\",\"pattern\":{\"shape\":\"\"},\"opacity\":[0.46,0.35,0.36,0.38,0.7,0.86,0.97,0.99,1.0,1.0,0.37,0.38]},\"name\":\"occupation\",\"offsetgroup\":\"occupation\",\"orientation\":\"h\",\"showlegend\":false,\"text\":\"\",\"textposition\":\"auto\",\"x\":[1,1,1,1,1,1,1,1,1,1,1,1],\"xaxis\":\"x5\",\"y\":[\"AD    \",\"AC\",\"AC\",\"AC\",\"CM\",\"CM\",\"CM\",\"CM\",\"CM\",\"CM\",\"ENS\",\"ENS\"],\"yaxis\":\"y5\",\"type\":\"bar\",\"textfont\":{\"size\":4},\"textangle\":0},{\"alignmentgroup\":\"True\",\"base\":[1,6,7,2,3,4,5,6,7,8,9,11,2,4],\"hovertemplate\":\"top_bias=occupation<br>user=Foxtrot<br>start=%{base}<br>stop=%{x}<br>=%{y}<br>bias_value=%{text}<extra></extra>\",\"legendgroup\":\"occupation\",\"marker\":{\"color\":\"#FFA15A\",\"pattern\":{\"shape\":\"\"},\"opacity\":[0.85,0.45,0.45,0.79,0.9,0.98,0.99,1.0,1.0,1.0,1.0,1.0,0.4,0.44]},\"name\":\"occupation\",\"offsetgroup\":\"occupation\",\"orientation\":\"h\",\"showlegend\":false,\"text\":\"\",\"textposition\":\"auto\",\"x\":[1,1,1,1,1,1,1,1,1,1,1,1,1,1],\"xaxis\":\"x6\",\"y\":[\"AC\",\"AC\",\"AC\",\"CM\",\"CM\",\"CM\",\"CM\",\"CM\",\"CM\",\"CM\",\"CM\",\"CM\",\"ENS\",\"ENS\"],\"yaxis\":\"y6\",\"type\":\"bar\",\"textfont\":{\"size\":4},\"textangle\":0},{\"alignmentgroup\":\"True\",\"base\":[3,4,8,9,4,3,4,5,6,7,8,9,4,5,6,7,8,9,3,4,5,6,7,8,9],\"hovertemplate\":\"top_bias=occupation<br>user=Golf<br>start=%{base}<br>stop=%{x}<br>=%{y}<br>bias_value=%{text}<extra></extra>\",\"legendgroup\":\"occupation\",\"marker\":{\"color\":\"#FFA15A\",\"pattern\":{\"shape\":\"\"},\"opacity\":[0.52,0.8,0.58,0.53,0.59,0.51,0.53,0.5,0.49,0.43,0.44,0.44,0.81,0.97,0.98,0.99,1.0,1.0,0.38,0.55,0.53,0.53,0.51,0.55,0.55]},\"name\":\"occupation\",\"offsetgroup\":\"occupation\",\"orientation\":\"h\",\"showlegend\":false,\"text\":\"\",\"textposition\":\"auto\",\"x\":[1,1,1,1,1,1,1,1,1,1,1,1,1,1,1,1,1,1,1,1,1,1,1,1,1],\"xaxis\":\"x7\",\"y\":[\"AD    \",\"AD    \",\"AD    \",\"AD    \",\"HMM\",\"AC\",\"AC\",\"AC\",\"AC\",\"AC\",\"AC\",\"AC\",\"CM\",\"CM\",\"CM\",\"CM\",\"CM\",\"CM\",\"ENS\",\"ENS\",\"ENS\",\"ENS\",\"ENS\",\"ENS\",\"ENS\"],\"yaxis\":\"y7\",\"type\":\"bar\",\"textfont\":{\"size\":4},\"textangle\":0},{\"alignmentgroup\":\"True\",\"base\":[1,3,5,7,8,9,4,5,6,7,8,9,10,11,1,3,5,6],\"hovertemplate\":\"top_bias=occupation<br>user=Hotel<br>start=%{base}<br>stop=%{x}<br>=%{y}<br>bias_value=%{text}<extra></extra>\",\"legendgroup\":\"occupation\",\"marker\":{\"color\":\"#FFA15A\",\"pattern\":{\"shape\":\"\"},\"opacity\":[0.72,0.58,0.39,0.35,0.33,0.34,0.97,0.97,0.99,1.0,1.0,1.0,1.0,1.0,0.37,0.4,0.49,0.5]},\"name\":\"occupation\",\"offsetgroup\":\"occupation\",\"orientation\":\"h\",\"showlegend\":false,\"text\":\"\",\"textposition\":\"auto\",\"x\":[1,1,1,1,1,1,1,1,1,1,1,1,1,1,1,1,1,1],\"xaxis\":\"x8\",\"y\":[\"AC\",\"AC\",\"AC\",\"AC\",\"AC\",\"AC\",\"CM\",\"CM\",\"CM\",\"CM\",\"CM\",\"CM\",\"CM\",\"CM\",\"ENS\",\"ENS\",\"ENS\",\"ENS\"],\"yaxis\":\"y8\",\"type\":\"bar\",\"textfont\":{\"size\":4},\"textangle\":0},{\"alignmentgroup\":\"True\",\"base\":[5,6,14,15,14,15,6,7,8,9,10,11,12,13,14,15,3,4,5,6,7,8,9,10,11,12,13,14,15,3,4,5,6,7,8,9,10,11,12,13,14,15],\"hovertemplate\":\"top_bias=occupation<br>user=India<br>start=%{base}<br>stop=%{x}<br>=%{y}<br>bias_value=%{text}<extra></extra>\",\"legendgroup\":\"occupation\",\"marker\":{\"color\":\"#FFA15A\",\"pattern\":{\"shape\":\"\"},\"opacity\":[0.32,0.5,0.68,0.63,0.69,0.71,0.49,0.49,0.43,0.41,0.4,0.4,0.4,0.4,0.4,0.4,0.93,0.97,0.99,1.0,1.0,1.0,1.0,1.0,1.0,1.0,1.0,1.0,1.0,0.46,0.44,0.49,0.54,0.57,0.53,0.55,0.53,0.54,0.54,0.56,0.59,0.59]},\"name\":\"occupation\",\"offsetgroup\":\"occupation\",\"orientation\":\"h\",\"showlegend\":false,\"text\":\"\",\"textposition\":\"auto\",\"x\":[1,1,1,1,1,1,1,1,1,1,1,1,1,1,1,1,1,1,1,1,1,1,1,1,1,1,1,1,1,1,1,1,1,1,1,1,1,1,1,1,1,1],\"xaxis\":\"x\",\"y\":[\"AD    \",\"AD    \",\"AD    \",\"AD    \",\"HMM\",\"HMM\",\"AC\",\"AC\",\"AC\",\"AC\",\"AC\",\"AC\",\"AC\",\"AC\",\"AC\",\"AC\",\"CM\",\"CM\",\"CM\",\"CM\",\"CM\",\"CM\",\"CM\",\"CM\",\"CM\",\"CM\",\"CM\",\"CM\",\"CM\",\"ENS\",\"ENS\",\"ENS\",\"ENS\",\"ENS\",\"ENS\",\"ENS\",\"ENS\",\"ENS\",\"ENS\",\"ENS\",\"ENS\",\"ENS\"],\"yaxis\":\"y\",\"type\":\"bar\",\"textfont\":{\"size\":4},\"textangle\":0},{\"alignmentgroup\":\"True\",\"base\":[1,2,3,6,3,4,5,6,10,4,5,6,10,4,6,8,10],\"hovertemplate\":\"top_bias=occupation<br>user=Juliett<br>start=%{base}<br>stop=%{x}<br>=%{y}<br>bias_value=%{text}<extra></extra>\",\"legendgroup\":\"occupation\",\"marker\":{\"color\":\"#FFA15A\",\"pattern\":{\"shape\":\"\"},\"opacity\":[0.54,0.55,0.59,0.65,0.58,0.58,0.58,0.58,0.38,0.96,0.99,1.0,1.0,0.56,0.6,0.62,0.54]},\"name\":\"occupation\",\"offsetgroup\":\"occupation\",\"orientation\":\"h\",\"showlegend\":false,\"text\":\"\",\"textposition\":\"auto\",\"x\":[1,1,1,1,1,1,1,1,1,1,1,1,1,1,1,1,1],\"xaxis\":\"x2\",\"y\":[\"HMM\",\"HMM\",\"HMM\",\"HMM\",\"AC\",\"AC\",\"AC\",\"AC\",\"AC\",\"CM\",\"CM\",\"CM\",\"CM\",\"ENS\",\"ENS\",\"ENS\",\"ENS\"],\"yaxis\":\"y2\",\"type\":\"bar\",\"textfont\":{\"size\":4},\"textangle\":0},{\"alignmentgroup\":\"True\",\"base\":[1,2,3,5,2,3,4,5,6,7,8,9,10,2,3,4,5,6,7,8,9],\"hovertemplate\":\"top_bias=occupation<br>user=Kilo<br>start=%{base}<br>stop=%{x}<br>=%{y}<br>bias_value=%{text}<extra></extra>\",\"legendgroup\":\"occupation\",\"marker\":{\"color\":\"#FFA15A\",\"pattern\":{\"shape\":\"\"},\"opacity\":[0.84,0.67,0.69,0.49,0.75,0.86,1.0,1.0,1.0,1.0,1.0,1.0,1.0,0.4,0.51,0.5,0.53,0.51,0.53,0.5,0.49]},\"name\":\"occupation\",\"offsetgroup\":\"occupation\",\"orientation\":\"h\",\"showlegend\":false,\"text\":\"\",\"textposition\":\"auto\",\"x\":[1,1,1,1,1,1,1,1,1,1,1,1,1,1,1,1,1,1,1,1,1],\"xaxis\":\"x3\",\"y\":[\"AC\",\"AC\",\"AC\",\"AC\",\"CM\",\"CM\",\"CM\",\"CM\",\"CM\",\"CM\",\"CM\",\"CM\",\"CM\",\"ENS\",\"ENS\",\"ENS\",\"ENS\",\"ENS\",\"ENS\",\"ENS\",\"ENS\"],\"yaxis\":\"y3\",\"type\":\"bar\",\"textfont\":{\"size\":4},\"textangle\":0},{\"alignmentgroup\":\"True\",\"base\":[6,7,8,9,10,11,12,13,5,6,7,8,9,10,11,13,1,4,5,6,7,8,9,10,11,12,13,4,5,6,7,8,9,10,12,4,5,6,7,8,9,10,11,12,13],\"hovertemplate\":\"top_bias=occupation<br>user=Lima<br>start=%{base}<br>stop=%{x}<br>=%{y}<br>bias_value=%{text}<extra></extra>\",\"legendgroup\":\"occupation\",\"marker\":{\"color\":\"#FFA15A\",\"pattern\":{\"shape\":\"\"},\"opacity\":[0.76,0.8,0.91,0.89,0.78,0.8,0.93,0.85,0.63,0.65,0.67,0.66,0.69,0.71,0.68,0.73,0.74,0.58,0.58,0.58,0.58,0.58,0.58,0.43,0.43,0.44,0.4,0.94,0.99,1.0,1.0,1.0,1.0,1.0,1.0,0.54,0.52,0.59,0.61,0.64,0.64,0.62,0.62,0.66,0.64]},\"name\":\"occupation\",\"offsetgroup\":\"occupation\",\"orientation\":\"h\",\"showlegend\":false,\"text\":\"\",\"textposition\":\"auto\",\"x\":[1,1,1,1,1,1,1,1,1,1,1,1,1,1,1,1,1,1,1,1,1,1,1,1,1,1,1,1,1,1,1,1,1,1,1,1,1,1,1,1,1,1,1,1,1],\"xaxis\":\"x4\",\"y\":[\"AD    \",\"AD    \",\"AD    \",\"AD    \",\"AD    \",\"AD    \",\"AD    \",\"AD    \",\"HMM\",\"HMM\",\"HMM\",\"HMM\",\"HMM\",\"HMM\",\"HMM\",\"HMM\",\"AC\",\"AC\",\"AC\",\"AC\",\"AC\",\"AC\",\"AC\",\"AC\",\"AC\",\"AC\",\"AC\",\"CM\",\"CM\",\"CM\",\"CM\",\"CM\",\"CM\",\"CM\",\"CM\",\"ENS\",\"ENS\",\"ENS\",\"ENS\",\"ENS\",\"ENS\",\"ENS\",\"ENS\",\"ENS\",\"ENS\"],\"yaxis\":\"y4\",\"type\":\"bar\",\"textfont\":{\"size\":4},\"textangle\":0},{\"alignmentgroup\":\"True\",\"base\":[2],\"hovertemplate\":\"top_bias=medicare<br>user=Alfa<br>start=%{base}<br>stop=%{x}<br>=%{y}<br>bias_value=%{text}<extra></extra>\",\"legendgroup\":\"medicare\",\"marker\":{\"color\":\"#19d3f3\",\"pattern\":{\"shape\":\"\"},\"opacity\":[0.56]},\"name\":\"medicare\",\"offsetgroup\":\"medicare\",\"orientation\":\"h\",\"showlegend\":true,\"text\":\"\",\"textposition\":\"auto\",\"x\":[1],\"xaxis\":\"x9\",\"y\":[\"HMM\"],\"yaxis\":\"y9\",\"type\":\"bar\",\"textfont\":{\"size\":4},\"textangle\":0},{\"alignmentgroup\":\"True\",\"base\":[8,9,10,11,13,14,4,5,6,7,8,9,10],\"hovertemplate\":\"top_bias=medicare<br>user=Bravo<br>start=%{base}<br>stop=%{x}<br>=%{y}<br>bias_value=%{text}<extra></extra>\",\"legendgroup\":\"medicare\",\"marker\":{\"color\":\"#19d3f3\",\"pattern\":{\"shape\":\"\"},\"opacity\":[0.7,0.85,0.71,0.54,0.39,0.43,0.63,0.64,0.33,0.34,0.34,0.35,0.33]},\"name\":\"medicare\",\"offsetgroup\":\"medicare\",\"orientation\":\"h\",\"showlegend\":false,\"text\":\"\",\"textposition\":\"auto\",\"x\":[1,1,1,1,1,1,1,1,1,1,1,1,1],\"xaxis\":\"x10\",\"y\":[\"AD    \",\"AD    \",\"AD    \",\"AD    \",\"AD    \",\"AD    \",\"HMM\",\"HMM\",\"AC\",\"AC\",\"AC\",\"AC\",\"AC\"],\"yaxis\":\"y10\",\"type\":\"bar\",\"textfont\":{\"size\":4},\"textangle\":0},{\"alignmentgroup\":\"True\",\"base\":[3],\"hovertemplate\":\"top_bias=medicare<br>user=Charlie<br>start=%{base}<br>stop=%{x}<br>=%{y}<br>bias_value=%{text}<extra></extra>\",\"legendgroup\":\"medicare\",\"marker\":{\"color\":\"#19d3f3\",\"pattern\":{\"shape\":\"\"},\"opacity\":[0.57]},\"name\":\"medicare\",\"offsetgroup\":\"medicare\",\"orientation\":\"h\",\"showlegend\":false,\"text\":\"\",\"textposition\":\"auto\",\"x\":[1],\"xaxis\":\"x11\",\"y\":[\"HMM\"],\"yaxis\":\"y11\",\"type\":\"bar\",\"textfont\":{\"size\":4},\"textangle\":0},{\"alignmentgroup\":\"True\",\"base\":[5,7,9],\"hovertemplate\":\"top_bias=medicare<br>user=Echo<br>start=%{base}<br>stop=%{x}<br>=%{y}<br>bias_value=%{text}<extra></extra>\",\"legendgroup\":\"medicare\",\"marker\":{\"color\":\"#19d3f3\",\"pattern\":{\"shape\":\"\"},\"opacity\":[0.63,0.68,0.67]},\"name\":\"medicare\",\"offsetgroup\":\"medicare\",\"orientation\":\"h\",\"showlegend\":false,\"text\":\"\",\"textposition\":\"auto\",\"x\":[1,1,1],\"xaxis\":\"x5\",\"y\":[\"HMM\",\"HMM\",\"HMM\"],\"yaxis\":\"y5\",\"type\":\"bar\",\"textfont\":{\"size\":4},\"textangle\":0},{\"alignmentgroup\":\"True\",\"base\":[6],\"hovertemplate\":\"top_bias=medicare<br>user=Golf<br>start=%{base}<br>stop=%{x}<br>=%{y}<br>bias_value=%{text}<extra></extra>\",\"legendgroup\":\"medicare\",\"marker\":{\"color\":\"#19d3f3\",\"pattern\":{\"shape\":\"\"},\"opacity\":[0.65]},\"name\":\"medicare\",\"offsetgroup\":\"medicare\",\"orientation\":\"h\",\"showlegend\":false,\"text\":\"\",\"textposition\":\"auto\",\"x\":[1],\"xaxis\":\"x7\",\"y\":[\"AD    \"],\"yaxis\":\"y7\",\"type\":\"bar\",\"textfont\":{\"size\":4},\"textangle\":0},{\"alignmentgroup\":\"True\",\"base\":[2,4,5,6,7,8,9,2],\"hovertemplate\":\"top_bias=medicare<br>user=Juliett<br>start=%{base}<br>stop=%{x}<br>=%{y}<br>bias_value=%{text}<extra></extra>\",\"legendgroup\":\"medicare\",\"marker\":{\"color\":\"#19d3f3\",\"pattern\":{\"shape\":\"\"},\"opacity\":[0.91,0.87,0.96,0.88,0.96,0.9,0.96,0.65]},\"name\":\"medicare\",\"offsetgroup\":\"medicare\",\"orientation\":\"h\",\"showlegend\":false,\"text\":\"\",\"textposition\":\"auto\",\"x\":[1,1,1,1,1,1,1,1],\"xaxis\":\"x2\",\"y\":[\"AD    \",\"AD    \",\"AD    \",\"AD    \",\"AD    \",\"AD    \",\"AD    \",\"AC\"],\"yaxis\":\"y2\",\"type\":\"bar\",\"textfont\":{\"size\":4},\"textangle\":0},{\"alignmentgroup\":\"True\",\"base\":[10],\"hovertemplate\":\"top_bias=marijuana<br>user=Alfa<br>start=%{base}<br>stop=%{x}<br>=%{y}<br>bias_value=%{text}<extra></extra>\",\"legendgroup\":\"marijuana\",\"marker\":{\"color\":\"#FF6692\",\"pattern\":{\"shape\":\"\"},\"opacity\":[0.67]},\"name\":\"marijuana\",\"offsetgroup\":\"marijuana\",\"orientation\":\"h\",\"showlegend\":true,\"text\":\"\",\"textposition\":\"auto\",\"x\":[1],\"xaxis\":\"x9\",\"y\":[\"HMM\"],\"yaxis\":\"y9\",\"type\":\"bar\",\"textfont\":{\"size\":4},\"textangle\":0},{\"alignmentgroup\":\"True\",\"base\":[7],\"hovertemplate\":\"top_bias=marijuana<br>user=Bravo<br>start=%{base}<br>stop=%{x}<br>=%{y}<br>bias_value=%{text}<extra></extra>\",\"legendgroup\":\"marijuana\",\"marker\":{\"color\":\"#FF6692\",\"pattern\":{\"shape\":\"\"},\"opacity\":[0.53]},\"name\":\"marijuana\",\"offsetgroup\":\"marijuana\",\"orientation\":\"h\",\"showlegend\":false,\"text\":\"\",\"textposition\":\"auto\",\"x\":[1],\"xaxis\":\"x10\",\"y\":[\"AD    \"],\"yaxis\":\"y10\",\"type\":\"bar\",\"textfont\":{\"size\":4},\"textangle\":0},{\"alignmentgroup\":\"True\",\"base\":[9,10,2,5],\"hovertemplate\":\"top_bias=marijuana<br>user=Charlie<br>start=%{base}<br>stop=%{x}<br>=%{y}<br>bias_value=%{text}<extra></extra>\",\"legendgroup\":\"marijuana\",\"marker\":{\"color\":\"#FF6692\",\"pattern\":{\"shape\":\"\"},\"opacity\":[0.6,0.8,0.56,0.62]},\"name\":\"marijuana\",\"offsetgroup\":\"marijuana\",\"orientation\":\"h\",\"showlegend\":false,\"text\":\"\",\"textposition\":\"auto\",\"x\":[1,1,1,1],\"xaxis\":\"x11\",\"y\":[\"AD    \",\"AD    \",\"HMM\",\"HMM\"],\"yaxis\":\"y11\",\"type\":\"bar\",\"textfont\":{\"size\":4},\"textangle\":0},{\"alignmentgroup\":\"True\",\"base\":[7,8,9,6,7,8,9],\"hovertemplate\":\"top_bias=marijuana<br>user=Delta<br>start=%{base}<br>stop=%{x}<br>=%{y}<br>bias_value=%{text}<extra></extra>\",\"legendgroup\":\"marijuana\",\"marker\":{\"color\":\"#FF6692\",\"pattern\":{\"shape\":\"\"},\"opacity\":[0.8,0.9,0.8,0.38,0.4,0.41,0.38]},\"name\":\"marijuana\",\"offsetgroup\":\"marijuana\",\"orientation\":\"h\",\"showlegend\":false,\"text\":\"\",\"textposition\":\"auto\",\"x\":[1,1,1,1,1,1,1],\"xaxis\":\"x12\",\"y\":[\"AD    \",\"AD    \",\"AD    \",\"AC\",\"AC\",\"AC\",\"AC\"],\"yaxis\":\"y12\",\"type\":\"bar\",\"textfont\":{\"size\":4},\"textangle\":0},{\"alignmentgroup\":\"True\",\"base\":[3,4,5,6,1,5],\"hovertemplate\":\"top_bias=marijuana<br>user=Echo<br>start=%{base}<br>stop=%{x}<br>=%{y}<br>bias_value=%{text}<extra></extra>\",\"legendgroup\":\"marijuana\",\"marker\":{\"color\":\"#FF6692\",\"pattern\":{\"shape\":\"\"},\"opacity\":[0.56,0.87,0.96,0.88,0.72,0.52]},\"name\":\"marijuana\",\"offsetgroup\":\"marijuana\",\"orientation\":\"h\",\"showlegend\":false,\"text\":\"\",\"textposition\":\"auto\",\"x\":[1,1,1,1,1,1],\"xaxis\":\"x5\",\"y\":[\"AD    \",\"AD    \",\"AD    \",\"AD    \",\"AC\",\"AC\"],\"yaxis\":\"y5\",\"type\":\"bar\",\"textfont\":{\"size\":4},\"textangle\":0},{\"alignmentgroup\":\"True\",\"base\":[1,2,3,4,2],\"hovertemplate\":\"top_bias=marijuana<br>user=Foxtrot<br>start=%{base}<br>stop=%{x}<br>=%{y}<br>bias_value=%{text}<extra></extra>\",\"legendgroup\":\"marijuana\",\"marker\":{\"color\":\"#FF6692\",\"pattern\":{\"shape\":\"\"},\"opacity\":[0.56,0.61,0.6,0.6,0.72]},\"name\":\"marijuana\",\"offsetgroup\":\"marijuana\",\"orientation\":\"h\",\"showlegend\":false,\"text\":\"\",\"textposition\":\"auto\",\"x\":[1,1,1,1,1],\"xaxis\":\"x6\",\"y\":[\"HMM\",\"HMM\",\"HMM\",\"HMM\",\"AC\"],\"yaxis\":\"y6\",\"type\":\"bar\",\"textfont\":{\"size\":4},\"textangle\":0},{\"alignmentgroup\":\"True\",\"base\":[1],\"hovertemplate\":\"top_bias=marijuana<br>user=Hotel<br>start=%{base}<br>stop=%{x}<br>=%{y}<br>bias_value=%{text}<extra></extra>\",\"legendgroup\":\"marijuana\",\"marker\":{\"color\":\"#FF6692\",\"pattern\":{\"shape\":\"\"},\"opacity\":[0.46]},\"name\":\"marijuana\",\"offsetgroup\":\"marijuana\",\"orientation\":\"h\",\"showlegend\":false,\"text\":\"\",\"textposition\":\"auto\",\"x\":[1],\"xaxis\":\"x8\",\"y\":[\"AD    \"],\"yaxis\":\"y8\",\"type\":\"bar\",\"textfont\":{\"size\":4},\"textangle\":0},{\"alignmentgroup\":\"True\",\"base\":[3],\"hovertemplate\":\"top_bias=abortion<br>user=Alfa<br>start=%{base}<br>stop=%{x}<br>=%{y}<br>bias_value=%{text}<extra></extra>\",\"legendgroup\":\"abortion\",\"marker\":{\"color\":\"#B6E880\",\"pattern\":{\"shape\":\"\"},\"opacity\":[0.58]},\"name\":\"abortion\",\"offsetgroup\":\"abortion\",\"orientation\":\"h\",\"showlegend\":true,\"text\":\"\",\"textposition\":\"auto\",\"x\":[1],\"xaxis\":\"x9\",\"y\":[\"AC\"],\"yaxis\":\"y9\",\"type\":\"bar\",\"textfont\":{\"size\":4},\"textangle\":0},{\"alignmentgroup\":\"True\",\"base\":[12,7,9,11,12],\"hovertemplate\":\"top_bias=abortion<br>user=Bravo<br>start=%{base}<br>stop=%{x}<br>=%{y}<br>bias_value=%{text}<extra></extra>\",\"legendgroup\":\"abortion\",\"marker\":{\"color\":\"#B6E880\",\"pattern\":{\"shape\":\"\"},\"opacity\":[0.55,0.67,0.68,0.25,0.25]},\"name\":\"abortion\",\"offsetgroup\":\"abortion\",\"orientation\":\"h\",\"showlegend\":false,\"text\":\"\",\"textposition\":\"auto\",\"x\":[1,1,1,1,1],\"xaxis\":\"x10\",\"y\":[\"AD    \",\"HMM\",\"HMM\",\"AC\",\"AC\"],\"yaxis\":\"y10\",\"type\":\"bar\",\"textfont\":{\"size\":4},\"textangle\":0},{\"alignmentgroup\":\"True\",\"base\":[1,9,1],\"hovertemplate\":\"top_bias=abortion<br>user=Charlie<br>start=%{base}<br>stop=%{x}<br>=%{y}<br>bias_value=%{text}<extra></extra>\",\"legendgroup\":\"abortion\",\"marker\":{\"color\":\"#B6E880\",\"pattern\":{\"shape\":\"\"},\"opacity\":[0.58,0.65,0.4]},\"name\":\"abortion\",\"offsetgroup\":\"abortion\",\"orientation\":\"h\",\"showlegend\":false,\"text\":\"\",\"textposition\":\"auto\",\"x\":[1,1,1],\"xaxis\":\"x11\",\"y\":[\"AD    \",\"HMM\",\"ENS\"],\"yaxis\":\"y11\",\"type\":\"bar\",\"textfont\":{\"size\":4},\"textangle\":0},{\"alignmentgroup\":\"True\",\"base\":[1],\"hovertemplate\":\"top_bias=abortion<br>user=Foxtrot<br>start=%{base}<br>stop=%{x}<br>=%{y}<br>bias_value=%{text}<extra></extra>\",\"legendgroup\":\"abortion\",\"marker\":{\"color\":\"#B6E880\",\"pattern\":{\"shape\":\"\"},\"opacity\":[0.58]},\"name\":\"abortion\",\"offsetgroup\":\"abortion\",\"orientation\":\"h\",\"showlegend\":false,\"text\":\"\",\"textposition\":\"auto\",\"x\":[1],\"xaxis\":\"x6\",\"y\":[\"AD    \"],\"yaxis\":\"y6\",\"type\":\"bar\",\"textfont\":{\"size\":4},\"textangle\":0},{\"alignmentgroup\":\"True\",\"base\":[6,7],\"hovertemplate\":\"top_bias=abortion<br>user=Golf<br>start=%{base}<br>stop=%{x}<br>=%{y}<br>bias_value=%{text}<extra></extra>\",\"legendgroup\":\"abortion\",\"marker\":{\"color\":\"#B6E880\",\"pattern\":{\"shape\":\"\"},\"opacity\":[0.63,0.67]},\"name\":\"abortion\",\"offsetgroup\":\"abortion\",\"orientation\":\"h\",\"showlegend\":false,\"text\":\"\",\"textposition\":\"auto\",\"x\":[1,1],\"xaxis\":\"x7\",\"y\":[\"HMM\",\"HMM\"],\"yaxis\":\"y7\",\"type\":\"bar\",\"textfont\":{\"size\":4},\"textangle\":0},{\"alignmentgroup\":\"True\",\"base\":[11,10,11],\"hovertemplate\":\"top_bias=abortion<br>user=Hotel<br>start=%{base}<br>stop=%{x}<br>=%{y}<br>bias_value=%{text}<extra></extra>\",\"legendgroup\":\"abortion\",\"marker\":{\"color\":\"#B6E880\",\"pattern\":{\"shape\":\"\"},\"opacity\":[0.86,0.33,0.34]},\"name\":\"abortion\",\"offsetgroup\":\"abortion\",\"orientation\":\"h\",\"showlegend\":false,\"text\":\"\",\"textposition\":\"auto\",\"x\":[1,1,1],\"xaxis\":\"x8\",\"y\":[\"AD    \",\"AC\",\"AC\"],\"yaxis\":\"y8\",\"type\":\"bar\",\"textfont\":{\"size\":4},\"textangle\":0},{\"alignmentgroup\":\"True\",\"base\":[1,2,3,6,7,8,9,10],\"hovertemplate\":\"top_bias=abortion<br>user=Kilo<br>start=%{base}<br>stop=%{x}<br>=%{y}<br>bias_value=%{text}<extra></extra>\",\"legendgroup\":\"abortion\",\"marker\":{\"color\":\"#B6E880\",\"pattern\":{\"shape\":\"\"},\"opacity\":[0.57,0.57,0.6,0.63,0.65,0.66,0.66,0.67]},\"name\":\"abortion\",\"offsetgroup\":\"abortion\",\"orientation\":\"h\",\"showlegend\":false,\"text\":\"\",\"textposition\":\"auto\",\"x\":[1,1,1,1,1,1,1,1],\"xaxis\":\"x3\",\"y\":[\"HMM\",\"HMM\",\"HMM\",\"HMM\",\"HMM\",\"HMM\",\"HMM\",\"HMM\"],\"yaxis\":\"y3\",\"type\":\"bar\",\"textfont\":{\"size\":4},\"textangle\":0},{\"alignmentgroup\":\"True\",\"base\":[1,2,3,4,9,2,3,7,8],\"hovertemplate\":\"top_bias=party<br>user=Alfa<br>start=%{base}<br>stop=%{x}<br>=%{y}<br>bias_value=%{text}<extra></extra>\",\"legendgroup\":\"party\",\"marker\":{\"color\":\"#FF97FF\",\"pattern\":{\"shape\":\"\"},\"opacity\":[0.5,0.59,0.94,0.93,1.0,0.48,0.44,0.52,0.53]},\"name\":\"party\",\"offsetgroup\":\"party\",\"orientation\":\"h\",\"showlegend\":true,\"text\":\"\",\"textposition\":\"auto\",\"x\":[1,1,1,1,1,1,1,1,1],\"xaxis\":\"x9\",\"y\":[\"CM\",\"CM\",\"CM\",\"CM\",\"CM\",\"ENS\",\"ENS\",\"ENS\",\"ENS\"],\"yaxis\":\"y9\",\"type\":\"bar\",\"textfont\":{\"size\":4},\"textangle\":0},{\"alignmentgroup\":\"True\",\"base\":[1,12,13,8,9,10,11,12,13],\"hovertemplate\":\"top_bias=party<br>user=Bravo<br>start=%{base}<br>stop=%{x}<br>=%{y}<br>bias_value=%{text}<extra></extra>\",\"legendgroup\":\"party\",\"marker\":{\"color\":\"#FF97FF\",\"pattern\":{\"shape\":\"\"},\"opacity\":[0.5,0.99,0.99,0.5,0.5,0.49,0.49,0.49,0.49]},\"name\":\"party\",\"offsetgroup\":\"party\",\"orientation\":\"h\",\"showlegend\":false,\"text\":\"\",\"textposition\":\"auto\",\"x\":[1,1,1,1,1,1,1,1,1],\"xaxis\":\"x10\",\"y\":[\"CM\",\"CM\",\"CM\",\"ENS\",\"ENS\",\"ENS\",\"ENS\",\"ENS\",\"ENS\"],\"yaxis\":\"y10\",\"type\":\"bar\",\"textfont\":{\"size\":4},\"textangle\":0},{\"alignmentgroup\":\"True\",\"base\":[1,1,8,9,7,9,10],\"hovertemplate\":\"top_bias=party<br>user=Charlie<br>start=%{base}<br>stop=%{x}<br>=%{y}<br>bias_value=%{text}<extra></extra>\",\"legendgroup\":\"party\",\"marker\":{\"color\":\"#FF97FF\",\"pattern\":{\"shape\":\"\"},\"opacity\":[0.53,0.5,0.99,0.99,0.42,0.45,0.52]},\"name\":\"party\",\"offsetgroup\":\"party\",\"orientation\":\"h\",\"showlegend\":false,\"text\":\"\",\"textposition\":\"auto\",\"x\":[1,1,1,1,1,1,1],\"xaxis\":\"x11\",\"y\":[\"HMM\",\"CM\",\"CM\",\"CM\",\"ENS\",\"ENS\",\"ENS\"],\"yaxis\":\"y11\",\"type\":\"bar\",\"textfont\":{\"size\":4},\"textangle\":0},{\"alignmentgroup\":\"True\",\"base\":[1,9,4,6,7,8],\"hovertemplate\":\"top_bias=party<br>user=Delta<br>start=%{base}<br>stop=%{x}<br>=%{y}<br>bias_value=%{text}<extra></extra>\",\"legendgroup\":\"party\",\"marker\":{\"color\":\"#FF97FF\",\"pattern\":{\"shape\":\"\"},\"opacity\":[0.5,0.99,0.53,0.51,0.6,0.59]},\"name\":\"party\",\"offsetgroup\":\"party\",\"orientation\":\"h\",\"showlegend\":false,\"text\":\"\",\"textposition\":\"auto\",\"x\":[1,1,1,1,1,1],\"xaxis\":\"x12\",\"y\":[\"CM\",\"CM\",\"ENS\",\"ENS\",\"ENS\",\"ENS\"],\"yaxis\":\"y12\",\"type\":\"bar\",\"textfont\":{\"size\":4},\"textangle\":0},{\"alignmentgroup\":\"True\",\"base\":[2,3,4,6,1,6,4,5,6,7,8,9],\"hovertemplate\":\"top_bias=party<br>user=Echo<br>start=%{base}<br>stop=%{x}<br>=%{y}<br>bias_value=%{text}<extra></extra>\",\"legendgroup\":\"party\",\"marker\":{\"color\":\"#FF97FF\",\"pattern\":{\"shape\":\"\"},\"opacity\":[0.57,0.61,0.62,0.66,0.5,0.98,0.5,0.53,0.52,0.6,0.6,0.59]},\"name\":\"party\",\"offsetgroup\":\"party\",\"orientation\":\"h\",\"showlegend\":false,\"text\":\"\",\"textposition\":\"auto\",\"x\":[1,1,1,1,1,1,1,1,1,1,1,1],\"xaxis\":\"x5\",\"y\":[\"HMM\",\"HMM\",\"HMM\",\"HMM\",\"CM\",\"CM\",\"ENS\",\"ENS\",\"ENS\",\"ENS\",\"ENS\",\"ENS\"],\"yaxis\":\"y5\",\"type\":\"bar\",\"textfont\":{\"size\":4},\"textangle\":0},{\"alignmentgroup\":\"True\",\"base\":[5,6,10,11,1],\"hovertemplate\":\"top_bias=party<br>user=Foxtrot<br>start=%{base}<br>stop=%{x}<br>=%{y}<br>bias_value=%{text}<extra></extra>\",\"legendgroup\":\"party\",\"marker\":{\"color\":\"#FF97FF\",\"pattern\":{\"shape\":\"\"},\"opacity\":[0.61,0.64,0.68,0.7,0.5]},\"name\":\"party\",\"offsetgroup\":\"party\",\"orientation\":\"h\",\"showlegend\":false,\"text\":\"\",\"textposition\":\"auto\",\"x\":[1,1,1,1,1],\"xaxis\":\"x6\",\"y\":[\"HMM\",\"HMM\",\"HMM\",\"HMM\",\"CM\"],\"yaxis\":\"y6\",\"type\":\"bar\",\"textfont\":{\"size\":4},\"textangle\":0},{\"alignmentgroup\":\"True\",\"base\":[1,2,3,1,3],\"hovertemplate\":\"top_bias=party<br>user=Golf<br>start=%{base}<br>stop=%{x}<br>=%{y}<br>bias_value=%{text}<extra></extra>\",\"legendgroup\":\"party\",\"marker\":{\"color\":\"#FF97FF\",\"pattern\":{\"shape\":\"\"},\"opacity\":[0.55,0.56,0.57,0.5,0.55]},\"name\":\"party\",\"offsetgroup\":\"party\",\"orientation\":\"h\",\"showlegend\":false,\"text\":\"\",\"textposition\":\"auto\",\"x\":[1,1,1,1,1],\"xaxis\":\"x7\",\"y\":[\"HMM\",\"HMM\",\"HMM\",\"CM\",\"CM\"],\"yaxis\":\"y7\",\"type\":\"bar\",\"textfont\":{\"size\":4},\"textangle\":0},{\"alignmentgroup\":\"True\",\"base\":[1,2,3,4,5,6,7,8,9,1],\"hovertemplate\":\"top_bias=party<br>user=Hotel<br>start=%{base}<br>stop=%{x}<br>=%{y}<br>bias_value=%{text}<extra></extra>\",\"legendgroup\":\"party\",\"marker\":{\"color\":\"#FF97FF\",\"pattern\":{\"shape\":\"\"},\"opacity\":[0.56,0.61,0.61,0.63,0.62,0.62,0.65,0.66,0.66,0.5]},\"name\":\"party\",\"offsetgroup\":\"party\",\"orientation\":\"h\",\"showlegend\":false,\"text\":\"\",\"textposition\":\"auto\",\"x\":[1,1,1,1,1,1,1,1,1,1],\"xaxis\":\"x8\",\"y\":[\"HMM\",\"HMM\",\"HMM\",\"HMM\",\"HMM\",\"HMM\",\"HMM\",\"HMM\",\"HMM\",\"CM\"],\"yaxis\":\"y8\",\"type\":\"bar\",\"textfont\":{\"size\":4},\"textangle\":0},{\"alignmentgroup\":\"True\",\"base\":[1],\"hovertemplate\":\"top_bias=party<br>user=India<br>start=%{base}<br>stop=%{x}<br>=%{y}<br>bias_value=%{text}<extra></extra>\",\"legendgroup\":\"party\",\"marker\":{\"color\":\"#FF97FF\",\"pattern\":{\"shape\":\"\"},\"opacity\":[0.5]},\"name\":\"party\",\"offsetgroup\":\"party\",\"orientation\":\"h\",\"showlegend\":false,\"text\":\"\",\"textposition\":\"auto\",\"x\":[1],\"xaxis\":\"x\",\"y\":[\"CM\"],\"yaxis\":\"y\",\"type\":\"bar\",\"textfont\":{\"size\":4},\"textangle\":0},{\"alignmentgroup\":\"True\",\"base\":[1,2,3,7,8,9,2,5,7,9],\"hovertemplate\":\"top_bias=party<br>user=Juliett<br>start=%{base}<br>stop=%{x}<br>=%{y}<br>bias_value=%{text}<extra></extra>\",\"legendgroup\":\"party\",\"marker\":{\"color\":\"#FF97FF\",\"pattern\":{\"shape\":\"\"},\"opacity\":[0.5,0.58,0.89,0.99,1.0,1.0,0.48,0.53,0.6,0.58]},\"name\":\"party\",\"offsetgroup\":\"party\",\"orientation\":\"h\",\"showlegend\":false,\"text\":\"\",\"textposition\":\"auto\",\"x\":[1,1,1,1,1,1,1,1,1,1],\"xaxis\":\"x2\",\"y\":[\"CM\",\"CM\",\"CM\",\"CM\",\"CM\",\"CM\",\"ENS\",\"ENS\",\"ENS\",\"ENS\"],\"yaxis\":\"y2\",\"type\":\"bar\",\"textfont\":{\"size\":4},\"textangle\":0},{\"alignmentgroup\":\"True\",\"base\":[4,5,1],\"hovertemplate\":\"top_bias=party<br>user=Kilo<br>start=%{base}<br>stop=%{x}<br>=%{y}<br>bias_value=%{text}<extra></extra>\",\"legendgroup\":\"party\",\"marker\":{\"color\":\"#FF97FF\",\"pattern\":{\"shape\":\"\"},\"opacity\":[0.61,0.61,0.5]},\"name\":\"party\",\"offsetgroup\":\"party\",\"orientation\":\"h\",\"showlegend\":false,\"text\":\"\",\"textposition\":\"auto\",\"x\":[1,1,1],\"xaxis\":\"x3\",\"y\":[\"HMM\",\"HMM\",\"CM\"],\"yaxis\":\"y3\",\"type\":\"bar\",\"textfont\":{\"size\":4},\"textangle\":0},{\"alignmentgroup\":\"True\",\"base\":[5,1,1,11,13],\"hovertemplate\":\"top_bias=party<br>user=Lima<br>start=%{base}<br>stop=%{x}<br>=%{y}<br>bias_value=%{text}<extra></extra>\",\"legendgroup\":\"party\",\"marker\":{\"color\":\"#FF97FF\",\"pattern\":{\"shape\":\"\"},\"opacity\":[0.57,0.54,0.5,1.0,1.0]},\"name\":\"party\",\"offsetgroup\":\"party\",\"orientation\":\"h\",\"showlegend\":false,\"text\":\"\",\"textposition\":\"auto\",\"x\":[1,1,1,1,1],\"xaxis\":\"x4\",\"y\":[\"AD    \",\"HMM\",\"CM\",\"CM\",\"CM\"],\"yaxis\":\"y4\",\"type\":\"bar\",\"textfont\":{\"size\":4},\"textangle\":0}],                        {\"template\":{\"data\":{\"histogram2dcontour\":[{\"type\":\"histogram2dcontour\",\"colorbar\":{\"outlinewidth\":0,\"ticks\":\"\"},\"colorscale\":[[0.0,\"#0d0887\"],[0.1111111111111111,\"#46039f\"],[0.2222222222222222,\"#7201a8\"],[0.3333333333333333,\"#9c179e\"],[0.4444444444444444,\"#bd3786\"],[0.5555555555555556,\"#d8576b\"],[0.6666666666666666,\"#ed7953\"],[0.7777777777777778,\"#fb9f3a\"],[0.8888888888888888,\"#fdca26\"],[1.0,\"#f0f921\"]]}],\"choropleth\":[{\"type\":\"choropleth\",\"colorbar\":{\"outlinewidth\":0,\"ticks\":\"\"}}],\"histogram2d\":[{\"type\":\"histogram2d\",\"colorbar\":{\"outlinewidth\":0,\"ticks\":\"\"},\"colorscale\":[[0.0,\"#0d0887\"],[0.1111111111111111,\"#46039f\"],[0.2222222222222222,\"#7201a8\"],[0.3333333333333333,\"#9c179e\"],[0.4444444444444444,\"#bd3786\"],[0.5555555555555556,\"#d8576b\"],[0.6666666666666666,\"#ed7953\"],[0.7777777777777778,\"#fb9f3a\"],[0.8888888888888888,\"#fdca26\"],[1.0,\"#f0f921\"]]}],\"heatmap\":[{\"type\":\"heatmap\",\"colorbar\":{\"outlinewidth\":0,\"ticks\":\"\"},\"colorscale\":[[0.0,\"#0d0887\"],[0.1111111111111111,\"#46039f\"],[0.2222222222222222,\"#7201a8\"],[0.3333333333333333,\"#9c179e\"],[0.4444444444444444,\"#bd3786\"],[0.5555555555555556,\"#d8576b\"],[0.6666666666666666,\"#ed7953\"],[0.7777777777777778,\"#fb9f3a\"],[0.8888888888888888,\"#fdca26\"],[1.0,\"#f0f921\"]]}],\"heatmapgl\":[{\"type\":\"heatmapgl\",\"colorbar\":{\"outlinewidth\":0,\"ticks\":\"\"},\"colorscale\":[[0.0,\"#0d0887\"],[0.1111111111111111,\"#46039f\"],[0.2222222222222222,\"#7201a8\"],[0.3333333333333333,\"#9c179e\"],[0.4444444444444444,\"#bd3786\"],[0.5555555555555556,\"#d8576b\"],[0.6666666666666666,\"#ed7953\"],[0.7777777777777778,\"#fb9f3a\"],[0.8888888888888888,\"#fdca26\"],[1.0,\"#f0f921\"]]}],\"contourcarpet\":[{\"type\":\"contourcarpet\",\"colorbar\":{\"outlinewidth\":0,\"ticks\":\"\"}}],\"contour\":[{\"type\":\"contour\",\"colorbar\":{\"outlinewidth\":0,\"ticks\":\"\"},\"colorscale\":[[0.0,\"#0d0887\"],[0.1111111111111111,\"#46039f\"],[0.2222222222222222,\"#7201a8\"],[0.3333333333333333,\"#9c179e\"],[0.4444444444444444,\"#bd3786\"],[0.5555555555555556,\"#d8576b\"],[0.6666666666666666,\"#ed7953\"],[0.7777777777777778,\"#fb9f3a\"],[0.8888888888888888,\"#fdca26\"],[1.0,\"#f0f921\"]]}],\"surface\":[{\"type\":\"surface\",\"colorbar\":{\"outlinewidth\":0,\"ticks\":\"\"},\"colorscale\":[[0.0,\"#0d0887\"],[0.1111111111111111,\"#46039f\"],[0.2222222222222222,\"#7201a8\"],[0.3333333333333333,\"#9c179e\"],[0.4444444444444444,\"#bd3786\"],[0.5555555555555556,\"#d8576b\"],[0.6666666666666666,\"#ed7953\"],[0.7777777777777778,\"#fb9f3a\"],[0.8888888888888888,\"#fdca26\"],[1.0,\"#f0f921\"]]}],\"mesh3d\":[{\"type\":\"mesh3d\",\"colorbar\":{\"outlinewidth\":0,\"ticks\":\"\"}}],\"scatter\":[{\"fillpattern\":{\"fillmode\":\"overlay\",\"size\":10,\"solidity\":0.2},\"type\":\"scatter\"}],\"parcoords\":[{\"type\":\"parcoords\",\"line\":{\"colorbar\":{\"outlinewidth\":0,\"ticks\":\"\"}}}],\"scatterpolargl\":[{\"type\":\"scatterpolargl\",\"marker\":{\"colorbar\":{\"outlinewidth\":0,\"ticks\":\"\"}}}],\"bar\":[{\"error_x\":{\"color\":\"#2a3f5f\"},\"error_y\":{\"color\":\"#2a3f5f\"},\"marker\":{\"line\":{\"color\":\"#E5ECF6\",\"width\":0.5},\"pattern\":{\"fillmode\":\"overlay\",\"size\":10,\"solidity\":0.2}},\"type\":\"bar\"}],\"scattergeo\":[{\"type\":\"scattergeo\",\"marker\":{\"colorbar\":{\"outlinewidth\":0,\"ticks\":\"\"}}}],\"scatterpolar\":[{\"type\":\"scatterpolar\",\"marker\":{\"colorbar\":{\"outlinewidth\":0,\"ticks\":\"\"}}}],\"histogram\":[{\"marker\":{\"pattern\":{\"fillmode\":\"overlay\",\"size\":10,\"solidity\":0.2}},\"type\":\"histogram\"}],\"scattergl\":[{\"type\":\"scattergl\",\"marker\":{\"colorbar\":{\"outlinewidth\":0,\"ticks\":\"\"}}}],\"scatter3d\":[{\"type\":\"scatter3d\",\"line\":{\"colorbar\":{\"outlinewidth\":0,\"ticks\":\"\"}},\"marker\":{\"colorbar\":{\"outlinewidth\":0,\"ticks\":\"\"}}}],\"scattermapbox\":[{\"type\":\"scattermapbox\",\"marker\":{\"colorbar\":{\"outlinewidth\":0,\"ticks\":\"\"}}}],\"scatterternary\":[{\"type\":\"scatterternary\",\"marker\":{\"colorbar\":{\"outlinewidth\":0,\"ticks\":\"\"}}}],\"scattercarpet\":[{\"type\":\"scattercarpet\",\"marker\":{\"colorbar\":{\"outlinewidth\":0,\"ticks\":\"\"}}}],\"carpet\":[{\"aaxis\":{\"endlinecolor\":\"#2a3f5f\",\"gridcolor\":\"white\",\"linecolor\":\"white\",\"minorgridcolor\":\"white\",\"startlinecolor\":\"#2a3f5f\"},\"baxis\":{\"endlinecolor\":\"#2a3f5f\",\"gridcolor\":\"white\",\"linecolor\":\"white\",\"minorgridcolor\":\"white\",\"startlinecolor\":\"#2a3f5f\"},\"type\":\"carpet\"}],\"table\":[{\"cells\":{\"fill\":{\"color\":\"#EBF0F8\"},\"line\":{\"color\":\"white\"}},\"header\":{\"fill\":{\"color\":\"#C8D4E3\"},\"line\":{\"color\":\"white\"}},\"type\":\"table\"}],\"barpolar\":[{\"marker\":{\"line\":{\"color\":\"#E5ECF6\",\"width\":0.5},\"pattern\":{\"fillmode\":\"overlay\",\"size\":10,\"solidity\":0.2}},\"type\":\"barpolar\"}],\"pie\":[{\"automargin\":true,\"type\":\"pie\"}]},\"layout\":{\"autotypenumbers\":\"strict\",\"colorway\":[\"#636efa\",\"#EF553B\",\"#00cc96\",\"#ab63fa\",\"#FFA15A\",\"#19d3f3\",\"#FF6692\",\"#B6E880\",\"#FF97FF\",\"#FECB52\"],\"font\":{\"color\":\"#2a3f5f\"},\"hovermode\":\"closest\",\"hoverlabel\":{\"align\":\"left\"},\"paper_bgcolor\":\"white\",\"plot_bgcolor\":\"#E5ECF6\",\"polar\":{\"bgcolor\":\"#E5ECF6\",\"angularaxis\":{\"gridcolor\":\"white\",\"linecolor\":\"white\",\"ticks\":\"\"},\"radialaxis\":{\"gridcolor\":\"white\",\"linecolor\":\"white\",\"ticks\":\"\"}},\"ternary\":{\"bgcolor\":\"#E5ECF6\",\"aaxis\":{\"gridcolor\":\"white\",\"linecolor\":\"white\",\"ticks\":\"\"},\"baxis\":{\"gridcolor\":\"white\",\"linecolor\":\"white\",\"ticks\":\"\"},\"caxis\":{\"gridcolor\":\"white\",\"linecolor\":\"white\",\"ticks\":\"\"}},\"coloraxis\":{\"colorbar\":{\"outlinewidth\":0,\"ticks\":\"\"}},\"colorscale\":{\"sequential\":[[0.0,\"#0d0887\"],[0.1111111111111111,\"#46039f\"],[0.2222222222222222,\"#7201a8\"],[0.3333333333333333,\"#9c179e\"],[0.4444444444444444,\"#bd3786\"],[0.5555555555555556,\"#d8576b\"],[0.6666666666666666,\"#ed7953\"],[0.7777777777777778,\"#fb9f3a\"],[0.8888888888888888,\"#fdca26\"],[1.0,\"#f0f921\"]],\"sequentialminus\":[[0.0,\"#0d0887\"],[0.1111111111111111,\"#46039f\"],[0.2222222222222222,\"#7201a8\"],[0.3333333333333333,\"#9c179e\"],[0.4444444444444444,\"#bd3786\"],[0.5555555555555556,\"#d8576b\"],[0.6666666666666666,\"#ed7953\"],[0.7777777777777778,\"#fb9f3a\"],[0.8888888888888888,\"#fdca26\"],[1.0,\"#f0f921\"]],\"diverging\":[[0,\"#8e0152\"],[0.1,\"#c51b7d\"],[0.2,\"#de77ae\"],[0.3,\"#f1b6da\"],[0.4,\"#fde0ef\"],[0.5,\"#f7f7f7\"],[0.6,\"#e6f5d0\"],[0.7,\"#b8e186\"],[0.8,\"#7fbc41\"],[0.9,\"#4d9221\"],[1,\"#276419\"]]},\"xaxis\":{\"gridcolor\":\"white\",\"linecolor\":\"white\",\"ticks\":\"\",\"title\":{\"standoff\":15},\"zerolinecolor\":\"white\",\"automargin\":true,\"zerolinewidth\":2},\"yaxis\":{\"gridcolor\":\"white\",\"linecolor\":\"white\",\"ticks\":\"\",\"title\":{\"standoff\":15},\"zerolinecolor\":\"white\",\"automargin\":true,\"zerolinewidth\":2},\"scene\":{\"xaxis\":{\"backgroundcolor\":\"#E5ECF6\",\"gridcolor\":\"white\",\"linecolor\":\"white\",\"showbackground\":true,\"ticks\":\"\",\"zerolinecolor\":\"white\",\"gridwidth\":2},\"yaxis\":{\"backgroundcolor\":\"#E5ECF6\",\"gridcolor\":\"white\",\"linecolor\":\"white\",\"showbackground\":true,\"ticks\":\"\",\"zerolinecolor\":\"white\",\"gridwidth\":2},\"zaxis\":{\"backgroundcolor\":\"#E5ECF6\",\"gridcolor\":\"white\",\"linecolor\":\"white\",\"showbackground\":true,\"ticks\":\"\",\"zerolinecolor\":\"white\",\"gridwidth\":2}},\"shapedefaults\":{\"line\":{\"color\":\"#2a3f5f\"}},\"annotationdefaults\":{\"arrowcolor\":\"#2a3f5f\",\"arrowhead\":0,\"arrowwidth\":1},\"geo\":{\"bgcolor\":\"white\",\"landcolor\":\"#E5ECF6\",\"subunitcolor\":\"white\",\"showland\":true,\"showlakes\":true,\"lakecolor\":\"white\"},\"title\":{\"x\":0.05},\"mapbox\":{\"style\":\"light\"}}},\"xaxis\":{\"anchor\":\"y\",\"domain\":[0.0,0.235],\"type\":\"linear\",\"title\":{\"font\":{\"size\":20},\"text\":\"Interactions Observed\"},\"nticks\":8,\"range\":[1,16]},\"yaxis\":{\"anchor\":\"x\",\"domain\":[0.0,0.2866666666666666],\"title\":{\"text\":\"\"},\"categoryorder\":\"array\",\"categoryarray\":[\"AD    \",\"HMM\",\"AC\",\"CM\",\"ENS\"],\"autorange\":true},\"xaxis2\":{\"anchor\":\"y2\",\"domain\":[0.255,0.49],\"matches\":\"x\",\"type\":\"linear\",\"title\":{\"font\":{\"size\":20},\"text\":\"Interactions Observed\"},\"nticks\":8,\"range\":[1,16]},\"yaxis2\":{\"anchor\":\"x2\",\"domain\":[0.0,0.2866666666666666],\"matches\":\"y\",\"showticklabels\":false,\"categoryorder\":\"array\",\"categoryarray\":[\"AD    \",\"HMM\",\"AC\",\"CM\",\"ENS\"]},\"xaxis3\":{\"anchor\":\"y3\",\"domain\":[0.51,0.745],\"matches\":\"x\",\"type\":\"linear\",\"title\":{\"font\":{\"size\":20},\"text\":\"Interactions Observed\"},\"nticks\":8,\"range\":[1,16]},\"yaxis3\":{\"anchor\":\"x3\",\"domain\":[0.0,0.2866666666666666],\"matches\":\"y\",\"showticklabels\":false,\"categoryorder\":\"array\",\"categoryarray\":[\"AD    \",\"HMM\",\"AC\",\"CM\",\"ENS\"]},\"xaxis4\":{\"anchor\":\"y4\",\"domain\":[0.7649999999999999,0.9999999999999999],\"matches\":\"x\",\"type\":\"linear\",\"title\":{\"font\":{\"size\":20},\"text\":\"Interactions Observed\"},\"nticks\":8,\"range\":[1,16]},\"yaxis4\":{\"anchor\":\"x4\",\"domain\":[0.0,0.2866666666666666],\"matches\":\"y\",\"showticklabels\":false,\"categoryorder\":\"array\",\"categoryarray\":[\"AD    \",\"HMM\",\"AC\",\"CM\",\"ENS\"]},\"xaxis5\":{\"anchor\":\"y5\",\"domain\":[0.0,0.235],\"matches\":\"x\",\"showticklabels\":false,\"type\":\"linear\",\"title\":{\"font\":{\"size\":12}},\"nticks\":8,\"range\":[1,16]},\"yaxis5\":{\"anchor\":\"x5\",\"domain\":[0.35666666666666663,0.6433333333333333],\"matches\":\"y\",\"title\":{\"text\":\"\"},\"categoryorder\":\"array\",\"categoryarray\":[\"AD    \",\"HMM\",\"AC\",\"CM\",\"ENS\"]},\"xaxis6\":{\"anchor\":\"y6\",\"domain\":[0.255,0.49],\"matches\":\"x\",\"showticklabels\":false,\"type\":\"linear\",\"title\":{\"font\":{\"size\":12}},\"nticks\":8,\"range\":[1,16]},\"yaxis6\":{\"anchor\":\"x6\",\"domain\":[0.35666666666666663,0.6433333333333333],\"matches\":\"y\",\"showticklabels\":false,\"categoryorder\":\"array\",\"categoryarray\":[\"AD    \",\"HMM\",\"AC\",\"CM\",\"ENS\"]},\"xaxis7\":{\"anchor\":\"y7\",\"domain\":[0.51,0.745],\"matches\":\"x\",\"showticklabels\":false,\"type\":\"linear\",\"title\":{\"font\":{\"size\":12}},\"nticks\":8,\"range\":[1,16]},\"yaxis7\":{\"anchor\":\"x7\",\"domain\":[0.35666666666666663,0.6433333333333333],\"matches\":\"y\",\"showticklabels\":false,\"categoryorder\":\"array\",\"categoryarray\":[\"AD    \",\"HMM\",\"AC\",\"CM\",\"ENS\"]},\"xaxis8\":{\"anchor\":\"y8\",\"domain\":[0.7649999999999999,0.9999999999999999],\"matches\":\"x\",\"showticklabels\":false,\"type\":\"linear\",\"title\":{\"font\":{\"size\":12}},\"nticks\":8,\"range\":[1,16]},\"yaxis8\":{\"anchor\":\"x8\",\"domain\":[0.35666666666666663,0.6433333333333333],\"matches\":\"y\",\"showticklabels\":false,\"categoryorder\":\"array\",\"categoryarray\":[\"AD    \",\"HMM\",\"AC\",\"CM\",\"ENS\"]},\"xaxis9\":{\"anchor\":\"y9\",\"domain\":[0.0,0.235],\"matches\":\"x\",\"showticklabels\":false,\"type\":\"linear\",\"title\":{\"font\":{\"size\":12}},\"nticks\":8,\"range\":[1,16]},\"yaxis9\":{\"anchor\":\"x9\",\"domain\":[0.7133333333333333,0.9999999999999999],\"matches\":\"y\",\"title\":{\"text\":\"\"},\"categoryorder\":\"array\",\"categoryarray\":[\"AD    \",\"HMM\",\"AC\",\"CM\",\"ENS\"]},\"xaxis10\":{\"anchor\":\"y10\",\"domain\":[0.255,0.49],\"matches\":\"x\",\"showticklabels\":false,\"type\":\"linear\",\"title\":{\"font\":{\"size\":12}},\"nticks\":8,\"range\":[1,16]},\"yaxis10\":{\"anchor\":\"x10\",\"domain\":[0.7133333333333333,0.9999999999999999],\"matches\":\"y\",\"showticklabels\":false,\"categoryorder\":\"array\",\"categoryarray\":[\"AD    \",\"HMM\",\"AC\",\"CM\",\"ENS\"]},\"xaxis11\":{\"anchor\":\"y11\",\"domain\":[0.51,0.745],\"matches\":\"x\",\"showticklabels\":false,\"type\":\"linear\",\"title\":{\"font\":{\"size\":12}},\"nticks\":8,\"range\":[1,16]},\"yaxis11\":{\"anchor\":\"x11\",\"domain\":[0.7133333333333333,0.9999999999999999],\"matches\":\"y\",\"showticklabels\":false,\"categoryorder\":\"array\",\"categoryarray\":[\"AD    \",\"HMM\",\"AC\",\"CM\",\"ENS\"]},\"xaxis12\":{\"anchor\":\"y12\",\"domain\":[0.7649999999999999,0.9999999999999999],\"matches\":\"x\",\"showticklabels\":false,\"type\":\"linear\",\"title\":{\"font\":{\"size\":12}},\"nticks\":8,\"range\":[1,16]},\"yaxis12\":{\"anchor\":\"x12\",\"domain\":[0.7133333333333333,0.9999999999999999],\"matches\":\"y\",\"showticklabels\":false,\"categoryorder\":\"array\",\"categoryarray\":[\"AD    \",\"HMM\",\"AC\",\"CM\",\"ENS\"]},\"annotations\":[{\"font\":{},\"showarrow\":false,\"text\":\"user=India\",\"x\":0.1175,\"xanchor\":\"center\",\"xref\":\"paper\",\"y\":0.2866666666666666,\"yanchor\":\"bottom\",\"yref\":\"paper\"},{\"font\":{},\"showarrow\":false,\"text\":\"user=Juliett\",\"x\":0.3725,\"xanchor\":\"center\",\"xref\":\"paper\",\"y\":0.2866666666666666,\"yanchor\":\"bottom\",\"yref\":\"paper\"},{\"font\":{},\"showarrow\":false,\"text\":\"user=Kilo\",\"x\":0.6275,\"xanchor\":\"center\",\"xref\":\"paper\",\"y\":0.2866666666666666,\"yanchor\":\"bottom\",\"yref\":\"paper\"},{\"font\":{},\"showarrow\":false,\"text\":\"user=Lima\",\"x\":0.8824999999999998,\"xanchor\":\"center\",\"xref\":\"paper\",\"y\":0.2866666666666666,\"yanchor\":\"bottom\",\"yref\":\"paper\"},{\"font\":{},\"showarrow\":false,\"text\":\"user=Echo\",\"x\":0.1175,\"xanchor\":\"center\",\"xref\":\"paper\",\"y\":0.6433333333333333,\"yanchor\":\"bottom\",\"yref\":\"paper\"},{\"font\":{},\"showarrow\":false,\"text\":\"user=Foxtrot\",\"x\":0.3725,\"xanchor\":\"center\",\"xref\":\"paper\",\"y\":0.6433333333333333,\"yanchor\":\"bottom\",\"yref\":\"paper\"},{\"font\":{},\"showarrow\":false,\"text\":\"user=Golf\",\"x\":0.6275,\"xanchor\":\"center\",\"xref\":\"paper\",\"y\":0.6433333333333333,\"yanchor\":\"bottom\",\"yref\":\"paper\"},{\"font\":{},\"showarrow\":false,\"text\":\"user=Hotel\",\"x\":0.8824999999999998,\"xanchor\":\"center\",\"xref\":\"paper\",\"y\":0.6433333333333333,\"yanchor\":\"bottom\",\"yref\":\"paper\"},{\"font\":{},\"showarrow\":false,\"text\":\"user=Alfa\",\"x\":0.1175,\"xanchor\":\"center\",\"xref\":\"paper\",\"y\":0.9999999999999999,\"yanchor\":\"bottom\",\"yref\":\"paper\"},{\"font\":{},\"showarrow\":false,\"text\":\"user=Bravo\",\"x\":0.3725,\"xanchor\":\"center\",\"xref\":\"paper\",\"y\":0.9999999999999999,\"yanchor\":\"bottom\",\"yref\":\"paper\"},{\"font\":{},\"showarrow\":false,\"text\":\"user=Charlie\",\"x\":0.6275,\"xanchor\":\"center\",\"xref\":\"paper\",\"y\":0.9999999999999999,\"yanchor\":\"bottom\",\"yref\":\"paper\"},{\"font\":{},\"showarrow\":false,\"text\":\"user=Delta\",\"x\":0.8824999999999998,\"xanchor\":\"center\",\"xref\":\"paper\",\"y\":0.9999999999999999,\"yanchor\":\"bottom\",\"yref\":\"paper\"}],\"legend\":{\"title\":{\"text\":\"\"},\"tracegroupgap\":0,\"orientation\":\"h\",\"yanchor\":\"bottom\",\"y\":-0.35,\"xanchor\":\"center\",\"x\":0.5},\"title\":{\"text\":\"Top Ranking Bias During Exploration of Political Committee Data\",\"font\":{\"size\":20},\"x\":0.5,\"xanchor\":\"center\",\"yanchor\":\"top\"},\"barmode\":\"overlay\",\"height\":700,\"width\":1500,\"font\":{\"color\":\"black\",\"size\":20}},                        {\"responsive\": true}                    ).then(function(){\n",
       "                            \n",
       "var gd = document.getElementById('c74bd525-21f1-41a0-9f7a-3100a682a277');\n",
       "var x = new MutationObserver(function (mutations, observer) {{\n",
       "        var display = window.getComputedStyle(gd).display;\n",
       "        if (!display || display === 'none') {{\n",
       "            console.log([gd, 'removed!']);\n",
       "            Plotly.purge(gd);\n",
       "            observer.disconnect();\n",
       "        }}\n",
       "}});\n",
       "\n",
       "// Listen for the removal of the full notebook cells\n",
       "var notebookContainer = gd.closest('#notebook-container');\n",
       "if (notebookContainer) {{\n",
       "    x.observe(notebookContainer, {childList: true});\n",
       "}}\n",
       "\n",
       "// Listen for the clearing of the current output cell\n",
       "var outputEl = gd.closest('.output');\n",
       "if (outputEl) {{\n",
       "    x.observe(outputEl, {childList: true});\n",
       "}}\n",
       "\n",
       "                        })                };                });            </script>        </div>"
      ]
     },
     "metadata": {},
     "output_type": "display_data"
    }
   ],
   "source": [
    "# Political\n",
    "political_interaction_data['interaction_session'] = political_interaction_data.apply(lambda row: ast.literal_eval(str(row.interaction_session)), axis=1)\n",
    "political_interaction_data['interaction_type'] = political_interaction_data.apply(lambda row: ast.literal_eval(str(row.interaction_type)), axis=1)\n",
    "\n",
    "bias_metric_per_task = {'party': 'bias-party', 'gender': 'bias-gender', 'occupation':'bias-occupation',\n",
    "                       'age': 'bias-age', 'political_experience': 'bias-political_experience',\n",
    "                       'policy_strength_ban_abortion_after_6_weeks': 'bias-policy_strength_ban_abortion_after_6_weeks',\n",
    "                       'policy_strength_legalize_medical_marijuana':'bias-policy_strength_legalize_medical_marijuana',\n",
    "                        'policy_strength_increase_medicare_funding': 'bias-policy_strength_increase_medicare_funding',\n",
    "                       'policy_strength_ban_alcohol_sales_sundays': 'bias-policy_strength_ban_alcohol_sales_sundays'}\n",
    "\n",
    "bias_metric_per_task_hmm = {'party': 'bias-bias_party', 'gender': 'bias-bias_gender', 'occupation':'bias-bias_occupation',\n",
    "                       'age': 'bias-bias_age', 'political_experience': 'bias-bias_political_experience',\n",
    "                       'policy_strength_ban_abortion_after_6_weeks': 'bias-bias_policy_strength_ban_abortion_after_6_weeks',\n",
    "                       'policy_strength_legalize_medical_marijuana':'bias-bias_policy_strength_legalize_medical_marijuana',\n",
    "                        'policy_strength_increase_medicare_funding': 'bias-bias_policy_strength_increase_medicare_funding',\n",
    "                       'policy_strength_ban_alcohol_sales_sundays': 'bias-bias_policy_strength_ban_alcohol_sales_sundays'}\n",
    "\n",
    "bias_metric_per_task_ac = {'party': 'bias-party', 'gender': 'bias-gender', 'occupation':'bias-occupation',\n",
    "                       'age': 'bias-age_disc', 'political_experience': 'bias-political_experience_disc',\n",
    "                       'policy_strength_ban_abortion_after_6_weeks': 'bias-policy_strength_ban_abortion_after_6_weeks_disc',\n",
    "                       'policy_strength_legalize_medical_marijuana':'bias-policy_strength_legalize_medical_marijuana_disc',\n",
    "                        'policy_strength_increase_medicare_funding': 'bias-policy_strength_increase_medicare_funding_disc',\n",
    "                       'policy_strength_ban_alcohol_sales_sundays': 'bias-policy_strength_ban_alcohol_sales_sundays_disc'}\n",
    "\n",
    "shorten_col = ['policy_strength_legalize_medical_marijuana', 'policy_strength_ban_abortion_after_6_weeks',\n",
    "                   'policy_strength_increase_medicare_funding', 'policy_strength_ban_alcohol_sales_sundays']\n",
    "\n",
    "shorten_col_vals = {'policy_strength_legalize_medical_marijuana': 'marijuana',\n",
    "              'policy_strength_ban_abortion_after_6_weeks': 'abortion',\n",
    "              'policy_strength_increase_medicare_funding': 'medicare',\n",
    "              'policy_strength_ban_alcohol_sales_sundays': 'alcohol'}\n",
    "participant_names = ['Alfa', 'Bravo', 'Charlie', 'Delta', 'Echo', 'Foxtrot', 'Golf', 'Hotel', 'India', \n",
    "                     'Juliett', 'Kilo', 'Lima']\n",
    "\n",
    "def user_bias_over_time(user, results, bias_metric_names, alg, interaction_data, index):\n",
    "    user_top_bias = pd.DataFrame()\n",
    "    attribute_list = []\n",
    "    session_len = len(interaction_data.loc[interaction_data.user == user, 'interaction_session'].values[0])\n",
    "    user_bias_data = results[results.participant_id == user]\n",
    "    user_name = participant_names[index]\n",
    "    for i in range(session_len):\n",
    "        if i > 0:\n",
    "            current_max = {'attribute': '', 'bias': 0}\n",
    "            for attr in bias_metric_names.values():\n",
    "                attr_clean = [k for k,v in bias_metric_names.items() if v == attr][0]\n",
    "                if attr_clean in shorten_col:\n",
    "                    attr_clean = shorten_col_vals[attr_clean]\n",
    "                current_bias =  float(user_bias_data[attr].values[0][i-1])\n",
    "                if current_max['bias'] < current_bias:\n",
    "                    diff = current_bias - current_max['bias']\n",
    "                    if diff > 0.01:\n",
    "                        current_max['attribute'] = attr_clean\n",
    "                        current_max['bias'] = current_bias\n",
    "                    else:\n",
    "                        random_top = random.choice([current_max['attribute'], attr_clean])\n",
    "                        if(random_top == attr_clean):\n",
    "                            current_max['bias'] = current_bias\n",
    "                            current_max['attribute'] = random_top\n",
    "            if alg == 'AD':\n",
    "                alg = 'AD    '\n",
    "            user_top_bias = pd.concat([user_top_bias, pd.DataFrame({'user': user_name, 'alg': alg,'start': [i],\n",
    "                                        'stop': [i + 1], 'top_bias': [current_max['attribute']],\n",
    "                                        'bias_value': [round(current_max['bias'], 2)]})])\n",
    "    return user_top_bias.reset_index(drop=True)\n",
    "            \n",
    "user_list = political_interaction_data['user'].unique()\n",
    "all_user_sessions = pd.DataFrame()\n",
    "\n",
    "for i, user in enumerate(user_list):\n",
    "    df = user_bias_over_time(user, political_results_wall, bias_metric_per_task, 'AD', political_interaction_data,i)\n",
    "    df_hmm = user_bias_over_time(user, political_results_hmm, bias_metric_per_task_hmm, 'HMM', political_interaction_data,i)\n",
    "    df_cm = user_bias_over_time(user, political_results_cm, bias_metric_per_task, 'CM', political_interaction_data,i)\n",
    "    df_ac = user_bias_over_time(user, political_results_ac, bias_metric_per_task_ac, 'AC', political_interaction_data,i)\n",
    "    df_ensemble = user_bias_over_time(user, political_results_ensemble_bias, bias_metric_per_task, 'ENS', political_interaction_data, i)\n",
    "    combined_user = pd.concat([df, df_hmm, df_ac, df_cm, df_ensemble])\n",
    "    all_user_sessions = pd.concat([all_user_sessions, combined_user])\n",
    "    \n",
    "all_user_sessions['delta'] = all_user_sessions['stop'] - all_user_sessions['start']\n",
    "# colors = px.colors.qualitative.Plotly + px.colors.qualitative.Safe + px.colors.qualitative.Antique\n",
    "colors = px.colors.qualitative.Plotly + px.colors.qualitative.Dark24\n",
    "fig = px.timeline(all_user_sessions, x_start='start', x_end='stop', y='alg', color='top_bias', text='bias_value',\n",
    "                  facet_col='user', facet_col_wrap = 4,\n",
    "                  title = 'Top Ranking Bias During Exploration of Political Committee Data',\n",
    "                 labels = {'alg':''}, facet_row_spacing=0.07, width=1500, height=700)\n",
    "\n",
    "fig.for_each_xaxis(lambda xaxis: xaxis.update(type='linear'))\n",
    "\n",
    "for d in fig.data:\n",
    "    x_array = len(d.x)\n",
    "    d.x = [1] * x_array\n",
    "\n",
    "fig.update_xaxes(\n",
    "    nticks= 8,\n",
    "    range= [1,16],\n",
    "    title_font=dict(size=12)\n",
    ")\n",
    "fig.update_yaxes(categoryorder='array', categoryarray=['AD    ', 'HMM', 'AC', 'CM', 'ENS'])\n",
    "\n",
    "font_size = 20\n",
    "fig.update_xaxes(title_text = 'Interactions Observed', title_font=dict(size=font_size), row=1, col=1)\n",
    "fig.update_xaxes(title_text = 'Interactions Observed', title_font=dict(size=font_size), row=1, col=2)\n",
    "fig.update_xaxes(title_text = 'Interactions Observed', title_font=dict(size=font_size), row=1, col=3)\n",
    "fig.update_xaxes(title_text = 'Interactions Observed', title_font=dict(size=font_size), row=1, col=4)\n",
    "\n",
    "\n",
    "fig.update_layout(\n",
    "    title = dict(x=0.5, xanchor='center', yanchor='top', font_size=font_size),\n",
    "    legend=dict(title = '', orientation=\"h\", yanchor=\"bottom\", y=-0.35, xanchor=\"center\", x=0.5),\n",
    "    font=dict(color='black', size=font_size)\n",
    ")\n",
    "\n",
    "fig.for_each_trace(\n",
    "    lambda trace: trace.update(marker_opacity = trace.text)\n",
    ")\n",
    "# fig.update_yaxes(automargin=True)\n",
    "fig['layout']['yaxis']['autorange'] = True\n",
    "fig.update_traces(textfont_size=4, textangle=0, text='')\n",
    "fig.show()\n",
    "fig.write_image('../output/figs/political_user_session.png', scale=2)"
   ]
  },
  {
   "cell_type": "code",
   "execution_count": 6,
   "id": "1c306562",
   "metadata": {},
   "outputs": [
    {
     "data": {
      "application/vnd.plotly.v1+json": {
       "config": {
        "plotlyServerURL": "https://plot.ly"
       },
       "data": [
        {
         "alignmentgroup": "True",
         "base": [
          1,
          1,
          1,
          2,
          3,
          1
         ],
         "hovertemplate": "top_bias=type-based<br>task=location-based<br>start=%{base}<br>stop=%{x}<br>=%{y}<br>bias_value=%{text}<extra></extra>",
         "legendgroup": "type-based",
         "marker": {
          "color": "#636EFA",
          "opacity": [
           0.46,
           0.61,
           0.66,
           0.5,
           0.59,
           0.4
          ],
          "pattern": {
           "shape": ""
          }
         },
         "name": "type-based",
         "offsetgroup": "type-based",
         "orientation": "h",
         "showlegend": true,
         "text": "",
         "textangle": 0,
         "textfont": {
          "size": 4
         },
         "textposition": "auto",
         "type": "bar",
         "x": [
          1,
          1,
          1,
          1,
          1,
          1
         ],
         "xaxis": "x",
         "y": [
          "AD    ",
          "HMM",
          "AC",
          "CM",
          "CM",
          "ENS"
         ],
         "yaxis": "y"
        },
        {
         "alignmentgroup": "True",
         "base": [
          1,
          2,
          3,
          4,
          5,
          6,
          7,
          8,
          9,
          10,
          11,
          12,
          13,
          14,
          15,
          16,
          17,
          18,
          19,
          20,
          21,
          2,
          3,
          4,
          5,
          6,
          7,
          8,
          9,
          10,
          11,
          12,
          13,
          14,
          15,
          16,
          17,
          18,
          19,
          20,
          21,
          1,
          2,
          3,
          4,
          5,
          6,
          7,
          8,
          9,
          10,
          11,
          12,
          13,
          14,
          15,
          16,
          17,
          18,
          19,
          20,
          21,
          2,
          3,
          4,
          5,
          6,
          7,
          8,
          9,
          10,
          11,
          12,
          13,
          14,
          15,
          16,
          17,
          18,
          19,
          20,
          21,
          2,
          3,
          4,
          5,
          6,
          7,
          8,
          9,
          10,
          11,
          12,
          13,
          14,
          15,
          16,
          17,
          18,
          19,
          20,
          21
         ],
         "hovertemplate": "top_bias=type-based<br>task=type-based<br>start=%{base}<br>stop=%{x}<br>=%{y}<br>bias_value=%{text}<extra></extra>",
         "legendgroup": "type-based",
         "marker": {
          "color": "#636EFA",
          "opacity": [
           0.46,
           0.62,
           0.78,
           0.91,
           0.96,
           0.97,
           0.97,
           0.97,
           1,
           1,
           1,
           1,
           1,
           1,
           1,
           1,
           1,
           1,
           1,
           1,
           1,
           0.67,
           0.74,
           0.77,
           0.79,
           0.81,
           0.84,
           0.85,
           0.88,
           0.89,
           0.89,
           0.9,
           0.89,
           0.89,
           0.9,
           0.91,
           0.9,
           0.9,
           0.9,
           0.9,
           0.91,
           0.91,
           0.91,
           0.92,
           0.92,
           0.93,
           0.92,
           0.92,
           0.92,
           0.95,
           0.95,
           0.94,
           0.94,
           0.95,
           0.95,
           0.96,
           0.96,
           0.96,
           0.96,
           0.96,
           0.96,
           0.96,
           0.93,
           0.93,
           0.96,
           0.98,
           1,
           0.99,
           0.96,
           0.95,
           1,
           1,
           1,
           1,
           1,
           1,
           1,
           1,
           1,
           1,
           1,
           1,
           0.56,
           0.61,
           0.65,
           0.68,
           0.69,
           0.69,
           0.69,
           0.72,
           0.71,
           0.71,
           0.71,
           0.72,
           0.72,
           0.72,
           0.72,
           0.72,
           0.72,
           0.72,
           0.73,
           0.72
          ],
          "pattern": {
           "shape": ""
          }
         },
         "name": "type-based",
         "offsetgroup": "type-based",
         "orientation": "h",
         "showlegend": false,
         "text": "",
         "textangle": 0,
         "textfont": {
          "size": 4
         },
         "textposition": "auto",
         "type": "bar",
         "x": [
          1,
          1,
          1,
          1,
          1,
          1,
          1,
          1,
          1,
          1,
          1,
          1,
          1,
          1,
          1,
          1,
          1,
          1,
          1,
          1,
          1,
          1,
          1,
          1,
          1,
          1,
          1,
          1,
          1,
          1,
          1,
          1,
          1,
          1,
          1,
          1,
          1,
          1,
          1,
          1,
          1,
          1,
          1,
          1,
          1,
          1,
          1,
          1,
          1,
          1,
          1,
          1,
          1,
          1,
          1,
          1,
          1,
          1,
          1,
          1,
          1,
          1,
          1,
          1,
          1,
          1,
          1,
          1,
          1,
          1,
          1,
          1,
          1,
          1,
          1,
          1,
          1,
          1,
          1,
          1,
          1,
          1,
          1,
          1,
          1,
          1,
          1,
          1,
          1,
          1,
          1,
          1,
          1,
          1,
          1,
          1,
          1,
          1,
          1,
          1,
          1,
          1
         ],
         "xaxis": "x2",
         "y": [
          "AD    ",
          "AD    ",
          "AD    ",
          "AD    ",
          "AD    ",
          "AD    ",
          "AD    ",
          "AD    ",
          "AD    ",
          "AD    ",
          "AD    ",
          "AD    ",
          "AD    ",
          "AD    ",
          "AD    ",
          "AD    ",
          "AD    ",
          "AD    ",
          "AD    ",
          "AD    ",
          "AD    ",
          "HMM",
          "HMM",
          "HMM",
          "HMM",
          "HMM",
          "HMM",
          "HMM",
          "HMM",
          "HMM",
          "HMM",
          "HMM",
          "HMM",
          "HMM",
          "HMM",
          "HMM",
          "HMM",
          "HMM",
          "HMM",
          "HMM",
          "HMM",
          "AC",
          "AC",
          "AC",
          "AC",
          "AC",
          "AC",
          "AC",
          "AC",
          "AC",
          "AC",
          "AC",
          "AC",
          "AC",
          "AC",
          "AC",
          "AC",
          "AC",
          "AC",
          "AC",
          "AC",
          "AC",
          "CM",
          "CM",
          "CM",
          "CM",
          "CM",
          "CM",
          "CM",
          "CM",
          "CM",
          "CM",
          "CM",
          "CM",
          "CM",
          "CM",
          "CM",
          "CM",
          "CM",
          "CM",
          "CM",
          "CM",
          "ENS",
          "ENS",
          "ENS",
          "ENS",
          "ENS",
          "ENS",
          "ENS",
          "ENS",
          "ENS",
          "ENS",
          "ENS",
          "ENS",
          "ENS",
          "ENS",
          "ENS",
          "ENS",
          "ENS",
          "ENS",
          "ENS",
          "ENS"
         ],
         "yaxis": "y2"
        },
        {
         "alignmentgroup": "True",
         "base": [
          1,
          1,
          6,
          7,
          8,
          9,
          10,
          11,
          12,
          13,
          14,
          15,
          16,
          17,
          18,
          19,
          20,
          21,
          22,
          23,
          24,
          25,
          26,
          27,
          28,
          29,
          30,
          31,
          32,
          33,
          34,
          35,
          36,
          37,
          38,
          39,
          40,
          41,
          42,
          43,
          44,
          45,
          46,
          47,
          48,
          49,
          50,
          51,
          52,
          53,
          54,
          55,
          56,
          57,
          58,
          59,
          60,
          61,
          62,
          63,
          64,
          65,
          66,
          67,
          68,
          69,
          70,
          71,
          72,
          73,
          74,
          75,
          76,
          77,
          78,
          79,
          80,
          81,
          82,
          83,
          84,
          85,
          86,
          87,
          88,
          89,
          90,
          91,
          92,
          93,
          94,
          95,
          96,
          97,
          98,
          99,
          100,
          101,
          102,
          103,
          104,
          105,
          106,
          107,
          108,
          109,
          110,
          111,
          112,
          113,
          114,
          115,
          116,
          117,
          118,
          119,
          120,
          121,
          2,
          3,
          4,
          5,
          6,
          7,
          8,
          9,
          10,
          11,
          12,
          13,
          38,
          39
         ],
         "hovertemplate": "top_bias=type-based<br>task=mixed<br>start=%{base}<br>stop=%{x}<br>=%{y}<br>bias_value=%{text}<extra></extra>",
         "legendgroup": "type-based",
         "marker": {
          "color": "#636EFA",
          "opacity": [
           0.46,
           0.59,
           0.63,
           0.63,
           0.63,
           0.63,
           0.63,
           0.63,
           0.63,
           0.63,
           0.63,
           0.63,
           0.63,
           0.63,
           0.62,
           0.62,
           0.62,
           0.62,
           0.62,
           0.62,
           0.62,
           0.62,
           0.62,
           0.62,
           0.62,
           0.61,
           0.61,
           0.61,
           0.61,
           0.62,
           0.61,
           0.61,
           0.6,
           0.6,
           0.6,
           0.57,
           0.55,
           0.53,
           0.53,
           0.53,
           0.5,
           0.49,
           0.49,
           0.49,
           0.47,
           0.45,
           0.45,
           0.45,
           0.45,
           0.45,
           0.45,
           0.45,
           0.45,
           0.45,
           0.43,
           0.43,
           0.43,
           0.43,
           0.42,
           0.42,
           0.42,
           0.43,
           0.43,
           0.43,
           0.43,
           0.43,
           0.43,
           0.43,
           0.43,
           0.43,
           0.43,
           0.43,
           0.43,
           0.43,
           0.43,
           0.42,
           0.42,
           0.42,
           0.43,
           0.42,
           0.42,
           0.42,
           0.42,
           0.42,
           0.42,
           0.42,
           0.41,
           0.41,
           0.41,
           0.41,
           0.41,
           0.42,
           0.42,
           0.42,
           0.42,
           0.42,
           0.43,
           0.43,
           0.43,
           0.43,
           0.43,
           0.43,
           0.43,
           0.43,
           0.43,
           0.45,
           0.45,
           0.45,
           0.45,
           0.45,
           0.45,
           0.45,
           0.45,
           0.45,
           0.45,
           0.47,
           0.47,
           0.47,
           0.54,
           0.59,
           0.57,
           0.56,
           0.56,
           0.56,
           0.56,
           0.56,
           0.56,
           0.56,
           0.56,
           0.56,
           0.77,
           0.79
          ],
          "pattern": {
           "shape": ""
          }
         },
         "name": "type-based",
         "offsetgroup": "type-based",
         "orientation": "h",
         "showlegend": false,
         "text": "",
         "textangle": 0,
         "textfont": {
          "size": 4
         },
         "textposition": "auto",
         "type": "bar",
         "x": [
          1,
          1,
          1,
          1,
          1,
          1,
          1,
          1,
          1,
          1,
          1,
          1,
          1,
          1,
          1,
          1,
          1,
          1,
          1,
          1,
          1,
          1,
          1,
          1,
          1,
          1,
          1,
          1,
          1,
          1,
          1,
          1,
          1,
          1,
          1,
          1,
          1,
          1,
          1,
          1,
          1,
          1,
          1,
          1,
          1,
          1,
          1,
          1,
          1,
          1,
          1,
          1,
          1,
          1,
          1,
          1,
          1,
          1,
          1,
          1,
          1,
          1,
          1,
          1,
          1,
          1,
          1,
          1,
          1,
          1,
          1,
          1,
          1,
          1,
          1,
          1,
          1,
          1,
          1,
          1,
          1,
          1,
          1,
          1,
          1,
          1,
          1,
          1,
          1,
          1,
          1,
          1,
          1,
          1,
          1,
          1,
          1,
          1,
          1,
          1,
          1,
          1,
          1,
          1,
          1,
          1,
          1,
          1,
          1,
          1,
          1,
          1,
          1,
          1,
          1,
          1,
          1,
          1,
          1,
          1,
          1,
          1,
          1,
          1,
          1,
          1,
          1,
          1,
          1,
          1,
          1,
          1
         ],
         "xaxis": "x3",
         "y": [
          "AD    ",
          "HMM",
          "AC",
          "AC",
          "AC",
          "AC",
          "AC",
          "AC",
          "AC",
          "AC",
          "AC",
          "AC",
          "AC",
          "AC",
          "AC",
          "AC",
          "AC",
          "AC",
          "AC",
          "AC",
          "AC",
          "AC",
          "AC",
          "AC",
          "AC",
          "AC",
          "AC",
          "AC",
          "AC",
          "AC",
          "AC",
          "AC",
          "AC",
          "AC",
          "AC",
          "AC",
          "AC",
          "AC",
          "AC",
          "AC",
          "AC",
          "AC",
          "AC",
          "AC",
          "AC",
          "AC",
          "AC",
          "AC",
          "AC",
          "AC",
          "AC",
          "AC",
          "AC",
          "AC",
          "AC",
          "AC",
          "AC",
          "AC",
          "AC",
          "AC",
          "AC",
          "AC",
          "AC",
          "AC",
          "AC",
          "AC",
          "AC",
          "AC",
          "AC",
          "AC",
          "AC",
          "AC",
          "AC",
          "AC",
          "AC",
          "AC",
          "AC",
          "AC",
          "AC",
          "AC",
          "AC",
          "AC",
          "AC",
          "AC",
          "AC",
          "AC",
          "AC",
          "AC",
          "AC",
          "AC",
          "AC",
          "AC",
          "AC",
          "AC",
          "AC",
          "AC",
          "AC",
          "AC",
          "AC",
          "AC",
          "AC",
          "AC",
          "AC",
          "AC",
          "AC",
          "AC",
          "AC",
          "AC",
          "AC",
          "AC",
          "AC",
          "AC",
          "AC",
          "AC",
          "AC",
          "AC",
          "AC",
          "AC",
          "CM",
          "CM",
          "CM",
          "CM",
          "CM",
          "CM",
          "CM",
          "CM",
          "CM",
          "CM",
          "CM",
          "CM",
          "CM",
          "CM"
         ],
         "yaxis": "y3"
        },
        {
         "alignmentgroup": "True",
         "base": [
          2,
          3,
          4,
          5,
          6,
          7,
          8,
          9,
          10,
          11,
          12,
          13,
          14,
          15,
          16,
          17,
          18,
          19,
          20,
          21,
          22,
          23,
          24,
          25,
          26,
          27,
          28,
          29,
          30,
          31,
          32,
          33,
          34,
          35,
          36,
          37,
          38,
          39,
          40,
          41,
          42,
          43,
          44,
          45,
          46,
          47,
          48,
          49,
          50,
          51,
          52,
          53,
          54,
          55,
          56,
          57,
          2,
          3,
          4,
          5,
          6,
          7,
          8,
          9,
          10,
          11,
          12,
          13,
          14,
          15,
          16,
          17,
          18,
          19,
          20,
          21,
          22,
          23,
          24,
          25,
          26,
          27,
          28,
          29,
          30,
          31,
          32,
          33,
          34,
          35,
          36,
          37,
          38,
          39,
          40,
          41,
          42,
          43,
          44,
          45,
          46,
          47,
          48,
          49,
          50,
          51,
          52,
          53,
          54,
          55,
          56,
          57,
          2,
          3,
          4,
          5,
          6,
          7,
          8,
          9,
          10,
          11,
          12,
          13,
          14,
          15,
          16,
          17,
          18,
          19,
          20,
          21,
          22,
          23,
          24,
          25,
          26,
          27,
          28,
          29,
          30,
          31,
          32,
          33,
          34,
          35,
          36,
          37,
          38,
          39,
          40,
          41,
          42,
          43,
          44,
          45,
          46,
          47,
          48,
          49,
          50,
          51,
          52,
          53,
          54,
          55,
          56,
          57,
          4,
          5,
          6,
          7,
          8,
          9,
          10,
          11,
          12,
          13,
          14,
          15,
          16,
          17,
          18,
          19,
          20,
          21,
          22,
          23,
          24,
          25,
          26,
          27,
          28,
          29,
          30,
          31,
          32,
          33,
          34,
          35,
          36,
          37,
          38,
          39,
          40,
          41,
          42,
          43,
          44,
          45,
          46,
          47,
          48,
          49,
          50,
          51,
          52,
          53,
          54,
          55,
          56,
          57,
          2,
          3,
          4,
          5,
          6,
          7,
          8,
          9,
          10,
          11,
          12,
          13,
          14,
          15,
          16,
          17,
          18,
          19,
          20,
          21,
          22,
          23,
          24,
          25,
          26,
          27,
          28,
          29,
          30,
          31,
          32,
          33,
          34,
          35,
          36,
          37,
          38,
          39,
          40,
          41,
          42,
          43,
          44,
          45,
          46,
          47,
          48,
          49,
          50,
          51,
          52,
          53,
          54,
          55,
          56,
          57
         ],
         "hovertemplate": "top_bias=location-based<br>task=location-based<br>start=%{base}<br>stop=%{x}<br>=%{y}<br>bias_value=%{text}<extra></extra>",
         "legendgroup": "location-based",
         "marker": {
          "color": "#EF553B",
          "opacity": [
           0.49,
           0.67,
           0.8,
           0.86,
           0.92,
           0.95,
           0.97,
           0.98,
           0.99,
           0.99,
           1,
           1,
           1,
           1,
           1,
           1,
           1,
           1,
           1,
           1,
           1,
           1,
           1,
           1,
           1,
           1,
           1,
           1,
           1,
           1,
           1,
           1,
           1,
           1,
           1,
           1,
           1,
           1,
           1,
           1,
           1,
           1,
           1,
           1,
           1,
           1,
           1,
           1,
           1,
           1,
           1,
           1,
           1,
           1,
           1,
           1,
           0.71,
           0.78,
           0.83,
           0.85,
           0.87,
           0.88,
           0.88,
           0.89,
           0.89,
           0.89,
           0.89,
           0.89,
           0.9,
           0.9,
           0.9,
           0.89,
           0.89,
           0.89,
           0.89,
           0.89,
           0.89,
           0.89,
           0.89,
           0.89,
           0.89,
           0.89,
           0.89,
           0.89,
           0.89,
           0.89,
           0.89,
           0.9,
           0.9,
           0.9,
           0.9,
           0.9,
           0.9,
           0.9,
           0.89,
           0.9,
           0.9,
           0.89,
           0.89,
           0.9,
           0.9,
           0.89,
           0.9,
           0.9,
           0.89,
           0.9,
           0.89,
           0.9,
           0.89,
           0.89,
           0.89,
           0.89,
           0.63,
           0.61,
           0.58,
           0.57,
           0.57,
           0.57,
           0.57,
           0.57,
           0.56,
           0.55,
           0.55,
           0.55,
           0.55,
           0.55,
           0.54,
           0.54,
           0.54,
           0.54,
           0.54,
           0.54,
           0.53,
           0.53,
           0.52,
           0.52,
           0.52,
           0.51,
           0.51,
           0.51,
           0.5,
           0.5,
           0.5,
           0.49,
           0.49,
           0.49,
           0.49,
           0.49,
           0.49,
           0.48,
           0.48,
           0.48,
           0.48,
           0.48,
           0.48,
           0.48,
           0.48,
           0.48,
           0.48,
           0.48,
           0.48,
           0.48,
           0.48,
           0.48,
           0.48,
           0.48,
           0.48,
           0.48,
           0.54,
           0.77,
           0.93,
           0.99,
           0.99,
           1,
           1,
           1,
           1,
           1,
           1,
           1,
           1,
           1,
           1,
           1,
           1,
           1,
           1,
           1,
           1,
           1,
           1,
           1,
           1,
           1,
           1,
           1,
           1,
           1,
           1,
           1,
           1,
           1,
           1,
           1,
           1,
           1,
           1,
           1,
           1,
           1,
           1,
           1,
           1,
           1,
           1,
           1,
           1,
           1,
           1,
           1,
           1,
           1,
           0.44,
           0.47,
           0.55,
           0.63,
           0.68,
           0.71,
           0.71,
           0.72,
           0.72,
           0.72,
           0.72,
           0.72,
           0.72,
           0.72,
           0.72,
           0.72,
           0.72,
           0.72,
           0.72,
           0.72,
           0.72,
           0.72,
           0.72,
           0.72,
           0.72,
           0.72,
           0.72,
           0.72,
           0.72,
           0.72,
           0.72,
           0.72,
           0.72,
           0.72,
           0.72,
           0.72,
           0.72,
           0.72,
           0.72,
           0.72,
           0.72,
           0.72,
           0.72,
           0.72,
           0.72,
           0.72,
           0.72,
           0.72,
           0.72,
           0.72,
           0.72,
           0.72,
           0.72,
           0.72,
           0.73,
           0.73
          ],
          "pattern": {
           "shape": ""
          }
         },
         "name": "location-based",
         "offsetgroup": "location-based",
         "orientation": "h",
         "showlegend": true,
         "text": "",
         "textangle": 0,
         "textfont": {
          "size": 4
         },
         "textposition": "auto",
         "type": "bar",
         "x": [
          1,
          1,
          1,
          1,
          1,
          1,
          1,
          1,
          1,
          1,
          1,
          1,
          1,
          1,
          1,
          1,
          1,
          1,
          1,
          1,
          1,
          1,
          1,
          1,
          1,
          1,
          1,
          1,
          1,
          1,
          1,
          1,
          1,
          1,
          1,
          1,
          1,
          1,
          1,
          1,
          1,
          1,
          1,
          1,
          1,
          1,
          1,
          1,
          1,
          1,
          1,
          1,
          1,
          1,
          1,
          1,
          1,
          1,
          1,
          1,
          1,
          1,
          1,
          1,
          1,
          1,
          1,
          1,
          1,
          1,
          1,
          1,
          1,
          1,
          1,
          1,
          1,
          1,
          1,
          1,
          1,
          1,
          1,
          1,
          1,
          1,
          1,
          1,
          1,
          1,
          1,
          1,
          1,
          1,
          1,
          1,
          1,
          1,
          1,
          1,
          1,
          1,
          1,
          1,
          1,
          1,
          1,
          1,
          1,
          1,
          1,
          1,
          1,
          1,
          1,
          1,
          1,
          1,
          1,
          1,
          1,
          1,
          1,
          1,
          1,
          1,
          1,
          1,
          1,
          1,
          1,
          1,
          1,
          1,
          1,
          1,
          1,
          1,
          1,
          1,
          1,
          1,
          1,
          1,
          1,
          1,
          1,
          1,
          1,
          1,
          1,
          1,
          1,
          1,
          1,
          1,
          1,
          1,
          1,
          1,
          1,
          1,
          1,
          1,
          1,
          1,
          1,
          1,
          1,
          1,
          1,
          1,
          1,
          1,
          1,
          1,
          1,
          1,
          1,
          1,
          1,
          1,
          1,
          1,
          1,
          1,
          1,
          1,
          1,
          1,
          1,
          1,
          1,
          1,
          1,
          1,
          1,
          1,
          1,
          1,
          1,
          1,
          1,
          1,
          1,
          1,
          1,
          1,
          1,
          1,
          1,
          1,
          1,
          1,
          1,
          1,
          1,
          1,
          1,
          1,
          1,
          1,
          1,
          1,
          1,
          1,
          1,
          1,
          1,
          1,
          1,
          1,
          1,
          1,
          1,
          1,
          1,
          1,
          1,
          1,
          1,
          1,
          1,
          1,
          1,
          1,
          1,
          1,
          1,
          1,
          1,
          1,
          1,
          1,
          1,
          1,
          1,
          1,
          1,
          1,
          1,
          1,
          1,
          1,
          1,
          1,
          1,
          1,
          1,
          1,
          1,
          1,
          1,
          1,
          1,
          1,
          1,
          1
         ],
         "xaxis": "x",
         "y": [
          "AD    ",
          "AD    ",
          "AD    ",
          "AD    ",
          "AD    ",
          "AD    ",
          "AD    ",
          "AD    ",
          "AD    ",
          "AD    ",
          "AD    ",
          "AD    ",
          "AD    ",
          "AD    ",
          "AD    ",
          "AD    ",
          "AD    ",
          "AD    ",
          "AD    ",
          "AD    ",
          "AD    ",
          "AD    ",
          "AD    ",
          "AD    ",
          "AD    ",
          "AD    ",
          "AD    ",
          "AD    ",
          "AD    ",
          "AD    ",
          "AD    ",
          "AD    ",
          "AD    ",
          "AD    ",
          "AD    ",
          "AD    ",
          "AD    ",
          "AD    ",
          "AD    ",
          "AD    ",
          "AD    ",
          "AD    ",
          "AD    ",
          "AD    ",
          "AD    ",
          "AD    ",
          "AD    ",
          "AD    ",
          "AD    ",
          "AD    ",
          "AD    ",
          "AD    ",
          "AD    ",
          "AD    ",
          "AD    ",
          "AD    ",
          "HMM",
          "HMM",
          "HMM",
          "HMM",
          "HMM",
          "HMM",
          "HMM",
          "HMM",
          "HMM",
          "HMM",
          "HMM",
          "HMM",
          "HMM",
          "HMM",
          "HMM",
          "HMM",
          "HMM",
          "HMM",
          "HMM",
          "HMM",
          "HMM",
          "HMM",
          "HMM",
          "HMM",
          "HMM",
          "HMM",
          "HMM",
          "HMM",
          "HMM",
          "HMM",
          "HMM",
          "HMM",
          "HMM",
          "HMM",
          "HMM",
          "HMM",
          "HMM",
          "HMM",
          "HMM",
          "HMM",
          "HMM",
          "HMM",
          "HMM",
          "HMM",
          "HMM",
          "HMM",
          "HMM",
          "HMM",
          "HMM",
          "HMM",
          "HMM",
          "HMM",
          "HMM",
          "HMM",
          "HMM",
          "HMM",
          "AC",
          "AC",
          "AC",
          "AC",
          "AC",
          "AC",
          "AC",
          "AC",
          "AC",
          "AC",
          "AC",
          "AC",
          "AC",
          "AC",
          "AC",
          "AC",
          "AC",
          "AC",
          "AC",
          "AC",
          "AC",
          "AC",
          "AC",
          "AC",
          "AC",
          "AC",
          "AC",
          "AC",
          "AC",
          "AC",
          "AC",
          "AC",
          "AC",
          "AC",
          "AC",
          "AC",
          "AC",
          "AC",
          "AC",
          "AC",
          "AC",
          "AC",
          "AC",
          "AC",
          "AC",
          "AC",
          "AC",
          "AC",
          "AC",
          "AC",
          "AC",
          "AC",
          "AC",
          "AC",
          "AC",
          "AC",
          "CM",
          "CM",
          "CM",
          "CM",
          "CM",
          "CM",
          "CM",
          "CM",
          "CM",
          "CM",
          "CM",
          "CM",
          "CM",
          "CM",
          "CM",
          "CM",
          "CM",
          "CM",
          "CM",
          "CM",
          "CM",
          "CM",
          "CM",
          "CM",
          "CM",
          "CM",
          "CM",
          "CM",
          "CM",
          "CM",
          "CM",
          "CM",
          "CM",
          "CM",
          "CM",
          "CM",
          "CM",
          "CM",
          "CM",
          "CM",
          "CM",
          "CM",
          "CM",
          "CM",
          "CM",
          "CM",
          "CM",
          "CM",
          "CM",
          "CM",
          "CM",
          "CM",
          "CM",
          "CM",
          "ENS",
          "ENS",
          "ENS",
          "ENS",
          "ENS",
          "ENS",
          "ENS",
          "ENS",
          "ENS",
          "ENS",
          "ENS",
          "ENS",
          "ENS",
          "ENS",
          "ENS",
          "ENS",
          "ENS",
          "ENS",
          "ENS",
          "ENS",
          "ENS",
          "ENS",
          "ENS",
          "ENS",
          "ENS",
          "ENS",
          "ENS",
          "ENS",
          "ENS",
          "ENS",
          "ENS",
          "ENS",
          "ENS",
          "ENS",
          "ENS",
          "ENS",
          "ENS",
          "ENS",
          "ENS",
          "ENS",
          "ENS",
          "ENS",
          "ENS",
          "ENS",
          "ENS",
          "ENS",
          "ENS",
          "ENS",
          "ENS",
          "ENS",
          "ENS",
          "ENS",
          "ENS",
          "ENS",
          "ENS",
          "ENS"
         ],
         "yaxis": "y"
        },
        {
         "alignmentgroup": "True",
         "base": [
          1,
          1
         ],
         "hovertemplate": "top_bias=location-based<br>task=type-based<br>start=%{base}<br>stop=%{x}<br>=%{y}<br>bias_value=%{text}<extra></extra>",
         "legendgroup": "location-based",
         "marker": {
          "color": "#EF553B",
          "opacity": [
           0.59,
           0.44
          ],
          "pattern": {
           "shape": ""
          }
         },
         "name": "location-based",
         "offsetgroup": "location-based",
         "orientation": "h",
         "showlegend": false,
         "text": "",
         "textangle": 0,
         "textfont": {
          "size": 4
         },
         "textposition": "auto",
         "type": "bar",
         "x": [
          1,
          1
         ],
         "xaxis": "x2",
         "y": [
          "HMM",
          "ENS"
         ],
         "yaxis": "y2"
        },
        {
         "alignmentgroup": "True",
         "base": [
          2,
          3,
          4,
          5,
          6,
          7,
          8,
          9,
          10,
          11,
          12,
          13,
          14,
          15,
          16,
          17,
          18,
          19,
          20,
          21,
          22,
          2,
          3,
          4,
          5,
          6,
          7,
          8,
          9,
          10,
          11,
          12,
          13,
          14,
          15,
          16,
          17,
          18,
          19,
          20,
          21,
          22,
          23,
          24,
          25,
          26,
          27,
          28,
          29,
          30,
          31,
          32,
          33,
          34,
          35,
          36,
          37,
          38,
          39,
          40,
          41,
          42,
          43,
          44,
          45,
          46,
          47,
          48,
          49,
          50,
          51,
          52,
          53,
          54,
          55,
          56,
          57,
          58,
          59,
          60,
          61,
          62,
          63,
          64,
          65,
          66,
          67,
          68,
          69,
          70,
          71,
          72,
          73,
          74,
          75,
          76,
          77,
          78,
          79,
          80,
          81,
          82,
          83,
          84,
          85,
          86,
          87,
          88,
          89,
          90,
          91,
          92,
          93,
          94,
          95,
          96,
          97,
          98,
          99,
          100,
          101,
          102,
          103,
          104,
          105,
          106,
          107,
          108,
          109,
          110,
          111,
          112,
          113,
          114,
          115,
          116,
          117,
          118,
          119,
          120,
          121,
          1,
          2,
          3,
          4,
          14,
          15,
          16,
          17,
          18,
          19,
          20,
          21,
          22,
          23,
          24,
          25,
          26,
          27,
          28,
          29,
          30,
          31,
          32,
          33,
          34,
          35,
          36,
          40,
          41,
          42,
          43,
          44,
          45,
          46,
          47,
          48,
          49,
          50,
          51,
          52,
          53,
          54,
          55,
          56,
          57,
          58,
          59,
          2,
          3,
          4,
          5,
          6,
          7,
          8,
          9,
          10,
          11,
          12,
          13,
          14,
          15,
          16,
          17,
          18,
          19,
          20,
          21,
          22,
          23,
          24,
          25,
          26,
          27,
          28,
          29,
          30,
          31,
          32,
          33,
          34,
          35,
          36,
          37,
          38,
          39,
          40,
          41,
          42,
          43,
          44,
          45,
          46,
          47,
          48,
          49,
          50,
          51,
          52,
          53,
          54,
          55,
          56,
          57,
          58,
          59,
          60,
          61,
          62,
          63,
          64,
          65,
          66,
          67,
          68,
          69,
          70,
          71,
          72,
          73,
          74,
          75,
          76,
          77,
          78,
          79,
          80,
          81,
          82,
          83,
          84,
          85,
          86,
          87,
          88,
          89,
          90,
          91,
          92,
          93,
          94,
          95,
          96,
          97,
          98,
          99,
          100,
          101,
          102,
          103,
          104,
          105,
          106,
          107,
          108,
          109,
          110,
          111,
          112,
          113,
          114,
          115,
          116,
          117,
          118,
          119,
          120,
          121
         ],
         "hovertemplate": "top_bias=location-based<br>task=mixed<br>start=%{base}<br>stop=%{x}<br>=%{y}<br>bias_value=%{text}<extra></extra>",
         "legendgroup": "location-based",
         "marker": {
          "color": "#EF553B",
          "opacity": [
           0.77,
           0.92,
           0.97,
           0.99,
           0.99,
           1,
           1,
           1,
           1,
           1,
           1,
           1,
           1,
           1,
           1,
           1,
           1,
           1,
           1,
           1,
           1,
           0.69,
           0.77,
           0.82,
           0.84,
           0.86,
           0.87,
           0.88,
           0.88,
           0.89,
           0.89,
           0.89,
           0.89,
           0.88,
           0.88,
           0.89,
           0.89,
           0.88,
           0.88,
           0.88,
           0.88,
           0.88,
           0.89,
           0.89,
           0.89,
           0.89,
           0.88,
           0.89,
           0.89,
           0.88,
           0.89,
           0.88,
           0.89,
           0.89,
           0.89,
           0.89,
           0.89,
           0.89,
           0.89,
           0.89,
           0.89,
           0.89,
           0.89,
           0.89,
           0.89,
           0.89,
           0.89,
           0.89,
           0.89,
           0.89,
           0.89,
           0.89,
           0.89,
           0.89,
           0.89,
           0.89,
           0.89,
           0.89,
           0.89,
           0.89,
           0.89,
           0.89,
           0.89,
           0.89,
           0.89,
           0.89,
           0.89,
           0.89,
           0.89,
           0.89,
           0.9,
           0.9,
           0.9,
           0.9,
           0.9,
           0.9,
           0.9,
           0.9,
           0.89,
           0.89,
           0.89,
           0.89,
           0.89,
           0.89,
           0.89,
           0.89,
           0.89,
           0.89,
           0.89,
           0.9,
           0.9,
           0.9,
           0.9,
           0.89,
           0.89,
           0.89,
           0.89,
           0.89,
           0.89,
           0.9,
           0.89,
           0.89,
           0.89,
           0.89,
           0.89,
           0.89,
           0.89,
           0.89,
           0.89,
           0.89,
           0.89,
           0.89,
           0.88,
           0.89,
           0.89,
           0.88,
           0.89,
           0.89,
           0.9,
           0.91,
           0.89,
           0.7,
           0.69,
           0.66,
           0.64,
           0.59,
           0.65,
           0.7,
           0.75,
           0.78,
           0.82,
           0.83,
           0.83,
           0.84,
           0.84,
           0.81,
           0.81,
           0.82,
           0.82,
           0.83,
           0.83,
           0.84,
           0.83,
           0.84,
           0.83,
           0.81,
           0.79,
           0.78,
           0.83,
           0.89,
           0.92,
           0.93,
           0.92,
           0.98,
           0.97,
           0.98,
           0.98,
           0.98,
           0.98,
           0.99,
           1,
           1,
           1,
           1,
           1,
           1,
           1,
           1,
           0.46,
           0.51,
           0.56,
           0.57,
           0.58,
           0.58,
           0.58,
           0.58,
           0.59,
           0.59,
           0.59,
           0.6,
           0.62,
           0.63,
           0.65,
           0.66,
           0.67,
           0.68,
           0.68,
           0.68,
           0.68,
           0.68,
           0.68,
           0.67,
           0.68,
           0.68,
           0.68,
           0.68,
           0.68,
           0.68,
           0.68,
           0.68,
           0.67,
           0.67,
           0.66,
           0.66,
           0.66,
           0.68,
           0.69,
           0.7,
           0.7,
           0.7,
           0.72,
           0.72,
           0.72,
           0.72,
           0.72,
           0.72,
           0.72,
           0.72,
           0.72,
           0.72,
           0.72,
           0.72,
           0.72,
           0.72,
           0.72,
           0.72,
           0.72,
           0.72,
           0.72,
           0.72,
           0.72,
           0.72,
           0.72,
           0.72,
           0.72,
           0.72,
           0.72,
           0.72,
           0.72,
           0.72,
           0.72,
           0.72,
           0.72,
           0.72,
           0.72,
           0.72,
           0.72,
           0.72,
           0.72,
           0.72,
           0.72,
           0.72,
           0.72,
           0.72,
           0.72,
           0.72,
           0.72,
           0.72,
           0.72,
           0.72,
           0.72,
           0.72,
           0.72,
           0.72,
           0.72,
           0.72,
           0.72,
           0.72,
           0.72,
           0.72,
           0.72,
           0.72,
           0.72,
           0.72,
           0.72,
           0.72,
           0.72,
           0.72,
           0.72,
           0.72,
           0.72,
           0.72,
           0.72,
           0.72,
           0.72,
           0.72,
           0.72,
           0.72
          ],
          "pattern": {
           "shape": ""
          }
         },
         "name": "location-based",
         "offsetgroup": "location-based",
         "orientation": "h",
         "showlegend": false,
         "text": "",
         "textangle": 0,
         "textfont": {
          "size": 4
         },
         "textposition": "auto",
         "type": "bar",
         "x": [
          1,
          1,
          1,
          1,
          1,
          1,
          1,
          1,
          1,
          1,
          1,
          1,
          1,
          1,
          1,
          1,
          1,
          1,
          1,
          1,
          1,
          1,
          1,
          1,
          1,
          1,
          1,
          1,
          1,
          1,
          1,
          1,
          1,
          1,
          1,
          1,
          1,
          1,
          1,
          1,
          1,
          1,
          1,
          1,
          1,
          1,
          1,
          1,
          1,
          1,
          1,
          1,
          1,
          1,
          1,
          1,
          1,
          1,
          1,
          1,
          1,
          1,
          1,
          1,
          1,
          1,
          1,
          1,
          1,
          1,
          1,
          1,
          1,
          1,
          1,
          1,
          1,
          1,
          1,
          1,
          1,
          1,
          1,
          1,
          1,
          1,
          1,
          1,
          1,
          1,
          1,
          1,
          1,
          1,
          1,
          1,
          1,
          1,
          1,
          1,
          1,
          1,
          1,
          1,
          1,
          1,
          1,
          1,
          1,
          1,
          1,
          1,
          1,
          1,
          1,
          1,
          1,
          1,
          1,
          1,
          1,
          1,
          1,
          1,
          1,
          1,
          1,
          1,
          1,
          1,
          1,
          1,
          1,
          1,
          1,
          1,
          1,
          1,
          1,
          1,
          1,
          1,
          1,
          1,
          1,
          1,
          1,
          1,
          1,
          1,
          1,
          1,
          1,
          1,
          1,
          1,
          1,
          1,
          1,
          1,
          1,
          1,
          1,
          1,
          1,
          1,
          1,
          1,
          1,
          1,
          1,
          1,
          1,
          1,
          1,
          1,
          1,
          1,
          1,
          1,
          1,
          1,
          1,
          1,
          1,
          1,
          1,
          1,
          1,
          1,
          1,
          1,
          1,
          1,
          1,
          1,
          1,
          1,
          1,
          1,
          1,
          1,
          1,
          1,
          1,
          1,
          1,
          1,
          1,
          1,
          1,
          1,
          1,
          1,
          1,
          1,
          1,
          1,
          1,
          1,
          1,
          1,
          1,
          1,
          1,
          1,
          1,
          1,
          1,
          1,
          1,
          1,
          1,
          1,
          1,
          1,
          1,
          1,
          1,
          1,
          1,
          1,
          1,
          1,
          1,
          1,
          1,
          1,
          1,
          1,
          1,
          1,
          1,
          1,
          1,
          1,
          1,
          1,
          1,
          1,
          1,
          1,
          1,
          1,
          1,
          1,
          1,
          1,
          1,
          1,
          1,
          1,
          1,
          1,
          1,
          1,
          1,
          1,
          1,
          1,
          1,
          1,
          1,
          1,
          1,
          1,
          1,
          1,
          1,
          1,
          1,
          1,
          1,
          1,
          1,
          1,
          1,
          1,
          1,
          1,
          1,
          1,
          1,
          1,
          1,
          1,
          1,
          1
         ],
         "xaxis": "x3",
         "y": [
          "AD    ",
          "AD    ",
          "AD    ",
          "AD    ",
          "AD    ",
          "AD    ",
          "AD    ",
          "AD    ",
          "AD    ",
          "AD    ",
          "AD    ",
          "AD    ",
          "AD    ",
          "AD    ",
          "AD    ",
          "AD    ",
          "AD    ",
          "AD    ",
          "AD    ",
          "AD    ",
          "AD    ",
          "HMM",
          "HMM",
          "HMM",
          "HMM",
          "HMM",
          "HMM",
          "HMM",
          "HMM",
          "HMM",
          "HMM",
          "HMM",
          "HMM",
          "HMM",
          "HMM",
          "HMM",
          "HMM",
          "HMM",
          "HMM",
          "HMM",
          "HMM",
          "HMM",
          "HMM",
          "HMM",
          "HMM",
          "HMM",
          "HMM",
          "HMM",
          "HMM",
          "HMM",
          "HMM",
          "HMM",
          "HMM",
          "HMM",
          "HMM",
          "HMM",
          "HMM",
          "HMM",
          "HMM",
          "HMM",
          "HMM",
          "HMM",
          "HMM",
          "HMM",
          "HMM",
          "HMM",
          "HMM",
          "HMM",
          "HMM",
          "HMM",
          "HMM",
          "HMM",
          "HMM",
          "HMM",
          "HMM",
          "HMM",
          "HMM",
          "HMM",
          "HMM",
          "HMM",
          "HMM",
          "HMM",
          "HMM",
          "HMM",
          "HMM",
          "HMM",
          "HMM",
          "HMM",
          "HMM",
          "HMM",
          "HMM",
          "HMM",
          "HMM",
          "HMM",
          "HMM",
          "HMM",
          "HMM",
          "HMM",
          "HMM",
          "HMM",
          "HMM",
          "HMM",
          "HMM",
          "HMM",
          "HMM",
          "HMM",
          "HMM",
          "HMM",
          "HMM",
          "HMM",
          "HMM",
          "HMM",
          "HMM",
          "HMM",
          "HMM",
          "HMM",
          "HMM",
          "HMM",
          "HMM",
          "HMM",
          "HMM",
          "HMM",
          "HMM",
          "HMM",
          "HMM",
          "HMM",
          "HMM",
          "HMM",
          "HMM",
          "HMM",
          "HMM",
          "HMM",
          "HMM",
          "HMM",
          "HMM",
          "HMM",
          "HMM",
          "HMM",
          "HMM",
          "HMM",
          "HMM",
          "AC",
          "AC",
          "AC",
          "AC",
          "CM",
          "CM",
          "CM",
          "CM",
          "CM",
          "CM",
          "CM",
          "CM",
          "CM",
          "CM",
          "CM",
          "CM",
          "CM",
          "CM",
          "CM",
          "CM",
          "CM",
          "CM",
          "CM",
          "CM",
          "CM",
          "CM",
          "CM",
          "CM",
          "CM",
          "CM",
          "CM",
          "CM",
          "CM",
          "CM",
          "CM",
          "CM",
          "CM",
          "CM",
          "CM",
          "CM",
          "CM",
          "CM",
          "CM",
          "CM",
          "CM",
          "CM",
          "CM",
          "ENS",
          "ENS",
          "ENS",
          "ENS",
          "ENS",
          "ENS",
          "ENS",
          "ENS",
          "ENS",
          "ENS",
          "ENS",
          "ENS",
          "ENS",
          "ENS",
          "ENS",
          "ENS",
          "ENS",
          "ENS",
          "ENS",
          "ENS",
          "ENS",
          "ENS",
          "ENS",
          "ENS",
          "ENS",
          "ENS",
          "ENS",
          "ENS",
          "ENS",
          "ENS",
          "ENS",
          "ENS",
          "ENS",
          "ENS",
          "ENS",
          "ENS",
          "ENS",
          "ENS",
          "ENS",
          "ENS",
          "ENS",
          "ENS",
          "ENS",
          "ENS",
          "ENS",
          "ENS",
          "ENS",
          "ENS",
          "ENS",
          "ENS",
          "ENS",
          "ENS",
          "ENS",
          "ENS",
          "ENS",
          "ENS",
          "ENS",
          "ENS",
          "ENS",
          "ENS",
          "ENS",
          "ENS",
          "ENS",
          "ENS",
          "ENS",
          "ENS",
          "ENS",
          "ENS",
          "ENS",
          "ENS",
          "ENS",
          "ENS",
          "ENS",
          "ENS",
          "ENS",
          "ENS",
          "ENS",
          "ENS",
          "ENS",
          "ENS",
          "ENS",
          "ENS",
          "ENS",
          "ENS",
          "ENS",
          "ENS",
          "ENS",
          "ENS",
          "ENS",
          "ENS",
          "ENS",
          "ENS",
          "ENS",
          "ENS",
          "ENS",
          "ENS",
          "ENS",
          "ENS",
          "ENS",
          "ENS",
          "ENS",
          "ENS",
          "ENS",
          "ENS",
          "ENS",
          "ENS",
          "ENS",
          "ENS",
          "ENS",
          "ENS",
          "ENS",
          "ENS",
          "ENS",
          "ENS",
          "ENS",
          "ENS",
          "ENS",
          "ENS",
          "ENS",
          "ENS"
         ],
         "yaxis": "y3"
        },
        {
         "alignmentgroup": "True",
         "base": [
          1
         ],
         "hovertemplate": "top_bias=location-based + type-based<br>task=location-based<br>start=%{base}<br>stop=%{x}<br>=%{y}<br>bias_value=%{text}<extra></extra>",
         "legendgroup": "location-based + type-based",
         "marker": {
          "color": "#00CC96",
          "opacity": [
           0.25
          ],
          "pattern": {
           "shape": ""
          }
         },
         "name": "location-based + type-based",
         "offsetgroup": "location-based + type-based",
         "orientation": "h",
         "showlegend": true,
         "text": "",
         "textangle": 0,
         "textfont": {
          "size": 4
         },
         "textposition": "auto",
         "type": "bar",
         "x": [
          1
         ],
         "xaxis": "x",
         "y": [
          "CM"
         ],
         "yaxis": "y"
        },
        {
         "alignmentgroup": "True",
         "base": [
          1
         ],
         "hovertemplate": "top_bias=location-based + type-based<br>task=type-based<br>start=%{base}<br>stop=%{x}<br>=%{y}<br>bias_value=%{text}<extra></extra>",
         "legendgroup": "location-based + type-based",
         "marker": {
          "color": "#00CC96",
          "opacity": [
           0.25
          ],
          "pattern": {
           "shape": ""
          }
         },
         "name": "location-based + type-based",
         "offsetgroup": "location-based + type-based",
         "orientation": "h",
         "showlegend": false,
         "text": "",
         "textangle": 0,
         "textfont": {
          "size": 4
         },
         "textposition": "auto",
         "type": "bar",
         "x": [
          1
         ],
         "xaxis": "x2",
         "y": [
          "CM"
         ],
         "yaxis": "y2"
        },
        {
         "alignmentgroup": "True",
         "base": [
          23,
          24,
          25,
          26,
          27,
          28,
          29,
          30,
          31,
          32,
          33,
          34,
          35,
          36,
          37,
          38,
          39,
          40,
          41,
          42,
          43,
          44,
          45,
          46,
          47,
          48,
          49,
          50,
          51,
          52,
          53,
          54,
          55,
          56,
          57,
          58,
          59,
          60,
          61,
          62,
          63,
          64,
          65,
          66,
          67,
          68,
          69,
          70,
          71,
          72,
          73,
          74,
          75,
          76,
          77,
          78,
          79,
          80,
          81,
          82,
          83,
          84,
          85,
          86,
          87,
          88,
          89,
          90,
          91,
          92,
          93,
          94,
          95,
          96,
          97,
          98,
          99,
          100,
          101,
          102,
          103,
          104,
          105,
          106,
          107,
          108,
          109,
          110,
          111,
          112,
          113,
          114,
          115,
          116,
          117,
          118,
          119,
          120,
          121,
          5,
          1,
          37,
          60,
          61,
          62,
          63,
          64,
          65,
          66,
          67,
          68,
          69,
          70,
          71,
          72,
          73,
          74,
          75,
          76,
          77,
          78,
          79,
          80,
          81,
          82,
          83,
          84,
          85,
          86,
          87,
          88,
          89,
          90,
          91,
          92,
          93,
          94,
          95,
          96,
          97,
          98,
          99,
          100,
          101,
          102,
          103,
          104,
          105,
          106,
          107,
          108,
          109,
          110,
          111,
          112,
          113,
          114,
          115,
          116,
          117,
          118,
          119,
          120,
          121,
          1
         ],
         "hovertemplate": "top_bias=location-based + type-based<br>task=mixed<br>start=%{base}<br>stop=%{x}<br>=%{y}<br>bias_value=%{text}<extra></extra>",
         "legendgroup": "location-based + type-based",
         "marker": {
          "color": "#00CC96",
          "opacity": [
           0.99,
           0.99,
           0.99,
           0.99,
           0.99,
           0.99,
           0.99,
           0.99,
           1,
           1,
           1,
           1,
           1,
           1,
           1,
           1,
           1,
           1,
           1,
           1,
           1,
           1,
           1,
           1,
           1,
           1,
           1,
           1,
           1,
           1,
           1,
           1,
           1,
           1,
           1,
           1,
           1,
           1,
           1,
           1,
           1,
           1,
           1,
           1,
           1,
           1,
           1,
           1,
           1,
           1,
           1,
           1,
           1,
           1,
           1,
           1,
           1,
           1,
           1,
           1,
           1,
           1,
           1,
           1,
           1,
           1,
           1,
           1,
           1,
           1,
           1,
           1,
           1,
           1,
           1,
           1,
           1,
           1,
           1,
           1,
           1,
           1,
           1,
           1,
           1,
           1,
           1,
           1,
           1,
           1,
           1,
           1,
           1,
           1,
           1,
           1,
           1,
           1,
           1,
           0.4,
           0.25,
           0.55,
           0.99,
           0.99,
           1,
           1,
           1,
           1,
           1,
           1,
           1,
           1,
           1,
           1,
           1,
           1,
           1,
           1,
           1,
           1,
           1,
           1,
           1,
           1,
           1,
           1,
           1,
           1,
           1,
           1,
           1,
           1,
           1,
           1,
           1,
           1,
           1,
           1,
           1,
           1,
           1,
           1,
           1,
           1,
           1,
           1,
           1,
           1,
           1,
           1,
           1,
           1,
           1,
           1,
           1,
           1,
           1,
           1,
           1,
           1,
           1,
           1,
           1,
           1,
           0.15
          ],
          "pattern": {
           "shape": ""
          }
         },
         "name": "location-based + type-based",
         "offsetgroup": "location-based + type-based",
         "orientation": "h",
         "showlegend": false,
         "text": "",
         "textangle": 0,
         "textfont": {
          "size": 4
         },
         "textposition": "auto",
         "type": "bar",
         "x": [
          1,
          1,
          1,
          1,
          1,
          1,
          1,
          1,
          1,
          1,
          1,
          1,
          1,
          1,
          1,
          1,
          1,
          1,
          1,
          1,
          1,
          1,
          1,
          1,
          1,
          1,
          1,
          1,
          1,
          1,
          1,
          1,
          1,
          1,
          1,
          1,
          1,
          1,
          1,
          1,
          1,
          1,
          1,
          1,
          1,
          1,
          1,
          1,
          1,
          1,
          1,
          1,
          1,
          1,
          1,
          1,
          1,
          1,
          1,
          1,
          1,
          1,
          1,
          1,
          1,
          1,
          1,
          1,
          1,
          1,
          1,
          1,
          1,
          1,
          1,
          1,
          1,
          1,
          1,
          1,
          1,
          1,
          1,
          1,
          1,
          1,
          1,
          1,
          1,
          1,
          1,
          1,
          1,
          1,
          1,
          1,
          1,
          1,
          1,
          1,
          1,
          1,
          1,
          1,
          1,
          1,
          1,
          1,
          1,
          1,
          1,
          1,
          1,
          1,
          1,
          1,
          1,
          1,
          1,
          1,
          1,
          1,
          1,
          1,
          1,
          1,
          1,
          1,
          1,
          1,
          1,
          1,
          1,
          1,
          1,
          1,
          1,
          1,
          1,
          1,
          1,
          1,
          1,
          1,
          1,
          1,
          1,
          1,
          1,
          1,
          1,
          1,
          1,
          1,
          1,
          1,
          1,
          1,
          1,
          1,
          1,
          1,
          1,
          1,
          1
         ],
         "xaxis": "x3",
         "y": [
          "AD    ",
          "AD    ",
          "AD    ",
          "AD    ",
          "AD    ",
          "AD    ",
          "AD    ",
          "AD    ",
          "AD    ",
          "AD    ",
          "AD    ",
          "AD    ",
          "AD    ",
          "AD    ",
          "AD    ",
          "AD    ",
          "AD    ",
          "AD    ",
          "AD    ",
          "AD    ",
          "AD    ",
          "AD    ",
          "AD    ",
          "AD    ",
          "AD    ",
          "AD    ",
          "AD    ",
          "AD    ",
          "AD    ",
          "AD    ",
          "AD    ",
          "AD    ",
          "AD    ",
          "AD    ",
          "AD    ",
          "AD    ",
          "AD    ",
          "AD    ",
          "AD    ",
          "AD    ",
          "AD    ",
          "AD    ",
          "AD    ",
          "AD    ",
          "AD    ",
          "AD    ",
          "AD    ",
          "AD    ",
          "AD    ",
          "AD    ",
          "AD    ",
          "AD    ",
          "AD    ",
          "AD    ",
          "AD    ",
          "AD    ",
          "AD    ",
          "AD    ",
          "AD    ",
          "AD    ",
          "AD    ",
          "AD    ",
          "AD    ",
          "AD    ",
          "AD    ",
          "AD    ",
          "AD    ",
          "AD    ",
          "AD    ",
          "AD    ",
          "AD    ",
          "AD    ",
          "AD    ",
          "AD    ",
          "AD    ",
          "AD    ",
          "AD    ",
          "AD    ",
          "AD    ",
          "AD    ",
          "AD    ",
          "AD    ",
          "AD    ",
          "AD    ",
          "AD    ",
          "AD    ",
          "AD    ",
          "AD    ",
          "AD    ",
          "AD    ",
          "AD    ",
          "AD    ",
          "AD    ",
          "AD    ",
          "AD    ",
          "AD    ",
          "AD    ",
          "AD    ",
          "AD    ",
          "AC",
          "CM",
          "CM",
          "CM",
          "CM",
          "CM",
          "CM",
          "CM",
          "CM",
          "CM",
          "CM",
          "CM",
          "CM",
          "CM",
          "CM",
          "CM",
          "CM",
          "CM",
          "CM",
          "CM",
          "CM",
          "CM",
          "CM",
          "CM",
          "CM",
          "CM",
          "CM",
          "CM",
          "CM",
          "CM",
          "CM",
          "CM",
          "CM",
          "CM",
          "CM",
          "CM",
          "CM",
          "CM",
          "CM",
          "CM",
          "CM",
          "CM",
          "CM",
          "CM",
          "CM",
          "CM",
          "CM",
          "CM",
          "CM",
          "CM",
          "CM",
          "CM",
          "CM",
          "CM",
          "CM",
          "CM",
          "CM",
          "CM",
          "CM",
          "CM",
          "CM",
          "CM",
          "CM",
          "CM",
          "CM",
          "ENS"
         ],
         "yaxis": "y3"
        }
       ],
       "layout": {
        "annotations": [
         {
          "font": {},
          "showarrow": false,
          "text": "task=location-based",
          "x": 0.15999999999999998,
          "xanchor": "center",
          "xref": "paper",
          "y": 1,
          "yanchor": "bottom",
          "yref": "paper"
         },
         {
          "font": {},
          "showarrow": false,
          "text": "task=type-based",
          "x": 0.49999999999999994,
          "xanchor": "center",
          "xref": "paper",
          "y": 1,
          "yanchor": "bottom",
          "yref": "paper"
         },
         {
          "font": {},
          "showarrow": false,
          "text": "task=mixed",
          "x": 0.8399999999999999,
          "xanchor": "center",
          "xref": "paper",
          "y": 1,
          "yanchor": "bottom",
          "yref": "paper"
         }
        ],
        "barmode": "overlay",
        "font": {
         "color": "black",
         "size": 20
        },
        "height": 400,
        "legend": {
         "orientation": "h",
         "title": {
          "text": ""
         },
         "tracegroupgap": 0,
         "x": 0.5,
         "xanchor": "center",
         "y": -0.7,
         "yanchor": "bottom"
        },
        "template": {
         "data": {
          "bar": [
           {
            "error_x": {
             "color": "#2a3f5f"
            },
            "error_y": {
             "color": "#2a3f5f"
            },
            "marker": {
             "line": {
              "color": "#E5ECF6",
              "width": 0.5
             },
             "pattern": {
              "fillmode": "overlay",
              "size": 10,
              "solidity": 0.2
             }
            },
            "type": "bar"
           }
          ],
          "barpolar": [
           {
            "marker": {
             "line": {
              "color": "#E5ECF6",
              "width": 0.5
             },
             "pattern": {
              "fillmode": "overlay",
              "size": 10,
              "solidity": 0.2
             }
            },
            "type": "barpolar"
           }
          ],
          "carpet": [
           {
            "aaxis": {
             "endlinecolor": "#2a3f5f",
             "gridcolor": "white",
             "linecolor": "white",
             "minorgridcolor": "white",
             "startlinecolor": "#2a3f5f"
            },
            "baxis": {
             "endlinecolor": "#2a3f5f",
             "gridcolor": "white",
             "linecolor": "white",
             "minorgridcolor": "white",
             "startlinecolor": "#2a3f5f"
            },
            "type": "carpet"
           }
          ],
          "choropleth": [
           {
            "colorbar": {
             "outlinewidth": 0,
             "ticks": ""
            },
            "type": "choropleth"
           }
          ],
          "contour": [
           {
            "colorbar": {
             "outlinewidth": 0,
             "ticks": ""
            },
            "colorscale": [
             [
              0,
              "#0d0887"
             ],
             [
              0.1111111111111111,
              "#46039f"
             ],
             [
              0.2222222222222222,
              "#7201a8"
             ],
             [
              0.3333333333333333,
              "#9c179e"
             ],
             [
              0.4444444444444444,
              "#bd3786"
             ],
             [
              0.5555555555555556,
              "#d8576b"
             ],
             [
              0.6666666666666666,
              "#ed7953"
             ],
             [
              0.7777777777777778,
              "#fb9f3a"
             ],
             [
              0.8888888888888888,
              "#fdca26"
             ],
             [
              1,
              "#f0f921"
             ]
            ],
            "type": "contour"
           }
          ],
          "contourcarpet": [
           {
            "colorbar": {
             "outlinewidth": 0,
             "ticks": ""
            },
            "type": "contourcarpet"
           }
          ],
          "heatmap": [
           {
            "colorbar": {
             "outlinewidth": 0,
             "ticks": ""
            },
            "colorscale": [
             [
              0,
              "#0d0887"
             ],
             [
              0.1111111111111111,
              "#46039f"
             ],
             [
              0.2222222222222222,
              "#7201a8"
             ],
             [
              0.3333333333333333,
              "#9c179e"
             ],
             [
              0.4444444444444444,
              "#bd3786"
             ],
             [
              0.5555555555555556,
              "#d8576b"
             ],
             [
              0.6666666666666666,
              "#ed7953"
             ],
             [
              0.7777777777777778,
              "#fb9f3a"
             ],
             [
              0.8888888888888888,
              "#fdca26"
             ],
             [
              1,
              "#f0f921"
             ]
            ],
            "type": "heatmap"
           }
          ],
          "heatmapgl": [
           {
            "colorbar": {
             "outlinewidth": 0,
             "ticks": ""
            },
            "colorscale": [
             [
              0,
              "#0d0887"
             ],
             [
              0.1111111111111111,
              "#46039f"
             ],
             [
              0.2222222222222222,
              "#7201a8"
             ],
             [
              0.3333333333333333,
              "#9c179e"
             ],
             [
              0.4444444444444444,
              "#bd3786"
             ],
             [
              0.5555555555555556,
              "#d8576b"
             ],
             [
              0.6666666666666666,
              "#ed7953"
             ],
             [
              0.7777777777777778,
              "#fb9f3a"
             ],
             [
              0.8888888888888888,
              "#fdca26"
             ],
             [
              1,
              "#f0f921"
             ]
            ],
            "type": "heatmapgl"
           }
          ],
          "histogram": [
           {
            "marker": {
             "pattern": {
              "fillmode": "overlay",
              "size": 10,
              "solidity": 0.2
             }
            },
            "type": "histogram"
           }
          ],
          "histogram2d": [
           {
            "colorbar": {
             "outlinewidth": 0,
             "ticks": ""
            },
            "colorscale": [
             [
              0,
              "#0d0887"
             ],
             [
              0.1111111111111111,
              "#46039f"
             ],
             [
              0.2222222222222222,
              "#7201a8"
             ],
             [
              0.3333333333333333,
              "#9c179e"
             ],
             [
              0.4444444444444444,
              "#bd3786"
             ],
             [
              0.5555555555555556,
              "#d8576b"
             ],
             [
              0.6666666666666666,
              "#ed7953"
             ],
             [
              0.7777777777777778,
              "#fb9f3a"
             ],
             [
              0.8888888888888888,
              "#fdca26"
             ],
             [
              1,
              "#f0f921"
             ]
            ],
            "type": "histogram2d"
           }
          ],
          "histogram2dcontour": [
           {
            "colorbar": {
             "outlinewidth": 0,
             "ticks": ""
            },
            "colorscale": [
             [
              0,
              "#0d0887"
             ],
             [
              0.1111111111111111,
              "#46039f"
             ],
             [
              0.2222222222222222,
              "#7201a8"
             ],
             [
              0.3333333333333333,
              "#9c179e"
             ],
             [
              0.4444444444444444,
              "#bd3786"
             ],
             [
              0.5555555555555556,
              "#d8576b"
             ],
             [
              0.6666666666666666,
              "#ed7953"
             ],
             [
              0.7777777777777778,
              "#fb9f3a"
             ],
             [
              0.8888888888888888,
              "#fdca26"
             ],
             [
              1,
              "#f0f921"
             ]
            ],
            "type": "histogram2dcontour"
           }
          ],
          "mesh3d": [
           {
            "colorbar": {
             "outlinewidth": 0,
             "ticks": ""
            },
            "type": "mesh3d"
           }
          ],
          "parcoords": [
           {
            "line": {
             "colorbar": {
              "outlinewidth": 0,
              "ticks": ""
             }
            },
            "type": "parcoords"
           }
          ],
          "pie": [
           {
            "automargin": true,
            "type": "pie"
           }
          ],
          "scatter": [
           {
            "fillpattern": {
             "fillmode": "overlay",
             "size": 10,
             "solidity": 0.2
            },
            "type": "scatter"
           }
          ],
          "scatter3d": [
           {
            "line": {
             "colorbar": {
              "outlinewidth": 0,
              "ticks": ""
             }
            },
            "marker": {
             "colorbar": {
              "outlinewidth": 0,
              "ticks": ""
             }
            },
            "type": "scatter3d"
           }
          ],
          "scattercarpet": [
           {
            "marker": {
             "colorbar": {
              "outlinewidth": 0,
              "ticks": ""
             }
            },
            "type": "scattercarpet"
           }
          ],
          "scattergeo": [
           {
            "marker": {
             "colorbar": {
              "outlinewidth": 0,
              "ticks": ""
             }
            },
            "type": "scattergeo"
           }
          ],
          "scattergl": [
           {
            "marker": {
             "colorbar": {
              "outlinewidth": 0,
              "ticks": ""
             }
            },
            "type": "scattergl"
           }
          ],
          "scattermapbox": [
           {
            "marker": {
             "colorbar": {
              "outlinewidth": 0,
              "ticks": ""
             }
            },
            "type": "scattermapbox"
           }
          ],
          "scatterpolar": [
           {
            "marker": {
             "colorbar": {
              "outlinewidth": 0,
              "ticks": ""
             }
            },
            "type": "scatterpolar"
           }
          ],
          "scatterpolargl": [
           {
            "marker": {
             "colorbar": {
              "outlinewidth": 0,
              "ticks": ""
             }
            },
            "type": "scatterpolargl"
           }
          ],
          "scatterternary": [
           {
            "marker": {
             "colorbar": {
              "outlinewidth": 0,
              "ticks": ""
             }
            },
            "type": "scatterternary"
           }
          ],
          "surface": [
           {
            "colorbar": {
             "outlinewidth": 0,
             "ticks": ""
            },
            "colorscale": [
             [
              0,
              "#0d0887"
             ],
             [
              0.1111111111111111,
              "#46039f"
             ],
             [
              0.2222222222222222,
              "#7201a8"
             ],
             [
              0.3333333333333333,
              "#9c179e"
             ],
             [
              0.4444444444444444,
              "#bd3786"
             ],
             [
              0.5555555555555556,
              "#d8576b"
             ],
             [
              0.6666666666666666,
              "#ed7953"
             ],
             [
              0.7777777777777778,
              "#fb9f3a"
             ],
             [
              0.8888888888888888,
              "#fdca26"
             ],
             [
              1,
              "#f0f921"
             ]
            ],
            "type": "surface"
           }
          ],
          "table": [
           {
            "cells": {
             "fill": {
              "color": "#EBF0F8"
             },
             "line": {
              "color": "white"
             }
            },
            "header": {
             "fill": {
              "color": "#C8D4E3"
             },
             "line": {
              "color": "white"
             }
            },
            "type": "table"
           }
          ]
         },
         "layout": {
          "annotationdefaults": {
           "arrowcolor": "#2a3f5f",
           "arrowhead": 0,
           "arrowwidth": 1
          },
          "autotypenumbers": "strict",
          "coloraxis": {
           "colorbar": {
            "outlinewidth": 0,
            "ticks": ""
           }
          },
          "colorscale": {
           "diverging": [
            [
             0,
             "#8e0152"
            ],
            [
             0.1,
             "#c51b7d"
            ],
            [
             0.2,
             "#de77ae"
            ],
            [
             0.3,
             "#f1b6da"
            ],
            [
             0.4,
             "#fde0ef"
            ],
            [
             0.5,
             "#f7f7f7"
            ],
            [
             0.6,
             "#e6f5d0"
            ],
            [
             0.7,
             "#b8e186"
            ],
            [
             0.8,
             "#7fbc41"
            ],
            [
             0.9,
             "#4d9221"
            ],
            [
             1,
             "#276419"
            ]
           ],
           "sequential": [
            [
             0,
             "#0d0887"
            ],
            [
             0.1111111111111111,
             "#46039f"
            ],
            [
             0.2222222222222222,
             "#7201a8"
            ],
            [
             0.3333333333333333,
             "#9c179e"
            ],
            [
             0.4444444444444444,
             "#bd3786"
            ],
            [
             0.5555555555555556,
             "#d8576b"
            ],
            [
             0.6666666666666666,
             "#ed7953"
            ],
            [
             0.7777777777777778,
             "#fb9f3a"
            ],
            [
             0.8888888888888888,
             "#fdca26"
            ],
            [
             1,
             "#f0f921"
            ]
           ],
           "sequentialminus": [
            [
             0,
             "#0d0887"
            ],
            [
             0.1111111111111111,
             "#46039f"
            ],
            [
             0.2222222222222222,
             "#7201a8"
            ],
            [
             0.3333333333333333,
             "#9c179e"
            ],
            [
             0.4444444444444444,
             "#bd3786"
            ],
            [
             0.5555555555555556,
             "#d8576b"
            ],
            [
             0.6666666666666666,
             "#ed7953"
            ],
            [
             0.7777777777777778,
             "#fb9f3a"
            ],
            [
             0.8888888888888888,
             "#fdca26"
            ],
            [
             1,
             "#f0f921"
            ]
           ]
          },
          "colorway": [
           "#636efa",
           "#EF553B",
           "#00cc96",
           "#ab63fa",
           "#FFA15A",
           "#19d3f3",
           "#FF6692",
           "#B6E880",
           "#FF97FF",
           "#FECB52"
          ],
          "font": {
           "color": "#2a3f5f"
          },
          "geo": {
           "bgcolor": "white",
           "lakecolor": "white",
           "landcolor": "#E5ECF6",
           "showlakes": true,
           "showland": true,
           "subunitcolor": "white"
          },
          "hoverlabel": {
           "align": "left"
          },
          "hovermode": "closest",
          "mapbox": {
           "style": "light"
          },
          "paper_bgcolor": "white",
          "plot_bgcolor": "#E5ECF6",
          "polar": {
           "angularaxis": {
            "gridcolor": "white",
            "linecolor": "white",
            "ticks": ""
           },
           "bgcolor": "#E5ECF6",
           "radialaxis": {
            "gridcolor": "white",
            "linecolor": "white",
            "ticks": ""
           }
          },
          "scene": {
           "xaxis": {
            "backgroundcolor": "#E5ECF6",
            "gridcolor": "white",
            "gridwidth": 2,
            "linecolor": "white",
            "showbackground": true,
            "ticks": "",
            "zerolinecolor": "white"
           },
           "yaxis": {
            "backgroundcolor": "#E5ECF6",
            "gridcolor": "white",
            "gridwidth": 2,
            "linecolor": "white",
            "showbackground": true,
            "ticks": "",
            "zerolinecolor": "white"
           },
           "zaxis": {
            "backgroundcolor": "#E5ECF6",
            "gridcolor": "white",
            "gridwidth": 2,
            "linecolor": "white",
            "showbackground": true,
            "ticks": "",
            "zerolinecolor": "white"
           }
          },
          "shapedefaults": {
           "line": {
            "color": "#2a3f5f"
           }
          },
          "ternary": {
           "aaxis": {
            "gridcolor": "white",
            "linecolor": "white",
            "ticks": ""
           },
           "baxis": {
            "gridcolor": "white",
            "linecolor": "white",
            "ticks": ""
           },
           "bgcolor": "#E5ECF6",
           "caxis": {
            "gridcolor": "white",
            "linecolor": "white",
            "ticks": ""
           }
          },
          "title": {
           "x": 0.05
          },
          "xaxis": {
           "automargin": true,
           "gridcolor": "white",
           "linecolor": "white",
           "ticks": "",
           "title": {
            "standoff": 15
           },
           "zerolinecolor": "white",
           "zerolinewidth": 2
          },
          "yaxis": {
           "automargin": true,
           "gridcolor": "white",
           "linecolor": "white",
           "ticks": "",
           "title": {
            "standoff": 15
           },
           "zerolinecolor": "white",
           "zerolinewidth": 2
          }
         }
        },
        "title": {
         "font": {
          "size": 20
         },
         "text": "Top Ranking Bias During Exploration of STL Crimes Data",
         "x": 0.5,
         "xanchor": "center",
         "yanchor": "top"
        },
        "width": 1500,
        "xaxis": {
         "anchor": "y",
         "domain": [
          0,
          0.31999999999999995
         ],
         "nticks": 8,
         "range": [
          1,
          null
         ],
         "title": {
          "font": {
           "size": 20
          },
          "text": "Interactions Observed"
         },
         "type": "linear"
        },
        "xaxis2": {
         "anchor": "y2",
         "domain": [
          0.33999999999999997,
          0.6599999999999999
         ],
         "nticks": 8,
         "range": [
          1,
          null
         ],
         "title": {
          "font": {
           "size": 20
          },
          "text": "Interactions Observed"
         },
         "type": "linear"
        },
        "xaxis3": {
         "anchor": "y3",
         "domain": [
          0.6799999999999999,
          0.9999999999999999
         ],
         "nticks": 8,
         "range": [
          1,
          null
         ],
         "title": {
          "font": {
           "size": 20
          },
          "text": "Interactions Observed"
         },
         "type": "linear"
        },
        "yaxis": {
         "anchor": "x",
         "autorange": true,
         "domain": [
          0,
          1
         ],
         "title": {
          "text": ""
         }
        },
        "yaxis2": {
         "anchor": "x2",
         "domain": [
          0,
          1
         ],
         "matches": "y",
         "showticklabels": false
        },
        "yaxis3": {
         "anchor": "x3",
         "domain": [
          0,
          1
         ],
         "matches": "y",
         "showticklabels": false
        }
       }
      },
      "text/html": [
       "<div>                            <div id=\"153776e5-ea02-47bf-8a28-eaffa0652acd\" class=\"plotly-graph-div\" style=\"height:400px; width:1500px;\"></div>            <script type=\"text/javascript\">                require([\"plotly\"], function(Plotly) {                    window.PLOTLYENV=window.PLOTLYENV || {};                                    if (document.getElementById(\"153776e5-ea02-47bf-8a28-eaffa0652acd\")) {                    Plotly.newPlot(                        \"153776e5-ea02-47bf-8a28-eaffa0652acd\",                        [{\"alignmentgroup\":\"True\",\"base\":[1,1,1,2,3,1],\"hovertemplate\":\"top_bias=type-based<br>task=location-based<br>start=%{base}<br>stop=%{x}<br>=%{y}<br>bias_value=%{text}<extra></extra>\",\"legendgroup\":\"type-based\",\"marker\":{\"color\":\"#636EFA\",\"pattern\":{\"shape\":\"\"},\"opacity\":[0.46,0.61,0.66,0.5,0.59,0.4]},\"name\":\"type-based\",\"offsetgroup\":\"type-based\",\"orientation\":\"h\",\"showlegend\":true,\"text\":\"\",\"textposition\":\"auto\",\"x\":[1,1,1,1,1,1],\"xaxis\":\"x\",\"y\":[\"AD    \",\"HMM\",\"AC\",\"CM\",\"CM\",\"ENS\"],\"yaxis\":\"y\",\"type\":\"bar\",\"textfont\":{\"size\":4},\"textangle\":0},{\"alignmentgroup\":\"True\",\"base\":[1,2,3,4,5,6,7,8,9,10,11,12,13,14,15,16,17,18,19,20,21,2,3,4,5,6,7,8,9,10,11,12,13,14,15,16,17,18,19,20,21,1,2,3,4,5,6,7,8,9,10,11,12,13,14,15,16,17,18,19,20,21,2,3,4,5,6,7,8,9,10,11,12,13,14,15,16,17,18,19,20,21,2,3,4,5,6,7,8,9,10,11,12,13,14,15,16,17,18,19,20,21],\"hovertemplate\":\"top_bias=type-based<br>task=type-based<br>start=%{base}<br>stop=%{x}<br>=%{y}<br>bias_value=%{text}<extra></extra>\",\"legendgroup\":\"type-based\",\"marker\":{\"color\":\"#636EFA\",\"pattern\":{\"shape\":\"\"},\"opacity\":[0.46,0.62,0.78,0.91,0.96,0.97,0.97,0.97,1.0,1.0,1.0,1.0,1.0,1.0,1.0,1.0,1.0,1.0,1.0,1.0,1.0,0.67,0.74,0.77,0.79,0.81,0.84,0.85,0.88,0.89,0.89,0.9,0.89,0.89,0.9,0.91,0.9,0.9,0.9,0.9,0.91,0.91,0.91,0.92,0.92,0.93,0.92,0.92,0.92,0.95,0.95,0.94,0.94,0.95,0.95,0.96,0.96,0.96,0.96,0.96,0.96,0.96,0.93,0.93,0.96,0.98,1.0,0.99,0.96,0.95,1.0,1.0,1.0,1.0,1.0,1.0,1.0,1.0,1.0,1.0,1.0,1.0,0.56,0.61,0.65,0.68,0.69,0.69,0.69,0.72,0.71,0.71,0.71,0.72,0.72,0.72,0.72,0.72,0.72,0.72,0.73,0.72]},\"name\":\"type-based\",\"offsetgroup\":\"type-based\",\"orientation\":\"h\",\"showlegend\":false,\"text\":\"\",\"textposition\":\"auto\",\"x\":[1,1,1,1,1,1,1,1,1,1,1,1,1,1,1,1,1,1,1,1,1,1,1,1,1,1,1,1,1,1,1,1,1,1,1,1,1,1,1,1,1,1,1,1,1,1,1,1,1,1,1,1,1,1,1,1,1,1,1,1,1,1,1,1,1,1,1,1,1,1,1,1,1,1,1,1,1,1,1,1,1,1,1,1,1,1,1,1,1,1,1,1,1,1,1,1,1,1,1,1,1,1],\"xaxis\":\"x2\",\"y\":[\"AD    \",\"AD    \",\"AD    \",\"AD    \",\"AD    \",\"AD    \",\"AD    \",\"AD    \",\"AD    \",\"AD    \",\"AD    \",\"AD    \",\"AD    \",\"AD    \",\"AD    \",\"AD    \",\"AD    \",\"AD    \",\"AD    \",\"AD    \",\"AD    \",\"HMM\",\"HMM\",\"HMM\",\"HMM\",\"HMM\",\"HMM\",\"HMM\",\"HMM\",\"HMM\",\"HMM\",\"HMM\",\"HMM\",\"HMM\",\"HMM\",\"HMM\",\"HMM\",\"HMM\",\"HMM\",\"HMM\",\"HMM\",\"AC\",\"AC\",\"AC\",\"AC\",\"AC\",\"AC\",\"AC\",\"AC\",\"AC\",\"AC\",\"AC\",\"AC\",\"AC\",\"AC\",\"AC\",\"AC\",\"AC\",\"AC\",\"AC\",\"AC\",\"AC\",\"CM\",\"CM\",\"CM\",\"CM\",\"CM\",\"CM\",\"CM\",\"CM\",\"CM\",\"CM\",\"CM\",\"CM\",\"CM\",\"CM\",\"CM\",\"CM\",\"CM\",\"CM\",\"CM\",\"CM\",\"ENS\",\"ENS\",\"ENS\",\"ENS\",\"ENS\",\"ENS\",\"ENS\",\"ENS\",\"ENS\",\"ENS\",\"ENS\",\"ENS\",\"ENS\",\"ENS\",\"ENS\",\"ENS\",\"ENS\",\"ENS\",\"ENS\",\"ENS\"],\"yaxis\":\"y2\",\"type\":\"bar\",\"textfont\":{\"size\":4},\"textangle\":0},{\"alignmentgroup\":\"True\",\"base\":[1,1,6,7,8,9,10,11,12,13,14,15,16,17,18,19,20,21,22,23,24,25,26,27,28,29,30,31,32,33,34,35,36,37,38,39,40,41,42,43,44,45,46,47,48,49,50,51,52,53,54,55,56,57,58,59,60,61,62,63,64,65,66,67,68,69,70,71,72,73,74,75,76,77,78,79,80,81,82,83,84,85,86,87,88,89,90,91,92,93,94,95,96,97,98,99,100,101,102,103,104,105,106,107,108,109,110,111,112,113,114,115,116,117,118,119,120,121,2,3,4,5,6,7,8,9,10,11,12,13,38,39],\"hovertemplate\":\"top_bias=type-based<br>task=mixed<br>start=%{base}<br>stop=%{x}<br>=%{y}<br>bias_value=%{text}<extra></extra>\",\"legendgroup\":\"type-based\",\"marker\":{\"color\":\"#636EFA\",\"pattern\":{\"shape\":\"\"},\"opacity\":[0.46,0.59,0.63,0.63,0.63,0.63,0.63,0.63,0.63,0.63,0.63,0.63,0.63,0.63,0.62,0.62,0.62,0.62,0.62,0.62,0.62,0.62,0.62,0.62,0.62,0.61,0.61,0.61,0.61,0.62,0.61,0.61,0.6,0.6,0.6,0.57,0.55,0.53,0.53,0.53,0.5,0.49,0.49,0.49,0.47,0.45,0.45,0.45,0.45,0.45,0.45,0.45,0.45,0.45,0.43,0.43,0.43,0.43,0.42,0.42,0.42,0.43,0.43,0.43,0.43,0.43,0.43,0.43,0.43,0.43,0.43,0.43,0.43,0.43,0.43,0.42,0.42,0.42,0.43,0.42,0.42,0.42,0.42,0.42,0.42,0.42,0.41,0.41,0.41,0.41,0.41,0.42,0.42,0.42,0.42,0.42,0.43,0.43,0.43,0.43,0.43,0.43,0.43,0.43,0.43,0.45,0.45,0.45,0.45,0.45,0.45,0.45,0.45,0.45,0.45,0.47,0.47,0.47,0.54,0.59,0.57,0.56,0.56,0.56,0.56,0.56,0.56,0.56,0.56,0.56,0.77,0.79]},\"name\":\"type-based\",\"offsetgroup\":\"type-based\",\"orientation\":\"h\",\"showlegend\":false,\"text\":\"\",\"textposition\":\"auto\",\"x\":[1,1,1,1,1,1,1,1,1,1,1,1,1,1,1,1,1,1,1,1,1,1,1,1,1,1,1,1,1,1,1,1,1,1,1,1,1,1,1,1,1,1,1,1,1,1,1,1,1,1,1,1,1,1,1,1,1,1,1,1,1,1,1,1,1,1,1,1,1,1,1,1,1,1,1,1,1,1,1,1,1,1,1,1,1,1,1,1,1,1,1,1,1,1,1,1,1,1,1,1,1,1,1,1,1,1,1,1,1,1,1,1,1,1,1,1,1,1,1,1,1,1,1,1,1,1,1,1,1,1,1,1],\"xaxis\":\"x3\",\"y\":[\"AD    \",\"HMM\",\"AC\",\"AC\",\"AC\",\"AC\",\"AC\",\"AC\",\"AC\",\"AC\",\"AC\",\"AC\",\"AC\",\"AC\",\"AC\",\"AC\",\"AC\",\"AC\",\"AC\",\"AC\",\"AC\",\"AC\",\"AC\",\"AC\",\"AC\",\"AC\",\"AC\",\"AC\",\"AC\",\"AC\",\"AC\",\"AC\",\"AC\",\"AC\",\"AC\",\"AC\",\"AC\",\"AC\",\"AC\",\"AC\",\"AC\",\"AC\",\"AC\",\"AC\",\"AC\",\"AC\",\"AC\",\"AC\",\"AC\",\"AC\",\"AC\",\"AC\",\"AC\",\"AC\",\"AC\",\"AC\",\"AC\",\"AC\",\"AC\",\"AC\",\"AC\",\"AC\",\"AC\",\"AC\",\"AC\",\"AC\",\"AC\",\"AC\",\"AC\",\"AC\",\"AC\",\"AC\",\"AC\",\"AC\",\"AC\",\"AC\",\"AC\",\"AC\",\"AC\",\"AC\",\"AC\",\"AC\",\"AC\",\"AC\",\"AC\",\"AC\",\"AC\",\"AC\",\"AC\",\"AC\",\"AC\",\"AC\",\"AC\",\"AC\",\"AC\",\"AC\",\"AC\",\"AC\",\"AC\",\"AC\",\"AC\",\"AC\",\"AC\",\"AC\",\"AC\",\"AC\",\"AC\",\"AC\",\"AC\",\"AC\",\"AC\",\"AC\",\"AC\",\"AC\",\"AC\",\"AC\",\"AC\",\"AC\",\"CM\",\"CM\",\"CM\",\"CM\",\"CM\",\"CM\",\"CM\",\"CM\",\"CM\",\"CM\",\"CM\",\"CM\",\"CM\",\"CM\"],\"yaxis\":\"y3\",\"type\":\"bar\",\"textfont\":{\"size\":4},\"textangle\":0},{\"alignmentgroup\":\"True\",\"base\":[2,3,4,5,6,7,8,9,10,11,12,13,14,15,16,17,18,19,20,21,22,23,24,25,26,27,28,29,30,31,32,33,34,35,36,37,38,39,40,41,42,43,44,45,46,47,48,49,50,51,52,53,54,55,56,57,2,3,4,5,6,7,8,9,10,11,12,13,14,15,16,17,18,19,20,21,22,23,24,25,26,27,28,29,30,31,32,33,34,35,36,37,38,39,40,41,42,43,44,45,46,47,48,49,50,51,52,53,54,55,56,57,2,3,4,5,6,7,8,9,10,11,12,13,14,15,16,17,18,19,20,21,22,23,24,25,26,27,28,29,30,31,32,33,34,35,36,37,38,39,40,41,42,43,44,45,46,47,48,49,50,51,52,53,54,55,56,57,4,5,6,7,8,9,10,11,12,13,14,15,16,17,18,19,20,21,22,23,24,25,26,27,28,29,30,31,32,33,34,35,36,37,38,39,40,41,42,43,44,45,46,47,48,49,50,51,52,53,54,55,56,57,2,3,4,5,6,7,8,9,10,11,12,13,14,15,16,17,18,19,20,21,22,23,24,25,26,27,28,29,30,31,32,33,34,35,36,37,38,39,40,41,42,43,44,45,46,47,48,49,50,51,52,53,54,55,56,57],\"hovertemplate\":\"top_bias=location-based<br>task=location-based<br>start=%{base}<br>stop=%{x}<br>=%{y}<br>bias_value=%{text}<extra></extra>\",\"legendgroup\":\"location-based\",\"marker\":{\"color\":\"#EF553B\",\"pattern\":{\"shape\":\"\"},\"opacity\":[0.49,0.67,0.8,0.86,0.92,0.95,0.97,0.98,0.99,0.99,1.0,1.0,1.0,1.0,1.0,1.0,1.0,1.0,1.0,1.0,1.0,1.0,1.0,1.0,1.0,1.0,1.0,1.0,1.0,1.0,1.0,1.0,1.0,1.0,1.0,1.0,1.0,1.0,1.0,1.0,1.0,1.0,1.0,1.0,1.0,1.0,1.0,1.0,1.0,1.0,1.0,1.0,1.0,1.0,1.0,1.0,0.71,0.78,0.83,0.85,0.87,0.88,0.88,0.89,0.89,0.89,0.89,0.89,0.9,0.9,0.9,0.89,0.89,0.89,0.89,0.89,0.89,0.89,0.89,0.89,0.89,0.89,0.89,0.89,0.89,0.89,0.89,0.9,0.9,0.9,0.9,0.9,0.9,0.9,0.89,0.9,0.9,0.89,0.89,0.9,0.9,0.89,0.9,0.9,0.89,0.9,0.89,0.9,0.89,0.89,0.89,0.89,0.63,0.61,0.58,0.57,0.57,0.57,0.57,0.57,0.56,0.55,0.55,0.55,0.55,0.55,0.54,0.54,0.54,0.54,0.54,0.54,0.53,0.53,0.52,0.52,0.52,0.51,0.51,0.51,0.5,0.5,0.5,0.49,0.49,0.49,0.49,0.49,0.49,0.48,0.48,0.48,0.48,0.48,0.48,0.48,0.48,0.48,0.48,0.48,0.48,0.48,0.48,0.48,0.48,0.48,0.48,0.48,0.54,0.77,0.93,0.99,0.99,1.0,1.0,1.0,1.0,1.0,1.0,1.0,1.0,1.0,1.0,1.0,1.0,1.0,1.0,1.0,1.0,1.0,1.0,1.0,1.0,1.0,1.0,1.0,1.0,1.0,1.0,1.0,1.0,1.0,1.0,1.0,1.0,1.0,1.0,1.0,1.0,1.0,1.0,1.0,1.0,1.0,1.0,1.0,1.0,1.0,1.0,1.0,1.0,1.0,0.44,0.47,0.55,0.63,0.68,0.71,0.71,0.72,0.72,0.72,0.72,0.72,0.72,0.72,0.72,0.72,0.72,0.72,0.72,0.72,0.72,0.72,0.72,0.72,0.72,0.72,0.72,0.72,0.72,0.72,0.72,0.72,0.72,0.72,0.72,0.72,0.72,0.72,0.72,0.72,0.72,0.72,0.72,0.72,0.72,0.72,0.72,0.72,0.72,0.72,0.72,0.72,0.72,0.72,0.73,0.73]},\"name\":\"location-based\",\"offsetgroup\":\"location-based\",\"orientation\":\"h\",\"showlegend\":true,\"text\":\"\",\"textposition\":\"auto\",\"x\":[1,1,1,1,1,1,1,1,1,1,1,1,1,1,1,1,1,1,1,1,1,1,1,1,1,1,1,1,1,1,1,1,1,1,1,1,1,1,1,1,1,1,1,1,1,1,1,1,1,1,1,1,1,1,1,1,1,1,1,1,1,1,1,1,1,1,1,1,1,1,1,1,1,1,1,1,1,1,1,1,1,1,1,1,1,1,1,1,1,1,1,1,1,1,1,1,1,1,1,1,1,1,1,1,1,1,1,1,1,1,1,1,1,1,1,1,1,1,1,1,1,1,1,1,1,1,1,1,1,1,1,1,1,1,1,1,1,1,1,1,1,1,1,1,1,1,1,1,1,1,1,1,1,1,1,1,1,1,1,1,1,1,1,1,1,1,1,1,1,1,1,1,1,1,1,1,1,1,1,1,1,1,1,1,1,1,1,1,1,1,1,1,1,1,1,1,1,1,1,1,1,1,1,1,1,1,1,1,1,1,1,1,1,1,1,1,1,1,1,1,1,1,1,1,1,1,1,1,1,1,1,1,1,1,1,1,1,1,1,1,1,1,1,1,1,1,1,1,1,1,1,1,1,1,1,1,1,1,1,1,1,1,1,1,1,1,1,1,1,1,1,1,1,1,1,1,1,1],\"xaxis\":\"x\",\"y\":[\"AD    \",\"AD    \",\"AD    \",\"AD    \",\"AD    \",\"AD    \",\"AD    \",\"AD    \",\"AD    \",\"AD    \",\"AD    \",\"AD    \",\"AD    \",\"AD    \",\"AD    \",\"AD    \",\"AD    \",\"AD    \",\"AD    \",\"AD    \",\"AD    \",\"AD    \",\"AD    \",\"AD    \",\"AD    \",\"AD    \",\"AD    \",\"AD    \",\"AD    \",\"AD    \",\"AD    \",\"AD    \",\"AD    \",\"AD    \",\"AD    \",\"AD    \",\"AD    \",\"AD    \",\"AD    \",\"AD    \",\"AD    \",\"AD    \",\"AD    \",\"AD    \",\"AD    \",\"AD    \",\"AD    \",\"AD    \",\"AD    \",\"AD    \",\"AD    \",\"AD    \",\"AD    \",\"AD    \",\"AD    \",\"AD    \",\"HMM\",\"HMM\",\"HMM\",\"HMM\",\"HMM\",\"HMM\",\"HMM\",\"HMM\",\"HMM\",\"HMM\",\"HMM\",\"HMM\",\"HMM\",\"HMM\",\"HMM\",\"HMM\",\"HMM\",\"HMM\",\"HMM\",\"HMM\",\"HMM\",\"HMM\",\"HMM\",\"HMM\",\"HMM\",\"HMM\",\"HMM\",\"HMM\",\"HMM\",\"HMM\",\"HMM\",\"HMM\",\"HMM\",\"HMM\",\"HMM\",\"HMM\",\"HMM\",\"HMM\",\"HMM\",\"HMM\",\"HMM\",\"HMM\",\"HMM\",\"HMM\",\"HMM\",\"HMM\",\"HMM\",\"HMM\",\"HMM\",\"HMM\",\"HMM\",\"HMM\",\"HMM\",\"HMM\",\"HMM\",\"HMM\",\"AC\",\"AC\",\"AC\",\"AC\",\"AC\",\"AC\",\"AC\",\"AC\",\"AC\",\"AC\",\"AC\",\"AC\",\"AC\",\"AC\",\"AC\",\"AC\",\"AC\",\"AC\",\"AC\",\"AC\",\"AC\",\"AC\",\"AC\",\"AC\",\"AC\",\"AC\",\"AC\",\"AC\",\"AC\",\"AC\",\"AC\",\"AC\",\"AC\",\"AC\",\"AC\",\"AC\",\"AC\",\"AC\",\"AC\",\"AC\",\"AC\",\"AC\",\"AC\",\"AC\",\"AC\",\"AC\",\"AC\",\"AC\",\"AC\",\"AC\",\"AC\",\"AC\",\"AC\",\"AC\",\"AC\",\"AC\",\"CM\",\"CM\",\"CM\",\"CM\",\"CM\",\"CM\",\"CM\",\"CM\",\"CM\",\"CM\",\"CM\",\"CM\",\"CM\",\"CM\",\"CM\",\"CM\",\"CM\",\"CM\",\"CM\",\"CM\",\"CM\",\"CM\",\"CM\",\"CM\",\"CM\",\"CM\",\"CM\",\"CM\",\"CM\",\"CM\",\"CM\",\"CM\",\"CM\",\"CM\",\"CM\",\"CM\",\"CM\",\"CM\",\"CM\",\"CM\",\"CM\",\"CM\",\"CM\",\"CM\",\"CM\",\"CM\",\"CM\",\"CM\",\"CM\",\"CM\",\"CM\",\"CM\",\"CM\",\"CM\",\"ENS\",\"ENS\",\"ENS\",\"ENS\",\"ENS\",\"ENS\",\"ENS\",\"ENS\",\"ENS\",\"ENS\",\"ENS\",\"ENS\",\"ENS\",\"ENS\",\"ENS\",\"ENS\",\"ENS\",\"ENS\",\"ENS\",\"ENS\",\"ENS\",\"ENS\",\"ENS\",\"ENS\",\"ENS\",\"ENS\",\"ENS\",\"ENS\",\"ENS\",\"ENS\",\"ENS\",\"ENS\",\"ENS\",\"ENS\",\"ENS\",\"ENS\",\"ENS\",\"ENS\",\"ENS\",\"ENS\",\"ENS\",\"ENS\",\"ENS\",\"ENS\",\"ENS\",\"ENS\",\"ENS\",\"ENS\",\"ENS\",\"ENS\",\"ENS\",\"ENS\",\"ENS\",\"ENS\",\"ENS\",\"ENS\"],\"yaxis\":\"y\",\"type\":\"bar\",\"textfont\":{\"size\":4},\"textangle\":0},{\"alignmentgroup\":\"True\",\"base\":[1,1],\"hovertemplate\":\"top_bias=location-based<br>task=type-based<br>start=%{base}<br>stop=%{x}<br>=%{y}<br>bias_value=%{text}<extra></extra>\",\"legendgroup\":\"location-based\",\"marker\":{\"color\":\"#EF553B\",\"pattern\":{\"shape\":\"\"},\"opacity\":[0.59,0.44]},\"name\":\"location-based\",\"offsetgroup\":\"location-based\",\"orientation\":\"h\",\"showlegend\":false,\"text\":\"\",\"textposition\":\"auto\",\"x\":[1,1],\"xaxis\":\"x2\",\"y\":[\"HMM\",\"ENS\"],\"yaxis\":\"y2\",\"type\":\"bar\",\"textfont\":{\"size\":4},\"textangle\":0},{\"alignmentgroup\":\"True\",\"base\":[2,3,4,5,6,7,8,9,10,11,12,13,14,15,16,17,18,19,20,21,22,2,3,4,5,6,7,8,9,10,11,12,13,14,15,16,17,18,19,20,21,22,23,24,25,26,27,28,29,30,31,32,33,34,35,36,37,38,39,40,41,42,43,44,45,46,47,48,49,50,51,52,53,54,55,56,57,58,59,60,61,62,63,64,65,66,67,68,69,70,71,72,73,74,75,76,77,78,79,80,81,82,83,84,85,86,87,88,89,90,91,92,93,94,95,96,97,98,99,100,101,102,103,104,105,106,107,108,109,110,111,112,113,114,115,116,117,118,119,120,121,1,2,3,4,14,15,16,17,18,19,20,21,22,23,24,25,26,27,28,29,30,31,32,33,34,35,36,40,41,42,43,44,45,46,47,48,49,50,51,52,53,54,55,56,57,58,59,2,3,4,5,6,7,8,9,10,11,12,13,14,15,16,17,18,19,20,21,22,23,24,25,26,27,28,29,30,31,32,33,34,35,36,37,38,39,40,41,42,43,44,45,46,47,48,49,50,51,52,53,54,55,56,57,58,59,60,61,62,63,64,65,66,67,68,69,70,71,72,73,74,75,76,77,78,79,80,81,82,83,84,85,86,87,88,89,90,91,92,93,94,95,96,97,98,99,100,101,102,103,104,105,106,107,108,109,110,111,112,113,114,115,116,117,118,119,120,121],\"hovertemplate\":\"top_bias=location-based<br>task=mixed<br>start=%{base}<br>stop=%{x}<br>=%{y}<br>bias_value=%{text}<extra></extra>\",\"legendgroup\":\"location-based\",\"marker\":{\"color\":\"#EF553B\",\"pattern\":{\"shape\":\"\"},\"opacity\":[0.77,0.92,0.97,0.99,0.99,1.0,1.0,1.0,1.0,1.0,1.0,1.0,1.0,1.0,1.0,1.0,1.0,1.0,1.0,1.0,1.0,0.69,0.77,0.82,0.84,0.86,0.87,0.88,0.88,0.89,0.89,0.89,0.89,0.88,0.88,0.89,0.89,0.88,0.88,0.88,0.88,0.88,0.89,0.89,0.89,0.89,0.88,0.89,0.89,0.88,0.89,0.88,0.89,0.89,0.89,0.89,0.89,0.89,0.89,0.89,0.89,0.89,0.89,0.89,0.89,0.89,0.89,0.89,0.89,0.89,0.89,0.89,0.89,0.89,0.89,0.89,0.89,0.89,0.89,0.89,0.89,0.89,0.89,0.89,0.89,0.89,0.89,0.89,0.89,0.89,0.9,0.9,0.9,0.9,0.9,0.9,0.9,0.9,0.89,0.89,0.89,0.89,0.89,0.89,0.89,0.89,0.89,0.89,0.89,0.9,0.9,0.9,0.9,0.89,0.89,0.89,0.89,0.89,0.89,0.9,0.89,0.89,0.89,0.89,0.89,0.89,0.89,0.89,0.89,0.89,0.89,0.89,0.88,0.89,0.89,0.88,0.89,0.89,0.9,0.91,0.89,0.7,0.69,0.66,0.64,0.59,0.65,0.7,0.75,0.78,0.82,0.83,0.83,0.84,0.84,0.81,0.81,0.82,0.82,0.83,0.83,0.84,0.83,0.84,0.83,0.81,0.79,0.78,0.83,0.89,0.92,0.93,0.92,0.98,0.97,0.98,0.98,0.98,0.98,0.99,1.0,1.0,1.0,1.0,1.0,1.0,1.0,1.0,0.46,0.51,0.56,0.57,0.58,0.58,0.58,0.58,0.59,0.59,0.59,0.6,0.62,0.63,0.65,0.66,0.67,0.68,0.68,0.68,0.68,0.68,0.68,0.67,0.68,0.68,0.68,0.68,0.68,0.68,0.68,0.68,0.67,0.67,0.66,0.66,0.66,0.68,0.69,0.7,0.7,0.7,0.72,0.72,0.72,0.72,0.72,0.72,0.72,0.72,0.72,0.72,0.72,0.72,0.72,0.72,0.72,0.72,0.72,0.72,0.72,0.72,0.72,0.72,0.72,0.72,0.72,0.72,0.72,0.72,0.72,0.72,0.72,0.72,0.72,0.72,0.72,0.72,0.72,0.72,0.72,0.72,0.72,0.72,0.72,0.72,0.72,0.72,0.72,0.72,0.72,0.72,0.72,0.72,0.72,0.72,0.72,0.72,0.72,0.72,0.72,0.72,0.72,0.72,0.72,0.72,0.72,0.72,0.72,0.72,0.72,0.72,0.72,0.72,0.72,0.72,0.72,0.72,0.72,0.72]},\"name\":\"location-based\",\"offsetgroup\":\"location-based\",\"orientation\":\"h\",\"showlegend\":false,\"text\":\"\",\"textposition\":\"auto\",\"x\":[1,1,1,1,1,1,1,1,1,1,1,1,1,1,1,1,1,1,1,1,1,1,1,1,1,1,1,1,1,1,1,1,1,1,1,1,1,1,1,1,1,1,1,1,1,1,1,1,1,1,1,1,1,1,1,1,1,1,1,1,1,1,1,1,1,1,1,1,1,1,1,1,1,1,1,1,1,1,1,1,1,1,1,1,1,1,1,1,1,1,1,1,1,1,1,1,1,1,1,1,1,1,1,1,1,1,1,1,1,1,1,1,1,1,1,1,1,1,1,1,1,1,1,1,1,1,1,1,1,1,1,1,1,1,1,1,1,1,1,1,1,1,1,1,1,1,1,1,1,1,1,1,1,1,1,1,1,1,1,1,1,1,1,1,1,1,1,1,1,1,1,1,1,1,1,1,1,1,1,1,1,1,1,1,1,1,1,1,1,1,1,1,1,1,1,1,1,1,1,1,1,1,1,1,1,1,1,1,1,1,1,1,1,1,1,1,1,1,1,1,1,1,1,1,1,1,1,1,1,1,1,1,1,1,1,1,1,1,1,1,1,1,1,1,1,1,1,1,1,1,1,1,1,1,1,1,1,1,1,1,1,1,1,1,1,1,1,1,1,1,1,1,1,1,1,1,1,1,1,1,1,1,1,1,1,1,1,1,1,1,1,1,1,1,1,1,1,1,1,1,1,1,1,1,1,1,1,1],\"xaxis\":\"x3\",\"y\":[\"AD    \",\"AD    \",\"AD    \",\"AD    \",\"AD    \",\"AD    \",\"AD    \",\"AD    \",\"AD    \",\"AD    \",\"AD    \",\"AD    \",\"AD    \",\"AD    \",\"AD    \",\"AD    \",\"AD    \",\"AD    \",\"AD    \",\"AD    \",\"AD    \",\"HMM\",\"HMM\",\"HMM\",\"HMM\",\"HMM\",\"HMM\",\"HMM\",\"HMM\",\"HMM\",\"HMM\",\"HMM\",\"HMM\",\"HMM\",\"HMM\",\"HMM\",\"HMM\",\"HMM\",\"HMM\",\"HMM\",\"HMM\",\"HMM\",\"HMM\",\"HMM\",\"HMM\",\"HMM\",\"HMM\",\"HMM\",\"HMM\",\"HMM\",\"HMM\",\"HMM\",\"HMM\",\"HMM\",\"HMM\",\"HMM\",\"HMM\",\"HMM\",\"HMM\",\"HMM\",\"HMM\",\"HMM\",\"HMM\",\"HMM\",\"HMM\",\"HMM\",\"HMM\",\"HMM\",\"HMM\",\"HMM\",\"HMM\",\"HMM\",\"HMM\",\"HMM\",\"HMM\",\"HMM\",\"HMM\",\"HMM\",\"HMM\",\"HMM\",\"HMM\",\"HMM\",\"HMM\",\"HMM\",\"HMM\",\"HMM\",\"HMM\",\"HMM\",\"HMM\",\"HMM\",\"HMM\",\"HMM\",\"HMM\",\"HMM\",\"HMM\",\"HMM\",\"HMM\",\"HMM\",\"HMM\",\"HMM\",\"HMM\",\"HMM\",\"HMM\",\"HMM\",\"HMM\",\"HMM\",\"HMM\",\"HMM\",\"HMM\",\"HMM\",\"HMM\",\"HMM\",\"HMM\",\"HMM\",\"HMM\",\"HMM\",\"HMM\",\"HMM\",\"HMM\",\"HMM\",\"HMM\",\"HMM\",\"HMM\",\"HMM\",\"HMM\",\"HMM\",\"HMM\",\"HMM\",\"HMM\",\"HMM\",\"HMM\",\"HMM\",\"HMM\",\"HMM\",\"HMM\",\"HMM\",\"HMM\",\"HMM\",\"HMM\",\"HMM\",\"HMM\",\"AC\",\"AC\",\"AC\",\"AC\",\"CM\",\"CM\",\"CM\",\"CM\",\"CM\",\"CM\",\"CM\",\"CM\",\"CM\",\"CM\",\"CM\",\"CM\",\"CM\",\"CM\",\"CM\",\"CM\",\"CM\",\"CM\",\"CM\",\"CM\",\"CM\",\"CM\",\"CM\",\"CM\",\"CM\",\"CM\",\"CM\",\"CM\",\"CM\",\"CM\",\"CM\",\"CM\",\"CM\",\"CM\",\"CM\",\"CM\",\"CM\",\"CM\",\"CM\",\"CM\",\"CM\",\"CM\",\"CM\",\"ENS\",\"ENS\",\"ENS\",\"ENS\",\"ENS\",\"ENS\",\"ENS\",\"ENS\",\"ENS\",\"ENS\",\"ENS\",\"ENS\",\"ENS\",\"ENS\",\"ENS\",\"ENS\",\"ENS\",\"ENS\",\"ENS\",\"ENS\",\"ENS\",\"ENS\",\"ENS\",\"ENS\",\"ENS\",\"ENS\",\"ENS\",\"ENS\",\"ENS\",\"ENS\",\"ENS\",\"ENS\",\"ENS\",\"ENS\",\"ENS\",\"ENS\",\"ENS\",\"ENS\",\"ENS\",\"ENS\",\"ENS\",\"ENS\",\"ENS\",\"ENS\",\"ENS\",\"ENS\",\"ENS\",\"ENS\",\"ENS\",\"ENS\",\"ENS\",\"ENS\",\"ENS\",\"ENS\",\"ENS\",\"ENS\",\"ENS\",\"ENS\",\"ENS\",\"ENS\",\"ENS\",\"ENS\",\"ENS\",\"ENS\",\"ENS\",\"ENS\",\"ENS\",\"ENS\",\"ENS\",\"ENS\",\"ENS\",\"ENS\",\"ENS\",\"ENS\",\"ENS\",\"ENS\",\"ENS\",\"ENS\",\"ENS\",\"ENS\",\"ENS\",\"ENS\",\"ENS\",\"ENS\",\"ENS\",\"ENS\",\"ENS\",\"ENS\",\"ENS\",\"ENS\",\"ENS\",\"ENS\",\"ENS\",\"ENS\",\"ENS\",\"ENS\",\"ENS\",\"ENS\",\"ENS\",\"ENS\",\"ENS\",\"ENS\",\"ENS\",\"ENS\",\"ENS\",\"ENS\",\"ENS\",\"ENS\",\"ENS\",\"ENS\",\"ENS\",\"ENS\",\"ENS\",\"ENS\",\"ENS\",\"ENS\",\"ENS\",\"ENS\",\"ENS\",\"ENS\"],\"yaxis\":\"y3\",\"type\":\"bar\",\"textfont\":{\"size\":4},\"textangle\":0},{\"alignmentgroup\":\"True\",\"base\":[1],\"hovertemplate\":\"top_bias=location-based + type-based<br>task=location-based<br>start=%{base}<br>stop=%{x}<br>=%{y}<br>bias_value=%{text}<extra></extra>\",\"legendgroup\":\"location-based + type-based\",\"marker\":{\"color\":\"#00CC96\",\"pattern\":{\"shape\":\"\"},\"opacity\":[0.25]},\"name\":\"location-based + type-based\",\"offsetgroup\":\"location-based + type-based\",\"orientation\":\"h\",\"showlegend\":true,\"text\":\"\",\"textposition\":\"auto\",\"x\":[1],\"xaxis\":\"x\",\"y\":[\"CM\"],\"yaxis\":\"y\",\"type\":\"bar\",\"textfont\":{\"size\":4},\"textangle\":0},{\"alignmentgroup\":\"True\",\"base\":[1],\"hovertemplate\":\"top_bias=location-based + type-based<br>task=type-based<br>start=%{base}<br>stop=%{x}<br>=%{y}<br>bias_value=%{text}<extra></extra>\",\"legendgroup\":\"location-based + type-based\",\"marker\":{\"color\":\"#00CC96\",\"pattern\":{\"shape\":\"\"},\"opacity\":[0.25]},\"name\":\"location-based + type-based\",\"offsetgroup\":\"location-based + type-based\",\"orientation\":\"h\",\"showlegend\":false,\"text\":\"\",\"textposition\":\"auto\",\"x\":[1],\"xaxis\":\"x2\",\"y\":[\"CM\"],\"yaxis\":\"y2\",\"type\":\"bar\",\"textfont\":{\"size\":4},\"textangle\":0},{\"alignmentgroup\":\"True\",\"base\":[23,24,25,26,27,28,29,30,31,32,33,34,35,36,37,38,39,40,41,42,43,44,45,46,47,48,49,50,51,52,53,54,55,56,57,58,59,60,61,62,63,64,65,66,67,68,69,70,71,72,73,74,75,76,77,78,79,80,81,82,83,84,85,86,87,88,89,90,91,92,93,94,95,96,97,98,99,100,101,102,103,104,105,106,107,108,109,110,111,112,113,114,115,116,117,118,119,120,121,5,1,37,60,61,62,63,64,65,66,67,68,69,70,71,72,73,74,75,76,77,78,79,80,81,82,83,84,85,86,87,88,89,90,91,92,93,94,95,96,97,98,99,100,101,102,103,104,105,106,107,108,109,110,111,112,113,114,115,116,117,118,119,120,121,1],\"hovertemplate\":\"top_bias=location-based + type-based<br>task=mixed<br>start=%{base}<br>stop=%{x}<br>=%{y}<br>bias_value=%{text}<extra></extra>\",\"legendgroup\":\"location-based + type-based\",\"marker\":{\"color\":\"#00CC96\",\"pattern\":{\"shape\":\"\"},\"opacity\":[0.99,0.99,0.99,0.99,0.99,0.99,0.99,0.99,1.0,1.0,1.0,1.0,1.0,1.0,1.0,1.0,1.0,1.0,1.0,1.0,1.0,1.0,1.0,1.0,1.0,1.0,1.0,1.0,1.0,1.0,1.0,1.0,1.0,1.0,1.0,1.0,1.0,1.0,1.0,1.0,1.0,1.0,1.0,1.0,1.0,1.0,1.0,1.0,1.0,1.0,1.0,1.0,1.0,1.0,1.0,1.0,1.0,1.0,1.0,1.0,1.0,1.0,1.0,1.0,1.0,1.0,1.0,1.0,1.0,1.0,1.0,1.0,1.0,1.0,1.0,1.0,1.0,1.0,1.0,1.0,1.0,1.0,1.0,1.0,1.0,1.0,1.0,1.0,1.0,1.0,1.0,1.0,1.0,1.0,1.0,1.0,1.0,1.0,1.0,0.4,0.25,0.55,0.99,0.99,1.0,1.0,1.0,1.0,1.0,1.0,1.0,1.0,1.0,1.0,1.0,1.0,1.0,1.0,1.0,1.0,1.0,1.0,1.0,1.0,1.0,1.0,1.0,1.0,1.0,1.0,1.0,1.0,1.0,1.0,1.0,1.0,1.0,1.0,1.0,1.0,1.0,1.0,1.0,1.0,1.0,1.0,1.0,1.0,1.0,1.0,1.0,1.0,1.0,1.0,1.0,1.0,1.0,1.0,1.0,1.0,1.0,1.0,1.0,1.0,0.15]},\"name\":\"location-based + type-based\",\"offsetgroup\":\"location-based + type-based\",\"orientation\":\"h\",\"showlegend\":false,\"text\":\"\",\"textposition\":\"auto\",\"x\":[1,1,1,1,1,1,1,1,1,1,1,1,1,1,1,1,1,1,1,1,1,1,1,1,1,1,1,1,1,1,1,1,1,1,1,1,1,1,1,1,1,1,1,1,1,1,1,1,1,1,1,1,1,1,1,1,1,1,1,1,1,1,1,1,1,1,1,1,1,1,1,1,1,1,1,1,1,1,1,1,1,1,1,1,1,1,1,1,1,1,1,1,1,1,1,1,1,1,1,1,1,1,1,1,1,1,1,1,1,1,1,1,1,1,1,1,1,1,1,1,1,1,1,1,1,1,1,1,1,1,1,1,1,1,1,1,1,1,1,1,1,1,1,1,1,1,1,1,1,1,1,1,1,1,1,1,1,1,1,1,1,1,1,1,1],\"xaxis\":\"x3\",\"y\":[\"AD    \",\"AD    \",\"AD    \",\"AD    \",\"AD    \",\"AD    \",\"AD    \",\"AD    \",\"AD    \",\"AD    \",\"AD    \",\"AD    \",\"AD    \",\"AD    \",\"AD    \",\"AD    \",\"AD    \",\"AD    \",\"AD    \",\"AD    \",\"AD    \",\"AD    \",\"AD    \",\"AD    \",\"AD    \",\"AD    \",\"AD    \",\"AD    \",\"AD    \",\"AD    \",\"AD    \",\"AD    \",\"AD    \",\"AD    \",\"AD    \",\"AD    \",\"AD    \",\"AD    \",\"AD    \",\"AD    \",\"AD    \",\"AD    \",\"AD    \",\"AD    \",\"AD    \",\"AD    \",\"AD    \",\"AD    \",\"AD    \",\"AD    \",\"AD    \",\"AD    \",\"AD    \",\"AD    \",\"AD    \",\"AD    \",\"AD    \",\"AD    \",\"AD    \",\"AD    \",\"AD    \",\"AD    \",\"AD    \",\"AD    \",\"AD    \",\"AD    \",\"AD    \",\"AD    \",\"AD    \",\"AD    \",\"AD    \",\"AD    \",\"AD    \",\"AD    \",\"AD    \",\"AD    \",\"AD    \",\"AD    \",\"AD    \",\"AD    \",\"AD    \",\"AD    \",\"AD    \",\"AD    \",\"AD    \",\"AD    \",\"AD    \",\"AD    \",\"AD    \",\"AD    \",\"AD    \",\"AD    \",\"AD    \",\"AD    \",\"AD    \",\"AD    \",\"AD    \",\"AD    \",\"AD    \",\"AC\",\"CM\",\"CM\",\"CM\",\"CM\",\"CM\",\"CM\",\"CM\",\"CM\",\"CM\",\"CM\",\"CM\",\"CM\",\"CM\",\"CM\",\"CM\",\"CM\",\"CM\",\"CM\",\"CM\",\"CM\",\"CM\",\"CM\",\"CM\",\"CM\",\"CM\",\"CM\",\"CM\",\"CM\",\"CM\",\"CM\",\"CM\",\"CM\",\"CM\",\"CM\",\"CM\",\"CM\",\"CM\",\"CM\",\"CM\",\"CM\",\"CM\",\"CM\",\"CM\",\"CM\",\"CM\",\"CM\",\"CM\",\"CM\",\"CM\",\"CM\",\"CM\",\"CM\",\"CM\",\"CM\",\"CM\",\"CM\",\"CM\",\"CM\",\"CM\",\"CM\",\"CM\",\"CM\",\"CM\",\"CM\",\"ENS\"],\"yaxis\":\"y3\",\"type\":\"bar\",\"textfont\":{\"size\":4},\"textangle\":0}],                        {\"template\":{\"data\":{\"histogram2dcontour\":[{\"type\":\"histogram2dcontour\",\"colorbar\":{\"outlinewidth\":0,\"ticks\":\"\"},\"colorscale\":[[0.0,\"#0d0887\"],[0.1111111111111111,\"#46039f\"],[0.2222222222222222,\"#7201a8\"],[0.3333333333333333,\"#9c179e\"],[0.4444444444444444,\"#bd3786\"],[0.5555555555555556,\"#d8576b\"],[0.6666666666666666,\"#ed7953\"],[0.7777777777777778,\"#fb9f3a\"],[0.8888888888888888,\"#fdca26\"],[1.0,\"#f0f921\"]]}],\"choropleth\":[{\"type\":\"choropleth\",\"colorbar\":{\"outlinewidth\":0,\"ticks\":\"\"}}],\"histogram2d\":[{\"type\":\"histogram2d\",\"colorbar\":{\"outlinewidth\":0,\"ticks\":\"\"},\"colorscale\":[[0.0,\"#0d0887\"],[0.1111111111111111,\"#46039f\"],[0.2222222222222222,\"#7201a8\"],[0.3333333333333333,\"#9c179e\"],[0.4444444444444444,\"#bd3786\"],[0.5555555555555556,\"#d8576b\"],[0.6666666666666666,\"#ed7953\"],[0.7777777777777778,\"#fb9f3a\"],[0.8888888888888888,\"#fdca26\"],[1.0,\"#f0f921\"]]}],\"heatmap\":[{\"type\":\"heatmap\",\"colorbar\":{\"outlinewidth\":0,\"ticks\":\"\"},\"colorscale\":[[0.0,\"#0d0887\"],[0.1111111111111111,\"#46039f\"],[0.2222222222222222,\"#7201a8\"],[0.3333333333333333,\"#9c179e\"],[0.4444444444444444,\"#bd3786\"],[0.5555555555555556,\"#d8576b\"],[0.6666666666666666,\"#ed7953\"],[0.7777777777777778,\"#fb9f3a\"],[0.8888888888888888,\"#fdca26\"],[1.0,\"#f0f921\"]]}],\"heatmapgl\":[{\"type\":\"heatmapgl\",\"colorbar\":{\"outlinewidth\":0,\"ticks\":\"\"},\"colorscale\":[[0.0,\"#0d0887\"],[0.1111111111111111,\"#46039f\"],[0.2222222222222222,\"#7201a8\"],[0.3333333333333333,\"#9c179e\"],[0.4444444444444444,\"#bd3786\"],[0.5555555555555556,\"#d8576b\"],[0.6666666666666666,\"#ed7953\"],[0.7777777777777778,\"#fb9f3a\"],[0.8888888888888888,\"#fdca26\"],[1.0,\"#f0f921\"]]}],\"contourcarpet\":[{\"type\":\"contourcarpet\",\"colorbar\":{\"outlinewidth\":0,\"ticks\":\"\"}}],\"contour\":[{\"type\":\"contour\",\"colorbar\":{\"outlinewidth\":0,\"ticks\":\"\"},\"colorscale\":[[0.0,\"#0d0887\"],[0.1111111111111111,\"#46039f\"],[0.2222222222222222,\"#7201a8\"],[0.3333333333333333,\"#9c179e\"],[0.4444444444444444,\"#bd3786\"],[0.5555555555555556,\"#d8576b\"],[0.6666666666666666,\"#ed7953\"],[0.7777777777777778,\"#fb9f3a\"],[0.8888888888888888,\"#fdca26\"],[1.0,\"#f0f921\"]]}],\"surface\":[{\"type\":\"surface\",\"colorbar\":{\"outlinewidth\":0,\"ticks\":\"\"},\"colorscale\":[[0.0,\"#0d0887\"],[0.1111111111111111,\"#46039f\"],[0.2222222222222222,\"#7201a8\"],[0.3333333333333333,\"#9c179e\"],[0.4444444444444444,\"#bd3786\"],[0.5555555555555556,\"#d8576b\"],[0.6666666666666666,\"#ed7953\"],[0.7777777777777778,\"#fb9f3a\"],[0.8888888888888888,\"#fdca26\"],[1.0,\"#f0f921\"]]}],\"mesh3d\":[{\"type\":\"mesh3d\",\"colorbar\":{\"outlinewidth\":0,\"ticks\":\"\"}}],\"scatter\":[{\"fillpattern\":{\"fillmode\":\"overlay\",\"size\":10,\"solidity\":0.2},\"type\":\"scatter\"}],\"parcoords\":[{\"type\":\"parcoords\",\"line\":{\"colorbar\":{\"outlinewidth\":0,\"ticks\":\"\"}}}],\"scatterpolargl\":[{\"type\":\"scatterpolargl\",\"marker\":{\"colorbar\":{\"outlinewidth\":0,\"ticks\":\"\"}}}],\"bar\":[{\"error_x\":{\"color\":\"#2a3f5f\"},\"error_y\":{\"color\":\"#2a3f5f\"},\"marker\":{\"line\":{\"color\":\"#E5ECF6\",\"width\":0.5},\"pattern\":{\"fillmode\":\"overlay\",\"size\":10,\"solidity\":0.2}},\"type\":\"bar\"}],\"scattergeo\":[{\"type\":\"scattergeo\",\"marker\":{\"colorbar\":{\"outlinewidth\":0,\"ticks\":\"\"}}}],\"scatterpolar\":[{\"type\":\"scatterpolar\",\"marker\":{\"colorbar\":{\"outlinewidth\":0,\"ticks\":\"\"}}}],\"histogram\":[{\"marker\":{\"pattern\":{\"fillmode\":\"overlay\",\"size\":10,\"solidity\":0.2}},\"type\":\"histogram\"}],\"scattergl\":[{\"type\":\"scattergl\",\"marker\":{\"colorbar\":{\"outlinewidth\":0,\"ticks\":\"\"}}}],\"scatter3d\":[{\"type\":\"scatter3d\",\"line\":{\"colorbar\":{\"outlinewidth\":0,\"ticks\":\"\"}},\"marker\":{\"colorbar\":{\"outlinewidth\":0,\"ticks\":\"\"}}}],\"scattermapbox\":[{\"type\":\"scattermapbox\",\"marker\":{\"colorbar\":{\"outlinewidth\":0,\"ticks\":\"\"}}}],\"scatterternary\":[{\"type\":\"scatterternary\",\"marker\":{\"colorbar\":{\"outlinewidth\":0,\"ticks\":\"\"}}}],\"scattercarpet\":[{\"type\":\"scattercarpet\",\"marker\":{\"colorbar\":{\"outlinewidth\":0,\"ticks\":\"\"}}}],\"carpet\":[{\"aaxis\":{\"endlinecolor\":\"#2a3f5f\",\"gridcolor\":\"white\",\"linecolor\":\"white\",\"minorgridcolor\":\"white\",\"startlinecolor\":\"#2a3f5f\"},\"baxis\":{\"endlinecolor\":\"#2a3f5f\",\"gridcolor\":\"white\",\"linecolor\":\"white\",\"minorgridcolor\":\"white\",\"startlinecolor\":\"#2a3f5f\"},\"type\":\"carpet\"}],\"table\":[{\"cells\":{\"fill\":{\"color\":\"#EBF0F8\"},\"line\":{\"color\":\"white\"}},\"header\":{\"fill\":{\"color\":\"#C8D4E3\"},\"line\":{\"color\":\"white\"}},\"type\":\"table\"}],\"barpolar\":[{\"marker\":{\"line\":{\"color\":\"#E5ECF6\",\"width\":0.5},\"pattern\":{\"fillmode\":\"overlay\",\"size\":10,\"solidity\":0.2}},\"type\":\"barpolar\"}],\"pie\":[{\"automargin\":true,\"type\":\"pie\"}]},\"layout\":{\"autotypenumbers\":\"strict\",\"colorway\":[\"#636efa\",\"#EF553B\",\"#00cc96\",\"#ab63fa\",\"#FFA15A\",\"#19d3f3\",\"#FF6692\",\"#B6E880\",\"#FF97FF\",\"#FECB52\"],\"font\":{\"color\":\"#2a3f5f\"},\"hovermode\":\"closest\",\"hoverlabel\":{\"align\":\"left\"},\"paper_bgcolor\":\"white\",\"plot_bgcolor\":\"#E5ECF6\",\"polar\":{\"bgcolor\":\"#E5ECF6\",\"angularaxis\":{\"gridcolor\":\"white\",\"linecolor\":\"white\",\"ticks\":\"\"},\"radialaxis\":{\"gridcolor\":\"white\",\"linecolor\":\"white\",\"ticks\":\"\"}},\"ternary\":{\"bgcolor\":\"#E5ECF6\",\"aaxis\":{\"gridcolor\":\"white\",\"linecolor\":\"white\",\"ticks\":\"\"},\"baxis\":{\"gridcolor\":\"white\",\"linecolor\":\"white\",\"ticks\":\"\"},\"caxis\":{\"gridcolor\":\"white\",\"linecolor\":\"white\",\"ticks\":\"\"}},\"coloraxis\":{\"colorbar\":{\"outlinewidth\":0,\"ticks\":\"\"}},\"colorscale\":{\"sequential\":[[0.0,\"#0d0887\"],[0.1111111111111111,\"#46039f\"],[0.2222222222222222,\"#7201a8\"],[0.3333333333333333,\"#9c179e\"],[0.4444444444444444,\"#bd3786\"],[0.5555555555555556,\"#d8576b\"],[0.6666666666666666,\"#ed7953\"],[0.7777777777777778,\"#fb9f3a\"],[0.8888888888888888,\"#fdca26\"],[1.0,\"#f0f921\"]],\"sequentialminus\":[[0.0,\"#0d0887\"],[0.1111111111111111,\"#46039f\"],[0.2222222222222222,\"#7201a8\"],[0.3333333333333333,\"#9c179e\"],[0.4444444444444444,\"#bd3786\"],[0.5555555555555556,\"#d8576b\"],[0.6666666666666666,\"#ed7953\"],[0.7777777777777778,\"#fb9f3a\"],[0.8888888888888888,\"#fdca26\"],[1.0,\"#f0f921\"]],\"diverging\":[[0,\"#8e0152\"],[0.1,\"#c51b7d\"],[0.2,\"#de77ae\"],[0.3,\"#f1b6da\"],[0.4,\"#fde0ef\"],[0.5,\"#f7f7f7\"],[0.6,\"#e6f5d0\"],[0.7,\"#b8e186\"],[0.8,\"#7fbc41\"],[0.9,\"#4d9221\"],[1,\"#276419\"]]},\"xaxis\":{\"gridcolor\":\"white\",\"linecolor\":\"white\",\"ticks\":\"\",\"title\":{\"standoff\":15},\"zerolinecolor\":\"white\",\"automargin\":true,\"zerolinewidth\":2},\"yaxis\":{\"gridcolor\":\"white\",\"linecolor\":\"white\",\"ticks\":\"\",\"title\":{\"standoff\":15},\"zerolinecolor\":\"white\",\"automargin\":true,\"zerolinewidth\":2},\"scene\":{\"xaxis\":{\"backgroundcolor\":\"#E5ECF6\",\"gridcolor\":\"white\",\"linecolor\":\"white\",\"showbackground\":true,\"ticks\":\"\",\"zerolinecolor\":\"white\",\"gridwidth\":2},\"yaxis\":{\"backgroundcolor\":\"#E5ECF6\",\"gridcolor\":\"white\",\"linecolor\":\"white\",\"showbackground\":true,\"ticks\":\"\",\"zerolinecolor\":\"white\",\"gridwidth\":2},\"zaxis\":{\"backgroundcolor\":\"#E5ECF6\",\"gridcolor\":\"white\",\"linecolor\":\"white\",\"showbackground\":true,\"ticks\":\"\",\"zerolinecolor\":\"white\",\"gridwidth\":2}},\"shapedefaults\":{\"line\":{\"color\":\"#2a3f5f\"}},\"annotationdefaults\":{\"arrowcolor\":\"#2a3f5f\",\"arrowhead\":0,\"arrowwidth\":1},\"geo\":{\"bgcolor\":\"white\",\"landcolor\":\"#E5ECF6\",\"subunitcolor\":\"white\",\"showland\":true,\"showlakes\":true,\"lakecolor\":\"white\"},\"title\":{\"x\":0.05},\"mapbox\":{\"style\":\"light\"}}},\"xaxis\":{\"anchor\":\"y\",\"domain\":[0.0,0.31999999999999995],\"type\":\"linear\",\"title\":{\"font\":{\"size\":20},\"text\":\"Interactions Observed\"},\"nticks\":8,\"range\":[1,null]},\"yaxis\":{\"anchor\":\"x\",\"domain\":[0.0,1.0],\"title\":{\"text\":\"\"},\"autorange\":true},\"xaxis2\":{\"anchor\":\"y2\",\"domain\":[0.33999999999999997,0.6599999999999999],\"type\":\"linear\",\"title\":{\"font\":{\"size\":20},\"text\":\"Interactions Observed\"},\"nticks\":8,\"range\":[1,null]},\"yaxis2\":{\"anchor\":\"x2\",\"domain\":[0.0,1.0],\"matches\":\"y\",\"showticklabels\":false},\"xaxis3\":{\"anchor\":\"y3\",\"domain\":[0.6799999999999999,0.9999999999999999],\"type\":\"linear\",\"title\":{\"font\":{\"size\":20},\"text\":\"Interactions Observed\"},\"nticks\":8,\"range\":[1,null]},\"yaxis3\":{\"anchor\":\"x3\",\"domain\":[0.0,1.0],\"matches\":\"y\",\"showticklabels\":false},\"annotations\":[{\"font\":{},\"showarrow\":false,\"text\":\"task=location-based\",\"x\":0.15999999999999998,\"xanchor\":\"center\",\"xref\":\"paper\",\"y\":1.0,\"yanchor\":\"bottom\",\"yref\":\"paper\"},{\"font\":{},\"showarrow\":false,\"text\":\"task=type-based\",\"x\":0.49999999999999994,\"xanchor\":\"center\",\"xref\":\"paper\",\"y\":1.0,\"yanchor\":\"bottom\",\"yref\":\"paper\"},{\"font\":{},\"showarrow\":false,\"text\":\"task=mixed\",\"x\":0.8399999999999999,\"xanchor\":\"center\",\"xref\":\"paper\",\"y\":1.0,\"yanchor\":\"bottom\",\"yref\":\"paper\"}],\"legend\":{\"title\":{\"text\":\"\"},\"tracegroupgap\":0,\"orientation\":\"h\",\"yanchor\":\"bottom\",\"y\":-0.7,\"xanchor\":\"center\",\"x\":0.5},\"title\":{\"text\":\"Top Ranking Bias During Exploration of STL Crimes Data\",\"font\":{\"size\":20},\"x\":0.5,\"xanchor\":\"center\",\"yanchor\":\"top\"},\"barmode\":\"overlay\",\"height\":400,\"width\":1500,\"font\":{\"color\":\"black\",\"size\":20}},                        {\"responsive\": true}                    ).then(function(){\n",
       "                            \n",
       "var gd = document.getElementById('153776e5-ea02-47bf-8a28-eaffa0652acd');\n",
       "var x = new MutationObserver(function (mutations, observer) {{\n",
       "        var display = window.getComputedStyle(gd).display;\n",
       "        if (!display || display === 'none') {{\n",
       "            console.log([gd, 'removed!']);\n",
       "            Plotly.purge(gd);\n",
       "            observer.disconnect();\n",
       "        }}\n",
       "}});\n",
       "\n",
       "// Listen for the removal of the full notebook cells\n",
       "var notebookContainer = gd.closest('#notebook-container');\n",
       "if (notebookContainer) {{\n",
       "    x.observe(notebookContainer, {childList: true});\n",
       "}}\n",
       "\n",
       "// Listen for the clearing of the current output cell\n",
       "var outputEl = gd.closest('.output');\n",
       "if (outputEl) {{\n",
       "    x.observe(outputEl, {childList: true});\n",
       "}}\n",
       "\n",
       "                        })                };                });            </script>        </div>"
      ]
     },
     "metadata": {},
     "output_type": "display_data"
    }
   ],
   "source": [
    "bias_metric_per_task_hmm = {'geo-based': 'bias-bias_x___y', 'type-based': 'bias-bias_type', 'mixed': 'bias-mixed'}\n",
    "bias_metric_per_task_cm = {'geo-based': 'bias-x___y', 'type-based': 'bias-type', 'mixed': 'posterior-competing_model__x___y___type'}\n",
    "bias_metric_per_task_wall = {'geo-based': 'bias-x___y', 'type-based': 'bias-type', 'mixed': 'bias-mixed'}\n",
    "bias_metric_per_task_ac = {'geo-based': 'bias-x___y', 'type-based': 'bias-type', 'mixed': 'bias-mixed'}\n",
    "\n",
    "def aggregated(alg, results, bias_metric_per_task):\n",
    "    all_avg_bias = pd.DataFrame()\n",
    "    for ai, t in enumerate(['geo-based', 'type-based', 'mixed']):\n",
    "        bias_over_time_geo = pd.DataFrame()\n",
    "        bias_over_time_type = pd.DataFrame()\n",
    "        bias_over_time_mixed = pd.DataFrame()\n",
    "        for i, row in results[results.task == t].iterrows():\n",
    "            temp_df_x_y = pd.DataFrame()\n",
    "            temp_df_type = pd.DataFrame()\n",
    "            temp_df_mixed = pd.DataFrame()\n",
    "            temp_df_x_y[row['participant_id']] = row[bias_metric_per_task['geo-based']]\n",
    "            temp_df_type[row['participant_id']] = row[bias_metric_per_task['type-based']]\n",
    "            temp_df_mixed[row['participant_id']] = row[bias_metric_per_task['mixed']]\n",
    "            bias_over_time_geo = pd.concat([bias_over_time_geo, temp_df_x_y], axis=1, ignore_index=True)\n",
    "            bias_over_time_type = pd.concat([bias_over_time_type, temp_df_type], axis=1, ignore_index=True)\n",
    "            bias_over_time_mixed = pd.concat([bias_over_time_mixed, temp_df_mixed], axis=1, ignore_index=True)\n",
    "        mean_bias_geo = bias_over_time_geo.mean(axis=1).to_numpy()\n",
    "        mean_bias_type = bias_over_time_type.mean(axis=1).to_numpy()\n",
    "        mean_bias_mixed = bias_over_time_mixed.mean(axis=1).to_numpy()\n",
    "        all_avg_bias = pd.concat([all_avg_bias,\n",
    "                                  pd.DataFrame({'alg': [alg], 'task': t,\n",
    "                                                'bias-x___y': [mean_bias_geo],\n",
    "                                                'bias-type': [mean_bias_type],\n",
    "                                                'bias-mixed': [mean_bias_mixed]})])\n",
    "    return all_avg_bias\n",
    "hmm_agg = aggregated('HMM', stl_map_results_hmm, bias_metric_per_task_hmm)\n",
    "wall_agg = aggregated('AD', stl_map_results_wall, bias_metric_per_task_wall)\n",
    "ac_agg = aggregated('AC', stl_map_results_ac, bias_metric_per_task_ac)\n",
    "cm_agg = aggregated('CM', stl_map_results_cm, bias_metric_per_task_cm)\n",
    "ens_agg = aggregated('ENS', stl_map_results_ensemble_bias, bias_metric_per_task_ac)\n",
    "all_task_sessions = pd.concat([hmm_agg, wall_agg, cm_agg, ac_agg, ens_agg])\n",
    "# all_task_sessions = pd.concat([hmm_agg, cm_agg, ac_agg])\n",
    "task_list = ['geo-based', 'type-based', 'mixed']\n",
    "\n",
    "def task_bias_over_time(task, results, alg):\n",
    "    bias_metric_names = {'location-based': 'bias-x___y', 'type-based': 'bias-type'}\n",
    "    task_top_bias = pd.DataFrame()\n",
    "    attribute_list = []\n",
    "    task_bias_data = results[results['alg'] == alg]\n",
    "    session_len = len(task_bias_data.iloc[0]['bias-type']) + 1\n",
    "    if alg == 'CM':\n",
    "        session_len = len(task_bias_data.iloc[0]['bias-type'])\n",
    "    for i in range(session_len):\n",
    "        if i > 0:\n",
    "            current_max = {'attribute': '', 'bias': 0}\n",
    "            for attr in bias_metric_names.values():\n",
    "                attr_clean = [k for k,v in bias_metric_names.items() if v == attr][0]\n",
    "                current_bias =  float(task_bias_data[attr].values[0][i-1])\n",
    "                diff = abs(float(current_bias - current_max['bias']))\n",
    "                if current_max['bias'] < current_bias and diff >= 0.01:\n",
    "                    diff = current_bias - current_max['bias']\n",
    "                    current_max['attribute'] = attr_clean\n",
    "                    current_max['bias'] = current_bias\n",
    "                else:\n",
    "                    if (diff <= 0.01):\n",
    "                        current_max_str = current_max['attribute'] + ' ' + attr_clean\n",
    "                        current_max_str = current_max_str.replace(' + ', ' ')\n",
    "                        split_array = current_max_str.split()\n",
    "                        list_max_attrs = sorted(split_array)\n",
    "                        mixed_attr_title = ' + '.join([elem for elem in list_max_attrs])\n",
    "                        current_max['attribute'] = mixed_attr_title\n",
    "                        current_max['bias'] = current_bias * current_max['bias']\n",
    "            if task == 'geo-based':\n",
    "                task = 'location-based'\n",
    "            if alg == 'AD':\n",
    "                alg = 'AD    '\n",
    "            task_top_bias = pd.concat([task_top_bias, pd.DataFrame({'task': [task], 'alg': alg, 'start': [i],\n",
    "                                        'stop': [i + 1], 'top_bias': [current_max['attribute']],\n",
    "                                        'bias_value': [round(current_max['bias'], 2)]})])\n",
    "    return task_top_bias.reset_index(drop=True)\n",
    "\n",
    "\n",
    "all_task_sessions_over_time = pd.DataFrame()\n",
    "for task in task_list:\n",
    "    res = all_task_sessions[all_task_sessions['task'] == task]\n",
    "    df = task_bias_over_time(task, res, 'AD')\n",
    "    df_hmm = task_bias_over_time(task, res, 'HMM')\n",
    "    df_cm = task_bias_over_time(task, res, 'CM')\n",
    "    df_ac = task_bias_over_time(task, res, 'AC')\n",
    "    df_ens = task_bias_over_time(task, res, 'ENS')\n",
    "    combined_task = pd.concat([df, df_hmm, df_ac, df_cm, df_ens])\n",
    "#     combined_task = pd.concat([df_hmm, df_cm, df_ac])\n",
    "    all_task_sessions_over_time = pd.concat([all_task_sessions_over_time, combined_task])\n",
    "    \n",
    "all_task_sessions_over_time['delta'] = all_task_sessions_over_time['stop'] - all_task_sessions_over_time['start']\n",
    "\n",
    "colors = px.colors.qualitative.Plotly + px.colors.qualitative.Dark24\n",
    "fig = px.timeline(all_task_sessions_over_time, x_start='start', x_end='stop', y='alg', color='top_bias', text='bias_value',\n",
    "                  facet_col ='task', title = 'Top Ranking Bias During Exploration of STL Crimes Data',\n",
    "                 labels = {'alg':''}, facet_row_spacing=0.04, width=1500, height=400,\n",
    "                 color_discrete_sequence=colors)\n",
    "\n",
    "fig.for_each_xaxis(lambda xaxis: xaxis.update(type='linear'))\n",
    "\n",
    "for d in fig.data:\n",
    "    x_array = len(d.x)\n",
    "    d.x = [1] * x_array\n",
    "\n",
    "fig.update_xaxes(\n",
    "    nticks= 8,\n",
    "    range = [1, None],\n",
    "    title_font=dict(size=12)\n",
    ")\n",
    "\n",
    "font_size = 20\n",
    "fig.update_xaxes(title_text = 'Interactions Observed', title_font=dict(size=font_size), row=1, col=1)\n",
    "fig.update_xaxes(title_text = 'Interactions Observed', title_font=dict(size=font_size), row=1, col=2)\n",
    "fig.update_xaxes(title_text = 'Interactions Observed', title_font=dict(size=font_size), row=1, col=3)\n",
    "\n",
    "fig.update_layout(\n",
    "    title = dict(x=0.5, xanchor='center', yanchor='top', font_size=font_size),\n",
    "    legend=dict(title = '', orientation=\"h\", yanchor=\"bottom\", y=-.7, xanchor=\"center\", x=0.5),\n",
    "    font=dict(color='black', size=font_size)\n",
    ")\n",
    "\n",
    "fig.for_each_trace(\n",
    "    lambda trace: trace.update(marker_opacity = trace.text)\n",
    ")\n",
    "fig['layout']['yaxis']['autorange'] = True\n",
    "fig.update_traces(textfont_size=4, textangle=0, text='')\n",
    "fig.update_xaxes(matches=None)\n",
    "fig.show()\n",
    "fig.write_image('../output/figs/stl_agg_session.png', scale=2)"
   ]
  },
  {
   "cell_type": "code",
   "execution_count": null,
   "id": "8a641159",
   "metadata": {},
   "outputs": [],
   "source": []
  }
 ],
 "metadata": {
  "kernelspec": {
   "display_name": "Python 3",
   "language": "python",
   "name": "python3"
  },
  "language_info": {
   "codemirror_mode": {
    "name": "ipython",
    "version": 3
   },
   "file_extension": ".py",
   "mimetype": "text/x-python",
   "name": "python",
   "nbconvert_exporter": "python",
   "pygments_lexer": "ipython3",
   "version": "3.8.8"
  }
 },
 "nbformat": 4,
 "nbformat_minor": 5
}

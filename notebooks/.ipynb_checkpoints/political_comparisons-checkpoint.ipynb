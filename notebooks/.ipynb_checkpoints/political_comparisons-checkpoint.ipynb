{
 "cells": [
  {
   "cell_type": "code",
   "execution_count": 1,
   "id": "d0ddfab3",
   "metadata": {},
   "outputs": [],
   "source": [
    "import sys\n",
    "sys.path.append('../implementation')\n",
    "import numpy as np\n",
    "import pandas as pd\n",
    "import ast\n",
    "import random\n",
    "from tqdm import tqdm\n",
    "from util import lognormpdf\n",
    "import numpy as np\n",
    "import matplotlib.pyplot as plt\n",
    "import scipy.special as sp\n",
    "import scipy.stats as stats\n",
    "import scikit_posthocs as sci_post\n",
    "import time\n",
    "import warnings\n",
    "import matplotlib.colors as mat_col\n",
    "import seaborn as sns\n",
    "from statistics import mean\n",
    "import plotly.express as px\n",
    "import plotly.colors\n",
    "warnings.filterwarnings('ignore')"
   ]
  },
  {
   "cell_type": "code",
   "execution_count": 2,
   "id": "192e7a09",
   "metadata": {},
   "outputs": [],
   "source": [
    "# Load results\n",
    "interaction_data = pd.read_csv('../data/political/final/wall_political_interactions.csv')\n",
    "interaction_data['interaction_session'] = interaction_data.apply(lambda row: ast.literal_eval(row.interaction_session), axis=1)\n",
    "interaction_data['interaction_type'] = interaction_data.apply(lambda row: ast.literal_eval(row.interaction_type), axis=1)\n",
    "\n",
    "political_results_hmm = pd.read_pickle('../output/political/political_hmm.pkl')\n",
    "political_results_cm = pd.read_pickle('../output/political/political_cm.pkl')\n",
    "political_results_wall = pd.read_pickle('../output/political/political_wall.pkl')\n",
    "political_results_knn = pd.read_pickle('../output/political/political_knn.pkl')\n",
    "political_results_ac = pd.read_pickle('../output/political/political_ac.pkl')\n",
    "political_results_af = pd.read_pickle('../output/political/political_af.pkl')\n",
    "political_results_ada = pd.read_pickle('../output/political/political_ada_nb.pkl')\n",
    "\n",
    "ks = [1, 5, 10, 20, 50, 100]"
   ]
  },
  {
   "cell_type": "code",
   "execution_count": 5,
   "id": "e18b3194",
   "metadata": {
    "scrolled": false
   },
   "outputs": [
    {
     "data": {
      "application/vnd.plotly.v1+json": {
       "config": {
        "plotlyServerURL": "https://plot.ly"
       },
       "data": [
        {
         "alignmentgroup": "True",
         "base": [
          1,
          6,
          1,
          1,
          2
         ],
         "hovertemplate": "top_bias=age<br>user=lPpxNz1aVtYh<br>start=%{base}<br>stop=%{x}<br>=%{y}<br>bias_value=%{text}<extra></extra>",
         "legendgroup": "age",
         "marker": {
          "color": "#636EFA",
          "opacity": [
           0.94,
           0.76,
           0.56,
           0.83,
           0.66
          ]
         },
         "name": "age",
         "offsetgroup": "age",
         "orientation": "h",
         "showlegend": true,
         "text": "",
         "textangle": 0,
         "textfont": {
          "size": 4
         },
         "textposition": "auto",
         "type": "bar",
         "x": [
          1,
          1,
          1,
          1,
          1
         ],
         "xaxis": "x9",
         "y": [
          "AD",
          "AD",
          "HMM",
          "AC",
          "AC"
         ],
         "yaxis": "y9"
        },
        {
         "alignmentgroup": "True",
         "base": [
          1,
          2,
          3,
          13,
          14
         ],
         "hovertemplate": "top_bias=age<br>user=xrOuOynQhVbO<br>start=%{base}<br>stop=%{x}<br>=%{y}<br>bias_value=%{text}<extra></extra>",
         "legendgroup": "age",
         "marker": {
          "color": "#636EFA",
          "opacity": [
           0.6,
           0.58,
           0.6,
           0.23,
           0.23
          ]
         },
         "name": "age",
         "offsetgroup": "age",
         "orientation": "h",
         "showlegend": false,
         "text": "",
         "textangle": 0,
         "textfont": {
          "size": 4
         },
         "textposition": "auto",
         "type": "bar",
         "x": [
          1,
          1,
          1,
          1,
          1
         ],
         "xaxis": "x10",
         "y": [
          "AD",
          "HMM",
          "HMM",
          "AC",
          "AC"
         ],
         "yaxis": "y10"
        },
        {
         "alignmentgroup": "True",
         "base": [
          5,
          8,
          8,
          9,
          10
         ],
         "hovertemplate": "top_bias=age<br>user=6oheLF74hlXc<br>start=%{base}<br>stop=%{x}<br>=%{y}<br>bias_value=%{text}<extra></extra>",
         "legendgroup": "age",
         "marker": {
          "color": "#636EFA",
          "opacity": [
           0.69,
           0.68,
           0.32,
           0.28,
           0.27
          ]
         },
         "name": "age",
         "offsetgroup": "age",
         "orientation": "h",
         "showlegend": false,
         "text": "",
         "textangle": 0,
         "textfont": {
          "size": 4
         },
         "textposition": "auto",
         "type": "bar",
         "x": [
          1,
          1,
          1,
          1,
          1
         ],
         "xaxis": "x11",
         "y": [
          "AD",
          "AD",
          "AC",
          "AC",
          "AC"
         ],
         "yaxis": "y11"
        },
        {
         "alignmentgroup": "True",
         "base": [
          1,
          2,
          3
         ],
         "hovertemplate": "top_bias=age<br>user=8cPi4CoiSpNN<br>start=%{base}<br>stop=%{x}<br>=%{y}<br>bias_value=%{text}<extra></extra>",
         "legendgroup": "age",
         "marker": {
          "color": "#636EFA",
          "opacity": [
           0.47,
           0.59,
           0.65
          ]
         },
         "name": "age",
         "offsetgroup": "age",
         "orientation": "h",
         "showlegend": false,
         "text": "",
         "textangle": 0,
         "textfont": {
          "size": 4
         },
         "textposition": "auto",
         "type": "bar",
         "x": [
          1,
          1,
          1
         ],
         "xaxis": "x12",
         "y": [
          "AD",
          "HMM",
          "AC"
         ],
         "yaxis": "y12"
        },
        {
         "alignmentgroup": "True",
         "base": [
          2,
          2,
          3,
          4,
          6
         ],
         "hovertemplate": "top_bias=age<br>user=hoMzF8Cf1Y5j<br>start=%{base}<br>stop=%{x}<br>=%{y}<br>bias_value=%{text}<extra></extra>",
         "legendgroup": "age",
         "marker": {
          "color": "#636EFA",
          "opacity": [
           0.59,
           0.7,
           0.65,
           0.65,
           0.46
          ]
         },
         "name": "age",
         "offsetgroup": "age",
         "orientation": "h",
         "showlegend": false,
         "text": "",
         "textangle": 0,
         "textfont": {
          "size": 4
         },
         "textposition": "auto",
         "type": "bar",
         "x": [
          1,
          1,
          1,
          1,
          1
         ],
         "xaxis": "x5",
         "y": [
          "CM",
          "AC",
          "AC",
          "AC",
          "AC"
         ],
         "yaxis": "y5"
        },
        {
         "alignmentgroup": "True",
         "base": [
          11,
          8,
          11
         ],
         "hovertemplate": "top_bias=age<br>user=gPCb7Uy0pEM0<br>start=%{base}<br>stop=%{x}<br>=%{y}<br>bias_value=%{text}<extra></extra>",
         "legendgroup": "age",
         "marker": {
          "color": "#636EFA",
          "opacity": [
           0.68,
           0.45,
           0.3
          ]
         },
         "name": "age",
         "offsetgroup": "age",
         "orientation": "h",
         "showlegend": false,
         "text": "",
         "textangle": 0,
         "textfont": {
          "size": 4
         },
         "textposition": "auto",
         "type": "bar",
         "x": [
          1,
          1,
          1
         ],
         "xaxis": "x6",
         "y": [
          "AD",
          "AC",
          "AC"
         ],
         "yaxis": "y6"
        },
        {
         "alignmentgroup": "True",
         "base": [
          1,
          5,
          7,
          1,
          1,
          2
         ],
         "hovertemplate": "top_bias=age<br>user=3Sp3rSvqFsh6<br>start=%{base}<br>stop=%{x}<br>=%{y}<br>bias_value=%{text}<extra></extra>",
         "legendgroup": "age",
         "marker": {
          "color": "#636EFA",
          "opacity": [
           0.76,
           0.66,
           0.39,
           0.55,
           0.81,
           0.64
          ]
         },
         "name": "age",
         "offsetgroup": "age",
         "orientation": "h",
         "showlegend": false,
         "text": "",
         "textangle": 0,
         "textfont": {
          "size": 4
         },
         "textposition": "auto",
         "type": "bar",
         "x": [
          1,
          1,
          1,
          1,
          1,
          1
         ],
         "xaxis": "x7",
         "y": [
          "AD",
          "AD",
          "AD",
          "HMM",
          "AC",
          "AC"
         ],
         "yaxis": "y7"
        },
        {
         "alignmentgroup": "True",
         "base": [
          3,
          4,
          6,
          7,
          8,
          4
         ],
         "hovertemplate": "top_bias=age<br>user=qFIltQnZAor7<br>start=%{base}<br>stop=%{x}<br>=%{y}<br>bias_value=%{text}<extra></extra>",
         "legendgroup": "age",
         "marker": {
          "color": "#636EFA",
          "opacity": [
           0.85,
           0.89,
           0.76,
           0.87,
           0.65,
           0.46
          ]
         },
         "name": "age",
         "offsetgroup": "age",
         "orientation": "h",
         "showlegend": false,
         "text": "",
         "textangle": 0,
         "textfont": {
          "size": 4
         },
         "textposition": "auto",
         "type": "bar",
         "x": [
          1,
          1,
          1,
          1,
          1,
          1
         ],
         "xaxis": "x8",
         "y": [
          "AD",
          "AD",
          "AD",
          "AD",
          "AD",
          "AC"
         ],
         "yaxis": "y8"
        },
        {
         "alignmentgroup": "True",
         "base": [
          1,
          1,
          3,
          4,
          5,
          6
         ],
         "hovertemplate": "top_bias=age<br>user=CnOeEROhOZaX<br>start=%{base}<br>stop=%{x}<br>=%{y}<br>bias_value=%{text}<extra></extra>",
         "legendgroup": "age",
         "marker": {
          "color": "#636EFA",
          "opacity": [
           0.79,
           0.82,
           0.64,
           0.65,
           0.51,
           0.49
          ]
         },
         "name": "age",
         "offsetgroup": "age",
         "orientation": "h",
         "showlegend": false,
         "text": "",
         "textangle": 0,
         "textfont": {
          "size": 4
         },
         "textposition": "auto",
         "type": "bar",
         "x": [
          1,
          1,
          1,
          1,
          1,
          1
         ],
         "xaxis": "x",
         "y": [
          "AD",
          "AC",
          "AC",
          "AC",
          "AC",
          "AC"
         ],
         "yaxis": "y"
        },
        {
         "alignmentgroup": "True",
         "base": [
          1,
          10,
          4
         ],
         "hovertemplate": "top_bias=age<br>user=8D64yb05oRDt<br>start=%{base}<br>stop=%{x}<br>=%{y}<br>bias_value=%{text}<extra></extra>",
         "legendgroup": "age",
         "marker": {
          "color": "#636EFA",
          "opacity": [
           0.6,
           0.96,
           0.59
          ]
         },
         "name": "age",
         "offsetgroup": "age",
         "orientation": "h",
         "showlegend": false,
         "text": "",
         "textangle": 0,
         "textfont": {
          "size": 4
         },
         "textposition": "auto",
         "type": "bar",
         "x": [
          1,
          1,
          1
         ],
         "xaxis": "x2",
         "y": [
          "AD",
          "AD",
          "HMM"
         ],
         "yaxis": "y2"
        },
        {
         "alignmentgroup": "True",
         "base": [
          6,
          7
         ],
         "hovertemplate": "top_bias=age<br>user=r9cpBWj7l0iV<br>start=%{base}<br>stop=%{x}<br>=%{y}<br>bias_value=%{text}<extra></extra>",
         "legendgroup": "age",
         "marker": {
          "color": "#636EFA",
          "opacity": [
           0.46,
           0.45
          ]
         },
         "name": "age",
         "offsetgroup": "age",
         "orientation": "h",
         "showlegend": false,
         "text": "",
         "textangle": 0,
         "textfont": {
          "size": 4
         },
         "textposition": "auto",
         "type": "bar",
         "x": [
          1,
          1
         ],
         "xaxis": "x3",
         "y": [
          "AC",
          "AC"
         ],
         "yaxis": "y3"
        },
        {
         "alignmentgroup": "True",
         "base": [
          1,
          2,
          3,
          4,
          2,
          3,
          4,
          2,
          3
         ],
         "hovertemplate": "top_bias=age<br>user=ZY1tfYLxtiya<br>start=%{base}<br>stop=%{x}<br>=%{y}<br>bias_value=%{text}<extra></extra>",
         "legendgroup": "age",
         "marker": {
          "color": "#636EFA",
          "opacity": [
           0.7,
           0.86,
           0.96,
           0.78,
           0.57,
           0.6,
           0.61,
           0.72,
           0.64
          ]
         },
         "name": "age",
         "offsetgroup": "age",
         "orientation": "h",
         "showlegend": false,
         "text": "",
         "textangle": 0,
         "textfont": {
          "size": 4
         },
         "textposition": "auto",
         "type": "bar",
         "x": [
          1,
          1,
          1,
          1,
          1,
          1,
          1,
          1,
          1
         ],
         "xaxis": "x4",
         "y": [
          "AD",
          "AD",
          "AD",
          "AD",
          "HMM",
          "HMM",
          "HMM",
          "AC",
          "AC"
         ],
         "yaxis": "y4"
        },
        {
         "alignmentgroup": "True",
         "base": [
          2
         ],
         "hovertemplate": "top_bias=alcohol + marijuana<br>user=lPpxNz1aVtYh<br>start=%{base}<br>stop=%{x}<br>=%{y}<br>bias_value=%{text}<extra></extra>",
         "legendgroup": "alcohol + marijuana",
         "marker": {
          "color": "#EF553B",
          "opacity": [
           0.78
          ]
         },
         "name": "alcohol + marijuana",
         "offsetgroup": "alcohol + marijuana",
         "orientation": "h",
         "showlegend": true,
         "text": "",
         "textangle": 0,
         "textfont": {
          "size": 4
         },
         "textposition": "auto",
         "type": "bar",
         "x": [
          1
         ],
         "xaxis": "x9",
         "y": [
          "AD"
         ],
         "yaxis": "y9"
        },
        {
         "alignmentgroup": "True",
         "base": [
          3
         ],
         "hovertemplate": "top_bias=political_experience<br>user=lPpxNz1aVtYh<br>start=%{base}<br>stop=%{x}<br>=%{y}<br>bias_value=%{text}<extra></extra>",
         "legendgroup": "political_experience",
         "marker": {
          "color": "#00CC96",
          "opacity": [
           0.6
          ]
         },
         "name": "political_experience",
         "offsetgroup": "political_experience",
         "orientation": "h",
         "showlegend": true,
         "text": "",
         "textangle": 0,
         "textfont": {
          "size": 4
         },
         "textposition": "auto",
         "type": "bar",
         "x": [
          1
         ],
         "xaxis": "x9",
         "y": [
          "AD"
         ],
         "yaxis": "y9"
        },
        {
         "alignmentgroup": "True",
         "base": [
          4
         ],
         "hovertemplate": "top_bias=political_experience<br>user=xrOuOynQhVbO<br>start=%{base}<br>stop=%{x}<br>=%{y}<br>bias_value=%{text}<extra></extra>",
         "legendgroup": "political_experience",
         "marker": {
          "color": "#00CC96",
          "opacity": [
           0.51
          ]
         },
         "name": "political_experience",
         "offsetgroup": "political_experience",
         "orientation": "h",
         "showlegend": false,
         "text": "",
         "textangle": 0,
         "textfont": {
          "size": 4
         },
         "textposition": "auto",
         "type": "bar",
         "x": [
          1
         ],
         "xaxis": "x10",
         "y": [
          "AD"
         ],
         "yaxis": "y10"
        },
        {
         "alignmentgroup": "True",
         "base": [
          4,
          6,
          7,
          4,
          6,
          3,
          4,
          6,
          7
         ],
         "hovertemplate": "top_bias=political_experience<br>user=6oheLF74hlXc<br>start=%{base}<br>stop=%{x}<br>=%{y}<br>bias_value=%{text}<extra></extra>",
         "legendgroup": "political_experience",
         "marker": {
          "color": "#00CC96",
          "opacity": [
           0.51,
           0.73,
           0.8,
           0.6,
           0.64,
           0.59,
           0.59,
           0.4,
           0.36
          ]
         },
         "name": "political_experience",
         "offsetgroup": "political_experience",
         "orientation": "h",
         "showlegend": false,
         "text": "",
         "textangle": 0,
         "textfont": {
          "size": 4
         },
         "textposition": "auto",
         "type": "bar",
         "x": [
          1,
          1,
          1,
          1,
          1,
          1,
          1,
          1,
          1
         ],
         "xaxis": "x11",
         "y": [
          "AD",
          "AD",
          "AD",
          "HMM",
          "HMM",
          "AC",
          "AC",
          "AC",
          "AC"
         ],
         "yaxis": "y11"
        },
        {
         "alignmentgroup": "True",
         "base": [
          3,
          4,
          5,
          2,
          4,
          5
         ],
         "hovertemplate": "top_bias=political_experience<br>user=8cPi4CoiSpNN<br>start=%{base}<br>stop=%{x}<br>=%{y}<br>bias_value=%{text}<extra></extra>",
         "legendgroup": "political_experience",
         "marker": {
          "color": "#00CC96",
          "opacity": [
           0.6,
           0.76,
           0.84,
           0.66,
           0.53,
           0.53
          ]
         },
         "name": "political_experience",
         "offsetgroup": "political_experience",
         "orientation": "h",
         "showlegend": false,
         "text": "",
         "textangle": 0,
         "textfont": {
          "size": 4
         },
         "textposition": "auto",
         "type": "bar",
         "x": [
          1,
          1,
          1,
          1,
          1,
          1
         ],
         "xaxis": "x12",
         "y": [
          "AD",
          "AD",
          "AD",
          "AC",
          "AC",
          "AC"
         ],
         "yaxis": "y12"
        },
        {
         "alignmentgroup": "True",
         "base": [
          2,
          9
         ],
         "hovertemplate": "top_bias=political_experience<br>user=hoMzF8Cf1Y5j<br>start=%{base}<br>stop=%{x}<br>=%{y}<br>bias_value=%{text}<extra></extra>",
         "legendgroup": "political_experience",
         "marker": {
          "color": "#00CC96",
          "opacity": [
           0.76,
           0.95
          ]
         },
         "name": "political_experience",
         "offsetgroup": "political_experience",
         "orientation": "h",
         "showlegend": false,
         "text": "",
         "textangle": 0,
         "textfont": {
          "size": 4
         },
         "textposition": "auto",
         "type": "bar",
         "x": [
          1,
          1
         ],
         "xaxis": "x5",
         "y": [
          "AD",
          "AD"
         ],
         "yaxis": "y5"
        },
        {
         "alignmentgroup": "True",
         "base": [
          2,
          4,
          5,
          3,
          4,
          5
         ],
         "hovertemplate": "top_bias=political_experience<br>user=gPCb7Uy0pEM0<br>start=%{base}<br>stop=%{x}<br>=%{y}<br>bias_value=%{text}<extra></extra>",
         "legendgroup": "political_experience",
         "marker": {
          "color": "#00CC96",
          "opacity": [
           0.54,
           0.84,
           0.9,
           0.63,
           0.56,
           0.57
          ]
         },
         "name": "political_experience",
         "offsetgroup": "political_experience",
         "orientation": "h",
         "showlegend": false,
         "text": "",
         "textangle": 0,
         "textfont": {
          "size": 4
         },
         "textposition": "auto",
         "type": "bar",
         "x": [
          1,
          1,
          1,
          1,
          1,
          1
         ],
         "xaxis": "x6",
         "y": [
          "AD",
          "AD",
          "AD",
          "AC",
          "AC",
          "AC"
         ],
         "yaxis": "y6"
        },
        {
         "alignmentgroup": "True",
         "base": [
          2,
          2
         ],
         "hovertemplate": "top_bias=political_experience<br>user=3Sp3rSvqFsh6<br>start=%{base}<br>stop=%{x}<br>=%{y}<br>bias_value=%{text}<extra></extra>",
         "legendgroup": "political_experience",
         "marker": {
          "color": "#00CC96",
          "opacity": [
           0.54,
           0.61
          ]
         },
         "name": "political_experience",
         "offsetgroup": "political_experience",
         "orientation": "h",
         "showlegend": false,
         "text": "",
         "textangle": 0,
         "textfont": {
          "size": 4
         },
         "textposition": "auto",
         "type": "bar",
         "x": [
          1,
          1
         ],
         "xaxis": "x7",
         "y": [
          "AD",
          "CM"
         ],
         "yaxis": "y7"
        },
        {
         "alignmentgroup": "True",
         "base": [
          5,
          2,
          3,
          2,
          6
         ],
         "hovertemplate": "top_bias=political_experience<br>user=qFIltQnZAor7<br>start=%{base}<br>stop=%{x}<br>=%{y}<br>bias_value=%{text}<extra></extra>",
         "legendgroup": "political_experience",
         "marker": {
          "color": "#00CC96",
          "opacity": [
           0.64,
           0.63,
           0.61,
           0.66,
           0.37
          ]
         },
         "name": "political_experience",
         "offsetgroup": "political_experience",
         "orientation": "h",
         "showlegend": false,
         "text": "",
         "textangle": 0,
         "textfont": {
          "size": 4
         },
         "textposition": "auto",
         "type": "bar",
         "x": [
          1,
          1,
          1,
          1,
          1
         ],
         "xaxis": "x8",
         "y": [
          "AD",
          "CM",
          "CM",
          "AC",
          "AC"
         ],
         "yaxis": "y8"
        },
        {
         "alignmentgroup": "True",
         "base": [
          2,
          3,
          7,
          8,
          9,
          10,
          12,
          13,
          2
         ],
         "hovertemplate": "top_bias=political_experience<br>user=CnOeEROhOZaX<br>start=%{base}<br>stop=%{x}<br>=%{y}<br>bias_value=%{text}<extra></extra>",
         "legendgroup": "political_experience",
         "marker": {
          "color": "#00CC96",
          "opacity": [
           0.91,
           0.56,
           0.74,
           0.56,
           0.8,
           0.67,
           0.76,
           0.66,
           0.74
          ]
         },
         "name": "political_experience",
         "offsetgroup": "political_experience",
         "orientation": "h",
         "showlegend": false,
         "text": "",
         "textangle": 0,
         "textfont": {
          "size": 4
         },
         "textposition": "auto",
         "type": "bar",
         "x": [
          1,
          1,
          1,
          1,
          1,
          1,
          1,
          1,
          1
         ],
         "xaxis": "x",
         "y": [
          "AD",
          "AD",
          "AD",
          "AD",
          "AD",
          "AD",
          "AD",
          "AD",
          "AC"
         ],
         "yaxis": "y"
        },
        {
         "alignmentgroup": "True",
         "base": [
          7,
          8,
          9
         ],
         "hovertemplate": "top_bias=political_experience<br>user=8D64yb05oRDt<br>start=%{base}<br>stop=%{x}<br>=%{y}<br>bias_value=%{text}<extra></extra>",
         "legendgroup": "political_experience",
         "marker": {
          "color": "#00CC96",
          "opacity": [
           0.45,
           0.45,
           0.46
          ]
         },
         "name": "political_experience",
         "offsetgroup": "political_experience",
         "orientation": "h",
         "showlegend": false,
         "text": "",
         "textangle": 0,
         "textfont": {
          "size": 4
         },
         "textposition": "auto",
         "type": "bar",
         "x": [
          1,
          1,
          1
         ],
         "xaxis": "x2",
         "y": [
          "AC",
          "AC",
          "AC"
         ],
         "yaxis": "y2"
        },
        {
         "alignmentgroup": "True",
         "base": [
          1,
          2,
          3,
          4,
          5,
          6,
          7,
          8,
          9,
          10,
          4,
          8,
          9,
          10
         ],
         "hovertemplate": "top_bias=political_experience<br>user=r9cpBWj7l0iV<br>start=%{base}<br>stop=%{x}<br>=%{y}<br>bias_value=%{text}<extra></extra>",
         "legendgroup": "political_experience",
         "marker": {
          "color": "#00CC96",
          "opacity": [
           0.61,
           0.54,
           0.7,
           0.84,
           0.64,
           0.73,
           0.8,
           0.87,
           0.92,
           0.91,
           0.59,
           0.44,
           0.44,
           0.4
          ]
         },
         "name": "political_experience",
         "offsetgroup": "political_experience",
         "orientation": "h",
         "showlegend": false,
         "text": "",
         "textangle": 0,
         "textfont": {
          "size": 4
         },
         "textposition": "auto",
         "type": "bar",
         "x": [
          1,
          1,
          1,
          1,
          1,
          1,
          1,
          1,
          1,
          1,
          1,
          1,
          1,
          1
         ],
         "xaxis": "x3",
         "y": [
          "AD",
          "AD",
          "AD",
          "AD",
          "AD",
          "AD",
          "AD",
          "AD",
          "AD",
          "AD",
          "AC",
          "AC",
          "AC",
          "AC"
         ],
         "yaxis": "y3"
        },
        {
         "alignmentgroup": "True",
         "base": [
          4,
          5,
          7,
          8,
          10,
          4,
          5
         ],
         "hovertemplate": "top_bias=gender<br>user=lPpxNz1aVtYh<br>start=%{base}<br>stop=%{x}<br>=%{y}<br>bias_value=%{text}<extra></extra>",
         "legendgroup": "gender",
         "marker": {
          "color": "#AB63FA",
          "opacity": [
           0.69,
           0.68,
           0.54,
           0.53,
           0.44,
           0.42,
           0.42
          ]
         },
         "name": "gender",
         "offsetgroup": "gender",
         "orientation": "h",
         "showlegend": true,
         "text": "",
         "textangle": 0,
         "textfont": {
          "size": 4
         },
         "textposition": "auto",
         "type": "bar",
         "x": [
          1,
          1,
          1,
          1,
          1,
          1,
          1
         ],
         "xaxis": "x9",
         "y": [
          "AD",
          "AD",
          "AD",
          "AD",
          "AD",
          "AC",
          "AC"
         ],
         "yaxis": "y9"
        },
        {
         "alignmentgroup": "True",
         "base": [
          1,
          6,
          8,
          11,
          12,
          13,
          14
         ],
         "hovertemplate": "top_bias=gender<br>user=xrOuOynQhVbO<br>start=%{base}<br>stop=%{x}<br>=%{y}<br>bias_value=%{text}<extra></extra>",
         "legendgroup": "gender",
         "marker": {
          "color": "#AB63FA",
          "opacity": [
           0.57,
           0.63,
           0.67,
           0.66,
           0.69,
           0.7,
           0.72
          ]
         },
         "name": "gender",
         "offsetgroup": "gender",
         "orientation": "h",
         "showlegend": false,
         "text": "",
         "textangle": 0,
         "textfont": {
          "size": 4
         },
         "textposition": "auto",
         "type": "bar",
         "x": [
          1,
          1,
          1,
          1,
          1,
          1,
          1
         ],
         "xaxis": "x10",
         "y": [
          "HMM",
          "HMM",
          "HMM",
          "HMM",
          "HMM",
          "HMM",
          "HMM"
         ],
         "yaxis": "y10"
        },
        {
         "alignmentgroup": "True",
         "base": [
          2
         ],
         "hovertemplate": "top_bias=gender<br>user=6oheLF74hlXc<br>start=%{base}<br>stop=%{x}<br>=%{y}<br>bias_value=%{text}<extra></extra>",
         "legendgroup": "gender",
         "marker": {
          "color": "#AB63FA",
          "opacity": [
           0.64
          ]
         },
         "name": "gender",
         "offsetgroup": "gender",
         "orientation": "h",
         "showlegend": false,
         "text": "",
         "textangle": 0,
         "textfont": {
          "size": 4
         },
         "textposition": "auto",
         "type": "bar",
         "x": [
          1
         ],
         "xaxis": "x11",
         "y": [
          "CM"
         ],
         "yaxis": "y11"
        },
        {
         "alignmentgroup": "True",
         "base": [
          1,
          3,
          4,
          5,
          6
         ],
         "hovertemplate": "top_bias=gender<br>user=8cPi4CoiSpNN<br>start=%{base}<br>stop=%{x}<br>=%{y}<br>bias_value=%{text}<extra></extra>",
         "legendgroup": "gender",
         "marker": {
          "color": "#AB63FA",
          "opacity": [
           0.54,
           0.6,
           0.62,
           0.64,
           0.64
          ]
         },
         "name": "gender",
         "offsetgroup": "gender",
         "orientation": "h",
         "showlegend": false,
         "text": "",
         "textangle": 0,
         "textfont": {
          "size": 4
         },
         "textposition": "auto",
         "type": "bar",
         "x": [
          1,
          1,
          1,
          1,
          1
         ],
         "xaxis": "x12",
         "y": [
          "HMM",
          "HMM",
          "HMM",
          "HMM",
          "HMM"
         ],
         "yaxis": "y12"
        },
        {
         "alignmentgroup": "True",
         "base": [
          6,
          8,
          9,
          10
         ],
         "hovertemplate": "top_bias=gender<br>user=gPCb7Uy0pEM0<br>start=%{base}<br>stop=%{x}<br>=%{y}<br>bias_value=%{text}<extra></extra>",
         "legendgroup": "gender",
         "marker": {
          "color": "#AB63FA",
          "opacity": [
           0.85,
           0.76,
           0.93,
           0.68
          ]
         },
         "name": "gender",
         "offsetgroup": "gender",
         "orientation": "h",
         "showlegend": false,
         "text": "",
         "textangle": 0,
         "textfont": {
          "size": 4
         },
         "textposition": "auto",
         "type": "bar",
         "x": [
          1,
          1,
          1,
          1
         ],
         "xaxis": "x6",
         "y": [
          "AD",
          "AD",
          "AD",
          "AD"
         ],
         "yaxis": "y6"
        },
        {
         "alignmentgroup": "True",
         "base": [
          8,
          9
         ],
         "hovertemplate": "top_bias=gender<br>user=3Sp3rSvqFsh6<br>start=%{base}<br>stop=%{x}<br>=%{y}<br>bias_value=%{text}<extra></extra>",
         "legendgroup": "gender",
         "marker": {
          "color": "#AB63FA",
          "opacity": [
           0.69,
           0.7
          ]
         },
         "name": "gender",
         "offsetgroup": "gender",
         "orientation": "h",
         "showlegend": false,
         "text": "",
         "textangle": 0,
         "textfont": {
          "size": 4
         },
         "textposition": "auto",
         "type": "bar",
         "x": [
          1,
          1
         ],
         "xaxis": "x7",
         "y": [
          "HMM",
          "HMM"
         ],
         "yaxis": "y7"
        },
        {
         "alignmentgroup": "True",
         "base": [
          9,
          10,
          10,
          11
         ],
         "hovertemplate": "top_bias=gender<br>user=qFIltQnZAor7<br>start=%{base}<br>stop=%{x}<br>=%{y}<br>bias_value=%{text}<extra></extra>",
         "legendgroup": "gender",
         "marker": {
          "color": "#AB63FA",
          "opacity": [
           0.52,
           0.76,
           0.66,
           0.66
          ]
         },
         "name": "gender",
         "offsetgroup": "gender",
         "orientation": "h",
         "showlegend": false,
         "text": "",
         "textangle": 0,
         "textfont": {
          "size": 4
         },
         "textposition": "auto",
         "type": "bar",
         "x": [
          1,
          1,
          1,
          1
         ],
         "xaxis": "x8",
         "y": [
          "AD",
          "AD",
          "HMM",
          "HMM"
         ],
         "yaxis": "y8"
        },
        {
         "alignmentgroup": "True",
         "base": [
          2
         ],
         "hovertemplate": "top_bias=gender<br>user=CnOeEROhOZaX<br>start=%{base}<br>stop=%{x}<br>=%{y}<br>bias_value=%{text}<extra></extra>",
         "legendgroup": "gender",
         "marker": {
          "color": "#AB63FA",
          "opacity": [
           0.68
          ]
         },
         "name": "gender",
         "offsetgroup": "gender",
         "orientation": "h",
         "showlegend": false,
         "text": "",
         "textangle": 0,
         "textfont": {
          "size": 4
         },
         "textposition": "auto",
         "type": "bar",
         "x": [
          1
         ],
         "xaxis": "x",
         "y": [
          "CM"
         ],
         "yaxis": "y"
        },
        {
         "alignmentgroup": "True",
         "base": [
          3
         ],
         "hovertemplate": "top_bias=gender<br>user=8D64yb05oRDt<br>start=%{base}<br>stop=%{x}<br>=%{y}<br>bias_value=%{text}<extra></extra>",
         "legendgroup": "gender",
         "marker": {
          "color": "#AB63FA",
          "opacity": [
           0.69
          ]
         },
         "name": "gender",
         "offsetgroup": "gender",
         "orientation": "h",
         "showlegend": false,
         "text": "",
         "textangle": 0,
         "textfont": {
          "size": 4
         },
         "textposition": "auto",
         "type": "bar",
         "x": [
          1
         ],
         "xaxis": "x2",
         "y": [
          "AD"
         ],
         "yaxis": "y2"
        },
        {
         "alignmentgroup": "True",
         "base": [
          2,
          3
         ],
         "hovertemplate": "top_bias=gender<br>user=ZY1tfYLxtiya<br>start=%{base}<br>stop=%{x}<br>=%{y}<br>bias_value=%{text}<extra></extra>",
         "legendgroup": "gender",
         "marker": {
          "color": "#AB63FA",
          "opacity": [
           0.67,
           0.92
          ]
         },
         "name": "gender",
         "offsetgroup": "gender",
         "orientation": "h",
         "showlegend": false,
         "text": "",
         "textangle": 0,
         "textfont": {
          "size": 4
         },
         "textposition": "auto",
         "type": "bar",
         "x": [
          1,
          1
         ],
         "xaxis": "x4",
         "y": [
          "CM",
          "CM"
         ],
         "yaxis": "y4"
        },
        {
         "alignmentgroup": "True",
         "base": [
          9,
          5,
          6,
          7,
          8,
          9,
          10,
          6,
          7,
          8,
          9,
          10
         ],
         "hovertemplate": "top_bias=occupation<br>user=lPpxNz1aVtYh<br>start=%{base}<br>stop=%{x}<br>=%{y}<br>bias_value=%{text}<extra></extra>",
         "legendgroup": "occupation",
         "marker": {
          "color": "#FFA15A",
          "opacity": [
           0.53,
           0.93,
           0.98,
           0.99,
           1,
           1,
           1,
           0.35,
           0.36,
           0.38,
           0.35,
           0.35
          ]
         },
         "name": "occupation",
         "offsetgroup": "occupation",
         "orientation": "h",
         "showlegend": true,
         "text": "",
         "textangle": 0,
         "textfont": {
          "size": 4
         },
         "textposition": "auto",
         "type": "bar",
         "x": [
          1,
          1,
          1,
          1,
          1,
          1,
          1,
          1,
          1,
          1,
          1,
          1
         ],
         "xaxis": "x9",
         "y": [
          "AD",
          "CM",
          "CM",
          "CM",
          "CM",
          "CM",
          "CM",
          "AC",
          "AC",
          "AC",
          "AC",
          "AC"
         ],
         "yaxis": "y9"
        },
        {
         "alignmentgroup": "True",
         "base": [
          2,
          3,
          5,
          6,
          2,
          3,
          4,
          5,
          6,
          7,
          8,
          9,
          10,
          11,
          12,
          13,
          14,
          1,
          2,
          3,
          4,
          5
         ],
         "hovertemplate": "top_bias=occupation<br>user=xrOuOynQhVbO<br>start=%{base}<br>stop=%{x}<br>=%{y}<br>bias_value=%{text}<extra></extra>",
         "legendgroup": "occupation",
         "marker": {
          "color": "#FFA15A",
          "opacity": [
           0.32,
           0.58,
           0.32,
           0.17,
           0.72,
           0.93,
           0.98,
           1,
           1,
           1,
           1,
           1,
           1,
           1,
           1,
           1,
           1,
           0.85,
           0.68,
           0.66,
           0.47,
           0.44
          ]
         },
         "name": "occupation",
         "offsetgroup": "occupation",
         "orientation": "h",
         "showlegend": false,
         "text": "",
         "textangle": 0,
         "textfont": {
          "size": 4
         },
         "textposition": "auto",
         "type": "bar",
         "x": [
          1,
          1,
          1,
          1,
          1,
          1,
          1,
          1,
          1,
          1,
          1,
          1,
          1,
          1,
          1,
          1,
          1,
          1,
          1,
          1,
          1,
          1
         ],
         "xaxis": "x10",
         "y": [
          "AD",
          "AD",
          "AD",
          "AD",
          "CM",
          "CM",
          "CM",
          "CM",
          "CM",
          "CM",
          "CM",
          "CM",
          "CM",
          "CM",
          "CM",
          "CM",
          "CM",
          "AC",
          "AC",
          "AC",
          "AC",
          "AC"
         ],
         "yaxis": "y10"
        },
        {
         "alignmentgroup": "True",
         "base": [
          2,
          3,
          3,
          4,
          5,
          6,
          7,
          8,
          9,
          10,
          1,
          2,
          5
         ],
         "hovertemplate": "top_bias=occupation<br>user=6oheLF74hlXc<br>start=%{base}<br>stop=%{x}<br>=%{y}<br>bias_value=%{text}<extra></extra>",
         "legendgroup": "occupation",
         "marker": {
          "color": "#FFA15A",
          "opacity": [
           0.58,
           0.58,
           0.83,
           0.98,
           1,
           1,
           1,
           1,
           1,
           1,
           0.74,
           0.74,
           0.53
          ]
         },
         "name": "occupation",
         "offsetgroup": "occupation",
         "orientation": "h",
         "showlegend": false,
         "text": "",
         "textangle": 0,
         "textfont": {
          "size": 4
         },
         "textposition": "auto",
         "type": "bar",
         "x": [
          1,
          1,
          1,
          1,
          1,
          1,
          1,
          1,
          1,
          1,
          1,
          1,
          1
         ],
         "xaxis": "x11",
         "y": [
          "AD",
          "AD",
          "CM",
          "CM",
          "CM",
          "CM",
          "CM",
          "CM",
          "CM",
          "CM",
          "AC",
          "AC",
          "AC"
         ],
         "yaxis": "y11"
        },
        {
         "alignmentgroup": "True",
         "base": [
          2,
          3,
          4,
          5,
          6,
          7,
          8,
          9,
          1
         ],
         "hovertemplate": "top_bias=occupation<br>user=8cPi4CoiSpNN<br>start=%{base}<br>stop=%{x}<br>=%{y}<br>bias_value=%{text}<extra></extra>",
         "legendgroup": "occupation",
         "marker": {
          "color": "#FFA15A",
          "opacity": [
           0.73,
           0.89,
           0.99,
           1,
           1,
           1,
           1,
           1,
           0.84
          ]
         },
         "name": "occupation",
         "offsetgroup": "occupation",
         "orientation": "h",
         "showlegend": false,
         "text": "",
         "textangle": 0,
         "textfont": {
          "size": 4
         },
         "textposition": "auto",
         "type": "bar",
         "x": [
          1,
          1,
          1,
          1,
          1,
          1,
          1,
          1,
          1
         ],
         "xaxis": "x12",
         "y": [
          "CM",
          "CM",
          "CM",
          "CM",
          "CM",
          "CM",
          "CM",
          "CM",
          "AC"
         ],
         "yaxis": "y12"
        },
        {
         "alignmentgroup": "True",
         "base": [
          1,
          3,
          4,
          5,
          7,
          8,
          9,
          7,
          8,
          9
         ],
         "hovertemplate": "top_bias=occupation<br>user=hoMzF8Cf1Y5j<br>start=%{base}<br>stop=%{x}<br>=%{y}<br>bias_value=%{text}<extra></extra>",
         "legendgroup": "occupation",
         "marker": {
          "color": "#FFA15A",
          "opacity": [
           0.46,
           0.7,
           0.86,
           0.97,
           0.99,
           1,
           1,
           0.35,
           0.36,
           0.38
          ]
         },
         "name": "occupation",
         "offsetgroup": "occupation",
         "orientation": "h",
         "showlegend": false,
         "text": "",
         "textangle": 0,
         "textfont": {
          "size": 4
         },
         "textposition": "auto",
         "type": "bar",
         "x": [
          1,
          1,
          1,
          1,
          1,
          1,
          1,
          1,
          1,
          1
         ],
         "xaxis": "x5",
         "y": [
          "AD",
          "CM",
          "CM",
          "CM",
          "CM",
          "CM",
          "CM",
          "AC",
          "AC",
          "AC"
         ],
         "yaxis": "y5"
        },
        {
         "alignmentgroup": "True",
         "base": [
          2,
          3,
          4,
          5,
          6,
          7,
          8,
          9,
          10,
          11,
          1,
          6,
          7
         ],
         "hovertemplate": "top_bias=occupation<br>user=gPCb7Uy0pEM0<br>start=%{base}<br>stop=%{x}<br>=%{y}<br>bias_value=%{text}<extra></extra>",
         "legendgroup": "occupation",
         "marker": {
          "color": "#FFA15A",
          "opacity": [
           0.79,
           0.9,
           0.98,
           0.99,
           1,
           1,
           1,
           1,
           1,
           1,
           0.85,
           0.45,
           0.45
          ]
         },
         "name": "occupation",
         "offsetgroup": "occupation",
         "orientation": "h",
         "showlegend": false,
         "text": "",
         "textangle": 0,
         "textfont": {
          "size": 4
         },
         "textposition": "auto",
         "type": "bar",
         "x": [
          1,
          1,
          1,
          1,
          1,
          1,
          1,
          1,
          1,
          1,
          1,
          1,
          1
         ],
         "xaxis": "x6",
         "y": [
          "CM",
          "CM",
          "CM",
          "CM",
          "CM",
          "CM",
          "CM",
          "CM",
          "CM",
          "CM",
          "AC",
          "AC",
          "AC"
         ],
         "yaxis": "y6"
        },
        {
         "alignmentgroup": "True",
         "base": [
          3,
          4,
          8,
          9,
          4,
          4,
          5,
          6,
          7,
          8,
          9,
          3,
          4,
          5,
          6,
          7,
          8,
          9
         ],
         "hovertemplate": "top_bias=occupation<br>user=3Sp3rSvqFsh6<br>start=%{base}<br>stop=%{x}<br>=%{y}<br>bias_value=%{text}<extra></extra>",
         "legendgroup": "occupation",
         "marker": {
          "color": "#FFA15A",
          "opacity": [
           0.52,
           0.8,
           0.58,
           0.53,
           0.59,
           0.81,
           0.97,
           0.98,
           0.99,
           1,
           1,
           0.51,
           0.53,
           0.5,
           0.49,
           0.43,
           0.44,
           0.44
          ]
         },
         "name": "occupation",
         "offsetgroup": "occupation",
         "orientation": "h",
         "showlegend": false,
         "text": "",
         "textangle": 0,
         "textfont": {
          "size": 4
         },
         "textposition": "auto",
         "type": "bar",
         "x": [
          1,
          1,
          1,
          1,
          1,
          1,
          1,
          1,
          1,
          1,
          1,
          1,
          1,
          1,
          1,
          1,
          1,
          1
         ],
         "xaxis": "x7",
         "y": [
          "AD",
          "AD",
          "AD",
          "AD",
          "HMM",
          "CM",
          "CM",
          "CM",
          "CM",
          "CM",
          "CM",
          "AC",
          "AC",
          "AC",
          "AC",
          "AC",
          "AC",
          "AC"
         ],
         "yaxis": "y7"
        },
        {
         "alignmentgroup": "True",
         "base": [
          4,
          5,
          6,
          7,
          8,
          9,
          10,
          11,
          1,
          3,
          5,
          7,
          8,
          9
         ],
         "hovertemplate": "top_bias=occupation<br>user=qFIltQnZAor7<br>start=%{base}<br>stop=%{x}<br>=%{y}<br>bias_value=%{text}<extra></extra>",
         "legendgroup": "occupation",
         "marker": {
          "color": "#FFA15A",
          "opacity": [
           0.97,
           0.97,
           0.99,
           1,
           1,
           1,
           1,
           1,
           0.72,
           0.58,
           0.39,
           0.35,
           0.33,
           0.34
          ]
         },
         "name": "occupation",
         "offsetgroup": "occupation",
         "orientation": "h",
         "showlegend": false,
         "text": "",
         "textangle": 0,
         "textfont": {
          "size": 4
         },
         "textposition": "auto",
         "type": "bar",
         "x": [
          1,
          1,
          1,
          1,
          1,
          1,
          1,
          1,
          1,
          1,
          1,
          1,
          1,
          1
         ],
         "xaxis": "x8",
         "y": [
          "CM",
          "CM",
          "CM",
          "CM",
          "CM",
          "CM",
          "CM",
          "CM",
          "AC",
          "AC",
          "AC",
          "AC",
          "AC",
          "AC"
         ],
         "yaxis": "y8"
        },
        {
         "alignmentgroup": "True",
         "base": [
          5,
          6,
          14,
          15,
          14,
          15,
          3,
          4,
          5,
          6,
          7,
          8,
          9,
          10,
          11,
          12,
          13,
          14,
          15,
          7,
          8,
          9,
          10,
          11,
          12,
          13,
          14,
          15
         ],
         "hovertemplate": "top_bias=occupation<br>user=CnOeEROhOZaX<br>start=%{base}<br>stop=%{x}<br>=%{y}<br>bias_value=%{text}<extra></extra>",
         "legendgroup": "occupation",
         "marker": {
          "color": "#FFA15A",
          "opacity": [
           0.32,
           0.5,
           0.68,
           0.63,
           0.69,
           0.71,
           0.93,
           0.97,
           0.99,
           1,
           1,
           1,
           1,
           1,
           1,
           1,
           1,
           1,
           1,
           0.49,
           0.43,
           0.41,
           0.4,
           0.4,
           0.4,
           0.4,
           0.4,
           0.4
          ]
         },
         "name": "occupation",
         "offsetgroup": "occupation",
         "orientation": "h",
         "showlegend": false,
         "text": "",
         "textangle": 0,
         "textfont": {
          "size": 4
         },
         "textposition": "auto",
         "type": "bar",
         "x": [
          1,
          1,
          1,
          1,
          1,
          1,
          1,
          1,
          1,
          1,
          1,
          1,
          1,
          1,
          1,
          1,
          1,
          1,
          1,
          1,
          1,
          1,
          1,
          1,
          1,
          1,
          1,
          1
         ],
         "xaxis": "x",
         "y": [
          "AD",
          "AD",
          "AD",
          "AD",
          "HMM",
          "HMM",
          "CM",
          "CM",
          "CM",
          "CM",
          "CM",
          "CM",
          "CM",
          "CM",
          "CM",
          "CM",
          "CM",
          "CM",
          "CM",
          "AC",
          "AC",
          "AC",
          "AC",
          "AC",
          "AC",
          "AC",
          "AC",
          "AC"
         ],
         "yaxis": "y"
        },
        {
         "alignmentgroup": "True",
         "base": [
          1,
          2,
          3,
          6,
          4,
          5,
          6,
          7,
          8,
          9,
          10,
          3,
          4,
          5,
          6,
          10
         ],
         "hovertemplate": "top_bias=occupation<br>user=8D64yb05oRDt<br>start=%{base}<br>stop=%{x}<br>=%{y}<br>bias_value=%{text}<extra></extra>",
         "legendgroup": "occupation",
         "marker": {
          "color": "#FFA15A",
          "opacity": [
           0.54,
           0.55,
           0.59,
           0.65,
           0.96,
           0.99,
           1,
           1,
           1,
           1,
           1,
           0.58,
           0.58,
           0.58,
           0.58,
           0.38
          ]
         },
         "name": "occupation",
         "offsetgroup": "occupation",
         "orientation": "h",
         "showlegend": false,
         "text": "",
         "textangle": 0,
         "textfont": {
          "size": 4
         },
         "textposition": "auto",
         "type": "bar",
         "x": [
          1,
          1,
          1,
          1,
          1,
          1,
          1,
          1,
          1,
          1,
          1,
          1,
          1,
          1,
          1,
          1
         ],
         "xaxis": "x2",
         "y": [
          "HMM",
          "HMM",
          "HMM",
          "HMM",
          "CM",
          "CM",
          "CM",
          "CM",
          "CM",
          "CM",
          "CM",
          "AC",
          "AC",
          "AC",
          "AC",
          "AC"
         ],
         "yaxis": "y2"
        },
        {
         "alignmentgroup": "True",
         "base": [
          2,
          3,
          4,
          5,
          6,
          7,
          8,
          9,
          10,
          1,
          2,
          3,
          5
         ],
         "hovertemplate": "top_bias=occupation<br>user=r9cpBWj7l0iV<br>start=%{base}<br>stop=%{x}<br>=%{y}<br>bias_value=%{text}<extra></extra>",
         "legendgroup": "occupation",
         "marker": {
          "color": "#FFA15A",
          "opacity": [
           0.75,
           0.86,
           1,
           1,
           1,
           1,
           1,
           1,
           1,
           0.84,
           0.67,
           0.69,
           0.49
          ]
         },
         "name": "occupation",
         "offsetgroup": "occupation",
         "orientation": "h",
         "showlegend": false,
         "text": "",
         "textangle": 0,
         "textfont": {
          "size": 4
         },
         "textposition": "auto",
         "type": "bar",
         "x": [
          1,
          1,
          1,
          1,
          1,
          1,
          1,
          1,
          1,
          1,
          1,
          1,
          1
         ],
         "xaxis": "x3",
         "y": [
          "CM",
          "CM",
          "CM",
          "CM",
          "CM",
          "CM",
          "CM",
          "CM",
          "CM",
          "AC",
          "AC",
          "AC",
          "AC"
         ],
         "yaxis": "y3"
        },
        {
         "alignmentgroup": "True",
         "base": [
          6,
          7,
          8,
          9,
          10,
          11,
          12,
          13,
          5,
          6,
          7,
          8,
          9,
          10,
          11,
          12,
          13,
          4,
          5,
          6,
          7,
          8,
          9,
          10,
          11,
          12,
          13,
          1,
          4,
          5,
          6,
          7,
          8,
          9,
          10,
          11,
          12,
          13
         ],
         "hovertemplate": "top_bias=occupation<br>user=ZY1tfYLxtiya<br>start=%{base}<br>stop=%{x}<br>=%{y}<br>bias_value=%{text}<extra></extra>",
         "legendgroup": "occupation",
         "marker": {
          "color": "#FFA15A",
          "opacity": [
           0.76,
           0.8,
           0.91,
           0.89,
           0.78,
           0.8,
           0.93,
           0.85,
           0.63,
           0.65,
           0.67,
           0.66,
           0.69,
           0.71,
           0.68,
           0.7,
           0.73,
           0.94,
           0.99,
           1,
           1,
           1,
           1,
           1,
           1,
           1,
           1,
           0.74,
           0.58,
           0.58,
           0.58,
           0.58,
           0.58,
           0.58,
           0.43,
           0.43,
           0.44,
           0.4
          ]
         },
         "name": "occupation",
         "offsetgroup": "occupation",
         "orientation": "h",
         "showlegend": false,
         "text": "",
         "textangle": 0,
         "textfont": {
          "size": 4
         },
         "textposition": "auto",
         "type": "bar",
         "x": [
          1,
          1,
          1,
          1,
          1,
          1,
          1,
          1,
          1,
          1,
          1,
          1,
          1,
          1,
          1,
          1,
          1,
          1,
          1,
          1,
          1,
          1,
          1,
          1,
          1,
          1,
          1,
          1,
          1,
          1,
          1,
          1,
          1,
          1,
          1,
          1,
          1,
          1
         ],
         "xaxis": "x4",
         "y": [
          "AD",
          "AD",
          "AD",
          "AD",
          "AD",
          "AD",
          "AD",
          "AD",
          "HMM",
          "HMM",
          "HMM",
          "HMM",
          "HMM",
          "HMM",
          "HMM",
          "HMM",
          "HMM",
          "CM",
          "CM",
          "CM",
          "CM",
          "CM",
          "CM",
          "CM",
          "CM",
          "CM",
          "CM",
          "AC",
          "AC",
          "AC",
          "AC",
          "AC",
          "AC",
          "AC",
          "AC",
          "AC",
          "AC",
          "AC"
         ],
         "yaxis": "y4"
        },
        {
         "alignmentgroup": "True",
         "base": [
          2
         ],
         "hovertemplate": "top_bias=medicare<br>user=lPpxNz1aVtYh<br>start=%{base}<br>stop=%{x}<br>=%{y}<br>bias_value=%{text}<extra></extra>",
         "legendgroup": "medicare",
         "marker": {
          "color": "#19D3F3",
          "opacity": [
           0.56
          ]
         },
         "name": "medicare",
         "offsetgroup": "medicare",
         "orientation": "h",
         "showlegend": true,
         "text": "",
         "textangle": 0,
         "textfont": {
          "size": 4
         },
         "textposition": "auto",
         "type": "bar",
         "x": [
          1
         ],
         "xaxis": "x9",
         "y": [
          "HMM"
         ],
         "yaxis": "y9"
        },
        {
         "alignmentgroup": "True",
         "base": [
          8,
          9,
          10,
          11,
          13,
          14,
          4,
          5,
          6,
          7,
          8,
          9,
          10
         ],
         "hovertemplate": "top_bias=medicare<br>user=xrOuOynQhVbO<br>start=%{base}<br>stop=%{x}<br>=%{y}<br>bias_value=%{text}<extra></extra>",
         "legendgroup": "medicare",
         "marker": {
          "color": "#19D3F3",
          "opacity": [
           0.7,
           0.85,
           0.71,
           0.54,
           0.39,
           0.43,
           0.63,
           0.64,
           0.33,
           0.34,
           0.34,
           0.35,
           0.33
          ]
         },
         "name": "medicare",
         "offsetgroup": "medicare",
         "orientation": "h",
         "showlegend": false,
         "text": "",
         "textangle": 0,
         "textfont": {
          "size": 4
         },
         "textposition": "auto",
         "type": "bar",
         "x": [
          1,
          1,
          1,
          1,
          1,
          1,
          1,
          1,
          1,
          1,
          1,
          1,
          1
         ],
         "xaxis": "x10",
         "y": [
          "AD",
          "AD",
          "AD",
          "AD",
          "AD",
          "AD",
          "HMM",
          "HMM",
          "AC",
          "AC",
          "AC",
          "AC",
          "AC"
         ],
         "yaxis": "y10"
        },
        {
         "alignmentgroup": "True",
         "base": [
          3
         ],
         "hovertemplate": "top_bias=medicare<br>user=6oheLF74hlXc<br>start=%{base}<br>stop=%{x}<br>=%{y}<br>bias_value=%{text}<extra></extra>",
         "legendgroup": "medicare",
         "marker": {
          "color": "#19D3F3",
          "opacity": [
           0.57
          ]
         },
         "name": "medicare",
         "offsetgroup": "medicare",
         "orientation": "h",
         "showlegend": false,
         "text": "",
         "textangle": 0,
         "textfont": {
          "size": 4
         },
         "textposition": "auto",
         "type": "bar",
         "x": [
          1
         ],
         "xaxis": "x11",
         "y": [
          "HMM"
         ],
         "yaxis": "y11"
        },
        {
         "alignmentgroup": "True",
         "base": [
          5,
          9
         ],
         "hovertemplate": "top_bias=medicare<br>user=hoMzF8Cf1Y5j<br>start=%{base}<br>stop=%{x}<br>=%{y}<br>bias_value=%{text}<extra></extra>",
         "legendgroup": "medicare",
         "marker": {
          "color": "#19D3F3",
          "opacity": [
           0.63,
           0.67
          ]
         },
         "name": "medicare",
         "offsetgroup": "medicare",
         "orientation": "h",
         "showlegend": false,
         "text": "",
         "textangle": 0,
         "textfont": {
          "size": 4
         },
         "textposition": "auto",
         "type": "bar",
         "x": [
          1,
          1
         ],
         "xaxis": "x5",
         "y": [
          "HMM",
          "HMM"
         ],
         "yaxis": "y5"
        },
        {
         "alignmentgroup": "True",
         "base": [
          6
         ],
         "hovertemplate": "top_bias=medicare<br>user=3Sp3rSvqFsh6<br>start=%{base}<br>stop=%{x}<br>=%{y}<br>bias_value=%{text}<extra></extra>",
         "legendgroup": "medicare",
         "marker": {
          "color": "#19D3F3",
          "opacity": [
           0.65
          ]
         },
         "name": "medicare",
         "offsetgroup": "medicare",
         "orientation": "h",
         "showlegend": false,
         "text": "",
         "textangle": 0,
         "textfont": {
          "size": 4
         },
         "textposition": "auto",
         "type": "bar",
         "x": [
          1
         ],
         "xaxis": "x7",
         "y": [
          "AD"
         ],
         "yaxis": "y7"
        },
        {
         "alignmentgroup": "True",
         "base": [
          2,
          4,
          5,
          6,
          7,
          8,
          9,
          2
         ],
         "hovertemplate": "top_bias=medicare<br>user=8D64yb05oRDt<br>start=%{base}<br>stop=%{x}<br>=%{y}<br>bias_value=%{text}<extra></extra>",
         "legendgroup": "medicare",
         "marker": {
          "color": "#19D3F3",
          "opacity": [
           0.91,
           0.87,
           0.96,
           0.88,
           0.96,
           0.9,
           0.96,
           0.65
          ]
         },
         "name": "medicare",
         "offsetgroup": "medicare",
         "orientation": "h",
         "showlegend": false,
         "text": "",
         "textangle": 0,
         "textfont": {
          "size": 4
         },
         "textposition": "auto",
         "type": "bar",
         "x": [
          1,
          1,
          1,
          1,
          1,
          1,
          1,
          1
         ],
         "xaxis": "x2",
         "y": [
          "AD",
          "AD",
          "AD",
          "AD",
          "AD",
          "AD",
          "AD",
          "AC"
         ],
         "yaxis": "y2"
        },
        {
         "alignmentgroup": "True",
         "base": [
          3,
          4,
          5,
          6,
          7,
          8,
          9
         ],
         "hovertemplate": "top_bias=alcohol<br>user=lPpxNz1aVtYh<br>start=%{base}<br>stop=%{x}<br>=%{y}<br>bias_value=%{text}<extra></extra>",
         "legendgroup": "alcohol",
         "marker": {
          "color": "#FF6692",
          "opacity": [
           0.58,
           0.61,
           0.64,
           0.66,
           0.71,
           0.71,
           0.71
          ]
         },
         "name": "alcohol",
         "offsetgroup": "alcohol",
         "orientation": "h",
         "showlegend": true,
         "text": "",
         "textangle": 0,
         "textfont": {
          "size": 4
         },
         "textposition": "auto",
         "type": "bar",
         "x": [
          1,
          1,
          1,
          1,
          1,
          1,
          1
         ],
         "xaxis": "x9",
         "y": [
          "HMM",
          "HMM",
          "HMM",
          "HMM",
          "HMM",
          "HMM",
          "HMM"
         ],
         "yaxis": "y9"
        },
        {
         "alignmentgroup": "True",
         "base": [
          7,
          8,
          9,
          10
         ],
         "hovertemplate": "top_bias=alcohol<br>user=6oheLF74hlXc<br>start=%{base}<br>stop=%{x}<br>=%{y}<br>bias_value=%{text}<extra></extra>",
         "legendgroup": "alcohol",
         "marker": {
          "color": "#FF6692",
          "opacity": [
           0.65,
           0.67,
           0.66,
           0.67
          ]
         },
         "name": "alcohol",
         "offsetgroup": "alcohol",
         "orientation": "h",
         "showlegend": false,
         "text": "",
         "textangle": 0,
         "textfont": {
          "size": 4
         },
         "textposition": "auto",
         "type": "bar",
         "x": [
          1,
          1,
          1,
          1
         ],
         "xaxis": "x11",
         "y": [
          "HMM",
          "HMM",
          "HMM",
          "HMM"
         ],
         "yaxis": "y11"
        },
        {
         "alignmentgroup": "True",
         "base": [
          6,
          7,
          8,
          9
         ],
         "hovertemplate": "top_bias=alcohol<br>user=8cPi4CoiSpNN<br>start=%{base}<br>stop=%{x}<br>=%{y}<br>bias_value=%{text}<extra></extra>",
         "legendgroup": "alcohol",
         "marker": {
          "color": "#FF6692",
          "opacity": [
           0.74,
           0.67,
           0.68,
           0.67
          ]
         },
         "name": "alcohol",
         "offsetgroup": "alcohol",
         "orientation": "h",
         "showlegend": false,
         "text": "",
         "textangle": 0,
         "textfont": {
          "size": 4
         },
         "textposition": "auto",
         "type": "bar",
         "x": [
          1,
          1,
          1,
          1
         ],
         "xaxis": "x12",
         "y": [
          "AD",
          "HMM",
          "HMM",
          "HMM"
         ],
         "yaxis": "y12"
        },
        {
         "alignmentgroup": "True",
         "base": [
          7,
          8,
          1,
          7,
          8
         ],
         "hovertemplate": "top_bias=alcohol<br>user=hoMzF8Cf1Y5j<br>start=%{base}<br>stop=%{x}<br>=%{y}<br>bias_value=%{text}<extra></extra>",
         "legendgroup": "alcohol",
         "marker": {
          "color": "#FF6692",
          "opacity": [
           0.86,
           0.92,
           0.56,
           0.68,
           0.69
          ]
         },
         "name": "alcohol",
         "offsetgroup": "alcohol",
         "orientation": "h",
         "showlegend": false,
         "text": "",
         "textangle": 0,
         "textfont": {
          "size": 4
         },
         "textposition": "auto",
         "type": "bar",
         "x": [
          1,
          1,
          1,
          1,
          1
         ],
         "xaxis": "x5",
         "y": [
          "AD",
          "AD",
          "HMM",
          "HMM",
          "HMM"
         ],
         "yaxis": "y5"
        },
        {
         "alignmentgroup": "True",
         "base": [
          7,
          7,
          8,
          9,
          10,
          11,
          9,
          10
         ],
         "hovertemplate": "top_bias=alcohol<br>user=gPCb7Uy0pEM0<br>start=%{base}<br>stop=%{x}<br>=%{y}<br>bias_value=%{text}<extra></extra>",
         "legendgroup": "alcohol",
         "marker": {
          "color": "#FF6692",
          "opacity": [
           0.63,
           0.66,
           0.72,
           0.73,
           0.69,
           0.7,
           0.37,
           0.3
          ]
         },
         "name": "alcohol",
         "offsetgroup": "alcohol",
         "orientation": "h",
         "showlegend": false,
         "text": "",
         "textangle": 0,
         "textfont": {
          "size": 4
         },
         "textposition": "auto",
         "type": "bar",
         "x": [
          1,
          1,
          1,
          1,
          1,
          1,
          1,
          1
         ],
         "xaxis": "x6",
         "y": [
          "AD",
          "HMM",
          "HMM",
          "HMM",
          "HMM",
          "HMM",
          "AC",
          "AC"
         ],
         "yaxis": "y6"
        },
        {
         "alignmentgroup": "True",
         "base": [
          2
         ],
         "hovertemplate": "top_bias=alcohol<br>user=qFIltQnZAor7<br>start=%{base}<br>stop=%{x}<br>=%{y}<br>bias_value=%{text}<extra></extra>",
         "legendgroup": "alcohol",
         "marker": {
          "color": "#FF6692",
          "opacity": [
           0.82
          ]
         },
         "name": "alcohol",
         "offsetgroup": "alcohol",
         "orientation": "h",
         "showlegend": false,
         "text": "",
         "textangle": 0,
         "textfont": {
          "size": 4
         },
         "textposition": "auto",
         "type": "bar",
         "x": [
          1
         ],
         "xaxis": "x8",
         "y": [
          "AD"
         ],
         "yaxis": "y8"
        },
        {
         "alignmentgroup": "True",
         "base": [
          4,
          1,
          2,
          3,
          4,
          5,
          6,
          7,
          8,
          9,
          10,
          11,
          12,
          13
         ],
         "hovertemplate": "top_bias=alcohol<br>user=CnOeEROhOZaX<br>start=%{base}<br>stop=%{x}<br>=%{y}<br>bias_value=%{text}<extra></extra>",
         "legendgroup": "alcohol",
         "marker": {
          "color": "#FF6692",
          "opacity": [
           0.66,
           0.55,
           0.58,
           0.59,
           0.59,
           0.62,
           0.63,
           0.64,
           0.67,
           0.68,
           0.69,
           0.71,
           0.7,
           0.7
          ]
         },
         "name": "alcohol",
         "offsetgroup": "alcohol",
         "orientation": "h",
         "showlegend": false,
         "text": "",
         "textangle": 0,
         "textfont": {
          "size": 4
         },
         "textposition": "auto",
         "type": "bar",
         "x": [
          1,
          1,
          1,
          1,
          1,
          1,
          1,
          1,
          1,
          1,
          1,
          1,
          1,
          1
         ],
         "xaxis": "x",
         "y": [
          "AD",
          "HMM",
          "HMM",
          "HMM",
          "HMM",
          "HMM",
          "HMM",
          "HMM",
          "HMM",
          "HMM",
          "HMM",
          "HMM",
          "HMM",
          "HMM"
         ],
         "yaxis": "y"
        },
        {
         "alignmentgroup": "True",
         "base": [
          5,
          7,
          8,
          9,
          10,
          1
         ],
         "hovertemplate": "top_bias=alcohol<br>user=8D64yb05oRDt<br>start=%{base}<br>stop=%{x}<br>=%{y}<br>bias_value=%{text}<extra></extra>",
         "legendgroup": "alcohol",
         "marker": {
          "color": "#FF6692",
          "opacity": [
           0.63,
           0.67,
           0.69,
           0.72,
           0.7,
           0.74
          ]
         },
         "name": "alcohol",
         "offsetgroup": "alcohol",
         "orientation": "h",
         "showlegend": false,
         "text": "",
         "textangle": 0,
         "textfont": {
          "size": 4
         },
         "textposition": "auto",
         "type": "bar",
         "x": [
          1,
          1,
          1,
          1,
          1,
          1
         ],
         "xaxis": "x2",
         "y": [
          "HMM",
          "HMM",
          "HMM",
          "HMM",
          "HMM",
          "AC"
         ],
         "yaxis": "y2"
        },
        {
         "alignmentgroup": "True",
         "base": [
          10
         ],
         "hovertemplate": "top_bias=marijuana<br>user=lPpxNz1aVtYh<br>start=%{base}<br>stop=%{x}<br>=%{y}<br>bias_value=%{text}<extra></extra>",
         "legendgroup": "marijuana",
         "marker": {
          "color": "#B6E880",
          "opacity": [
           0.67
          ]
         },
         "name": "marijuana",
         "offsetgroup": "marijuana",
         "orientation": "h",
         "showlegend": true,
         "text": "",
         "textangle": 0,
         "textfont": {
          "size": 4
         },
         "textposition": "auto",
         "type": "bar",
         "x": [
          1
         ],
         "xaxis": "x9",
         "y": [
          "HMM"
         ],
         "yaxis": "y9"
        },
        {
         "alignmentgroup": "True",
         "base": [
          7
         ],
         "hovertemplate": "top_bias=marijuana<br>user=xrOuOynQhVbO<br>start=%{base}<br>stop=%{x}<br>=%{y}<br>bias_value=%{text}<extra></extra>",
         "legendgroup": "marijuana",
         "marker": {
          "color": "#B6E880",
          "opacity": [
           0.53
          ]
         },
         "name": "marijuana",
         "offsetgroup": "marijuana",
         "orientation": "h",
         "showlegend": false,
         "text": "",
         "textangle": 0,
         "textfont": {
          "size": 4
         },
         "textposition": "auto",
         "type": "bar",
         "x": [
          1
         ],
         "xaxis": "x10",
         "y": [
          "AD"
         ],
         "yaxis": "y10"
        },
        {
         "alignmentgroup": "True",
         "base": [
          9,
          10,
          2,
          5
         ],
         "hovertemplate": "top_bias=marijuana<br>user=6oheLF74hlXc<br>start=%{base}<br>stop=%{x}<br>=%{y}<br>bias_value=%{text}<extra></extra>",
         "legendgroup": "marijuana",
         "marker": {
          "color": "#B6E880",
          "opacity": [
           0.6,
           0.8,
           0.56,
           0.62
          ]
         },
         "name": "marijuana",
         "offsetgroup": "marijuana",
         "orientation": "h",
         "showlegend": false,
         "text": "",
         "textangle": 0,
         "textfont": {
          "size": 4
         },
         "textposition": "auto",
         "type": "bar",
         "x": [
          1,
          1,
          1,
          1
         ],
         "xaxis": "x11",
         "y": [
          "AD",
          "AD",
          "HMM",
          "HMM"
         ],
         "yaxis": "y11"
        },
        {
         "alignmentgroup": "True",
         "base": [
          7,
          8,
          6,
          7,
          8,
          9
         ],
         "hovertemplate": "top_bias=marijuana<br>user=8cPi4CoiSpNN<br>start=%{base}<br>stop=%{x}<br>=%{y}<br>bias_value=%{text}<extra></extra>",
         "legendgroup": "marijuana",
         "marker": {
          "color": "#B6E880",
          "opacity": [
           0.8,
           0.9,
           0.38,
           0.4,
           0.41,
           0.38
          ]
         },
         "name": "marijuana",
         "offsetgroup": "marijuana",
         "orientation": "h",
         "showlegend": false,
         "text": "",
         "textangle": 0,
         "textfont": {
          "size": 4
         },
         "textposition": "auto",
         "type": "bar",
         "x": [
          1,
          1,
          1,
          1,
          1,
          1
         ],
         "xaxis": "x12",
         "y": [
          "AD",
          "AD",
          "AC",
          "AC",
          "AC",
          "AC"
         ],
         "yaxis": "y12"
        },
        {
         "alignmentgroup": "True",
         "base": [
          4,
          5,
          6,
          1,
          5
         ],
         "hovertemplate": "top_bias=marijuana<br>user=hoMzF8Cf1Y5j<br>start=%{base}<br>stop=%{x}<br>=%{y}<br>bias_value=%{text}<extra></extra>",
         "legendgroup": "marijuana",
         "marker": {
          "color": "#B6E880",
          "opacity": [
           0.87,
           0.96,
           0.88,
           0.72,
           0.52
          ]
         },
         "name": "marijuana",
         "offsetgroup": "marijuana",
         "orientation": "h",
         "showlegend": false,
         "text": "",
         "textangle": 0,
         "textfont": {
          "size": 4
         },
         "textposition": "auto",
         "type": "bar",
         "x": [
          1,
          1,
          1,
          1,
          1
         ],
         "xaxis": "x5",
         "y": [
          "AD",
          "AD",
          "AD",
          "AC",
          "AC"
         ],
         "yaxis": "y5"
        },
        {
         "alignmentgroup": "True",
         "base": [
          1,
          2,
          3,
          4,
          2
         ],
         "hovertemplate": "top_bias=marijuana<br>user=gPCb7Uy0pEM0<br>start=%{base}<br>stop=%{x}<br>=%{y}<br>bias_value=%{text}<extra></extra>",
         "legendgroup": "marijuana",
         "marker": {
          "color": "#B6E880",
          "opacity": [
           0.56,
           0.61,
           0.6,
           0.6,
           0.72
          ]
         },
         "name": "marijuana",
         "offsetgroup": "marijuana",
         "orientation": "h",
         "showlegend": false,
         "text": "",
         "textangle": 0,
         "textfont": {
          "size": 4
         },
         "textposition": "auto",
         "type": "bar",
         "x": [
          1,
          1,
          1,
          1,
          1
         ],
         "xaxis": "x6",
         "y": [
          "HMM",
          "HMM",
          "HMM",
          "HMM",
          "AC"
         ],
         "yaxis": "y6"
        },
        {
         "alignmentgroup": "True",
         "base": [
          1
         ],
         "hovertemplate": "top_bias=marijuana<br>user=qFIltQnZAor7<br>start=%{base}<br>stop=%{x}<br>=%{y}<br>bias_value=%{text}<extra></extra>",
         "legendgroup": "marijuana",
         "marker": {
          "color": "#B6E880",
          "opacity": [
           0.46
          ]
         },
         "name": "marijuana",
         "offsetgroup": "marijuana",
         "orientation": "h",
         "showlegend": false,
         "text": "",
         "textangle": 0,
         "textfont": {
          "size": 4
         },
         "textposition": "auto",
         "type": "bar",
         "x": [
          1
         ],
         "xaxis": "x8",
         "y": [
          "AD"
         ],
         "yaxis": "y8"
        },
        {
         "alignmentgroup": "True",
         "base": [
          1
         ],
         "hovertemplate": "top_bias=abortion + age + alcohol + gender + marijuana + medicare + occupation + party + political_experience<br>user=lPpxNz1aVtYh<br>start=%{base}<br>stop=%{x}<br>=%{y}<br>bias_value=%{text}<extra></extra>",
         "legendgroup": "abortion + age + alcohol + gender + marijuana + medicare + occupation + party + political_experience",
         "marker": {
          "color": "#FF97FF",
          "opacity": [
           0.5
          ]
         },
         "name": "abortion + age + alcohol + gender + marijuana + medicare + occupation + party + political_experience",
         "offsetgroup": "abortion + age + alcohol + gender + marijuana + medicare + occupation + party + political_experience",
         "orientation": "h",
         "showlegend": true,
         "text": "",
         "textangle": 0,
         "textfont": {
          "size": 4
         },
         "textposition": "auto",
         "type": "bar",
         "x": [
          1
         ],
         "xaxis": "x9",
         "y": [
          "CM"
         ],
         "yaxis": "y9"
        },
        {
         "alignmentgroup": "True",
         "base": [
          1
         ],
         "hovertemplate": "top_bias=abortion + age + alcohol + gender + marijuana + medicare + occupation + party + political_experience<br>user=xrOuOynQhVbO<br>start=%{base}<br>stop=%{x}<br>=%{y}<br>bias_value=%{text}<extra></extra>",
         "legendgroup": "abortion + age + alcohol + gender + marijuana + medicare + occupation + party + political_experience",
         "marker": {
          "color": "#FF97FF",
          "opacity": [
           0.5
          ]
         },
         "name": "abortion + age + alcohol + gender + marijuana + medicare + occupation + party + political_experience",
         "offsetgroup": "abortion + age + alcohol + gender + marijuana + medicare + occupation + party + political_experience",
         "orientation": "h",
         "showlegend": false,
         "text": "",
         "textangle": 0,
         "textfont": {
          "size": 4
         },
         "textposition": "auto",
         "type": "bar",
         "x": [
          1
         ],
         "xaxis": "x10",
         "y": [
          "CM"
         ],
         "yaxis": "y10"
        },
        {
         "alignmentgroup": "True",
         "base": [
          1
         ],
         "hovertemplate": "top_bias=abortion + age + alcohol + gender + marijuana + medicare + occupation + party + political_experience<br>user=6oheLF74hlXc<br>start=%{base}<br>stop=%{x}<br>=%{y}<br>bias_value=%{text}<extra></extra>",
         "legendgroup": "abortion + age + alcohol + gender + marijuana + medicare + occupation + party + political_experience",
         "marker": {
          "color": "#FF97FF",
          "opacity": [
           0.5
          ]
         },
         "name": "abortion + age + alcohol + gender + marijuana + medicare + occupation + party + political_experience",
         "offsetgroup": "abortion + age + alcohol + gender + marijuana + medicare + occupation + party + political_experience",
         "orientation": "h",
         "showlegend": false,
         "text": "",
         "textangle": 0,
         "textfont": {
          "size": 4
         },
         "textposition": "auto",
         "type": "bar",
         "x": [
          1
         ],
         "xaxis": "x11",
         "y": [
          "CM"
         ],
         "yaxis": "y11"
        },
        {
         "alignmentgroup": "True",
         "base": [
          1
         ],
         "hovertemplate": "top_bias=abortion + age + alcohol + gender + marijuana + medicare + occupation + party + political_experience<br>user=8cPi4CoiSpNN<br>start=%{base}<br>stop=%{x}<br>=%{y}<br>bias_value=%{text}<extra></extra>",
         "legendgroup": "abortion + age + alcohol + gender + marijuana + medicare + occupation + party + political_experience",
         "marker": {
          "color": "#FF97FF",
          "opacity": [
           0.5
          ]
         },
         "name": "abortion + age + alcohol + gender + marijuana + medicare + occupation + party + political_experience",
         "offsetgroup": "abortion + age + alcohol + gender + marijuana + medicare + occupation + party + political_experience",
         "orientation": "h",
         "showlegend": false,
         "text": "",
         "textangle": 0,
         "textfont": {
          "size": 4
         },
         "textposition": "auto",
         "type": "bar",
         "x": [
          1
         ],
         "xaxis": "x12",
         "y": [
          "CM"
         ],
         "yaxis": "y12"
        },
        {
         "alignmentgroup": "True",
         "base": [
          1
         ],
         "hovertemplate": "top_bias=abortion + age + alcohol + gender + marijuana + medicare + occupation + party + political_experience<br>user=hoMzF8Cf1Y5j<br>start=%{base}<br>stop=%{x}<br>=%{y}<br>bias_value=%{text}<extra></extra>",
         "legendgroup": "abortion + age + alcohol + gender + marijuana + medicare + occupation + party + political_experience",
         "marker": {
          "color": "#FF97FF",
          "opacity": [
           0.5
          ]
         },
         "name": "abortion + age + alcohol + gender + marijuana + medicare + occupation + party + political_experience",
         "offsetgroup": "abortion + age + alcohol + gender + marijuana + medicare + occupation + party + political_experience",
         "orientation": "h",
         "showlegend": false,
         "text": "",
         "textangle": 0,
         "textfont": {
          "size": 4
         },
         "textposition": "auto",
         "type": "bar",
         "x": [
          1
         ],
         "xaxis": "x5",
         "y": [
          "CM"
         ],
         "yaxis": "y5"
        },
        {
         "alignmentgroup": "True",
         "base": [
          1
         ],
         "hovertemplate": "top_bias=abortion + age + alcohol + gender + marijuana + medicare + occupation + party + political_experience<br>user=gPCb7Uy0pEM0<br>start=%{base}<br>stop=%{x}<br>=%{y}<br>bias_value=%{text}<extra></extra>",
         "legendgroup": "abortion + age + alcohol + gender + marijuana + medicare + occupation + party + political_experience",
         "marker": {
          "color": "#FF97FF",
          "opacity": [
           0.5
          ]
         },
         "name": "abortion + age + alcohol + gender + marijuana + medicare + occupation + party + political_experience",
         "offsetgroup": "abortion + age + alcohol + gender + marijuana + medicare + occupation + party + political_experience",
         "orientation": "h",
         "showlegend": false,
         "text": "",
         "textangle": 0,
         "textfont": {
          "size": 4
         },
         "textposition": "auto",
         "type": "bar",
         "x": [
          1
         ],
         "xaxis": "x6",
         "y": [
          "CM"
         ],
         "yaxis": "y6"
        },
        {
         "alignmentgroup": "True",
         "base": [
          1
         ],
         "hovertemplate": "top_bias=abortion + age + alcohol + gender + marijuana + medicare + occupation + party + political_experience<br>user=3Sp3rSvqFsh6<br>start=%{base}<br>stop=%{x}<br>=%{y}<br>bias_value=%{text}<extra></extra>",
         "legendgroup": "abortion + age + alcohol + gender + marijuana + medicare + occupation + party + political_experience",
         "marker": {
          "color": "#FF97FF",
          "opacity": [
           0.5
          ]
         },
         "name": "abortion + age + alcohol + gender + marijuana + medicare + occupation + party + political_experience",
         "offsetgroup": "abortion + age + alcohol + gender + marijuana + medicare + occupation + party + political_experience",
         "orientation": "h",
         "showlegend": false,
         "text": "",
         "textangle": 0,
         "textfont": {
          "size": 4
         },
         "textposition": "auto",
         "type": "bar",
         "x": [
          1
         ],
         "xaxis": "x7",
         "y": [
          "CM"
         ],
         "yaxis": "y7"
        },
        {
         "alignmentgroup": "True",
         "base": [
          1
         ],
         "hovertemplate": "top_bias=abortion + age + alcohol + gender + marijuana + medicare + occupation + party + political_experience<br>user=qFIltQnZAor7<br>start=%{base}<br>stop=%{x}<br>=%{y}<br>bias_value=%{text}<extra></extra>",
         "legendgroup": "abortion + age + alcohol + gender + marijuana + medicare + occupation + party + political_experience",
         "marker": {
          "color": "#FF97FF",
          "opacity": [
           0.5
          ]
         },
         "name": "abortion + age + alcohol + gender + marijuana + medicare + occupation + party + political_experience",
         "offsetgroup": "abortion + age + alcohol + gender + marijuana + medicare + occupation + party + political_experience",
         "orientation": "h",
         "showlegend": false,
         "text": "",
         "textangle": 0,
         "textfont": {
          "size": 4
         },
         "textposition": "auto",
         "type": "bar",
         "x": [
          1
         ],
         "xaxis": "x8",
         "y": [
          "CM"
         ],
         "yaxis": "y8"
        },
        {
         "alignmentgroup": "True",
         "base": [
          1
         ],
         "hovertemplate": "top_bias=abortion + age + alcohol + gender + marijuana + medicare + occupation + party + political_experience<br>user=CnOeEROhOZaX<br>start=%{base}<br>stop=%{x}<br>=%{y}<br>bias_value=%{text}<extra></extra>",
         "legendgroup": "abortion + age + alcohol + gender + marijuana + medicare + occupation + party + political_experience",
         "marker": {
          "color": "#FF97FF",
          "opacity": [
           0.5
          ]
         },
         "name": "abortion + age + alcohol + gender + marijuana + medicare + occupation + party + political_experience",
         "offsetgroup": "abortion + age + alcohol + gender + marijuana + medicare + occupation + party + political_experience",
         "orientation": "h",
         "showlegend": false,
         "text": "",
         "textangle": 0,
         "textfont": {
          "size": 4
         },
         "textposition": "auto",
         "type": "bar",
         "x": [
          1
         ],
         "xaxis": "x",
         "y": [
          "CM"
         ],
         "yaxis": "y"
        },
        {
         "alignmentgroup": "True",
         "base": [
          1
         ],
         "hovertemplate": "top_bias=abortion + age + alcohol + gender + marijuana + medicare + occupation + party + political_experience<br>user=8D64yb05oRDt<br>start=%{base}<br>stop=%{x}<br>=%{y}<br>bias_value=%{text}<extra></extra>",
         "legendgroup": "abortion + age + alcohol + gender + marijuana + medicare + occupation + party + political_experience",
         "marker": {
          "color": "#FF97FF",
          "opacity": [
           0.5
          ]
         },
         "name": "abortion + age + alcohol + gender + marijuana + medicare + occupation + party + political_experience",
         "offsetgroup": "abortion + age + alcohol + gender + marijuana + medicare + occupation + party + political_experience",
         "orientation": "h",
         "showlegend": false,
         "text": "",
         "textangle": 0,
         "textfont": {
          "size": 4
         },
         "textposition": "auto",
         "type": "bar",
         "x": [
          1
         ],
         "xaxis": "x2",
         "y": [
          "CM"
         ],
         "yaxis": "y2"
        },
        {
         "alignmentgroup": "True",
         "base": [
          1
         ],
         "hovertemplate": "top_bias=abortion + age + alcohol + gender + marijuana + medicare + occupation + party + political_experience<br>user=r9cpBWj7l0iV<br>start=%{base}<br>stop=%{x}<br>=%{y}<br>bias_value=%{text}<extra></extra>",
         "legendgroup": "abortion + age + alcohol + gender + marijuana + medicare + occupation + party + political_experience",
         "marker": {
          "color": "#FF97FF",
          "opacity": [
           0.5
          ]
         },
         "name": "abortion + age + alcohol + gender + marijuana + medicare + occupation + party + political_experience",
         "offsetgroup": "abortion + age + alcohol + gender + marijuana + medicare + occupation + party + political_experience",
         "orientation": "h",
         "showlegend": false,
         "text": "",
         "textangle": 0,
         "textfont": {
          "size": 4
         },
         "textposition": "auto",
         "type": "bar",
         "x": [
          1
         ],
         "xaxis": "x3",
         "y": [
          "CM"
         ],
         "yaxis": "y3"
        },
        {
         "alignmentgroup": "True",
         "base": [
          1
         ],
         "hovertemplate": "top_bias=abortion + age + alcohol + gender + marijuana + medicare + occupation + party + political_experience<br>user=ZY1tfYLxtiya<br>start=%{base}<br>stop=%{x}<br>=%{y}<br>bias_value=%{text}<extra></extra>",
         "legendgroup": "abortion + age + alcohol + gender + marijuana + medicare + occupation + party + political_experience",
         "marker": {
          "color": "#FF97FF",
          "opacity": [
           0.5
          ]
         },
         "name": "abortion + age + alcohol + gender + marijuana + medicare + occupation + party + political_experience",
         "offsetgroup": "abortion + age + alcohol + gender + marijuana + medicare + occupation + party + political_experience",
         "orientation": "h",
         "showlegend": false,
         "text": "",
         "textangle": 0,
         "textfont": {
          "size": 4
         },
         "textposition": "auto",
         "type": "bar",
         "x": [
          1
         ],
         "xaxis": "x4",
         "y": [
          "CM"
         ],
         "yaxis": "y4"
        },
        {
         "alignmentgroup": "True",
         "base": [
          2,
          3,
          4
         ],
         "hovertemplate": "top_bias=party<br>user=lPpxNz1aVtYh<br>start=%{base}<br>stop=%{x}<br>=%{y}<br>bias_value=%{text}<extra></extra>",
         "legendgroup": "party",
         "marker": {
          "color": "#FECB52",
          "opacity": [
           0.59,
           0.94,
           0.93
          ]
         },
         "name": "party",
         "offsetgroup": "party",
         "orientation": "h",
         "showlegend": true,
         "text": "",
         "textangle": 0,
         "textfont": {
          "size": 4
         },
         "textposition": "auto",
         "type": "bar",
         "x": [
          1,
          1,
          1
         ],
         "xaxis": "x9",
         "y": [
          "CM",
          "CM",
          "CM"
         ],
         "yaxis": "y9"
        },
        {
         "alignmentgroup": "True",
         "base": [
          1
         ],
         "hovertemplate": "top_bias=party<br>user=6oheLF74hlXc<br>start=%{base}<br>stop=%{x}<br>=%{y}<br>bias_value=%{text}<extra></extra>",
         "legendgroup": "party",
         "marker": {
          "color": "#FECB52",
          "opacity": [
           0.53
          ]
         },
         "name": "party",
         "offsetgroup": "party",
         "orientation": "h",
         "showlegend": false,
         "text": "",
         "textangle": 0,
         "textfont": {
          "size": 4
         },
         "textposition": "auto",
         "type": "bar",
         "x": [
          1
         ],
         "xaxis": "x11",
         "y": [
          "HMM"
         ],
         "yaxis": "y11"
        },
        {
         "alignmentgroup": "True",
         "base": [
          2,
          3,
          4,
          6,
          6
         ],
         "hovertemplate": "top_bias=party<br>user=hoMzF8Cf1Y5j<br>start=%{base}<br>stop=%{x}<br>=%{y}<br>bias_value=%{text}<extra></extra>",
         "legendgroup": "party",
         "marker": {
          "color": "#FECB52",
          "opacity": [
           0.57,
           0.61,
           0.62,
           0.66,
           0.98
          ]
         },
         "name": "party",
         "offsetgroup": "party",
         "orientation": "h",
         "showlegend": false,
         "text": "",
         "textangle": 0,
         "textfont": {
          "size": 4
         },
         "textposition": "auto",
         "type": "bar",
         "x": [
          1,
          1,
          1,
          1,
          1
         ],
         "xaxis": "x5",
         "y": [
          "HMM",
          "HMM",
          "HMM",
          "HMM",
          "CM"
         ],
         "yaxis": "y5"
        },
        {
         "alignmentgroup": "True",
         "base": [
          5,
          6
         ],
         "hovertemplate": "top_bias=party<br>user=gPCb7Uy0pEM0<br>start=%{base}<br>stop=%{x}<br>=%{y}<br>bias_value=%{text}<extra></extra>",
         "legendgroup": "party",
         "marker": {
          "color": "#FECB52",
          "opacity": [
           0.61,
           0.64
          ]
         },
         "name": "party",
         "offsetgroup": "party",
         "orientation": "h",
         "showlegend": false,
         "text": "",
         "textangle": 0,
         "textfont": {
          "size": 4
         },
         "textposition": "auto",
         "type": "bar",
         "x": [
          1,
          1
         ],
         "xaxis": "x6",
         "y": [
          "HMM",
          "HMM"
         ],
         "yaxis": "y6"
        },
        {
         "alignmentgroup": "True",
         "base": [
          3
         ],
         "hovertemplate": "top_bias=party<br>user=3Sp3rSvqFsh6<br>start=%{base}<br>stop=%{x}<br>=%{y}<br>bias_value=%{text}<extra></extra>",
         "legendgroup": "party",
         "marker": {
          "color": "#FECB52",
          "opacity": [
           0.55
          ]
         },
         "name": "party",
         "offsetgroup": "party",
         "orientation": "h",
         "showlegend": false,
         "text": "",
         "textangle": 0,
         "textfont": {
          "size": 4
         },
         "textposition": "auto",
         "type": "bar",
         "x": [
          1
         ],
         "xaxis": "x7",
         "y": [
          "CM"
         ],
         "yaxis": "y7"
        },
        {
         "alignmentgroup": "True",
         "base": [
          1,
          2,
          3,
          4,
          5,
          6,
          7,
          8,
          9
         ],
         "hovertemplate": "top_bias=party<br>user=qFIltQnZAor7<br>start=%{base}<br>stop=%{x}<br>=%{y}<br>bias_value=%{text}<extra></extra>",
         "legendgroup": "party",
         "marker": {
          "color": "#FECB52",
          "opacity": [
           0.56,
           0.61,
           0.61,
           0.63,
           0.62,
           0.62,
           0.65,
           0.66,
           0.66
          ]
         },
         "name": "party",
         "offsetgroup": "party",
         "orientation": "h",
         "showlegend": false,
         "text": "",
         "textangle": 0,
         "textfont": {
          "size": 4
         },
         "textposition": "auto",
         "type": "bar",
         "x": [
          1,
          1,
          1,
          1,
          1,
          1,
          1,
          1,
          1
         ],
         "xaxis": "x8",
         "y": [
          "HMM",
          "HMM",
          "HMM",
          "HMM",
          "HMM",
          "HMM",
          "HMM",
          "HMM",
          "HMM"
         ],
         "yaxis": "y8"
        },
        {
         "alignmentgroup": "True",
         "base": [
          2,
          3
         ],
         "hovertemplate": "top_bias=party<br>user=8D64yb05oRDt<br>start=%{base}<br>stop=%{x}<br>=%{y}<br>bias_value=%{text}<extra></extra>",
         "legendgroup": "party",
         "marker": {
          "color": "#FECB52",
          "opacity": [
           0.58,
           0.89
          ]
         },
         "name": "party",
         "offsetgroup": "party",
         "orientation": "h",
         "showlegend": false,
         "text": "",
         "textangle": 0,
         "textfont": {
          "size": 4
         },
         "textposition": "auto",
         "type": "bar",
         "x": [
          1,
          1
         ],
         "xaxis": "x2",
         "y": [
          "CM",
          "CM"
         ],
         "yaxis": "y2"
        },
        {
         "alignmentgroup": "True",
         "base": [
          4,
          5
         ],
         "hovertemplate": "top_bias=party<br>user=r9cpBWj7l0iV<br>start=%{base}<br>stop=%{x}<br>=%{y}<br>bias_value=%{text}<extra></extra>",
         "legendgroup": "party",
         "marker": {
          "color": "#FECB52",
          "opacity": [
           0.61,
           0.61
          ]
         },
         "name": "party",
         "offsetgroup": "party",
         "orientation": "h",
         "showlegend": false,
         "text": "",
         "textangle": 0,
         "textfont": {
          "size": 4
         },
         "textposition": "auto",
         "type": "bar",
         "x": [
          1,
          1
         ],
         "xaxis": "x3",
         "y": [
          "HMM",
          "HMM"
         ],
         "yaxis": "y3"
        },
        {
         "alignmentgroup": "True",
         "base": [
          5,
          1
         ],
         "hovertemplate": "top_bias=party<br>user=ZY1tfYLxtiya<br>start=%{base}<br>stop=%{x}<br>=%{y}<br>bias_value=%{text}<extra></extra>",
         "legendgroup": "party",
         "marker": {
          "color": "#FECB52",
          "opacity": [
           0.57,
           0.54
          ]
         },
         "name": "party",
         "offsetgroup": "party",
         "orientation": "h",
         "showlegend": false,
         "text": "",
         "textangle": 0,
         "textfont": {
          "size": 4
         },
         "textposition": "auto",
         "type": "bar",
         "x": [
          1,
          1
         ],
         "xaxis": "x4",
         "y": [
          "AD",
          "HMM"
         ],
         "yaxis": "y4"
        },
        {
         "alignmentgroup": "True",
         "base": [
          3
         ],
         "hovertemplate": "top_bias=abortion<br>user=lPpxNz1aVtYh<br>start=%{base}<br>stop=%{x}<br>=%{y}<br>bias_value=%{text}<extra></extra>",
         "legendgroup": "abortion",
         "marker": {
          "color": "rgb(136, 204, 238)",
          "opacity": [
           0.58
          ]
         },
         "name": "abortion",
         "offsetgroup": "abortion",
         "orientation": "h",
         "showlegend": true,
         "text": "",
         "textangle": 0,
         "textfont": {
          "size": 4
         },
         "textposition": "auto",
         "type": "bar",
         "x": [
          1
         ],
         "xaxis": "x9",
         "y": [
          "AC"
         ],
         "yaxis": "y9"
        },
        {
         "alignmentgroup": "True",
         "base": [
          12,
          7,
          9,
          10,
          11,
          12
         ],
         "hovertemplate": "top_bias=abortion<br>user=xrOuOynQhVbO<br>start=%{base}<br>stop=%{x}<br>=%{y}<br>bias_value=%{text}<extra></extra>",
         "legendgroup": "abortion",
         "marker": {
          "color": "rgb(136, 204, 238)",
          "opacity": [
           0.55,
           0.67,
           0.68,
           0.66,
           0.25,
           0.25
          ]
         },
         "name": "abortion",
         "offsetgroup": "abortion",
         "orientation": "h",
         "showlegend": false,
         "text": "",
         "textangle": 0,
         "textfont": {
          "size": 4
         },
         "textposition": "auto",
         "type": "bar",
         "x": [
          1,
          1,
          1,
          1,
          1,
          1
         ],
         "xaxis": "x10",
         "y": [
          "AD",
          "HMM",
          "HMM",
          "HMM",
          "AC",
          "AC"
         ],
         "yaxis": "y10"
        },
        {
         "alignmentgroup": "True",
         "base": [
          2,
          3,
          5,
          6,
          7
         ],
         "hovertemplate": "top_bias=abortion<br>user=3Sp3rSvqFsh6<br>start=%{base}<br>stop=%{x}<br>=%{y}<br>bias_value=%{text}<extra></extra>",
         "legendgroup": "abortion",
         "marker": {
          "color": "rgb(136, 204, 238)",
          "opacity": [
           0.57,
           0.58,
           0.61,
           0.63,
           0.67
          ]
         },
         "name": "abortion",
         "offsetgroup": "abortion",
         "orientation": "h",
         "showlegend": false,
         "text": "",
         "textangle": 0,
         "textfont": {
          "size": 4
         },
         "textposition": "auto",
         "type": "bar",
         "x": [
          1,
          1,
          1,
          1,
          1
         ],
         "xaxis": "x7",
         "y": [
          "HMM",
          "HMM",
          "HMM",
          "HMM",
          "HMM"
         ],
         "yaxis": "y7"
        },
        {
         "alignmentgroup": "True",
         "base": [
          1,
          2,
          3,
          6,
          7,
          8,
          9,
          10
         ],
         "hovertemplate": "top_bias=abortion<br>user=r9cpBWj7l0iV<br>start=%{base}<br>stop=%{x}<br>=%{y}<br>bias_value=%{text}<extra></extra>",
         "legendgroup": "abortion",
         "marker": {
          "color": "rgb(136, 204, 238)",
          "opacity": [
           0.57,
           0.57,
           0.6,
           0.63,
           0.65,
           0.66,
           0.66,
           0.67
          ]
         },
         "name": "abortion",
         "offsetgroup": "abortion",
         "orientation": "h",
         "showlegend": false,
         "text": "",
         "textangle": 0,
         "textfont": {
          "size": 4
         },
         "textposition": "auto",
         "type": "bar",
         "x": [
          1,
          1,
          1,
          1,
          1,
          1,
          1,
          1
         ],
         "xaxis": "x3",
         "y": [
          "HMM",
          "HMM",
          "HMM",
          "HMM",
          "HMM",
          "HMM",
          "HMM",
          "HMM"
         ],
         "yaxis": "y3"
        },
        {
         "alignmentgroup": "True",
         "base": [
          1
         ],
         "hovertemplate": "top_bias=abortion + marijuana + medicare<br>user=6oheLF74hlXc<br>start=%{base}<br>stop=%{x}<br>=%{y}<br>bias_value=%{text}<extra></extra>",
         "legendgroup": "abortion + marijuana + medicare",
         "marker": {
          "color": "rgb(204, 102, 119)",
          "opacity": [
           0.58
          ]
         },
         "name": "abortion + marijuana + medicare",
         "offsetgroup": "abortion + marijuana + medicare",
         "orientation": "h",
         "showlegend": true,
         "text": "",
         "textangle": 0,
         "textfont": {
          "size": 4
         },
         "textposition": "auto",
         "type": "bar",
         "x": [
          1
         ],
         "xaxis": "x11",
         "y": [
          "AD"
         ],
         "yaxis": "y11"
        },
        {
         "alignmentgroup": "True",
         "base": [
          2
         ],
         "hovertemplate": "top_bias=age + political_experience<br>user=8cPi4CoiSpNN<br>start=%{base}<br>stop=%{x}<br>=%{y}<br>bias_value=%{text}<extra></extra>",
         "legendgroup": "age + political_experience",
         "marker": {
          "color": "rgb(221, 204, 119)",
          "opacity": [
           0.4
          ]
         },
         "name": "age + political_experience",
         "offsetgroup": "age + political_experience",
         "orientation": "h",
         "showlegend": true,
         "text": "",
         "textangle": 0,
         "textfont": {
          "size": 4
         },
         "textposition": "auto",
         "type": "bar",
         "x": [
          1
         ],
         "xaxis": "x12",
         "y": [
          "AD"
         ],
         "yaxis": "y12"
        },
        {
         "alignmentgroup": "True",
         "base": [
          3
         ],
         "hovertemplate": "top_bias=age + political_experience<br>user=gPCb7Uy0pEM0<br>start=%{base}<br>stop=%{x}<br>=%{y}<br>bias_value=%{text}<extra></extra>",
         "legendgroup": "age + political_experience",
         "marker": {
          "color": "rgb(221, 204, 119)",
          "opacity": [
           0.7
          ]
         },
         "name": "age + political_experience",
         "offsetgroup": "age + political_experience",
         "orientation": "h",
         "showlegend": false,
         "text": "",
         "textangle": 0,
         "textfont": {
          "size": 4
         },
         "textposition": "auto",
         "type": "bar",
         "x": [
          1
         ],
         "xaxis": "x6",
         "y": [
          "AD"
         ],
         "yaxis": "y6"
        },
        {
         "alignmentgroup": "True",
         "base": [
          9
         ],
         "hovertemplate": "top_bias=marijuana + medicare<br>user=8cPi4CoiSpNN<br>start=%{base}<br>stop=%{x}<br>=%{y}<br>bias_value=%{text}<extra></extra>",
         "legendgroup": "marijuana + medicare",
         "marker": {
          "color": "rgb(17, 119, 51)",
          "opacity": [
           0.8
          ]
         },
         "name": "marijuana + medicare",
         "offsetgroup": "marijuana + medicare",
         "orientation": "h",
         "showlegend": true,
         "text": "",
         "textangle": 0,
         "textfont": {
          "size": 4
         },
         "textposition": "auto",
         "type": "bar",
         "x": [
          1
         ],
         "xaxis": "x12",
         "y": [
          "AD"
         ],
         "yaxis": "y12"
        },
        {
         "alignmentgroup": "True",
         "base": [
          3
         ],
         "hovertemplate": "top_bias=marijuana + medicare<br>user=hoMzF8Cf1Y5j<br>start=%{base}<br>stop=%{x}<br>=%{y}<br>bias_value=%{text}<extra></extra>",
         "legendgroup": "marijuana + medicare",
         "marker": {
          "color": "rgb(17, 119, 51)",
          "opacity": [
           0.56
          ]
         },
         "name": "marijuana + medicare",
         "offsetgroup": "marijuana + medicare",
         "orientation": "h",
         "showlegend": false,
         "text": "",
         "textangle": 0,
         "textfont": {
          "size": 4
         },
         "textposition": "auto",
         "type": "bar",
         "x": [
          1
         ],
         "xaxis": "x5",
         "y": [
          "AD"
         ],
         "yaxis": "y5"
        },
        {
         "alignmentgroup": "True",
         "base": [
          1
         ],
         "hovertemplate": "top_bias=abortion + alcohol<br>user=gPCb7Uy0pEM0<br>start=%{base}<br>stop=%{x}<br>=%{y}<br>bias_value=%{text}<extra></extra>",
         "legendgroup": "abortion + alcohol",
         "marker": {
          "color": "rgb(51, 34, 136)",
          "opacity": [
           0.58
          ]
         },
         "name": "abortion + alcohol",
         "offsetgroup": "abortion + alcohol",
         "orientation": "h",
         "showlegend": true,
         "text": "",
         "textangle": 0,
         "textfont": {
          "size": 4
         },
         "textposition": "auto",
         "type": "bar",
         "x": [
          1
         ],
         "xaxis": "x6",
         "y": [
          "AD"
         ],
         "yaxis": "y6"
        },
        {
         "alignmentgroup": "True",
         "base": [
          11,
          10,
          11
         ],
         "hovertemplate": "top_bias=abortion + alcohol<br>user=qFIltQnZAor7<br>start=%{base}<br>stop=%{x}<br>=%{y}<br>bias_value=%{text}<extra></extra>",
         "legendgroup": "abortion + alcohol",
         "marker": {
          "color": "rgb(51, 34, 136)",
          "opacity": [
           0.86,
           0.33,
           0.34
          ]
         },
         "name": "abortion + alcohol",
         "offsetgroup": "abortion + alcohol",
         "orientation": "h",
         "showlegend": false,
         "text": "",
         "textangle": 0,
         "textfont": {
          "size": 4
         },
         "textposition": "auto",
         "type": "bar",
         "x": [
          1,
          1,
          1
         ],
         "xaxis": "x8",
         "y": [
          "AD",
          "AC",
          "AC"
         ],
         "yaxis": "y8"
        },
        {
         "alignmentgroup": "True",
         "base": [
          11
         ],
         "hovertemplate": "top_bias=abortion + political_experience<br>user=CnOeEROhOZaX<br>start=%{base}<br>stop=%{x}<br>=%{y}<br>bias_value=%{text}<extra></extra>",
         "legendgroup": "abortion + political_experience",
         "marker": {
          "color": "rgb(170, 68, 153)",
          "opacity": [
           0.53
          ]
         },
         "name": "abortion + political_experience",
         "offsetgroup": "abortion + political_experience",
         "orientation": "h",
         "showlegend": true,
         "text": "",
         "textangle": 0,
         "textfont": {
          "size": 4
         },
         "textposition": "auto",
         "type": "bar",
         "x": [
          1
         ],
         "xaxis": "x",
         "y": [
          "AD"
         ],
         "yaxis": "y"
        }
       ],
       "layout": {
        "annotations": [
         {
          "font": {},
          "showarrow": false,
          "text": "user=CnOeEROhOZaX",
          "x": 0.1175,
          "xanchor": "center",
          "xref": "paper",
          "y": 0.30666666666666664,
          "yanchor": "bottom",
          "yref": "paper"
         },
         {
          "font": {},
          "showarrow": false,
          "text": "user=8D64yb05oRDt",
          "x": 0.3725,
          "xanchor": "center",
          "xref": "paper",
          "y": 0.30666666666666664,
          "yanchor": "bottom",
          "yref": "paper"
         },
         {
          "font": {},
          "showarrow": false,
          "text": "user=r9cpBWj7l0iV",
          "x": 0.6275,
          "xanchor": "center",
          "xref": "paper",
          "y": 0.30666666666666664,
          "yanchor": "bottom",
          "yref": "paper"
         },
         {
          "font": {},
          "showarrow": false,
          "text": "user=ZY1tfYLxtiya",
          "x": 0.8824999999999998,
          "xanchor": "center",
          "xref": "paper",
          "y": 0.30666666666666664,
          "yanchor": "bottom",
          "yref": "paper"
         },
         {
          "font": {},
          "showarrow": false,
          "text": "user=hoMzF8Cf1Y5j",
          "x": 0.1175,
          "xanchor": "center",
          "xref": "paper",
          "y": 0.6533333333333333,
          "yanchor": "bottom",
          "yref": "paper"
         },
         {
          "font": {},
          "showarrow": false,
          "text": "user=gPCb7Uy0pEM0",
          "x": 0.3725,
          "xanchor": "center",
          "xref": "paper",
          "y": 0.6533333333333333,
          "yanchor": "bottom",
          "yref": "paper"
         },
         {
          "font": {},
          "showarrow": false,
          "text": "user=3Sp3rSvqFsh6",
          "x": 0.6275,
          "xanchor": "center",
          "xref": "paper",
          "y": 0.6533333333333333,
          "yanchor": "bottom",
          "yref": "paper"
         },
         {
          "font": {},
          "showarrow": false,
          "text": "user=qFIltQnZAor7",
          "x": 0.8824999999999998,
          "xanchor": "center",
          "xref": "paper",
          "y": 0.6533333333333333,
          "yanchor": "bottom",
          "yref": "paper"
         },
         {
          "font": {},
          "showarrow": false,
          "text": "user=lPpxNz1aVtYh",
          "x": 0.1175,
          "xanchor": "center",
          "xref": "paper",
          "y": 0.9999999999999999,
          "yanchor": "bottom",
          "yref": "paper"
         },
         {
          "font": {},
          "showarrow": false,
          "text": "user=xrOuOynQhVbO",
          "x": 0.3725,
          "xanchor": "center",
          "xref": "paper",
          "y": 0.9999999999999999,
          "yanchor": "bottom",
          "yref": "paper"
         },
         {
          "font": {},
          "showarrow": false,
          "text": "user=6oheLF74hlXc",
          "x": 0.6275,
          "xanchor": "center",
          "xref": "paper",
          "y": 0.9999999999999999,
          "yanchor": "bottom",
          "yref": "paper"
         },
         {
          "font": {},
          "showarrow": false,
          "text": "user=8cPi4CoiSpNN",
          "x": 0.8824999999999998,
          "xanchor": "center",
          "xref": "paper",
          "y": 0.9999999999999999,
          "yanchor": "bottom",
          "yref": "paper"
         }
        ],
        "barmode": "overlay",
        "font": {
         "color": "black",
         "size": 20
        },
        "height": 1200,
        "legend": {
         "orientation": "h",
         "title": {
          "text": ""
         },
         "tracegroupgap": 0,
         "x": 1,
         "xanchor": "right",
         "y": -0.22,
         "yanchor": "bottom"
        },
        "template": {
         "data": {
          "bar": [
           {
            "error_x": {
             "color": "#2a3f5f"
            },
            "error_y": {
             "color": "#2a3f5f"
            },
            "marker": {
             "line": {
              "color": "#E5ECF6",
              "width": 0.5
             },
             "pattern": {
              "fillmode": "overlay",
              "size": 10,
              "solidity": 0.2
             }
            },
            "type": "bar"
           }
          ],
          "barpolar": [
           {
            "marker": {
             "line": {
              "color": "#E5ECF6",
              "width": 0.5
             },
             "pattern": {
              "fillmode": "overlay",
              "size": 10,
              "solidity": 0.2
             }
            },
            "type": "barpolar"
           }
          ],
          "carpet": [
           {
            "aaxis": {
             "endlinecolor": "#2a3f5f",
             "gridcolor": "white",
             "linecolor": "white",
             "minorgridcolor": "white",
             "startlinecolor": "#2a3f5f"
            },
            "baxis": {
             "endlinecolor": "#2a3f5f",
             "gridcolor": "white",
             "linecolor": "white",
             "minorgridcolor": "white",
             "startlinecolor": "#2a3f5f"
            },
            "type": "carpet"
           }
          ],
          "choropleth": [
           {
            "colorbar": {
             "outlinewidth": 0,
             "ticks": ""
            },
            "type": "choropleth"
           }
          ],
          "contour": [
           {
            "colorbar": {
             "outlinewidth": 0,
             "ticks": ""
            },
            "colorscale": [
             [
              0,
              "#0d0887"
             ],
             [
              0.1111111111111111,
              "#46039f"
             ],
             [
              0.2222222222222222,
              "#7201a8"
             ],
             [
              0.3333333333333333,
              "#9c179e"
             ],
             [
              0.4444444444444444,
              "#bd3786"
             ],
             [
              0.5555555555555556,
              "#d8576b"
             ],
             [
              0.6666666666666666,
              "#ed7953"
             ],
             [
              0.7777777777777778,
              "#fb9f3a"
             ],
             [
              0.8888888888888888,
              "#fdca26"
             ],
             [
              1,
              "#f0f921"
             ]
            ],
            "type": "contour"
           }
          ],
          "contourcarpet": [
           {
            "colorbar": {
             "outlinewidth": 0,
             "ticks": ""
            },
            "type": "contourcarpet"
           }
          ],
          "heatmap": [
           {
            "colorbar": {
             "outlinewidth": 0,
             "ticks": ""
            },
            "colorscale": [
             [
              0,
              "#0d0887"
             ],
             [
              0.1111111111111111,
              "#46039f"
             ],
             [
              0.2222222222222222,
              "#7201a8"
             ],
             [
              0.3333333333333333,
              "#9c179e"
             ],
             [
              0.4444444444444444,
              "#bd3786"
             ],
             [
              0.5555555555555556,
              "#d8576b"
             ],
             [
              0.6666666666666666,
              "#ed7953"
             ],
             [
              0.7777777777777778,
              "#fb9f3a"
             ],
             [
              0.8888888888888888,
              "#fdca26"
             ],
             [
              1,
              "#f0f921"
             ]
            ],
            "type": "heatmap"
           }
          ],
          "heatmapgl": [
           {
            "colorbar": {
             "outlinewidth": 0,
             "ticks": ""
            },
            "colorscale": [
             [
              0,
              "#0d0887"
             ],
             [
              0.1111111111111111,
              "#46039f"
             ],
             [
              0.2222222222222222,
              "#7201a8"
             ],
             [
              0.3333333333333333,
              "#9c179e"
             ],
             [
              0.4444444444444444,
              "#bd3786"
             ],
             [
              0.5555555555555556,
              "#d8576b"
             ],
             [
              0.6666666666666666,
              "#ed7953"
             ],
             [
              0.7777777777777778,
              "#fb9f3a"
             ],
             [
              0.8888888888888888,
              "#fdca26"
             ],
             [
              1,
              "#f0f921"
             ]
            ],
            "type": "heatmapgl"
           }
          ],
          "histogram": [
           {
            "marker": {
             "pattern": {
              "fillmode": "overlay",
              "size": 10,
              "solidity": 0.2
             }
            },
            "type": "histogram"
           }
          ],
          "histogram2d": [
           {
            "colorbar": {
             "outlinewidth": 0,
             "ticks": ""
            },
            "colorscale": [
             [
              0,
              "#0d0887"
             ],
             [
              0.1111111111111111,
              "#46039f"
             ],
             [
              0.2222222222222222,
              "#7201a8"
             ],
             [
              0.3333333333333333,
              "#9c179e"
             ],
             [
              0.4444444444444444,
              "#bd3786"
             ],
             [
              0.5555555555555556,
              "#d8576b"
             ],
             [
              0.6666666666666666,
              "#ed7953"
             ],
             [
              0.7777777777777778,
              "#fb9f3a"
             ],
             [
              0.8888888888888888,
              "#fdca26"
             ],
             [
              1,
              "#f0f921"
             ]
            ],
            "type": "histogram2d"
           }
          ],
          "histogram2dcontour": [
           {
            "colorbar": {
             "outlinewidth": 0,
             "ticks": ""
            },
            "colorscale": [
             [
              0,
              "#0d0887"
             ],
             [
              0.1111111111111111,
              "#46039f"
             ],
             [
              0.2222222222222222,
              "#7201a8"
             ],
             [
              0.3333333333333333,
              "#9c179e"
             ],
             [
              0.4444444444444444,
              "#bd3786"
             ],
             [
              0.5555555555555556,
              "#d8576b"
             ],
             [
              0.6666666666666666,
              "#ed7953"
             ],
             [
              0.7777777777777778,
              "#fb9f3a"
             ],
             [
              0.8888888888888888,
              "#fdca26"
             ],
             [
              1,
              "#f0f921"
             ]
            ],
            "type": "histogram2dcontour"
           }
          ],
          "mesh3d": [
           {
            "colorbar": {
             "outlinewidth": 0,
             "ticks": ""
            },
            "type": "mesh3d"
           }
          ],
          "parcoords": [
           {
            "line": {
             "colorbar": {
              "outlinewidth": 0,
              "ticks": ""
             }
            },
            "type": "parcoords"
           }
          ],
          "pie": [
           {
            "automargin": true,
            "type": "pie"
           }
          ],
          "scatter": [
           {
            "marker": {
             "colorbar": {
              "outlinewidth": 0,
              "ticks": ""
             }
            },
            "type": "scatter"
           }
          ],
          "scatter3d": [
           {
            "line": {
             "colorbar": {
              "outlinewidth": 0,
              "ticks": ""
             }
            },
            "marker": {
             "colorbar": {
              "outlinewidth": 0,
              "ticks": ""
             }
            },
            "type": "scatter3d"
           }
          ],
          "scattercarpet": [
           {
            "marker": {
             "colorbar": {
              "outlinewidth": 0,
              "ticks": ""
             }
            },
            "type": "scattercarpet"
           }
          ],
          "scattergeo": [
           {
            "marker": {
             "colorbar": {
              "outlinewidth": 0,
              "ticks": ""
             }
            },
            "type": "scattergeo"
           }
          ],
          "scattergl": [
           {
            "marker": {
             "colorbar": {
              "outlinewidth": 0,
              "ticks": ""
             }
            },
            "type": "scattergl"
           }
          ],
          "scattermapbox": [
           {
            "marker": {
             "colorbar": {
              "outlinewidth": 0,
              "ticks": ""
             }
            },
            "type": "scattermapbox"
           }
          ],
          "scatterpolar": [
           {
            "marker": {
             "colorbar": {
              "outlinewidth": 0,
              "ticks": ""
             }
            },
            "type": "scatterpolar"
           }
          ],
          "scatterpolargl": [
           {
            "marker": {
             "colorbar": {
              "outlinewidth": 0,
              "ticks": ""
             }
            },
            "type": "scatterpolargl"
           }
          ],
          "scatterternary": [
           {
            "marker": {
             "colorbar": {
              "outlinewidth": 0,
              "ticks": ""
             }
            },
            "type": "scatterternary"
           }
          ],
          "surface": [
           {
            "colorbar": {
             "outlinewidth": 0,
             "ticks": ""
            },
            "colorscale": [
             [
              0,
              "#0d0887"
             ],
             [
              0.1111111111111111,
              "#46039f"
             ],
             [
              0.2222222222222222,
              "#7201a8"
             ],
             [
              0.3333333333333333,
              "#9c179e"
             ],
             [
              0.4444444444444444,
              "#bd3786"
             ],
             [
              0.5555555555555556,
              "#d8576b"
             ],
             [
              0.6666666666666666,
              "#ed7953"
             ],
             [
              0.7777777777777778,
              "#fb9f3a"
             ],
             [
              0.8888888888888888,
              "#fdca26"
             ],
             [
              1,
              "#f0f921"
             ]
            ],
            "type": "surface"
           }
          ],
          "table": [
           {
            "cells": {
             "fill": {
              "color": "#EBF0F8"
             },
             "line": {
              "color": "white"
             }
            },
            "header": {
             "fill": {
              "color": "#C8D4E3"
             },
             "line": {
              "color": "white"
             }
            },
            "type": "table"
           }
          ]
         },
         "layout": {
          "annotationdefaults": {
           "arrowcolor": "#2a3f5f",
           "arrowhead": 0,
           "arrowwidth": 1
          },
          "autotypenumbers": "strict",
          "coloraxis": {
           "colorbar": {
            "outlinewidth": 0,
            "ticks": ""
           }
          },
          "colorscale": {
           "diverging": [
            [
             0,
             "#8e0152"
            ],
            [
             0.1,
             "#c51b7d"
            ],
            [
             0.2,
             "#de77ae"
            ],
            [
             0.3,
             "#f1b6da"
            ],
            [
             0.4,
             "#fde0ef"
            ],
            [
             0.5,
             "#f7f7f7"
            ],
            [
             0.6,
             "#e6f5d0"
            ],
            [
             0.7,
             "#b8e186"
            ],
            [
             0.8,
             "#7fbc41"
            ],
            [
             0.9,
             "#4d9221"
            ],
            [
             1,
             "#276419"
            ]
           ],
           "sequential": [
            [
             0,
             "#0d0887"
            ],
            [
             0.1111111111111111,
             "#46039f"
            ],
            [
             0.2222222222222222,
             "#7201a8"
            ],
            [
             0.3333333333333333,
             "#9c179e"
            ],
            [
             0.4444444444444444,
             "#bd3786"
            ],
            [
             0.5555555555555556,
             "#d8576b"
            ],
            [
             0.6666666666666666,
             "#ed7953"
            ],
            [
             0.7777777777777778,
             "#fb9f3a"
            ],
            [
             0.8888888888888888,
             "#fdca26"
            ],
            [
             1,
             "#f0f921"
            ]
           ],
           "sequentialminus": [
            [
             0,
             "#0d0887"
            ],
            [
             0.1111111111111111,
             "#46039f"
            ],
            [
             0.2222222222222222,
             "#7201a8"
            ],
            [
             0.3333333333333333,
             "#9c179e"
            ],
            [
             0.4444444444444444,
             "#bd3786"
            ],
            [
             0.5555555555555556,
             "#d8576b"
            ],
            [
             0.6666666666666666,
             "#ed7953"
            ],
            [
             0.7777777777777778,
             "#fb9f3a"
            ],
            [
             0.8888888888888888,
             "#fdca26"
            ],
            [
             1,
             "#f0f921"
            ]
           ]
          },
          "colorway": [
           "#636efa",
           "#EF553B",
           "#00cc96",
           "#ab63fa",
           "#FFA15A",
           "#19d3f3",
           "#FF6692",
           "#B6E880",
           "#FF97FF",
           "#FECB52"
          ],
          "font": {
           "color": "#2a3f5f"
          },
          "geo": {
           "bgcolor": "white",
           "lakecolor": "white",
           "landcolor": "#E5ECF6",
           "showlakes": true,
           "showland": true,
           "subunitcolor": "white"
          },
          "hoverlabel": {
           "align": "left"
          },
          "hovermode": "closest",
          "mapbox": {
           "style": "light"
          },
          "paper_bgcolor": "white",
          "plot_bgcolor": "#E5ECF6",
          "polar": {
           "angularaxis": {
            "gridcolor": "white",
            "linecolor": "white",
            "ticks": ""
           },
           "bgcolor": "#E5ECF6",
           "radialaxis": {
            "gridcolor": "white",
            "linecolor": "white",
            "ticks": ""
           }
          },
          "scene": {
           "xaxis": {
            "backgroundcolor": "#E5ECF6",
            "gridcolor": "white",
            "gridwidth": 2,
            "linecolor": "white",
            "showbackground": true,
            "ticks": "",
            "zerolinecolor": "white"
           },
           "yaxis": {
            "backgroundcolor": "#E5ECF6",
            "gridcolor": "white",
            "gridwidth": 2,
            "linecolor": "white",
            "showbackground": true,
            "ticks": "",
            "zerolinecolor": "white"
           },
           "zaxis": {
            "backgroundcolor": "#E5ECF6",
            "gridcolor": "white",
            "gridwidth": 2,
            "linecolor": "white",
            "showbackground": true,
            "ticks": "",
            "zerolinecolor": "white"
           }
          },
          "shapedefaults": {
           "line": {
            "color": "#2a3f5f"
           }
          },
          "ternary": {
           "aaxis": {
            "gridcolor": "white",
            "linecolor": "white",
            "ticks": ""
           },
           "baxis": {
            "gridcolor": "white",
            "linecolor": "white",
            "ticks": ""
           },
           "bgcolor": "#E5ECF6",
           "caxis": {
            "gridcolor": "white",
            "linecolor": "white",
            "ticks": ""
           }
          },
          "title": {
           "x": 0.05
          },
          "xaxis": {
           "automargin": true,
           "gridcolor": "white",
           "linecolor": "white",
           "ticks": "",
           "title": {
            "standoff": 15
           },
           "zerolinecolor": "white",
           "zerolinewidth": 2
          },
          "yaxis": {
           "automargin": true,
           "gridcolor": "white",
           "linecolor": "white",
           "ticks": "",
           "title": {
            "standoff": 15
           },
           "zerolinecolor": "white",
           "zerolinewidth": 2
          }
         }
        },
        "title": {
         "font": {
          "size": 20
         },
         "text": "Top Ranking Bias During Exploration of Political Data",
         "x": 0.5,
         "xanchor": "center",
         "yanchor": "top"
        },
        "width": 2000,
        "xaxis": {
         "anchor": "y",
         "domain": [
          0,
          0.235
         ],
         "nticks": 16,
         "tick0": 1,
         "title": {
          "font": {
           "size": 20
          },
          "text": "Interactions Observed"
         },
         "type": "linear"
        },
        "xaxis10": {
         "anchor": "y10",
         "domain": [
          0.255,
          0.49
         ],
         "matches": "x",
         "nticks": 16,
         "showticklabels": false,
         "tick0": 1,
         "title": {
          "font": {
           "size": 12
          }
         },
         "type": "linear"
        },
        "xaxis11": {
         "anchor": "y11",
         "domain": [
          0.51,
          0.745
         ],
         "matches": "x",
         "nticks": 16,
         "showticklabels": false,
         "tick0": 1,
         "title": {
          "font": {
           "size": 12
          }
         },
         "type": "linear"
        },
        "xaxis12": {
         "anchor": "y12",
         "domain": [
          0.7649999999999999,
          0.9999999999999999
         ],
         "matches": "x",
         "nticks": 16,
         "showticklabels": false,
         "tick0": 1,
         "title": {
          "font": {
           "size": 12
          }
         },
         "type": "linear"
        },
        "xaxis2": {
         "anchor": "y2",
         "domain": [
          0.255,
          0.49
         ],
         "matches": "x",
         "nticks": 16,
         "tick0": 1,
         "title": {
          "font": {
           "size": 20
          },
          "text": "Interactions Observed"
         },
         "type": "linear"
        },
        "xaxis3": {
         "anchor": "y3",
         "domain": [
          0.51,
          0.745
         ],
         "matches": "x",
         "nticks": 16,
         "tick0": 1,
         "title": {
          "font": {
           "size": 20
          },
          "text": "Interactions Observed"
         },
         "type": "linear"
        },
        "xaxis4": {
         "anchor": "y4",
         "domain": [
          0.7649999999999999,
          0.9999999999999999
         ],
         "matches": "x",
         "nticks": 16,
         "tick0": 1,
         "title": {
          "font": {
           "size": 20
          },
          "text": "Interactions Observed"
         },
         "type": "linear"
        },
        "xaxis5": {
         "anchor": "y5",
         "domain": [
          0,
          0.235
         ],
         "matches": "x",
         "nticks": 16,
         "showticklabels": false,
         "tick0": 1,
         "title": {
          "font": {
           "size": 12
          }
         },
         "type": "linear"
        },
        "xaxis6": {
         "anchor": "y6",
         "domain": [
          0.255,
          0.49
         ],
         "matches": "x",
         "nticks": 16,
         "showticklabels": false,
         "tick0": 1,
         "title": {
          "font": {
           "size": 12
          }
         },
         "type": "linear"
        },
        "xaxis7": {
         "anchor": "y7",
         "domain": [
          0.51,
          0.745
         ],
         "matches": "x",
         "nticks": 16,
         "showticklabels": false,
         "tick0": 1,
         "title": {
          "font": {
           "size": 12
          }
         },
         "type": "linear"
        },
        "xaxis8": {
         "anchor": "y8",
         "domain": [
          0.7649999999999999,
          0.9999999999999999
         ],
         "matches": "x",
         "nticks": 16,
         "showticklabels": false,
         "tick0": 1,
         "title": {
          "font": {
           "size": 12
          }
         },
         "type": "linear"
        },
        "xaxis9": {
         "anchor": "y9",
         "domain": [
          0,
          0.235
         ],
         "matches": "x",
         "nticks": 16,
         "showticklabels": false,
         "tick0": 1,
         "title": {
          "font": {
           "size": 12
          }
         },
         "type": "linear"
        },
        "yaxis": {
         "anchor": "x",
         "domain": [
          0,
          0.30666666666666664
         ],
         "title": {
          "text": ""
         }
        },
        "yaxis10": {
         "anchor": "x10",
         "domain": [
          0.6933333333333332,
          0.9999999999999999
         ],
         "matches": "y",
         "showticklabels": false
        },
        "yaxis11": {
         "anchor": "x11",
         "domain": [
          0.6933333333333332,
          0.9999999999999999
         ],
         "matches": "y",
         "showticklabels": false
        },
        "yaxis12": {
         "anchor": "x12",
         "domain": [
          0.6933333333333332,
          0.9999999999999999
         ],
         "matches": "y",
         "showticklabels": false
        },
        "yaxis2": {
         "anchor": "x2",
         "domain": [
          0,
          0.30666666666666664
         ],
         "matches": "y",
         "showticklabels": false
        },
        "yaxis3": {
         "anchor": "x3",
         "domain": [
          0,
          0.30666666666666664
         ],
         "matches": "y",
         "showticklabels": false
        },
        "yaxis4": {
         "anchor": "x4",
         "domain": [
          0,
          0.30666666666666664
         ],
         "matches": "y",
         "showticklabels": false
        },
        "yaxis5": {
         "anchor": "x5",
         "domain": [
          0.3466666666666666,
          0.6533333333333333
         ],
         "matches": "y",
         "title": {
          "text": ""
         }
        },
        "yaxis6": {
         "anchor": "x6",
         "domain": [
          0.3466666666666666,
          0.6533333333333333
         ],
         "matches": "y",
         "showticklabels": false
        },
        "yaxis7": {
         "anchor": "x7",
         "domain": [
          0.3466666666666666,
          0.6533333333333333
         ],
         "matches": "y",
         "showticklabels": false
        },
        "yaxis8": {
         "anchor": "x8",
         "domain": [
          0.3466666666666666,
          0.6533333333333333
         ],
         "matches": "y",
         "showticklabels": false
        },
        "yaxis9": {
         "anchor": "x9",
         "domain": [
          0.6933333333333332,
          0.9999999999999999
         ],
         "matches": "y",
         "title": {
          "text": ""
         }
        }
       }
      },
      "text/html": [
       "<div>                            <div id=\"acb8f798-f228-47ba-8f7f-1314397f0774\" class=\"plotly-graph-div\" style=\"height:1200px; width:2000px;\"></div>            <script type=\"text/javascript\">                require([\"plotly\"], function(Plotly) {                    window.PLOTLYENV=window.PLOTLYENV || {};                                    if (document.getElementById(\"acb8f798-f228-47ba-8f7f-1314397f0774\")) {                    Plotly.newPlot(                        \"acb8f798-f228-47ba-8f7f-1314397f0774\",                        [{\"alignmentgroup\":\"True\",\"base\":[1,6,1,1,2],\"hovertemplate\":\"top_bias=age<br>user=lPpxNz1aVtYh<br>start=%{base}<br>stop=%{x}<br>=%{y}<br>bias_value=%{text}<extra></extra>\",\"legendgroup\":\"age\",\"marker\":{\"color\":\"#636EFA\",\"opacity\":[0.94,0.76,0.56,0.83,0.66]},\"name\":\"age\",\"offsetgroup\":\"age\",\"orientation\":\"h\",\"showlegend\":true,\"text\":\"\",\"textposition\":\"auto\",\"x\":[1,1,1,1,1],\"xaxis\":\"x9\",\"y\":[\"AD\",\"AD\",\"HMM\",\"AC\",\"AC\"],\"yaxis\":\"y9\",\"type\":\"bar\",\"textfont\":{\"size\":4},\"textangle\":0},{\"alignmentgroup\":\"True\",\"base\":[1,2,3,13,14],\"hovertemplate\":\"top_bias=age<br>user=xrOuOynQhVbO<br>start=%{base}<br>stop=%{x}<br>=%{y}<br>bias_value=%{text}<extra></extra>\",\"legendgroup\":\"age\",\"marker\":{\"color\":\"#636EFA\",\"opacity\":[0.6,0.58,0.6,0.23,0.23]},\"name\":\"age\",\"offsetgroup\":\"age\",\"orientation\":\"h\",\"showlegend\":false,\"text\":\"\",\"textposition\":\"auto\",\"x\":[1,1,1,1,1],\"xaxis\":\"x10\",\"y\":[\"AD\",\"HMM\",\"HMM\",\"AC\",\"AC\"],\"yaxis\":\"y10\",\"type\":\"bar\",\"textfont\":{\"size\":4},\"textangle\":0},{\"alignmentgroup\":\"True\",\"base\":[5,8,8,9,10],\"hovertemplate\":\"top_bias=age<br>user=6oheLF74hlXc<br>start=%{base}<br>stop=%{x}<br>=%{y}<br>bias_value=%{text}<extra></extra>\",\"legendgroup\":\"age\",\"marker\":{\"color\":\"#636EFA\",\"opacity\":[0.69,0.68,0.32,0.28,0.27]},\"name\":\"age\",\"offsetgroup\":\"age\",\"orientation\":\"h\",\"showlegend\":false,\"text\":\"\",\"textposition\":\"auto\",\"x\":[1,1,1,1,1],\"xaxis\":\"x11\",\"y\":[\"AD\",\"AD\",\"AC\",\"AC\",\"AC\"],\"yaxis\":\"y11\",\"type\":\"bar\",\"textfont\":{\"size\":4},\"textangle\":0},{\"alignmentgroup\":\"True\",\"base\":[1,2,3],\"hovertemplate\":\"top_bias=age<br>user=8cPi4CoiSpNN<br>start=%{base}<br>stop=%{x}<br>=%{y}<br>bias_value=%{text}<extra></extra>\",\"legendgroup\":\"age\",\"marker\":{\"color\":\"#636EFA\",\"opacity\":[0.47,0.59,0.65]},\"name\":\"age\",\"offsetgroup\":\"age\",\"orientation\":\"h\",\"showlegend\":false,\"text\":\"\",\"textposition\":\"auto\",\"x\":[1,1,1],\"xaxis\":\"x12\",\"y\":[\"AD\",\"HMM\",\"AC\"],\"yaxis\":\"y12\",\"type\":\"bar\",\"textfont\":{\"size\":4},\"textangle\":0},{\"alignmentgroup\":\"True\",\"base\":[2,2,3,4,6],\"hovertemplate\":\"top_bias=age<br>user=hoMzF8Cf1Y5j<br>start=%{base}<br>stop=%{x}<br>=%{y}<br>bias_value=%{text}<extra></extra>\",\"legendgroup\":\"age\",\"marker\":{\"color\":\"#636EFA\",\"opacity\":[0.59,0.7,0.65,0.65,0.46]},\"name\":\"age\",\"offsetgroup\":\"age\",\"orientation\":\"h\",\"showlegend\":false,\"text\":\"\",\"textposition\":\"auto\",\"x\":[1,1,1,1,1],\"xaxis\":\"x5\",\"y\":[\"CM\",\"AC\",\"AC\",\"AC\",\"AC\"],\"yaxis\":\"y5\",\"type\":\"bar\",\"textfont\":{\"size\":4},\"textangle\":0},{\"alignmentgroup\":\"True\",\"base\":[11,8,11],\"hovertemplate\":\"top_bias=age<br>user=gPCb7Uy0pEM0<br>start=%{base}<br>stop=%{x}<br>=%{y}<br>bias_value=%{text}<extra></extra>\",\"legendgroup\":\"age\",\"marker\":{\"color\":\"#636EFA\",\"opacity\":[0.68,0.45,0.3]},\"name\":\"age\",\"offsetgroup\":\"age\",\"orientation\":\"h\",\"showlegend\":false,\"text\":\"\",\"textposition\":\"auto\",\"x\":[1,1,1],\"xaxis\":\"x6\",\"y\":[\"AD\",\"AC\",\"AC\"],\"yaxis\":\"y6\",\"type\":\"bar\",\"textfont\":{\"size\":4},\"textangle\":0},{\"alignmentgroup\":\"True\",\"base\":[1,5,7,1,1,2],\"hovertemplate\":\"top_bias=age<br>user=3Sp3rSvqFsh6<br>start=%{base}<br>stop=%{x}<br>=%{y}<br>bias_value=%{text}<extra></extra>\",\"legendgroup\":\"age\",\"marker\":{\"color\":\"#636EFA\",\"opacity\":[0.76,0.66,0.39,0.55,0.81,0.64]},\"name\":\"age\",\"offsetgroup\":\"age\",\"orientation\":\"h\",\"showlegend\":false,\"text\":\"\",\"textposition\":\"auto\",\"x\":[1,1,1,1,1,1],\"xaxis\":\"x7\",\"y\":[\"AD\",\"AD\",\"AD\",\"HMM\",\"AC\",\"AC\"],\"yaxis\":\"y7\",\"type\":\"bar\",\"textfont\":{\"size\":4},\"textangle\":0},{\"alignmentgroup\":\"True\",\"base\":[3,4,6,7,8,4],\"hovertemplate\":\"top_bias=age<br>user=qFIltQnZAor7<br>start=%{base}<br>stop=%{x}<br>=%{y}<br>bias_value=%{text}<extra></extra>\",\"legendgroup\":\"age\",\"marker\":{\"color\":\"#636EFA\",\"opacity\":[0.85,0.89,0.76,0.87,0.65,0.46]},\"name\":\"age\",\"offsetgroup\":\"age\",\"orientation\":\"h\",\"showlegend\":false,\"text\":\"\",\"textposition\":\"auto\",\"x\":[1,1,1,1,1,1],\"xaxis\":\"x8\",\"y\":[\"AD\",\"AD\",\"AD\",\"AD\",\"AD\",\"AC\"],\"yaxis\":\"y8\",\"type\":\"bar\",\"textfont\":{\"size\":4},\"textangle\":0},{\"alignmentgroup\":\"True\",\"base\":[1,1,3,4,5,6],\"hovertemplate\":\"top_bias=age<br>user=CnOeEROhOZaX<br>start=%{base}<br>stop=%{x}<br>=%{y}<br>bias_value=%{text}<extra></extra>\",\"legendgroup\":\"age\",\"marker\":{\"color\":\"#636EFA\",\"opacity\":[0.79,0.82,0.64,0.65,0.51,0.49]},\"name\":\"age\",\"offsetgroup\":\"age\",\"orientation\":\"h\",\"showlegend\":false,\"text\":\"\",\"textposition\":\"auto\",\"x\":[1,1,1,1,1,1],\"xaxis\":\"x\",\"y\":[\"AD\",\"AC\",\"AC\",\"AC\",\"AC\",\"AC\"],\"yaxis\":\"y\",\"type\":\"bar\",\"textfont\":{\"size\":4},\"textangle\":0},{\"alignmentgroup\":\"True\",\"base\":[1,10,4],\"hovertemplate\":\"top_bias=age<br>user=8D64yb05oRDt<br>start=%{base}<br>stop=%{x}<br>=%{y}<br>bias_value=%{text}<extra></extra>\",\"legendgroup\":\"age\",\"marker\":{\"color\":\"#636EFA\",\"opacity\":[0.6,0.96,0.59]},\"name\":\"age\",\"offsetgroup\":\"age\",\"orientation\":\"h\",\"showlegend\":false,\"text\":\"\",\"textposition\":\"auto\",\"x\":[1,1,1],\"xaxis\":\"x2\",\"y\":[\"AD\",\"AD\",\"HMM\"],\"yaxis\":\"y2\",\"type\":\"bar\",\"textfont\":{\"size\":4},\"textangle\":0},{\"alignmentgroup\":\"True\",\"base\":[6,7],\"hovertemplate\":\"top_bias=age<br>user=r9cpBWj7l0iV<br>start=%{base}<br>stop=%{x}<br>=%{y}<br>bias_value=%{text}<extra></extra>\",\"legendgroup\":\"age\",\"marker\":{\"color\":\"#636EFA\",\"opacity\":[0.46,0.45]},\"name\":\"age\",\"offsetgroup\":\"age\",\"orientation\":\"h\",\"showlegend\":false,\"text\":\"\",\"textposition\":\"auto\",\"x\":[1,1],\"xaxis\":\"x3\",\"y\":[\"AC\",\"AC\"],\"yaxis\":\"y3\",\"type\":\"bar\",\"textfont\":{\"size\":4},\"textangle\":0},{\"alignmentgroup\":\"True\",\"base\":[1,2,3,4,2,3,4,2,3],\"hovertemplate\":\"top_bias=age<br>user=ZY1tfYLxtiya<br>start=%{base}<br>stop=%{x}<br>=%{y}<br>bias_value=%{text}<extra></extra>\",\"legendgroup\":\"age\",\"marker\":{\"color\":\"#636EFA\",\"opacity\":[0.7,0.86,0.96,0.78,0.57,0.6,0.61,0.72,0.64]},\"name\":\"age\",\"offsetgroup\":\"age\",\"orientation\":\"h\",\"showlegend\":false,\"text\":\"\",\"textposition\":\"auto\",\"x\":[1,1,1,1,1,1,1,1,1],\"xaxis\":\"x4\",\"y\":[\"AD\",\"AD\",\"AD\",\"AD\",\"HMM\",\"HMM\",\"HMM\",\"AC\",\"AC\"],\"yaxis\":\"y4\",\"type\":\"bar\",\"textfont\":{\"size\":4},\"textangle\":0},{\"alignmentgroup\":\"True\",\"base\":[2],\"hovertemplate\":\"top_bias=alcohol + marijuana<br>user=lPpxNz1aVtYh<br>start=%{base}<br>stop=%{x}<br>=%{y}<br>bias_value=%{text}<extra></extra>\",\"legendgroup\":\"alcohol + marijuana\",\"marker\":{\"color\":\"#EF553B\",\"opacity\":[0.78]},\"name\":\"alcohol + marijuana\",\"offsetgroup\":\"alcohol + marijuana\",\"orientation\":\"h\",\"showlegend\":true,\"text\":\"\",\"textposition\":\"auto\",\"x\":[1],\"xaxis\":\"x9\",\"y\":[\"AD\"],\"yaxis\":\"y9\",\"type\":\"bar\",\"textfont\":{\"size\":4},\"textangle\":0},{\"alignmentgroup\":\"True\",\"base\":[3],\"hovertemplate\":\"top_bias=political_experience<br>user=lPpxNz1aVtYh<br>start=%{base}<br>stop=%{x}<br>=%{y}<br>bias_value=%{text}<extra></extra>\",\"legendgroup\":\"political_experience\",\"marker\":{\"color\":\"#00CC96\",\"opacity\":[0.6]},\"name\":\"political_experience\",\"offsetgroup\":\"political_experience\",\"orientation\":\"h\",\"showlegend\":true,\"text\":\"\",\"textposition\":\"auto\",\"x\":[1],\"xaxis\":\"x9\",\"y\":[\"AD\"],\"yaxis\":\"y9\",\"type\":\"bar\",\"textfont\":{\"size\":4},\"textangle\":0},{\"alignmentgroup\":\"True\",\"base\":[4],\"hovertemplate\":\"top_bias=political_experience<br>user=xrOuOynQhVbO<br>start=%{base}<br>stop=%{x}<br>=%{y}<br>bias_value=%{text}<extra></extra>\",\"legendgroup\":\"political_experience\",\"marker\":{\"color\":\"#00CC96\",\"opacity\":[0.51]},\"name\":\"political_experience\",\"offsetgroup\":\"political_experience\",\"orientation\":\"h\",\"showlegend\":false,\"text\":\"\",\"textposition\":\"auto\",\"x\":[1],\"xaxis\":\"x10\",\"y\":[\"AD\"],\"yaxis\":\"y10\",\"type\":\"bar\",\"textfont\":{\"size\":4},\"textangle\":0},{\"alignmentgroup\":\"True\",\"base\":[4,6,7,4,6,3,4,6,7],\"hovertemplate\":\"top_bias=political_experience<br>user=6oheLF74hlXc<br>start=%{base}<br>stop=%{x}<br>=%{y}<br>bias_value=%{text}<extra></extra>\",\"legendgroup\":\"political_experience\",\"marker\":{\"color\":\"#00CC96\",\"opacity\":[0.51,0.73,0.8,0.6,0.64,0.59,0.59,0.4,0.36]},\"name\":\"political_experience\",\"offsetgroup\":\"political_experience\",\"orientation\":\"h\",\"showlegend\":false,\"text\":\"\",\"textposition\":\"auto\",\"x\":[1,1,1,1,1,1,1,1,1],\"xaxis\":\"x11\",\"y\":[\"AD\",\"AD\",\"AD\",\"HMM\",\"HMM\",\"AC\",\"AC\",\"AC\",\"AC\"],\"yaxis\":\"y11\",\"type\":\"bar\",\"textfont\":{\"size\":4},\"textangle\":0},{\"alignmentgroup\":\"True\",\"base\":[3,4,5,2,4,5],\"hovertemplate\":\"top_bias=political_experience<br>user=8cPi4CoiSpNN<br>start=%{base}<br>stop=%{x}<br>=%{y}<br>bias_value=%{text}<extra></extra>\",\"legendgroup\":\"political_experience\",\"marker\":{\"color\":\"#00CC96\",\"opacity\":[0.6,0.76,0.84,0.66,0.53,0.53]},\"name\":\"political_experience\",\"offsetgroup\":\"political_experience\",\"orientation\":\"h\",\"showlegend\":false,\"text\":\"\",\"textposition\":\"auto\",\"x\":[1,1,1,1,1,1],\"xaxis\":\"x12\",\"y\":[\"AD\",\"AD\",\"AD\",\"AC\",\"AC\",\"AC\"],\"yaxis\":\"y12\",\"type\":\"bar\",\"textfont\":{\"size\":4},\"textangle\":0},{\"alignmentgroup\":\"True\",\"base\":[2,9],\"hovertemplate\":\"top_bias=political_experience<br>user=hoMzF8Cf1Y5j<br>start=%{base}<br>stop=%{x}<br>=%{y}<br>bias_value=%{text}<extra></extra>\",\"legendgroup\":\"political_experience\",\"marker\":{\"color\":\"#00CC96\",\"opacity\":[0.76,0.95]},\"name\":\"political_experience\",\"offsetgroup\":\"political_experience\",\"orientation\":\"h\",\"showlegend\":false,\"text\":\"\",\"textposition\":\"auto\",\"x\":[1,1],\"xaxis\":\"x5\",\"y\":[\"AD\",\"AD\"],\"yaxis\":\"y5\",\"type\":\"bar\",\"textfont\":{\"size\":4},\"textangle\":0},{\"alignmentgroup\":\"True\",\"base\":[2,4,5,3,4,5],\"hovertemplate\":\"top_bias=political_experience<br>user=gPCb7Uy0pEM0<br>start=%{base}<br>stop=%{x}<br>=%{y}<br>bias_value=%{text}<extra></extra>\",\"legendgroup\":\"political_experience\",\"marker\":{\"color\":\"#00CC96\",\"opacity\":[0.54,0.84,0.9,0.63,0.56,0.57]},\"name\":\"political_experience\",\"offsetgroup\":\"political_experience\",\"orientation\":\"h\",\"showlegend\":false,\"text\":\"\",\"textposition\":\"auto\",\"x\":[1,1,1,1,1,1],\"xaxis\":\"x6\",\"y\":[\"AD\",\"AD\",\"AD\",\"AC\",\"AC\",\"AC\"],\"yaxis\":\"y6\",\"type\":\"bar\",\"textfont\":{\"size\":4},\"textangle\":0},{\"alignmentgroup\":\"True\",\"base\":[2,2],\"hovertemplate\":\"top_bias=political_experience<br>user=3Sp3rSvqFsh6<br>start=%{base}<br>stop=%{x}<br>=%{y}<br>bias_value=%{text}<extra></extra>\",\"legendgroup\":\"political_experience\",\"marker\":{\"color\":\"#00CC96\",\"opacity\":[0.54,0.61]},\"name\":\"political_experience\",\"offsetgroup\":\"political_experience\",\"orientation\":\"h\",\"showlegend\":false,\"text\":\"\",\"textposition\":\"auto\",\"x\":[1,1],\"xaxis\":\"x7\",\"y\":[\"AD\",\"CM\"],\"yaxis\":\"y7\",\"type\":\"bar\",\"textfont\":{\"size\":4},\"textangle\":0},{\"alignmentgroup\":\"True\",\"base\":[5,2,3,2,6],\"hovertemplate\":\"top_bias=political_experience<br>user=qFIltQnZAor7<br>start=%{base}<br>stop=%{x}<br>=%{y}<br>bias_value=%{text}<extra></extra>\",\"legendgroup\":\"political_experience\",\"marker\":{\"color\":\"#00CC96\",\"opacity\":[0.64,0.63,0.61,0.66,0.37]},\"name\":\"political_experience\",\"offsetgroup\":\"political_experience\",\"orientation\":\"h\",\"showlegend\":false,\"text\":\"\",\"textposition\":\"auto\",\"x\":[1,1,1,1,1],\"xaxis\":\"x8\",\"y\":[\"AD\",\"CM\",\"CM\",\"AC\",\"AC\"],\"yaxis\":\"y8\",\"type\":\"bar\",\"textfont\":{\"size\":4},\"textangle\":0},{\"alignmentgroup\":\"True\",\"base\":[2,3,7,8,9,10,12,13,2],\"hovertemplate\":\"top_bias=political_experience<br>user=CnOeEROhOZaX<br>start=%{base}<br>stop=%{x}<br>=%{y}<br>bias_value=%{text}<extra></extra>\",\"legendgroup\":\"political_experience\",\"marker\":{\"color\":\"#00CC96\",\"opacity\":[0.91,0.56,0.74,0.56,0.8,0.67,0.76,0.66,0.74]},\"name\":\"political_experience\",\"offsetgroup\":\"political_experience\",\"orientation\":\"h\",\"showlegend\":false,\"text\":\"\",\"textposition\":\"auto\",\"x\":[1,1,1,1,1,1,1,1,1],\"xaxis\":\"x\",\"y\":[\"AD\",\"AD\",\"AD\",\"AD\",\"AD\",\"AD\",\"AD\",\"AD\",\"AC\"],\"yaxis\":\"y\",\"type\":\"bar\",\"textfont\":{\"size\":4},\"textangle\":0},{\"alignmentgroup\":\"True\",\"base\":[7,8,9],\"hovertemplate\":\"top_bias=political_experience<br>user=8D64yb05oRDt<br>start=%{base}<br>stop=%{x}<br>=%{y}<br>bias_value=%{text}<extra></extra>\",\"legendgroup\":\"political_experience\",\"marker\":{\"color\":\"#00CC96\",\"opacity\":[0.45,0.45,0.46]},\"name\":\"political_experience\",\"offsetgroup\":\"political_experience\",\"orientation\":\"h\",\"showlegend\":false,\"text\":\"\",\"textposition\":\"auto\",\"x\":[1,1,1],\"xaxis\":\"x2\",\"y\":[\"AC\",\"AC\",\"AC\"],\"yaxis\":\"y2\",\"type\":\"bar\",\"textfont\":{\"size\":4},\"textangle\":0},{\"alignmentgroup\":\"True\",\"base\":[1,2,3,4,5,6,7,8,9,10,4,8,9,10],\"hovertemplate\":\"top_bias=political_experience<br>user=r9cpBWj7l0iV<br>start=%{base}<br>stop=%{x}<br>=%{y}<br>bias_value=%{text}<extra></extra>\",\"legendgroup\":\"political_experience\",\"marker\":{\"color\":\"#00CC96\",\"opacity\":[0.61,0.54,0.7,0.84,0.64,0.73,0.8,0.87,0.92,0.91,0.59,0.44,0.44,0.4]},\"name\":\"political_experience\",\"offsetgroup\":\"political_experience\",\"orientation\":\"h\",\"showlegend\":false,\"text\":\"\",\"textposition\":\"auto\",\"x\":[1,1,1,1,1,1,1,1,1,1,1,1,1,1],\"xaxis\":\"x3\",\"y\":[\"AD\",\"AD\",\"AD\",\"AD\",\"AD\",\"AD\",\"AD\",\"AD\",\"AD\",\"AD\",\"AC\",\"AC\",\"AC\",\"AC\"],\"yaxis\":\"y3\",\"type\":\"bar\",\"textfont\":{\"size\":4},\"textangle\":0},{\"alignmentgroup\":\"True\",\"base\":[4,5,7,8,10,4,5],\"hovertemplate\":\"top_bias=gender<br>user=lPpxNz1aVtYh<br>start=%{base}<br>stop=%{x}<br>=%{y}<br>bias_value=%{text}<extra></extra>\",\"legendgroup\":\"gender\",\"marker\":{\"color\":\"#AB63FA\",\"opacity\":[0.69,0.68,0.54,0.53,0.44,0.42,0.42]},\"name\":\"gender\",\"offsetgroup\":\"gender\",\"orientation\":\"h\",\"showlegend\":true,\"text\":\"\",\"textposition\":\"auto\",\"x\":[1,1,1,1,1,1,1],\"xaxis\":\"x9\",\"y\":[\"AD\",\"AD\",\"AD\",\"AD\",\"AD\",\"AC\",\"AC\"],\"yaxis\":\"y9\",\"type\":\"bar\",\"textfont\":{\"size\":4},\"textangle\":0},{\"alignmentgroup\":\"True\",\"base\":[1,6,8,11,12,13,14],\"hovertemplate\":\"top_bias=gender<br>user=xrOuOynQhVbO<br>start=%{base}<br>stop=%{x}<br>=%{y}<br>bias_value=%{text}<extra></extra>\",\"legendgroup\":\"gender\",\"marker\":{\"color\":\"#AB63FA\",\"opacity\":[0.57,0.63,0.67,0.66,0.69,0.7,0.72]},\"name\":\"gender\",\"offsetgroup\":\"gender\",\"orientation\":\"h\",\"showlegend\":false,\"text\":\"\",\"textposition\":\"auto\",\"x\":[1,1,1,1,1,1,1],\"xaxis\":\"x10\",\"y\":[\"HMM\",\"HMM\",\"HMM\",\"HMM\",\"HMM\",\"HMM\",\"HMM\"],\"yaxis\":\"y10\",\"type\":\"bar\",\"textfont\":{\"size\":4},\"textangle\":0},{\"alignmentgroup\":\"True\",\"base\":[2],\"hovertemplate\":\"top_bias=gender<br>user=6oheLF74hlXc<br>start=%{base}<br>stop=%{x}<br>=%{y}<br>bias_value=%{text}<extra></extra>\",\"legendgroup\":\"gender\",\"marker\":{\"color\":\"#AB63FA\",\"opacity\":[0.64]},\"name\":\"gender\",\"offsetgroup\":\"gender\",\"orientation\":\"h\",\"showlegend\":false,\"text\":\"\",\"textposition\":\"auto\",\"x\":[1],\"xaxis\":\"x11\",\"y\":[\"CM\"],\"yaxis\":\"y11\",\"type\":\"bar\",\"textfont\":{\"size\":4},\"textangle\":0},{\"alignmentgroup\":\"True\",\"base\":[1,3,4,5,6],\"hovertemplate\":\"top_bias=gender<br>user=8cPi4CoiSpNN<br>start=%{base}<br>stop=%{x}<br>=%{y}<br>bias_value=%{text}<extra></extra>\",\"legendgroup\":\"gender\",\"marker\":{\"color\":\"#AB63FA\",\"opacity\":[0.54,0.6,0.62,0.64,0.64]},\"name\":\"gender\",\"offsetgroup\":\"gender\",\"orientation\":\"h\",\"showlegend\":false,\"text\":\"\",\"textposition\":\"auto\",\"x\":[1,1,1,1,1],\"xaxis\":\"x12\",\"y\":[\"HMM\",\"HMM\",\"HMM\",\"HMM\",\"HMM\"],\"yaxis\":\"y12\",\"type\":\"bar\",\"textfont\":{\"size\":4},\"textangle\":0},{\"alignmentgroup\":\"True\",\"base\":[6,8,9,10],\"hovertemplate\":\"top_bias=gender<br>user=gPCb7Uy0pEM0<br>start=%{base}<br>stop=%{x}<br>=%{y}<br>bias_value=%{text}<extra></extra>\",\"legendgroup\":\"gender\",\"marker\":{\"color\":\"#AB63FA\",\"opacity\":[0.85,0.76,0.93,0.68]},\"name\":\"gender\",\"offsetgroup\":\"gender\",\"orientation\":\"h\",\"showlegend\":false,\"text\":\"\",\"textposition\":\"auto\",\"x\":[1,1,1,1],\"xaxis\":\"x6\",\"y\":[\"AD\",\"AD\",\"AD\",\"AD\"],\"yaxis\":\"y6\",\"type\":\"bar\",\"textfont\":{\"size\":4},\"textangle\":0},{\"alignmentgroup\":\"True\",\"base\":[8,9],\"hovertemplate\":\"top_bias=gender<br>user=3Sp3rSvqFsh6<br>start=%{base}<br>stop=%{x}<br>=%{y}<br>bias_value=%{text}<extra></extra>\",\"legendgroup\":\"gender\",\"marker\":{\"color\":\"#AB63FA\",\"opacity\":[0.69,0.7]},\"name\":\"gender\",\"offsetgroup\":\"gender\",\"orientation\":\"h\",\"showlegend\":false,\"text\":\"\",\"textposition\":\"auto\",\"x\":[1,1],\"xaxis\":\"x7\",\"y\":[\"HMM\",\"HMM\"],\"yaxis\":\"y7\",\"type\":\"bar\",\"textfont\":{\"size\":4},\"textangle\":0},{\"alignmentgroup\":\"True\",\"base\":[9,10,10,11],\"hovertemplate\":\"top_bias=gender<br>user=qFIltQnZAor7<br>start=%{base}<br>stop=%{x}<br>=%{y}<br>bias_value=%{text}<extra></extra>\",\"legendgroup\":\"gender\",\"marker\":{\"color\":\"#AB63FA\",\"opacity\":[0.52,0.76,0.66,0.66]},\"name\":\"gender\",\"offsetgroup\":\"gender\",\"orientation\":\"h\",\"showlegend\":false,\"text\":\"\",\"textposition\":\"auto\",\"x\":[1,1,1,1],\"xaxis\":\"x8\",\"y\":[\"AD\",\"AD\",\"HMM\",\"HMM\"],\"yaxis\":\"y8\",\"type\":\"bar\",\"textfont\":{\"size\":4},\"textangle\":0},{\"alignmentgroup\":\"True\",\"base\":[2],\"hovertemplate\":\"top_bias=gender<br>user=CnOeEROhOZaX<br>start=%{base}<br>stop=%{x}<br>=%{y}<br>bias_value=%{text}<extra></extra>\",\"legendgroup\":\"gender\",\"marker\":{\"color\":\"#AB63FA\",\"opacity\":[0.68]},\"name\":\"gender\",\"offsetgroup\":\"gender\",\"orientation\":\"h\",\"showlegend\":false,\"text\":\"\",\"textposition\":\"auto\",\"x\":[1],\"xaxis\":\"x\",\"y\":[\"CM\"],\"yaxis\":\"y\",\"type\":\"bar\",\"textfont\":{\"size\":4},\"textangle\":0},{\"alignmentgroup\":\"True\",\"base\":[3],\"hovertemplate\":\"top_bias=gender<br>user=8D64yb05oRDt<br>start=%{base}<br>stop=%{x}<br>=%{y}<br>bias_value=%{text}<extra></extra>\",\"legendgroup\":\"gender\",\"marker\":{\"color\":\"#AB63FA\",\"opacity\":[0.69]},\"name\":\"gender\",\"offsetgroup\":\"gender\",\"orientation\":\"h\",\"showlegend\":false,\"text\":\"\",\"textposition\":\"auto\",\"x\":[1],\"xaxis\":\"x2\",\"y\":[\"AD\"],\"yaxis\":\"y2\",\"type\":\"bar\",\"textfont\":{\"size\":4},\"textangle\":0},{\"alignmentgroup\":\"True\",\"base\":[2,3],\"hovertemplate\":\"top_bias=gender<br>user=ZY1tfYLxtiya<br>start=%{base}<br>stop=%{x}<br>=%{y}<br>bias_value=%{text}<extra></extra>\",\"legendgroup\":\"gender\",\"marker\":{\"color\":\"#AB63FA\",\"opacity\":[0.67,0.92]},\"name\":\"gender\",\"offsetgroup\":\"gender\",\"orientation\":\"h\",\"showlegend\":false,\"text\":\"\",\"textposition\":\"auto\",\"x\":[1,1],\"xaxis\":\"x4\",\"y\":[\"CM\",\"CM\"],\"yaxis\":\"y4\",\"type\":\"bar\",\"textfont\":{\"size\":4},\"textangle\":0},{\"alignmentgroup\":\"True\",\"base\":[9,5,6,7,8,9,10,6,7,8,9,10],\"hovertemplate\":\"top_bias=occupation<br>user=lPpxNz1aVtYh<br>start=%{base}<br>stop=%{x}<br>=%{y}<br>bias_value=%{text}<extra></extra>\",\"legendgroup\":\"occupation\",\"marker\":{\"color\":\"#FFA15A\",\"opacity\":[0.53,0.93,0.98,0.99,1.0,1.0,1.0,0.35,0.36,0.38,0.35,0.35]},\"name\":\"occupation\",\"offsetgroup\":\"occupation\",\"orientation\":\"h\",\"showlegend\":true,\"text\":\"\",\"textposition\":\"auto\",\"x\":[1,1,1,1,1,1,1,1,1,1,1,1],\"xaxis\":\"x9\",\"y\":[\"AD\",\"CM\",\"CM\",\"CM\",\"CM\",\"CM\",\"CM\",\"AC\",\"AC\",\"AC\",\"AC\",\"AC\"],\"yaxis\":\"y9\",\"type\":\"bar\",\"textfont\":{\"size\":4},\"textangle\":0},{\"alignmentgroup\":\"True\",\"base\":[2,3,5,6,2,3,4,5,6,7,8,9,10,11,12,13,14,1,2,3,4,5],\"hovertemplate\":\"top_bias=occupation<br>user=xrOuOynQhVbO<br>start=%{base}<br>stop=%{x}<br>=%{y}<br>bias_value=%{text}<extra></extra>\",\"legendgroup\":\"occupation\",\"marker\":{\"color\":\"#FFA15A\",\"opacity\":[0.32,0.58,0.32,0.17,0.72,0.93,0.98,1.0,1.0,1.0,1.0,1.0,1.0,1.0,1.0,1.0,1.0,0.85,0.68,0.66,0.47,0.44]},\"name\":\"occupation\",\"offsetgroup\":\"occupation\",\"orientation\":\"h\",\"showlegend\":false,\"text\":\"\",\"textposition\":\"auto\",\"x\":[1,1,1,1,1,1,1,1,1,1,1,1,1,1,1,1,1,1,1,1,1,1],\"xaxis\":\"x10\",\"y\":[\"AD\",\"AD\",\"AD\",\"AD\",\"CM\",\"CM\",\"CM\",\"CM\",\"CM\",\"CM\",\"CM\",\"CM\",\"CM\",\"CM\",\"CM\",\"CM\",\"CM\",\"AC\",\"AC\",\"AC\",\"AC\",\"AC\"],\"yaxis\":\"y10\",\"type\":\"bar\",\"textfont\":{\"size\":4},\"textangle\":0},{\"alignmentgroup\":\"True\",\"base\":[2,3,3,4,5,6,7,8,9,10,1,2,5],\"hovertemplate\":\"top_bias=occupation<br>user=6oheLF74hlXc<br>start=%{base}<br>stop=%{x}<br>=%{y}<br>bias_value=%{text}<extra></extra>\",\"legendgroup\":\"occupation\",\"marker\":{\"color\":\"#FFA15A\",\"opacity\":[0.58,0.58,0.83,0.98,1.0,1.0,1.0,1.0,1.0,1.0,0.74,0.74,0.53]},\"name\":\"occupation\",\"offsetgroup\":\"occupation\",\"orientation\":\"h\",\"showlegend\":false,\"text\":\"\",\"textposition\":\"auto\",\"x\":[1,1,1,1,1,1,1,1,1,1,1,1,1],\"xaxis\":\"x11\",\"y\":[\"AD\",\"AD\",\"CM\",\"CM\",\"CM\",\"CM\",\"CM\",\"CM\",\"CM\",\"CM\",\"AC\",\"AC\",\"AC\"],\"yaxis\":\"y11\",\"type\":\"bar\",\"textfont\":{\"size\":4},\"textangle\":0},{\"alignmentgroup\":\"True\",\"base\":[2,3,4,5,6,7,8,9,1],\"hovertemplate\":\"top_bias=occupation<br>user=8cPi4CoiSpNN<br>start=%{base}<br>stop=%{x}<br>=%{y}<br>bias_value=%{text}<extra></extra>\",\"legendgroup\":\"occupation\",\"marker\":{\"color\":\"#FFA15A\",\"opacity\":[0.73,0.89,0.99,1.0,1.0,1.0,1.0,1.0,0.84]},\"name\":\"occupation\",\"offsetgroup\":\"occupation\",\"orientation\":\"h\",\"showlegend\":false,\"text\":\"\",\"textposition\":\"auto\",\"x\":[1,1,1,1,1,1,1,1,1],\"xaxis\":\"x12\",\"y\":[\"CM\",\"CM\",\"CM\",\"CM\",\"CM\",\"CM\",\"CM\",\"CM\",\"AC\"],\"yaxis\":\"y12\",\"type\":\"bar\",\"textfont\":{\"size\":4},\"textangle\":0},{\"alignmentgroup\":\"True\",\"base\":[1,3,4,5,7,8,9,7,8,9],\"hovertemplate\":\"top_bias=occupation<br>user=hoMzF8Cf1Y5j<br>start=%{base}<br>stop=%{x}<br>=%{y}<br>bias_value=%{text}<extra></extra>\",\"legendgroup\":\"occupation\",\"marker\":{\"color\":\"#FFA15A\",\"opacity\":[0.46,0.7,0.86,0.97,0.99,1.0,1.0,0.35,0.36,0.38]},\"name\":\"occupation\",\"offsetgroup\":\"occupation\",\"orientation\":\"h\",\"showlegend\":false,\"text\":\"\",\"textposition\":\"auto\",\"x\":[1,1,1,1,1,1,1,1,1,1],\"xaxis\":\"x5\",\"y\":[\"AD\",\"CM\",\"CM\",\"CM\",\"CM\",\"CM\",\"CM\",\"AC\",\"AC\",\"AC\"],\"yaxis\":\"y5\",\"type\":\"bar\",\"textfont\":{\"size\":4},\"textangle\":0},{\"alignmentgroup\":\"True\",\"base\":[2,3,4,5,6,7,8,9,10,11,1,6,7],\"hovertemplate\":\"top_bias=occupation<br>user=gPCb7Uy0pEM0<br>start=%{base}<br>stop=%{x}<br>=%{y}<br>bias_value=%{text}<extra></extra>\",\"legendgroup\":\"occupation\",\"marker\":{\"color\":\"#FFA15A\",\"opacity\":[0.79,0.9,0.98,0.99,1.0,1.0,1.0,1.0,1.0,1.0,0.85,0.45,0.45]},\"name\":\"occupation\",\"offsetgroup\":\"occupation\",\"orientation\":\"h\",\"showlegend\":false,\"text\":\"\",\"textposition\":\"auto\",\"x\":[1,1,1,1,1,1,1,1,1,1,1,1,1],\"xaxis\":\"x6\",\"y\":[\"CM\",\"CM\",\"CM\",\"CM\",\"CM\",\"CM\",\"CM\",\"CM\",\"CM\",\"CM\",\"AC\",\"AC\",\"AC\"],\"yaxis\":\"y6\",\"type\":\"bar\",\"textfont\":{\"size\":4},\"textangle\":0},{\"alignmentgroup\":\"True\",\"base\":[3,4,8,9,4,4,5,6,7,8,9,3,4,5,6,7,8,9],\"hovertemplate\":\"top_bias=occupation<br>user=3Sp3rSvqFsh6<br>start=%{base}<br>stop=%{x}<br>=%{y}<br>bias_value=%{text}<extra></extra>\",\"legendgroup\":\"occupation\",\"marker\":{\"color\":\"#FFA15A\",\"opacity\":[0.52,0.8,0.58,0.53,0.59,0.81,0.97,0.98,0.99,1.0,1.0,0.51,0.53,0.5,0.49,0.43,0.44,0.44]},\"name\":\"occupation\",\"offsetgroup\":\"occupation\",\"orientation\":\"h\",\"showlegend\":false,\"text\":\"\",\"textposition\":\"auto\",\"x\":[1,1,1,1,1,1,1,1,1,1,1,1,1,1,1,1,1,1],\"xaxis\":\"x7\",\"y\":[\"AD\",\"AD\",\"AD\",\"AD\",\"HMM\",\"CM\",\"CM\",\"CM\",\"CM\",\"CM\",\"CM\",\"AC\",\"AC\",\"AC\",\"AC\",\"AC\",\"AC\",\"AC\"],\"yaxis\":\"y7\",\"type\":\"bar\",\"textfont\":{\"size\":4},\"textangle\":0},{\"alignmentgroup\":\"True\",\"base\":[4,5,6,7,8,9,10,11,1,3,5,7,8,9],\"hovertemplate\":\"top_bias=occupation<br>user=qFIltQnZAor7<br>start=%{base}<br>stop=%{x}<br>=%{y}<br>bias_value=%{text}<extra></extra>\",\"legendgroup\":\"occupation\",\"marker\":{\"color\":\"#FFA15A\",\"opacity\":[0.97,0.97,0.99,1.0,1.0,1.0,1.0,1.0,0.72,0.58,0.39,0.35,0.33,0.34]},\"name\":\"occupation\",\"offsetgroup\":\"occupation\",\"orientation\":\"h\",\"showlegend\":false,\"text\":\"\",\"textposition\":\"auto\",\"x\":[1,1,1,1,1,1,1,1,1,1,1,1,1,1],\"xaxis\":\"x8\",\"y\":[\"CM\",\"CM\",\"CM\",\"CM\",\"CM\",\"CM\",\"CM\",\"CM\",\"AC\",\"AC\",\"AC\",\"AC\",\"AC\",\"AC\"],\"yaxis\":\"y8\",\"type\":\"bar\",\"textfont\":{\"size\":4},\"textangle\":0},{\"alignmentgroup\":\"True\",\"base\":[5,6,14,15,14,15,3,4,5,6,7,8,9,10,11,12,13,14,15,7,8,9,10,11,12,13,14,15],\"hovertemplate\":\"top_bias=occupation<br>user=CnOeEROhOZaX<br>start=%{base}<br>stop=%{x}<br>=%{y}<br>bias_value=%{text}<extra></extra>\",\"legendgroup\":\"occupation\",\"marker\":{\"color\":\"#FFA15A\",\"opacity\":[0.32,0.5,0.68,0.63,0.69,0.71,0.93,0.97,0.99,1.0,1.0,1.0,1.0,1.0,1.0,1.0,1.0,1.0,1.0,0.49,0.43,0.41,0.4,0.4,0.4,0.4,0.4,0.4]},\"name\":\"occupation\",\"offsetgroup\":\"occupation\",\"orientation\":\"h\",\"showlegend\":false,\"text\":\"\",\"textposition\":\"auto\",\"x\":[1,1,1,1,1,1,1,1,1,1,1,1,1,1,1,1,1,1,1,1,1,1,1,1,1,1,1,1],\"xaxis\":\"x\",\"y\":[\"AD\",\"AD\",\"AD\",\"AD\",\"HMM\",\"HMM\",\"CM\",\"CM\",\"CM\",\"CM\",\"CM\",\"CM\",\"CM\",\"CM\",\"CM\",\"CM\",\"CM\",\"CM\",\"CM\",\"AC\",\"AC\",\"AC\",\"AC\",\"AC\",\"AC\",\"AC\",\"AC\",\"AC\"],\"yaxis\":\"y\",\"type\":\"bar\",\"textfont\":{\"size\":4},\"textangle\":0},{\"alignmentgroup\":\"True\",\"base\":[1,2,3,6,4,5,6,7,8,9,10,3,4,5,6,10],\"hovertemplate\":\"top_bias=occupation<br>user=8D64yb05oRDt<br>start=%{base}<br>stop=%{x}<br>=%{y}<br>bias_value=%{text}<extra></extra>\",\"legendgroup\":\"occupation\",\"marker\":{\"color\":\"#FFA15A\",\"opacity\":[0.54,0.55,0.59,0.65,0.96,0.99,1.0,1.0,1.0,1.0,1.0,0.58,0.58,0.58,0.58,0.38]},\"name\":\"occupation\",\"offsetgroup\":\"occupation\",\"orientation\":\"h\",\"showlegend\":false,\"text\":\"\",\"textposition\":\"auto\",\"x\":[1,1,1,1,1,1,1,1,1,1,1,1,1,1,1,1],\"xaxis\":\"x2\",\"y\":[\"HMM\",\"HMM\",\"HMM\",\"HMM\",\"CM\",\"CM\",\"CM\",\"CM\",\"CM\",\"CM\",\"CM\",\"AC\",\"AC\",\"AC\",\"AC\",\"AC\"],\"yaxis\":\"y2\",\"type\":\"bar\",\"textfont\":{\"size\":4},\"textangle\":0},{\"alignmentgroup\":\"True\",\"base\":[2,3,4,5,6,7,8,9,10,1,2,3,5],\"hovertemplate\":\"top_bias=occupation<br>user=r9cpBWj7l0iV<br>start=%{base}<br>stop=%{x}<br>=%{y}<br>bias_value=%{text}<extra></extra>\",\"legendgroup\":\"occupation\",\"marker\":{\"color\":\"#FFA15A\",\"opacity\":[0.75,0.86,1.0,1.0,1.0,1.0,1.0,1.0,1.0,0.84,0.67,0.69,0.49]},\"name\":\"occupation\",\"offsetgroup\":\"occupation\",\"orientation\":\"h\",\"showlegend\":false,\"text\":\"\",\"textposition\":\"auto\",\"x\":[1,1,1,1,1,1,1,1,1,1,1,1,1],\"xaxis\":\"x3\",\"y\":[\"CM\",\"CM\",\"CM\",\"CM\",\"CM\",\"CM\",\"CM\",\"CM\",\"CM\",\"AC\",\"AC\",\"AC\",\"AC\"],\"yaxis\":\"y3\",\"type\":\"bar\",\"textfont\":{\"size\":4},\"textangle\":0},{\"alignmentgroup\":\"True\",\"base\":[6,7,8,9,10,11,12,13,5,6,7,8,9,10,11,12,13,4,5,6,7,8,9,10,11,12,13,1,4,5,6,7,8,9,10,11,12,13],\"hovertemplate\":\"top_bias=occupation<br>user=ZY1tfYLxtiya<br>start=%{base}<br>stop=%{x}<br>=%{y}<br>bias_value=%{text}<extra></extra>\",\"legendgroup\":\"occupation\",\"marker\":{\"color\":\"#FFA15A\",\"opacity\":[0.76,0.8,0.91,0.89,0.78,0.8,0.93,0.85,0.63,0.65,0.67,0.66,0.69,0.71,0.68,0.7,0.73,0.94,0.99,1.0,1.0,1.0,1.0,1.0,1.0,1.0,1.0,0.74,0.58,0.58,0.58,0.58,0.58,0.58,0.43,0.43,0.44,0.4]},\"name\":\"occupation\",\"offsetgroup\":\"occupation\",\"orientation\":\"h\",\"showlegend\":false,\"text\":\"\",\"textposition\":\"auto\",\"x\":[1,1,1,1,1,1,1,1,1,1,1,1,1,1,1,1,1,1,1,1,1,1,1,1,1,1,1,1,1,1,1,1,1,1,1,1,1,1],\"xaxis\":\"x4\",\"y\":[\"AD\",\"AD\",\"AD\",\"AD\",\"AD\",\"AD\",\"AD\",\"AD\",\"HMM\",\"HMM\",\"HMM\",\"HMM\",\"HMM\",\"HMM\",\"HMM\",\"HMM\",\"HMM\",\"CM\",\"CM\",\"CM\",\"CM\",\"CM\",\"CM\",\"CM\",\"CM\",\"CM\",\"CM\",\"AC\",\"AC\",\"AC\",\"AC\",\"AC\",\"AC\",\"AC\",\"AC\",\"AC\",\"AC\",\"AC\"],\"yaxis\":\"y4\",\"type\":\"bar\",\"textfont\":{\"size\":4},\"textangle\":0},{\"alignmentgroup\":\"True\",\"base\":[2],\"hovertemplate\":\"top_bias=medicare<br>user=lPpxNz1aVtYh<br>start=%{base}<br>stop=%{x}<br>=%{y}<br>bias_value=%{text}<extra></extra>\",\"legendgroup\":\"medicare\",\"marker\":{\"color\":\"#19D3F3\",\"opacity\":[0.56]},\"name\":\"medicare\",\"offsetgroup\":\"medicare\",\"orientation\":\"h\",\"showlegend\":true,\"text\":\"\",\"textposition\":\"auto\",\"x\":[1],\"xaxis\":\"x9\",\"y\":[\"HMM\"],\"yaxis\":\"y9\",\"type\":\"bar\",\"textfont\":{\"size\":4},\"textangle\":0},{\"alignmentgroup\":\"True\",\"base\":[8,9,10,11,13,14,4,5,6,7,8,9,10],\"hovertemplate\":\"top_bias=medicare<br>user=xrOuOynQhVbO<br>start=%{base}<br>stop=%{x}<br>=%{y}<br>bias_value=%{text}<extra></extra>\",\"legendgroup\":\"medicare\",\"marker\":{\"color\":\"#19D3F3\",\"opacity\":[0.7,0.85,0.71,0.54,0.39,0.43,0.63,0.64,0.33,0.34,0.34,0.35,0.33]},\"name\":\"medicare\",\"offsetgroup\":\"medicare\",\"orientation\":\"h\",\"showlegend\":false,\"text\":\"\",\"textposition\":\"auto\",\"x\":[1,1,1,1,1,1,1,1,1,1,1,1,1],\"xaxis\":\"x10\",\"y\":[\"AD\",\"AD\",\"AD\",\"AD\",\"AD\",\"AD\",\"HMM\",\"HMM\",\"AC\",\"AC\",\"AC\",\"AC\",\"AC\"],\"yaxis\":\"y10\",\"type\":\"bar\",\"textfont\":{\"size\":4},\"textangle\":0},{\"alignmentgroup\":\"True\",\"base\":[3],\"hovertemplate\":\"top_bias=medicare<br>user=6oheLF74hlXc<br>start=%{base}<br>stop=%{x}<br>=%{y}<br>bias_value=%{text}<extra></extra>\",\"legendgroup\":\"medicare\",\"marker\":{\"color\":\"#19D3F3\",\"opacity\":[0.57]},\"name\":\"medicare\",\"offsetgroup\":\"medicare\",\"orientation\":\"h\",\"showlegend\":false,\"text\":\"\",\"textposition\":\"auto\",\"x\":[1],\"xaxis\":\"x11\",\"y\":[\"HMM\"],\"yaxis\":\"y11\",\"type\":\"bar\",\"textfont\":{\"size\":4},\"textangle\":0},{\"alignmentgroup\":\"True\",\"base\":[5,9],\"hovertemplate\":\"top_bias=medicare<br>user=hoMzF8Cf1Y5j<br>start=%{base}<br>stop=%{x}<br>=%{y}<br>bias_value=%{text}<extra></extra>\",\"legendgroup\":\"medicare\",\"marker\":{\"color\":\"#19D3F3\",\"opacity\":[0.63,0.67]},\"name\":\"medicare\",\"offsetgroup\":\"medicare\",\"orientation\":\"h\",\"showlegend\":false,\"text\":\"\",\"textposition\":\"auto\",\"x\":[1,1],\"xaxis\":\"x5\",\"y\":[\"HMM\",\"HMM\"],\"yaxis\":\"y5\",\"type\":\"bar\",\"textfont\":{\"size\":4},\"textangle\":0},{\"alignmentgroup\":\"True\",\"base\":[6],\"hovertemplate\":\"top_bias=medicare<br>user=3Sp3rSvqFsh6<br>start=%{base}<br>stop=%{x}<br>=%{y}<br>bias_value=%{text}<extra></extra>\",\"legendgroup\":\"medicare\",\"marker\":{\"color\":\"#19D3F3\",\"opacity\":[0.65]},\"name\":\"medicare\",\"offsetgroup\":\"medicare\",\"orientation\":\"h\",\"showlegend\":false,\"text\":\"\",\"textposition\":\"auto\",\"x\":[1],\"xaxis\":\"x7\",\"y\":[\"AD\"],\"yaxis\":\"y7\",\"type\":\"bar\",\"textfont\":{\"size\":4},\"textangle\":0},{\"alignmentgroup\":\"True\",\"base\":[2,4,5,6,7,8,9,2],\"hovertemplate\":\"top_bias=medicare<br>user=8D64yb05oRDt<br>start=%{base}<br>stop=%{x}<br>=%{y}<br>bias_value=%{text}<extra></extra>\",\"legendgroup\":\"medicare\",\"marker\":{\"color\":\"#19D3F3\",\"opacity\":[0.91,0.87,0.96,0.88,0.96,0.9,0.96,0.65]},\"name\":\"medicare\",\"offsetgroup\":\"medicare\",\"orientation\":\"h\",\"showlegend\":false,\"text\":\"\",\"textposition\":\"auto\",\"x\":[1,1,1,1,1,1,1,1],\"xaxis\":\"x2\",\"y\":[\"AD\",\"AD\",\"AD\",\"AD\",\"AD\",\"AD\",\"AD\",\"AC\"],\"yaxis\":\"y2\",\"type\":\"bar\",\"textfont\":{\"size\":4},\"textangle\":0},{\"alignmentgroup\":\"True\",\"base\":[3,4,5,6,7,8,9],\"hovertemplate\":\"top_bias=alcohol<br>user=lPpxNz1aVtYh<br>start=%{base}<br>stop=%{x}<br>=%{y}<br>bias_value=%{text}<extra></extra>\",\"legendgroup\":\"alcohol\",\"marker\":{\"color\":\"#FF6692\",\"opacity\":[0.58,0.61,0.64,0.66,0.71,0.71,0.71]},\"name\":\"alcohol\",\"offsetgroup\":\"alcohol\",\"orientation\":\"h\",\"showlegend\":true,\"text\":\"\",\"textposition\":\"auto\",\"x\":[1,1,1,1,1,1,1],\"xaxis\":\"x9\",\"y\":[\"HMM\",\"HMM\",\"HMM\",\"HMM\",\"HMM\",\"HMM\",\"HMM\"],\"yaxis\":\"y9\",\"type\":\"bar\",\"textfont\":{\"size\":4},\"textangle\":0},{\"alignmentgroup\":\"True\",\"base\":[7,8,9,10],\"hovertemplate\":\"top_bias=alcohol<br>user=6oheLF74hlXc<br>start=%{base}<br>stop=%{x}<br>=%{y}<br>bias_value=%{text}<extra></extra>\",\"legendgroup\":\"alcohol\",\"marker\":{\"color\":\"#FF6692\",\"opacity\":[0.65,0.67,0.66,0.67]},\"name\":\"alcohol\",\"offsetgroup\":\"alcohol\",\"orientation\":\"h\",\"showlegend\":false,\"text\":\"\",\"textposition\":\"auto\",\"x\":[1,1,1,1],\"xaxis\":\"x11\",\"y\":[\"HMM\",\"HMM\",\"HMM\",\"HMM\"],\"yaxis\":\"y11\",\"type\":\"bar\",\"textfont\":{\"size\":4},\"textangle\":0},{\"alignmentgroup\":\"True\",\"base\":[6,7,8,9],\"hovertemplate\":\"top_bias=alcohol<br>user=8cPi4CoiSpNN<br>start=%{base}<br>stop=%{x}<br>=%{y}<br>bias_value=%{text}<extra></extra>\",\"legendgroup\":\"alcohol\",\"marker\":{\"color\":\"#FF6692\",\"opacity\":[0.74,0.67,0.68,0.67]},\"name\":\"alcohol\",\"offsetgroup\":\"alcohol\",\"orientation\":\"h\",\"showlegend\":false,\"text\":\"\",\"textposition\":\"auto\",\"x\":[1,1,1,1],\"xaxis\":\"x12\",\"y\":[\"AD\",\"HMM\",\"HMM\",\"HMM\"],\"yaxis\":\"y12\",\"type\":\"bar\",\"textfont\":{\"size\":4},\"textangle\":0},{\"alignmentgroup\":\"True\",\"base\":[7,8,1,7,8],\"hovertemplate\":\"top_bias=alcohol<br>user=hoMzF8Cf1Y5j<br>start=%{base}<br>stop=%{x}<br>=%{y}<br>bias_value=%{text}<extra></extra>\",\"legendgroup\":\"alcohol\",\"marker\":{\"color\":\"#FF6692\",\"opacity\":[0.86,0.92,0.56,0.68,0.69]},\"name\":\"alcohol\",\"offsetgroup\":\"alcohol\",\"orientation\":\"h\",\"showlegend\":false,\"text\":\"\",\"textposition\":\"auto\",\"x\":[1,1,1,1,1],\"xaxis\":\"x5\",\"y\":[\"AD\",\"AD\",\"HMM\",\"HMM\",\"HMM\"],\"yaxis\":\"y5\",\"type\":\"bar\",\"textfont\":{\"size\":4},\"textangle\":0},{\"alignmentgroup\":\"True\",\"base\":[7,7,8,9,10,11,9,10],\"hovertemplate\":\"top_bias=alcohol<br>user=gPCb7Uy0pEM0<br>start=%{base}<br>stop=%{x}<br>=%{y}<br>bias_value=%{text}<extra></extra>\",\"legendgroup\":\"alcohol\",\"marker\":{\"color\":\"#FF6692\",\"opacity\":[0.63,0.66,0.72,0.73,0.69,0.7,0.37,0.3]},\"name\":\"alcohol\",\"offsetgroup\":\"alcohol\",\"orientation\":\"h\",\"showlegend\":false,\"text\":\"\",\"textposition\":\"auto\",\"x\":[1,1,1,1,1,1,1,1],\"xaxis\":\"x6\",\"y\":[\"AD\",\"HMM\",\"HMM\",\"HMM\",\"HMM\",\"HMM\",\"AC\",\"AC\"],\"yaxis\":\"y6\",\"type\":\"bar\",\"textfont\":{\"size\":4},\"textangle\":0},{\"alignmentgroup\":\"True\",\"base\":[2],\"hovertemplate\":\"top_bias=alcohol<br>user=qFIltQnZAor7<br>start=%{base}<br>stop=%{x}<br>=%{y}<br>bias_value=%{text}<extra></extra>\",\"legendgroup\":\"alcohol\",\"marker\":{\"color\":\"#FF6692\",\"opacity\":[0.82]},\"name\":\"alcohol\",\"offsetgroup\":\"alcohol\",\"orientation\":\"h\",\"showlegend\":false,\"text\":\"\",\"textposition\":\"auto\",\"x\":[1],\"xaxis\":\"x8\",\"y\":[\"AD\"],\"yaxis\":\"y8\",\"type\":\"bar\",\"textfont\":{\"size\":4},\"textangle\":0},{\"alignmentgroup\":\"True\",\"base\":[4,1,2,3,4,5,6,7,8,9,10,11,12,13],\"hovertemplate\":\"top_bias=alcohol<br>user=CnOeEROhOZaX<br>start=%{base}<br>stop=%{x}<br>=%{y}<br>bias_value=%{text}<extra></extra>\",\"legendgroup\":\"alcohol\",\"marker\":{\"color\":\"#FF6692\",\"opacity\":[0.66,0.55,0.58,0.59,0.59,0.62,0.63,0.64,0.67,0.68,0.69,0.71,0.7,0.7]},\"name\":\"alcohol\",\"offsetgroup\":\"alcohol\",\"orientation\":\"h\",\"showlegend\":false,\"text\":\"\",\"textposition\":\"auto\",\"x\":[1,1,1,1,1,1,1,1,1,1,1,1,1,1],\"xaxis\":\"x\",\"y\":[\"AD\",\"HMM\",\"HMM\",\"HMM\",\"HMM\",\"HMM\",\"HMM\",\"HMM\",\"HMM\",\"HMM\",\"HMM\",\"HMM\",\"HMM\",\"HMM\"],\"yaxis\":\"y\",\"type\":\"bar\",\"textfont\":{\"size\":4},\"textangle\":0},{\"alignmentgroup\":\"True\",\"base\":[5,7,8,9,10,1],\"hovertemplate\":\"top_bias=alcohol<br>user=8D64yb05oRDt<br>start=%{base}<br>stop=%{x}<br>=%{y}<br>bias_value=%{text}<extra></extra>\",\"legendgroup\":\"alcohol\",\"marker\":{\"color\":\"#FF6692\",\"opacity\":[0.63,0.67,0.69,0.72,0.7,0.74]},\"name\":\"alcohol\",\"offsetgroup\":\"alcohol\",\"orientation\":\"h\",\"showlegend\":false,\"text\":\"\",\"textposition\":\"auto\",\"x\":[1,1,1,1,1,1],\"xaxis\":\"x2\",\"y\":[\"HMM\",\"HMM\",\"HMM\",\"HMM\",\"HMM\",\"AC\"],\"yaxis\":\"y2\",\"type\":\"bar\",\"textfont\":{\"size\":4},\"textangle\":0},{\"alignmentgroup\":\"True\",\"base\":[10],\"hovertemplate\":\"top_bias=marijuana<br>user=lPpxNz1aVtYh<br>start=%{base}<br>stop=%{x}<br>=%{y}<br>bias_value=%{text}<extra></extra>\",\"legendgroup\":\"marijuana\",\"marker\":{\"color\":\"#B6E880\",\"opacity\":[0.67]},\"name\":\"marijuana\",\"offsetgroup\":\"marijuana\",\"orientation\":\"h\",\"showlegend\":true,\"text\":\"\",\"textposition\":\"auto\",\"x\":[1],\"xaxis\":\"x9\",\"y\":[\"HMM\"],\"yaxis\":\"y9\",\"type\":\"bar\",\"textfont\":{\"size\":4},\"textangle\":0},{\"alignmentgroup\":\"True\",\"base\":[7],\"hovertemplate\":\"top_bias=marijuana<br>user=xrOuOynQhVbO<br>start=%{base}<br>stop=%{x}<br>=%{y}<br>bias_value=%{text}<extra></extra>\",\"legendgroup\":\"marijuana\",\"marker\":{\"color\":\"#B6E880\",\"opacity\":[0.53]},\"name\":\"marijuana\",\"offsetgroup\":\"marijuana\",\"orientation\":\"h\",\"showlegend\":false,\"text\":\"\",\"textposition\":\"auto\",\"x\":[1],\"xaxis\":\"x10\",\"y\":[\"AD\"],\"yaxis\":\"y10\",\"type\":\"bar\",\"textfont\":{\"size\":4},\"textangle\":0},{\"alignmentgroup\":\"True\",\"base\":[9,10,2,5],\"hovertemplate\":\"top_bias=marijuana<br>user=6oheLF74hlXc<br>start=%{base}<br>stop=%{x}<br>=%{y}<br>bias_value=%{text}<extra></extra>\",\"legendgroup\":\"marijuana\",\"marker\":{\"color\":\"#B6E880\",\"opacity\":[0.6,0.8,0.56,0.62]},\"name\":\"marijuana\",\"offsetgroup\":\"marijuana\",\"orientation\":\"h\",\"showlegend\":false,\"text\":\"\",\"textposition\":\"auto\",\"x\":[1,1,1,1],\"xaxis\":\"x11\",\"y\":[\"AD\",\"AD\",\"HMM\",\"HMM\"],\"yaxis\":\"y11\",\"type\":\"bar\",\"textfont\":{\"size\":4},\"textangle\":0},{\"alignmentgroup\":\"True\",\"base\":[7,8,6,7,8,9],\"hovertemplate\":\"top_bias=marijuana<br>user=8cPi4CoiSpNN<br>start=%{base}<br>stop=%{x}<br>=%{y}<br>bias_value=%{text}<extra></extra>\",\"legendgroup\":\"marijuana\",\"marker\":{\"color\":\"#B6E880\",\"opacity\":[0.8,0.9,0.38,0.4,0.41,0.38]},\"name\":\"marijuana\",\"offsetgroup\":\"marijuana\",\"orientation\":\"h\",\"showlegend\":false,\"text\":\"\",\"textposition\":\"auto\",\"x\":[1,1,1,1,1,1],\"xaxis\":\"x12\",\"y\":[\"AD\",\"AD\",\"AC\",\"AC\",\"AC\",\"AC\"],\"yaxis\":\"y12\",\"type\":\"bar\",\"textfont\":{\"size\":4},\"textangle\":0},{\"alignmentgroup\":\"True\",\"base\":[4,5,6,1,5],\"hovertemplate\":\"top_bias=marijuana<br>user=hoMzF8Cf1Y5j<br>start=%{base}<br>stop=%{x}<br>=%{y}<br>bias_value=%{text}<extra></extra>\",\"legendgroup\":\"marijuana\",\"marker\":{\"color\":\"#B6E880\",\"opacity\":[0.87,0.96,0.88,0.72,0.52]},\"name\":\"marijuana\",\"offsetgroup\":\"marijuana\",\"orientation\":\"h\",\"showlegend\":false,\"text\":\"\",\"textposition\":\"auto\",\"x\":[1,1,1,1,1],\"xaxis\":\"x5\",\"y\":[\"AD\",\"AD\",\"AD\",\"AC\",\"AC\"],\"yaxis\":\"y5\",\"type\":\"bar\",\"textfont\":{\"size\":4},\"textangle\":0},{\"alignmentgroup\":\"True\",\"base\":[1,2,3,4,2],\"hovertemplate\":\"top_bias=marijuana<br>user=gPCb7Uy0pEM0<br>start=%{base}<br>stop=%{x}<br>=%{y}<br>bias_value=%{text}<extra></extra>\",\"legendgroup\":\"marijuana\",\"marker\":{\"color\":\"#B6E880\",\"opacity\":[0.56,0.61,0.6,0.6,0.72]},\"name\":\"marijuana\",\"offsetgroup\":\"marijuana\",\"orientation\":\"h\",\"showlegend\":false,\"text\":\"\",\"textposition\":\"auto\",\"x\":[1,1,1,1,1],\"xaxis\":\"x6\",\"y\":[\"HMM\",\"HMM\",\"HMM\",\"HMM\",\"AC\"],\"yaxis\":\"y6\",\"type\":\"bar\",\"textfont\":{\"size\":4},\"textangle\":0},{\"alignmentgroup\":\"True\",\"base\":[1],\"hovertemplate\":\"top_bias=marijuana<br>user=qFIltQnZAor7<br>start=%{base}<br>stop=%{x}<br>=%{y}<br>bias_value=%{text}<extra></extra>\",\"legendgroup\":\"marijuana\",\"marker\":{\"color\":\"#B6E880\",\"opacity\":[0.46]},\"name\":\"marijuana\",\"offsetgroup\":\"marijuana\",\"orientation\":\"h\",\"showlegend\":false,\"text\":\"\",\"textposition\":\"auto\",\"x\":[1],\"xaxis\":\"x8\",\"y\":[\"AD\"],\"yaxis\":\"y8\",\"type\":\"bar\",\"textfont\":{\"size\":4},\"textangle\":0},{\"alignmentgroup\":\"True\",\"base\":[1],\"hovertemplate\":\"top_bias=abortion + age + alcohol + gender + marijuana + medicare + occupation + party + political_experience<br>user=lPpxNz1aVtYh<br>start=%{base}<br>stop=%{x}<br>=%{y}<br>bias_value=%{text}<extra></extra>\",\"legendgroup\":\"abortion + age + alcohol + gender + marijuana + medicare + occupation + party + political_experience\",\"marker\":{\"color\":\"#FF97FF\",\"opacity\":[0.5]},\"name\":\"abortion + age + alcohol + gender + marijuana + medicare + occupation + party + political_experience\",\"offsetgroup\":\"abortion + age + alcohol + gender + marijuana + medicare + occupation + party + political_experience\",\"orientation\":\"h\",\"showlegend\":true,\"text\":\"\",\"textposition\":\"auto\",\"x\":[1],\"xaxis\":\"x9\",\"y\":[\"CM\"],\"yaxis\":\"y9\",\"type\":\"bar\",\"textfont\":{\"size\":4},\"textangle\":0},{\"alignmentgroup\":\"True\",\"base\":[1],\"hovertemplate\":\"top_bias=abortion + age + alcohol + gender + marijuana + medicare + occupation + party + political_experience<br>user=xrOuOynQhVbO<br>start=%{base}<br>stop=%{x}<br>=%{y}<br>bias_value=%{text}<extra></extra>\",\"legendgroup\":\"abortion + age + alcohol + gender + marijuana + medicare + occupation + party + political_experience\",\"marker\":{\"color\":\"#FF97FF\",\"opacity\":[0.5]},\"name\":\"abortion + age + alcohol + gender + marijuana + medicare + occupation + party + political_experience\",\"offsetgroup\":\"abortion + age + alcohol + gender + marijuana + medicare + occupation + party + political_experience\",\"orientation\":\"h\",\"showlegend\":false,\"text\":\"\",\"textposition\":\"auto\",\"x\":[1],\"xaxis\":\"x10\",\"y\":[\"CM\"],\"yaxis\":\"y10\",\"type\":\"bar\",\"textfont\":{\"size\":4},\"textangle\":0},{\"alignmentgroup\":\"True\",\"base\":[1],\"hovertemplate\":\"top_bias=abortion + age + alcohol + gender + marijuana + medicare + occupation + party + political_experience<br>user=6oheLF74hlXc<br>start=%{base}<br>stop=%{x}<br>=%{y}<br>bias_value=%{text}<extra></extra>\",\"legendgroup\":\"abortion + age + alcohol + gender + marijuana + medicare + occupation + party + political_experience\",\"marker\":{\"color\":\"#FF97FF\",\"opacity\":[0.5]},\"name\":\"abortion + age + alcohol + gender + marijuana + medicare + occupation + party + political_experience\",\"offsetgroup\":\"abortion + age + alcohol + gender + marijuana + medicare + occupation + party + political_experience\",\"orientation\":\"h\",\"showlegend\":false,\"text\":\"\",\"textposition\":\"auto\",\"x\":[1],\"xaxis\":\"x11\",\"y\":[\"CM\"],\"yaxis\":\"y11\",\"type\":\"bar\",\"textfont\":{\"size\":4},\"textangle\":0},{\"alignmentgroup\":\"True\",\"base\":[1],\"hovertemplate\":\"top_bias=abortion + age + alcohol + gender + marijuana + medicare + occupation + party + political_experience<br>user=8cPi4CoiSpNN<br>start=%{base}<br>stop=%{x}<br>=%{y}<br>bias_value=%{text}<extra></extra>\",\"legendgroup\":\"abortion + age + alcohol + gender + marijuana + medicare + occupation + party + political_experience\",\"marker\":{\"color\":\"#FF97FF\",\"opacity\":[0.5]},\"name\":\"abortion + age + alcohol + gender + marijuana + medicare + occupation + party + political_experience\",\"offsetgroup\":\"abortion + age + alcohol + gender + marijuana + medicare + occupation + party + political_experience\",\"orientation\":\"h\",\"showlegend\":false,\"text\":\"\",\"textposition\":\"auto\",\"x\":[1],\"xaxis\":\"x12\",\"y\":[\"CM\"],\"yaxis\":\"y12\",\"type\":\"bar\",\"textfont\":{\"size\":4},\"textangle\":0},{\"alignmentgroup\":\"True\",\"base\":[1],\"hovertemplate\":\"top_bias=abortion + age + alcohol + gender + marijuana + medicare + occupation + party + political_experience<br>user=hoMzF8Cf1Y5j<br>start=%{base}<br>stop=%{x}<br>=%{y}<br>bias_value=%{text}<extra></extra>\",\"legendgroup\":\"abortion + age + alcohol + gender + marijuana + medicare + occupation + party + political_experience\",\"marker\":{\"color\":\"#FF97FF\",\"opacity\":[0.5]},\"name\":\"abortion + age + alcohol + gender + marijuana + medicare + occupation + party + political_experience\",\"offsetgroup\":\"abortion + age + alcohol + gender + marijuana + medicare + occupation + party + political_experience\",\"orientation\":\"h\",\"showlegend\":false,\"text\":\"\",\"textposition\":\"auto\",\"x\":[1],\"xaxis\":\"x5\",\"y\":[\"CM\"],\"yaxis\":\"y5\",\"type\":\"bar\",\"textfont\":{\"size\":4},\"textangle\":0},{\"alignmentgroup\":\"True\",\"base\":[1],\"hovertemplate\":\"top_bias=abortion + age + alcohol + gender + marijuana + medicare + occupation + party + political_experience<br>user=gPCb7Uy0pEM0<br>start=%{base}<br>stop=%{x}<br>=%{y}<br>bias_value=%{text}<extra></extra>\",\"legendgroup\":\"abortion + age + alcohol + gender + marijuana + medicare + occupation + party + political_experience\",\"marker\":{\"color\":\"#FF97FF\",\"opacity\":[0.5]},\"name\":\"abortion + age + alcohol + gender + marijuana + medicare + occupation + party + political_experience\",\"offsetgroup\":\"abortion + age + alcohol + gender + marijuana + medicare + occupation + party + political_experience\",\"orientation\":\"h\",\"showlegend\":false,\"text\":\"\",\"textposition\":\"auto\",\"x\":[1],\"xaxis\":\"x6\",\"y\":[\"CM\"],\"yaxis\":\"y6\",\"type\":\"bar\",\"textfont\":{\"size\":4},\"textangle\":0},{\"alignmentgroup\":\"True\",\"base\":[1],\"hovertemplate\":\"top_bias=abortion + age + alcohol + gender + marijuana + medicare + occupation + party + political_experience<br>user=3Sp3rSvqFsh6<br>start=%{base}<br>stop=%{x}<br>=%{y}<br>bias_value=%{text}<extra></extra>\",\"legendgroup\":\"abortion + age + alcohol + gender + marijuana + medicare + occupation + party + political_experience\",\"marker\":{\"color\":\"#FF97FF\",\"opacity\":[0.5]},\"name\":\"abortion + age + alcohol + gender + marijuana + medicare + occupation + party + political_experience\",\"offsetgroup\":\"abortion + age + alcohol + gender + marijuana + medicare + occupation + party + political_experience\",\"orientation\":\"h\",\"showlegend\":false,\"text\":\"\",\"textposition\":\"auto\",\"x\":[1],\"xaxis\":\"x7\",\"y\":[\"CM\"],\"yaxis\":\"y7\",\"type\":\"bar\",\"textfont\":{\"size\":4},\"textangle\":0},{\"alignmentgroup\":\"True\",\"base\":[1],\"hovertemplate\":\"top_bias=abortion + age + alcohol + gender + marijuana + medicare + occupation + party + political_experience<br>user=qFIltQnZAor7<br>start=%{base}<br>stop=%{x}<br>=%{y}<br>bias_value=%{text}<extra></extra>\",\"legendgroup\":\"abortion + age + alcohol + gender + marijuana + medicare + occupation + party + political_experience\",\"marker\":{\"color\":\"#FF97FF\",\"opacity\":[0.5]},\"name\":\"abortion + age + alcohol + gender + marijuana + medicare + occupation + party + political_experience\",\"offsetgroup\":\"abortion + age + alcohol + gender + marijuana + medicare + occupation + party + political_experience\",\"orientation\":\"h\",\"showlegend\":false,\"text\":\"\",\"textposition\":\"auto\",\"x\":[1],\"xaxis\":\"x8\",\"y\":[\"CM\"],\"yaxis\":\"y8\",\"type\":\"bar\",\"textfont\":{\"size\":4},\"textangle\":0},{\"alignmentgroup\":\"True\",\"base\":[1],\"hovertemplate\":\"top_bias=abortion + age + alcohol + gender + marijuana + medicare + occupation + party + political_experience<br>user=CnOeEROhOZaX<br>start=%{base}<br>stop=%{x}<br>=%{y}<br>bias_value=%{text}<extra></extra>\",\"legendgroup\":\"abortion + age + alcohol + gender + marijuana + medicare + occupation + party + political_experience\",\"marker\":{\"color\":\"#FF97FF\",\"opacity\":[0.5]},\"name\":\"abortion + age + alcohol + gender + marijuana + medicare + occupation + party + political_experience\",\"offsetgroup\":\"abortion + age + alcohol + gender + marijuana + medicare + occupation + party + political_experience\",\"orientation\":\"h\",\"showlegend\":false,\"text\":\"\",\"textposition\":\"auto\",\"x\":[1],\"xaxis\":\"x\",\"y\":[\"CM\"],\"yaxis\":\"y\",\"type\":\"bar\",\"textfont\":{\"size\":4},\"textangle\":0},{\"alignmentgroup\":\"True\",\"base\":[1],\"hovertemplate\":\"top_bias=abortion + age + alcohol + gender + marijuana + medicare + occupation + party + political_experience<br>user=8D64yb05oRDt<br>start=%{base}<br>stop=%{x}<br>=%{y}<br>bias_value=%{text}<extra></extra>\",\"legendgroup\":\"abortion + age + alcohol + gender + marijuana + medicare + occupation + party + political_experience\",\"marker\":{\"color\":\"#FF97FF\",\"opacity\":[0.5]},\"name\":\"abortion + age + alcohol + gender + marijuana + medicare + occupation + party + political_experience\",\"offsetgroup\":\"abortion + age + alcohol + gender + marijuana + medicare + occupation + party + political_experience\",\"orientation\":\"h\",\"showlegend\":false,\"text\":\"\",\"textposition\":\"auto\",\"x\":[1],\"xaxis\":\"x2\",\"y\":[\"CM\"],\"yaxis\":\"y2\",\"type\":\"bar\",\"textfont\":{\"size\":4},\"textangle\":0},{\"alignmentgroup\":\"True\",\"base\":[1],\"hovertemplate\":\"top_bias=abortion + age + alcohol + gender + marijuana + medicare + occupation + party + political_experience<br>user=r9cpBWj7l0iV<br>start=%{base}<br>stop=%{x}<br>=%{y}<br>bias_value=%{text}<extra></extra>\",\"legendgroup\":\"abortion + age + alcohol + gender + marijuana + medicare + occupation + party + political_experience\",\"marker\":{\"color\":\"#FF97FF\",\"opacity\":[0.5]},\"name\":\"abortion + age + alcohol + gender + marijuana + medicare + occupation + party + political_experience\",\"offsetgroup\":\"abortion + age + alcohol + gender + marijuana + medicare + occupation + party + political_experience\",\"orientation\":\"h\",\"showlegend\":false,\"text\":\"\",\"textposition\":\"auto\",\"x\":[1],\"xaxis\":\"x3\",\"y\":[\"CM\"],\"yaxis\":\"y3\",\"type\":\"bar\",\"textfont\":{\"size\":4},\"textangle\":0},{\"alignmentgroup\":\"True\",\"base\":[1],\"hovertemplate\":\"top_bias=abortion + age + alcohol + gender + marijuana + medicare + occupation + party + political_experience<br>user=ZY1tfYLxtiya<br>start=%{base}<br>stop=%{x}<br>=%{y}<br>bias_value=%{text}<extra></extra>\",\"legendgroup\":\"abortion + age + alcohol + gender + marijuana + medicare + occupation + party + political_experience\",\"marker\":{\"color\":\"#FF97FF\",\"opacity\":[0.5]},\"name\":\"abortion + age + alcohol + gender + marijuana + medicare + occupation + party + political_experience\",\"offsetgroup\":\"abortion + age + alcohol + gender + marijuana + medicare + occupation + party + political_experience\",\"orientation\":\"h\",\"showlegend\":false,\"text\":\"\",\"textposition\":\"auto\",\"x\":[1],\"xaxis\":\"x4\",\"y\":[\"CM\"],\"yaxis\":\"y4\",\"type\":\"bar\",\"textfont\":{\"size\":4},\"textangle\":0},{\"alignmentgroup\":\"True\",\"base\":[2,3,4],\"hovertemplate\":\"top_bias=party<br>user=lPpxNz1aVtYh<br>start=%{base}<br>stop=%{x}<br>=%{y}<br>bias_value=%{text}<extra></extra>\",\"legendgroup\":\"party\",\"marker\":{\"color\":\"#FECB52\",\"opacity\":[0.59,0.94,0.93]},\"name\":\"party\",\"offsetgroup\":\"party\",\"orientation\":\"h\",\"showlegend\":true,\"text\":\"\",\"textposition\":\"auto\",\"x\":[1,1,1],\"xaxis\":\"x9\",\"y\":[\"CM\",\"CM\",\"CM\"],\"yaxis\":\"y9\",\"type\":\"bar\",\"textfont\":{\"size\":4},\"textangle\":0},{\"alignmentgroup\":\"True\",\"base\":[1],\"hovertemplate\":\"top_bias=party<br>user=6oheLF74hlXc<br>start=%{base}<br>stop=%{x}<br>=%{y}<br>bias_value=%{text}<extra></extra>\",\"legendgroup\":\"party\",\"marker\":{\"color\":\"#FECB52\",\"opacity\":[0.53]},\"name\":\"party\",\"offsetgroup\":\"party\",\"orientation\":\"h\",\"showlegend\":false,\"text\":\"\",\"textposition\":\"auto\",\"x\":[1],\"xaxis\":\"x11\",\"y\":[\"HMM\"],\"yaxis\":\"y11\",\"type\":\"bar\",\"textfont\":{\"size\":4},\"textangle\":0},{\"alignmentgroup\":\"True\",\"base\":[2,3,4,6,6],\"hovertemplate\":\"top_bias=party<br>user=hoMzF8Cf1Y5j<br>start=%{base}<br>stop=%{x}<br>=%{y}<br>bias_value=%{text}<extra></extra>\",\"legendgroup\":\"party\",\"marker\":{\"color\":\"#FECB52\",\"opacity\":[0.57,0.61,0.62,0.66,0.98]},\"name\":\"party\",\"offsetgroup\":\"party\",\"orientation\":\"h\",\"showlegend\":false,\"text\":\"\",\"textposition\":\"auto\",\"x\":[1,1,1,1,1],\"xaxis\":\"x5\",\"y\":[\"HMM\",\"HMM\",\"HMM\",\"HMM\",\"CM\"],\"yaxis\":\"y5\",\"type\":\"bar\",\"textfont\":{\"size\":4},\"textangle\":0},{\"alignmentgroup\":\"True\",\"base\":[5,6],\"hovertemplate\":\"top_bias=party<br>user=gPCb7Uy0pEM0<br>start=%{base}<br>stop=%{x}<br>=%{y}<br>bias_value=%{text}<extra></extra>\",\"legendgroup\":\"party\",\"marker\":{\"color\":\"#FECB52\",\"opacity\":[0.61,0.64]},\"name\":\"party\",\"offsetgroup\":\"party\",\"orientation\":\"h\",\"showlegend\":false,\"text\":\"\",\"textposition\":\"auto\",\"x\":[1,1],\"xaxis\":\"x6\",\"y\":[\"HMM\",\"HMM\"],\"yaxis\":\"y6\",\"type\":\"bar\",\"textfont\":{\"size\":4},\"textangle\":0},{\"alignmentgroup\":\"True\",\"base\":[3],\"hovertemplate\":\"top_bias=party<br>user=3Sp3rSvqFsh6<br>start=%{base}<br>stop=%{x}<br>=%{y}<br>bias_value=%{text}<extra></extra>\",\"legendgroup\":\"party\",\"marker\":{\"color\":\"#FECB52\",\"opacity\":[0.55]},\"name\":\"party\",\"offsetgroup\":\"party\",\"orientation\":\"h\",\"showlegend\":false,\"text\":\"\",\"textposition\":\"auto\",\"x\":[1],\"xaxis\":\"x7\",\"y\":[\"CM\"],\"yaxis\":\"y7\",\"type\":\"bar\",\"textfont\":{\"size\":4},\"textangle\":0},{\"alignmentgroup\":\"True\",\"base\":[1,2,3,4,5,6,7,8,9],\"hovertemplate\":\"top_bias=party<br>user=qFIltQnZAor7<br>start=%{base}<br>stop=%{x}<br>=%{y}<br>bias_value=%{text}<extra></extra>\",\"legendgroup\":\"party\",\"marker\":{\"color\":\"#FECB52\",\"opacity\":[0.56,0.61,0.61,0.63,0.62,0.62,0.65,0.66,0.66]},\"name\":\"party\",\"offsetgroup\":\"party\",\"orientation\":\"h\",\"showlegend\":false,\"text\":\"\",\"textposition\":\"auto\",\"x\":[1,1,1,1,1,1,1,1,1],\"xaxis\":\"x8\",\"y\":[\"HMM\",\"HMM\",\"HMM\",\"HMM\",\"HMM\",\"HMM\",\"HMM\",\"HMM\",\"HMM\"],\"yaxis\":\"y8\",\"type\":\"bar\",\"textfont\":{\"size\":4},\"textangle\":0},{\"alignmentgroup\":\"True\",\"base\":[2,3],\"hovertemplate\":\"top_bias=party<br>user=8D64yb05oRDt<br>start=%{base}<br>stop=%{x}<br>=%{y}<br>bias_value=%{text}<extra></extra>\",\"legendgroup\":\"party\",\"marker\":{\"color\":\"#FECB52\",\"opacity\":[0.58,0.89]},\"name\":\"party\",\"offsetgroup\":\"party\",\"orientation\":\"h\",\"showlegend\":false,\"text\":\"\",\"textposition\":\"auto\",\"x\":[1,1],\"xaxis\":\"x2\",\"y\":[\"CM\",\"CM\"],\"yaxis\":\"y2\",\"type\":\"bar\",\"textfont\":{\"size\":4},\"textangle\":0},{\"alignmentgroup\":\"True\",\"base\":[4,5],\"hovertemplate\":\"top_bias=party<br>user=r9cpBWj7l0iV<br>start=%{base}<br>stop=%{x}<br>=%{y}<br>bias_value=%{text}<extra></extra>\",\"legendgroup\":\"party\",\"marker\":{\"color\":\"#FECB52\",\"opacity\":[0.61,0.61]},\"name\":\"party\",\"offsetgroup\":\"party\",\"orientation\":\"h\",\"showlegend\":false,\"text\":\"\",\"textposition\":\"auto\",\"x\":[1,1],\"xaxis\":\"x3\",\"y\":[\"HMM\",\"HMM\"],\"yaxis\":\"y3\",\"type\":\"bar\",\"textfont\":{\"size\":4},\"textangle\":0},{\"alignmentgroup\":\"True\",\"base\":[5,1],\"hovertemplate\":\"top_bias=party<br>user=ZY1tfYLxtiya<br>start=%{base}<br>stop=%{x}<br>=%{y}<br>bias_value=%{text}<extra></extra>\",\"legendgroup\":\"party\",\"marker\":{\"color\":\"#FECB52\",\"opacity\":[0.57,0.54]},\"name\":\"party\",\"offsetgroup\":\"party\",\"orientation\":\"h\",\"showlegend\":false,\"text\":\"\",\"textposition\":\"auto\",\"x\":[1,1],\"xaxis\":\"x4\",\"y\":[\"AD\",\"HMM\"],\"yaxis\":\"y4\",\"type\":\"bar\",\"textfont\":{\"size\":4},\"textangle\":0},{\"alignmentgroup\":\"True\",\"base\":[3],\"hovertemplate\":\"top_bias=abortion<br>user=lPpxNz1aVtYh<br>start=%{base}<br>stop=%{x}<br>=%{y}<br>bias_value=%{text}<extra></extra>\",\"legendgroup\":\"abortion\",\"marker\":{\"color\":\"rgb(136, 204, 238)\",\"opacity\":[0.58]},\"name\":\"abortion\",\"offsetgroup\":\"abortion\",\"orientation\":\"h\",\"showlegend\":true,\"text\":\"\",\"textposition\":\"auto\",\"x\":[1],\"xaxis\":\"x9\",\"y\":[\"AC\"],\"yaxis\":\"y9\",\"type\":\"bar\",\"textfont\":{\"size\":4},\"textangle\":0},{\"alignmentgroup\":\"True\",\"base\":[12,7,9,10,11,12],\"hovertemplate\":\"top_bias=abortion<br>user=xrOuOynQhVbO<br>start=%{base}<br>stop=%{x}<br>=%{y}<br>bias_value=%{text}<extra></extra>\",\"legendgroup\":\"abortion\",\"marker\":{\"color\":\"rgb(136, 204, 238)\",\"opacity\":[0.55,0.67,0.68,0.66,0.25,0.25]},\"name\":\"abortion\",\"offsetgroup\":\"abortion\",\"orientation\":\"h\",\"showlegend\":false,\"text\":\"\",\"textposition\":\"auto\",\"x\":[1,1,1,1,1,1],\"xaxis\":\"x10\",\"y\":[\"AD\",\"HMM\",\"HMM\",\"HMM\",\"AC\",\"AC\"],\"yaxis\":\"y10\",\"type\":\"bar\",\"textfont\":{\"size\":4},\"textangle\":0},{\"alignmentgroup\":\"True\",\"base\":[2,3,5,6,7],\"hovertemplate\":\"top_bias=abortion<br>user=3Sp3rSvqFsh6<br>start=%{base}<br>stop=%{x}<br>=%{y}<br>bias_value=%{text}<extra></extra>\",\"legendgroup\":\"abortion\",\"marker\":{\"color\":\"rgb(136, 204, 238)\",\"opacity\":[0.57,0.58,0.61,0.63,0.67]},\"name\":\"abortion\",\"offsetgroup\":\"abortion\",\"orientation\":\"h\",\"showlegend\":false,\"text\":\"\",\"textposition\":\"auto\",\"x\":[1,1,1,1,1],\"xaxis\":\"x7\",\"y\":[\"HMM\",\"HMM\",\"HMM\",\"HMM\",\"HMM\"],\"yaxis\":\"y7\",\"type\":\"bar\",\"textfont\":{\"size\":4},\"textangle\":0},{\"alignmentgroup\":\"True\",\"base\":[1,2,3,6,7,8,9,10],\"hovertemplate\":\"top_bias=abortion<br>user=r9cpBWj7l0iV<br>start=%{base}<br>stop=%{x}<br>=%{y}<br>bias_value=%{text}<extra></extra>\",\"legendgroup\":\"abortion\",\"marker\":{\"color\":\"rgb(136, 204, 238)\",\"opacity\":[0.57,0.57,0.6,0.63,0.65,0.66,0.66,0.67]},\"name\":\"abortion\",\"offsetgroup\":\"abortion\",\"orientation\":\"h\",\"showlegend\":false,\"text\":\"\",\"textposition\":\"auto\",\"x\":[1,1,1,1,1,1,1,1],\"xaxis\":\"x3\",\"y\":[\"HMM\",\"HMM\",\"HMM\",\"HMM\",\"HMM\",\"HMM\",\"HMM\",\"HMM\"],\"yaxis\":\"y3\",\"type\":\"bar\",\"textfont\":{\"size\":4},\"textangle\":0},{\"alignmentgroup\":\"True\",\"base\":[1],\"hovertemplate\":\"top_bias=abortion + marijuana + medicare<br>user=6oheLF74hlXc<br>start=%{base}<br>stop=%{x}<br>=%{y}<br>bias_value=%{text}<extra></extra>\",\"legendgroup\":\"abortion + marijuana + medicare\",\"marker\":{\"color\":\"rgb(204, 102, 119)\",\"opacity\":[0.58]},\"name\":\"abortion + marijuana + medicare\",\"offsetgroup\":\"abortion + marijuana + medicare\",\"orientation\":\"h\",\"showlegend\":true,\"text\":\"\",\"textposition\":\"auto\",\"x\":[1],\"xaxis\":\"x11\",\"y\":[\"AD\"],\"yaxis\":\"y11\",\"type\":\"bar\",\"textfont\":{\"size\":4},\"textangle\":0},{\"alignmentgroup\":\"True\",\"base\":[2],\"hovertemplate\":\"top_bias=age + political_experience<br>user=8cPi4CoiSpNN<br>start=%{base}<br>stop=%{x}<br>=%{y}<br>bias_value=%{text}<extra></extra>\",\"legendgroup\":\"age + political_experience\",\"marker\":{\"color\":\"rgb(221, 204, 119)\",\"opacity\":[0.4]},\"name\":\"age + political_experience\",\"offsetgroup\":\"age + political_experience\",\"orientation\":\"h\",\"showlegend\":true,\"text\":\"\",\"textposition\":\"auto\",\"x\":[1],\"xaxis\":\"x12\",\"y\":[\"AD\"],\"yaxis\":\"y12\",\"type\":\"bar\",\"textfont\":{\"size\":4},\"textangle\":0},{\"alignmentgroup\":\"True\",\"base\":[3],\"hovertemplate\":\"top_bias=age + political_experience<br>user=gPCb7Uy0pEM0<br>start=%{base}<br>stop=%{x}<br>=%{y}<br>bias_value=%{text}<extra></extra>\",\"legendgroup\":\"age + political_experience\",\"marker\":{\"color\":\"rgb(221, 204, 119)\",\"opacity\":[0.7]},\"name\":\"age + political_experience\",\"offsetgroup\":\"age + political_experience\",\"orientation\":\"h\",\"showlegend\":false,\"text\":\"\",\"textposition\":\"auto\",\"x\":[1],\"xaxis\":\"x6\",\"y\":[\"AD\"],\"yaxis\":\"y6\",\"type\":\"bar\",\"textfont\":{\"size\":4},\"textangle\":0},{\"alignmentgroup\":\"True\",\"base\":[9],\"hovertemplate\":\"top_bias=marijuana + medicare<br>user=8cPi4CoiSpNN<br>start=%{base}<br>stop=%{x}<br>=%{y}<br>bias_value=%{text}<extra></extra>\",\"legendgroup\":\"marijuana + medicare\",\"marker\":{\"color\":\"rgb(17, 119, 51)\",\"opacity\":[0.8]},\"name\":\"marijuana + medicare\",\"offsetgroup\":\"marijuana + medicare\",\"orientation\":\"h\",\"showlegend\":true,\"text\":\"\",\"textposition\":\"auto\",\"x\":[1],\"xaxis\":\"x12\",\"y\":[\"AD\"],\"yaxis\":\"y12\",\"type\":\"bar\",\"textfont\":{\"size\":4},\"textangle\":0},{\"alignmentgroup\":\"True\",\"base\":[3],\"hovertemplate\":\"top_bias=marijuana + medicare<br>user=hoMzF8Cf1Y5j<br>start=%{base}<br>stop=%{x}<br>=%{y}<br>bias_value=%{text}<extra></extra>\",\"legendgroup\":\"marijuana + medicare\",\"marker\":{\"color\":\"rgb(17, 119, 51)\",\"opacity\":[0.56]},\"name\":\"marijuana + medicare\",\"offsetgroup\":\"marijuana + medicare\",\"orientation\":\"h\",\"showlegend\":false,\"text\":\"\",\"textposition\":\"auto\",\"x\":[1],\"xaxis\":\"x5\",\"y\":[\"AD\"],\"yaxis\":\"y5\",\"type\":\"bar\",\"textfont\":{\"size\":4},\"textangle\":0},{\"alignmentgroup\":\"True\",\"base\":[1],\"hovertemplate\":\"top_bias=abortion + alcohol<br>user=gPCb7Uy0pEM0<br>start=%{base}<br>stop=%{x}<br>=%{y}<br>bias_value=%{text}<extra></extra>\",\"legendgroup\":\"abortion + alcohol\",\"marker\":{\"color\":\"rgb(51, 34, 136)\",\"opacity\":[0.58]},\"name\":\"abortion + alcohol\",\"offsetgroup\":\"abortion + alcohol\",\"orientation\":\"h\",\"showlegend\":true,\"text\":\"\",\"textposition\":\"auto\",\"x\":[1],\"xaxis\":\"x6\",\"y\":[\"AD\"],\"yaxis\":\"y6\",\"type\":\"bar\",\"textfont\":{\"size\":4},\"textangle\":0},{\"alignmentgroup\":\"True\",\"base\":[11,10,11],\"hovertemplate\":\"top_bias=abortion + alcohol<br>user=qFIltQnZAor7<br>start=%{base}<br>stop=%{x}<br>=%{y}<br>bias_value=%{text}<extra></extra>\",\"legendgroup\":\"abortion + alcohol\",\"marker\":{\"color\":\"rgb(51, 34, 136)\",\"opacity\":[0.86,0.33,0.34]},\"name\":\"abortion + alcohol\",\"offsetgroup\":\"abortion + alcohol\",\"orientation\":\"h\",\"showlegend\":false,\"text\":\"\",\"textposition\":\"auto\",\"x\":[1,1,1],\"xaxis\":\"x8\",\"y\":[\"AD\",\"AC\",\"AC\"],\"yaxis\":\"y8\",\"type\":\"bar\",\"textfont\":{\"size\":4},\"textangle\":0},{\"alignmentgroup\":\"True\",\"base\":[11],\"hovertemplate\":\"top_bias=abortion + political_experience<br>user=CnOeEROhOZaX<br>start=%{base}<br>stop=%{x}<br>=%{y}<br>bias_value=%{text}<extra></extra>\",\"legendgroup\":\"abortion + political_experience\",\"marker\":{\"color\":\"rgb(170, 68, 153)\",\"opacity\":[0.53]},\"name\":\"abortion + political_experience\",\"offsetgroup\":\"abortion + political_experience\",\"orientation\":\"h\",\"showlegend\":true,\"text\":\"\",\"textposition\":\"auto\",\"x\":[1],\"xaxis\":\"x\",\"y\":[\"AD\"],\"yaxis\":\"y\",\"type\":\"bar\",\"textfont\":{\"size\":4},\"textangle\":0}],                        {\"template\":{\"data\":{\"bar\":[{\"error_x\":{\"color\":\"#2a3f5f\"},\"error_y\":{\"color\":\"#2a3f5f\"},\"marker\":{\"line\":{\"color\":\"#E5ECF6\",\"width\":0.5},\"pattern\":{\"fillmode\":\"overlay\",\"size\":10,\"solidity\":0.2}},\"type\":\"bar\"}],\"barpolar\":[{\"marker\":{\"line\":{\"color\":\"#E5ECF6\",\"width\":0.5},\"pattern\":{\"fillmode\":\"overlay\",\"size\":10,\"solidity\":0.2}},\"type\":\"barpolar\"}],\"carpet\":[{\"aaxis\":{\"endlinecolor\":\"#2a3f5f\",\"gridcolor\":\"white\",\"linecolor\":\"white\",\"minorgridcolor\":\"white\",\"startlinecolor\":\"#2a3f5f\"},\"baxis\":{\"endlinecolor\":\"#2a3f5f\",\"gridcolor\":\"white\",\"linecolor\":\"white\",\"minorgridcolor\":\"white\",\"startlinecolor\":\"#2a3f5f\"},\"type\":\"carpet\"}],\"choropleth\":[{\"colorbar\":{\"outlinewidth\":0,\"ticks\":\"\"},\"type\":\"choropleth\"}],\"contour\":[{\"colorbar\":{\"outlinewidth\":0,\"ticks\":\"\"},\"colorscale\":[[0.0,\"#0d0887\"],[0.1111111111111111,\"#46039f\"],[0.2222222222222222,\"#7201a8\"],[0.3333333333333333,\"#9c179e\"],[0.4444444444444444,\"#bd3786\"],[0.5555555555555556,\"#d8576b\"],[0.6666666666666666,\"#ed7953\"],[0.7777777777777778,\"#fb9f3a\"],[0.8888888888888888,\"#fdca26\"],[1.0,\"#f0f921\"]],\"type\":\"contour\"}],\"contourcarpet\":[{\"colorbar\":{\"outlinewidth\":0,\"ticks\":\"\"},\"type\":\"contourcarpet\"}],\"heatmap\":[{\"colorbar\":{\"outlinewidth\":0,\"ticks\":\"\"},\"colorscale\":[[0.0,\"#0d0887\"],[0.1111111111111111,\"#46039f\"],[0.2222222222222222,\"#7201a8\"],[0.3333333333333333,\"#9c179e\"],[0.4444444444444444,\"#bd3786\"],[0.5555555555555556,\"#d8576b\"],[0.6666666666666666,\"#ed7953\"],[0.7777777777777778,\"#fb9f3a\"],[0.8888888888888888,\"#fdca26\"],[1.0,\"#f0f921\"]],\"type\":\"heatmap\"}],\"heatmapgl\":[{\"colorbar\":{\"outlinewidth\":0,\"ticks\":\"\"},\"colorscale\":[[0.0,\"#0d0887\"],[0.1111111111111111,\"#46039f\"],[0.2222222222222222,\"#7201a8\"],[0.3333333333333333,\"#9c179e\"],[0.4444444444444444,\"#bd3786\"],[0.5555555555555556,\"#d8576b\"],[0.6666666666666666,\"#ed7953\"],[0.7777777777777778,\"#fb9f3a\"],[0.8888888888888888,\"#fdca26\"],[1.0,\"#f0f921\"]],\"type\":\"heatmapgl\"}],\"histogram\":[{\"marker\":{\"pattern\":{\"fillmode\":\"overlay\",\"size\":10,\"solidity\":0.2}},\"type\":\"histogram\"}],\"histogram2d\":[{\"colorbar\":{\"outlinewidth\":0,\"ticks\":\"\"},\"colorscale\":[[0.0,\"#0d0887\"],[0.1111111111111111,\"#46039f\"],[0.2222222222222222,\"#7201a8\"],[0.3333333333333333,\"#9c179e\"],[0.4444444444444444,\"#bd3786\"],[0.5555555555555556,\"#d8576b\"],[0.6666666666666666,\"#ed7953\"],[0.7777777777777778,\"#fb9f3a\"],[0.8888888888888888,\"#fdca26\"],[1.0,\"#f0f921\"]],\"type\":\"histogram2d\"}],\"histogram2dcontour\":[{\"colorbar\":{\"outlinewidth\":0,\"ticks\":\"\"},\"colorscale\":[[0.0,\"#0d0887\"],[0.1111111111111111,\"#46039f\"],[0.2222222222222222,\"#7201a8\"],[0.3333333333333333,\"#9c179e\"],[0.4444444444444444,\"#bd3786\"],[0.5555555555555556,\"#d8576b\"],[0.6666666666666666,\"#ed7953\"],[0.7777777777777778,\"#fb9f3a\"],[0.8888888888888888,\"#fdca26\"],[1.0,\"#f0f921\"]],\"type\":\"histogram2dcontour\"}],\"mesh3d\":[{\"colorbar\":{\"outlinewidth\":0,\"ticks\":\"\"},\"type\":\"mesh3d\"}],\"parcoords\":[{\"line\":{\"colorbar\":{\"outlinewidth\":0,\"ticks\":\"\"}},\"type\":\"parcoords\"}],\"pie\":[{\"automargin\":true,\"type\":\"pie\"}],\"scatter\":[{\"marker\":{\"colorbar\":{\"outlinewidth\":0,\"ticks\":\"\"}},\"type\":\"scatter\"}],\"scatter3d\":[{\"line\":{\"colorbar\":{\"outlinewidth\":0,\"ticks\":\"\"}},\"marker\":{\"colorbar\":{\"outlinewidth\":0,\"ticks\":\"\"}},\"type\":\"scatter3d\"}],\"scattercarpet\":[{\"marker\":{\"colorbar\":{\"outlinewidth\":0,\"ticks\":\"\"}},\"type\":\"scattercarpet\"}],\"scattergeo\":[{\"marker\":{\"colorbar\":{\"outlinewidth\":0,\"ticks\":\"\"}},\"type\":\"scattergeo\"}],\"scattergl\":[{\"marker\":{\"colorbar\":{\"outlinewidth\":0,\"ticks\":\"\"}},\"type\":\"scattergl\"}],\"scattermapbox\":[{\"marker\":{\"colorbar\":{\"outlinewidth\":0,\"ticks\":\"\"}},\"type\":\"scattermapbox\"}],\"scatterpolar\":[{\"marker\":{\"colorbar\":{\"outlinewidth\":0,\"ticks\":\"\"}},\"type\":\"scatterpolar\"}],\"scatterpolargl\":[{\"marker\":{\"colorbar\":{\"outlinewidth\":0,\"ticks\":\"\"}},\"type\":\"scatterpolargl\"}],\"scatterternary\":[{\"marker\":{\"colorbar\":{\"outlinewidth\":0,\"ticks\":\"\"}},\"type\":\"scatterternary\"}],\"surface\":[{\"colorbar\":{\"outlinewidth\":0,\"ticks\":\"\"},\"colorscale\":[[0.0,\"#0d0887\"],[0.1111111111111111,\"#46039f\"],[0.2222222222222222,\"#7201a8\"],[0.3333333333333333,\"#9c179e\"],[0.4444444444444444,\"#bd3786\"],[0.5555555555555556,\"#d8576b\"],[0.6666666666666666,\"#ed7953\"],[0.7777777777777778,\"#fb9f3a\"],[0.8888888888888888,\"#fdca26\"],[1.0,\"#f0f921\"]],\"type\":\"surface\"}],\"table\":[{\"cells\":{\"fill\":{\"color\":\"#EBF0F8\"},\"line\":{\"color\":\"white\"}},\"header\":{\"fill\":{\"color\":\"#C8D4E3\"},\"line\":{\"color\":\"white\"}},\"type\":\"table\"}]},\"layout\":{\"annotationdefaults\":{\"arrowcolor\":\"#2a3f5f\",\"arrowhead\":0,\"arrowwidth\":1},\"autotypenumbers\":\"strict\",\"coloraxis\":{\"colorbar\":{\"outlinewidth\":0,\"ticks\":\"\"}},\"colorscale\":{\"diverging\":[[0,\"#8e0152\"],[0.1,\"#c51b7d\"],[0.2,\"#de77ae\"],[0.3,\"#f1b6da\"],[0.4,\"#fde0ef\"],[0.5,\"#f7f7f7\"],[0.6,\"#e6f5d0\"],[0.7,\"#b8e186\"],[0.8,\"#7fbc41\"],[0.9,\"#4d9221\"],[1,\"#276419\"]],\"sequential\":[[0.0,\"#0d0887\"],[0.1111111111111111,\"#46039f\"],[0.2222222222222222,\"#7201a8\"],[0.3333333333333333,\"#9c179e\"],[0.4444444444444444,\"#bd3786\"],[0.5555555555555556,\"#d8576b\"],[0.6666666666666666,\"#ed7953\"],[0.7777777777777778,\"#fb9f3a\"],[0.8888888888888888,\"#fdca26\"],[1.0,\"#f0f921\"]],\"sequentialminus\":[[0.0,\"#0d0887\"],[0.1111111111111111,\"#46039f\"],[0.2222222222222222,\"#7201a8\"],[0.3333333333333333,\"#9c179e\"],[0.4444444444444444,\"#bd3786\"],[0.5555555555555556,\"#d8576b\"],[0.6666666666666666,\"#ed7953\"],[0.7777777777777778,\"#fb9f3a\"],[0.8888888888888888,\"#fdca26\"],[1.0,\"#f0f921\"]]},\"colorway\":[\"#636efa\",\"#EF553B\",\"#00cc96\",\"#ab63fa\",\"#FFA15A\",\"#19d3f3\",\"#FF6692\",\"#B6E880\",\"#FF97FF\",\"#FECB52\"],\"font\":{\"color\":\"#2a3f5f\"},\"geo\":{\"bgcolor\":\"white\",\"lakecolor\":\"white\",\"landcolor\":\"#E5ECF6\",\"showlakes\":true,\"showland\":true,\"subunitcolor\":\"white\"},\"hoverlabel\":{\"align\":\"left\"},\"hovermode\":\"closest\",\"mapbox\":{\"style\":\"light\"},\"paper_bgcolor\":\"white\",\"plot_bgcolor\":\"#E5ECF6\",\"polar\":{\"angularaxis\":{\"gridcolor\":\"white\",\"linecolor\":\"white\",\"ticks\":\"\"},\"bgcolor\":\"#E5ECF6\",\"radialaxis\":{\"gridcolor\":\"white\",\"linecolor\":\"white\",\"ticks\":\"\"}},\"scene\":{\"xaxis\":{\"backgroundcolor\":\"#E5ECF6\",\"gridcolor\":\"white\",\"gridwidth\":2,\"linecolor\":\"white\",\"showbackground\":true,\"ticks\":\"\",\"zerolinecolor\":\"white\"},\"yaxis\":{\"backgroundcolor\":\"#E5ECF6\",\"gridcolor\":\"white\",\"gridwidth\":2,\"linecolor\":\"white\",\"showbackground\":true,\"ticks\":\"\",\"zerolinecolor\":\"white\"},\"zaxis\":{\"backgroundcolor\":\"#E5ECF6\",\"gridcolor\":\"white\",\"gridwidth\":2,\"linecolor\":\"white\",\"showbackground\":true,\"ticks\":\"\",\"zerolinecolor\":\"white\"}},\"shapedefaults\":{\"line\":{\"color\":\"#2a3f5f\"}},\"ternary\":{\"aaxis\":{\"gridcolor\":\"white\",\"linecolor\":\"white\",\"ticks\":\"\"},\"baxis\":{\"gridcolor\":\"white\",\"linecolor\":\"white\",\"ticks\":\"\"},\"bgcolor\":\"#E5ECF6\",\"caxis\":{\"gridcolor\":\"white\",\"linecolor\":\"white\",\"ticks\":\"\"}},\"title\":{\"x\":0.05},\"xaxis\":{\"automargin\":true,\"gridcolor\":\"white\",\"linecolor\":\"white\",\"ticks\":\"\",\"title\":{\"standoff\":15},\"zerolinecolor\":\"white\",\"zerolinewidth\":2},\"yaxis\":{\"automargin\":true,\"gridcolor\":\"white\",\"linecolor\":\"white\",\"ticks\":\"\",\"title\":{\"standoff\":15},\"zerolinecolor\":\"white\",\"zerolinewidth\":2}}},\"xaxis\":{\"anchor\":\"y\",\"domain\":[0.0,0.235],\"type\":\"linear\",\"title\":{\"font\":{\"size\":20},\"text\":\"Interactions Observed\"},\"nticks\":16,\"tick0\":1},\"yaxis\":{\"anchor\":\"x\",\"domain\":[0.0,0.30666666666666664],\"title\":{\"text\":\"\"}},\"xaxis2\":{\"anchor\":\"y2\",\"domain\":[0.255,0.49],\"matches\":\"x\",\"type\":\"linear\",\"title\":{\"font\":{\"size\":20},\"text\":\"Interactions Observed\"},\"nticks\":16,\"tick0\":1},\"yaxis2\":{\"anchor\":\"x2\",\"domain\":[0.0,0.30666666666666664],\"matches\":\"y\",\"showticklabels\":false},\"xaxis3\":{\"anchor\":\"y3\",\"domain\":[0.51,0.745],\"matches\":\"x\",\"type\":\"linear\",\"title\":{\"font\":{\"size\":20},\"text\":\"Interactions Observed\"},\"nticks\":16,\"tick0\":1},\"yaxis3\":{\"anchor\":\"x3\",\"domain\":[0.0,0.30666666666666664],\"matches\":\"y\",\"showticklabels\":false},\"xaxis4\":{\"anchor\":\"y4\",\"domain\":[0.7649999999999999,0.9999999999999999],\"matches\":\"x\",\"type\":\"linear\",\"title\":{\"font\":{\"size\":20},\"text\":\"Interactions Observed\"},\"nticks\":16,\"tick0\":1},\"yaxis4\":{\"anchor\":\"x4\",\"domain\":[0.0,0.30666666666666664],\"matches\":\"y\",\"showticklabels\":false},\"xaxis5\":{\"anchor\":\"y5\",\"domain\":[0.0,0.235],\"matches\":\"x\",\"showticklabels\":false,\"type\":\"linear\",\"title\":{\"font\":{\"size\":12}},\"nticks\":16,\"tick0\":1},\"yaxis5\":{\"anchor\":\"x5\",\"domain\":[0.3466666666666666,0.6533333333333333],\"matches\":\"y\",\"title\":{\"text\":\"\"}},\"xaxis6\":{\"anchor\":\"y6\",\"domain\":[0.255,0.49],\"matches\":\"x\",\"showticklabels\":false,\"type\":\"linear\",\"title\":{\"font\":{\"size\":12}},\"nticks\":16,\"tick0\":1},\"yaxis6\":{\"anchor\":\"x6\",\"domain\":[0.3466666666666666,0.6533333333333333],\"matches\":\"y\",\"showticklabels\":false},\"xaxis7\":{\"anchor\":\"y7\",\"domain\":[0.51,0.745],\"matches\":\"x\",\"showticklabels\":false,\"type\":\"linear\",\"title\":{\"font\":{\"size\":12}},\"nticks\":16,\"tick0\":1},\"yaxis7\":{\"anchor\":\"x7\",\"domain\":[0.3466666666666666,0.6533333333333333],\"matches\":\"y\",\"showticklabels\":false},\"xaxis8\":{\"anchor\":\"y8\",\"domain\":[0.7649999999999999,0.9999999999999999],\"matches\":\"x\",\"showticklabels\":false,\"type\":\"linear\",\"title\":{\"font\":{\"size\":12}},\"nticks\":16,\"tick0\":1},\"yaxis8\":{\"anchor\":\"x8\",\"domain\":[0.3466666666666666,0.6533333333333333],\"matches\":\"y\",\"showticklabels\":false},\"xaxis9\":{\"anchor\":\"y9\",\"domain\":[0.0,0.235],\"matches\":\"x\",\"showticklabels\":false,\"type\":\"linear\",\"title\":{\"font\":{\"size\":12}},\"nticks\":16,\"tick0\":1},\"yaxis9\":{\"anchor\":\"x9\",\"domain\":[0.6933333333333332,0.9999999999999999],\"matches\":\"y\",\"title\":{\"text\":\"\"}},\"xaxis10\":{\"anchor\":\"y10\",\"domain\":[0.255,0.49],\"matches\":\"x\",\"showticklabels\":false,\"type\":\"linear\",\"title\":{\"font\":{\"size\":12}},\"nticks\":16,\"tick0\":1},\"yaxis10\":{\"anchor\":\"x10\",\"domain\":[0.6933333333333332,0.9999999999999999],\"matches\":\"y\",\"showticklabels\":false},\"xaxis11\":{\"anchor\":\"y11\",\"domain\":[0.51,0.745],\"matches\":\"x\",\"showticklabels\":false,\"type\":\"linear\",\"title\":{\"font\":{\"size\":12}},\"nticks\":16,\"tick0\":1},\"yaxis11\":{\"anchor\":\"x11\",\"domain\":[0.6933333333333332,0.9999999999999999],\"matches\":\"y\",\"showticklabels\":false},\"xaxis12\":{\"anchor\":\"y12\",\"domain\":[0.7649999999999999,0.9999999999999999],\"matches\":\"x\",\"showticklabels\":false,\"type\":\"linear\",\"title\":{\"font\":{\"size\":12}},\"nticks\":16,\"tick0\":1},\"yaxis12\":{\"anchor\":\"x12\",\"domain\":[0.6933333333333332,0.9999999999999999],\"matches\":\"y\",\"showticklabels\":false},\"annotations\":[{\"font\":{},\"showarrow\":false,\"text\":\"user=CnOeEROhOZaX\",\"x\":0.1175,\"xanchor\":\"center\",\"xref\":\"paper\",\"y\":0.30666666666666664,\"yanchor\":\"bottom\",\"yref\":\"paper\"},{\"font\":{},\"showarrow\":false,\"text\":\"user=8D64yb05oRDt\",\"x\":0.3725,\"xanchor\":\"center\",\"xref\":\"paper\",\"y\":0.30666666666666664,\"yanchor\":\"bottom\",\"yref\":\"paper\"},{\"font\":{},\"showarrow\":false,\"text\":\"user=r9cpBWj7l0iV\",\"x\":0.6275,\"xanchor\":\"center\",\"xref\":\"paper\",\"y\":0.30666666666666664,\"yanchor\":\"bottom\",\"yref\":\"paper\"},{\"font\":{},\"showarrow\":false,\"text\":\"user=ZY1tfYLxtiya\",\"x\":0.8824999999999998,\"xanchor\":\"center\",\"xref\":\"paper\",\"y\":0.30666666666666664,\"yanchor\":\"bottom\",\"yref\":\"paper\"},{\"font\":{},\"showarrow\":false,\"text\":\"user=hoMzF8Cf1Y5j\",\"x\":0.1175,\"xanchor\":\"center\",\"xref\":\"paper\",\"y\":0.6533333333333333,\"yanchor\":\"bottom\",\"yref\":\"paper\"},{\"font\":{},\"showarrow\":false,\"text\":\"user=gPCb7Uy0pEM0\",\"x\":0.3725,\"xanchor\":\"center\",\"xref\":\"paper\",\"y\":0.6533333333333333,\"yanchor\":\"bottom\",\"yref\":\"paper\"},{\"font\":{},\"showarrow\":false,\"text\":\"user=3Sp3rSvqFsh6\",\"x\":0.6275,\"xanchor\":\"center\",\"xref\":\"paper\",\"y\":0.6533333333333333,\"yanchor\":\"bottom\",\"yref\":\"paper\"},{\"font\":{},\"showarrow\":false,\"text\":\"user=qFIltQnZAor7\",\"x\":0.8824999999999998,\"xanchor\":\"center\",\"xref\":\"paper\",\"y\":0.6533333333333333,\"yanchor\":\"bottom\",\"yref\":\"paper\"},{\"font\":{},\"showarrow\":false,\"text\":\"user=lPpxNz1aVtYh\",\"x\":0.1175,\"xanchor\":\"center\",\"xref\":\"paper\",\"y\":0.9999999999999999,\"yanchor\":\"bottom\",\"yref\":\"paper\"},{\"font\":{},\"showarrow\":false,\"text\":\"user=xrOuOynQhVbO\",\"x\":0.3725,\"xanchor\":\"center\",\"xref\":\"paper\",\"y\":0.9999999999999999,\"yanchor\":\"bottom\",\"yref\":\"paper\"},{\"font\":{},\"showarrow\":false,\"text\":\"user=6oheLF74hlXc\",\"x\":0.6275,\"xanchor\":\"center\",\"xref\":\"paper\",\"y\":0.9999999999999999,\"yanchor\":\"bottom\",\"yref\":\"paper\"},{\"font\":{},\"showarrow\":false,\"text\":\"user=8cPi4CoiSpNN\",\"x\":0.8824999999999998,\"xanchor\":\"center\",\"xref\":\"paper\",\"y\":0.9999999999999999,\"yanchor\":\"bottom\",\"yref\":\"paper\"}],\"legend\":{\"title\":{\"text\":\"\"},\"tracegroupgap\":0,\"orientation\":\"h\",\"yanchor\":\"bottom\",\"y\":-0.22,\"xanchor\":\"right\",\"x\":1},\"title\":{\"text\":\"Top Ranking Bias During Exploration of Political Data\",\"font\":{\"size\":20},\"x\":0.5,\"xanchor\":\"center\",\"yanchor\":\"top\"},\"barmode\":\"overlay\",\"height\":1200,\"width\":2000,\"font\":{\"color\":\"black\",\"size\":20}},                        {\"responsive\": true}                    ).then(function(){\n",
       "                            \n",
       "var gd = document.getElementById('acb8f798-f228-47ba-8f7f-1314397f0774');\n",
       "var x = new MutationObserver(function (mutations, observer) {{\n",
       "        var display = window.getComputedStyle(gd).display;\n",
       "        if (!display || display === 'none') {{\n",
       "            console.log([gd, 'removed!']);\n",
       "            Plotly.purge(gd);\n",
       "            observer.disconnect();\n",
       "        }}\n",
       "}});\n",
       "\n",
       "// Listen for the removal of the full notebook cells\n",
       "var notebookContainer = gd.closest('#notebook-container');\n",
       "if (notebookContainer) {{\n",
       "    x.observe(notebookContainer, {childList: true});\n",
       "}}\n",
       "\n",
       "// Listen for the clearing of the current output cell\n",
       "var outputEl = gd.closest('.output');\n",
       "if (outputEl) {{\n",
       "    x.observe(outputEl, {childList: true});\n",
       "}}\n",
       "\n",
       "                        })                };                });            </script>        </div>"
      ]
     },
     "metadata": {},
     "output_type": "display_data"
    }
   ],
   "source": [
    "bias_metric_per_task = {'party': 'bias-party', 'gender': 'bias-gender', 'occupation':'bias-occupation',\n",
    "                       'age': 'bias-age', 'political_experience': 'bias-political_experience',\n",
    "                       'policy_strength_ban_abortion_after_6_weeks': 'bias-policy_strength_ban_abortion_after_6_weeks',\n",
    "                       'policy_strength_legalize_medical_marijuana':'bias-policy_strength_legalize_medical_marijuana',\n",
    "                        'policy_strength_increase_medicare_funding': 'bias-policy_strength_increase_medicare_funding',\n",
    "                       'policy_strength_ban_alcohol_sales_sundays': 'bias-policy_strength_ban_alcohol_sales_sundays'}\n",
    "\n",
    "bias_metric_per_task_hmm = {'party': 'bias-bias_party', 'gender': 'bias-bias_gender', 'occupation':'bias-bias_occupation',\n",
    "                       'age': 'bias-bias_age', 'political_experience': 'bias-bias_political_experience',\n",
    "                       'policy_strength_ban_abortion_after_6_weeks': 'bias-bias_policy_strength_ban_abortion_after_6_weeks',\n",
    "                       'policy_strength_legalize_medical_marijuana':'bias-bias_policy_strength_legalize_medical_marijuana',\n",
    "                        'policy_strength_increase_medicare_funding': 'bias-bias_policy_strength_increase_medicare_funding',\n",
    "                       'policy_strength_ban_alcohol_sales_sundays': 'bias-bias_policy_strength_ban_alcohol_sales_sundays'}\n",
    "\n",
    "bias_metric_per_task_ac = {'party': 'bias-party', 'gender': 'bias-gender', 'occupation':'bias-occupation',\n",
    "                       'age': 'bias-age_disc', 'political_experience': 'bias-political_experience_disc',\n",
    "                       'policy_strength_ban_abortion_after_6_weeks': 'bias-policy_strength_ban_abortion_after_6_weeks_disc',\n",
    "                       'policy_strength_legalize_medical_marijuana':'bias-policy_strength_legalize_medical_marijuana_disc',\n",
    "                        'policy_strength_increase_medicare_funding': 'bias-policy_strength_increase_medicare_funding_disc',\n",
    "                       'policy_strength_ban_alcohol_sales_sundays': 'bias-policy_strength_ban_alcohol_sales_sundays_disc'}\n",
    "\n",
    "shorten_col = ['policy_strength_legalize_medical_marijuana', 'policy_strength_ban_abortion_after_6_weeks',\n",
    "                   'policy_strength_increase_medicare_funding', 'policy_strength_ban_alcohol_sales_sundays']\n",
    "\n",
    "shorten_col_vals = {'policy_strength_legalize_medical_marijuana': 'marijuana',\n",
    "              'policy_strength_ban_abortion_after_6_weeks': 'abortion',\n",
    "              'policy_strength_increase_medicare_funding': 'medicare',\n",
    "              'policy_strength_ban_alcohol_sales_sundays': 'alcohol'}\n",
    "\n",
    "def user_bias_over_time(user, results, bias_metric_names, alg):\n",
    "    user_top_bias = pd.DataFrame()\n",
    "    start_stop_list = []\n",
    "    attribute_list = []\n",
    "    session_len = len(interaction_data.loc[interaction_data.user == user, 'interaction_session'].values[0])\n",
    "    for i in range(session_len):\n",
    "        if i > 0:\n",
    "            user_bias_data = results[results.participant_id == user]\n",
    "            current_max = {'attribute': '', 'bias': 0}\n",
    "            for attr in bias_metric_names.values():\n",
    "                attr_clean = [k for k,v in bias_metric_names.items() if v == attr][0]\n",
    "                if attr_clean in shorten_col:\n",
    "                    attr_clean = shorten_col_vals[attr_clean]\n",
    "                current_bias =  float(user_bias_data[attr].values[0][i-1])\n",
    "                if current_max['bias'] < current_bias:\n",
    "                    current_max['attribute'] = attr_clean\n",
    "                    current_max['bias'] = current_bias\n",
    "                elif current_max['bias'] == current_bias:\n",
    "                    current_max_str = current_max['attribute'] + ' ' + attr_clean\n",
    "                    current_max_str = current_max_str.replace(' + ', ' ')\n",
    "                    split_array = current_max_str.split()\n",
    "                    list_max_attrs = sorted(split_array)\n",
    "                    mixed_attr_title = ' + '.join([elem for elem in list_max_attrs])\n",
    "                    current_max['attribute'] = mixed_attr_title\n",
    "                    current_max['bias'] = current_bias\n",
    "            start_stop_list.append(tuple((i, i + 1)))\n",
    "            user_top_bias = pd.concat([user_top_bias, pd.DataFrame({'user': [user], 'alg': alg,'start': [i],\n",
    "                                        'stop': [i + 1], 'top_bias': [current_max['attribute']],\n",
    "                                        'bias_value': [round(current_max['bias'], 2)]})])\n",
    "    return user_top_bias.reset_index(drop=True), start_stop_list\n",
    "            \n",
    "user_list = interaction_data['user'].unique()\n",
    "all_user_sessions = pd.DataFrame()\n",
    "\n",
    "for user in user_list:\n",
    "    df, start_stop = user_bias_over_time(user, political_results_wall, bias_metric_per_task, 'AD')\n",
    "    df_hmm, start_stop = user_bias_over_time(user, political_results_hmm, bias_metric_per_task_hmm, 'HMM')\n",
    "    df_cm, start_stop = user_bias_over_time(user, political_results_cm, bias_metric_per_task, 'CM')\n",
    "    df_ac, start_stop = user_bias_over_time(user, political_results_ac, bias_metric_per_task_ac, 'AC')\n",
    "    combined_user = pd.concat([df, df_hmm, df_cm, df_ac])\n",
    "    all_user_sessions = pd.concat([all_user_sessions, combined_user])\n",
    "    \n",
    "all_user_sessions['delta'] = all_user_sessions['stop'] - all_user_sessions['start']\n",
    "\n",
    "colors = px.colors.qualitative.Plotly + px.colors.qualitative.Safe\n",
    "fig = px.timeline(all_user_sessions, x_start='start', x_end='stop', y='alg', color='top_bias', text='bias_value',\n",
    "                  facet_col='user', facet_col_wrap = 4,\n",
    "                  title = 'Top Ranking Bias During Exploration of Political Data',\n",
    "                 labels = {'alg':''}, facet_row_spacing=0.04, width=2000 , height=1200,\n",
    "                 color_discrete_sequence=colors)\n",
    "\n",
    "fig.for_each_xaxis(lambda xaxis: xaxis.update(type='linear'))\n",
    "\n",
    "for d in fig.data:\n",
    "    x_array = len(d.x)\n",
    "    d.x = [1] * x_array\n",
    "\n",
    "fig.update_xaxes(\n",
    "    nticks= 16,\n",
    "    tick0 = 1,\n",
    "    title_font=dict(size=12)\n",
    ")\n",
    "\n",
    "font_size = 20\n",
    "fig.update_xaxes(title_text = 'Interactions Observed', title_font=dict(size=font_size), row=1, col=1)\n",
    "fig.update_xaxes(title_text = 'Interactions Observed', title_font=dict(size=font_size), row=1, col=2)\n",
    "fig.update_xaxes(title_text = 'Interactions Observed', title_font=dict(size=font_size), row=1, col=3)\n",
    "fig.update_xaxes(title_text = 'Interactions Observed', title_font=dict(size=font_size), row=1, col=4)\n",
    "\n",
    "\n",
    "fig.update_layout(\n",
    "    title = dict(x=0.5, xanchor='center', yanchor='top', font_size=font_size),\n",
    "    legend=dict(title = '', orientation=\"h\", yanchor=\"bottom\", y=-0.22, xanchor=\"right\", x=1),\n",
    "    font=dict(color='black', size=font_size)\n",
    ")\n",
    "\n",
    "fig.for_each_trace(\n",
    "    lambda trace: trace.update(marker_opacity = trace.text)\n",
    ")\n",
    "\n",
    "fig.update_traces(textfont_size=4, textangle=0, text='')\n",
    "fig.show()\n",
    "fig.write_image('../output/figs/political_user_session.png', scale=2)"
   ]
  },
  {
   "cell_type": "code",
   "execution_count": null,
   "id": "8c98f330",
   "metadata": {},
   "outputs": [],
   "source": [
    "avg_rank = pd.DataFrame()\n",
    "\n",
    "for i, row in political_results_hmm.iterrows():\n",
    "    average_rank = mean(row['rank'])\n",
    "    temp_df = pd.DataFrame({'alg': ['hmm'], 'average_rank': [average_rank]})\n",
    "    avg_rank = pd.concat([avg_rank, temp_df], ignore_index=True)\n",
    "for i, row in political_results_cm.iterrows():\n",
    "    average_rank = mean(row['rank'])\n",
    "    temp_df = pd.DataFrame({'alg': ['cm'], 'average_rank': [average_rank]})\n",
    "    avg_rank = pd.concat([avg_rank, temp_df], ignore_index=True)\n",
    "for i, row in political_results_af.iterrows():\n",
    "    average_rank = mean(row['rank'])\n",
    "    temp_df = pd.DataFrame({'alg': ['af'], 'average_rank': [average_rank]})\n",
    "    avg_rank = pd.concat([avg_rank, temp_df], ignore_index=True)\n",
    "for i, row in political_results_knn.iterrows():\n",
    "    average_rank = mean(row['rank'])\n",
    "    temp_df = pd.DataFrame({'alg': ['knn'], 'average_rank': [average_rank]})\n",
    "    avg_rank = pd.concat([avg_rank, temp_df], ignore_index=True)\n",
    "for i, row in political_results_ada.iterrows():\n",
    "    average_rank = mean(row['rank'])\n",
    "    temp_df = pd.DataFrame({'alg': ['ada_nb'], 'average_rank': [average_rank]})\n",
    "    avg_rank = pd.concat([avg_rank, temp_df], ignore_index=True)\n",
    "\n",
    "# stats f_oneway functions takes the groups as input and returns ANOVA F and p value\n",
    "def run_comp(data, task, alpha=0.05):\n",
    "    posthoc_dun = None\n",
    "    if task == None:\n",
    "        avg_rank_data = data\n",
    "    else:\n",
    "        avg_rank_data = data[data['task'] == task].dropna()\n",
    "    hmm_rank_val = avg_rank_data[avg_rank_data['alg'] == 'hmm']['average_rank'].values\n",
    "    cm_rank_val = avg_rank_data[avg_rank_data['alg'] == 'cm']['average_rank'].values\n",
    "    af_rank_val = avg_rank_data[avg_rank_data['alg'] == 'af']['average_rank'].values\n",
    "    knn_rank_val = avg_rank_data[avg_rank_data['alg'] == 'knn']['average_rank'].values\n",
    "    ada_nb_rank_val = avg_rank_data[avg_rank_data['alg'] == 'ada_nb']['average_rank'].values\n",
    "    \n",
    "    hmm_p = stats.shapiro(hmm_rank_val).pvalue\n",
    "    cm_p = stats.shapiro(cm_rank_val).pvalue\n",
    "    af_p = stats.shapiro(af_rank_val).pvalue\n",
    "    knn_p = stats.shapiro(knn_rank_val).pvalue\n",
    "    ada_nb_p = stats.shapiro(ada_nb_rank_val).pvalue\n",
    "    norm_p = np.array([hmm_p, cm_p, af_p, knn_p, ada_nb_p])\n",
    "    \n",
    "    if all(p >= alpha for p in norm_p):\n",
    "        print('ANOVA')\n",
    "        statistic, pvalue = stats.f_oneway(hmm_rank_val, cm_rank_val, af_rank_val, knn_rank_val, ada_nb_rank_val)\n",
    "    else:\n",
    "        print('Kruskal')\n",
    "        kruskal_res = stats.kruskal(hmm_rank_val, cm_rank_val, af_rank_val, knn_rank_val, ada_nb_rank_val)\n",
    "        statistic = kruskal_res.statistic\n",
    "        pvalue = kruskal_res.pvalue\n",
    "        if pvalue <= alpha:\n",
    "            posthoc_dun = sci_post.posthoc_dunn(avg_rank_data, val_col='average_rank',\n",
    "                                          group_col = 'alg', p_adjust = 'bonferroni')\n",
    "    return statistic, pvalue, posthoc_dun\n",
    "\n",
    "statistic, p_val, posthoc_dun = run_comp(avg_rank, task = None)\n",
    "print(f'statistic: {statistic}, p_val: {p_val}\\nmult_comp:\\n {posthoc_dun}\\n')\n",
    "sns.catplot(\n",
    "    data=avg_rank, x='average_rank', y='alg', kind='box', height=5\n",
    ").set(title='Average Rank Per Session for political')"
   ]
  },
  {
   "cell_type": "code",
   "execution_count": null,
   "id": "89c99b46",
   "metadata": {},
   "outputs": [],
   "source": [
    "# Comparing next click prediction with Competing Models and HMM\n",
    "# fig, axs = plt.subplots(1, 2, sharey=True, figsize=(2*6.4, 4.8))\n",
    "fig = plt.figure(figsize=(2*6.4, 4.8))\n",
    "plt.rcParams.update({'axes.titlesize': 15, 'axes.labelsize': 15, 'xtick.labelsize':12, 'xtick.labelsize':12})\n",
    "ax = fig.add_axes([0,0,1,1])\n",
    "ax.set(ylabel='Avg. Accuracy')\n",
    "ax.spines['right'].set_visible(False)\n",
    "ax.spines['top'].set_visible(False)\n",
    "ax.spines['left'].set_color('black')\n",
    "ax.spines['bottom'].set_color('black')\n",
    "ax.set(xlabel='k')\n",
    "ax.set_ylim((0, 1.05))\n",
    "\n",
    "    \n",
    "labels = ['ncp-1','ncp-5','ncp-10','ncp-20','ncp-50','ncp-100']\n",
    "x = np.arange(len(labels))  # the label locations\n",
    "width = 0.15  # the width of the bars\n",
    "df_temp_hmm = political_results_hmm[[f'ncp-{k}' for k in ks]]\n",
    "err_hmm = df_temp_hmm.std() / np.sqrt(len(df_temp_hmm))\n",
    "df_temp_cm = political_results_cm[[f'ncp-{k}' for k in ks]]\n",
    "err_cm = df_temp_cm.std() / np.sqrt(len(df_temp_cm))\n",
    "df_temp_knn = political_results_knn[[f'ncp-{k}' for k in ks]]\n",
    "err_knn = df_temp_knn.std() / np.sqrt(len(df_temp_knn))\n",
    "df_temp_af = political_results_af[[f'ncp-{k}' for k in ks]]\n",
    "err_af = df_temp_af.std() / np.sqrt(len(df_temp_af))\n",
    "df_temp_ada = political_results_ada[[f'ncp-{k}' for k in ks]]\n",
    "err_ada = df_temp_ada.std() / np.sqrt(len(df_temp_ada))\n",
    "\n",
    "hmm_results = df_temp_hmm.mean()\n",
    "cm_results = df_temp_cm.mean()\n",
    "knn_results = df_temp_knn.mean()\n",
    "af_results = df_temp_af.mean()\n",
    "ada_results = df_temp_ada.mean()\n",
    "\n",
    "hmm_bar = ax.bar(x - width*2, hmm_results, width, label='HMM', yerr=err_hmm)\n",
    "cm_bar = ax.bar(x - width, cm_results, width, label='Competing Models', yerr=err_cm, color='#d95f02', alpha=0.6)\n",
    "knn_bar = ax.bar(x, knn_results, width, label='KNN', yerr=err_knn, color='#DC143C', alpha=0.6)\n",
    "af_bar = ax.bar(x + width, af_results, width, label='Analytic Focus', yerr=err_af, color='#548B54', alpha=0.6)\n",
    "ada_bar = ax.bar(x + width*2, ada_results, width, label='AdaBoost-NB', yerr=err_ada, color='#8A2BE2', alpha=0.6)\n",
    "\n",
    "ax.set_title('Aggregate Next Click Prediction for Political')\n",
    "ax.set_xticks(x, labels)\n",
    "ax.legend()\n",
    "plt.show()"
   ]
  },
  {
   "cell_type": "code",
   "execution_count": null,
   "id": "ae1a21d0",
   "metadata": {},
   "outputs": [],
   "source": []
  }
 ],
 "metadata": {
  "kernelspec": {
   "display_name": "Python 3",
   "language": "python",
   "name": "python3"
  },
  "language_info": {
   "codemirror_mode": {
    "name": "ipython",
    "version": 3
   },
   "file_extension": ".py",
   "mimetype": "text/x-python",
   "name": "python",
   "nbconvert_exporter": "python",
   "pygments_lexer": "ipython3",
   "version": "3.8.8"
  }
 },
 "nbformat": 4,
 "nbformat_minor": 5
}

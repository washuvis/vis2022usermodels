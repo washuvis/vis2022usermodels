{
 "cells": [
  {
   "cell_type": "code",
   "execution_count": null,
   "id": "21497963",
   "metadata": {},
   "outputs": [],
   "source": [
    "import sys\n",
    "sys.path.append('../implementation/')\n",
    "import ast\n",
    "import numpy as np\n",
    "import pandas as pd\n",
    "import matplotlib.pyplot as plt\n",
    "import scipy.special as sp\n",
    "from tqdm import tqdm\n",
    "import time\n",
    "from healey_adaboost_naive_bayes import AdaBoostNB\n",
    "import warnings\n",
    "from util import flatten_list\n",
    "warnings.filterwarnings('ignore')"
   ]
  },
  {
   "cell_type": "code",
   "execution_count": null,
   "id": "deea71f7",
   "metadata": {},
   "outputs": [],
   "source": [
    "underlying_data = pd.read_csv('../data/political/final/political.csv')\n",
    "clean_id = [s.replace(\"p\", \"\") for s in underlying_data['id']]\n",
    "clean_id = [int(s.lstrip('0')) - 1 for s in clean_id]\n",
    "underlying_data['id'] = clean_id\n",
    "underlying_data = underlying_data.set_index('id')\n",
    "underlying_data = underlying_data.sort_index()\n",
    "\n",
    "underlying_data['gender_code'] = pd.factorize(underlying_data['gender'])[0]\n",
    "underlying_data['party_code'] = pd.factorize(underlying_data['party'])[0]\n",
    "underlying_data['occupation_code'] = pd.factorize(underlying_data['occupation'])[0]\n",
    "\n",
    "\n",
    "output_file_path = '../output/political/political_ada_nb.pkl'\n",
    "\n",
    "interaction_data = pd.read_csv('../data/political/final/wall_political_interactions.csv')\n",
    "interaction_data['interaction_session'] = interaction_data.apply(lambda row: ast.literal_eval(row.interaction_session), axis=1)\n",
    "interaction_data['interaction_type'] = interaction_data.apply(lambda row: ast.literal_eval(row.interaction_type), axis=1)\n",
    "\n",
    "c_attrs = ['age', 'political_experience', 'policy_strength_ban_abortion_after_6_weeks', \n",
    "           'policy_strength_legalize_medical_marijuana', 'policy_strength_increase_medicare_funding',\n",
    "          'policy_strength_ban_alcohol_sales_sundays']\n",
    "d_attrs = ['party_code', 'gender_code', 'occupation_code']\n",
    "ks = [1, 5, 10, 20, 50, 100]\n",
    "underlying_data.sort_index()"
   ]
  },
  {
   "cell_type": "code",
   "execution_count": null,
   "id": "a8c8593b",
   "metadata": {},
   "outputs": [],
   "source": [
    "nb_results = pd.DataFrame()\n",
    "\n",
    "for participant_index, row in interaction_data.iterrows():\n",
    "    print(f'Processing user {row.user}')\n",
    "    results = {'participant_id': row.user}\n",
    "    model = AdaBoostNB(underlying_data, c_attrs, d_attrs)\n",
    "    predicted = pd.DataFrame()\n",
    "    rank_predicted = []\n",
    "    for i in tqdm(range(len(interaction_data.iloc[participant_index].interaction_session))):\n",
    "        interaction = interaction_data.iloc[participant_index].interaction_session[i]\n",
    "        model.update(interaction)\n",
    "\n",
    "        if i < len(interaction_data.iloc[participant_index].interaction_session) - 1:\n",
    "            probability_of_next_point = model.predict()\n",
    "            next_point = interaction_data.iloc[participant_index].interaction_session[i+1]\n",
    "            predicted_next_dict = {}\n",
    "            for k in ks:\n",
    "                predicted_next_dict[k] = (next_point in probability_of_next_point.nlargest(k).index.values)\n",
    "            predicted = predicted.append(predicted_next_dict, ignore_index=True)\n",
    "            sorted_prob = probability_of_next_point.sort_values(ascending=False)\n",
    "            rank, = np.where(sorted_prob.index.values == next_point)\n",
    "            rank_predicted.append(rank[0] + 1)\n",
    "    ncp = predicted.sum()/len(predicted)\n",
    "    results['rank'] = rank_predicted \n",
    "    \n",
    "    for col in ncp.index:\n",
    "        results[f'ncp-{col}'] = ncp[col]\n",
    "        \n",
    "    nb_results = nb_results.append(results, ignore_index=True)\n",
    "    \n",
    "nb_results.to_pickle(output_file_path)"
   ]
  },
  {
   "cell_type": "code",
   "execution_count": null,
   "id": "2612b6c1",
   "metadata": {},
   "outputs": [],
   "source": [
    "ks = [1, 5, 10, 20, 50, 100]\n",
    "\n",
    "df_temp = nb_results[[f'ncp-{k}' for k in ks]]\n",
    "err = df_temp.std() / np.sqrt(len(df_temp))\n",
    "df_temp.mean().plot.bar(yerr=err, color='#d95f02', alpha=0.5, title=f'Aggregate Next Click Prediction for Political Data')"
   ]
  },
  {
   "cell_type": "code",
   "execution_count": null,
   "id": "c76fc06c",
   "metadata": {},
   "outputs": [],
   "source": []
  }
 ],
 "metadata": {
  "kernelspec": {
   "display_name": "Python 3",
   "language": "python",
   "name": "python3"
  },
  "language_info": {
   "codemirror_mode": {
    "name": "ipython",
    "version": 3
   },
   "file_extension": ".py",
   "mimetype": "text/x-python",
   "name": "python",
   "nbconvert_exporter": "python",
   "pygments_lexer": "ipython3",
   "version": "3.8.8"
  }
 },
 "nbformat": 4,
 "nbformat_minor": 5
}

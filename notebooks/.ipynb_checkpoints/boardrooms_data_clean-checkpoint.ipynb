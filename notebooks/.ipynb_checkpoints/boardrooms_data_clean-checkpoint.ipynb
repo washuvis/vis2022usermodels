{
 "cells": [
  {
   "cell_type": "code",
   "execution_count": 1,
   "id": "f6e276a2",
   "metadata": {},
   "outputs": [],
   "source": [
    "import json\n",
    "import sys\n",
    "import pandas as pd\n",
    "import ast\n",
    "from tqdm import tqdm\n",
    "import matplotlib.pyplot as plt\n",
    "import numpy as np\n",
    "import warnings\n",
    "warnings.filterwarnings('ignore')\n",
    "sys.path.append('../implementation/')"
   ]
  },
  {
   "cell_type": "code",
   "execution_count": 2,
   "id": "68b0c139",
   "metadata": {},
   "outputs": [],
   "source": [
    "def boardrooms_data():\n",
    "\n",
    "    # read in the data\n",
    "    data_path = \"../data/boardrooms/old_version/data.json\"\n",
    "    attributes_of_interest = ['idcompany', 'companyname', 'mktcap', 'unrelated', 'female', 'age', 'tenure', 'medianpay', 'industry']\n",
    "    with open(data_path, 'r') as data_file:\n",
    "        data = json.loads(data_file.read())\n",
    "    data_file.close()\n",
    "\n",
    "    data_array = np.array([tuple(row[attr] for attr in attributes_of_interest) for row in data],\n",
    "                          dtype=[('idcompany', 'int'), ('companyname', 'U40'), ('mktcap', 'float'), ('unrelated', 'float'), ('female', 'float'), ('age', 'float'), ('tenure', 'float'), ('medianpay', 'float'), ('industry', 'U40')])\n",
    "    df = pd.DataFrame(data_array)\n",
    "    df.set_index('idcompany', drop=True, inplace=True)\n",
    "    df = df.reset_index()\n",
    "    return df"
   ]
  },
  {
   "cell_type": "code",
   "execution_count": 3,
   "id": "7daf59f3",
   "metadata": {},
   "outputs": [],
   "source": [
    "def boardrooms_ui_data():\n",
    "    # read in the user interaction data\n",
    "    interaction_data_path = \"../data/boardrooms/old_version/feng_experiment_interaction_data/searchinvis-boardrooms-per-visit.csv\"\n",
    "    user_interaction_data = pd.read_csv(interaction_data_path)\n",
    "    user_interaction_data = user_interaction_data.dropna(subset=['id', 'code', 'duration'])\n",
    "    user_interaction_data = user_interaction_data[user_interaction_data['duration'] > 1000]\n",
    "    \n",
    "    underlying_data = pd.read_csv(\"../data/boardrooms/boardrooms_data.csv\")\n",
    "\n",
    "    group_list = [1,2,3]\n",
    "    full_interactions = pd.DataFrame(columns = ['user', 'task', 'interaction_session'])\n",
    "    for group in group_list:\n",
    "        if group == 1:\n",
    "            user_interaction_data = user_interaction_data[np.logical_and(user_interaction_data['condition'] == 'foresight', user_interaction_data['if_search_factor'] == 'search')]\n",
    "        elif group == 2:\n",
    "            user_interaction_data = user_interaction_data[np.logical_and(user_interaction_data['condition'] == 'foresight', user_interaction_data['if_search_factor'] == 'non-search')]\n",
    "        elif group == 3:\n",
    "            user_interaction_data = user_interaction_data[user_interaction_data['condition'] == 'control']\n",
    "        else:\n",
    "            raise Exception('group argument missing')\n",
    "\n",
    "        interactions_by_participant = {}\n",
    "        print(str(group) + ': ', len(user_interaction_data))\n",
    "        for index, row in user_interaction_data.iterrows():\n",
    "            id = int(row['id'])\n",
    "            if id not in interactions_by_participant.keys():\n",
    "                interactions_by_participant[id] = []\n",
    "            comp_id = int(row['code'])\n",
    "            index_id = underlying_data.index[underlying_data['idcompany'] == comp_id].tolist()[0]\n",
    "            interactions_by_participant[id].append(index_id)\n",
    "        for id in interactions_by_participant.keys():\n",
    "            full_interactions = full_interactions.append({'user': id, 'task': group, 'interaction_session': interactions_by_participant[id]},  ignore_index = True)\n",
    "        \n",
    "    return full_interactions"
   ]
  },
  {
   "cell_type": "code",
   "execution_count": 4,
   "id": "684c8b46",
   "metadata": {},
   "outputs": [
    {
     "name": "stdout",
     "output_type": "stream",
     "text": [
      "1:  1100\n",
      "2:  0\n",
      "3:  0\n"
     ]
    }
   ],
   "source": [
    "df_ui = boardrooms_ui_data()\n",
    "df_ui.to_csv(\"../data/boardrooms/boardrooms_combined_interactions.csv\", index=False)"
   ]
  },
  {
   "cell_type": "code",
   "execution_count": 5,
   "id": "d17a5739",
   "metadata": {},
   "outputs": [],
   "source": [
    "df = boardrooms_data()\n",
    "df.to_csv(\"../data/boardrooms/boardrooms_data.csv\", index=False)"
   ]
  },
  {
   "cell_type": "code",
   "execution_count": null,
   "id": "7be8bd56",
   "metadata": {},
   "outputs": [],
   "source": []
  },
  {
   "cell_type": "code",
   "execution_count": null,
   "id": "cf8f9c74",
   "metadata": {},
   "outputs": [],
   "source": []
  }
 ],
 "metadata": {
  "kernelspec": {
   "display_name": "Python 3 (ipykernel)",
   "language": "python",
   "name": "python3"
  },
  "language_info": {
   "codemirror_mode": {
    "name": "ipython",
    "version": 3
   },
   "file_extension": ".py",
   "mimetype": "text/x-python",
   "name": "python",
   "nbconvert_exporter": "python",
   "pygments_lexer": "ipython3",
   "version": "3.8.9"
  }
 },
 "nbformat": 4,
 "nbformat_minor": 5
}

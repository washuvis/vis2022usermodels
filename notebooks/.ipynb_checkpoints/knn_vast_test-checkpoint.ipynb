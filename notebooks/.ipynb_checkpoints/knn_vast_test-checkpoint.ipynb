{
 "cells": [
  {
   "cell_type": "code",
   "execution_count": 4,
   "id": "add21ff1",
   "metadata": {},
   "outputs": [],
   "source": [
    "import sys\n",
    "sys.path.append('../implementation/')\n",
    "import ast\n",
    "import numpy as np\n",
    "import pandas as pd\n",
    "import matplotlib.pyplot as plt\n",
    "import scipy.special as sp\n",
    "from tqdm import tqdm\n",
    "import time\n",
    "from weighted_k_nearest_neighbors import WeightedKNN\n",
    "from util import flatten_list\n",
    "import warnings\n",
    "warnings.filterwarnings('ignore')"
   ]
  },
  {
   "cell_type": "code",
   "execution_count": 5,
   "id": "e780da64",
   "metadata": {},
   "outputs": [],
   "source": [
    "# Loading the underlying data and user interaction data\n",
    "data_path = '../data/vast_2011_challenge/vast_data_sample_reduced.pkl'\n",
    "bookmarks_ui_data_path = '../data/vast_2011_challenge/bookmark_interactions_clean.pkl'\n",
    "hovers_ui_data_path = '../data/vast_2011_challenge/hover_interactions.pkl'\n",
    "hovers = False\n",
    "if hovers:\n",
    "    output_file_path = '../output/vast/vast_11_hovers_knn.pkl'\n",
    "    interaction_data = pd.read_pickle(hovers_ui_data_path)\n",
    "else:\n",
    "    output_file_path = '../output/vast/vast_11_knn.pkl'\n",
    "    interaction_data = pd.read_pickle(bookmarks_ui_data_path)\n",
    "    interaction_data = interaction_data[interaction_data['experimental_group'] == 'control']\n",
    "    interaction_data = interaction_data.reset_index(drop=True)\n",
    "\n",
    "underlying_data = pd.read_pickle(data_path)\n",
    "\n",
    "ks = [1, 5, 10, 20, 50, 100]\n",
    "d_attributes = ['topic']\n",
    "c_attributes = [['latitude', 'longitude']]"
   ]
  },
  {
   "cell_type": "code",
   "execution_count": 6,
   "id": "8efe33be",
   "metadata": {},
   "outputs": [
    {
     "name": "stdout",
     "output_type": "stream",
     "text": [
      "Processing user ottNn7b8Wt1EL-I0bfFbOA task control\n",
      "Computing neighborhood matrix for latitude___longitude\n",
      "Computing neighborhood matrix for topic\n"
     ]
    },
    {
     "name": "stderr",
     "output_type": "stream",
     "text": [
      "100%|██████████| 45/45 [00:01<00:00, 26.05it/s]\n"
     ]
    },
    {
     "name": "stdout",
     "output_type": "stream",
     "text": [
      "Processing user Tn8m4yLs6E0GDO6sggwYTw task control\n",
      "Computing neighborhood matrix for latitude___longitude\n",
      "Computing neighborhood matrix for topic\n"
     ]
    },
    {
     "name": "stderr",
     "output_type": "stream",
     "text": [
      "100%|██████████| 147/147 [00:05<00:00, 25.29it/s]\n"
     ]
    },
    {
     "name": "stdout",
     "output_type": "stream",
     "text": [
      "Processing user SW8GwZ1tt4Z5DiK3J4rw2g task control\n",
      "Computing neighborhood matrix for latitude___longitude\n",
      "Computing neighborhood matrix for topic\n"
     ]
    },
    {
     "name": "stderr",
     "output_type": "stream",
     "text": [
      "100%|██████████| 145/145 [00:05<00:00, 26.67it/s]\n"
     ]
    },
    {
     "name": "stdout",
     "output_type": "stream",
     "text": [
      "Processing user POzOiTeXMSdTEbmSmI4wpg task control\n",
      "Computing neighborhood matrix for latitude___longitude\n",
      "Computing neighborhood matrix for topic\n"
     ]
    },
    {
     "name": "stderr",
     "output_type": "stream",
     "text": [
      "100%|██████████| 52/52 [00:02<00:00, 25.05it/s]\n"
     ]
    },
    {
     "name": "stdout",
     "output_type": "stream",
     "text": [
      "Processing user n-Oq8YP_DhsByGZyxuGroQ task control\n",
      "Computing neighborhood matrix for latitude___longitude\n",
      "Computing neighborhood matrix for topic\n"
     ]
    },
    {
     "name": "stderr",
     "output_type": "stream",
     "text": [
      "100%|██████████| 20/20 [00:00<00:00, 26.52it/s]\n"
     ]
    },
    {
     "name": "stdout",
     "output_type": "stream",
     "text": [
      "Processing user UNaSIzwWzwgmGLZsEyvgsQ task control\n",
      "Computing neighborhood matrix for latitude___longitude\n",
      "Computing neighborhood matrix for topic\n"
     ]
    },
    {
     "name": "stderr",
     "output_type": "stream",
     "text": [
      "100%|██████████| 45/45 [00:01<00:00, 22.77it/s]\n"
     ]
    },
    {
     "name": "stdout",
     "output_type": "stream",
     "text": [
      "Processing user 0R7Oc16T5OzW-_YNs9rkkg task control\n",
      "Computing neighborhood matrix for latitude___longitude\n",
      "Computing neighborhood matrix for topic\n"
     ]
    },
    {
     "name": "stderr",
     "output_type": "stream",
     "text": [
      "100%|██████████| 85/85 [00:03<00:00, 27.15it/s]\n"
     ]
    },
    {
     "name": "stdout",
     "output_type": "stream",
     "text": [
      "Processing user k0XtDgVMlnH0N1ivlez7hw task control\n",
      "Computing neighborhood matrix for latitude___longitude\n",
      "Computing neighborhood matrix for topic\n"
     ]
    },
    {
     "name": "stderr",
     "output_type": "stream",
     "text": [
      "100%|██████████| 22/22 [00:00<00:00, 27.11it/s]\n"
     ]
    },
    {
     "name": "stdout",
     "output_type": "stream",
     "text": [
      "Processing user bifsEtKMXIJ88523WNgtnw task control\n",
      "Computing neighborhood matrix for latitude___longitude\n",
      "Computing neighborhood matrix for topic\n"
     ]
    },
    {
     "name": "stderr",
     "output_type": "stream",
     "text": [
      "100%|██████████| 15/15 [00:00<00:00, 28.01it/s]\n"
     ]
    },
    {
     "name": "stdout",
     "output_type": "stream",
     "text": [
      "Processing user q-1VAayPIoWBjTCQi_DoVQ task control\n",
      "Computing neighborhood matrix for latitude___longitude\n",
      "Computing neighborhood matrix for topic\n"
     ]
    },
    {
     "name": "stderr",
     "output_type": "stream",
     "text": [
      "100%|██████████| 56/56 [00:02<00:00, 26.76it/s]\n"
     ]
    },
    {
     "name": "stdout",
     "output_type": "stream",
     "text": [
      "Processing user 0FomFSRLtGmolWmt6v-BzQ task control\n",
      "Computing neighborhood matrix for latitude___longitude\n",
      "Computing neighborhood matrix for topic\n"
     ]
    },
    {
     "name": "stderr",
     "output_type": "stream",
     "text": [
      "100%|██████████| 23/23 [00:00<00:00, 28.05it/s]\n"
     ]
    },
    {
     "name": "stdout",
     "output_type": "stream",
     "text": [
      "Processing user s_Iy02wt_jLcFG3_vAw1ig task control\n",
      "Computing neighborhood matrix for latitude___longitude\n",
      "Computing neighborhood matrix for topic\n"
     ]
    },
    {
     "name": "stderr",
     "output_type": "stream",
     "text": [
      "100%|██████████| 76/76 [00:02<00:00, 26.17it/s]\n"
     ]
    },
    {
     "name": "stdout",
     "output_type": "stream",
     "text": [
      "Processing user Rr-Am9XWLG_j9RzUhfpI6Q task control\n",
      "Computing neighborhood matrix for latitude___longitude\n",
      "Computing neighborhood matrix for topic\n"
     ]
    },
    {
     "name": "stderr",
     "output_type": "stream",
     "text": [
      "100%|██████████| 41/41 [00:01<00:00, 27.56it/s]\n"
     ]
    },
    {
     "name": "stdout",
     "output_type": "stream",
     "text": [
      "Processing user diIEYYtFfdAwwLsRtdW0wg task control\n",
      "Computing neighborhood matrix for latitude___longitude\n",
      "Computing neighborhood matrix for topic\n"
     ]
    },
    {
     "name": "stderr",
     "output_type": "stream",
     "text": [
      "100%|██████████| 62/62 [00:01<00:00, 31.10it/s]\n"
     ]
    },
    {
     "name": "stdout",
     "output_type": "stream",
     "text": [
      "Processing user SG09OWw6EdZOVvZlTjM-FQ task control\n",
      "Computing neighborhood matrix for latitude___longitude\n",
      "Computing neighborhood matrix for topic\n"
     ]
    },
    {
     "name": "stderr",
     "output_type": "stream",
     "text": [
      "100%|██████████| 55/55 [00:01<00:00, 31.76it/s]\n"
     ]
    },
    {
     "name": "stdout",
     "output_type": "stream",
     "text": [
      "Processing user 0aJkmv1hnmWrVGAwLE6RIg task control\n",
      "Computing neighborhood matrix for latitude___longitude\n",
      "Computing neighborhood matrix for topic\n"
     ]
    },
    {
     "name": "stderr",
     "output_type": "stream",
     "text": [
      "100%|██████████| 75/75 [00:02<00:00, 28.28it/s]\n"
     ]
    },
    {
     "name": "stdout",
     "output_type": "stream",
     "text": [
      "Processing user wMWdKtkmZiTUIW_s_XSiKw task control\n",
      "Computing neighborhood matrix for latitude___longitude\n",
      "Computing neighborhood matrix for topic\n"
     ]
    },
    {
     "name": "stderr",
     "output_type": "stream",
     "text": [
      "100%|██████████| 54/54 [00:01<00:00, 33.21it/s]\n"
     ]
    },
    {
     "name": "stdout",
     "output_type": "stream",
     "text": [
      "Processing user 3RJkTqsdzektLw8VmK3d1A task control\n",
      "Computing neighborhood matrix for latitude___longitude\n",
      "Computing neighborhood matrix for topic\n"
     ]
    },
    {
     "name": "stderr",
     "output_type": "stream",
     "text": [
      "100%|██████████| 60/60 [00:01<00:00, 31.17it/s]\n"
     ]
    },
    {
     "name": "stdout",
     "output_type": "stream",
     "text": [
      "Processing user K4oiwhn0PHkER7IOBzp3tA task control\n",
      "Computing neighborhood matrix for latitude___longitude\n",
      "Computing neighborhood matrix for topic\n"
     ]
    },
    {
     "name": "stderr",
     "output_type": "stream",
     "text": [
      "100%|██████████| 97/97 [00:03<00:00, 30.93it/s]\n"
     ]
    },
    {
     "name": "stdout",
     "output_type": "stream",
     "text": [
      "Processing user 9cgrSAf3_zRo509cVXexBw task control\n",
      "Computing neighborhood matrix for latitude___longitude\n",
      "Computing neighborhood matrix for topic\n"
     ]
    },
    {
     "name": "stderr",
     "output_type": "stream",
     "text": [
      "100%|██████████| 69/69 [00:02<00:00, 31.36it/s]\n"
     ]
    },
    {
     "name": "stdout",
     "output_type": "stream",
     "text": [
      "Processing user 705Te_LAeladSVRFI5Sp9w task control\n",
      "Computing neighborhood matrix for latitude___longitude\n",
      "Computing neighborhood matrix for topic\n"
     ]
    },
    {
     "name": "stderr",
     "output_type": "stream",
     "text": [
      "100%|██████████| 55/55 [00:01<00:00, 32.04it/s]\n"
     ]
    },
    {
     "name": "stdout",
     "output_type": "stream",
     "text": [
      "Processing user NRyzJB-AeSx5AOWhloLZ8g task control\n",
      "Computing neighborhood matrix for latitude___longitude\n",
      "Computing neighborhood matrix for topic\n"
     ]
    },
    {
     "name": "stderr",
     "output_type": "stream",
     "text": [
      "100%|██████████| 33/33 [00:01<00:00, 26.26it/s]\n"
     ]
    },
    {
     "name": "stdout",
     "output_type": "stream",
     "text": [
      "Processing user anfa5Zq4bjh-81ZE-RYzzA task control\n",
      "Computing neighborhood matrix for latitude___longitude\n",
      "Computing neighborhood matrix for topic\n"
     ]
    },
    {
     "name": "stderr",
     "output_type": "stream",
     "text": [
      "100%|██████████| 23/23 [00:00<00:00, 26.38it/s]\n"
     ]
    },
    {
     "name": "stdout",
     "output_type": "stream",
     "text": [
      "Processing user N0VtS5g31siXqoUhQnAAPQ task control\n",
      "Computing neighborhood matrix for latitude___longitude\n",
      "Computing neighborhood matrix for topic\n"
     ]
    },
    {
     "name": "stderr",
     "output_type": "stream",
     "text": [
      "100%|██████████| 153/153 [00:06<00:00, 23.69it/s]\n"
     ]
    },
    {
     "name": "stdout",
     "output_type": "stream",
     "text": [
      "Processing user -qgyUblFjzGauFx_Qt1xxQ task control\n",
      "Computing neighborhood matrix for latitude___longitude\n",
      "Computing neighborhood matrix for topic\n"
     ]
    },
    {
     "name": "stderr",
     "output_type": "stream",
     "text": [
      "100%|██████████| 82/82 [00:03<00:00, 24.58it/s]\n"
     ]
    },
    {
     "name": "stdout",
     "output_type": "stream",
     "text": [
      "Processing user rQCaKZQ2F25eBST_bWyKFA task control\n",
      "Computing neighborhood matrix for latitude___longitude\n",
      "Computing neighborhood matrix for topic\n"
     ]
    },
    {
     "name": "stderr",
     "output_type": "stream",
     "text": [
      "100%|██████████| 13/13 [00:00<00:00, 31.46it/s]\n"
     ]
    },
    {
     "name": "stdout",
     "output_type": "stream",
     "text": [
      "Processing user t3dx1A8gxcC7T0GkYvk4rQ task control\n",
      "Computing neighborhood matrix for latitude___longitude\n",
      "Computing neighborhood matrix for topic\n"
     ]
    },
    {
     "name": "stderr",
     "output_type": "stream",
     "text": [
      "100%|██████████| 66/66 [00:02<00:00, 30.45it/s]\n"
     ]
    },
    {
     "name": "stdout",
     "output_type": "stream",
     "text": [
      "Processing user pM3lshrmqr3py5jVQkCGog task control\n",
      "Computing neighborhood matrix for latitude___longitude\n",
      "Computing neighborhood matrix for topic\n"
     ]
    },
    {
     "name": "stderr",
     "output_type": "stream",
     "text": [
      "100%|██████████| 149/149 [00:05<00:00, 29.40it/s]\n"
     ]
    },
    {
     "name": "stdout",
     "output_type": "stream",
     "text": [
      "Processing user PtJP0V71F8Ud9kyU_molEw task control\n",
      "Computing neighborhood matrix for latitude___longitude\n",
      "Computing neighborhood matrix for topic\n"
     ]
    },
    {
     "name": "stderr",
     "output_type": "stream",
     "text": [
      "100%|██████████| 70/70 [00:02<00:00, 29.89it/s]\n"
     ]
    },
    {
     "name": "stdout",
     "output_type": "stream",
     "text": [
      "Processing user fgTmANyUtAen0exuGrzVzQ task control\n",
      "Computing neighborhood matrix for latitude___longitude\n",
      "Computing neighborhood matrix for topic\n"
     ]
    },
    {
     "name": "stderr",
     "output_type": "stream",
     "text": [
      "100%|██████████| 26/26 [00:00<00:00, 28.04it/s]\n"
     ]
    },
    {
     "name": "stdout",
     "output_type": "stream",
     "text": [
      "Processing user nHFRA1QAG9pg93oF4T1L2Q task control\n",
      "Computing neighborhood matrix for latitude___longitude\n",
      "Computing neighborhood matrix for topic\n"
     ]
    },
    {
     "name": "stderr",
     "output_type": "stream",
     "text": [
      "100%|██████████| 34/34 [00:00<00:00, 37.49it/s]\n"
     ]
    },
    {
     "name": "stdout",
     "output_type": "stream",
     "text": [
      "Processing user Q00_bx5Pq4Yn1_3XcqEp2g task control\n",
      "Computing neighborhood matrix for latitude___longitude\n",
      "Computing neighborhood matrix for topic\n"
     ]
    },
    {
     "name": "stderr",
     "output_type": "stream",
     "text": [
      "100%|██████████| 72/72 [00:01<00:00, 37.12it/s]\n"
     ]
    },
    {
     "name": "stdout",
     "output_type": "stream",
     "text": [
      "Processing user Y3r-Fnt1-qWQS7_mmHI5jw task control\n",
      "Computing neighborhood matrix for latitude___longitude\n",
      "Computing neighborhood matrix for topic\n"
     ]
    },
    {
     "name": "stderr",
     "output_type": "stream",
     "text": [
      "100%|██████████| 98/98 [00:02<00:00, 36.00it/s]\n"
     ]
    },
    {
     "name": "stdout",
     "output_type": "stream",
     "text": [
      "Processing user 5ECfx4KIAg6Yzyjhr4WnWg task control\n",
      "Computing neighborhood matrix for latitude___longitude\n",
      "Computing neighborhood matrix for topic\n"
     ]
    },
    {
     "name": "stderr",
     "output_type": "stream",
     "text": [
      "100%|██████████| 81/81 [00:02<00:00, 32.16it/s]\n"
     ]
    },
    {
     "name": "stdout",
     "output_type": "stream",
     "text": [
      "Processing user uq51tok4glK6YATXynq5EQ task control\n",
      "Computing neighborhood matrix for latitude___longitude\n",
      "Computing neighborhood matrix for topic\n"
     ]
    },
    {
     "name": "stderr",
     "output_type": "stream",
     "text": [
      "100%|██████████| 48/48 [00:01<00:00, 36.79it/s]\n"
     ]
    },
    {
     "name": "stdout",
     "output_type": "stream",
     "text": [
      "Processing user ZIRBQFPgBo9Lt_kHHC3MiA task control\n",
      "Computing neighborhood matrix for latitude___longitude\n",
      "Computing neighborhood matrix for topic\n"
     ]
    },
    {
     "name": "stderr",
     "output_type": "stream",
     "text": [
      "100%|██████████| 74/74 [00:02<00:00, 34.64it/s]\n"
     ]
    },
    {
     "name": "stdout",
     "output_type": "stream",
     "text": [
      "Processing user T2jkw-sDvoBLWJWDJ7zJTw task control\n",
      "Computing neighborhood matrix for latitude___longitude\n",
      "Computing neighborhood matrix for topic\n"
     ]
    },
    {
     "name": "stderr",
     "output_type": "stream",
     "text": [
      "100%|██████████| 79/79 [00:02<00:00, 36.49it/s]\n"
     ]
    },
    {
     "name": "stdout",
     "output_type": "stream",
     "text": [
      "Processing user 9gpKpL2nWUcfz8mxAh0Xzw task control\n",
      "Computing neighborhood matrix for latitude___longitude\n",
      "Computing neighborhood matrix for topic\n"
     ]
    },
    {
     "name": "stderr",
     "output_type": "stream",
     "text": [
      "100%|██████████| 93/93 [00:02<00:00, 31.59it/s]\n"
     ]
    },
    {
     "name": "stdout",
     "output_type": "stream",
     "text": [
      "Processing user 4ffSoA9uBjbb6IiECmA6bA task control\n",
      "Computing neighborhood matrix for latitude___longitude\n",
      "Computing neighborhood matrix for topic\n"
     ]
    },
    {
     "name": "stderr",
     "output_type": "stream",
     "text": [
      "100%|██████████| 77/77 [00:02<00:00, 37.25it/s]\n"
     ]
    },
    {
     "name": "stdout",
     "output_type": "stream",
     "text": [
      "Processing user zuHD08T_ba4T2Gjp96aXhA task control\n",
      "Computing neighborhood matrix for latitude___longitude\n",
      "Computing neighborhood matrix for topic\n"
     ]
    },
    {
     "name": "stderr",
     "output_type": "stream",
     "text": [
      "100%|██████████| 33/33 [00:00<00:00, 36.35it/s]\n"
     ]
    },
    {
     "name": "stdout",
     "output_type": "stream",
     "text": [
      "Processing user Nq4mKs5hJ8Dc063VT1f3qg task control\n",
      "Computing neighborhood matrix for latitude___longitude\n",
      "Computing neighborhood matrix for topic\n"
     ]
    },
    {
     "name": "stderr",
     "output_type": "stream",
     "text": [
      "100%|██████████| 110/110 [00:03<00:00, 31.27it/s]\n"
     ]
    },
    {
     "name": "stdout",
     "output_type": "stream",
     "text": [
      "Processing user MmnvXyPd-cyyKRhtUwKqhQ task control\n",
      "Computing neighborhood matrix for latitude___longitude\n",
      "Computing neighborhood matrix for topic\n"
     ]
    },
    {
     "name": "stderr",
     "output_type": "stream",
     "text": [
      "100%|██████████| 88/88 [00:02<00:00, 32.20it/s]\n"
     ]
    },
    {
     "name": "stdout",
     "output_type": "stream",
     "text": [
      "Processing user JjcI7g84OpS3dppwczTegw task control\n",
      "Computing neighborhood matrix for latitude___longitude\n",
      "Computing neighborhood matrix for topic\n"
     ]
    },
    {
     "name": "stderr",
     "output_type": "stream",
     "text": [
      "100%|██████████| 156/156 [00:04<00:00, 33.62it/s]\n"
     ]
    },
    {
     "name": "stdout",
     "output_type": "stream",
     "text": [
      "Processing user 3BgluksNw7LMIzSlCIQ03A task control\n",
      "Computing neighborhood matrix for latitude___longitude\n",
      "Computing neighborhood matrix for topic\n"
     ]
    },
    {
     "name": "stderr",
     "output_type": "stream",
     "text": [
      "100%|██████████| 51/51 [00:01<00:00, 40.46it/s]\n"
     ]
    },
    {
     "name": "stdout",
     "output_type": "stream",
     "text": [
      "Processing user w3wvq5o6qqajfpLRsKR_-w task control\n",
      "Computing neighborhood matrix for latitude___longitude\n",
      "Computing neighborhood matrix for topic\n"
     ]
    },
    {
     "name": "stderr",
     "output_type": "stream",
     "text": [
      "100%|██████████| 111/111 [00:02<00:00, 37.20it/s]\n"
     ]
    },
    {
     "name": "stdout",
     "output_type": "stream",
     "text": [
      "Processing user sy8HjGfNzVj1cjblJSY22Q task control\n",
      "Computing neighborhood matrix for latitude___longitude\n",
      "Computing neighborhood matrix for topic\n"
     ]
    },
    {
     "name": "stderr",
     "output_type": "stream",
     "text": [
      "100%|██████████| 93/93 [00:02<00:00, 38.31it/s]\n"
     ]
    },
    {
     "name": "stdout",
     "output_type": "stream",
     "text": [
      "Processing user y8og7vrDFCRp4730ewy5og task control\n",
      "Computing neighborhood matrix for latitude___longitude\n",
      "Computing neighborhood matrix for topic\n"
     ]
    },
    {
     "name": "stderr",
     "output_type": "stream",
     "text": [
      "100%|██████████| 41/41 [00:01<00:00, 37.05it/s]\n"
     ]
    },
    {
     "name": "stdout",
     "output_type": "stream",
     "text": [
      "Processing user pSEODcY6AnYvn02J9GGdcg task control\n",
      "Computing neighborhood matrix for latitude___longitude\n",
      "Computing neighborhood matrix for topic\n"
     ]
    },
    {
     "name": "stderr",
     "output_type": "stream",
     "text": [
      "100%|██████████| 75/75 [00:01<00:00, 39.71it/s]\n"
     ]
    },
    {
     "name": "stdout",
     "output_type": "stream",
     "text": [
      "Processing user U7Pma3fUpC72WNzsPyaY7Q task control\n",
      "Computing neighborhood matrix for latitude___longitude\n",
      "Computing neighborhood matrix for topic\n"
     ]
    },
    {
     "name": "stderr",
     "output_type": "stream",
     "text": [
      "100%|██████████| 41/41 [00:01<00:00, 38.99it/s]\n"
     ]
    },
    {
     "name": "stdout",
     "output_type": "stream",
     "text": [
      "Processing user HrEpGdg2fgOR7zYhlElElw task control\n",
      "Computing neighborhood matrix for latitude___longitude\n",
      "Computing neighborhood matrix for topic\n"
     ]
    },
    {
     "name": "stderr",
     "output_type": "stream",
     "text": [
      "100%|██████████| 98/98 [00:02<00:00, 35.52it/s]\n"
     ]
    },
    {
     "name": "stdout",
     "output_type": "stream",
     "text": [
      "Processing user ykgZOJHZlLka4fBLn89ZGg task control\n",
      "Computing neighborhood matrix for latitude___longitude\n",
      "Computing neighborhood matrix for topic\n"
     ]
    },
    {
     "name": "stderr",
     "output_type": "stream",
     "text": [
      "100%|██████████| 86/86 [00:02<00:00, 39.90it/s]\n"
     ]
    },
    {
     "name": "stdout",
     "output_type": "stream",
     "text": [
      "Processing user QVknIlaxajN5eM1CrZB-JA task control\n",
      "Computing neighborhood matrix for latitude___longitude\n",
      "Computing neighborhood matrix for topic\n"
     ]
    },
    {
     "name": "stderr",
     "output_type": "stream",
     "text": [
      "100%|██████████| 42/42 [00:01<00:00, 39.07it/s]\n"
     ]
    },
    {
     "name": "stdout",
     "output_type": "stream",
     "text": [
      "Processing user aDbzRAWuqzHLqD8l7uEwpg task control\n",
      "Computing neighborhood matrix for latitude___longitude\n",
      "Computing neighborhood matrix for topic\n"
     ]
    },
    {
     "name": "stderr",
     "output_type": "stream",
     "text": [
      "100%|██████████| 78/78 [00:02<00:00, 35.01it/s]\n"
     ]
    },
    {
     "name": "stdout",
     "output_type": "stream",
     "text": [
      "Processing user Xi8Tbn4gbexPQpZa5VGkUw task control\n",
      "Computing neighborhood matrix for latitude___longitude\n",
      "Computing neighborhood matrix for topic\n"
     ]
    },
    {
     "name": "stderr",
     "output_type": "stream",
     "text": [
      "100%|██████████| 63/63 [00:01<00:00, 38.49it/s]\n"
     ]
    },
    {
     "name": "stdout",
     "output_type": "stream",
     "text": [
      "Processing user riPuXirdQKONUOzAK2ZVPQ task control\n",
      "Computing neighborhood matrix for latitude___longitude\n",
      "Computing neighborhood matrix for topic\n"
     ]
    },
    {
     "name": "stderr",
     "output_type": "stream",
     "text": [
      "100%|██████████| 71/71 [00:01<00:00, 39.06it/s]\n"
     ]
    },
    {
     "name": "stdout",
     "output_type": "stream",
     "text": [
      "Processing user 6FdkeNiQYrM_ol2yVmmxYA task control\n",
      "Computing neighborhood matrix for latitude___longitude\n",
      "Computing neighborhood matrix for topic\n"
     ]
    },
    {
     "name": "stderr",
     "output_type": "stream",
     "text": [
      "100%|██████████| 89/89 [00:02<00:00, 36.93it/s]\n"
     ]
    },
    {
     "name": "stdout",
     "output_type": "stream",
     "text": [
      "Processing user GXaCM667o1nnMLifJ7MMMw task control\n",
      "Computing neighborhood matrix for latitude___longitude\n",
      "Computing neighborhood matrix for topic\n"
     ]
    },
    {
     "name": "stderr",
     "output_type": "stream",
     "text": [
      "100%|██████████| 71/71 [00:01<00:00, 39.24it/s]\n"
     ]
    },
    {
     "name": "stdout",
     "output_type": "stream",
     "text": [
      "Processing user OsR8tpHbiZDTgN_Fni1xvA task control\n",
      "Computing neighborhood matrix for latitude___longitude\n",
      "Computing neighborhood matrix for topic\n"
     ]
    },
    {
     "name": "stderr",
     "output_type": "stream",
     "text": [
      "100%|██████████| 55/55 [00:01<00:00, 40.76it/s]\n"
     ]
    },
    {
     "name": "stdout",
     "output_type": "stream",
     "text": [
      "Processing user wSZ7_Au-lq0AvLyYHckErA task control\n",
      "Computing neighborhood matrix for latitude___longitude\n",
      "Computing neighborhood matrix for topic\n"
     ]
    },
    {
     "name": "stderr",
     "output_type": "stream",
     "text": [
      "100%|██████████| 97/97 [00:02<00:00, 32.92it/s]\n"
     ]
    },
    {
     "name": "stdout",
     "output_type": "stream",
     "text": [
      "Processing user FyySgtJHe3bgGN1nAvmRlA task control\n",
      "Computing neighborhood matrix for latitude___longitude\n",
      "Computing neighborhood matrix for topic\n"
     ]
    },
    {
     "name": "stderr",
     "output_type": "stream",
     "text": [
      "100%|██████████| 68/68 [00:01<00:00, 34.96it/s]\n"
     ]
    },
    {
     "name": "stdout",
     "output_type": "stream",
     "text": [
      "Processing user sIUlHrVUba449u2GUMASHA task control\n",
      "Computing neighborhood matrix for latitude___longitude\n",
      "Computing neighborhood matrix for topic\n"
     ]
    },
    {
     "name": "stderr",
     "output_type": "stream",
     "text": [
      "100%|██████████| 81/81 [00:02<00:00, 34.97it/s]\n"
     ]
    },
    {
     "name": "stdout",
     "output_type": "stream",
     "text": [
      "Processing user LMM61OcS7fIJKjpp8PLRwA task control\n",
      "Computing neighborhood matrix for latitude___longitude\n",
      "Computing neighborhood matrix for topic\n"
     ]
    },
    {
     "name": "stderr",
     "output_type": "stream",
     "text": [
      "100%|██████████| 28/28 [00:00<00:00, 36.16it/s]\n"
     ]
    },
    {
     "name": "stdout",
     "output_type": "stream",
     "text": [
      "Processing user twF3ibAy0Lt1-rqJShli2w task control\n",
      "Computing neighborhood matrix for latitude___longitude\n",
      "Computing neighborhood matrix for topic\n"
     ]
    },
    {
     "name": "stderr",
     "output_type": "stream",
     "text": [
      "100%|██████████| 139/139 [00:03<00:00, 38.40it/s]\n"
     ]
    },
    {
     "name": "stdout",
     "output_type": "stream",
     "text": [
      "Processing user x2YPwqGiPma1PtdaR0pcsA task control\n",
      "Computing neighborhood matrix for latitude___longitude\n",
      "Computing neighborhood matrix for topic\n"
     ]
    },
    {
     "name": "stderr",
     "output_type": "stream",
     "text": [
      "100%|██████████| 34/34 [00:00<00:00, 42.33it/s]\n"
     ]
    },
    {
     "name": "stdout",
     "output_type": "stream",
     "text": [
      "Processing user F0Wnn8mBVBKSysvLxzhJew task control\n",
      "Computing neighborhood matrix for latitude___longitude\n",
      "Computing neighborhood matrix for topic\n"
     ]
    },
    {
     "name": "stderr",
     "output_type": "stream",
     "text": [
      "100%|██████████| 74/74 [00:01<00:00, 41.31it/s]\n"
     ]
    },
    {
     "name": "stdout",
     "output_type": "stream",
     "text": [
      "Processing user FZl65iI0EoU-NFlIzal82Q task control\n",
      "Computing neighborhood matrix for latitude___longitude\n",
      "Computing neighborhood matrix for topic\n"
     ]
    },
    {
     "name": "stderr",
     "output_type": "stream",
     "text": [
      "100%|██████████| 58/58 [00:01<00:00, 44.53it/s]\n"
     ]
    },
    {
     "name": "stdout",
     "output_type": "stream",
     "text": [
      "Processing user tYCAwT3T7WtrpGuuLWyeyw task control\n",
      "Computing neighborhood matrix for latitude___longitude\n",
      "Computing neighborhood matrix for topic\n"
     ]
    },
    {
     "name": "stderr",
     "output_type": "stream",
     "text": [
      "100%|██████████| 44/44 [00:00<00:00, 44.36it/s]\n"
     ]
    },
    {
     "name": "stdout",
     "output_type": "stream",
     "text": [
      "Processing user vORWFrZw9Qf5YJnFImjhMg task control\n",
      "Computing neighborhood matrix for latitude___longitude\n",
      "Computing neighborhood matrix for topic\n"
     ]
    },
    {
     "name": "stderr",
     "output_type": "stream",
     "text": [
      "100%|██████████| 53/53 [00:01<00:00, 44.10it/s]\n"
     ]
    },
    {
     "name": "stdout",
     "output_type": "stream",
     "text": [
      "Processing user 5bKBzTuSK8-yD97HTS1dZw task control\n",
      "Computing neighborhood matrix for latitude___longitude\n",
      "Computing neighborhood matrix for topic\n"
     ]
    },
    {
     "name": "stderr",
     "output_type": "stream",
     "text": [
      "100%|██████████| 55/55 [00:01<00:00, 41.66it/s]\n"
     ]
    },
    {
     "name": "stdout",
     "output_type": "stream",
     "text": [
      "Processing user TNh4yciycOwATX7OZcMqAw task control\n",
      "Computing neighborhood matrix for latitude___longitude\n",
      "Computing neighborhood matrix for topic\n"
     ]
    },
    {
     "name": "stderr",
     "output_type": "stream",
     "text": [
      "100%|██████████| 39/39 [00:00<00:00, 39.97it/s]\n"
     ]
    },
    {
     "name": "stdout",
     "output_type": "stream",
     "text": [
      "Processing user xFutzVnyUPJa1FdcHDBuOA task control\n",
      "Computing neighborhood matrix for latitude___longitude\n",
      "Computing neighborhood matrix for topic\n"
     ]
    },
    {
     "name": "stderr",
     "output_type": "stream",
     "text": [
      "100%|██████████| 49/49 [00:01<00:00, 42.59it/s]\n"
     ]
    },
    {
     "name": "stdout",
     "output_type": "stream",
     "text": [
      "Processing user 5GV8_vl7CrnU1n_e3BYAyA task control\n",
      "Computing neighborhood matrix for latitude___longitude\n",
      "Computing neighborhood matrix for topic\n"
     ]
    },
    {
     "name": "stderr",
     "output_type": "stream",
     "text": [
      "100%|██████████| 59/59 [00:01<00:00, 42.49it/s]\n"
     ]
    },
    {
     "name": "stdout",
     "output_type": "stream",
     "text": [
      "Processing user RZKgmh54IrTo2bVMpg0L9w task control\n",
      "Computing neighborhood matrix for latitude___longitude\n",
      "Computing neighborhood matrix for topic\n"
     ]
    },
    {
     "name": "stderr",
     "output_type": "stream",
     "text": [
      "100%|██████████| 38/38 [00:00<00:00, 44.64it/s]\n"
     ]
    },
    {
     "name": "stdout",
     "output_type": "stream",
     "text": [
      "Processing user Z2yONYSDzxqhG_m_AZAnog task control\n",
      "Computing neighborhood matrix for latitude___longitude\n",
      "Computing neighborhood matrix for topic\n"
     ]
    },
    {
     "name": "stderr",
     "output_type": "stream",
     "text": [
      "100%|██████████| 117/117 [00:02<00:00, 40.11it/s]\n"
     ]
    }
   ],
   "source": [
    "knn_results = pd.DataFrame()\n",
    "\n",
    "for participant_index, row in interaction_data.iterrows():\n",
    "    print(f'Processing user {row.user} task {row.experimental_group}')\n",
    "    results = {'participant_id': row.user, 'task': row.experimental_group}\n",
    "    knn_model = WeightedKNN(underlying_data, \n",
    "                            [['latitude', 'longitude']], \n",
    "                            ['topic'])\n",
    "    predicted = pd.DataFrame()\n",
    "    rank_predicted = []\n",
    "    for i in tqdm(range(len(interaction_data.iloc[participant_index].interaction_session))):\n",
    "        interaction = interaction_data.iloc[participant_index].interaction_session[i]\n",
    "        knn_model.update(interaction)\n",
    "\n",
    "        if i < len(interaction_data.iloc[participant_index].interaction_session) - 1:\n",
    "            probability_of_next_point = knn_model.predict()\n",
    "            next_point = interaction_data.iloc[participant_index].interaction_session[i+1]\n",
    "            predicted_next_dict = {}\n",
    "            for k in ks:\n",
    "                predicted_next_dict[k] = (next_point in probability_of_next_point.nlargest(k).index.values)\n",
    "            predicted = predicted.append(predicted_next_dict, ignore_index=True)\n",
    "            sorted_prob = probability_of_next_point.sort_values(ascending=False)\n",
    "            rank, = np.where(sorted_prob.index.values == next_point)\n",
    "            rank_predicted.append(rank[0] + 1)\n",
    "            \n",
    "    ncp = predicted.sum()/len(predicted)\n",
    "    results['rank'] = rank_predicted \n",
    "    \n",
    "    for col in ncp.index:\n",
    "        results[f'ncp-{col}'] = ncp[col]\n",
    "        \n",
    "    bias = knn_model.get_attribute_bias()\n",
    "    for col in bias.columns:\n",
    "        results[f'bias-{col}'] = bias[col].to_numpy()\n",
    "        \n",
    "    knn_results = knn_results.append(results, ignore_index=True)\n",
    "    \n",
    "knn_results.to_pickle(output_file_path)"
   ]
  },
  {
   "cell_type": "code",
   "execution_count": null,
   "id": "f48daca4",
   "metadata": {},
   "outputs": [],
   "source": []
  },
  {
   "cell_type": "code",
   "execution_count": null,
   "id": "fb6de791",
   "metadata": {},
   "outputs": [],
   "source": []
  }
 ],
 "metadata": {
  "kernelspec": {
   "display_name": "Python 3",
   "language": "python",
   "name": "python3"
  },
  "language_info": {
   "codemirror_mode": {
    "name": "ipython",
    "version": 3
   },
   "file_extension": ".py",
   "mimetype": "text/x-python",
   "name": "python",
   "nbconvert_exporter": "python",
   "pygments_lexer": "ipython3",
   "version": "3.8.8"
  }
 },
 "nbformat": 4,
 "nbformat_minor": 5
}

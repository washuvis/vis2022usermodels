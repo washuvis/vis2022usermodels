{
 "cells": [
  {
   "cell_type": "code",
   "execution_count": null,
   "id": "fa232ee0",
   "metadata": {},
   "outputs": [],
   "source": [
    "import sys\n",
    "import os\n",
    "import glob\n",
    "import pandas as pd\n",
    "import ast\n",
    "os.chdir('../data')\n",
    "path = os.getcwd() + '/political/political_raw/'\n",
    "\n",
    "filelist = []\n",
    "\n",
    "for root, dirs, files in os.walk(path):\n",
    "    for file in files:\n",
    "        filelist.append(os.path.join(root,file))\n",
    "        \n",
    "interaction_types = ['mouseover', 'add_to_list_via_scatterplot_click', 'remove_from_list_via_card_click', 'remove_from_list_via_list_item_click']\n",
    "interactions = ['add_to_list_via_scatterplot_click']\n",
    "gender_interaction_data = pd.DataFrame()\n",
    "for file in filelist:\n",
    "    df = pd.read_csv(file, sep='\\t')\n",
    "    for index, row in df.iterrows():\n",
    "        if row['app_type'] == 'CONTROL' and row['interaction_type'] in interactions:\n",
    "            input_data = ast.literal_eval(row['input_data'])\n",
    "            participant = input_data['participantId']\n",
    "            interaction_point = input_data['data']['id']\n",
    "            clean_interaction_point = int(interaction_point.replace('p', '').lstrip('0')) - 1\n",
    "            if row['interaction_type'] == 'add_to_list_via_scatterplot_click':\n",
    "                interaction_type = row['interaction_type']\n",
    "                x_axis = input_data['data']['x']['name']\n",
    "                y_axis = input_data['data']['y']['name']\n",
    "                x_val = input_data['data']['x']['value']\n",
    "                y_val = input_data['data']['y']['value']\n",
    "                point = pd.DataFrame({'user': [participant],'interaction_id': [clean_interaction_point],'x_axis': [x_axis],\n",
    "                                      'interaction_type': [interaction_type], 'x_val': [x_val],\n",
    "                                      'y_axis': [y_axis],'y_val': [y_val]})\n",
    "                gender_interaction_data = pd.concat([gender_interaction_data, point], ignore_index=True)\n",
    "            else:\n",
    "                # this section removes interactions observed \n",
    "                # wrote this to get the final list of 10 politicians for each user\n",
    "                user_data = gender_interaction_data[gender_interaction_data.user == participant]\n",
    "                all_data_without_user = gender_interaction_data[gender_interaction_data.user != participant]\n",
    "                user_data = user_data[user_data.interaction_id != clean_interaction_point]\n",
    "                gender_interaction_data = pd.concat([user_data, all_data_without_user])\n",
    "                \n",
    "aggregated_interaction_data = pd.DataFrame()            \n",
    "for user in gender_interaction_data['user'].unique():\n",
    "    interaction_session = []\n",
    "    interaction_type = []\n",
    "    user_df = gender_interaction_data[gender_interaction_data['user'] == user]\n",
    "    for index, row in user_df.iterrows():\n",
    "        interaction_session.append(row['interaction_id'])\n",
    "        interaction_type.append(row['interaction_type'])\n",
    "    user_data = pd.DataFrame({'user': user, 'interaction_session': [interaction_session],\n",
    "                              'interaction_type': [interaction_type]})\n",
    "    aggregated_interaction_data = pd.concat([aggregated_interaction_data, user_data], ignore_index=True)\n",
    "aggregated_interaction_data.to_csv('political/final/wall_political_interactions.csv',index=False)"
   ]
  },
  {
   "cell_type": "code",
   "execution_count": null,
   "id": "932c7785",
   "metadata": {},
   "outputs": [],
   "source": [
    "df = pd.read_csv(filelist[0], sep='\\t')\n",
    "df['interaction_type'].unique()"
   ]
  },
  {
   "cell_type": "code",
   "execution_count": null,
   "id": "5bbadebb",
   "metadata": {},
   "outputs": [],
   "source": []
  }
 ],
 "metadata": {
  "kernelspec": {
   "display_name": "Python 3",
   "language": "python",
   "name": "python3"
  },
  "language_info": {
   "codemirror_mode": {
    "name": "ipython",
    "version": 3
   },
   "file_extension": ".py",
   "mimetype": "text/x-python",
   "name": "python",
   "nbconvert_exporter": "python",
   "pygments_lexer": "ipython3",
   "version": "3.8.8"
  }
 },
 "nbformat": 4,
 "nbformat_minor": 5
}

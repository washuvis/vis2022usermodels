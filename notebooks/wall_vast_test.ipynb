{
 "cells": [
  {
   "cell_type": "code",
   "execution_count": 4,
   "id": "fbaa595b",
   "metadata": {},
   "outputs": [],
   "source": [
    "import sys\n",
    "sys.path.append('../implementation')\n",
    "import numpy as np\n",
    "import pandas as pd\n",
    "import ast\n",
    "from tqdm import tqdm\n",
    "from util import lognormpdf\n",
    "import numpy as np\n",
    "import matplotlib.pyplot as plt\n",
    "import scipy.special as sp\n",
    "from wall_bias import Wall\n",
    "import warnings\n",
    "warnings.filterwarnings('ignore')\n",
    "from util import flatten_list"
   ]
  },
  {
   "cell_type": "code",
   "execution_count": 5,
   "id": "4a242acb",
   "metadata": {},
   "outputs": [],
   "source": [
    "# Loading the underlying data and user interaction data\n",
    "data_path = '../data/vast_2011_challenge/vast_data_sample_reduced.pkl'\n",
    "bookmarks_ui_data_path = '../data/vast_2011_challenge/bookmark_interactions_clean.pkl'\n",
    "hovers_ui_data_path = '../data/vast_2011_challenge/hover_interactions.pkl'\n",
    "hovers = False\n",
    "if hovers:\n",
    "    output_file_path = '../output/vast/vast_11_hovers_wall.pkl'\n",
    "    interaction_data = pd.read_pickle(hovers_ui_data_path)\n",
    "else:\n",
    "    output_file_path = '../output/vast/vast_11_wall.pkl'\n",
    "    interaction_data = pd.read_pickle(bookmarks_ui_data_path)\n",
    "    interaction_data = interaction_data[interaction_data['experimental_group'] == 'control']\n",
    "    interaction_data = interaction_data.reset_index(drop=True)\n",
    "\n",
    "underlying_data = pd.read_pickle(data_path)\n",
    "\n",
    "ks = [1, 5, 10, 20, 50, 100]\n",
    "d_attributes = ['topic']\n",
    "c_attributes = [['latitude', 'longitude']]"
   ]
  },
  {
   "cell_type": "code",
   "execution_count": 6,
   "id": "aacaf60b",
   "metadata": {},
   "outputs": [
    {
     "name": "stderr",
     "output_type": "stream",
     "text": [
      "  2%|▏         | 1/45 [00:00<00:05,  8.14it/s]"
     ]
    },
    {
     "name": "stdout",
     "output_type": "stream",
     "text": [
      "Processing user ottNn7b8Wt1EL-I0bfFbOA task control\n"
     ]
    },
    {
     "name": "stderr",
     "output_type": "stream",
     "text": [
      "100%|██████████| 45/45 [00:04<00:00,  9.73it/s]\n",
      "  1%|          | 1/147 [00:00<00:16,  8.61it/s]"
     ]
    },
    {
     "name": "stdout",
     "output_type": "stream",
     "text": [
      "Processing user Tn8m4yLs6E0GDO6sggwYTw task control\n"
     ]
    },
    {
     "name": "stderr",
     "output_type": "stream",
     "text": [
      "100%|██████████| 147/147 [00:15<00:00,  9.50it/s]\n",
      "  1%|          | 1/145 [00:00<00:16,  8.68it/s]"
     ]
    },
    {
     "name": "stdout",
     "output_type": "stream",
     "text": [
      "Processing user SW8GwZ1tt4Z5DiK3J4rw2g task control\n"
     ]
    },
    {
     "name": "stderr",
     "output_type": "stream",
     "text": [
      "100%|██████████| 145/145 [00:14<00:00,  9.77it/s]\n",
      "  2%|▏         | 1/52 [00:00<00:05,  9.34it/s]"
     ]
    },
    {
     "name": "stdout",
     "output_type": "stream",
     "text": [
      "Processing user POzOiTeXMSdTEbmSmI4wpg task control\n"
     ]
    },
    {
     "name": "stderr",
     "output_type": "stream",
     "text": [
      "100%|██████████| 52/52 [00:05<00:00,  9.92it/s]\n",
      "  0%|          | 0/20 [00:00<?, ?it/s]"
     ]
    },
    {
     "name": "stdout",
     "output_type": "stream",
     "text": [
      "Processing user n-Oq8YP_DhsByGZyxuGroQ task control\n"
     ]
    },
    {
     "name": "stderr",
     "output_type": "stream",
     "text": [
      "100%|██████████| 20/20 [00:02<00:00,  9.68it/s]\n",
      "  2%|▏         | 1/45 [00:00<00:04,  9.23it/s]"
     ]
    },
    {
     "name": "stdout",
     "output_type": "stream",
     "text": [
      "Processing user UNaSIzwWzwgmGLZsEyvgsQ task control\n"
     ]
    },
    {
     "name": "stderr",
     "output_type": "stream",
     "text": [
      "100%|██████████| 45/45 [00:04<00:00,  9.50it/s]\n",
      "  2%|▏         | 2/85 [00:00<00:08, 10.15it/s]"
     ]
    },
    {
     "name": "stdout",
     "output_type": "stream",
     "text": [
      "Processing user 0R7Oc16T5OzW-_YNs9rkkg task control\n"
     ]
    },
    {
     "name": "stderr",
     "output_type": "stream",
     "text": [
      "100%|██████████| 85/85 [00:08<00:00,  9.98it/s]\n",
      "  5%|▍         | 1/22 [00:00<00:02,  9.74it/s]"
     ]
    },
    {
     "name": "stdout",
     "output_type": "stream",
     "text": [
      "Processing user k0XtDgVMlnH0N1ivlez7hw task control\n"
     ]
    },
    {
     "name": "stderr",
     "output_type": "stream",
     "text": [
      "100%|██████████| 22/22 [00:02<00:00, 10.34it/s]\n",
      " 13%|█▎        | 2/15 [00:00<00:01, 10.18it/s]"
     ]
    },
    {
     "name": "stdout",
     "output_type": "stream",
     "text": [
      "Processing user bifsEtKMXIJ88523WNgtnw task control\n"
     ]
    },
    {
     "name": "stderr",
     "output_type": "stream",
     "text": [
      "100%|██████████| 15/15 [00:01<00:00, 11.19it/s]\n",
      "  4%|▎         | 2/56 [00:00<00:05, 10.14it/s]"
     ]
    },
    {
     "name": "stdout",
     "output_type": "stream",
     "text": [
      "Processing user q-1VAayPIoWBjTCQi_DoVQ task control\n"
     ]
    },
    {
     "name": "stderr",
     "output_type": "stream",
     "text": [
      "100%|██████████| 56/56 [00:05<00:00,  9.53it/s]\n",
      "  4%|▍         | 1/23 [00:00<00:02,  9.89it/s]"
     ]
    },
    {
     "name": "stdout",
     "output_type": "stream",
     "text": [
      "Processing user 0FomFSRLtGmolWmt6v-BzQ task control\n"
     ]
    },
    {
     "name": "stderr",
     "output_type": "stream",
     "text": [
      "100%|██████████| 23/23 [00:02<00:00,  9.82it/s]\n",
      "  3%|▎         | 2/76 [00:00<00:05, 12.92it/s]"
     ]
    },
    {
     "name": "stdout",
     "output_type": "stream",
     "text": [
      "Processing user s_Iy02wt_jLcFG3_vAw1ig task control\n"
     ]
    },
    {
     "name": "stderr",
     "output_type": "stream",
     "text": [
      "100%|██████████| 76/76 [00:07<00:00,  9.64it/s]\n",
      "  5%|▍         | 2/41 [00:00<00:03, 10.35it/s]"
     ]
    },
    {
     "name": "stdout",
     "output_type": "stream",
     "text": [
      "Processing user Rr-Am9XWLG_j9RzUhfpI6Q task control\n"
     ]
    },
    {
     "name": "stderr",
     "output_type": "stream",
     "text": [
      "100%|██████████| 41/41 [00:03<00:00, 10.26it/s]\n",
      "  2%|▏         | 1/62 [00:00<00:06,  9.59it/s]"
     ]
    },
    {
     "name": "stdout",
     "output_type": "stream",
     "text": [
      "Processing user diIEYYtFfdAwwLsRtdW0wg task control\n"
     ]
    },
    {
     "name": "stderr",
     "output_type": "stream",
     "text": [
      "100%|██████████| 62/62 [00:06<00:00, 10.16it/s]\n",
      "  4%|▎         | 2/55 [00:00<00:04, 10.66it/s]"
     ]
    },
    {
     "name": "stdout",
     "output_type": "stream",
     "text": [
      "Processing user SG09OWw6EdZOVvZlTjM-FQ task control\n"
     ]
    },
    {
     "name": "stderr",
     "output_type": "stream",
     "text": [
      "100%|██████████| 55/55 [00:05<00:00, 10.00it/s]\n",
      "  1%|▏         | 1/75 [00:00<00:08,  9.23it/s]"
     ]
    },
    {
     "name": "stdout",
     "output_type": "stream",
     "text": [
      "Processing user 0aJkmv1hnmWrVGAwLE6RIg task control\n"
     ]
    },
    {
     "name": "stderr",
     "output_type": "stream",
     "text": [
      "100%|██████████| 75/75 [00:06<00:00, 11.36it/s]\n",
      "  4%|▎         | 2/54 [00:00<00:04, 12.25it/s]"
     ]
    },
    {
     "name": "stdout",
     "output_type": "stream",
     "text": [
      "Processing user wMWdKtkmZiTUIW_s_XSiKw task control\n"
     ]
    },
    {
     "name": "stderr",
     "output_type": "stream",
     "text": [
      "100%|██████████| 54/54 [00:04<00:00, 11.86it/s]\n",
      "  3%|▎         | 2/60 [00:00<00:05, 10.18it/s]"
     ]
    },
    {
     "name": "stdout",
     "output_type": "stream",
     "text": [
      "Processing user 3RJkTqsdzektLw8VmK3d1A task control\n"
     ]
    },
    {
     "name": "stderr",
     "output_type": "stream",
     "text": [
      "100%|██████████| 60/60 [00:05<00:00, 11.34it/s]\n",
      "  2%|▏         | 2/97 [00:00<00:07, 13.13it/s]"
     ]
    },
    {
     "name": "stdout",
     "output_type": "stream",
     "text": [
      "Processing user K4oiwhn0PHkER7IOBzp3tA task control\n"
     ]
    },
    {
     "name": "stderr",
     "output_type": "stream",
     "text": [
      "100%|██████████| 97/97 [00:08<00:00, 11.21it/s]\n",
      "  1%|▏         | 1/69 [00:00<00:06,  9.79it/s]"
     ]
    },
    {
     "name": "stdout",
     "output_type": "stream",
     "text": [
      "Processing user 9cgrSAf3_zRo509cVXexBw task control\n"
     ]
    },
    {
     "name": "stderr",
     "output_type": "stream",
     "text": [
      "100%|██████████| 69/69 [00:06<00:00, 11.25it/s]\n",
      "  4%|▎         | 2/55 [00:00<00:03, 14.00it/s]"
     ]
    },
    {
     "name": "stdout",
     "output_type": "stream",
     "text": [
      "Processing user 705Te_LAeladSVRFI5Sp9w task control\n"
     ]
    },
    {
     "name": "stderr",
     "output_type": "stream",
     "text": [
      "100%|██████████| 55/55 [00:04<00:00, 11.87it/s]\n",
      "  6%|▌         | 2/33 [00:00<00:02, 14.38it/s]"
     ]
    },
    {
     "name": "stdout",
     "output_type": "stream",
     "text": [
      "Processing user NRyzJB-AeSx5AOWhloLZ8g task control\n"
     ]
    },
    {
     "name": "stderr",
     "output_type": "stream",
     "text": [
      "100%|██████████| 33/33 [00:02<00:00, 11.75it/s]\n",
      "  9%|▊         | 2/23 [00:00<00:01, 14.52it/s]"
     ]
    },
    {
     "name": "stdout",
     "output_type": "stream",
     "text": [
      "Processing user anfa5Zq4bjh-81ZE-RYzzA task control\n"
     ]
    },
    {
     "name": "stderr",
     "output_type": "stream",
     "text": [
      "100%|██████████| 23/23 [00:02<00:00, 11.46it/s]\n",
      "  1%|▏         | 2/153 [00:00<00:10, 13.92it/s]"
     ]
    },
    {
     "name": "stdout",
     "output_type": "stream",
     "text": [
      "Processing user N0VtS5g31siXqoUhQnAAPQ task control\n"
     ]
    },
    {
     "name": "stderr",
     "output_type": "stream",
     "text": [
      "100%|██████████| 153/153 [00:14<00:00, 10.89it/s]\n",
      "  2%|▏         | 2/82 [00:00<00:05, 15.05it/s]"
     ]
    },
    {
     "name": "stdout",
     "output_type": "stream",
     "text": [
      "Processing user -qgyUblFjzGauFx_Qt1xxQ task control\n"
     ]
    },
    {
     "name": "stderr",
     "output_type": "stream",
     "text": [
      "100%|██████████| 82/82 [00:07<00:00, 10.64it/s]\n",
      "  8%|▊         | 1/13 [00:00<00:01,  8.05it/s]"
     ]
    },
    {
     "name": "stdout",
     "output_type": "stream",
     "text": [
      "Processing user rQCaKZQ2F25eBST_bWyKFA task control\n"
     ]
    },
    {
     "name": "stderr",
     "output_type": "stream",
     "text": [
      "100%|██████████| 13/13 [00:01<00:00,  8.20it/s]\n",
      "  2%|▏         | 1/66 [00:00<00:07,  8.30it/s]"
     ]
    },
    {
     "name": "stdout",
     "output_type": "stream",
     "text": [
      "Processing user t3dx1A8gxcC7T0GkYvk4rQ task control\n"
     ]
    },
    {
     "name": "stderr",
     "output_type": "stream",
     "text": [
      "100%|██████████| 66/66 [00:06<00:00,  9.97it/s]\n",
      "  1%|          | 1/149 [00:00<00:17,  8.35it/s]"
     ]
    },
    {
     "name": "stdout",
     "output_type": "stream",
     "text": [
      "Processing user pM3lshrmqr3py5jVQkCGog task control\n"
     ]
    },
    {
     "name": "stderr",
     "output_type": "stream",
     "text": [
      "100%|██████████| 149/149 [00:15<00:00,  9.44it/s]\n",
      "  1%|▏         | 1/70 [00:00<00:10,  6.86it/s]"
     ]
    },
    {
     "name": "stdout",
     "output_type": "stream",
     "text": [
      "Processing user PtJP0V71F8Ud9kyU_molEw task control\n"
     ]
    },
    {
     "name": "stderr",
     "output_type": "stream",
     "text": [
      "100%|██████████| 70/70 [00:06<00:00, 10.19it/s]\n",
      "  8%|▊         | 2/26 [00:00<00:01, 13.03it/s]"
     ]
    },
    {
     "name": "stdout",
     "output_type": "stream",
     "text": [
      "Processing user fgTmANyUtAen0exuGrzVzQ task control\n"
     ]
    },
    {
     "name": "stderr",
     "output_type": "stream",
     "text": [
      "100%|██████████| 26/26 [00:02<00:00, 11.70it/s]\n",
      "  6%|▌         | 2/34 [00:00<00:03, 10.41it/s]"
     ]
    },
    {
     "name": "stdout",
     "output_type": "stream",
     "text": [
      "Processing user nHFRA1QAG9pg93oF4T1L2Q task control\n"
     ]
    },
    {
     "name": "stderr",
     "output_type": "stream",
     "text": [
      "100%|██████████| 34/34 [00:02<00:00, 11.87it/s]\n",
      "  3%|▎         | 2/72 [00:00<00:06, 11.23it/s]"
     ]
    },
    {
     "name": "stdout",
     "output_type": "stream",
     "text": [
      "Processing user Q00_bx5Pq4Yn1_3XcqEp2g task control\n"
     ]
    },
    {
     "name": "stderr",
     "output_type": "stream",
     "text": [
      "100%|██████████| 72/72 [00:06<00:00, 11.24it/s]\n",
      "  1%|          | 1/98 [00:00<00:10,  9.21it/s]"
     ]
    },
    {
     "name": "stdout",
     "output_type": "stream",
     "text": [
      "Processing user Y3r-Fnt1-qWQS7_mmHI5jw task control\n"
     ]
    },
    {
     "name": "stderr",
     "output_type": "stream",
     "text": [
      "100%|██████████| 98/98 [00:08<00:00, 10.91it/s]\n",
      "  2%|▏         | 2/81 [00:00<00:06, 12.80it/s]"
     ]
    },
    {
     "name": "stdout",
     "output_type": "stream",
     "text": [
      "Processing user 5ECfx4KIAg6Yzyjhr4WnWg task control\n"
     ]
    },
    {
     "name": "stderr",
     "output_type": "stream",
     "text": [
      "100%|██████████| 81/81 [00:06<00:00, 12.10it/s]\n",
      "  4%|▍         | 2/48 [00:00<00:02, 16.73it/s]"
     ]
    },
    {
     "name": "stdout",
     "output_type": "stream",
     "text": [
      "Processing user uq51tok4glK6YATXynq5EQ task control\n"
     ]
    },
    {
     "name": "stderr",
     "output_type": "stream",
     "text": [
      "100%|██████████| 48/48 [00:03<00:00, 13.36it/s]\n",
      "  3%|▎         | 2/74 [00:00<00:05, 13.15it/s]"
     ]
    },
    {
     "name": "stdout",
     "output_type": "stream",
     "text": [
      "Processing user ZIRBQFPgBo9Lt_kHHC3MiA task control\n"
     ]
    },
    {
     "name": "stderr",
     "output_type": "stream",
     "text": [
      "100%|██████████| 74/74 [00:05<00:00, 13.76it/s]\n",
      "  3%|▎         | 2/79 [00:00<00:05, 14.21it/s]"
     ]
    },
    {
     "name": "stdout",
     "output_type": "stream",
     "text": [
      "Processing user T2jkw-sDvoBLWJWDJ7zJTw task control\n"
     ]
    },
    {
     "name": "stderr",
     "output_type": "stream",
     "text": [
      "100%|██████████| 79/79 [00:05<00:00, 14.67it/s]\n",
      "  2%|▏         | 2/93 [00:00<00:05, 15.43it/s]"
     ]
    },
    {
     "name": "stdout",
     "output_type": "stream",
     "text": [
      "Processing user 9gpKpL2nWUcfz8mxAh0Xzw task control\n"
     ]
    },
    {
     "name": "stderr",
     "output_type": "stream",
     "text": [
      "100%|██████████| 93/93 [00:06<00:00, 14.50it/s]\n",
      "  3%|▎         | 2/77 [00:00<00:04, 18.48it/s]"
     ]
    },
    {
     "name": "stdout",
     "output_type": "stream",
     "text": [
      "Processing user 4ffSoA9uBjbb6IiECmA6bA task control\n"
     ]
    },
    {
     "name": "stderr",
     "output_type": "stream",
     "text": [
      "100%|██████████| 77/77 [00:05<00:00, 13.84it/s]\n",
      "  6%|▌         | 2/33 [00:00<00:02, 15.46it/s]"
     ]
    },
    {
     "name": "stdout",
     "output_type": "stream",
     "text": [
      "Processing user zuHD08T_ba4T2Gjp96aXhA task control\n"
     ]
    },
    {
     "name": "stderr",
     "output_type": "stream",
     "text": [
      "100%|██████████| 33/33 [00:02<00:00, 12.92it/s]\n",
      "  2%|▏         | 2/110 [00:00<00:07, 15.03it/s]"
     ]
    },
    {
     "name": "stdout",
     "output_type": "stream",
     "text": [
      "Processing user Nq4mKs5hJ8Dc063VT1f3qg task control\n"
     ]
    },
    {
     "name": "stderr",
     "output_type": "stream",
     "text": [
      "100%|██████████| 110/110 [00:08<00:00, 13.43it/s]\n",
      "  2%|▏         | 2/88 [00:00<00:05, 14.50it/s]"
     ]
    },
    {
     "name": "stdout",
     "output_type": "stream",
     "text": [
      "Processing user MmnvXyPd-cyyKRhtUwKqhQ task control\n"
     ]
    },
    {
     "name": "stderr",
     "output_type": "stream",
     "text": [
      "100%|██████████| 88/88 [00:06<00:00, 13.63it/s]\n",
      "  1%|▏         | 2/156 [00:00<00:10, 14.75it/s]"
     ]
    },
    {
     "name": "stdout",
     "output_type": "stream",
     "text": [
      "Processing user JjcI7g84OpS3dppwczTegw task control\n"
     ]
    },
    {
     "name": "stderr",
     "output_type": "stream",
     "text": [
      "100%|██████████| 156/156 [00:11<00:00, 14.13it/s]\n",
      "  4%|▍         | 2/51 [00:00<00:03, 14.81it/s]"
     ]
    },
    {
     "name": "stdout",
     "output_type": "stream",
     "text": [
      "Processing user 3BgluksNw7LMIzSlCIQ03A task control\n"
     ]
    },
    {
     "name": "stderr",
     "output_type": "stream",
     "text": [
      "100%|██████████| 51/51 [00:03<00:00, 14.82it/s]\n",
      "  2%|▏         | 2/111 [00:00<00:08, 12.45it/s]"
     ]
    },
    {
     "name": "stdout",
     "output_type": "stream",
     "text": [
      "Processing user w3wvq5o6qqajfpLRsKR_-w task control\n"
     ]
    },
    {
     "name": "stderr",
     "output_type": "stream",
     "text": [
      "100%|██████████| 111/111 [00:07<00:00, 14.34it/s]\n",
      "  2%|▏         | 2/93 [00:00<00:07, 12.24it/s]"
     ]
    },
    {
     "name": "stdout",
     "output_type": "stream",
     "text": [
      "Processing user sy8HjGfNzVj1cjblJSY22Q task control\n"
     ]
    },
    {
     "name": "stderr",
     "output_type": "stream",
     "text": [
      "100%|██████████| 93/93 [00:07<00:00, 12.97it/s]\n",
      "  2%|▏         | 1/41 [00:00<00:04,  8.47it/s]"
     ]
    },
    {
     "name": "stdout",
     "output_type": "stream",
     "text": [
      "Processing user y8og7vrDFCRp4730ewy5og task control\n"
     ]
    },
    {
     "name": "stderr",
     "output_type": "stream",
     "text": [
      "100%|██████████| 41/41 [00:03<00:00, 12.02it/s]\n",
      "  3%|▎         | 2/75 [00:00<00:05, 14.49it/s]"
     ]
    },
    {
     "name": "stdout",
     "output_type": "stream",
     "text": [
      "Processing user pSEODcY6AnYvn02J9GGdcg task control\n"
     ]
    },
    {
     "name": "stderr",
     "output_type": "stream",
     "text": [
      "100%|██████████| 75/75 [00:05<00:00, 14.90it/s]\n",
      "  5%|▍         | 2/41 [00:00<00:02, 14.31it/s]"
     ]
    },
    {
     "name": "stdout",
     "output_type": "stream",
     "text": [
      "Processing user U7Pma3fUpC72WNzsPyaY7Q task control\n"
     ]
    },
    {
     "name": "stderr",
     "output_type": "stream",
     "text": [
      "100%|██████████| 41/41 [00:03<00:00, 12.84it/s]\n",
      "  2%|▏         | 2/98 [00:00<00:07, 13.02it/s]"
     ]
    },
    {
     "name": "stdout",
     "output_type": "stream",
     "text": [
      "Processing user HrEpGdg2fgOR7zYhlElElw task control\n"
     ]
    },
    {
     "name": "stderr",
     "output_type": "stream",
     "text": [
      "100%|██████████| 98/98 [00:06<00:00, 14.13it/s]\n",
      "  2%|▏         | 2/86 [00:00<00:05, 15.72it/s]"
     ]
    },
    {
     "name": "stdout",
     "output_type": "stream",
     "text": [
      "Processing user ykgZOJHZlLka4fBLn89ZGg task control\n"
     ]
    },
    {
     "name": "stderr",
     "output_type": "stream",
     "text": [
      "100%|██████████| 86/86 [00:05<00:00, 14.94it/s]\n",
      "  5%|▍         | 2/42 [00:00<00:02, 15.32it/s]"
     ]
    },
    {
     "name": "stdout",
     "output_type": "stream",
     "text": [
      "Processing user QVknIlaxajN5eM1CrZB-JA task control\n"
     ]
    },
    {
     "name": "stderr",
     "output_type": "stream",
     "text": [
      "100%|██████████| 42/42 [00:03<00:00, 13.54it/s]\n",
      "  3%|▎         | 2/78 [00:00<00:04, 15.29it/s]"
     ]
    },
    {
     "name": "stdout",
     "output_type": "stream",
     "text": [
      "Processing user aDbzRAWuqzHLqD8l7uEwpg task control\n"
     ]
    },
    {
     "name": "stderr",
     "output_type": "stream",
     "text": [
      "100%|██████████| 78/78 [00:05<00:00, 15.10it/s]\n",
      "  3%|▎         | 2/63 [00:00<00:03, 15.44it/s]"
     ]
    },
    {
     "name": "stdout",
     "output_type": "stream",
     "text": [
      "Processing user Xi8Tbn4gbexPQpZa5VGkUw task control\n"
     ]
    },
    {
     "name": "stderr",
     "output_type": "stream",
     "text": [
      "100%|██████████| 63/63 [00:04<00:00, 14.20it/s]\n",
      "  3%|▎         | 2/71 [00:00<00:04, 14.47it/s]"
     ]
    },
    {
     "name": "stdout",
     "output_type": "stream",
     "text": [
      "Processing user riPuXirdQKONUOzAK2ZVPQ task control\n"
     ]
    },
    {
     "name": "stderr",
     "output_type": "stream",
     "text": [
      "100%|██████████| 71/71 [00:04<00:00, 15.14it/s]\n",
      "  2%|▏         | 2/89 [00:00<00:05, 15.47it/s]"
     ]
    },
    {
     "name": "stdout",
     "output_type": "stream",
     "text": [
      "Processing user 6FdkeNiQYrM_ol2yVmmxYA task control\n"
     ]
    },
    {
     "name": "stderr",
     "output_type": "stream",
     "text": [
      "100%|██████████| 89/89 [00:05<00:00, 15.23it/s]\n",
      "  3%|▎         | 2/71 [00:00<00:04, 15.79it/s]"
     ]
    },
    {
     "name": "stdout",
     "output_type": "stream",
     "text": [
      "Processing user GXaCM667o1nnMLifJ7MMMw task control\n"
     ]
    },
    {
     "name": "stderr",
     "output_type": "stream",
     "text": [
      "100%|██████████| 71/71 [00:04<00:00, 14.40it/s]\n",
      "  4%|▎         | 2/55 [00:00<00:03, 16.82it/s]"
     ]
    },
    {
     "name": "stdout",
     "output_type": "stream",
     "text": [
      "Processing user OsR8tpHbiZDTgN_Fni1xvA task control\n"
     ]
    },
    {
     "name": "stderr",
     "output_type": "stream",
     "text": [
      "100%|██████████| 55/55 [00:03<00:00, 16.08it/s]\n",
      "  2%|▏         | 2/97 [00:00<00:06, 14.95it/s]"
     ]
    },
    {
     "name": "stdout",
     "output_type": "stream",
     "text": [
      "Processing user wSZ7_Au-lq0AvLyYHckErA task control\n"
     ]
    },
    {
     "name": "stderr",
     "output_type": "stream",
     "text": [
      "100%|██████████| 97/97 [00:06<00:00, 15.90it/s]\n",
      "  3%|▎         | 2/68 [00:00<00:04, 16.27it/s]"
     ]
    },
    {
     "name": "stdout",
     "output_type": "stream",
     "text": [
      "Processing user FyySgtJHe3bgGN1nAvmRlA task control\n"
     ]
    },
    {
     "name": "stderr",
     "output_type": "stream",
     "text": [
      "100%|██████████| 68/68 [00:04<00:00, 14.68it/s]\n",
      "  2%|▏         | 2/81 [00:00<00:04, 16.93it/s]"
     ]
    },
    {
     "name": "stdout",
     "output_type": "stream",
     "text": [
      "Processing user sIUlHrVUba449u2GUMASHA task control\n"
     ]
    },
    {
     "name": "stderr",
     "output_type": "stream",
     "text": [
      "100%|██████████| 81/81 [00:05<00:00, 14.75it/s]\n",
      "  7%|▋         | 2/28 [00:00<00:01, 15.58it/s]"
     ]
    },
    {
     "name": "stdout",
     "output_type": "stream",
     "text": [
      "Processing user LMM61OcS7fIJKjpp8PLRwA task control\n"
     ]
    },
    {
     "name": "stderr",
     "output_type": "stream",
     "text": [
      "100%|██████████| 28/28 [00:01<00:00, 15.60it/s]\n",
      "  1%|▏         | 2/139 [00:00<00:13, 10.04it/s]"
     ]
    },
    {
     "name": "stdout",
     "output_type": "stream",
     "text": [
      "Processing user twF3ibAy0Lt1-rqJShli2w task control\n"
     ]
    },
    {
     "name": "stderr",
     "output_type": "stream",
     "text": [
      "100%|██████████| 139/139 [00:09<00:00, 14.78it/s]\n",
      "  6%|▌         | 2/34 [00:00<00:02, 14.26it/s]"
     ]
    },
    {
     "name": "stdout",
     "output_type": "stream",
     "text": [
      "Processing user x2YPwqGiPma1PtdaR0pcsA task control\n"
     ]
    },
    {
     "name": "stderr",
     "output_type": "stream",
     "text": [
      "100%|██████████| 34/34 [00:02<00:00, 14.97it/s]\n",
      "  3%|▎         | 2/74 [00:00<00:04, 14.93it/s]"
     ]
    },
    {
     "name": "stdout",
     "output_type": "stream",
     "text": [
      "Processing user F0Wnn8mBVBKSysvLxzhJew task control\n"
     ]
    },
    {
     "name": "stderr",
     "output_type": "stream",
     "text": [
      "100%|██████████| 74/74 [00:05<00:00, 13.96it/s]\n",
      "  3%|▎         | 2/58 [00:00<00:03, 16.11it/s]"
     ]
    },
    {
     "name": "stdout",
     "output_type": "stream",
     "text": [
      "Processing user FZl65iI0EoU-NFlIzal82Q task control\n"
     ]
    },
    {
     "name": "stderr",
     "output_type": "stream",
     "text": [
      "100%|██████████| 58/58 [00:03<00:00, 15.69it/s]\n",
      "  5%|▍         | 2/44 [00:00<00:02, 16.08it/s]"
     ]
    },
    {
     "name": "stdout",
     "output_type": "stream",
     "text": [
      "Processing user tYCAwT3T7WtrpGuuLWyeyw task control\n"
     ]
    },
    {
     "name": "stderr",
     "output_type": "stream",
     "text": [
      "100%|██████████| 44/44 [00:02<00:00, 15.37it/s]\n",
      "  4%|▍         | 2/53 [00:00<00:03, 16.06it/s]"
     ]
    },
    {
     "name": "stdout",
     "output_type": "stream",
     "text": [
      "Processing user vORWFrZw9Qf5YJnFImjhMg task control\n"
     ]
    },
    {
     "name": "stderr",
     "output_type": "stream",
     "text": [
      "100%|██████████| 53/53 [00:03<00:00, 16.07it/s]\n",
      "  4%|▎         | 2/55 [00:00<00:03, 16.36it/s]"
     ]
    },
    {
     "name": "stdout",
     "output_type": "stream",
     "text": [
      "Processing user 5bKBzTuSK8-yD97HTS1dZw task control\n"
     ]
    },
    {
     "name": "stderr",
     "output_type": "stream",
     "text": [
      "100%|██████████| 55/55 [00:04<00:00, 12.25it/s]\n",
      "  5%|▌         | 2/39 [00:00<00:02, 15.14it/s]"
     ]
    },
    {
     "name": "stdout",
     "output_type": "stream",
     "text": [
      "Processing user TNh4yciycOwATX7OZcMqAw task control\n"
     ]
    },
    {
     "name": "stderr",
     "output_type": "stream",
     "text": [
      "100%|██████████| 39/39 [00:02<00:00, 15.52it/s]\n",
      "  4%|▍         | 2/49 [00:00<00:03, 13.60it/s]"
     ]
    },
    {
     "name": "stdout",
     "output_type": "stream",
     "text": [
      "Processing user xFutzVnyUPJa1FdcHDBuOA task control\n"
     ]
    },
    {
     "name": "stderr",
     "output_type": "stream",
     "text": [
      "100%|██████████| 49/49 [00:03<00:00, 13.77it/s]\n",
      "  3%|▎         | 2/59 [00:00<00:04, 13.81it/s]"
     ]
    },
    {
     "name": "stdout",
     "output_type": "stream",
     "text": [
      "Processing user 5GV8_vl7CrnU1n_e3BYAyA task control\n"
     ]
    },
    {
     "name": "stderr",
     "output_type": "stream",
     "text": [
      "100%|██████████| 59/59 [00:04<00:00, 13.52it/s]\n",
      "  5%|▌         | 2/38 [00:00<00:02, 13.10it/s]"
     ]
    },
    {
     "name": "stdout",
     "output_type": "stream",
     "text": [
      "Processing user RZKgmh54IrTo2bVMpg0L9w task control\n"
     ]
    },
    {
     "name": "stderr",
     "output_type": "stream",
     "text": [
      "100%|██████████| 38/38 [00:02<00:00, 14.14it/s]\n",
      "  2%|▏         | 2/117 [00:00<00:07, 15.00it/s]"
     ]
    },
    {
     "name": "stdout",
     "output_type": "stream",
     "text": [
      "Processing user Z2yONYSDzxqhG_m_AZAnog task control\n"
     ]
    },
    {
     "name": "stderr",
     "output_type": "stream",
     "text": [
      "100%|██████████| 117/117 [00:08<00:00, 13.81it/s]\n"
     ]
    }
   ],
   "source": [
    "# Not necessary to run if we already have results file for Wall\n",
    "# Running Wall through all user interaction sessions and saving results in file\n",
    "wall_results = pd.DataFrame()\n",
    "\n",
    "for participant_index, row in interaction_data.iterrows():\n",
    "    print(f'Processing user {row.user} task {row.experimental_group}')\n",
    "    results = {'participant_id': row.user, 'task': row.experimental_group}\n",
    "    wall = Wall(underlying_data, c_attributes, d_attributes)\n",
    "    for i in tqdm(range(len(interaction_data.iloc[participant_index].interaction_session))):\n",
    "        interaction = interaction_data.iloc[participant_index].interaction_session[i]\n",
    "        interaction_d = pd.DataFrame(data=underlying_data.iloc[interaction].to_dict(), index=[i])\n",
    "        wall.update(interaction_d)\n",
    "\n",
    "    bias = wall.get_attribute_bias()\n",
    "    for col in bias.columns:\n",
    "        results[f'bias-{col}'] = bias[col].to_numpy()\n",
    "    if 'latitude' in bias.columns:\n",
    "        results['bias-latitude___longitude'] = results['bias-latitude'] * results['bias-longitude']\n",
    "    \n",
    "    wall_results = wall_results.append(results, ignore_index=True)\n",
    "    \n",
    "wall_results.to_pickle(output_file_path)"
   ]
  },
  {
   "cell_type": "code",
   "execution_count": null,
   "id": "8e0b34fe",
   "metadata": {},
   "outputs": [],
   "source": []
  }
 ],
 "metadata": {
  "kernelspec": {
   "display_name": "Python 3",
   "language": "python",
   "name": "python3"
  },
  "language_info": {
   "codemirror_mode": {
    "name": "ipython",
    "version": 3
   },
   "file_extension": ".py",
   "mimetype": "text/x-python",
   "name": "python",
   "nbconvert_exporter": "python",
   "pygments_lexer": "ipython3",
   "version": "3.8.8"
  }
 },
 "nbformat": 4,
 "nbformat_minor": 5
}

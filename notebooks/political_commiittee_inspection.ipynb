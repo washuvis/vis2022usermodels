{
 "cells": [
  {
   "cell_type": "code",
   "execution_count": 17,
   "id": "523c4267",
   "metadata": {},
   "outputs": [],
   "source": [
    "import sys\n",
    "sys.path.append('../implementation')\n",
    "import numpy as np\n",
    "import pandas as pd\n",
    "import ast\n",
    "from tqdm import tqdm\n",
    "import pandas as pd\n",
    "import numpy as np\n",
    "import matplotlib.pyplot as plt\n",
    "import scipy.special as sp\n",
    "import time\n",
    "from util import flatten_list\n",
    "from ottley_hidden_markov_model import HMM"
   ]
  },
  {
   "cell_type": "code",
   "execution_count": 26,
   "id": "6e6f020c",
   "metadata": {},
   "outputs": [],
   "source": [
    "underlying_data = pd.read_csv('../data/political/final/political.csv')\n",
    "clean_id = [s.replace(\"p\", \"\") for s in underlying_data['id']]\n",
    "clean_id = [int(s.lstrip('0')) - 1 for s in clean_id]\n",
    "underlying_data['id'] = clean_id\n",
    "underlying_data = underlying_data.set_index('id')\n",
    "output_file_path = '../output/political/political_hmm.pkl'\n",
    "\n",
    "interaction_data = pd.read_csv('../data/political/final/wall_political_interactions.csv')\n",
    "interaction_data['interaction_session'] = interaction_data.apply(lambda row: ast.literal_eval(row.interaction_session), axis=1)\n",
    "interaction_data['interaction_type'] = interaction_data.apply(lambda row: ast.literal_eval(row.interaction_type), axis=1)\n",
    "c_attrs = ['age', 'political_experience', 'policy_strength_ban_abortion_after_6_weeks', \n",
    "           'policy_strength_legalize_medical_marijuana', 'policy_strength_increase_medicare_funding',\n",
    "          'policy_strength_ban_alcohol_sales_sundays']\n",
    "d_attrs = ['party', 'gender', 'occupation']\n",
    "ks = [1, 5, 10, 20, 50, 100]"
   ]
  },
  {
   "cell_type": "code",
   "execution_count": 27,
   "id": "9da9a2ab",
   "metadata": {},
   "outputs": [
    {
     "data": {
      "text/html": [
       "<div>\n",
       "<style scoped>\n",
       "    .dataframe tbody tr th:only-of-type {\n",
       "        vertical-align: middle;\n",
       "    }\n",
       "\n",
       "    .dataframe tbody tr th {\n",
       "        vertical-align: top;\n",
       "    }\n",
       "\n",
       "    .dataframe thead th {\n",
       "        text-align: right;\n",
       "    }\n",
       "</style>\n",
       "<table border=\"1\" class=\"dataframe\">\n",
       "  <thead>\n",
       "    <tr style=\"text-align: right;\">\n",
       "      <th></th>\n",
       "      <th>party</th>\n",
       "      <th>gender</th>\n",
       "      <th>first_name</th>\n",
       "      <th>last_name</th>\n",
       "      <th>occupation</th>\n",
       "      <th>age</th>\n",
       "      <th>political_experience</th>\n",
       "      <th>policy_strength_ban_abortion_after_6_weeks</th>\n",
       "      <th>policy_strength_legalize_medical_marijuana</th>\n",
       "      <th>policy_strength_increase_medicare_funding</th>\n",
       "      <th>policy_strength_ban_alcohol_sales_sundays</th>\n",
       "    </tr>\n",
       "    <tr>\n",
       "      <th>id</th>\n",
       "      <th></th>\n",
       "      <th></th>\n",
       "      <th></th>\n",
       "      <th></th>\n",
       "      <th></th>\n",
       "      <th></th>\n",
       "      <th></th>\n",
       "      <th></th>\n",
       "      <th></th>\n",
       "      <th></th>\n",
       "      <th></th>\n",
       "    </tr>\n",
       "  </thead>\n",
       "  <tbody>\n",
       "    <tr>\n",
       "      <th>128</th>\n",
       "      <td>Democrat</td>\n",
       "      <td>Female</td>\n",
       "      <td>Theda</td>\n",
       "      <td>Kim</td>\n",
       "      <td>Doctor</td>\n",
       "      <td>60</td>\n",
       "      <td>9</td>\n",
       "      <td>-3</td>\n",
       "      <td>-1</td>\n",
       "      <td>2</td>\n",
       "      <td>-3</td>\n",
       "    </tr>\n",
       "    <tr>\n",
       "      <th>49</th>\n",
       "      <td>Democrat</td>\n",
       "      <td>Female</td>\n",
       "      <td>Barbara</td>\n",
       "      <td>Oleary</td>\n",
       "      <td>Lawyer</td>\n",
       "      <td>60</td>\n",
       "      <td>9</td>\n",
       "      <td>-3</td>\n",
       "      <td>0</td>\n",
       "      <td>2</td>\n",
       "      <td>-3</td>\n",
       "    </tr>\n",
       "    <tr>\n",
       "      <th>73</th>\n",
       "      <td>Democrat</td>\n",
       "      <td>Female</td>\n",
       "      <td>Jill</td>\n",
       "      <td>Brunson</td>\n",
       "      <td>Career Politician</td>\n",
       "      <td>65</td>\n",
       "      <td>10</td>\n",
       "      <td>-3</td>\n",
       "      <td>0</td>\n",
       "      <td>2</td>\n",
       "      <td>-3</td>\n",
       "    </tr>\n",
       "    <tr>\n",
       "      <th>80</th>\n",
       "      <td>Democrat</td>\n",
       "      <td>Female</td>\n",
       "      <td>Debra</td>\n",
       "      <td>Thomas</td>\n",
       "      <td>Scientist</td>\n",
       "      <td>51</td>\n",
       "      <td>9</td>\n",
       "      <td>-3</td>\n",
       "      <td>0</td>\n",
       "      <td>2</td>\n",
       "      <td>-3</td>\n",
       "    </tr>\n",
       "    <tr>\n",
       "      <th>168</th>\n",
       "      <td>Democrat</td>\n",
       "      <td>Male</td>\n",
       "      <td>Ralph</td>\n",
       "      <td>Odell</td>\n",
       "      <td>Business</td>\n",
       "      <td>56</td>\n",
       "      <td>7</td>\n",
       "      <td>-3</td>\n",
       "      <td>1</td>\n",
       "      <td>0</td>\n",
       "      <td>-3</td>\n",
       "    </tr>\n",
       "    <tr>\n",
       "      <th>...</th>\n",
       "      <td>...</td>\n",
       "      <td>...</td>\n",
       "      <td>...</td>\n",
       "      <td>...</td>\n",
       "      <td>...</td>\n",
       "      <td>...</td>\n",
       "      <td>...</td>\n",
       "      <td>...</td>\n",
       "      <td>...</td>\n",
       "      <td>...</td>\n",
       "      <td>...</td>\n",
       "    </tr>\n",
       "    <tr>\n",
       "      <th>48</th>\n",
       "      <td>Republican</td>\n",
       "      <td>Male</td>\n",
       "      <td>Anthony</td>\n",
       "      <td>Luce</td>\n",
       "      <td>Lawyer</td>\n",
       "      <td>75</td>\n",
       "      <td>6</td>\n",
       "      <td>3</td>\n",
       "      <td>-2</td>\n",
       "      <td>-1</td>\n",
       "      <td>3</td>\n",
       "    </tr>\n",
       "    <tr>\n",
       "      <th>151</th>\n",
       "      <td>Republican</td>\n",
       "      <td>Female</td>\n",
       "      <td>Barbara</td>\n",
       "      <td>Bechtel</td>\n",
       "      <td>Business</td>\n",
       "      <td>51</td>\n",
       "      <td>5</td>\n",
       "      <td>3</td>\n",
       "      <td>-2</td>\n",
       "      <td>-1</td>\n",
       "      <td>3</td>\n",
       "    </tr>\n",
       "    <tr>\n",
       "      <th>114</th>\n",
       "      <td>Republican</td>\n",
       "      <td>Male</td>\n",
       "      <td>Dallas</td>\n",
       "      <td>Rudy</td>\n",
       "      <td>Career Politician</td>\n",
       "      <td>58</td>\n",
       "      <td>8</td>\n",
       "      <td>3</td>\n",
       "      <td>-2</td>\n",
       "      <td>-1</td>\n",
       "      <td>3</td>\n",
       "    </tr>\n",
       "    <tr>\n",
       "      <th>172</th>\n",
       "      <td>Republican</td>\n",
       "      <td>Female</td>\n",
       "      <td>Barbara</td>\n",
       "      <td>Sells</td>\n",
       "      <td>Career Politician</td>\n",
       "      <td>61</td>\n",
       "      <td>12</td>\n",
       "      <td>3</td>\n",
       "      <td>-2</td>\n",
       "      <td>0</td>\n",
       "      <td>3</td>\n",
       "    </tr>\n",
       "    <tr>\n",
       "      <th>33</th>\n",
       "      <td>Republican</td>\n",
       "      <td>Male</td>\n",
       "      <td>Dana</td>\n",
       "      <td>Reynolds</td>\n",
       "      <td>Business</td>\n",
       "      <td>63</td>\n",
       "      <td>8</td>\n",
       "      <td>3</td>\n",
       "      <td>0</td>\n",
       "      <td>-1</td>\n",
       "      <td>3</td>\n",
       "    </tr>\n",
       "  </tbody>\n",
       "</table>\n",
       "<p>180 rows × 11 columns</p>\n",
       "</div>"
      ],
      "text/plain": [
       "          party  gender first_name last_name         occupation  age  \\\n",
       "id                                                                     \n",
       "128    Democrat  Female      Theda       Kim             Doctor   60   \n",
       "49     Democrat  Female    Barbara    Oleary             Lawyer   60   \n",
       "73     Democrat  Female       Jill   Brunson  Career Politician   65   \n",
       "80     Democrat  Female      Debra    Thomas          Scientist   51   \n",
       "168    Democrat    Male      Ralph     Odell           Business   56   \n",
       "..          ...     ...        ...       ...                ...  ...   \n",
       "48   Republican    Male    Anthony      Luce             Lawyer   75   \n",
       "151  Republican  Female    Barbara   Bechtel           Business   51   \n",
       "114  Republican    Male     Dallas      Rudy  Career Politician   58   \n",
       "172  Republican  Female    Barbara     Sells  Career Politician   61   \n",
       "33   Republican    Male       Dana  Reynolds           Business   63   \n",
       "\n",
       "     political_experience  policy_strength_ban_abortion_after_6_weeks  \\\n",
       "id                                                                      \n",
       "128                     9                                          -3   \n",
       "49                      9                                          -3   \n",
       "73                     10                                          -3   \n",
       "80                      9                                          -3   \n",
       "168                     7                                          -3   \n",
       "..                    ...                                         ...   \n",
       "48                      6                                           3   \n",
       "151                     5                                           3   \n",
       "114                     8                                           3   \n",
       "172                    12                                           3   \n",
       "33                      8                                           3   \n",
       "\n",
       "     policy_strength_legalize_medical_marijuana  \\\n",
       "id                                                \n",
       "128                                          -1   \n",
       "49                                            0   \n",
       "73                                            0   \n",
       "80                                            0   \n",
       "168                                           1   \n",
       "..                                          ...   \n",
       "48                                           -2   \n",
       "151                                          -2   \n",
       "114                                          -2   \n",
       "172                                          -2   \n",
       "33                                            0   \n",
       "\n",
       "     policy_strength_increase_medicare_funding  \\\n",
       "id                                               \n",
       "128                                          2   \n",
       "49                                           2   \n",
       "73                                           2   \n",
       "80                                           2   \n",
       "168                                          0   \n",
       "..                                         ...   \n",
       "48                                          -1   \n",
       "151                                         -1   \n",
       "114                                         -1   \n",
       "172                                          0   \n",
       "33                                          -1   \n",
       "\n",
       "     policy_strength_ban_alcohol_sales_sundays  \n",
       "id                                              \n",
       "128                                         -3  \n",
       "49                                          -3  \n",
       "73                                          -3  \n",
       "80                                          -3  \n",
       "168                                         -3  \n",
       "..                                         ...  \n",
       "48                                           3  \n",
       "151                                          3  \n",
       "114                                          3  \n",
       "172                                          3  \n",
       "33                                           3  \n",
       "\n",
       "[180 rows x 11 columns]"
      ]
     },
     "execution_count": 27,
     "metadata": {},
     "output_type": "execute_result"
    }
   ],
   "source": [
    "underlying_data"
   ]
  },
  {
   "cell_type": "code",
   "execution_count": 29,
   "id": "d624cd4c",
   "metadata": {},
   "outputs": [
    {
     "name": "stdout",
     "output_type": "stream",
     "text": [
      "Processing user lPpxNz1aVtYh\n",
      "Processing user xrOuOynQhVbO\n",
      "Processing user 6oheLF74hlXc\n",
      "Processing user 8cPi4CoiSpNN\n",
      "Processing user hoMzF8Cf1Y5j\n",
      "Processing user gPCb7Uy0pEM0\n",
      "Processing user 3Sp3rSvqFsh6\n",
      "Processing user qFIltQnZAor7\n",
      "Processing user CnOeEROhOZaX\n",
      "Processing user 8D64yb05oRDt\n",
      "Processing user r9cpBWj7l0iV\n",
      "Processing user ZY1tfYLxtiya\n"
     ]
    }
   ],
   "source": [
    "bookmarks_per_user = {}\n",
    "committees_per_user = {\n",
    "    'ZY1tfYLxtiya': [81, 140, 12, 35, 70, 115, 50, 30, 42, 2],\n",
    "    'r9cpBWj7l0iV': [59, 12, 138, 26, 94, 115, 106, 139, 39, 74],\n",
    "    '8D64yb05oRDt': [86, 81, 140, 13, 30, 35, 42, 12, 3, 119],\n",
    "    'CnOeEROhOZaX': [29, 58, 36, 119, 141, 122, 50, 105, 72, 70],\n",
    "    'qFIltQnZAor7': [65, 105, 50, 92, 116, 58, 23, 70, 93, 119],\n",
    "    'gPCb7Uy0pEM0': [80, 94, 3, 98, 122, 0, 141, 12, 23, 105],\n",
    "    '6oheLF74hlXc': [141, 105, 22, 93, 115, 88, 122, 21, 5, 57],\n",
    "    'xrOuOynQhVbO': [93, 73, 6, 72, 64, 102, 11, 119, 99, 78],\n",
    "    'lPpxNz1aVtYh': [42, 2, 122, 105, 119, 78, 20, 140, 65, 141],\n",
    "    '8cPi4CoiSpNN': [130, 42, 2, 141, 134, 36, 18, 59, 96, 58],\n",
    "    'hoMzF8Cf1Y5j': [70, 81, 42, 92, 50, 134, 115, 86, 17, 2],\n",
    "    '3Sp3rSvqFsh6': [12, 50, 140, 35, 46, 122, 36, 86, 70, 42]\n",
    "}\n",
    "\n",
    "for participant_index, row in interaction_data.iterrows():\n",
    "    print(f'Processing user {row.user}')\n",
    "    interactions = interaction_data.loc[participant_index].interaction_session\n",
    "    bookmarks_per_user[row.user] = underlying_data.loc[interactions].copy()\n",
    "    bookmarks_per_user[row.user]['in_committee'] = bookmarks_per_user[row.user].apply(lambda r: r.name in committees_per_user[row.user], axis=1)\n",
    "    \n"
   ]
  },
  {
   "cell_type": "code",
   "execution_count": 33,
   "id": "86e11afc",
   "metadata": {},
   "outputs": [],
   "source": [
    "for i in bookmarks_per_user:\n",
    "    bookmarks_per_user[i].to_csv(f'../output/political/session_bookmarks/{i}.csv')"
   ]
  },
  {
   "cell_type": "code",
   "execution_count": 35,
   "id": "ce9f60da",
   "metadata": {},
   "outputs": [],
   "source": [
    "import numpy as np\n",
    "import matplotlib.pyplot as plt\n",
    "\n",
    "plt.style.use('ggplot')"
   ]
  },
  {
   "cell_type": "code",
   "execution_count": 46,
   "id": "12534939",
   "metadata": {},
   "outputs": [
    {
     "data": {
      "text/plain": [
       "array([[<AxesSubplot:title={'center':'age'}>,\n",
       "        <AxesSubplot:title={'center':'political_experience'}>],\n",
       "       [<AxesSubplot:title={'center':'policy_strength_ban_abortion_after_6_weeks'}>,\n",
       "        <AxesSubplot:title={'center':'policy_strength_legalize_medical_marijuana'}>],\n",
       "       [<AxesSubplot:title={'center':'policy_strength_increase_medicare_funding'}>,\n",
       "        <AxesSubplot:title={'center':'policy_strength_ban_alcohol_sales_sundays'}>]],\n",
       "      dtype=object)"
      ]
     },
     "execution_count": 46,
     "metadata": {},
     "output_type": "execute_result"
    },
    {
     "data": {
      "image/png": "[encoded data removed]",
      "text/plain": [
       "<Figure size 921.6x864 with 6 Axes>"
      ]
     },
     "metadata": {},
     "output_type": "display_data"
    }
   ],
   "source": [
    "underlying_data.hist(figsize=(2*6.4, 3*4))"
   ]
  },
  {
   "cell_type": "code",
   "execution_count": 50,
   "id": "34320b54",
   "metadata": {},
   "outputs": [
    {
     "data": {
      "text/plain": [
       "Text(0.5, 1.0, 'party')"
      ]
     },
     "execution_count": 50,
     "metadata": {},
     "output_type": "execute_result"
    },
    {
     "data": {
      "image/png": "[encoded data removed]",
      "text/plain": [
       "<Figure size 460.8x288 with 1 Axes>"
      ]
     },
     "metadata": {},
     "output_type": "display_data"
    }
   ],
   "source": [
    "underlying_data.party.hist(figsize=(1*6.4, 1*4))\n",
    "plt.title('party')"
   ]
  },
  {
   "cell_type": "code",
   "execution_count": 51,
   "id": "76c42135",
   "metadata": {},
   "outputs": [
    {
     "data": {
      "text/plain": [
       "Text(0.5, 1.0, 'gender')"
      ]
     },
     "execution_count": 51,
     "metadata": {},
     "output_type": "execute_result"
    },
    {
     "data": {
      "image/png": "[encoded data removed]",
      "text/plain": [
       "<Figure size 460.8x288 with 1 Axes>"
      ]
     },
     "metadata": {},
     "output_type": "display_data"
    }
   ],
   "source": [
    "underlying_data.gender.hist(figsize=(1*6.4, 1*4))\n",
    "plt.title('gender')"
   ]
  },
  {
   "cell_type": "code",
   "execution_count": 52,
   "id": "b887cbc2",
   "metadata": {},
   "outputs": [
    {
     "data": {
      "text/plain": [
       "Text(0.5, 1.0, 'occupation')"
      ]
     },
     "execution_count": 52,
     "metadata": {},
     "output_type": "execute_result"
    },
    {
     "data": {
      "image/png": "[encoded data removed]",
      "text/plain": [
       "<Figure size 460.8x288 with 1 Axes>"
      ]
     },
     "metadata": {},
     "output_type": "display_data"
    }
   ],
   "source": [
    "underlying_data.occupation.hist(figsize=(1*6.4, 1*4))\n",
    "plt.title('occupation')"
   ]
  },
  {
   "cell_type": "code",
   "execution_count": null,
   "id": "dbe3f325",
   "metadata": {},
   "outputs": [],
   "source": []
  }
 ],
 "metadata": {
  "kernelspec": {
   "display_name": "Python 3",
   "language": "python",
   "name": "python3"
  },
  "language_info": {
   "codemirror_mode": {
    "name": "ipython",
    "version": 3
   },
   "file_extension": ".py",
   "mimetype": "text/x-python",
   "name": "python",
   "nbconvert_exporter": "python",
   "pygments_lexer": "ipython3",
   "version": "3.8.8"
  }
 },
 "nbformat": 4,
 "nbformat_minor": 5
}
